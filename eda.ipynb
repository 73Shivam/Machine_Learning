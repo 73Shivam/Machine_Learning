{
 "cells": [
  {
   "cell_type": "code",
   "execution_count": 1,
   "metadata": {},
   "outputs": [],
   "source": [
    "import pandas as pd\n",
    "import numpy as np\n",
    "import matplotlib.pyplot as plt\n",
    "import seaborn as sns\n",
    "import os"
   ]
  },
  {
   "cell_type": "code",
   "execution_count": 2,
   "metadata": {},
   "outputs": [
    {
     "output_type": "execute_result",
     "data": {
      "text/plain": "   symboling  normalized-losses         make fuel-type aspiration  \\\n0          3                122  alfa-romero       gas        std   \n1          3                122  alfa-romero       gas        std   \n2          1                122  alfa-romero       gas        std   \n3          2                164         audi       gas        std   \n4          2                164         audi       gas        std   \n\n  num-of-doors   body-style drive-wheels engine-location  wheel-base  ...  \\\n0          two  convertible          rwd           front        88.6  ...   \n1          two  convertible          rwd           front        88.6  ...   \n2          two    hatchback          rwd           front        94.5  ...   \n3         four        sedan          fwd           front        99.8  ...   \n4         four        sedan          4wd           front        99.4  ...   \n\n   engine-size  fuel-system  bore  stroke compression-ratio horsepower  \\\n0          130         mpfi  3.47    2.68               9.0        111   \n1          130         mpfi  3.47    2.68               9.0        111   \n2          152         mpfi  2.68    3.47               9.0        154   \n3          109         mpfi  3.19    3.40              10.0        102   \n4          136         mpfi  3.19    3.40               8.0        115   \n\n   peak-rpm city-mpg  highway-mpg  price  \n0      5000       21           27  13495  \n1      5000       21           27  16500  \n2      5000       19           26  16500  \n3      5500       24           30  13950  \n4      5500       18           22  17450  \n\n[5 rows x 26 columns]",
      "text/html": "<div>\n<style scoped>\n    .dataframe tbody tr th:only-of-type {\n        vertical-align: middle;\n    }\n\n    .dataframe tbody tr th {\n        vertical-align: top;\n    }\n\n    .dataframe thead th {\n        text-align: right;\n    }\n</style>\n<table border=\"1\" class=\"dataframe\">\n  <thead>\n    <tr style=\"text-align: right;\">\n      <th></th>\n      <th>symboling</th>\n      <th>normalized-losses</th>\n      <th>make</th>\n      <th>fuel-type</th>\n      <th>aspiration</th>\n      <th>num-of-doors</th>\n      <th>body-style</th>\n      <th>drive-wheels</th>\n      <th>engine-location</th>\n      <th>wheel-base</th>\n      <th>...</th>\n      <th>engine-size</th>\n      <th>fuel-system</th>\n      <th>bore</th>\n      <th>stroke</th>\n      <th>compression-ratio</th>\n      <th>horsepower</th>\n      <th>peak-rpm</th>\n      <th>city-mpg</th>\n      <th>highway-mpg</th>\n      <th>price</th>\n    </tr>\n  </thead>\n  <tbody>\n    <tr>\n      <th>0</th>\n      <td>3</td>\n      <td>122</td>\n      <td>alfa-romero</td>\n      <td>gas</td>\n      <td>std</td>\n      <td>two</td>\n      <td>convertible</td>\n      <td>rwd</td>\n      <td>front</td>\n      <td>88.6</td>\n      <td>...</td>\n      <td>130</td>\n      <td>mpfi</td>\n      <td>3.47</td>\n      <td>2.68</td>\n      <td>9.0</td>\n      <td>111</td>\n      <td>5000</td>\n      <td>21</td>\n      <td>27</td>\n      <td>13495</td>\n    </tr>\n    <tr>\n      <th>1</th>\n      <td>3</td>\n      <td>122</td>\n      <td>alfa-romero</td>\n      <td>gas</td>\n      <td>std</td>\n      <td>two</td>\n      <td>convertible</td>\n      <td>rwd</td>\n      <td>front</td>\n      <td>88.6</td>\n      <td>...</td>\n      <td>130</td>\n      <td>mpfi</td>\n      <td>3.47</td>\n      <td>2.68</td>\n      <td>9.0</td>\n      <td>111</td>\n      <td>5000</td>\n      <td>21</td>\n      <td>27</td>\n      <td>16500</td>\n    </tr>\n    <tr>\n      <th>2</th>\n      <td>1</td>\n      <td>122</td>\n      <td>alfa-romero</td>\n      <td>gas</td>\n      <td>std</td>\n      <td>two</td>\n      <td>hatchback</td>\n      <td>rwd</td>\n      <td>front</td>\n      <td>94.5</td>\n      <td>...</td>\n      <td>152</td>\n      <td>mpfi</td>\n      <td>2.68</td>\n      <td>3.47</td>\n      <td>9.0</td>\n      <td>154</td>\n      <td>5000</td>\n      <td>19</td>\n      <td>26</td>\n      <td>16500</td>\n    </tr>\n    <tr>\n      <th>3</th>\n      <td>2</td>\n      <td>164</td>\n      <td>audi</td>\n      <td>gas</td>\n      <td>std</td>\n      <td>four</td>\n      <td>sedan</td>\n      <td>fwd</td>\n      <td>front</td>\n      <td>99.8</td>\n      <td>...</td>\n      <td>109</td>\n      <td>mpfi</td>\n      <td>3.19</td>\n      <td>3.40</td>\n      <td>10.0</td>\n      <td>102</td>\n      <td>5500</td>\n      <td>24</td>\n      <td>30</td>\n      <td>13950</td>\n    </tr>\n    <tr>\n      <th>4</th>\n      <td>2</td>\n      <td>164</td>\n      <td>audi</td>\n      <td>gas</td>\n      <td>std</td>\n      <td>four</td>\n      <td>sedan</td>\n      <td>4wd</td>\n      <td>front</td>\n      <td>99.4</td>\n      <td>...</td>\n      <td>136</td>\n      <td>mpfi</td>\n      <td>3.19</td>\n      <td>3.40</td>\n      <td>8.0</td>\n      <td>115</td>\n      <td>5500</td>\n      <td>18</td>\n      <td>22</td>\n      <td>17450</td>\n    </tr>\n  </tbody>\n</table>\n<p>5 rows × 26 columns</p>\n</div>"
     },
     "metadata": {},
     "execution_count": 2
    }
   ],
   "source": [
    "df = pd.read_csv('automobiles.csv',index_col=0)\n",
    "df.head()"
   ]
  },
  {
   "cell_type": "code",
   "execution_count": 3,
   "metadata": {},
   "outputs": [
    {
     "output_type": "stream",
     "name": "stdout",
     "text": "<class 'pandas.core.frame.DataFrame'>\nInt64Index: 201 entries, 0 to 204\nData columns (total 26 columns):\n #   Column             Non-Null Count  Dtype  \n---  ------             --------------  -----  \n 0   symboling          201 non-null    int64  \n 1   normalized-losses  201 non-null    int64  \n 2   make               201 non-null    object \n 3   fuel-type          201 non-null    object \n 4   aspiration         201 non-null    object \n 5   num-of-doors       201 non-null    object \n 6   body-style         201 non-null    object \n 7   drive-wheels       201 non-null    object \n 8   engine-location    201 non-null    object \n 9   wheel-base         201 non-null    float64\n 10  length             201 non-null    float64\n 11  width              201 non-null    float64\n 12  height             201 non-null    float64\n 13  curb-weight        201 non-null    int64  \n 14  engine-type        201 non-null    object \n 15  num-of-cylinders   201 non-null    object \n 16  engine-size        201 non-null    int64  \n 17  fuel-system        201 non-null    object \n 18  bore               201 non-null    float64\n 19  stroke             201 non-null    float64\n 20  compression-ratio  201 non-null    float64\n 21  horsepower         201 non-null    int64  \n 22  peak-rpm           201 non-null    int64  \n 23  city-mpg           201 non-null    int64  \n 24  highway-mpg        201 non-null    int64  \n 25  price              201 non-null    int64  \ndtypes: float64(7), int64(9), object(10)\nmemory usage: 42.4+ KB\n"
    }
   ],
   "source": [
    "df.info()"
   ]
  },
  {
   "cell_type": "markdown",
   "metadata": {},
   "source": [
    "#  Individual Feature Patterns using Visualization"
   ]
  },
  {
   "cell_type": "code",
   "execution_count": 4,
   "metadata": {},
   "outputs": [
    {
     "output_type": "execute_result",
     "data": {
      "text/plain": "                   symboling  normalized-losses  wheel-base    length  \\\nsymboling           1.000000           0.466264   -0.535987 -0.365404   \nnormalized-losses   0.466264           1.000000   -0.056661  0.019424   \nwheel-base         -0.535987          -0.056661    1.000000  0.876024   \nlength             -0.365404           0.019424    0.876024  1.000000   \nwidth              -0.242423           0.086802    0.814507  0.857170   \nheight             -0.550160          -0.373737    0.590742  0.492063   \ncurb-weight        -0.233118           0.099404    0.782097  0.880665   \nengine-size        -0.110581           0.112360    0.572027  0.685025   \nbore               -0.140019          -0.029862    0.493244  0.608971   \nstroke             -0.008153           0.055045    0.158018  0.123952   \ncompression-ratio  -0.182196          -0.114713    0.250313  0.159733   \nhorsepower          0.075810           0.217300    0.371178  0.579795   \npeak-rpm            0.279739           0.239544   -0.360301 -0.285973   \ncity-mpg           -0.035527          -0.225016   -0.470606 -0.665192   \nhighway-mpg         0.036233          -0.181877   -0.543304 -0.698142   \nprice              -0.082391           0.133999    0.584642  0.690628   \n\n                      width    height  curb-weight  engine-size      bore  \\\nsymboling         -0.242423 -0.550160    -0.233118    -0.110581 -0.140019   \nnormalized-losses  0.086802 -0.373737     0.099404     0.112360 -0.029862   \nwheel-base         0.814507  0.590742     0.782097     0.572027  0.493244   \nlength             0.857170  0.492063     0.880665     0.685025  0.608971   \nwidth              1.000000  0.306002     0.866201     0.729436  0.544885   \nheight             0.306002  1.000000     0.307581     0.074694  0.180449   \ncurb-weight        0.866201  0.307581     1.000000     0.849072  0.644060   \nengine-size        0.729436  0.074694     0.849072     1.000000  0.572609   \nbore               0.544885  0.180449     0.644060     0.572609  1.000000   \nstroke             0.188822 -0.060663     0.167438     0.205928 -0.055390   \ncompression-ratio  0.189867  0.259737     0.156433     0.028889  0.001263   \nhorsepower         0.615056 -0.087001     0.757981     0.822668  0.566903   \npeak-rpm          -0.245803 -0.309971    -0.279360    -0.256734 -0.267395   \ncity-mpg          -0.633531 -0.049800    -0.749543    -0.650546 -0.582027   \nhighway-mpg       -0.680635 -0.104812    -0.794889    -0.679571 -0.591309   \nprice              0.751265  0.135486     0.834415     0.872335  0.543155   \n\n                     stroke  compression-ratio  horsepower  peak-rpm  \\\nsymboling         -0.008153          -0.182196    0.075810  0.279739   \nnormalized-losses  0.055045          -0.114713    0.217300  0.239544   \nwheel-base         0.158018           0.250313    0.371178 -0.360301   \nlength             0.123952           0.159733    0.579795 -0.285973   \nwidth              0.188822           0.189867    0.615056 -0.245803   \nheight            -0.060663           0.259737   -0.087001 -0.309971   \ncurb-weight        0.167438           0.156433    0.757981 -0.279360   \nengine-size        0.205928           0.028889    0.822668 -0.256734   \nbore              -0.055390           0.001263    0.566903 -0.267395   \nstroke             1.000000           0.187871    0.098128 -0.063577   \ncompression-ratio  0.187871           1.000000   -0.214489 -0.435777   \nhorsepower         0.098128          -0.214489    1.000000  0.107884   \npeak-rpm          -0.063577          -0.435777    0.107884  1.000000   \ncity-mpg          -0.033956           0.331425   -0.822192 -0.115410   \nhighway-mpg       -0.034636           0.268465   -0.804579 -0.058598   \nprice              0.082269           0.071107    0.809607 -0.101612   \n\n                   city-mpg  highway-mpg     price  \nsymboling         -0.035527     0.036233 -0.082391  \nnormalized-losses -0.225016    -0.181877  0.133999  \nwheel-base        -0.470606    -0.543304  0.584642  \nlength            -0.665192    -0.698142  0.690628  \nwidth             -0.633531    -0.680635  0.751265  \nheight            -0.049800    -0.104812  0.135486  \ncurb-weight       -0.749543    -0.794889  0.834415  \nengine-size       -0.650546    -0.679571  0.872335  \nbore              -0.582027    -0.591309  0.543155  \nstroke            -0.033956    -0.034636  0.082269  \ncompression-ratio  0.331425     0.268465  0.071107  \nhorsepower        -0.822192    -0.804579  0.809607  \npeak-rpm          -0.115410    -0.058598 -0.101612  \ncity-mpg           1.000000     0.972044 -0.686571  \nhighway-mpg        0.972044     1.000000 -0.704692  \nprice             -0.686571    -0.704692  1.000000  ",
      "text/html": "<div>\n<style scoped>\n    .dataframe tbody tr th:only-of-type {\n        vertical-align: middle;\n    }\n\n    .dataframe tbody tr th {\n        vertical-align: top;\n    }\n\n    .dataframe thead th {\n        text-align: right;\n    }\n</style>\n<table border=\"1\" class=\"dataframe\">\n  <thead>\n    <tr style=\"text-align: right;\">\n      <th></th>\n      <th>symboling</th>\n      <th>normalized-losses</th>\n      <th>wheel-base</th>\n      <th>length</th>\n      <th>width</th>\n      <th>height</th>\n      <th>curb-weight</th>\n      <th>engine-size</th>\n      <th>bore</th>\n      <th>stroke</th>\n      <th>compression-ratio</th>\n      <th>horsepower</th>\n      <th>peak-rpm</th>\n      <th>city-mpg</th>\n      <th>highway-mpg</th>\n      <th>price</th>\n    </tr>\n  </thead>\n  <tbody>\n    <tr>\n      <th>symboling</th>\n      <td>1.000000</td>\n      <td>0.466264</td>\n      <td>-0.535987</td>\n      <td>-0.365404</td>\n      <td>-0.242423</td>\n      <td>-0.550160</td>\n      <td>-0.233118</td>\n      <td>-0.110581</td>\n      <td>-0.140019</td>\n      <td>-0.008153</td>\n      <td>-0.182196</td>\n      <td>0.075810</td>\n      <td>0.279739</td>\n      <td>-0.035527</td>\n      <td>0.036233</td>\n      <td>-0.082391</td>\n    </tr>\n    <tr>\n      <th>normalized-losses</th>\n      <td>0.466264</td>\n      <td>1.000000</td>\n      <td>-0.056661</td>\n      <td>0.019424</td>\n      <td>0.086802</td>\n      <td>-0.373737</td>\n      <td>0.099404</td>\n      <td>0.112360</td>\n      <td>-0.029862</td>\n      <td>0.055045</td>\n      <td>-0.114713</td>\n      <td>0.217300</td>\n      <td>0.239544</td>\n      <td>-0.225016</td>\n      <td>-0.181877</td>\n      <td>0.133999</td>\n    </tr>\n    <tr>\n      <th>wheel-base</th>\n      <td>-0.535987</td>\n      <td>-0.056661</td>\n      <td>1.000000</td>\n      <td>0.876024</td>\n      <td>0.814507</td>\n      <td>0.590742</td>\n      <td>0.782097</td>\n      <td>0.572027</td>\n      <td>0.493244</td>\n      <td>0.158018</td>\n      <td>0.250313</td>\n      <td>0.371178</td>\n      <td>-0.360301</td>\n      <td>-0.470606</td>\n      <td>-0.543304</td>\n      <td>0.584642</td>\n    </tr>\n    <tr>\n      <th>length</th>\n      <td>-0.365404</td>\n      <td>0.019424</td>\n      <td>0.876024</td>\n      <td>1.000000</td>\n      <td>0.857170</td>\n      <td>0.492063</td>\n      <td>0.880665</td>\n      <td>0.685025</td>\n      <td>0.608971</td>\n      <td>0.123952</td>\n      <td>0.159733</td>\n      <td>0.579795</td>\n      <td>-0.285973</td>\n      <td>-0.665192</td>\n      <td>-0.698142</td>\n      <td>0.690628</td>\n    </tr>\n    <tr>\n      <th>width</th>\n      <td>-0.242423</td>\n      <td>0.086802</td>\n      <td>0.814507</td>\n      <td>0.857170</td>\n      <td>1.000000</td>\n      <td>0.306002</td>\n      <td>0.866201</td>\n      <td>0.729436</td>\n      <td>0.544885</td>\n      <td>0.188822</td>\n      <td>0.189867</td>\n      <td>0.615056</td>\n      <td>-0.245803</td>\n      <td>-0.633531</td>\n      <td>-0.680635</td>\n      <td>0.751265</td>\n    </tr>\n    <tr>\n      <th>height</th>\n      <td>-0.550160</td>\n      <td>-0.373737</td>\n      <td>0.590742</td>\n      <td>0.492063</td>\n      <td>0.306002</td>\n      <td>1.000000</td>\n      <td>0.307581</td>\n      <td>0.074694</td>\n      <td>0.180449</td>\n      <td>-0.060663</td>\n      <td>0.259737</td>\n      <td>-0.087001</td>\n      <td>-0.309971</td>\n      <td>-0.049800</td>\n      <td>-0.104812</td>\n      <td>0.135486</td>\n    </tr>\n    <tr>\n      <th>curb-weight</th>\n      <td>-0.233118</td>\n      <td>0.099404</td>\n      <td>0.782097</td>\n      <td>0.880665</td>\n      <td>0.866201</td>\n      <td>0.307581</td>\n      <td>1.000000</td>\n      <td>0.849072</td>\n      <td>0.644060</td>\n      <td>0.167438</td>\n      <td>0.156433</td>\n      <td>0.757981</td>\n      <td>-0.279360</td>\n      <td>-0.749543</td>\n      <td>-0.794889</td>\n      <td>0.834415</td>\n    </tr>\n    <tr>\n      <th>engine-size</th>\n      <td>-0.110581</td>\n      <td>0.112360</td>\n      <td>0.572027</td>\n      <td>0.685025</td>\n      <td>0.729436</td>\n      <td>0.074694</td>\n      <td>0.849072</td>\n      <td>1.000000</td>\n      <td>0.572609</td>\n      <td>0.205928</td>\n      <td>0.028889</td>\n      <td>0.822668</td>\n      <td>-0.256734</td>\n      <td>-0.650546</td>\n      <td>-0.679571</td>\n      <td>0.872335</td>\n    </tr>\n    <tr>\n      <th>bore</th>\n      <td>-0.140019</td>\n      <td>-0.029862</td>\n      <td>0.493244</td>\n      <td>0.608971</td>\n      <td>0.544885</td>\n      <td>0.180449</td>\n      <td>0.644060</td>\n      <td>0.572609</td>\n      <td>1.000000</td>\n      <td>-0.055390</td>\n      <td>0.001263</td>\n      <td>0.566903</td>\n      <td>-0.267395</td>\n      <td>-0.582027</td>\n      <td>-0.591309</td>\n      <td>0.543155</td>\n    </tr>\n    <tr>\n      <th>stroke</th>\n      <td>-0.008153</td>\n      <td>0.055045</td>\n      <td>0.158018</td>\n      <td>0.123952</td>\n      <td>0.188822</td>\n      <td>-0.060663</td>\n      <td>0.167438</td>\n      <td>0.205928</td>\n      <td>-0.055390</td>\n      <td>1.000000</td>\n      <td>0.187871</td>\n      <td>0.098128</td>\n      <td>-0.063577</td>\n      <td>-0.033956</td>\n      <td>-0.034636</td>\n      <td>0.082269</td>\n    </tr>\n    <tr>\n      <th>compression-ratio</th>\n      <td>-0.182196</td>\n      <td>-0.114713</td>\n      <td>0.250313</td>\n      <td>0.159733</td>\n      <td>0.189867</td>\n      <td>0.259737</td>\n      <td>0.156433</td>\n      <td>0.028889</td>\n      <td>0.001263</td>\n      <td>0.187871</td>\n      <td>1.000000</td>\n      <td>-0.214489</td>\n      <td>-0.435777</td>\n      <td>0.331425</td>\n      <td>0.268465</td>\n      <td>0.071107</td>\n    </tr>\n    <tr>\n      <th>horsepower</th>\n      <td>0.075810</td>\n      <td>0.217300</td>\n      <td>0.371178</td>\n      <td>0.579795</td>\n      <td>0.615056</td>\n      <td>-0.087001</td>\n      <td>0.757981</td>\n      <td>0.822668</td>\n      <td>0.566903</td>\n      <td>0.098128</td>\n      <td>-0.214489</td>\n      <td>1.000000</td>\n      <td>0.107884</td>\n      <td>-0.822192</td>\n      <td>-0.804579</td>\n      <td>0.809607</td>\n    </tr>\n    <tr>\n      <th>peak-rpm</th>\n      <td>0.279739</td>\n      <td>0.239544</td>\n      <td>-0.360301</td>\n      <td>-0.285973</td>\n      <td>-0.245803</td>\n      <td>-0.309971</td>\n      <td>-0.279360</td>\n      <td>-0.256734</td>\n      <td>-0.267395</td>\n      <td>-0.063577</td>\n      <td>-0.435777</td>\n      <td>0.107884</td>\n      <td>1.000000</td>\n      <td>-0.115410</td>\n      <td>-0.058598</td>\n      <td>-0.101612</td>\n    </tr>\n    <tr>\n      <th>city-mpg</th>\n      <td>-0.035527</td>\n      <td>-0.225016</td>\n      <td>-0.470606</td>\n      <td>-0.665192</td>\n      <td>-0.633531</td>\n      <td>-0.049800</td>\n      <td>-0.749543</td>\n      <td>-0.650546</td>\n      <td>-0.582027</td>\n      <td>-0.033956</td>\n      <td>0.331425</td>\n      <td>-0.822192</td>\n      <td>-0.115410</td>\n      <td>1.000000</td>\n      <td>0.972044</td>\n      <td>-0.686571</td>\n    </tr>\n    <tr>\n      <th>highway-mpg</th>\n      <td>0.036233</td>\n      <td>-0.181877</td>\n      <td>-0.543304</td>\n      <td>-0.698142</td>\n      <td>-0.680635</td>\n      <td>-0.104812</td>\n      <td>-0.794889</td>\n      <td>-0.679571</td>\n      <td>-0.591309</td>\n      <td>-0.034636</td>\n      <td>0.268465</td>\n      <td>-0.804579</td>\n      <td>-0.058598</td>\n      <td>0.972044</td>\n      <td>1.000000</td>\n      <td>-0.704692</td>\n    </tr>\n    <tr>\n      <th>price</th>\n      <td>-0.082391</td>\n      <td>0.133999</td>\n      <td>0.584642</td>\n      <td>0.690628</td>\n      <td>0.751265</td>\n      <td>0.135486</td>\n      <td>0.834415</td>\n      <td>0.872335</td>\n      <td>0.543155</td>\n      <td>0.082269</td>\n      <td>0.071107</td>\n      <td>0.809607</td>\n      <td>-0.101612</td>\n      <td>-0.686571</td>\n      <td>-0.704692</td>\n      <td>1.000000</td>\n    </tr>\n  </tbody>\n</table>\n</div>"
     },
     "metadata": {},
     "execution_count": 4
    }
   ],
   "source": [
    "df.corr()"
   ]
  },
  {
   "cell_type": "code",
   "execution_count": 5,
   "metadata": {},
   "outputs": [
    {
     "output_type": "display_data",
     "data": {
      "text/plain": "<Figure size 720x720 with 2 Axes>",
      "image/svg+xml": "<?xml version=\"1.0\" encoding=\"utf-8\" standalone=\"no\"?>\r\n<!DOCTYPE svg PUBLIC \"-//W3C//DTD SVG 1.1//EN\"\r\n  \"http://www.w3.org/Graphics/SVG/1.1/DTD/svg11.dtd\">\r\n<!-- Created with matplotlib (https://matplotlib.org/) -->\r\n<svg height=\"659.083594pt\" version=\"1.1\" viewBox=\"0 0 650.809688 659.083594\" width=\"650.809688pt\" xmlns=\"http://www.w3.org/2000/svg\" xmlns:xlink=\"http://www.w3.org/1999/xlink\">\r\n <defs>\r\n  <style type=\"text/css\">\r\n*{stroke-linecap:butt;stroke-linejoin:round;}\r\n  </style>\r\n </defs>\r\n <g id=\"figure_1\">\r\n  <g id=\"patch_1\">\r\n   <path d=\"M -0 659.083594 \r\nL 650.809688 659.083594 \r\nL 650.809688 0 \r\nL -0 0 \r\nz\r\n\" style=\"fill:none;\"/>\r\n  </g>\r\n  <g id=\"axes_1\">\r\n   <g id=\"patch_2\">\r\n    <path d=\"M 104.484375 554.599219 \r\nL 550.884375 554.599219 \r\nL 550.884375 10.999219 \r\nL 104.484375 10.999219 \r\nz\r\n\" style=\"fill:#ffffff;\"/>\r\n   </g>\r\n   <g id=\"QuadMesh_1\">\r\n    <path clip-path=\"url(#p0aeacec520)\" d=\"M 104.484375 10.999219 \r\nL 132.384375 10.999219 \r\nL 132.384375 44.974219 \r\nL 104.484375 44.974219 \r\nL 104.484375 10.999219 \r\n\" style=\"fill:#faebdd;\"/>\r\n    <path clip-path=\"url(#p0aeacec520)\" d=\"M 132.384375 10.999219 \r\nL 160.284375 10.999219 \r\nL 160.284375 44.974219 \r\nL 132.384375 44.974219 \r\nL 132.384375 10.999219 \r\n\" style=\"fill:#f37450;\"/>\r\n    <path clip-path=\"url(#p0aeacec520)\" d=\"M 160.284375 10.999219 \r\nL 188.184375 10.999219 \r\nL 188.184375 44.974219 \r\nL 160.284375 44.974219 \r\nL 160.284375 10.999219 \r\n\" style=\"fill:#3c1a42;\"/>\r\n    <path clip-path=\"url(#p0aeacec520)\" d=\"M 188.184375 10.999219 \r\nL 216.084375 10.999219 \r\nL 216.084375 44.974219 \r\nL 188.184375 44.974219 \r\nL 188.184375 10.999219 \r\n\" style=\"fill:#611f53;\"/>\r\n    <path clip-path=\"url(#p0aeacec520)\" d=\"M 216.084375 10.999219 \r\nL 243.984375 10.999219 \r\nL 243.984375 44.974219 \r\nL 216.084375 44.974219 \r\nL 216.084375 10.999219 \r\n\" style=\"fill:#7d1f5a;\"/>\r\n    <path clip-path=\"url(#p0aeacec520)\" d=\"M 243.984375 10.999219 \r\nL 271.884375 10.999219 \r\nL 271.884375 44.974219 \r\nL 243.984375 44.974219 \r\nL 243.984375 10.999219 \r\n\" style=\"fill:#381a40;\"/>\r\n    <path clip-path=\"url(#p0aeacec520)\" d=\"M 271.884375 10.999219 \r\nL 299.784375 10.999219 \r\nL 299.784375 44.974219 \r\nL 271.884375 44.974219 \r\nL 271.884375 10.999219 \r\n\" style=\"fill:#7f1e5a;\"/>\r\n    <path clip-path=\"url(#p0aeacec520)\" d=\"M 299.784375 10.999219 \r\nL 327.684375 10.999219 \r\nL 327.684375 44.974219 \r\nL 299.784375 44.974219 \r\nL 299.784375 10.999219 \r\n\" style=\"fill:#9c1b5b;\"/>\r\n    <path clip-path=\"url(#p0aeacec520)\" d=\"M 327.684375 10.999219 \r\nL 355.584375 10.999219 \r\nL 355.584375 44.974219 \r\nL 327.684375 44.974219 \r\nL 327.684375 10.999219 \r\n\" style=\"fill:#951c5b;\"/>\r\n    <path clip-path=\"url(#p0aeacec520)\" d=\"M 355.584375 10.999219 \r\nL 383.484375 10.999219 \r\nL 383.484375 44.974219 \r\nL 355.584375 44.974219 \r\nL 355.584375 10.999219 \r\n\" style=\"fill:#b51657;\"/>\r\n    <path clip-path=\"url(#p0aeacec520)\" d=\"M 383.484375 10.999219 \r\nL 411.384375 10.999219 \r\nL 411.384375 44.974219 \r\nL 383.484375 44.974219 \r\nL 383.484375 10.999219 \r\n\" style=\"fill:#8b1d5b;\"/>\r\n    <path clip-path=\"url(#p0aeacec520)\" d=\"M 411.384375 10.999219 \r\nL 439.284375 10.999219 \r\nL 439.284375 44.974219 \r\nL 411.384375 44.974219 \r\nL 411.384375 10.999219 \r\n\" style=\"fill:#c81951;\"/>\r\n    <path clip-path=\"url(#p0aeacec520)\" d=\"M 439.284375 10.999219 \r\nL 467.184375 10.999219 \r\nL 467.184375 44.974219 \r\nL 439.284375 44.974219 \r\nL 439.284375 10.999219 \r\n\" style=\"fill:#e8403e;\"/>\r\n    <path clip-path=\"url(#p0aeacec520)\" d=\"M 467.184375 10.999219 \r\nL 495.084375 10.999219 \r\nL 495.084375 44.974219 \r\nL 467.184375 44.974219 \r\nL 467.184375 10.999219 \r\n\" style=\"fill:#af1759;\"/>\r\n    <path clip-path=\"url(#p0aeacec520)\" d=\"M 495.084375 10.999219 \r\nL 522.984375 10.999219 \r\nL 522.984375 44.974219 \r\nL 495.084375 44.974219 \r\nL 495.084375 10.999219 \r\n\" style=\"fill:#bf1654;\"/>\r\n    <path clip-path=\"url(#p0aeacec520)\" d=\"M 522.984375 10.999219 \r\nL 550.884375 10.999219 \r\nL 550.884375 44.974219 \r\nL 522.984375 44.974219 \r\nL 522.984375 10.999219 \r\n\" style=\"fill:#a3195b;\"/>\r\n    <path clip-path=\"url(#p0aeacec520)\" d=\"M 104.484375 44.974219 \r\nL 132.384375 44.974219 \r\nL 132.384375 78.949219 \r\nL 104.484375 78.949219 \r\nL 104.484375 44.974219 \r\n\" style=\"fill:#f37450;\"/>\r\n    <path clip-path=\"url(#p0aeacec520)\" d=\"M 132.384375 44.974219 \r\nL 160.284375 44.974219 \r\nL 160.284375 78.949219 \r\nL 132.384375 78.949219 \r\nL 132.384375 44.974219 \r\n\" style=\"fill:#faebdd;\"/>\r\n    <path clip-path=\"url(#p0aeacec520)\" d=\"M 160.284375 44.974219 \r\nL 188.184375 44.974219 \r\nL 188.184375 78.949219 \r\nL 160.284375 78.949219 \r\nL 160.284375 44.974219 \r\n\" style=\"fill:#aa185a;\"/>\r\n    <path clip-path=\"url(#p0aeacec520)\" d=\"M 188.184375 44.974219 \r\nL 216.084375 44.974219 \r\nL 216.084375 78.949219 \r\nL 188.184375 78.949219 \r\nL 188.184375 44.974219 \r\n\" style=\"fill:#bc1656;\"/>\r\n    <path clip-path=\"url(#p0aeacec520)\" d=\"M 216.084375 44.974219 \r\nL 243.984375 44.974219 \r\nL 243.984375 78.949219 \r\nL 216.084375 78.949219 \r\nL 216.084375 44.974219 \r\n\" style=\"fill:#ca1a50;\"/>\r\n    <path clip-path=\"url(#p0aeacec520)\" d=\"M 243.984375 44.974219 \r\nL 271.884375 44.974219 \r\nL 271.884375 78.949219 \r\nL 243.984375 78.949219 \r\nL 243.984375 44.974219 \r\n\" style=\"fill:#601f52;\"/>\r\n    <path clip-path=\"url(#p0aeacec520)\" d=\"M 271.884375 44.974219 \r\nL 299.784375 44.974219 \r\nL 299.784375 78.949219 \r\nL 271.884375 78.949219 \r\nL 271.884375 44.974219 \r\n\" style=\"fill:#cd1c4e;\"/>\r\n    <path clip-path=\"url(#p0aeacec520)\" d=\"M 299.784375 44.974219 \r\nL 327.684375 44.974219 \r\nL 327.684375 78.949219 \r\nL 299.784375 78.949219 \r\nL 299.784375 44.974219 \r\n\" style=\"fill:#cf1e4d;\"/>\r\n    <path clip-path=\"url(#p0aeacec520)\" d=\"M 327.684375 44.974219 \r\nL 355.584375 44.974219 \r\nL 355.584375 78.949219 \r\nL 327.684375 78.949219 \r\nL 327.684375 44.974219 \r\n\" style=\"fill:#b01759;\"/>\r\n    <path clip-path=\"url(#p0aeacec520)\" d=\"M 355.584375 44.974219 \r\nL 383.484375 44.974219 \r\nL 383.484375 78.949219 \r\nL 355.584375 78.949219 \r\nL 355.584375 44.974219 \r\n\" style=\"fill:#c41753;\"/>\r\n    <path clip-path=\"url(#p0aeacec520)\" d=\"M 383.484375 44.974219 \r\nL 411.384375 44.974219 \r\nL 411.384375 78.949219 \r\nL 383.484375 78.949219 \r\nL 383.484375 44.974219 \r\n\" style=\"fill:#9c1b5b;\"/>\r\n    <path clip-path=\"url(#p0aeacec520)\" d=\"M 411.384375 44.974219 \r\nL 439.284375 44.974219 \r\nL 439.284375 78.949219 \r\nL 411.384375 78.949219 \r\nL 411.384375 44.974219 \r\n\" style=\"fill:#e13342;\"/>\r\n    <path clip-path=\"url(#p0aeacec520)\" d=\"M 439.284375 44.974219 \r\nL 467.184375 44.974219 \r\nL 467.184375 78.949219 \r\nL 439.284375 78.949219 \r\nL 439.284375 44.974219 \r\n\" style=\"fill:#e43841;\"/>\r\n    <path clip-path=\"url(#p0aeacec520)\" d=\"M 467.184375 44.974219 \r\nL 495.084375 44.974219 \r\nL 495.084375 78.949219 \r\nL 467.184375 78.949219 \r\nL 467.184375 44.974219 \r\n\" style=\"fill:#811e5a;\"/>\r\n    <path clip-path=\"url(#p0aeacec520)\" d=\"M 495.084375 44.974219 \r\nL 522.984375 44.974219 \r\nL 522.984375 78.949219 \r\nL 495.084375 78.949219 \r\nL 495.084375 44.974219 \r\n\" style=\"fill:#8b1d5b;\"/>\r\n    <path clip-path=\"url(#p0aeacec520)\" d=\"M 522.984375 44.974219 \r\nL 550.884375 44.974219 \r\nL 550.884375 78.949219 \r\nL 522.984375 78.949219 \r\nL 522.984375 44.974219 \r\n\" style=\"fill:#d3214b;\"/>\r\n    <path clip-path=\"url(#p0aeacec520)\" d=\"M 104.484375 78.949219 \r\nL 132.384375 78.949219 \r\nL 132.384375 112.924219 \r\nL 104.484375 112.924219 \r\nL 104.484375 78.949219 \r\n\" style=\"fill:#3c1a42;\"/>\r\n    <path clip-path=\"url(#p0aeacec520)\" d=\"M 132.384375 78.949219 \r\nL 160.284375 78.949219 \r\nL 160.284375 112.924219 \r\nL 132.384375 112.924219 \r\nL 132.384375 78.949219 \r\n\" style=\"fill:#aa185a;\"/>\r\n    <path clip-path=\"url(#p0aeacec520)\" d=\"M 160.284375 78.949219 \r\nL 188.184375 78.949219 \r\nL 188.184375 112.924219 \r\nL 160.284375 112.924219 \r\nL 160.284375 78.949219 \r\n\" style=\"fill:#faebdd;\"/>\r\n    <path clip-path=\"url(#p0aeacec520)\" d=\"M 188.184375 78.949219 \r\nL 216.084375 78.949219 \r\nL 216.084375 112.924219 \r\nL 188.184375 112.924219 \r\nL 188.184375 78.949219 \r\n\" style=\"fill:#f8d1b8;\"/>\r\n    <path clip-path=\"url(#p0aeacec520)\" d=\"M 216.084375 78.949219 \r\nL 243.984375 78.949219 \r\nL 243.984375 112.924219 \r\nL 216.084375 112.924219 \r\nL 216.084375 78.949219 \r\n\" style=\"fill:#f7c4a4;\"/>\r\n    <path clip-path=\"url(#p0aeacec520)\" d=\"M 243.984375 78.949219 \r\nL 271.884375 78.949219 \r\nL 271.884375 112.924219 \r\nL 243.984375 112.924219 \r\nL 243.984375 78.949219 \r\n\" style=\"fill:#f59269;\"/>\r\n    <path clip-path=\"url(#p0aeacec520)\" d=\"M 271.884375 78.949219 \r\nL 299.784375 78.949219 \r\nL 299.784375 112.924219 \r\nL 271.884375 112.924219 \r\nL 271.884375 78.949219 \r\n\" style=\"fill:#f6be9b;\"/>\r\n    <path clip-path=\"url(#p0aeacec520)\" d=\"M 299.784375 78.949219 \r\nL 327.684375 78.949219 \r\nL 327.684375 112.924219 \r\nL 299.784375 112.924219 \r\nL 299.784375 78.949219 \r\n\" style=\"fill:#f58d64;\"/>\r\n    <path clip-path=\"url(#p0aeacec520)\" d=\"M 327.684375 78.949219 \r\nL 355.584375 78.949219 \r\nL 355.584375 112.924219 \r\nL 327.684375 112.924219 \r\nL 327.684375 78.949219 \r\n\" style=\"fill:#f47a54;\"/>\r\n    <path clip-path=\"url(#p0aeacec520)\" d=\"M 355.584375 78.949219 \r\nL 383.484375 78.949219 \r\nL 383.484375 112.924219 \r\nL 355.584375 112.924219 \r\nL 355.584375 78.949219 \r\n\" style=\"fill:#d72549;\"/>\r\n    <path clip-path=\"url(#p0aeacec520)\" d=\"M 383.484375 78.949219 \r\nL 411.384375 78.949219 \r\nL 411.384375 112.924219 \r\nL 383.484375 112.924219 \r\nL 383.484375 78.949219 \r\n\" style=\"fill:#e53940;\"/>\r\n    <path clip-path=\"url(#p0aeacec520)\" d=\"M 411.384375 78.949219 \r\nL 439.284375 78.949219 \r\nL 439.284375 112.924219 \r\nL 411.384375 112.924219 \r\nL 411.384375 78.949219 \r\n\" style=\"fill:#ef5a41;\"/>\r\n    <path clip-path=\"url(#p0aeacec520)\" d=\"M 439.284375 78.949219 \r\nL 467.184375 78.949219 \r\nL 467.184375 112.924219 \r\nL 439.284375 112.924219 \r\nL 439.284375 78.949219 \r\n\" style=\"fill:#611f53;\"/>\r\n    <path clip-path=\"url(#p0aeacec520)\" d=\"M 467.184375 78.949219 \r\nL 495.084375 78.949219 \r\nL 495.084375 112.924219 \r\nL 467.184375 112.924219 \r\nL 467.184375 78.949219 \r\n\" style=\"fill:#491d49;\"/>\r\n    <path clip-path=\"url(#p0aeacec520)\" d=\"M 495.084375 78.949219 \r\nL 522.984375 78.949219 \r\nL 522.984375 112.924219 \r\nL 495.084375 112.924219 \r\nL 495.084375 78.949219 \r\n\" style=\"fill:#3a1a41;\"/>\r\n    <path clip-path=\"url(#p0aeacec520)\" d=\"M 522.984375 78.949219 \r\nL 550.884375 78.949219 \r\nL 550.884375 112.924219 \r\nL 522.984375 112.924219 \r\nL 522.984375 78.949219 \r\n\" style=\"fill:#f59067;\"/>\r\n    <path clip-path=\"url(#p0aeacec520)\" d=\"M 104.484375 112.924219 \r\nL 132.384375 112.924219 \r\nL 132.384375 146.899219 \r\nL 104.484375 146.899219 \r\nL 104.484375 112.924219 \r\n\" style=\"fill:#611f53;\"/>\r\n    <path clip-path=\"url(#p0aeacec520)\" d=\"M 132.384375 112.924219 \r\nL 160.284375 112.924219 \r\nL 160.284375 146.899219 \r\nL 132.384375 146.899219 \r\nL 132.384375 112.924219 \r\n\" style=\"fill:#bc1656;\"/>\r\n    <path clip-path=\"url(#p0aeacec520)\" d=\"M 160.284375 112.924219 \r\nL 188.184375 112.924219 \r\nL 188.184375 146.899219 \r\nL 160.284375 146.899219 \r\nL 160.284375 112.924219 \r\n\" style=\"fill:#f8d1b8;\"/>\r\n    <path clip-path=\"url(#p0aeacec520)\" d=\"M 188.184375 112.924219 \r\nL 216.084375 112.924219 \r\nL 216.084375 146.899219 \r\nL 188.184375 146.899219 \r\nL 188.184375 112.924219 \r\n\" style=\"fill:#faebdd;\"/>\r\n    <path clip-path=\"url(#p0aeacec520)\" d=\"M 216.084375 112.924219 \r\nL 243.984375 112.924219 \r\nL 243.984375 146.899219 \r\nL 216.084375 146.899219 \r\nL 216.084375 112.924219 \r\n\" style=\"fill:#f7cdb1;\"/>\r\n    <path clip-path=\"url(#p0aeacec520)\" d=\"M 243.984375 112.924219 \r\nL 271.884375 112.924219 \r\nL 271.884375 146.899219 \r\nL 243.984375 146.899219 \r\nL 243.984375 112.924219 \r\n\" style=\"fill:#f47a54;\"/>\r\n    <path clip-path=\"url(#p0aeacec520)\" d=\"M 271.884375 112.924219 \r\nL 299.784375 112.924219 \r\nL 299.784375 146.899219 \r\nL 271.884375 146.899219 \r\nL 271.884375 112.924219 \r\n\" style=\"fill:#f8d3ba;\"/>\r\n    <path clip-path=\"url(#p0aeacec520)\" d=\"M 299.784375 112.924219 \r\nL 327.684375 112.924219 \r\nL 327.684375 146.899219 \r\nL 299.784375 146.899219 \r\nL 299.784375 112.924219 \r\n\" style=\"fill:#f6a880;\"/>\r\n    <path clip-path=\"url(#p0aeacec520)\" d=\"M 327.684375 112.924219 \r\nL 355.584375 112.924219 \r\nL 355.584375 146.899219 \r\nL 327.684375 146.899219 \r\nL 327.684375 112.924219 \r\n\" style=\"fill:#f5976e;\"/>\r\n    <path clip-path=\"url(#p0aeacec520)\" d=\"M 355.584375 112.924219 \r\nL 383.484375 112.924219 \r\nL 383.484375 146.899219 \r\nL 355.584375 146.899219 \r\nL 355.584375 112.924219 \r\n\" style=\"fill:#d11f4c;\"/>\r\n    <path clip-path=\"url(#p0aeacec520)\" d=\"M 383.484375 112.924219 \r\nL 411.384375 112.924219 \r\nL 411.384375 146.899219 \r\nL 383.484375 146.899219 \r\nL 383.484375 112.924219 \r\n\" style=\"fill:#d72549;\"/>\r\n    <path clip-path=\"url(#p0aeacec520)\" d=\"M 411.384375 112.924219 \r\nL 439.284375 112.924219 \r\nL 439.284375 146.899219 \r\nL 411.384375 146.899219 \r\nL 411.384375 112.924219 \r\n\" style=\"fill:#f58f66;\"/>\r\n    <path clip-path=\"url(#p0aeacec520)\" d=\"M 439.284375 112.924219 \r\nL 467.184375 112.924219 \r\nL 467.184375 146.899219 \r\nL 439.284375 146.899219 \r\nL 439.284375 112.924219 \r\n\" style=\"fill:#731f58;\"/>\r\n    <path clip-path=\"url(#p0aeacec520)\" d=\"M 467.184375 112.924219 \r\nL 495.084375 112.924219 \r\nL 495.084375 146.899219 \r\nL 467.184375 146.899219 \r\nL 467.184375 112.924219 \r\n\" style=\"fill:#211330;\"/>\r\n    <path clip-path=\"url(#p0aeacec520)\" d=\"M 495.084375 112.924219 \r\nL 522.984375 112.924219 \r\nL 522.984375 146.899219 \r\nL 495.084375 146.899219 \r\nL 495.084375 112.924219 \r\n\" style=\"fill:#1a102a;\"/>\r\n    <path clip-path=\"url(#p0aeacec520)\" d=\"M 522.984375 112.924219 \r\nL 550.884375 112.924219 \r\nL 550.884375 146.899219 \r\nL 522.984375 146.899219 \r\nL 522.984375 112.924219 \r\n\" style=\"fill:#f6a981;\"/>\r\n    <path clip-path=\"url(#p0aeacec520)\" d=\"M 104.484375 146.899219 \r\nL 132.384375 146.899219 \r\nL 132.384375 180.874219 \r\nL 104.484375 180.874219 \r\nL 104.484375 146.899219 \r\n\" style=\"fill:#7d1f5a;\"/>\r\n    <path clip-path=\"url(#p0aeacec520)\" d=\"M 132.384375 146.899219 \r\nL 160.284375 146.899219 \r\nL 160.284375 180.874219 \r\nL 132.384375 180.874219 \r\nL 132.384375 146.899219 \r\n\" style=\"fill:#ca1a50;\"/>\r\n    <path clip-path=\"url(#p0aeacec520)\" d=\"M 160.284375 146.899219 \r\nL 188.184375 146.899219 \r\nL 188.184375 180.874219 \r\nL 160.284375 180.874219 \r\nL 160.284375 146.899219 \r\n\" style=\"fill:#f7c4a4;\"/>\r\n    <path clip-path=\"url(#p0aeacec520)\" d=\"M 188.184375 146.899219 \r\nL 216.084375 146.899219 \r\nL 216.084375 180.874219 \r\nL 188.184375 180.874219 \r\nL 188.184375 146.899219 \r\n\" style=\"fill:#f7cdb1;\"/>\r\n    <path clip-path=\"url(#p0aeacec520)\" d=\"M 216.084375 146.899219 \r\nL 243.984375 146.899219 \r\nL 243.984375 180.874219 \r\nL 216.084375 180.874219 \r\nL 216.084375 146.899219 \r\n\" style=\"fill:#faebdd;\"/>\r\n    <path clip-path=\"url(#p0aeacec520)\" d=\"M 243.984375 146.899219 \r\nL 271.884375 146.899219 \r\nL 271.884375 180.874219 \r\nL 243.984375 180.874219 \r\nL 243.984375 146.899219 \r\n\" style=\"fill:#eb483e;\"/>\r\n    <path clip-path=\"url(#p0aeacec520)\" d=\"M 271.884375 146.899219 \r\nL 299.784375 146.899219 \r\nL 299.784375 180.874219 \r\nL 271.884375 180.874219 \r\nL 271.884375 146.899219 \r\n\" style=\"fill:#f7d0b5;\"/>\r\n    <path clip-path=\"url(#p0aeacec520)\" d=\"M 299.784375 146.899219 \r\nL 327.684375 146.899219 \r\nL 327.684375 180.874219 \r\nL 299.784375 180.874219 \r\nL 299.784375 146.899219 \r\n\" style=\"fill:#f6b18b;\"/>\r\n    <path clip-path=\"url(#p0aeacec520)\" d=\"M 327.684375 146.899219 \r\nL 355.584375 146.899219 \r\nL 355.584375 180.874219 \r\nL 327.684375 180.874219 \r\nL 327.684375 146.899219 \r\n\" style=\"fill:#f58860;\"/>\r\n    <path clip-path=\"url(#p0aeacec520)\" d=\"M 355.584375 146.899219 \r\nL 383.484375 146.899219 \r\nL 383.484375 180.874219 \r\nL 355.584375 180.874219 \r\nL 355.584375 146.899219 \r\n\" style=\"fill:#dd2c45;\"/>\r\n    <path clip-path=\"url(#p0aeacec520)\" d=\"M 383.484375 146.899219 \r\nL 411.384375 146.899219 \r\nL 411.384375 180.874219 \r\nL 383.484375 180.874219 \r\nL 383.484375 146.899219 \r\n\" style=\"fill:#dd2c45;\"/>\r\n    <path clip-path=\"url(#p0aeacec520)\" d=\"M 411.384375 146.899219 \r\nL 439.284375 146.899219 \r\nL 439.284375 180.874219 \r\nL 411.384375 180.874219 \r\nL 411.384375 146.899219 \r\n\" style=\"fill:#f5976e;\"/>\r\n    <path clip-path=\"url(#p0aeacec520)\" d=\"M 439.284375 146.899219 \r\nL 467.184375 146.899219 \r\nL 467.184375 180.874219 \r\nL 439.284375 180.874219 \r\nL 439.284375 146.899219 \r\n\" style=\"fill:#7b1f59;\"/>\r\n    <path clip-path=\"url(#p0aeacec520)\" d=\"M 467.184375 146.899219 \r\nL 495.084375 146.899219 \r\nL 495.084375 180.874219 \r\nL 467.184375 180.874219 \r\nL 467.184375 146.899219 \r\n\" style=\"fill:#271534;\"/>\r\n    <path clip-path=\"url(#p0aeacec520)\" d=\"M 495.084375 146.899219 \r\nL 522.984375 146.899219 \r\nL 522.984375 180.874219 \r\nL 495.084375 180.874219 \r\nL 495.084375 146.899219 \r\n\" style=\"fill:#1d112c;\"/>\r\n    <path clip-path=\"url(#p0aeacec520)\" d=\"M 522.984375 146.899219 \r\nL 550.884375 146.899219 \r\nL 550.884375 180.874219 \r\nL 522.984375 180.874219 \r\nL 522.984375 146.899219 \r\n\" style=\"fill:#f6b893;\"/>\r\n    <path clip-path=\"url(#p0aeacec520)\" d=\"M 104.484375 180.874219 \r\nL 132.384375 180.874219 \r\nL 132.384375 214.849219 \r\nL 104.484375 214.849219 \r\nL 104.484375 180.874219 \r\n\" style=\"fill:#381a40;\"/>\r\n    <path clip-path=\"url(#p0aeacec520)\" d=\"M 132.384375 180.874219 \r\nL 160.284375 180.874219 \r\nL 160.284375 214.849219 \r\nL 132.384375 214.849219 \r\nL 132.384375 180.874219 \r\n\" style=\"fill:#601f52;\"/>\r\n    <path clip-path=\"url(#p0aeacec520)\" d=\"M 160.284375 180.874219 \r\nL 188.184375 180.874219 \r\nL 188.184375 214.849219 \r\nL 160.284375 214.849219 \r\nL 160.284375 180.874219 \r\n\" style=\"fill:#f59269;\"/>\r\n    <path clip-path=\"url(#p0aeacec520)\" d=\"M 188.184375 180.874219 \r\nL 216.084375 180.874219 \r\nL 216.084375 214.849219 \r\nL 188.184375 214.849219 \r\nL 188.184375 180.874219 \r\n\" style=\"fill:#f47a54;\"/>\r\n    <path clip-path=\"url(#p0aeacec520)\" d=\"M 216.084375 180.874219 \r\nL 243.984375 180.874219 \r\nL 243.984375 214.849219 \r\nL 216.084375 214.849219 \r\nL 216.084375 180.874219 \r\n\" style=\"fill:#eb483e;\"/>\r\n    <path clip-path=\"url(#p0aeacec520)\" d=\"M 243.984375 180.874219 \r\nL 271.884375 180.874219 \r\nL 271.884375 214.849219 \r\nL 243.984375 214.849219 \r\nL 243.984375 180.874219 \r\n\" style=\"fill:#faebdd;\"/>\r\n    <path clip-path=\"url(#p0aeacec520)\" d=\"M 271.884375 180.874219 \r\nL 299.784375 180.874219 \r\nL 299.784375 214.849219 \r\nL 271.884375 214.849219 \r\nL 271.884375 180.874219 \r\n\" style=\"fill:#eb483e;\"/>\r\n    <path clip-path=\"url(#p0aeacec520)\" d=\"M 299.784375 180.874219 \r\nL 327.684375 180.874219 \r\nL 327.684375 214.849219 \r\nL 299.784375 214.849219 \r\nL 299.784375 180.874219 \r\n\" style=\"fill:#c81951;\"/>\r\n    <path clip-path=\"url(#p0aeacec520)\" d=\"M 327.684375 180.874219 \r\nL 355.584375 180.874219 \r\nL 355.584375 214.849219 \r\nL 327.684375 214.849219 \r\nL 327.684375 180.874219 \r\n\" style=\"fill:#db2946;\"/>\r\n    <path clip-path=\"url(#p0aeacec520)\" d=\"M 355.584375 180.874219 \r\nL 383.484375 180.874219 \r\nL 383.484375 214.849219 \r\nL 355.584375 214.849219 \r\nL 355.584375 180.874219 \r\n\" style=\"fill:#a8185a;\"/>\r\n    <path clip-path=\"url(#p0aeacec520)\" d=\"M 383.484375 180.874219 \r\nL 411.384375 180.874219 \r\nL 411.384375 214.849219 \r\nL 383.484375 214.849219 \r\nL 383.484375 180.874219 \r\n\" style=\"fill:#e73d3f;\"/>\r\n    <path clip-path=\"url(#p0aeacec520)\" d=\"M 411.384375 180.874219 \r\nL 439.284375 180.874219 \r\nL 439.284375 214.849219 \r\nL 411.384375 214.849219 \r\nL 411.384375 180.874219 \r\n\" style=\"fill:#a3195b;\"/>\r\n    <path clip-path=\"url(#p0aeacec520)\" d=\"M 439.284375 180.874219 \r\nL 467.184375 180.874219 \r\nL 467.184375 214.849219 \r\nL 439.284375 214.849219 \r\nL 439.284375 180.874219 \r\n\" style=\"fill:#6d1f56;\"/>\r\n    <path clip-path=\"url(#p0aeacec520)\" d=\"M 467.184375 180.874219 \r\nL 495.084375 180.874219 \r\nL 495.084375 214.849219 \r\nL 467.184375 214.849219 \r\nL 467.184375 180.874219 \r\n\" style=\"fill:#ab185a;\"/>\r\n    <path clip-path=\"url(#p0aeacec520)\" d=\"M 495.084375 180.874219 \r\nL 522.984375 180.874219 \r\nL 522.984375 214.849219 \r\nL 495.084375 214.849219 \r\nL 495.084375 180.874219 \r\n\" style=\"fill:#9e1a5b;\"/>\r\n    <path clip-path=\"url(#p0aeacec520)\" d=\"M 522.984375 180.874219 \r\nL 550.884375 180.874219 \r\nL 550.884375 214.849219 \r\nL 522.984375 214.849219 \r\nL 522.984375 180.874219 \r\n\" style=\"fill:#d3214b;\"/>\r\n    <path clip-path=\"url(#p0aeacec520)\" d=\"M 104.484375 214.849219 \r\nL 132.384375 214.849219 \r\nL 132.384375 248.824219 \r\nL 104.484375 248.824219 \r\nL 104.484375 214.849219 \r\n\" style=\"fill:#7f1e5a;\"/>\r\n    <path clip-path=\"url(#p0aeacec520)\" d=\"M 132.384375 214.849219 \r\nL 160.284375 214.849219 \r\nL 160.284375 248.824219 \r\nL 132.384375 248.824219 \r\nL 132.384375 214.849219 \r\n\" style=\"fill:#cd1c4e;\"/>\r\n    <path clip-path=\"url(#p0aeacec520)\" d=\"M 160.284375 214.849219 \r\nL 188.184375 214.849219 \r\nL 188.184375 248.824219 \r\nL 160.284375 248.824219 \r\nL 160.284375 214.849219 \r\n\" style=\"fill:#f6be9b;\"/>\r\n    <path clip-path=\"url(#p0aeacec520)\" d=\"M 188.184375 214.849219 \r\nL 216.084375 214.849219 \r\nL 216.084375 248.824219 \r\nL 188.184375 248.824219 \r\nL 188.184375 214.849219 \r\n\" style=\"fill:#f8d3ba;\"/>\r\n    <path clip-path=\"url(#p0aeacec520)\" d=\"M 216.084375 214.849219 \r\nL 243.984375 214.849219 \r\nL 243.984375 248.824219 \r\nL 216.084375 248.824219 \r\nL 216.084375 214.849219 \r\n\" style=\"fill:#f7d0b5;\"/>\r\n    <path clip-path=\"url(#p0aeacec520)\" d=\"M 243.984375 214.849219 \r\nL 271.884375 214.849219 \r\nL 271.884375 248.824219 \r\nL 243.984375 248.824219 \r\nL 243.984375 214.849219 \r\n\" style=\"fill:#eb483e;\"/>\r\n    <path clip-path=\"url(#p0aeacec520)\" d=\"M 271.884375 214.849219 \r\nL 299.784375 214.849219 \r\nL 299.784375 248.824219 \r\nL 271.884375 248.824219 \r\nL 271.884375 214.849219 \r\n\" style=\"fill:#faebdd;\"/>\r\n    <path clip-path=\"url(#p0aeacec520)\" d=\"M 299.784375 214.849219 \r\nL 327.684375 214.849219 \r\nL 327.684375 248.824219 \r\nL 299.784375 248.824219 \r\nL 299.784375 214.849219 \r\n\" style=\"fill:#f7ccaf;\"/>\r\n    <path clip-path=\"url(#p0aeacec520)\" d=\"M 327.684375 214.849219 \r\nL 355.584375 214.849219 \r\nL 355.584375 248.824219 \r\nL 327.684375 248.824219 \r\nL 327.684375 214.849219 \r\n\" style=\"fill:#f69e75;\"/>\r\n    <path clip-path=\"url(#p0aeacec520)\" d=\"M 355.584375 214.849219 \r\nL 383.484375 214.849219 \r\nL 383.484375 248.824219 \r\nL 355.584375 248.824219 \r\nL 355.584375 214.849219 \r\n\" style=\"fill:#d92847;\"/>\r\n    <path clip-path=\"url(#p0aeacec520)\" d=\"M 383.484375 214.849219 \r\nL 411.384375 214.849219 \r\nL 411.384375 248.824219 \r\nL 383.484375 248.824219 \r\nL 383.484375 214.849219 \r\n\" style=\"fill:#d72549;\"/>\r\n    <path clip-path=\"url(#p0aeacec520)\" d=\"M 411.384375 214.849219 \r\nL 439.284375 214.849219 \r\nL 439.284375 248.824219 \r\nL 411.384375 248.824219 \r\nL 411.384375 214.849219 \r\n\" style=\"fill:#f6b893;\"/>\r\n    <path clip-path=\"url(#p0aeacec520)\" d=\"M 439.284375 214.849219 \r\nL 467.184375 214.849219 \r\nL 467.184375 248.824219 \r\nL 439.284375 248.824219 \r\nL 439.284375 214.849219 \r\n\" style=\"fill:#751f58;\"/>\r\n    <path clip-path=\"url(#p0aeacec520)\" d=\"M 467.184375 214.849219 \r\nL 495.084375 214.849219 \r\nL 495.084375 248.824219 \r\nL 467.184375 248.824219 \r\nL 467.184375 214.849219 \r\n\" style=\"fill:#100b23;\"/>\r\n    <path clip-path=\"url(#p0aeacec520)\" d=\"M 495.084375 214.849219 \r\nL 522.984375 214.849219 \r\nL 522.984375 248.824219 \r\nL 495.084375 248.824219 \r\nL 495.084375 214.849219 \r\n\" style=\"fill:#06071c;\"/>\r\n    <path clip-path=\"url(#p0aeacec520)\" d=\"M 522.984375 214.849219 \r\nL 550.884375 214.849219 \r\nL 550.884375 248.824219 \r\nL 522.984375 248.824219 \r\nL 522.984375 214.849219 \r\n\" style=\"fill:#f7c9aa;\"/>\r\n    <path clip-path=\"url(#p0aeacec520)\" d=\"M 104.484375 248.824219 \r\nL 132.384375 248.824219 \r\nL 132.384375 282.799219 \r\nL 104.484375 282.799219 \r\nL 104.484375 248.824219 \r\n\" style=\"fill:#9c1b5b;\"/>\r\n    <path clip-path=\"url(#p0aeacec520)\" d=\"M 132.384375 248.824219 \r\nL 160.284375 248.824219 \r\nL 160.284375 282.799219 \r\nL 132.384375 282.799219 \r\nL 132.384375 248.824219 \r\n\" style=\"fill:#cf1e4d;\"/>\r\n    <path clip-path=\"url(#p0aeacec520)\" d=\"M 160.284375 248.824219 \r\nL 188.184375 248.824219 \r\nL 188.184375 282.799219 \r\nL 160.284375 282.799219 \r\nL 160.284375 248.824219 \r\n\" style=\"fill:#f58d64;\"/>\r\n    <path clip-path=\"url(#p0aeacec520)\" d=\"M 188.184375 248.824219 \r\nL 216.084375 248.824219 \r\nL 216.084375 282.799219 \r\nL 188.184375 282.799219 \r\nL 188.184375 248.824219 \r\n\" style=\"fill:#f6a880;\"/>\r\n    <path clip-path=\"url(#p0aeacec520)\" d=\"M 216.084375 248.824219 \r\nL 243.984375 248.824219 \r\nL 243.984375 282.799219 \r\nL 216.084375 282.799219 \r\nL 216.084375 248.824219 \r\n\" style=\"fill:#f6b18b;\"/>\r\n    <path clip-path=\"url(#p0aeacec520)\" d=\"M 243.984375 248.824219 \r\nL 271.884375 248.824219 \r\nL 271.884375 282.799219 \r\nL 243.984375 282.799219 \r\nL 243.984375 248.824219 \r\n\" style=\"fill:#c81951;\"/>\r\n    <path clip-path=\"url(#p0aeacec520)\" d=\"M 271.884375 248.824219 \r\nL 299.784375 248.824219 \r\nL 299.784375 282.799219 \r\nL 271.884375 282.799219 \r\nL 271.884375 248.824219 \r\n\" style=\"fill:#f7ccaf;\"/>\r\n    <path clip-path=\"url(#p0aeacec520)\" d=\"M 299.784375 248.824219 \r\nL 327.684375 248.824219 \r\nL 327.684375 282.799219 \r\nL 299.784375 282.799219 \r\nL 299.784375 248.824219 \r\n\" style=\"fill:#faebdd;\"/>\r\n    <path clip-path=\"url(#p0aeacec520)\" d=\"M 327.684375 248.824219 \r\nL 355.584375 248.824219 \r\nL 355.584375 282.799219 \r\nL 327.684375 282.799219 \r\nL 327.684375 248.824219 \r\n\" style=\"fill:#f58d64;\"/>\r\n    <path clip-path=\"url(#p0aeacec520)\" d=\"M 355.584375 248.824219 \r\nL 383.484375 248.824219 \r\nL 383.484375 282.799219 \r\nL 355.584375 282.799219 \r\nL 355.584375 248.824219 \r\n\" style=\"fill:#df2f44;\"/>\r\n    <path clip-path=\"url(#p0aeacec520)\" d=\"M 383.484375 248.824219 \r\nL 411.384375 248.824219 \r\nL 411.384375 282.799219 \r\nL 383.484375 282.799219 \r\nL 383.484375 248.824219 \r\n\" style=\"fill:#bd1655;\"/>\r\n    <path clip-path=\"url(#p0aeacec520)\" d=\"M 411.384375 248.824219 \r\nL 439.284375 248.824219 \r\nL 439.284375 282.799219 \r\nL 411.384375 282.799219 \r\nL 411.384375 248.824219 \r\n\" style=\"fill:#f7c7a8;\"/>\r\n    <path clip-path=\"url(#p0aeacec520)\" d=\"M 439.284375 248.824219 \r\nL 467.184375 248.824219 \r\nL 467.184375 282.799219 \r\nL 439.284375 282.799219 \r\nL 439.284375 248.824219 \r\n\" style=\"fill:#7a1f59;\"/>\r\n    <path clip-path=\"url(#p0aeacec520)\" d=\"M 467.184375 248.824219 \r\nL 495.084375 248.824219 \r\nL 495.084375 282.799219 \r\nL 467.184375 282.799219 \r\nL 467.184375 248.824219 \r\n\" style=\"fill:#241432;\"/>\r\n    <path clip-path=\"url(#p0aeacec520)\" d=\"M 495.084375 248.824219 \r\nL 522.984375 248.824219 \r\nL 522.984375 282.799219 \r\nL 495.084375 282.799219 \r\nL 495.084375 248.824219 \r\n\" style=\"fill:#1e122d;\"/>\r\n    <path clip-path=\"url(#p0aeacec520)\" d=\"M 522.984375 248.824219 \r\nL 550.884375 248.824219 \r\nL 550.884375 282.799219 \r\nL 522.984375 282.799219 \r\nL 522.984375 248.824219 \r\n\" style=\"fill:#f8d1b8;\"/>\r\n    <path clip-path=\"url(#p0aeacec520)\" d=\"M 104.484375 282.799219 \r\nL 132.384375 282.799219 \r\nL 132.384375 316.774219 \r\nL 104.484375 316.774219 \r\nL 104.484375 282.799219 \r\n\" style=\"fill:#951c5b;\"/>\r\n    <path clip-path=\"url(#p0aeacec520)\" d=\"M 132.384375 282.799219 \r\nL 160.284375 282.799219 \r\nL 160.284375 316.774219 \r\nL 132.384375 316.774219 \r\nL 132.384375 282.799219 \r\n\" style=\"fill:#b01759;\"/>\r\n    <path clip-path=\"url(#p0aeacec520)\" d=\"M 160.284375 282.799219 \r\nL 188.184375 282.799219 \r\nL 188.184375 316.774219 \r\nL 160.284375 316.774219 \r\nL 160.284375 282.799219 \r\n\" style=\"fill:#f47a54;\"/>\r\n    <path clip-path=\"url(#p0aeacec520)\" d=\"M 188.184375 282.799219 \r\nL 216.084375 282.799219 \r\nL 216.084375 316.774219 \r\nL 188.184375 316.774219 \r\nL 188.184375 282.799219 \r\n\" style=\"fill:#f5976e;\"/>\r\n    <path clip-path=\"url(#p0aeacec520)\" d=\"M 216.084375 282.799219 \r\nL 243.984375 282.799219 \r\nL 243.984375 316.774219 \r\nL 216.084375 316.774219 \r\nL 216.084375 282.799219 \r\n\" style=\"fill:#f58860;\"/>\r\n    <path clip-path=\"url(#p0aeacec520)\" d=\"M 243.984375 282.799219 \r\nL 271.884375 282.799219 \r\nL 271.884375 316.774219 \r\nL 243.984375 316.774219 \r\nL 243.984375 282.799219 \r\n\" style=\"fill:#db2946;\"/>\r\n    <path clip-path=\"url(#p0aeacec520)\" d=\"M 271.884375 282.799219 \r\nL 299.784375 282.799219 \r\nL 299.784375 316.774219 \r\nL 271.884375 316.774219 \r\nL 271.884375 282.799219 \r\n\" style=\"fill:#f69e75;\"/>\r\n    <path clip-path=\"url(#p0aeacec520)\" d=\"M 299.784375 282.799219 \r\nL 327.684375 282.799219 \r\nL 327.684375 316.774219 \r\nL 299.784375 316.774219 \r\nL 299.784375 282.799219 \r\n\" style=\"fill:#f58d64;\"/>\r\n    <path clip-path=\"url(#p0aeacec520)\" d=\"M 327.684375 282.799219 \r\nL 355.584375 282.799219 \r\nL 355.584375 316.774219 \r\nL 327.684375 316.774219 \r\nL 327.684375 282.799219 \r\n\" style=\"fill:#faebdd;\"/>\r\n    <path clip-path=\"url(#p0aeacec520)\" d=\"M 355.584375 282.799219 \r\nL 383.484375 282.799219 \r\nL 383.484375 316.774219 \r\nL 355.584375 316.774219 \r\nL 355.584375 282.799219 \r\n\" style=\"fill:#aa185a;\"/>\r\n    <path clip-path=\"url(#p0aeacec520)\" d=\"M 383.484375 282.799219 \r\nL 411.384375 282.799219 \r\nL 411.384375 316.774219 \r\nL 383.484375 316.774219 \r\nL 383.484375 282.799219 \r\n\" style=\"fill:#b71657;\"/>\r\n    <path clip-path=\"url(#p0aeacec520)\" d=\"M 411.384375 282.799219 \r\nL 439.284375 282.799219 \r\nL 439.284375 316.774219 \r\nL 411.384375 316.774219 \r\nL 411.384375 282.799219 \r\n\" style=\"fill:#f58d64;\"/>\r\n    <path clip-path=\"url(#p0aeacec520)\" d=\"M 439.284375 282.799219 \r\nL 467.184375 282.799219 \r\nL 467.184375 316.774219 \r\nL 439.284375 316.774219 \r\nL 439.284375 282.799219 \r\n\" style=\"fill:#761f58;\"/>\r\n    <path clip-path=\"url(#p0aeacec520)\" d=\"M 467.184375 282.799219 \r\nL 495.084375 282.799219 \r\nL 495.084375 316.774219 \r\nL 467.184375 316.774219 \r\nL 467.184375 282.799219 \r\n\" style=\"fill:#31183b;\"/>\r\n    <path clip-path=\"url(#p0aeacec520)\" d=\"M 495.084375 282.799219 \r\nL 522.984375 282.799219 \r\nL 522.984375 316.774219 \r\nL 495.084375 316.774219 \r\nL 495.084375 282.799219 \r\n\" style=\"fill:#30173a;\"/>\r\n    <path clip-path=\"url(#p0aeacec520)\" d=\"M 522.984375 282.799219 \r\nL 550.884375 282.799219 \r\nL 550.884375 316.774219 \r\nL 522.984375 316.774219 \r\nL 522.984375 282.799219 \r\n\" style=\"fill:#f4865e;\"/>\r\n    <path clip-path=\"url(#p0aeacec520)\" d=\"M 104.484375 316.774219 \r\nL 132.384375 316.774219 \r\nL 132.384375 350.749219 \r\nL 104.484375 350.749219 \r\nL 104.484375 316.774219 \r\n\" style=\"fill:#b51657;\"/>\r\n    <path clip-path=\"url(#p0aeacec520)\" d=\"M 132.384375 316.774219 \r\nL 160.284375 316.774219 \r\nL 160.284375 350.749219 \r\nL 132.384375 350.749219 \r\nL 132.384375 316.774219 \r\n\" style=\"fill:#c41753;\"/>\r\n    <path clip-path=\"url(#p0aeacec520)\" d=\"M 160.284375 316.774219 \r\nL 188.184375 316.774219 \r\nL 188.184375 350.749219 \r\nL 160.284375 350.749219 \r\nL 160.284375 316.774219 \r\n\" style=\"fill:#d72549;\"/>\r\n    <path clip-path=\"url(#p0aeacec520)\" d=\"M 188.184375 316.774219 \r\nL 216.084375 316.774219 \r\nL 216.084375 350.749219 \r\nL 188.184375 350.749219 \r\nL 188.184375 316.774219 \r\n\" style=\"fill:#d11f4c;\"/>\r\n    <path clip-path=\"url(#p0aeacec520)\" d=\"M 216.084375 316.774219 \r\nL 243.984375 316.774219 \r\nL 243.984375 350.749219 \r\nL 216.084375 350.749219 \r\nL 216.084375 316.774219 \r\n\" style=\"fill:#dd2c45;\"/>\r\n    <path clip-path=\"url(#p0aeacec520)\" d=\"M 243.984375 316.774219 \r\nL 271.884375 316.774219 \r\nL 271.884375 350.749219 \r\nL 243.984375 350.749219 \r\nL 243.984375 316.774219 \r\n\" style=\"fill:#a8185a;\"/>\r\n    <path clip-path=\"url(#p0aeacec520)\" d=\"M 271.884375 316.774219 \r\nL 299.784375 316.774219 \r\nL 299.784375 350.749219 \r\nL 271.884375 350.749219 \r\nL 271.884375 316.774219 \r\n\" style=\"fill:#d92847;\"/>\r\n    <path clip-path=\"url(#p0aeacec520)\" d=\"M 299.784375 316.774219 \r\nL 327.684375 316.774219 \r\nL 327.684375 350.749219 \r\nL 299.784375 350.749219 \r\nL 299.784375 316.774219 \r\n\" style=\"fill:#df2f44;\"/>\r\n    <path clip-path=\"url(#p0aeacec520)\" d=\"M 327.684375 316.774219 \r\nL 355.584375 316.774219 \r\nL 355.584375 350.749219 \r\nL 327.684375 350.749219 \r\nL 327.684375 316.774219 \r\n\" style=\"fill:#aa185a;\"/>\r\n    <path clip-path=\"url(#p0aeacec520)\" d=\"M 355.584375 316.774219 \r\nL 383.484375 316.774219 \r\nL 383.484375 350.749219 \r\nL 355.584375 350.749219 \r\nL 355.584375 316.774219 \r\n\" style=\"fill:#faebdd;\"/>\r\n    <path clip-path=\"url(#p0aeacec520)\" d=\"M 383.484375 316.774219 \r\nL 411.384375 316.774219 \r\nL 411.384375 350.749219 \r\nL 383.484375 350.749219 \r\nL 383.484375 316.774219 \r\n\" style=\"fill:#dc2b46;\"/>\r\n    <path clip-path=\"url(#p0aeacec520)\" d=\"M 411.384375 316.774219 \r\nL 439.284375 316.774219 \r\nL 439.284375 350.749219 \r\nL 411.384375 350.749219 \r\nL 411.384375 316.774219 \r\n\" style=\"fill:#cd1c4e;\"/>\r\n    <path clip-path=\"url(#p0aeacec520)\" d=\"M 439.284375 316.774219 \r\nL 467.184375 316.774219 \r\nL 467.184375 350.749219 \r\nL 439.284375 350.749219 \r\nL 439.284375 316.774219 \r\n\" style=\"fill:#a8185a;\"/>\r\n    <path clip-path=\"url(#p0aeacec520)\" d=\"M 467.184375 316.774219 \r\nL 495.084375 316.774219 \r\nL 495.084375 350.749219 \r\nL 467.184375 350.749219 \r\nL 467.184375 316.774219 \r\n\" style=\"fill:#af1759;\"/>\r\n    <path clip-path=\"url(#p0aeacec520)\" d=\"M 495.084375 316.774219 \r\nL 522.984375 316.774219 \r\nL 522.984375 350.749219 \r\nL 495.084375 350.749219 \r\nL 495.084375 316.774219 \r\n\" style=\"fill:#af1759;\"/>\r\n    <path clip-path=\"url(#p0aeacec520)\" d=\"M 522.984375 316.774219 \r\nL 550.884375 316.774219 \r\nL 550.884375 350.749219 \r\nL 522.984375 350.749219 \r\nL 522.984375 316.774219 \r\n\" style=\"fill:#ca1a50;\"/>\r\n    <path clip-path=\"url(#p0aeacec520)\" d=\"M 104.484375 350.749219 \r\nL 132.384375 350.749219 \r\nL 132.384375 384.724219 \r\nL 104.484375 384.724219 \r\nL 104.484375 350.749219 \r\n\" style=\"fill:#8b1d5b;\"/>\r\n    <path clip-path=\"url(#p0aeacec520)\" d=\"M 132.384375 350.749219 \r\nL 160.284375 350.749219 \r\nL 160.284375 384.724219 \r\nL 132.384375 384.724219 \r\nL 132.384375 350.749219 \r\n\" style=\"fill:#9c1b5b;\"/>\r\n    <path clip-path=\"url(#p0aeacec520)\" d=\"M 160.284375 350.749219 \r\nL 188.184375 350.749219 \r\nL 188.184375 384.724219 \r\nL 160.284375 384.724219 \r\nL 160.284375 350.749219 \r\n\" style=\"fill:#e53940;\"/>\r\n    <path clip-path=\"url(#p0aeacec520)\" d=\"M 188.184375 350.749219 \r\nL 216.084375 350.749219 \r\nL 216.084375 384.724219 \r\nL 188.184375 384.724219 \r\nL 188.184375 350.749219 \r\n\" style=\"fill:#d72549;\"/>\r\n    <path clip-path=\"url(#p0aeacec520)\" d=\"M 216.084375 350.749219 \r\nL 243.984375 350.749219 \r\nL 243.984375 384.724219 \r\nL 216.084375 384.724219 \r\nL 216.084375 350.749219 \r\n\" style=\"fill:#dd2c45;\"/>\r\n    <path clip-path=\"url(#p0aeacec520)\" d=\"M 243.984375 350.749219 \r\nL 271.884375 350.749219 \r\nL 271.884375 384.724219 \r\nL 243.984375 384.724219 \r\nL 243.984375 350.749219 \r\n\" style=\"fill:#e73d3f;\"/>\r\n    <path clip-path=\"url(#p0aeacec520)\" d=\"M 271.884375 350.749219 \r\nL 299.784375 350.749219 \r\nL 299.784375 384.724219 \r\nL 271.884375 384.724219 \r\nL 271.884375 350.749219 \r\n\" style=\"fill:#d72549;\"/>\r\n    <path clip-path=\"url(#p0aeacec520)\" d=\"M 299.784375 350.749219 \r\nL 327.684375 350.749219 \r\nL 327.684375 384.724219 \r\nL 299.784375 384.724219 \r\nL 299.784375 350.749219 \r\n\" style=\"fill:#bd1655;\"/>\r\n    <path clip-path=\"url(#p0aeacec520)\" d=\"M 327.684375 350.749219 \r\nL 355.584375 350.749219 \r\nL 355.584375 384.724219 \r\nL 327.684375 384.724219 \r\nL 327.684375 350.749219 \r\n\" style=\"fill:#b71657;\"/>\r\n    <path clip-path=\"url(#p0aeacec520)\" d=\"M 355.584375 350.749219 \r\nL 383.484375 350.749219 \r\nL 383.484375 384.724219 \r\nL 355.584375 384.724219 \r\nL 355.584375 350.749219 \r\n\" style=\"fill:#dc2b46;\"/>\r\n    <path clip-path=\"url(#p0aeacec520)\" d=\"M 383.484375 350.749219 \r\nL 411.384375 350.749219 \r\nL 411.384375 384.724219 \r\nL 383.484375 384.724219 \r\nL 383.484375 350.749219 \r\n\" style=\"fill:#faebdd;\"/>\r\n    <path clip-path=\"url(#p0aeacec520)\" d=\"M 411.384375 350.749219 \r\nL 439.284375 350.749219 \r\nL 439.284375 384.724219 \r\nL 411.384375 384.724219 \r\nL 411.384375 350.749219 \r\n\" style=\"fill:#841e5a;\"/>\r\n    <path clip-path=\"url(#p0aeacec520)\" d=\"M 439.284375 350.749219 \r\nL 467.184375 350.749219 \r\nL 467.184375 384.724219 \r\nL 439.284375 384.724219 \r\nL 439.284375 350.749219 \r\n\" style=\"fill:#511e4d;\"/>\r\n    <path clip-path=\"url(#p0aeacec520)\" d=\"M 467.184375 350.749219 \r\nL 495.084375 350.749219 \r\nL 495.084375 384.724219 \r\nL 467.184375 384.724219 \r\nL 467.184375 350.749219 \r\n\" style=\"fill:#ed503e;\"/>\r\n    <path clip-path=\"url(#p0aeacec520)\" d=\"M 495.084375 350.749219 \r\nL 522.984375 350.749219 \r\nL 522.984375 384.724219 \r\nL 495.084375 384.724219 \r\nL 495.084375 350.749219 \r\n\" style=\"fill:#e83f3f;\"/>\r\n    <path clip-path=\"url(#p0aeacec520)\" d=\"M 522.984375 350.749219 \r\nL 550.884375 350.749219 \r\nL 550.884375 384.724219 \r\nL 522.984375 384.724219 \r\nL 522.984375 350.749219 \r\n\" style=\"fill:#c71951;\"/>\r\n    <path clip-path=\"url(#p0aeacec520)\" d=\"M 104.484375 384.724219 \r\nL 132.384375 384.724219 \r\nL 132.384375 418.699219 \r\nL 104.484375 418.699219 \r\nL 104.484375 384.724219 \r\n\" style=\"fill:#c81951;\"/>\r\n    <path clip-path=\"url(#p0aeacec520)\" d=\"M 132.384375 384.724219 \r\nL 160.284375 384.724219 \r\nL 160.284375 418.699219 \r\nL 132.384375 418.699219 \r\nL 132.384375 384.724219 \r\n\" style=\"fill:#e13342;\"/>\r\n    <path clip-path=\"url(#p0aeacec520)\" d=\"M 160.284375 384.724219 \r\nL 188.184375 384.724219 \r\nL 188.184375 418.699219 \r\nL 160.284375 418.699219 \r\nL 160.284375 384.724219 \r\n\" style=\"fill:#ef5a41;\"/>\r\n    <path clip-path=\"url(#p0aeacec520)\" d=\"M 188.184375 384.724219 \r\nL 216.084375 384.724219 \r\nL 216.084375 418.699219 \r\nL 188.184375 418.699219 \r\nL 188.184375 384.724219 \r\n\" style=\"fill:#f58f66;\"/>\r\n    <path clip-path=\"url(#p0aeacec520)\" d=\"M 216.084375 384.724219 \r\nL 243.984375 384.724219 \r\nL 243.984375 418.699219 \r\nL 216.084375 418.699219 \r\nL 216.084375 384.724219 \r\n\" style=\"fill:#f5976e;\"/>\r\n    <path clip-path=\"url(#p0aeacec520)\" d=\"M 243.984375 384.724219 \r\nL 271.884375 384.724219 \r\nL 271.884375 418.699219 \r\nL 243.984375 418.699219 \r\nL 243.984375 384.724219 \r\n\" style=\"fill:#a3195b;\"/>\r\n    <path clip-path=\"url(#p0aeacec520)\" d=\"M 271.884375 384.724219 \r\nL 299.784375 384.724219 \r\nL 299.784375 418.699219 \r\nL 271.884375 418.699219 \r\nL 271.884375 384.724219 \r\n\" style=\"fill:#f6b893;\"/>\r\n    <path clip-path=\"url(#p0aeacec520)\" d=\"M 299.784375 384.724219 \r\nL 327.684375 384.724219 \r\nL 327.684375 418.699219 \r\nL 299.784375 418.699219 \r\nL 299.784375 384.724219 \r\n\" style=\"fill:#f7c7a8;\"/>\r\n    <path clip-path=\"url(#p0aeacec520)\" d=\"M 327.684375 384.724219 \r\nL 355.584375 384.724219 \r\nL 355.584375 418.699219 \r\nL 327.684375 418.699219 \r\nL 327.684375 384.724219 \r\n\" style=\"fill:#f58d64;\"/>\r\n    <path clip-path=\"url(#p0aeacec520)\" d=\"M 355.584375 384.724219 \r\nL 383.484375 384.724219 \r\nL 383.484375 418.699219 \r\nL 355.584375 418.699219 \r\nL 355.584375 384.724219 \r\n\" style=\"fill:#cd1c4e;\"/>\r\n    <path clip-path=\"url(#p0aeacec520)\" d=\"M 383.484375 384.724219 \r\nL 411.384375 384.724219 \r\nL 411.384375 418.699219 \r\nL 383.484375 418.699219 \r\nL 383.484375 384.724219 \r\n\" style=\"fill:#841e5a;\"/>\r\n    <path clip-path=\"url(#p0aeacec520)\" d=\"M 411.384375 384.724219 \r\nL 439.284375 384.724219 \r\nL 439.284375 418.699219 \r\nL 411.384375 418.699219 \r\nL 411.384375 384.724219 \r\n\" style=\"fill:#faebdd;\"/>\r\n    <path clip-path=\"url(#p0aeacec520)\" d=\"M 439.284375 384.724219 \r\nL 467.184375 384.724219 \r\nL 467.184375 418.699219 \r\nL 439.284375 418.699219 \r\nL 439.284375 384.724219 \r\n\" style=\"fill:#ce1d4e;\"/>\r\n    <path clip-path=\"url(#p0aeacec520)\" d=\"M 467.184375 384.724219 \r\nL 495.084375 384.724219 \r\nL 495.084375 418.699219 \r\nL 467.184375 418.699219 \r\nL 467.184375 384.724219 \r\n\" style=\"fill:#03051a;\"/>\r\n    <path clip-path=\"url(#p0aeacec520)\" d=\"M 495.084375 384.724219 \r\nL 522.984375 384.724219 \r\nL 522.984375 418.699219 \r\nL 495.084375 418.699219 \r\nL 495.084375 384.724219 \r\n\" style=\"fill:#05061b;\"/>\r\n    <path clip-path=\"url(#p0aeacec520)\" d=\"M 522.984375 384.724219 \r\nL 550.884375 384.724219 \r\nL 550.884375 418.699219 \r\nL 522.984375 418.699219 \r\nL 522.984375 384.724219 \r\n\" style=\"fill:#f7c4a4;\"/>\r\n    <path clip-path=\"url(#p0aeacec520)\" d=\"M 104.484375 418.699219 \r\nL 132.384375 418.699219 \r\nL 132.384375 452.674219 \r\nL 104.484375 452.674219 \r\nL 104.484375 418.699219 \r\n\" style=\"fill:#e8403e;\"/>\r\n    <path clip-path=\"url(#p0aeacec520)\" d=\"M 132.384375 418.699219 \r\nL 160.284375 418.699219 \r\nL 160.284375 452.674219 \r\nL 132.384375 452.674219 \r\nL 132.384375 418.699219 \r\n\" style=\"fill:#e43841;\"/>\r\n    <path clip-path=\"url(#p0aeacec520)\" d=\"M 160.284375 418.699219 \r\nL 188.184375 418.699219 \r\nL 188.184375 452.674219 \r\nL 160.284375 452.674219 \r\nL 160.284375 418.699219 \r\n\" style=\"fill:#611f53;\"/>\r\n    <path clip-path=\"url(#p0aeacec520)\" d=\"M 188.184375 418.699219 \r\nL 216.084375 418.699219 \r\nL 216.084375 452.674219 \r\nL 188.184375 452.674219 \r\nL 188.184375 418.699219 \r\n\" style=\"fill:#731f58;\"/>\r\n    <path clip-path=\"url(#p0aeacec520)\" d=\"M 216.084375 418.699219 \r\nL 243.984375 418.699219 \r\nL 243.984375 452.674219 \r\nL 216.084375 452.674219 \r\nL 216.084375 418.699219 \r\n\" style=\"fill:#7b1f59;\"/>\r\n    <path clip-path=\"url(#p0aeacec520)\" d=\"M 243.984375 418.699219 \r\nL 271.884375 418.699219 \r\nL 271.884375 452.674219 \r\nL 243.984375 452.674219 \r\nL 243.984375 418.699219 \r\n\" style=\"fill:#6d1f56;\"/>\r\n    <path clip-path=\"url(#p0aeacec520)\" d=\"M 271.884375 418.699219 \r\nL 299.784375 418.699219 \r\nL 299.784375 452.674219 \r\nL 271.884375 452.674219 \r\nL 271.884375 418.699219 \r\n\" style=\"fill:#751f58;\"/>\r\n    <path clip-path=\"url(#p0aeacec520)\" d=\"M 299.784375 418.699219 \r\nL 327.684375 418.699219 \r\nL 327.684375 452.674219 \r\nL 299.784375 452.674219 \r\nL 299.784375 418.699219 \r\n\" style=\"fill:#7a1f59;\"/>\r\n    <path clip-path=\"url(#p0aeacec520)\" d=\"M 327.684375 418.699219 \r\nL 355.584375 418.699219 \r\nL 355.584375 452.674219 \r\nL 327.684375 452.674219 \r\nL 327.684375 418.699219 \r\n\" style=\"fill:#761f58;\"/>\r\n    <path clip-path=\"url(#p0aeacec520)\" d=\"M 355.584375 418.699219 \r\nL 383.484375 418.699219 \r\nL 383.484375 452.674219 \r\nL 355.584375 452.674219 \r\nL 355.584375 418.699219 \r\n\" style=\"fill:#a8185a;\"/>\r\n    <path clip-path=\"url(#p0aeacec520)\" d=\"M 383.484375 418.699219 \r\nL 411.384375 418.699219 \r\nL 411.384375 452.674219 \r\nL 383.484375 452.674219 \r\nL 383.484375 418.699219 \r\n\" style=\"fill:#511e4d;\"/>\r\n    <path clip-path=\"url(#p0aeacec520)\" d=\"M 411.384375 418.699219 \r\nL 439.284375 418.699219 \r\nL 439.284375 452.674219 \r\nL 411.384375 452.674219 \r\nL 411.384375 418.699219 \r\n\" style=\"fill:#ce1d4e;\"/>\r\n    <path clip-path=\"url(#p0aeacec520)\" d=\"M 439.284375 418.699219 \r\nL 467.184375 418.699219 \r\nL 467.184375 452.674219 \r\nL 439.284375 452.674219 \r\nL 439.284375 418.699219 \r\n\" style=\"fill:#faebdd;\"/>\r\n    <path clip-path=\"url(#p0aeacec520)\" d=\"M 467.184375 418.699219 \r\nL 495.084375 418.699219 \r\nL 495.084375 452.674219 \r\nL 467.184375 452.674219 \r\nL 467.184375 418.699219 \r\n\" style=\"fill:#9c1b5b;\"/>\r\n    <path clip-path=\"url(#p0aeacec520)\" d=\"M 495.084375 418.699219 \r\nL 522.984375 418.699219 \r\nL 522.984375 452.674219 \r\nL 495.084375 452.674219 \r\nL 495.084375 418.699219 \r\n\" style=\"fill:#aa185a;\"/>\r\n    <path clip-path=\"url(#p0aeacec520)\" d=\"M 522.984375 418.699219 \r\nL 550.884375 418.699219 \r\nL 550.884375 452.674219 \r\nL 522.984375 452.674219 \r\nL 522.984375 418.699219 \r\n\" style=\"fill:#9f1a5b;\"/>\r\n    <path clip-path=\"url(#p0aeacec520)\" d=\"M 104.484375 452.674219 \r\nL 132.384375 452.674219 \r\nL 132.384375 486.649219 \r\nL 104.484375 486.649219 \r\nL 104.484375 452.674219 \r\n\" style=\"fill:#af1759;\"/>\r\n    <path clip-path=\"url(#p0aeacec520)\" d=\"M 132.384375 452.674219 \r\nL 160.284375 452.674219 \r\nL 160.284375 486.649219 \r\nL 132.384375 486.649219 \r\nL 132.384375 452.674219 \r\n\" style=\"fill:#811e5a;\"/>\r\n    <path clip-path=\"url(#p0aeacec520)\" d=\"M 160.284375 452.674219 \r\nL 188.184375 452.674219 \r\nL 188.184375 486.649219 \r\nL 160.284375 486.649219 \r\nL 160.284375 452.674219 \r\n\" style=\"fill:#491d49;\"/>\r\n    <path clip-path=\"url(#p0aeacec520)\" d=\"M 188.184375 452.674219 \r\nL 216.084375 452.674219 \r\nL 216.084375 486.649219 \r\nL 188.184375 486.649219 \r\nL 188.184375 452.674219 \r\n\" style=\"fill:#211330;\"/>\r\n    <path clip-path=\"url(#p0aeacec520)\" d=\"M 216.084375 452.674219 \r\nL 243.984375 452.674219 \r\nL 243.984375 486.649219 \r\nL 216.084375 486.649219 \r\nL 216.084375 452.674219 \r\n\" style=\"fill:#271534;\"/>\r\n    <path clip-path=\"url(#p0aeacec520)\" d=\"M 243.984375 452.674219 \r\nL 271.884375 452.674219 \r\nL 271.884375 486.649219 \r\nL 243.984375 486.649219 \r\nL 243.984375 452.674219 \r\n\" style=\"fill:#ab185a;\"/>\r\n    <path clip-path=\"url(#p0aeacec520)\" d=\"M 271.884375 452.674219 \r\nL 299.784375 452.674219 \r\nL 299.784375 486.649219 \r\nL 271.884375 486.649219 \r\nL 271.884375 452.674219 \r\n\" style=\"fill:#100b23;\"/>\r\n    <path clip-path=\"url(#p0aeacec520)\" d=\"M 299.784375 452.674219 \r\nL 327.684375 452.674219 \r\nL 327.684375 486.649219 \r\nL 299.784375 486.649219 \r\nL 299.784375 452.674219 \r\n\" style=\"fill:#241432;\"/>\r\n    <path clip-path=\"url(#p0aeacec520)\" d=\"M 327.684375 452.674219 \r\nL 355.584375 452.674219 \r\nL 355.584375 486.649219 \r\nL 327.684375 486.649219 \r\nL 327.684375 452.674219 \r\n\" style=\"fill:#31183b;\"/>\r\n    <path clip-path=\"url(#p0aeacec520)\" d=\"M 355.584375 452.674219 \r\nL 383.484375 452.674219 \r\nL 383.484375 486.649219 \r\nL 355.584375 486.649219 \r\nL 355.584375 452.674219 \r\n\" style=\"fill:#af1759;\"/>\r\n    <path clip-path=\"url(#p0aeacec520)\" d=\"M 383.484375 452.674219 \r\nL 411.384375 452.674219 \r\nL 411.384375 486.649219 \r\nL 383.484375 486.649219 \r\nL 383.484375 452.674219 \r\n\" style=\"fill:#ed503e;\"/>\r\n    <path clip-path=\"url(#p0aeacec520)\" d=\"M 411.384375 452.674219 \r\nL 439.284375 452.674219 \r\nL 439.284375 486.649219 \r\nL 411.384375 486.649219 \r\nL 411.384375 452.674219 \r\n\" style=\"fill:#03051a;\"/>\r\n    <path clip-path=\"url(#p0aeacec520)\" d=\"M 439.284375 452.674219 \r\nL 467.184375 452.674219 \r\nL 467.184375 486.649219 \r\nL 439.284375 486.649219 \r\nL 439.284375 452.674219 \r\n\" style=\"fill:#9c1b5b;\"/>\r\n    <path clip-path=\"url(#p0aeacec520)\" d=\"M 467.184375 452.674219 \r\nL 495.084375 452.674219 \r\nL 495.084375 486.649219 \r\nL 467.184375 486.649219 \r\nL 467.184375 452.674219 \r\n\" style=\"fill:#faebdd;\"/>\r\n    <path clip-path=\"url(#p0aeacec520)\" d=\"M 495.084375 452.674219 \r\nL 522.984375 452.674219 \r\nL 522.984375 486.649219 \r\nL 495.084375 486.649219 \r\nL 495.084375 452.674219 \r\n\" style=\"fill:#fae6d6;\"/>\r\n    <path clip-path=\"url(#p0aeacec520)\" d=\"M 522.984375 452.674219 \r\nL 550.884375 452.674219 \r\nL 550.884375 486.649219 \r\nL 522.984375 486.649219 \r\nL 522.984375 452.674219 \r\n\" style=\"fill:#1d112c;\"/>\r\n    <path clip-path=\"url(#p0aeacec520)\" d=\"M 104.484375 486.649219 \r\nL 132.384375 486.649219 \r\nL 132.384375 520.624219 \r\nL 104.484375 520.624219 \r\nL 104.484375 486.649219 \r\n\" style=\"fill:#bf1654;\"/>\r\n    <path clip-path=\"url(#p0aeacec520)\" d=\"M 132.384375 486.649219 \r\nL 160.284375 486.649219 \r\nL 160.284375 520.624219 \r\nL 132.384375 520.624219 \r\nL 132.384375 486.649219 \r\n\" style=\"fill:#8b1d5b;\"/>\r\n    <path clip-path=\"url(#p0aeacec520)\" d=\"M 160.284375 486.649219 \r\nL 188.184375 486.649219 \r\nL 188.184375 520.624219 \r\nL 160.284375 520.624219 \r\nL 160.284375 486.649219 \r\n\" style=\"fill:#3a1a41;\"/>\r\n    <path clip-path=\"url(#p0aeacec520)\" d=\"M 188.184375 486.649219 \r\nL 216.084375 486.649219 \r\nL 216.084375 520.624219 \r\nL 188.184375 520.624219 \r\nL 188.184375 486.649219 \r\n\" style=\"fill:#1a102a;\"/>\r\n    <path clip-path=\"url(#p0aeacec520)\" d=\"M 216.084375 486.649219 \r\nL 243.984375 486.649219 \r\nL 243.984375 520.624219 \r\nL 216.084375 520.624219 \r\nL 216.084375 486.649219 \r\n\" style=\"fill:#1d112c;\"/>\r\n    <path clip-path=\"url(#p0aeacec520)\" d=\"M 243.984375 486.649219 \r\nL 271.884375 486.649219 \r\nL 271.884375 520.624219 \r\nL 243.984375 520.624219 \r\nL 243.984375 486.649219 \r\n\" style=\"fill:#9e1a5b;\"/>\r\n    <path clip-path=\"url(#p0aeacec520)\" d=\"M 271.884375 486.649219 \r\nL 299.784375 486.649219 \r\nL 299.784375 520.624219 \r\nL 271.884375 520.624219 \r\nL 271.884375 486.649219 \r\n\" style=\"fill:#06071c;\"/>\r\n    <path clip-path=\"url(#p0aeacec520)\" d=\"M 299.784375 486.649219 \r\nL 327.684375 486.649219 \r\nL 327.684375 520.624219 \r\nL 299.784375 520.624219 \r\nL 299.784375 486.649219 \r\n\" style=\"fill:#1e122d;\"/>\r\n    <path clip-path=\"url(#p0aeacec520)\" d=\"M 327.684375 486.649219 \r\nL 355.584375 486.649219 \r\nL 355.584375 520.624219 \r\nL 327.684375 520.624219 \r\nL 327.684375 486.649219 \r\n\" style=\"fill:#30173a;\"/>\r\n    <path clip-path=\"url(#p0aeacec520)\" d=\"M 355.584375 486.649219 \r\nL 383.484375 486.649219 \r\nL 383.484375 520.624219 \r\nL 355.584375 520.624219 \r\nL 355.584375 486.649219 \r\n\" style=\"fill:#af1759;\"/>\r\n    <path clip-path=\"url(#p0aeacec520)\" d=\"M 383.484375 486.649219 \r\nL 411.384375 486.649219 \r\nL 411.384375 520.624219 \r\nL 383.484375 520.624219 \r\nL 383.484375 486.649219 \r\n\" style=\"fill:#e83f3f;\"/>\r\n    <path clip-path=\"url(#p0aeacec520)\" d=\"M 411.384375 486.649219 \r\nL 439.284375 486.649219 \r\nL 439.284375 520.624219 \r\nL 411.384375 520.624219 \r\nL 411.384375 486.649219 \r\n\" style=\"fill:#05061b;\"/>\r\n    <path clip-path=\"url(#p0aeacec520)\" d=\"M 439.284375 486.649219 \r\nL 467.184375 486.649219 \r\nL 467.184375 520.624219 \r\nL 439.284375 520.624219 \r\nL 439.284375 486.649219 \r\n\" style=\"fill:#aa185a;\"/>\r\n    <path clip-path=\"url(#p0aeacec520)\" d=\"M 467.184375 486.649219 \r\nL 495.084375 486.649219 \r\nL 495.084375 520.624219 \r\nL 467.184375 520.624219 \r\nL 467.184375 486.649219 \r\n\" style=\"fill:#fae6d6;\"/>\r\n    <path clip-path=\"url(#p0aeacec520)\" d=\"M 495.084375 486.649219 \r\nL 522.984375 486.649219 \r\nL 522.984375 520.624219 \r\nL 495.084375 520.624219 \r\nL 495.084375 486.649219 \r\n\" style=\"fill:#faebdd;\"/>\r\n    <path clip-path=\"url(#p0aeacec520)\" d=\"M 522.984375 486.649219 \r\nL 550.884375 486.649219 \r\nL 550.884375 520.624219 \r\nL 522.984375 520.624219 \r\nL 522.984375 486.649219 \r\n\" style=\"fill:#180f29;\"/>\r\n    <path clip-path=\"url(#p0aeacec520)\" d=\"M 104.484375 520.624219 \r\nL 132.384375 520.624219 \r\nL 132.384375 554.599219 \r\nL 104.484375 554.599219 \r\nL 104.484375 520.624219 \r\n\" style=\"fill:#a3195b;\"/>\r\n    <path clip-path=\"url(#p0aeacec520)\" d=\"M 132.384375 520.624219 \r\nL 160.284375 520.624219 \r\nL 160.284375 554.599219 \r\nL 132.384375 554.599219 \r\nL 132.384375 520.624219 \r\n\" style=\"fill:#d3214b;\"/>\r\n    <path clip-path=\"url(#p0aeacec520)\" d=\"M 160.284375 520.624219 \r\nL 188.184375 520.624219 \r\nL 188.184375 554.599219 \r\nL 160.284375 554.599219 \r\nL 160.284375 520.624219 \r\n\" style=\"fill:#f59067;\"/>\r\n    <path clip-path=\"url(#p0aeacec520)\" d=\"M 188.184375 520.624219 \r\nL 216.084375 520.624219 \r\nL 216.084375 554.599219 \r\nL 188.184375 554.599219 \r\nL 188.184375 520.624219 \r\n\" style=\"fill:#f6a981;\"/>\r\n    <path clip-path=\"url(#p0aeacec520)\" d=\"M 216.084375 520.624219 \r\nL 243.984375 520.624219 \r\nL 243.984375 554.599219 \r\nL 216.084375 554.599219 \r\nL 216.084375 520.624219 \r\n\" style=\"fill:#f6b893;\"/>\r\n    <path clip-path=\"url(#p0aeacec520)\" d=\"M 243.984375 520.624219 \r\nL 271.884375 520.624219 \r\nL 271.884375 554.599219 \r\nL 243.984375 554.599219 \r\nL 243.984375 520.624219 \r\n\" style=\"fill:#d3214b;\"/>\r\n    <path clip-path=\"url(#p0aeacec520)\" d=\"M 271.884375 520.624219 \r\nL 299.784375 520.624219 \r\nL 299.784375 554.599219 \r\nL 271.884375 554.599219 \r\nL 271.884375 520.624219 \r\n\" style=\"fill:#f7c9aa;\"/>\r\n    <path clip-path=\"url(#p0aeacec520)\" d=\"M 299.784375 520.624219 \r\nL 327.684375 520.624219 \r\nL 327.684375 554.599219 \r\nL 299.784375 554.599219 \r\nL 299.784375 520.624219 \r\n\" style=\"fill:#f8d1b8;\"/>\r\n    <path clip-path=\"url(#p0aeacec520)\" d=\"M 327.684375 520.624219 \r\nL 355.584375 520.624219 \r\nL 355.584375 554.599219 \r\nL 327.684375 554.599219 \r\nL 327.684375 520.624219 \r\n\" style=\"fill:#f4865e;\"/>\r\n    <path clip-path=\"url(#p0aeacec520)\" d=\"M 355.584375 520.624219 \r\nL 383.484375 520.624219 \r\nL 383.484375 554.599219 \r\nL 355.584375 554.599219 \r\nL 355.584375 520.624219 \r\n\" style=\"fill:#ca1a50;\"/>\r\n    <path clip-path=\"url(#p0aeacec520)\" d=\"M 383.484375 520.624219 \r\nL 411.384375 520.624219 \r\nL 411.384375 554.599219 \r\nL 383.484375 554.599219 \r\nL 383.484375 520.624219 \r\n\" style=\"fill:#c71951;\"/>\r\n    <path clip-path=\"url(#p0aeacec520)\" d=\"M 411.384375 520.624219 \r\nL 439.284375 520.624219 \r\nL 439.284375 554.599219 \r\nL 411.384375 554.599219 \r\nL 411.384375 520.624219 \r\n\" style=\"fill:#f7c4a4;\"/>\r\n    <path clip-path=\"url(#p0aeacec520)\" d=\"M 439.284375 520.624219 \r\nL 467.184375 520.624219 \r\nL 467.184375 554.599219 \r\nL 439.284375 554.599219 \r\nL 439.284375 520.624219 \r\n\" style=\"fill:#9f1a5b;\"/>\r\n    <path clip-path=\"url(#p0aeacec520)\" d=\"M 467.184375 520.624219 \r\nL 495.084375 520.624219 \r\nL 495.084375 554.599219 \r\nL 467.184375 554.599219 \r\nL 467.184375 520.624219 \r\n\" style=\"fill:#1d112c;\"/>\r\n    <path clip-path=\"url(#p0aeacec520)\" d=\"M 495.084375 520.624219 \r\nL 522.984375 520.624219 \r\nL 522.984375 554.599219 \r\nL 495.084375 554.599219 \r\nL 495.084375 520.624219 \r\n\" style=\"fill:#180f29;\"/>\r\n    <path clip-path=\"url(#p0aeacec520)\" d=\"M 522.984375 520.624219 \r\nL 550.884375 520.624219 \r\nL 550.884375 554.599219 \r\nL 522.984375 554.599219 \r\nL 522.984375 520.624219 \r\n\" style=\"fill:#faebdd;\"/>\r\n   </g>\r\n   <g id=\"matplotlib.axis_1\">\r\n    <g id=\"xtick_1\">\r\n     <g id=\"line2d_1\">\r\n      <defs>\r\n       <path d=\"M 0 0 \r\nL 0 3.5 \r\n\" id=\"m4ae519d825\" style=\"stroke:#000000;stroke-width:0.8;\"/>\r\n      </defs>\r\n      <g>\r\n       <use style=\"stroke:#000000;stroke-width:0.8;\" x=\"118.434375\" xlink:href=\"#m4ae519d825\" y=\"554.599219\"/>\r\n      </g>\r\n     </g>\r\n     <g id=\"text_1\">\r\n      <!-- symboling -->\r\n      <defs>\r\n       <path d=\"M 44.28125 53.078125 \r\nL 44.28125 44.578125 \r\nQ 40.484375 46.53125 36.375 47.5 \r\nQ 32.28125 48.484375 27.875 48.484375 \r\nQ 21.1875 48.484375 17.84375 46.4375 \r\nQ 14.5 44.390625 14.5 40.28125 \r\nQ 14.5 37.15625 16.890625 35.375 \r\nQ 19.28125 33.59375 26.515625 31.984375 \r\nL 29.59375 31.296875 \r\nQ 39.15625 29.25 43.1875 25.515625 \r\nQ 47.21875 21.78125 47.21875 15.09375 \r\nQ 47.21875 7.46875 41.1875 3.015625 \r\nQ 35.15625 -1.421875 24.609375 -1.421875 \r\nQ 20.21875 -1.421875 15.453125 -0.5625 \r\nQ 10.6875 0.296875 5.421875 2 \r\nL 5.421875 11.28125 \r\nQ 10.40625 8.6875 15.234375 7.390625 \r\nQ 20.0625 6.109375 24.8125 6.109375 \r\nQ 31.15625 6.109375 34.5625 8.28125 \r\nQ 37.984375 10.453125 37.984375 14.40625 \r\nQ 37.984375 18.0625 35.515625 20.015625 \r\nQ 33.0625 21.96875 24.703125 23.78125 \r\nL 21.578125 24.515625 \r\nQ 13.234375 26.265625 9.515625 29.90625 \r\nQ 5.8125 33.546875 5.8125 39.890625 \r\nQ 5.8125 47.609375 11.28125 51.796875 \r\nQ 16.75 56 26.8125 56 \r\nQ 31.78125 56 36.171875 55.265625 \r\nQ 40.578125 54.546875 44.28125 53.078125 \r\nz\r\n\" id=\"DejaVuSans-115\"/>\r\n       <path d=\"M 32.171875 -5.078125 \r\nQ 28.375 -14.84375 24.75 -17.8125 \r\nQ 21.140625 -20.796875 15.09375 -20.796875 \r\nL 7.90625 -20.796875 \r\nL 7.90625 -13.28125 \r\nL 13.1875 -13.28125 \r\nQ 16.890625 -13.28125 18.9375 -11.515625 \r\nQ 21 -9.765625 23.484375 -3.21875 \r\nL 25.09375 0.875 \r\nL 2.984375 54.6875 \r\nL 12.5 54.6875 \r\nL 29.59375 11.921875 \r\nL 46.6875 54.6875 \r\nL 56.203125 54.6875 \r\nz\r\n\" id=\"DejaVuSans-121\"/>\r\n       <path d=\"M 52 44.1875 \r\nQ 55.375 50.25 60.0625 53.125 \r\nQ 64.75 56 71.09375 56 \r\nQ 79.640625 56 84.28125 50.015625 \r\nQ 88.921875 44.046875 88.921875 33.015625 \r\nL 88.921875 0 \r\nL 79.890625 0 \r\nL 79.890625 32.71875 \r\nQ 79.890625 40.578125 77.09375 44.375 \r\nQ 74.3125 48.1875 68.609375 48.1875 \r\nQ 61.625 48.1875 57.5625 43.546875 \r\nQ 53.515625 38.921875 53.515625 30.90625 \r\nL 53.515625 0 \r\nL 44.484375 0 \r\nL 44.484375 32.71875 \r\nQ 44.484375 40.625 41.703125 44.40625 \r\nQ 38.921875 48.1875 33.109375 48.1875 \r\nQ 26.21875 48.1875 22.15625 43.53125 \r\nQ 18.109375 38.875 18.109375 30.90625 \r\nL 18.109375 0 \r\nL 9.078125 0 \r\nL 9.078125 54.6875 \r\nL 18.109375 54.6875 \r\nL 18.109375 46.1875 \r\nQ 21.1875 51.21875 25.484375 53.609375 \r\nQ 29.78125 56 35.6875 56 \r\nQ 41.65625 56 45.828125 52.96875 \r\nQ 50 49.953125 52 44.1875 \r\nz\r\n\" id=\"DejaVuSans-109\"/>\r\n       <path d=\"M 48.6875 27.296875 \r\nQ 48.6875 37.203125 44.609375 42.84375 \r\nQ 40.53125 48.484375 33.40625 48.484375 \r\nQ 26.265625 48.484375 22.1875 42.84375 \r\nQ 18.109375 37.203125 18.109375 27.296875 \r\nQ 18.109375 17.390625 22.1875 11.75 \r\nQ 26.265625 6.109375 33.40625 6.109375 \r\nQ 40.53125 6.109375 44.609375 11.75 \r\nQ 48.6875 17.390625 48.6875 27.296875 \r\nz\r\nM 18.109375 46.390625 \r\nQ 20.953125 51.265625 25.265625 53.625 \r\nQ 29.59375 56 35.59375 56 \r\nQ 45.5625 56 51.78125 48.09375 \r\nQ 58.015625 40.1875 58.015625 27.296875 \r\nQ 58.015625 14.40625 51.78125 6.484375 \r\nQ 45.5625 -1.421875 35.59375 -1.421875 \r\nQ 29.59375 -1.421875 25.265625 0.953125 \r\nQ 20.953125 3.328125 18.109375 8.203125 \r\nL 18.109375 0 \r\nL 9.078125 0 \r\nL 9.078125 75.984375 \r\nL 18.109375 75.984375 \r\nz\r\n\" id=\"DejaVuSans-98\"/>\r\n       <path d=\"M 30.609375 48.390625 \r\nQ 23.390625 48.390625 19.1875 42.75 \r\nQ 14.984375 37.109375 14.984375 27.296875 \r\nQ 14.984375 17.484375 19.15625 11.84375 \r\nQ 23.34375 6.203125 30.609375 6.203125 \r\nQ 37.796875 6.203125 41.984375 11.859375 \r\nQ 46.1875 17.53125 46.1875 27.296875 \r\nQ 46.1875 37.015625 41.984375 42.703125 \r\nQ 37.796875 48.390625 30.609375 48.390625 \r\nz\r\nM 30.609375 56 \r\nQ 42.328125 56 49.015625 48.375 \r\nQ 55.71875 40.765625 55.71875 27.296875 \r\nQ 55.71875 13.875 49.015625 6.21875 \r\nQ 42.328125 -1.421875 30.609375 -1.421875 \r\nQ 18.84375 -1.421875 12.171875 6.21875 \r\nQ 5.515625 13.875 5.515625 27.296875 \r\nQ 5.515625 40.765625 12.171875 48.375 \r\nQ 18.84375 56 30.609375 56 \r\nz\r\n\" id=\"DejaVuSans-111\"/>\r\n       <path d=\"M 9.421875 75.984375 \r\nL 18.40625 75.984375 \r\nL 18.40625 0 \r\nL 9.421875 0 \r\nz\r\n\" id=\"DejaVuSans-108\"/>\r\n       <path d=\"M 9.421875 54.6875 \r\nL 18.40625 54.6875 \r\nL 18.40625 0 \r\nL 9.421875 0 \r\nz\r\nM 9.421875 75.984375 \r\nL 18.40625 75.984375 \r\nL 18.40625 64.59375 \r\nL 9.421875 64.59375 \r\nz\r\n\" id=\"DejaVuSans-105\"/>\r\n       <path d=\"M 54.890625 33.015625 \r\nL 54.890625 0 \r\nL 45.90625 0 \r\nL 45.90625 32.71875 \r\nQ 45.90625 40.484375 42.875 44.328125 \r\nQ 39.84375 48.1875 33.796875 48.1875 \r\nQ 26.515625 48.1875 22.3125 43.546875 \r\nQ 18.109375 38.921875 18.109375 30.90625 \r\nL 18.109375 0 \r\nL 9.078125 0 \r\nL 9.078125 54.6875 \r\nL 18.109375 54.6875 \r\nL 18.109375 46.1875 \r\nQ 21.34375 51.125 25.703125 53.5625 \r\nQ 30.078125 56 35.796875 56 \r\nQ 45.21875 56 50.046875 50.171875 \r\nQ 54.890625 44.34375 54.890625 33.015625 \r\nz\r\n\" id=\"DejaVuSans-110\"/>\r\n       <path d=\"M 45.40625 27.984375 \r\nQ 45.40625 37.75 41.375 43.109375 \r\nQ 37.359375 48.484375 30.078125 48.484375 \r\nQ 22.859375 48.484375 18.828125 43.109375 \r\nQ 14.796875 37.75 14.796875 27.984375 \r\nQ 14.796875 18.265625 18.828125 12.890625 \r\nQ 22.859375 7.515625 30.078125 7.515625 \r\nQ 37.359375 7.515625 41.375 12.890625 \r\nQ 45.40625 18.265625 45.40625 27.984375 \r\nz\r\nM 54.390625 6.78125 \r\nQ 54.390625 -7.171875 48.1875 -13.984375 \r\nQ 42 -20.796875 29.203125 -20.796875 \r\nQ 24.46875 -20.796875 20.265625 -20.09375 \r\nQ 16.0625 -19.390625 12.109375 -17.921875 \r\nL 12.109375 -9.1875 \r\nQ 16.0625 -11.328125 19.921875 -12.34375 \r\nQ 23.78125 -13.375 27.78125 -13.375 \r\nQ 36.625 -13.375 41.015625 -8.765625 \r\nQ 45.40625 -4.15625 45.40625 5.171875 \r\nL 45.40625 9.625 \r\nQ 42.625 4.78125 38.28125 2.390625 \r\nQ 33.9375 0 27.875 0 \r\nQ 17.828125 0 11.671875 7.65625 \r\nQ 5.515625 15.328125 5.515625 27.984375 \r\nQ 5.515625 40.671875 11.671875 48.328125 \r\nQ 17.828125 56 27.875 56 \r\nQ 33.9375 56 38.28125 53.609375 \r\nQ 42.625 51.21875 45.40625 46.390625 \r\nL 45.40625 54.6875 \r\nL 54.390625 54.6875 \r\nz\r\n\" id=\"DejaVuSans-103\"/>\r\n      </defs>\r\n      <g transform=\"translate(121.19375 613.177344)rotate(-90)scale(0.1 -0.1)\">\r\n       <use xlink:href=\"#DejaVuSans-115\"/>\r\n       <use x=\"52.099609\" xlink:href=\"#DejaVuSans-121\"/>\r\n       <use x=\"111.279297\" xlink:href=\"#DejaVuSans-109\"/>\r\n       <use x=\"208.691406\" xlink:href=\"#DejaVuSans-98\"/>\r\n       <use x=\"272.167969\" xlink:href=\"#DejaVuSans-111\"/>\r\n       <use x=\"333.349609\" xlink:href=\"#DejaVuSans-108\"/>\r\n       <use x=\"361.132812\" xlink:href=\"#DejaVuSans-105\"/>\r\n       <use x=\"388.916016\" xlink:href=\"#DejaVuSans-110\"/>\r\n       <use x=\"452.294922\" xlink:href=\"#DejaVuSans-103\"/>\r\n      </g>\r\n     </g>\r\n    </g>\r\n    <g id=\"xtick_2\">\r\n     <g id=\"line2d_2\">\r\n      <g>\r\n       <use style=\"stroke:#000000;stroke-width:0.8;\" x=\"146.334375\" xlink:href=\"#m4ae519d825\" y=\"554.599219\"/>\r\n      </g>\r\n     </g>\r\n     <g id=\"text_2\">\r\n      <!-- normalized-losses -->\r\n      <defs>\r\n       <path d=\"M 41.109375 46.296875 \r\nQ 39.59375 47.171875 37.8125 47.578125 \r\nQ 36.03125 48 33.890625 48 \r\nQ 26.265625 48 22.1875 43.046875 \r\nQ 18.109375 38.09375 18.109375 28.8125 \r\nL 18.109375 0 \r\nL 9.078125 0 \r\nL 9.078125 54.6875 \r\nL 18.109375 54.6875 \r\nL 18.109375 46.1875 \r\nQ 20.953125 51.171875 25.484375 53.578125 \r\nQ 30.03125 56 36.53125 56 \r\nQ 37.453125 56 38.578125 55.875 \r\nQ 39.703125 55.765625 41.0625 55.515625 \r\nz\r\n\" id=\"DejaVuSans-114\"/>\r\n       <path d=\"M 34.28125 27.484375 \r\nQ 23.390625 27.484375 19.1875 25 \r\nQ 14.984375 22.515625 14.984375 16.5 \r\nQ 14.984375 11.71875 18.140625 8.90625 \r\nQ 21.296875 6.109375 26.703125 6.109375 \r\nQ 34.1875 6.109375 38.703125 11.40625 \r\nQ 43.21875 16.703125 43.21875 25.484375 \r\nL 43.21875 27.484375 \r\nz\r\nM 52.203125 31.203125 \r\nL 52.203125 0 \r\nL 43.21875 0 \r\nL 43.21875 8.296875 \r\nQ 40.140625 3.328125 35.546875 0.953125 \r\nQ 30.953125 -1.421875 24.3125 -1.421875 \r\nQ 15.921875 -1.421875 10.953125 3.296875 \r\nQ 6 8.015625 6 15.921875 \r\nQ 6 25.140625 12.171875 29.828125 \r\nQ 18.359375 34.515625 30.609375 34.515625 \r\nL 43.21875 34.515625 \r\nL 43.21875 35.40625 \r\nQ 43.21875 41.609375 39.140625 45 \r\nQ 35.0625 48.390625 27.6875 48.390625 \r\nQ 23 48.390625 18.546875 47.265625 \r\nQ 14.109375 46.140625 10.015625 43.890625 \r\nL 10.015625 52.203125 \r\nQ 14.9375 54.109375 19.578125 55.046875 \r\nQ 24.21875 56 28.609375 56 \r\nQ 40.484375 56 46.34375 49.84375 \r\nQ 52.203125 43.703125 52.203125 31.203125 \r\nz\r\n\" id=\"DejaVuSans-97\"/>\r\n       <path d=\"M 5.515625 54.6875 \r\nL 48.1875 54.6875 \r\nL 48.1875 46.484375 \r\nL 14.40625 7.171875 \r\nL 48.1875 7.171875 \r\nL 48.1875 0 \r\nL 4.296875 0 \r\nL 4.296875 8.203125 \r\nL 38.09375 47.515625 \r\nL 5.515625 47.515625 \r\nz\r\n\" id=\"DejaVuSans-122\"/>\r\n       <path d=\"M 56.203125 29.59375 \r\nL 56.203125 25.203125 \r\nL 14.890625 25.203125 \r\nQ 15.484375 15.921875 20.484375 11.0625 \r\nQ 25.484375 6.203125 34.421875 6.203125 \r\nQ 39.59375 6.203125 44.453125 7.46875 \r\nQ 49.3125 8.734375 54.109375 11.28125 \r\nL 54.109375 2.78125 \r\nQ 49.265625 0.734375 44.1875 -0.34375 \r\nQ 39.109375 -1.421875 33.890625 -1.421875 \r\nQ 20.796875 -1.421875 13.15625 6.1875 \r\nQ 5.515625 13.8125 5.515625 26.8125 \r\nQ 5.515625 40.234375 12.765625 48.109375 \r\nQ 20.015625 56 32.328125 56 \r\nQ 43.359375 56 49.78125 48.890625 \r\nQ 56.203125 41.796875 56.203125 29.59375 \r\nz\r\nM 47.21875 32.234375 \r\nQ 47.125 39.59375 43.09375 43.984375 \r\nQ 39.0625 48.390625 32.421875 48.390625 \r\nQ 24.90625 48.390625 20.390625 44.140625 \r\nQ 15.875 39.890625 15.1875 32.171875 \r\nz\r\n\" id=\"DejaVuSans-101\"/>\r\n       <path d=\"M 45.40625 46.390625 \r\nL 45.40625 75.984375 \r\nL 54.390625 75.984375 \r\nL 54.390625 0 \r\nL 45.40625 0 \r\nL 45.40625 8.203125 \r\nQ 42.578125 3.328125 38.25 0.953125 \r\nQ 33.9375 -1.421875 27.875 -1.421875 \r\nQ 17.96875 -1.421875 11.734375 6.484375 \r\nQ 5.515625 14.40625 5.515625 27.296875 \r\nQ 5.515625 40.1875 11.734375 48.09375 \r\nQ 17.96875 56 27.875 56 \r\nQ 33.9375 56 38.25 53.625 \r\nQ 42.578125 51.265625 45.40625 46.390625 \r\nz\r\nM 14.796875 27.296875 \r\nQ 14.796875 17.390625 18.875 11.75 \r\nQ 22.953125 6.109375 30.078125 6.109375 \r\nQ 37.203125 6.109375 41.296875 11.75 \r\nQ 45.40625 17.390625 45.40625 27.296875 \r\nQ 45.40625 37.203125 41.296875 42.84375 \r\nQ 37.203125 48.484375 30.078125 48.484375 \r\nQ 22.953125 48.484375 18.875 42.84375 \r\nQ 14.796875 37.203125 14.796875 27.296875 \r\nz\r\n\" id=\"DejaVuSans-100\"/>\r\n       <path d=\"M 4.890625 31.390625 \r\nL 31.203125 31.390625 \r\nL 31.203125 23.390625 \r\nL 4.890625 23.390625 \r\nz\r\n\" id=\"DejaVuSans-45\"/>\r\n      </defs>\r\n      <g transform=\"translate(149.09375 651.625781)rotate(-90)scale(0.1 -0.1)\">\r\n       <use xlink:href=\"#DejaVuSans-110\"/>\r\n       <use x=\"63.378906\" xlink:href=\"#DejaVuSans-111\"/>\r\n       <use x=\"124.560547\" xlink:href=\"#DejaVuSans-114\"/>\r\n       <use x=\"165.658203\" xlink:href=\"#DejaVuSans-109\"/>\r\n       <use x=\"263.070312\" xlink:href=\"#DejaVuSans-97\"/>\r\n       <use x=\"324.349609\" xlink:href=\"#DejaVuSans-108\"/>\r\n       <use x=\"352.132812\" xlink:href=\"#DejaVuSans-105\"/>\r\n       <use x=\"379.916016\" xlink:href=\"#DejaVuSans-122\"/>\r\n       <use x=\"432.40625\" xlink:href=\"#DejaVuSans-101\"/>\r\n       <use x=\"493.929688\" xlink:href=\"#DejaVuSans-100\"/>\r\n       <use x=\"557.40625\" xlink:href=\"#DejaVuSans-45\"/>\r\n       <use x=\"593.490234\" xlink:href=\"#DejaVuSans-108\"/>\r\n       <use x=\"621.273438\" xlink:href=\"#DejaVuSans-111\"/>\r\n       <use x=\"682.455078\" xlink:href=\"#DejaVuSans-115\"/>\r\n       <use x=\"734.554688\" xlink:href=\"#DejaVuSans-115\"/>\r\n       <use x=\"786.654297\" xlink:href=\"#DejaVuSans-101\"/>\r\n       <use x=\"848.177734\" xlink:href=\"#DejaVuSans-115\"/>\r\n      </g>\r\n     </g>\r\n    </g>\r\n    <g id=\"xtick_3\">\r\n     <g id=\"line2d_3\">\r\n      <g>\r\n       <use style=\"stroke:#000000;stroke-width:0.8;\" x=\"174.234375\" xlink:href=\"#m4ae519d825\" y=\"554.599219\"/>\r\n      </g>\r\n     </g>\r\n     <g id=\"text_3\">\r\n      <!-- wheel-base -->\r\n      <defs>\r\n       <path d=\"M 4.203125 54.6875 \r\nL 13.1875 54.6875 \r\nL 24.421875 12.015625 \r\nL 35.59375 54.6875 \r\nL 46.1875 54.6875 \r\nL 57.421875 12.015625 \r\nL 68.609375 54.6875 \r\nL 77.59375 54.6875 \r\nL 63.28125 0 \r\nL 52.6875 0 \r\nL 40.921875 44.828125 \r\nL 29.109375 0 \r\nL 18.5 0 \r\nz\r\n\" id=\"DejaVuSans-119\"/>\r\n       <path d=\"M 54.890625 33.015625 \r\nL 54.890625 0 \r\nL 45.90625 0 \r\nL 45.90625 32.71875 \r\nQ 45.90625 40.484375 42.875 44.328125 \r\nQ 39.84375 48.1875 33.796875 48.1875 \r\nQ 26.515625 48.1875 22.3125 43.546875 \r\nQ 18.109375 38.921875 18.109375 30.90625 \r\nL 18.109375 0 \r\nL 9.078125 0 \r\nL 9.078125 75.984375 \r\nL 18.109375 75.984375 \r\nL 18.109375 46.1875 \r\nQ 21.34375 51.125 25.703125 53.5625 \r\nQ 30.078125 56 35.796875 56 \r\nQ 45.21875 56 50.046875 50.171875 \r\nQ 54.890625 44.34375 54.890625 33.015625 \r\nz\r\n\" id=\"DejaVuSans-104\"/>\r\n      </defs>\r\n      <g transform=\"translate(176.99375 618.646094)rotate(-90)scale(0.1 -0.1)\">\r\n       <use xlink:href=\"#DejaVuSans-119\"/>\r\n       <use x=\"81.787109\" xlink:href=\"#DejaVuSans-104\"/>\r\n       <use x=\"145.166016\" xlink:href=\"#DejaVuSans-101\"/>\r\n       <use x=\"206.689453\" xlink:href=\"#DejaVuSans-101\"/>\r\n       <use x=\"268.212891\" xlink:href=\"#DejaVuSans-108\"/>\r\n       <use x=\"295.996094\" xlink:href=\"#DejaVuSans-45\"/>\r\n       <use x=\"332.080078\" xlink:href=\"#DejaVuSans-98\"/>\r\n       <use x=\"395.556641\" xlink:href=\"#DejaVuSans-97\"/>\r\n       <use x=\"456.835938\" xlink:href=\"#DejaVuSans-115\"/>\r\n       <use x=\"508.935547\" xlink:href=\"#DejaVuSans-101\"/>\r\n      </g>\r\n     </g>\r\n    </g>\r\n    <g id=\"xtick_4\">\r\n     <g id=\"line2d_4\">\r\n      <g>\r\n       <use style=\"stroke:#000000;stroke-width:0.8;\" x=\"202.134375\" xlink:href=\"#m4ae519d825\" y=\"554.599219\"/>\r\n      </g>\r\n     </g>\r\n     <g id=\"text_4\">\r\n      <!-- length -->\r\n      <defs>\r\n       <path d=\"M 18.3125 70.21875 \r\nL 18.3125 54.6875 \r\nL 36.8125 54.6875 \r\nL 36.8125 47.703125 \r\nL 18.3125 47.703125 \r\nL 18.3125 18.015625 \r\nQ 18.3125 11.328125 20.140625 9.421875 \r\nQ 21.96875 7.515625 27.59375 7.515625 \r\nL 36.8125 7.515625 \r\nL 36.8125 0 \r\nL 27.59375 0 \r\nQ 17.1875 0 13.234375 3.875 \r\nQ 9.28125 7.765625 9.28125 18.015625 \r\nL 9.28125 47.703125 \r\nL 2.6875 47.703125 \r\nL 2.6875 54.6875 \r\nL 9.28125 54.6875 \r\nL 9.28125 70.21875 \r\nz\r\n\" id=\"DejaVuSans-116\"/>\r\n      </defs>\r\n      <g transform=\"translate(204.89375 593.474219)rotate(-90)scale(0.1 -0.1)\">\r\n       <use xlink:href=\"#DejaVuSans-108\"/>\r\n       <use x=\"27.783203\" xlink:href=\"#DejaVuSans-101\"/>\r\n       <use x=\"89.306641\" xlink:href=\"#DejaVuSans-110\"/>\r\n       <use x=\"152.685547\" xlink:href=\"#DejaVuSans-103\"/>\r\n       <use x=\"216.162109\" xlink:href=\"#DejaVuSans-116\"/>\r\n       <use x=\"255.371094\" xlink:href=\"#DejaVuSans-104\"/>\r\n      </g>\r\n     </g>\r\n    </g>\r\n    <g id=\"xtick_5\">\r\n     <g id=\"line2d_5\">\r\n      <g>\r\n       <use style=\"stroke:#000000;stroke-width:0.8;\" x=\"230.034375\" xlink:href=\"#m4ae519d825\" y=\"554.599219\"/>\r\n      </g>\r\n     </g>\r\n     <g id=\"text_5\">\r\n      <!-- width -->\r\n      <g transform=\"translate(232.79375 589.161719)rotate(-90)scale(0.1 -0.1)\">\r\n       <use xlink:href=\"#DejaVuSans-119\"/>\r\n       <use x=\"81.787109\" xlink:href=\"#DejaVuSans-105\"/>\r\n       <use x=\"109.570312\" xlink:href=\"#DejaVuSans-100\"/>\r\n       <use x=\"173.046875\" xlink:href=\"#DejaVuSans-116\"/>\r\n       <use x=\"212.255859\" xlink:href=\"#DejaVuSans-104\"/>\r\n      </g>\r\n     </g>\r\n    </g>\r\n    <g id=\"xtick_6\">\r\n     <g id=\"line2d_6\">\r\n      <g>\r\n       <use style=\"stroke:#000000;stroke-width:0.8;\" x=\"257.934375\" xlink:href=\"#m4ae519d825\" y=\"554.599219\"/>\r\n      </g>\r\n     </g>\r\n     <g id=\"text_6\">\r\n      <!-- height -->\r\n      <g transform=\"translate(260.69375 593.474219)rotate(-90)scale(0.1 -0.1)\">\r\n       <use xlink:href=\"#DejaVuSans-104\"/>\r\n       <use x=\"63.378906\" xlink:href=\"#DejaVuSans-101\"/>\r\n       <use x=\"124.902344\" xlink:href=\"#DejaVuSans-105\"/>\r\n       <use x=\"152.685547\" xlink:href=\"#DejaVuSans-103\"/>\r\n       <use x=\"216.162109\" xlink:href=\"#DejaVuSans-104\"/>\r\n       <use x=\"279.541016\" xlink:href=\"#DejaVuSans-116\"/>\r\n      </g>\r\n     </g>\r\n    </g>\r\n    <g id=\"xtick_7\">\r\n     <g id=\"line2d_7\">\r\n      <g>\r\n       <use style=\"stroke:#000000;stroke-width:0.8;\" x=\"285.834375\" xlink:href=\"#m4ae519d825\" y=\"554.599219\"/>\r\n      </g>\r\n     </g>\r\n     <g id=\"text_7\">\r\n      <!-- curb-weight -->\r\n      <defs>\r\n       <path d=\"M 48.78125 52.59375 \r\nL 48.78125 44.1875 \r\nQ 44.96875 46.296875 41.140625 47.34375 \r\nQ 37.3125 48.390625 33.40625 48.390625 \r\nQ 24.65625 48.390625 19.8125 42.84375 \r\nQ 14.984375 37.3125 14.984375 27.296875 \r\nQ 14.984375 17.28125 19.8125 11.734375 \r\nQ 24.65625 6.203125 33.40625 6.203125 \r\nQ 37.3125 6.203125 41.140625 7.25 \r\nQ 44.96875 8.296875 48.78125 10.40625 \r\nL 48.78125 2.09375 \r\nQ 45.015625 0.34375 40.984375 -0.53125 \r\nQ 36.96875 -1.421875 32.421875 -1.421875 \r\nQ 20.0625 -1.421875 12.78125 6.34375 \r\nQ 5.515625 14.109375 5.515625 27.296875 \r\nQ 5.515625 40.671875 12.859375 48.328125 \r\nQ 20.21875 56 33.015625 56 \r\nQ 37.15625 56 41.109375 55.140625 \r\nQ 45.0625 54.296875 48.78125 52.59375 \r\nz\r\n\" id=\"DejaVuSans-99\"/>\r\n       <path d=\"M 8.5 21.578125 \r\nL 8.5 54.6875 \r\nL 17.484375 54.6875 \r\nL 17.484375 21.921875 \r\nQ 17.484375 14.15625 20.5 10.265625 \r\nQ 23.53125 6.390625 29.59375 6.390625 \r\nQ 36.859375 6.390625 41.078125 11.03125 \r\nQ 45.3125 15.671875 45.3125 23.6875 \r\nL 45.3125 54.6875 \r\nL 54.296875 54.6875 \r\nL 54.296875 0 \r\nL 45.3125 0 \r\nL 45.3125 8.40625 \r\nQ 42.046875 3.421875 37.71875 1 \r\nQ 33.40625 -1.421875 27.6875 -1.421875 \r\nQ 18.265625 -1.421875 13.375 4.4375 \r\nQ 8.5 10.296875 8.5 21.578125 \r\nz\r\nM 31.109375 56 \r\nz\r\n\" id=\"DejaVuSans-117\"/>\r\n      </defs>\r\n      <g transform=\"translate(288.59375 621.217969)rotate(-90)scale(0.1 -0.1)\">\r\n       <use xlink:href=\"#DejaVuSans-99\"/>\r\n       <use x=\"54.980469\" xlink:href=\"#DejaVuSans-117\"/>\r\n       <use x=\"118.359375\" xlink:href=\"#DejaVuSans-114\"/>\r\n       <use x=\"159.472656\" xlink:href=\"#DejaVuSans-98\"/>\r\n       <use x=\"222.949219\" xlink:href=\"#DejaVuSans-45\"/>\r\n       <use x=\"259.033203\" xlink:href=\"#DejaVuSans-119\"/>\r\n       <use x=\"340.820312\" xlink:href=\"#DejaVuSans-101\"/>\r\n       <use x=\"402.34375\" xlink:href=\"#DejaVuSans-105\"/>\r\n       <use x=\"430.126953\" xlink:href=\"#DejaVuSans-103\"/>\r\n       <use x=\"493.603516\" xlink:href=\"#DejaVuSans-104\"/>\r\n       <use x=\"556.982422\" xlink:href=\"#DejaVuSans-116\"/>\r\n      </g>\r\n     </g>\r\n    </g>\r\n    <g id=\"xtick_8\">\r\n     <g id=\"line2d_8\">\r\n      <g>\r\n       <use style=\"stroke:#000000;stroke-width:0.8;\" x=\"313.734375\" xlink:href=\"#m4ae519d825\" y=\"554.599219\"/>\r\n      </g>\r\n     </g>\r\n     <g id=\"text_8\">\r\n      <!-- engine-size -->\r\n      <g transform=\"translate(316.49375 618.703906)rotate(-90)scale(0.1 -0.1)\">\r\n       <use xlink:href=\"#DejaVuSans-101\"/>\r\n       <use x=\"61.523438\" xlink:href=\"#DejaVuSans-110\"/>\r\n       <use x=\"124.902344\" xlink:href=\"#DejaVuSans-103\"/>\r\n       <use x=\"188.378906\" xlink:href=\"#DejaVuSans-105\"/>\r\n       <use x=\"216.162109\" xlink:href=\"#DejaVuSans-110\"/>\r\n       <use x=\"279.541016\" xlink:href=\"#DejaVuSans-101\"/>\r\n       <use x=\"341.064453\" xlink:href=\"#DejaVuSans-45\"/>\r\n       <use x=\"377.148438\" xlink:href=\"#DejaVuSans-115\"/>\r\n       <use x=\"429.248047\" xlink:href=\"#DejaVuSans-105\"/>\r\n       <use x=\"457.03125\" xlink:href=\"#DejaVuSans-122\"/>\r\n       <use x=\"509.521484\" xlink:href=\"#DejaVuSans-101\"/>\r\n      </g>\r\n     </g>\r\n    </g>\r\n    <g id=\"xtick_9\">\r\n     <g id=\"line2d_9\">\r\n      <g>\r\n       <use style=\"stroke:#000000;stroke-width:0.8;\" x=\"341.634375\" xlink:href=\"#m4ae519d825\" y=\"554.599219\"/>\r\n      </g>\r\n     </g>\r\n     <g id=\"text_9\">\r\n      <!-- bore -->\r\n      <g transform=\"translate(344.39375 584.327344)rotate(-90)scale(0.1 -0.1)\">\r\n       <use xlink:href=\"#DejaVuSans-98\"/>\r\n       <use x=\"63.476562\" xlink:href=\"#DejaVuSans-111\"/>\r\n       <use x=\"124.658203\" xlink:href=\"#DejaVuSans-114\"/>\r\n       <use x=\"165.740234\" xlink:href=\"#DejaVuSans-101\"/>\r\n      </g>\r\n     </g>\r\n    </g>\r\n    <g id=\"xtick_10\">\r\n     <g id=\"line2d_10\">\r\n      <g>\r\n       <use style=\"stroke:#000000;stroke-width:0.8;\" x=\"369.534375\" xlink:href=\"#m4ae519d825\" y=\"554.599219\"/>\r\n      </g>\r\n     </g>\r\n     <g id=\"text_10\">\r\n      <!-- stroke -->\r\n      <defs>\r\n       <path d=\"M 9.078125 75.984375 \r\nL 18.109375 75.984375 \r\nL 18.109375 31.109375 \r\nL 44.921875 54.6875 \r\nL 56.390625 54.6875 \r\nL 27.390625 29.109375 \r\nL 57.625 0 \r\nL 45.90625 0 \r\nL 18.109375 26.703125 \r\nL 18.109375 0 \r\nL 9.078125 0 \r\nz\r\n\" id=\"DejaVuSans-107\"/>\r\n      </defs>\r\n      <g transform=\"translate(372.29375 592.894531)rotate(-90)scale(0.1 -0.1)\">\r\n       <use xlink:href=\"#DejaVuSans-115\"/>\r\n       <use x=\"52.099609\" xlink:href=\"#DejaVuSans-116\"/>\r\n       <use x=\"91.308594\" xlink:href=\"#DejaVuSans-114\"/>\r\n       <use x=\"132.390625\" xlink:href=\"#DejaVuSans-111\"/>\r\n       <use x=\"193.572266\" xlink:href=\"#DejaVuSans-107\"/>\r\n       <use x=\"251.435547\" xlink:href=\"#DejaVuSans-101\"/>\r\n      </g>\r\n     </g>\r\n    </g>\r\n    <g id=\"xtick_11\">\r\n     <g id=\"line2d_11\">\r\n      <g>\r\n       <use style=\"stroke:#000000;stroke-width:0.8;\" x=\"397.434375\" xlink:href=\"#m4ae519d825\" y=\"554.599219\"/>\r\n      </g>\r\n     </g>\r\n     <g id=\"text_11\">\r\n      <!-- compression-ratio -->\r\n      <defs>\r\n       <path d=\"M 18.109375 8.203125 \r\nL 18.109375 -20.796875 \r\nL 9.078125 -20.796875 \r\nL 9.078125 54.6875 \r\nL 18.109375 54.6875 \r\nL 18.109375 46.390625 \r\nQ 20.953125 51.265625 25.265625 53.625 \r\nQ 29.59375 56 35.59375 56 \r\nQ 45.5625 56 51.78125 48.09375 \r\nQ 58.015625 40.1875 58.015625 27.296875 \r\nQ 58.015625 14.40625 51.78125 6.484375 \r\nQ 45.5625 -1.421875 35.59375 -1.421875 \r\nQ 29.59375 -1.421875 25.265625 0.953125 \r\nQ 20.953125 3.328125 18.109375 8.203125 \r\nz\r\nM 48.6875 27.296875 \r\nQ 48.6875 37.203125 44.609375 42.84375 \r\nQ 40.53125 48.484375 33.40625 48.484375 \r\nQ 26.265625 48.484375 22.1875 42.84375 \r\nQ 18.109375 37.203125 18.109375 27.296875 \r\nQ 18.109375 17.390625 22.1875 11.75 \r\nQ 26.265625 6.109375 33.40625 6.109375 \r\nQ 40.53125 6.109375 44.609375 11.75 \r\nQ 48.6875 17.390625 48.6875 27.296875 \r\nz\r\n\" id=\"DejaVuSans-112\"/>\r\n      </defs>\r\n      <g transform=\"translate(400.19375 651.883594)rotate(-90)scale(0.1 -0.1)\">\r\n       <use xlink:href=\"#DejaVuSans-99\"/>\r\n       <use x=\"54.980469\" xlink:href=\"#DejaVuSans-111\"/>\r\n       <use x=\"116.162109\" xlink:href=\"#DejaVuSans-109\"/>\r\n       <use x=\"213.574219\" xlink:href=\"#DejaVuSans-112\"/>\r\n       <use x=\"277.050781\" xlink:href=\"#DejaVuSans-114\"/>\r\n       <use x=\"318.132812\" xlink:href=\"#DejaVuSans-101\"/>\r\n       <use x=\"379.65625\" xlink:href=\"#DejaVuSans-115\"/>\r\n       <use x=\"431.755859\" xlink:href=\"#DejaVuSans-115\"/>\r\n       <use x=\"483.855469\" xlink:href=\"#DejaVuSans-105\"/>\r\n       <use x=\"511.638672\" xlink:href=\"#DejaVuSans-111\"/>\r\n       <use x=\"572.820312\" xlink:href=\"#DejaVuSans-110\"/>\r\n       <use x=\"636.199219\" xlink:href=\"#DejaVuSans-45\"/>\r\n       <use x=\"672.283203\" xlink:href=\"#DejaVuSans-114\"/>\r\n       <use x=\"713.396484\" xlink:href=\"#DejaVuSans-97\"/>\r\n       <use x=\"774.675781\" xlink:href=\"#DejaVuSans-116\"/>\r\n       <use x=\"813.884766\" xlink:href=\"#DejaVuSans-105\"/>\r\n       <use x=\"841.667969\" xlink:href=\"#DejaVuSans-111\"/>\r\n      </g>\r\n     </g>\r\n    </g>\r\n    <g id=\"xtick_12\">\r\n     <g id=\"line2d_12\">\r\n      <g>\r\n       <use style=\"stroke:#000000;stroke-width:0.8;\" x=\"425.334375\" xlink:href=\"#m4ae519d825\" y=\"554.599219\"/>\r\n      </g>\r\n     </g>\r\n     <g id=\"text_12\">\r\n      <!-- horsepower -->\r\n      <g transform=\"translate(428.09375 620.438281)rotate(-90)scale(0.1 -0.1)\">\r\n       <use xlink:href=\"#DejaVuSans-104\"/>\r\n       <use x=\"63.378906\" xlink:href=\"#DejaVuSans-111\"/>\r\n       <use x=\"124.560547\" xlink:href=\"#DejaVuSans-114\"/>\r\n       <use x=\"165.673828\" xlink:href=\"#DejaVuSans-115\"/>\r\n       <use x=\"217.773438\" xlink:href=\"#DejaVuSans-101\"/>\r\n       <use x=\"279.296875\" xlink:href=\"#DejaVuSans-112\"/>\r\n       <use x=\"342.773438\" xlink:href=\"#DejaVuSans-111\"/>\r\n       <use x=\"403.955078\" xlink:href=\"#DejaVuSans-119\"/>\r\n       <use x=\"485.742188\" xlink:href=\"#DejaVuSans-101\"/>\r\n       <use x=\"547.265625\" xlink:href=\"#DejaVuSans-114\"/>\r\n      </g>\r\n     </g>\r\n    </g>\r\n    <g id=\"xtick_13\">\r\n     <g id=\"line2d_13\">\r\n      <g>\r\n       <use style=\"stroke:#000000;stroke-width:0.8;\" x=\"453.234375\" xlink:href=\"#m4ae519d825\" y=\"554.599219\"/>\r\n      </g>\r\n     </g>\r\n     <g id=\"text_13\">\r\n      <!-- peak-rpm -->\r\n      <g transform=\"translate(455.99375 609.827344)rotate(-90)scale(0.1 -0.1)\">\r\n       <use xlink:href=\"#DejaVuSans-112\"/>\r\n       <use x=\"63.476562\" xlink:href=\"#DejaVuSans-101\"/>\r\n       <use x=\"125\" xlink:href=\"#DejaVuSans-97\"/>\r\n       <use x=\"186.279297\" xlink:href=\"#DejaVuSans-107\"/>\r\n       <use x=\"244.189453\" xlink:href=\"#DejaVuSans-45\"/>\r\n       <use x=\"280.273438\" xlink:href=\"#DejaVuSans-114\"/>\r\n       <use x=\"321.386719\" xlink:href=\"#DejaVuSans-112\"/>\r\n       <use x=\"384.863281\" xlink:href=\"#DejaVuSans-109\"/>\r\n      </g>\r\n     </g>\r\n    </g>\r\n    <g id=\"xtick_14\">\r\n     <g id=\"line2d_14\">\r\n      <g>\r\n       <use style=\"stroke:#000000;stroke-width:0.8;\" x=\"481.134375\" xlink:href=\"#m4ae519d825\" y=\"554.599219\"/>\r\n      </g>\r\n     </g>\r\n     <g id=\"text_14\">\r\n      <!-- city-mpg -->\r\n      <g transform=\"translate(483.89375 605.758594)rotate(-90)scale(0.1 -0.1)\">\r\n       <use xlink:href=\"#DejaVuSans-99\"/>\r\n       <use x=\"54.980469\" xlink:href=\"#DejaVuSans-105\"/>\r\n       <use x=\"82.763672\" xlink:href=\"#DejaVuSans-116\"/>\r\n       <use x=\"121.972656\" xlink:href=\"#DejaVuSans-121\"/>\r\n       <use x=\"181.136719\" xlink:href=\"#DejaVuSans-45\"/>\r\n       <use x=\"217.220703\" xlink:href=\"#DejaVuSans-109\"/>\r\n       <use x=\"314.632812\" xlink:href=\"#DejaVuSans-112\"/>\r\n       <use x=\"378.109375\" xlink:href=\"#DejaVuSans-103\"/>\r\n      </g>\r\n     </g>\r\n    </g>\r\n    <g id=\"xtick_15\">\r\n     <g id=\"line2d_15\">\r\n      <g>\r\n       <use style=\"stroke:#000000;stroke-width:0.8;\" x=\"509.034375\" xlink:href=\"#m4ae519d825\" y=\"554.599219\"/>\r\n      </g>\r\n     </g>\r\n     <g id=\"text_15\">\r\n      <!-- highway-mpg -->\r\n      <g transform=\"translate(511.79375 629.669531)rotate(-90)scale(0.1 -0.1)\">\r\n       <use xlink:href=\"#DejaVuSans-104\"/>\r\n       <use x=\"63.378906\" xlink:href=\"#DejaVuSans-105\"/>\r\n       <use x=\"91.162109\" xlink:href=\"#DejaVuSans-103\"/>\r\n       <use x=\"154.638672\" xlink:href=\"#DejaVuSans-104\"/>\r\n       <use x=\"218.017578\" xlink:href=\"#DejaVuSans-119\"/>\r\n       <use x=\"299.804688\" xlink:href=\"#DejaVuSans-97\"/>\r\n       <use x=\"361.083984\" xlink:href=\"#DejaVuSans-121\"/>\r\n       <use x=\"420.248047\" xlink:href=\"#DejaVuSans-45\"/>\r\n       <use x=\"456.332031\" xlink:href=\"#DejaVuSans-109\"/>\r\n       <use x=\"553.744141\" xlink:href=\"#DejaVuSans-112\"/>\r\n       <use x=\"617.220703\" xlink:href=\"#DejaVuSans-103\"/>\r\n      </g>\r\n     </g>\r\n    </g>\r\n    <g id=\"xtick_16\">\r\n     <g id=\"line2d_16\">\r\n      <g>\r\n       <use style=\"stroke:#000000;stroke-width:0.8;\" x=\"536.934375\" xlink:href=\"#m4ae519d825\" y=\"554.599219\"/>\r\n      </g>\r\n     </g>\r\n     <g id=\"text_16\">\r\n      <!-- price -->\r\n      <g transform=\"translate(539.69375 586.488281)rotate(-90)scale(0.1 -0.1)\">\r\n       <use xlink:href=\"#DejaVuSans-112\"/>\r\n       <use x=\"63.476562\" xlink:href=\"#DejaVuSans-114\"/>\r\n       <use x=\"104.589844\" xlink:href=\"#DejaVuSans-105\"/>\r\n       <use x=\"132.373047\" xlink:href=\"#DejaVuSans-99\"/>\r\n       <use x=\"187.353516\" xlink:href=\"#DejaVuSans-101\"/>\r\n      </g>\r\n     </g>\r\n    </g>\r\n   </g>\r\n   <g id=\"matplotlib.axis_2\">\r\n    <g id=\"ytick_1\">\r\n     <g id=\"line2d_17\">\r\n      <defs>\r\n       <path d=\"M 0 0 \r\nL -3.5 0 \r\n\" id=\"m4230ddf1bd\" style=\"stroke:#000000;stroke-width:0.8;\"/>\r\n      </defs>\r\n      <g>\r\n       <use style=\"stroke:#000000;stroke-width:0.8;\" x=\"104.484375\" xlink:href=\"#m4230ddf1bd\" y=\"27.986719\"/>\r\n      </g>\r\n     </g>\r\n     <g id=\"text_17\">\r\n      <!-- symboling -->\r\n      <g transform=\"translate(45.90625 31.785937)scale(0.1 -0.1)\">\r\n       <use xlink:href=\"#DejaVuSans-115\"/>\r\n       <use x=\"52.099609\" xlink:href=\"#DejaVuSans-121\"/>\r\n       <use x=\"111.279297\" xlink:href=\"#DejaVuSans-109\"/>\r\n       <use x=\"208.691406\" xlink:href=\"#DejaVuSans-98\"/>\r\n       <use x=\"272.167969\" xlink:href=\"#DejaVuSans-111\"/>\r\n       <use x=\"333.349609\" xlink:href=\"#DejaVuSans-108\"/>\r\n       <use x=\"361.132812\" xlink:href=\"#DejaVuSans-105\"/>\r\n       <use x=\"388.916016\" xlink:href=\"#DejaVuSans-110\"/>\r\n       <use x=\"452.294922\" xlink:href=\"#DejaVuSans-103\"/>\r\n      </g>\r\n     </g>\r\n    </g>\r\n    <g id=\"ytick_2\">\r\n     <g id=\"line2d_18\">\r\n      <g>\r\n       <use style=\"stroke:#000000;stroke-width:0.8;\" x=\"104.484375\" xlink:href=\"#m4230ddf1bd\" y=\"61.961719\"/>\r\n      </g>\r\n     </g>\r\n     <g id=\"text_18\">\r\n      <!-- normalized-losses -->\r\n      <g transform=\"translate(7.457813 65.760937)scale(0.1 -0.1)\">\r\n       <use xlink:href=\"#DejaVuSans-110\"/>\r\n       <use x=\"63.378906\" xlink:href=\"#DejaVuSans-111\"/>\r\n       <use x=\"124.560547\" xlink:href=\"#DejaVuSans-114\"/>\r\n       <use x=\"165.658203\" xlink:href=\"#DejaVuSans-109\"/>\r\n       <use x=\"263.070312\" xlink:href=\"#DejaVuSans-97\"/>\r\n       <use x=\"324.349609\" xlink:href=\"#DejaVuSans-108\"/>\r\n       <use x=\"352.132812\" xlink:href=\"#DejaVuSans-105\"/>\r\n       <use x=\"379.916016\" xlink:href=\"#DejaVuSans-122\"/>\r\n       <use x=\"432.40625\" xlink:href=\"#DejaVuSans-101\"/>\r\n       <use x=\"493.929688\" xlink:href=\"#DejaVuSans-100\"/>\r\n       <use x=\"557.40625\" xlink:href=\"#DejaVuSans-45\"/>\r\n       <use x=\"593.490234\" xlink:href=\"#DejaVuSans-108\"/>\r\n       <use x=\"621.273438\" xlink:href=\"#DejaVuSans-111\"/>\r\n       <use x=\"682.455078\" xlink:href=\"#DejaVuSans-115\"/>\r\n       <use x=\"734.554688\" xlink:href=\"#DejaVuSans-115\"/>\r\n       <use x=\"786.654297\" xlink:href=\"#DejaVuSans-101\"/>\r\n       <use x=\"848.177734\" xlink:href=\"#DejaVuSans-115\"/>\r\n      </g>\r\n     </g>\r\n    </g>\r\n    <g id=\"ytick_3\">\r\n     <g id=\"line2d_19\">\r\n      <g>\r\n       <use style=\"stroke:#000000;stroke-width:0.8;\" x=\"104.484375\" xlink:href=\"#m4230ddf1bd\" y=\"95.936719\"/>\r\n      </g>\r\n     </g>\r\n     <g id=\"text_19\">\r\n      <!-- wheel-base -->\r\n      <g transform=\"translate(40.4375 99.735937)scale(0.1 -0.1)\">\r\n       <use xlink:href=\"#DejaVuSans-119\"/>\r\n       <use x=\"81.787109\" xlink:href=\"#DejaVuSans-104\"/>\r\n       <use x=\"145.166016\" xlink:href=\"#DejaVuSans-101\"/>\r\n       <use x=\"206.689453\" xlink:href=\"#DejaVuSans-101\"/>\r\n       <use x=\"268.212891\" xlink:href=\"#DejaVuSans-108\"/>\r\n       <use x=\"295.996094\" xlink:href=\"#DejaVuSans-45\"/>\r\n       <use x=\"332.080078\" xlink:href=\"#DejaVuSans-98\"/>\r\n       <use x=\"395.556641\" xlink:href=\"#DejaVuSans-97\"/>\r\n       <use x=\"456.835938\" xlink:href=\"#DejaVuSans-115\"/>\r\n       <use x=\"508.935547\" xlink:href=\"#DejaVuSans-101\"/>\r\n      </g>\r\n     </g>\r\n    </g>\r\n    <g id=\"ytick_4\">\r\n     <g id=\"line2d_20\">\r\n      <g>\r\n       <use style=\"stroke:#000000;stroke-width:0.8;\" x=\"104.484375\" xlink:href=\"#m4230ddf1bd\" y=\"129.911719\"/>\r\n      </g>\r\n     </g>\r\n     <g id=\"text_20\">\r\n      <!-- length -->\r\n      <g transform=\"translate(65.609375 133.710937)scale(0.1 -0.1)\">\r\n       <use xlink:href=\"#DejaVuSans-108\"/>\r\n       <use x=\"27.783203\" xlink:href=\"#DejaVuSans-101\"/>\r\n       <use x=\"89.306641\" xlink:href=\"#DejaVuSans-110\"/>\r\n       <use x=\"152.685547\" xlink:href=\"#DejaVuSans-103\"/>\r\n       <use x=\"216.162109\" xlink:href=\"#DejaVuSans-116\"/>\r\n       <use x=\"255.371094\" xlink:href=\"#DejaVuSans-104\"/>\r\n      </g>\r\n     </g>\r\n    </g>\r\n    <g id=\"ytick_5\">\r\n     <g id=\"line2d_21\">\r\n      <g>\r\n       <use style=\"stroke:#000000;stroke-width:0.8;\" x=\"104.484375\" xlink:href=\"#m4230ddf1bd\" y=\"163.886719\"/>\r\n      </g>\r\n     </g>\r\n     <g id=\"text_21\">\r\n      <!-- width -->\r\n      <g transform=\"translate(69.921875 167.685937)scale(0.1 -0.1)\">\r\n       <use xlink:href=\"#DejaVuSans-119\"/>\r\n       <use x=\"81.787109\" xlink:href=\"#DejaVuSans-105\"/>\r\n       <use x=\"109.570312\" xlink:href=\"#DejaVuSans-100\"/>\r\n       <use x=\"173.046875\" xlink:href=\"#DejaVuSans-116\"/>\r\n       <use x=\"212.255859\" xlink:href=\"#DejaVuSans-104\"/>\r\n      </g>\r\n     </g>\r\n    </g>\r\n    <g id=\"ytick_6\">\r\n     <g id=\"line2d_22\">\r\n      <g>\r\n       <use style=\"stroke:#000000;stroke-width:0.8;\" x=\"104.484375\" xlink:href=\"#m4230ddf1bd\" y=\"197.861719\"/>\r\n      </g>\r\n     </g>\r\n     <g id=\"text_22\">\r\n      <!-- height -->\r\n      <g transform=\"translate(65.609375 201.660937)scale(0.1 -0.1)\">\r\n       <use xlink:href=\"#DejaVuSans-104\"/>\r\n       <use x=\"63.378906\" xlink:href=\"#DejaVuSans-101\"/>\r\n       <use x=\"124.902344\" xlink:href=\"#DejaVuSans-105\"/>\r\n       <use x=\"152.685547\" xlink:href=\"#DejaVuSans-103\"/>\r\n       <use x=\"216.162109\" xlink:href=\"#DejaVuSans-104\"/>\r\n       <use x=\"279.541016\" xlink:href=\"#DejaVuSans-116\"/>\r\n      </g>\r\n     </g>\r\n    </g>\r\n    <g id=\"ytick_7\">\r\n     <g id=\"line2d_23\">\r\n      <g>\r\n       <use style=\"stroke:#000000;stroke-width:0.8;\" x=\"104.484375\" xlink:href=\"#m4230ddf1bd\" y=\"231.836719\"/>\r\n      </g>\r\n     </g>\r\n     <g id=\"text_23\">\r\n      <!-- curb-weight -->\r\n      <g transform=\"translate(37.865625 235.635937)scale(0.1 -0.1)\">\r\n       <use xlink:href=\"#DejaVuSans-99\"/>\r\n       <use x=\"54.980469\" xlink:href=\"#DejaVuSans-117\"/>\r\n       <use x=\"118.359375\" xlink:href=\"#DejaVuSans-114\"/>\r\n       <use x=\"159.472656\" xlink:href=\"#DejaVuSans-98\"/>\r\n       <use x=\"222.949219\" xlink:href=\"#DejaVuSans-45\"/>\r\n       <use x=\"259.033203\" xlink:href=\"#DejaVuSans-119\"/>\r\n       <use x=\"340.820312\" xlink:href=\"#DejaVuSans-101\"/>\r\n       <use x=\"402.34375\" xlink:href=\"#DejaVuSans-105\"/>\r\n       <use x=\"430.126953\" xlink:href=\"#DejaVuSans-103\"/>\r\n       <use x=\"493.603516\" xlink:href=\"#DejaVuSans-104\"/>\r\n       <use x=\"556.982422\" xlink:href=\"#DejaVuSans-116\"/>\r\n      </g>\r\n     </g>\r\n    </g>\r\n    <g id=\"ytick_8\">\r\n     <g id=\"line2d_24\">\r\n      <g>\r\n       <use style=\"stroke:#000000;stroke-width:0.8;\" x=\"104.484375\" xlink:href=\"#m4230ddf1bd\" y=\"265.811719\"/>\r\n      </g>\r\n     </g>\r\n     <g id=\"text_24\">\r\n      <!-- engine-size -->\r\n      <g transform=\"translate(40.379688 269.610937)scale(0.1 -0.1)\">\r\n       <use xlink:href=\"#DejaVuSans-101\"/>\r\n       <use x=\"61.523438\" xlink:href=\"#DejaVuSans-110\"/>\r\n       <use x=\"124.902344\" xlink:href=\"#DejaVuSans-103\"/>\r\n       <use x=\"188.378906\" xlink:href=\"#DejaVuSans-105\"/>\r\n       <use x=\"216.162109\" xlink:href=\"#DejaVuSans-110\"/>\r\n       <use x=\"279.541016\" xlink:href=\"#DejaVuSans-101\"/>\r\n       <use x=\"341.064453\" xlink:href=\"#DejaVuSans-45\"/>\r\n       <use x=\"377.148438\" xlink:href=\"#DejaVuSans-115\"/>\r\n       <use x=\"429.248047\" xlink:href=\"#DejaVuSans-105\"/>\r\n       <use x=\"457.03125\" xlink:href=\"#DejaVuSans-122\"/>\r\n       <use x=\"509.521484\" xlink:href=\"#DejaVuSans-101\"/>\r\n      </g>\r\n     </g>\r\n    </g>\r\n    <g id=\"ytick_9\">\r\n     <g id=\"line2d_25\">\r\n      <g>\r\n       <use style=\"stroke:#000000;stroke-width:0.8;\" x=\"104.484375\" xlink:href=\"#m4230ddf1bd\" y=\"299.786719\"/>\r\n      </g>\r\n     </g>\r\n     <g id=\"text_25\">\r\n      <!-- bore -->\r\n      <g transform=\"translate(74.75625 303.585937)scale(0.1 -0.1)\">\r\n       <use xlink:href=\"#DejaVuSans-98\"/>\r\n       <use x=\"63.476562\" xlink:href=\"#DejaVuSans-111\"/>\r\n       <use x=\"124.658203\" xlink:href=\"#DejaVuSans-114\"/>\r\n       <use x=\"165.740234\" xlink:href=\"#DejaVuSans-101\"/>\r\n      </g>\r\n     </g>\r\n    </g>\r\n    <g id=\"ytick_10\">\r\n     <g id=\"line2d_26\">\r\n      <g>\r\n       <use style=\"stroke:#000000;stroke-width:0.8;\" x=\"104.484375\" xlink:href=\"#m4230ddf1bd\" y=\"333.761719\"/>\r\n      </g>\r\n     </g>\r\n     <g id=\"text_26\">\r\n      <!-- stroke -->\r\n      <g transform=\"translate(66.189063 337.560937)scale(0.1 -0.1)\">\r\n       <use xlink:href=\"#DejaVuSans-115\"/>\r\n       <use x=\"52.099609\" xlink:href=\"#DejaVuSans-116\"/>\r\n       <use x=\"91.308594\" xlink:href=\"#DejaVuSans-114\"/>\r\n       <use x=\"132.390625\" xlink:href=\"#DejaVuSans-111\"/>\r\n       <use x=\"193.572266\" xlink:href=\"#DejaVuSans-107\"/>\r\n       <use x=\"251.435547\" xlink:href=\"#DejaVuSans-101\"/>\r\n      </g>\r\n     </g>\r\n    </g>\r\n    <g id=\"ytick_11\">\r\n     <g id=\"line2d_27\">\r\n      <g>\r\n       <use style=\"stroke:#000000;stroke-width:0.8;\" x=\"104.484375\" xlink:href=\"#m4230ddf1bd\" y=\"367.736719\"/>\r\n      </g>\r\n     </g>\r\n     <g id=\"text_27\">\r\n      <!-- compression-ratio -->\r\n      <g transform=\"translate(7.2 371.535937)scale(0.1 -0.1)\">\r\n       <use xlink:href=\"#DejaVuSans-99\"/>\r\n       <use x=\"54.980469\" xlink:href=\"#DejaVuSans-111\"/>\r\n       <use x=\"116.162109\" xlink:href=\"#DejaVuSans-109\"/>\r\n       <use x=\"213.574219\" xlink:href=\"#DejaVuSans-112\"/>\r\n       <use x=\"277.050781\" xlink:href=\"#DejaVuSans-114\"/>\r\n       <use x=\"318.132812\" xlink:href=\"#DejaVuSans-101\"/>\r\n       <use x=\"379.65625\" xlink:href=\"#DejaVuSans-115\"/>\r\n       <use x=\"431.755859\" xlink:href=\"#DejaVuSans-115\"/>\r\n       <use x=\"483.855469\" xlink:href=\"#DejaVuSans-105\"/>\r\n       <use x=\"511.638672\" xlink:href=\"#DejaVuSans-111\"/>\r\n       <use x=\"572.820312\" xlink:href=\"#DejaVuSans-110\"/>\r\n       <use x=\"636.199219\" xlink:href=\"#DejaVuSans-45\"/>\r\n       <use x=\"672.283203\" xlink:href=\"#DejaVuSans-114\"/>\r\n       <use x=\"713.396484\" xlink:href=\"#DejaVuSans-97\"/>\r\n       <use x=\"774.675781\" xlink:href=\"#DejaVuSans-116\"/>\r\n       <use x=\"813.884766\" xlink:href=\"#DejaVuSans-105\"/>\r\n       <use x=\"841.667969\" xlink:href=\"#DejaVuSans-111\"/>\r\n      </g>\r\n     </g>\r\n    </g>\r\n    <g id=\"ytick_12\">\r\n     <g id=\"line2d_28\">\r\n      <g>\r\n       <use style=\"stroke:#000000;stroke-width:0.8;\" x=\"104.484375\" xlink:href=\"#m4230ddf1bd\" y=\"401.711719\"/>\r\n      </g>\r\n     </g>\r\n     <g id=\"text_28\">\r\n      <!-- horsepower -->\r\n      <g transform=\"translate(38.645313 405.510937)scale(0.1 -0.1)\">\r\n       <use xlink:href=\"#DejaVuSans-104\"/>\r\n       <use x=\"63.378906\" xlink:href=\"#DejaVuSans-111\"/>\r\n       <use x=\"124.560547\" xlink:href=\"#DejaVuSans-114\"/>\r\n       <use x=\"165.673828\" xlink:href=\"#DejaVuSans-115\"/>\r\n       <use x=\"217.773438\" xlink:href=\"#DejaVuSans-101\"/>\r\n       <use x=\"279.296875\" xlink:href=\"#DejaVuSans-112\"/>\r\n       <use x=\"342.773438\" xlink:href=\"#DejaVuSans-111\"/>\r\n       <use x=\"403.955078\" xlink:href=\"#DejaVuSans-119\"/>\r\n       <use x=\"485.742188\" xlink:href=\"#DejaVuSans-101\"/>\r\n       <use x=\"547.265625\" xlink:href=\"#DejaVuSans-114\"/>\r\n      </g>\r\n     </g>\r\n    </g>\r\n    <g id=\"ytick_13\">\r\n     <g id=\"line2d_29\">\r\n      <g>\r\n       <use style=\"stroke:#000000;stroke-width:0.8;\" x=\"104.484375\" xlink:href=\"#m4230ddf1bd\" y=\"435.686719\"/>\r\n      </g>\r\n     </g>\r\n     <g id=\"text_29\">\r\n      <!-- peak-rpm -->\r\n      <g transform=\"translate(49.25625 439.485937)scale(0.1 -0.1)\">\r\n       <use xlink:href=\"#DejaVuSans-112\"/>\r\n       <use x=\"63.476562\" xlink:href=\"#DejaVuSans-101\"/>\r\n       <use x=\"125\" xlink:href=\"#DejaVuSans-97\"/>\r\n       <use x=\"186.279297\" xlink:href=\"#DejaVuSans-107\"/>\r\n       <use x=\"244.189453\" xlink:href=\"#DejaVuSans-45\"/>\r\n       <use x=\"280.273438\" xlink:href=\"#DejaVuSans-114\"/>\r\n       <use x=\"321.386719\" xlink:href=\"#DejaVuSans-112\"/>\r\n       <use x=\"384.863281\" xlink:href=\"#DejaVuSans-109\"/>\r\n      </g>\r\n     </g>\r\n    </g>\r\n    <g id=\"ytick_14\">\r\n     <g id=\"line2d_30\">\r\n      <g>\r\n       <use style=\"stroke:#000000;stroke-width:0.8;\" x=\"104.484375\" xlink:href=\"#m4230ddf1bd\" y=\"469.661719\"/>\r\n      </g>\r\n     </g>\r\n     <g id=\"text_30\">\r\n      <!-- city-mpg -->\r\n      <g transform=\"translate(53.325 473.460937)scale(0.1 -0.1)\">\r\n       <use xlink:href=\"#DejaVuSans-99\"/>\r\n       <use x=\"54.980469\" xlink:href=\"#DejaVuSans-105\"/>\r\n       <use x=\"82.763672\" xlink:href=\"#DejaVuSans-116\"/>\r\n       <use x=\"121.972656\" xlink:href=\"#DejaVuSans-121\"/>\r\n       <use x=\"181.136719\" xlink:href=\"#DejaVuSans-45\"/>\r\n       <use x=\"217.220703\" xlink:href=\"#DejaVuSans-109\"/>\r\n       <use x=\"314.632812\" xlink:href=\"#DejaVuSans-112\"/>\r\n       <use x=\"378.109375\" xlink:href=\"#DejaVuSans-103\"/>\r\n      </g>\r\n     </g>\r\n    </g>\r\n    <g id=\"ytick_15\">\r\n     <g id=\"line2d_31\">\r\n      <g>\r\n       <use style=\"stroke:#000000;stroke-width:0.8;\" x=\"104.484375\" xlink:href=\"#m4230ddf1bd\" y=\"503.636719\"/>\r\n      </g>\r\n     </g>\r\n     <g id=\"text_31\">\r\n      <!-- highway-mpg -->\r\n      <g transform=\"translate(29.414063 507.435937)scale(0.1 -0.1)\">\r\n       <use xlink:href=\"#DejaVuSans-104\"/>\r\n       <use x=\"63.378906\" xlink:href=\"#DejaVuSans-105\"/>\r\n       <use x=\"91.162109\" xlink:href=\"#DejaVuSans-103\"/>\r\n       <use x=\"154.638672\" xlink:href=\"#DejaVuSans-104\"/>\r\n       <use x=\"218.017578\" xlink:href=\"#DejaVuSans-119\"/>\r\n       <use x=\"299.804688\" xlink:href=\"#DejaVuSans-97\"/>\r\n       <use x=\"361.083984\" xlink:href=\"#DejaVuSans-121\"/>\r\n       <use x=\"420.248047\" xlink:href=\"#DejaVuSans-45\"/>\r\n       <use x=\"456.332031\" xlink:href=\"#DejaVuSans-109\"/>\r\n       <use x=\"553.744141\" xlink:href=\"#DejaVuSans-112\"/>\r\n       <use x=\"617.220703\" xlink:href=\"#DejaVuSans-103\"/>\r\n      </g>\r\n     </g>\r\n    </g>\r\n    <g id=\"ytick_16\">\r\n     <g id=\"line2d_32\">\r\n      <g>\r\n       <use style=\"stroke:#000000;stroke-width:0.8;\" x=\"104.484375\" xlink:href=\"#m4230ddf1bd\" y=\"537.611719\"/>\r\n      </g>\r\n     </g>\r\n     <g id=\"text_32\">\r\n      <!-- price -->\r\n      <g transform=\"translate(72.595313 541.410937)scale(0.1 -0.1)\">\r\n       <use xlink:href=\"#DejaVuSans-112\"/>\r\n       <use x=\"63.476562\" xlink:href=\"#DejaVuSans-114\"/>\r\n       <use x=\"104.589844\" xlink:href=\"#DejaVuSans-105\"/>\r\n       <use x=\"132.373047\" xlink:href=\"#DejaVuSans-99\"/>\r\n       <use x=\"187.353516\" xlink:href=\"#DejaVuSans-101\"/>\r\n      </g>\r\n     </g>\r\n    </g>\r\n   </g>\r\n  </g>\r\n  <g id=\"axes_2\">\r\n   <g id=\"patch_3\">\r\n    <path clip-path=\"url(#pe3765921e5)\" d=\"M 578.784375 554.599219 \r\nL 578.784375 552.475781 \r\nL 578.784375 13.122656 \r\nL 578.784375 10.999219 \r\nL 605.964375 10.999219 \r\nL 605.964375 13.122656 \r\nL 605.964375 552.475781 \r\nL 605.964375 554.599219 \r\nz\r\n\" style=\"fill:#ffffff;stroke:#ffffff;stroke-linejoin:miter;stroke-width:0.01;\"/>\r\n   </g>\r\n   <image height=\"544\" id=\"image6242f04079\" transform=\"scale(1 -1)translate(0 -544)\" width=\"27\" x=\"579\" xlink:href=\"data:image/png;base64,\r\niVBORw0KGgoAAAANSUhEUgAAABsAAAIgCAYAAAB09hISAAAABHNCSVQICAgIfAhkiAAAAoRJREFUeJztnIFtI0EQw/ac+ya+/z6TIkwIWIJsYCBLo7mcAz8///7/nhGf1aBzznmf4bCxsmenLWUI73OkygoIwvvRKtNG3+yZVtlHm0axZ1ZlBQShpUbosQDBW1fiNNYgBOLjaQ7Ibl4nBsF8YvIMIM8QvJ4VEARvQMyeaZVpn/XzDKEGuW9Y0UfIMwSxMu8/DPWQStCe3TesE4PQUiO8y2ntGUJ7htCe3TfMHH1xXe2orhDEe1YaCUrjfcN6nYRQXSGo62pHniGIPet4EpiPpzUg4qWuiAlqEIQaBKE03jes6CMUfQRzGme/CdWeQaj3bEfHE6HoI3ijLz4xpZEgZQjePWupEczRHw4bp9G61GLPxMq0adS2ftFHKPoI6zTuTCuNCOIGEe/Zr3TPij6COfqdGIB1GrWeDYelDMGbxgKC4A2I+XgOn3hKI4K5QYbfIqz3TKqsv88QvAFpqRHWnu2GlUaE0ohgPp7agIijP3y72VIjqD2zKjM3yG5YxxOhukLoxCCkDKE0InQ87xumPp67YS01gtiz054BpAxBrGw5zvxYYP0YvQHJM4S1Z9afWckzgjy7b9h7tAEp+gSlEUGdxpR9z/pNqlRZAUFQK9vNyzOEjifC+kuE9ux7Op4I67oq+t9TXSGYPWvPANqz+4aJA9LxJGipEcyeeffM+nLT61kfI4K5rsQnxqpM/Nq2NAKk7L5hPV0hVFcIZs+8ymoQgJTdN6wiRsgzhDxDyDMEszJrGgsIgjcgeYaQZwjv8/zMhuUZgldZdYXgDYjaM20Riz3TKtN61gMPQY8FCAUEQe2Ztq7EnlmVPXkG0PFEqIgR1J5ZlVXEBO0Zgrcbp8P+ACqNL/8hHeuvAAAAAElFTkSuQmCC\" y=\"-11\"/>\r\n   <g id=\"matplotlib.axis_3\"/>\r\n   <g id=\"matplotlib.axis_4\">\r\n    <g id=\"ytick_17\">\r\n     <g id=\"line2d_33\">\r\n      <defs>\r\n       <path d=\"M 0 0 \r\nL 3.5 0 \r\n\" id=\"m580473b248\" style=\"stroke:#000000;stroke-width:0.8;\"/>\r\n      </defs>\r\n      <g>\r\n       <use style=\"stroke:#000000;stroke-width:0.8;\" x=\"605.964375\" xlink:href=\"#m580473b248\" y=\"533.06271\"/>\r\n      </g>\r\n     </g>\r\n     <g id=\"text_33\">\r\n      <!-- −0.75 -->\r\n      <defs>\r\n       <path d=\"M 10.59375 35.5 \r\nL 73.1875 35.5 \r\nL 73.1875 27.203125 \r\nL 10.59375 27.203125 \r\nz\r\n\" id=\"DejaVuSans-8722\"/>\r\n       <path d=\"M 31.78125 66.40625 \r\nQ 24.171875 66.40625 20.328125 58.90625 \r\nQ 16.5 51.421875 16.5 36.375 \r\nQ 16.5 21.390625 20.328125 13.890625 \r\nQ 24.171875 6.390625 31.78125 6.390625 \r\nQ 39.453125 6.390625 43.28125 13.890625 \r\nQ 47.125 21.390625 47.125 36.375 \r\nQ 47.125 51.421875 43.28125 58.90625 \r\nQ 39.453125 66.40625 31.78125 66.40625 \r\nz\r\nM 31.78125 74.21875 \r\nQ 44.046875 74.21875 50.515625 64.515625 \r\nQ 56.984375 54.828125 56.984375 36.375 \r\nQ 56.984375 17.96875 50.515625 8.265625 \r\nQ 44.046875 -1.421875 31.78125 -1.421875 \r\nQ 19.53125 -1.421875 13.0625 8.265625 \r\nQ 6.59375 17.96875 6.59375 36.375 \r\nQ 6.59375 54.828125 13.0625 64.515625 \r\nQ 19.53125 74.21875 31.78125 74.21875 \r\nz\r\n\" id=\"DejaVuSans-48\"/>\r\n       <path d=\"M 10.6875 12.40625 \r\nL 21 12.40625 \r\nL 21 0 \r\nL 10.6875 0 \r\nz\r\n\" id=\"DejaVuSans-46\"/>\r\n       <path d=\"M 8.203125 72.90625 \r\nL 55.078125 72.90625 \r\nL 55.078125 68.703125 \r\nL 28.609375 0 \r\nL 18.3125 0 \r\nL 43.21875 64.59375 \r\nL 8.203125 64.59375 \r\nz\r\n\" id=\"DejaVuSans-55\"/>\r\n       <path d=\"M 10.796875 72.90625 \r\nL 49.515625 72.90625 \r\nL 49.515625 64.59375 \r\nL 19.828125 64.59375 \r\nL 19.828125 46.734375 \r\nQ 21.96875 47.46875 24.109375 47.828125 \r\nQ 26.265625 48.1875 28.421875 48.1875 \r\nQ 40.625 48.1875 47.75 41.5 \r\nQ 54.890625 34.8125 54.890625 23.390625 \r\nQ 54.890625 11.625 47.5625 5.09375 \r\nQ 40.234375 -1.421875 26.90625 -1.421875 \r\nQ 22.3125 -1.421875 17.546875 -0.640625 \r\nQ 12.796875 0.140625 7.71875 1.703125 \r\nL 7.71875 11.625 \r\nQ 12.109375 9.234375 16.796875 8.0625 \r\nQ 21.484375 6.890625 26.703125 6.890625 \r\nQ 35.15625 6.890625 40.078125 11.328125 \r\nQ 45.015625 15.765625 45.015625 23.390625 \r\nQ 45.015625 31 40.078125 35.4375 \r\nQ 35.15625 39.890625 26.703125 39.890625 \r\nQ 22.75 39.890625 18.8125 39.015625 \r\nQ 14.890625 38.140625 10.796875 36.28125 \r\nz\r\n\" id=\"DejaVuSans-53\"/>\r\n      </defs>\r\n      <g transform=\"translate(612.964375 536.861928)scale(0.1 -0.1)\">\r\n       <use xlink:href=\"#DejaVuSans-8722\"/>\r\n       <use x=\"83.789062\" xlink:href=\"#DejaVuSans-48\"/>\r\n       <use x=\"147.412109\" xlink:href=\"#DejaVuSans-46\"/>\r\n       <use x=\"179.199219\" xlink:href=\"#DejaVuSans-55\"/>\r\n       <use x=\"242.822266\" xlink:href=\"#DejaVuSans-53\"/>\r\n      </g>\r\n     </g>\r\n    </g>\r\n    <g id=\"ytick_18\">\r\n     <g id=\"line2d_34\">\r\n      <g>\r\n       <use style=\"stroke:#000000;stroke-width:0.8;\" x=\"605.964375\" xlink:href=\"#m580473b248\" y=\"458.482211\"/>\r\n      </g>\r\n     </g>\r\n     <g id=\"text_34\">\r\n      <!-- −0.50 -->\r\n      <g transform=\"translate(612.964375 462.28143)scale(0.1 -0.1)\">\r\n       <use xlink:href=\"#DejaVuSans-8722\"/>\r\n       <use x=\"83.789062\" xlink:href=\"#DejaVuSans-48\"/>\r\n       <use x=\"147.412109\" xlink:href=\"#DejaVuSans-46\"/>\r\n       <use x=\"179.199219\" xlink:href=\"#DejaVuSans-53\"/>\r\n       <use x=\"242.822266\" xlink:href=\"#DejaVuSans-48\"/>\r\n      </g>\r\n     </g>\r\n    </g>\r\n    <g id=\"ytick_19\">\r\n     <g id=\"line2d_35\">\r\n      <g>\r\n       <use style=\"stroke:#000000;stroke-width:0.8;\" x=\"605.964375\" xlink:href=\"#m580473b248\" y=\"383.901712\"/>\r\n      </g>\r\n     </g>\r\n     <g id=\"text_35\">\r\n      <!-- −0.25 -->\r\n      <defs>\r\n       <path d=\"M 19.1875 8.296875 \r\nL 53.609375 8.296875 \r\nL 53.609375 0 \r\nL 7.328125 0 \r\nL 7.328125 8.296875 \r\nQ 12.9375 14.109375 22.625 23.890625 \r\nQ 32.328125 33.6875 34.8125 36.53125 \r\nQ 39.546875 41.84375 41.421875 45.53125 \r\nQ 43.3125 49.21875 43.3125 52.78125 \r\nQ 43.3125 58.59375 39.234375 62.25 \r\nQ 35.15625 65.921875 28.609375 65.921875 \r\nQ 23.96875 65.921875 18.8125 64.3125 \r\nQ 13.671875 62.703125 7.8125 59.421875 \r\nL 7.8125 69.390625 \r\nQ 13.765625 71.78125 18.9375 73 \r\nQ 24.125 74.21875 28.421875 74.21875 \r\nQ 39.75 74.21875 46.484375 68.546875 \r\nQ 53.21875 62.890625 53.21875 53.421875 \r\nQ 53.21875 48.921875 51.53125 44.890625 \r\nQ 49.859375 40.875 45.40625 35.40625 \r\nQ 44.1875 33.984375 37.640625 27.21875 \r\nQ 31.109375 20.453125 19.1875 8.296875 \r\nz\r\n\" id=\"DejaVuSans-50\"/>\r\n      </defs>\r\n      <g transform=\"translate(612.964375 387.700931)scale(0.1 -0.1)\">\r\n       <use xlink:href=\"#DejaVuSans-8722\"/>\r\n       <use x=\"83.789062\" xlink:href=\"#DejaVuSans-48\"/>\r\n       <use x=\"147.412109\" xlink:href=\"#DejaVuSans-46\"/>\r\n       <use x=\"179.199219\" xlink:href=\"#DejaVuSans-50\"/>\r\n       <use x=\"242.822266\" xlink:href=\"#DejaVuSans-53\"/>\r\n      </g>\r\n     </g>\r\n    </g>\r\n    <g id=\"ytick_20\">\r\n     <g id=\"line2d_36\">\r\n      <g>\r\n       <use style=\"stroke:#000000;stroke-width:0.8;\" x=\"605.964375\" xlink:href=\"#m580473b248\" y=\"309.321214\"/>\r\n      </g>\r\n     </g>\r\n     <g id=\"text_36\">\r\n      <!-- 0.00 -->\r\n      <g transform=\"translate(612.964375 313.120432)scale(0.1 -0.1)\">\r\n       <use xlink:href=\"#DejaVuSans-48\"/>\r\n       <use x=\"63.623047\" xlink:href=\"#DejaVuSans-46\"/>\r\n       <use x=\"95.410156\" xlink:href=\"#DejaVuSans-48\"/>\r\n       <use x=\"159.033203\" xlink:href=\"#DejaVuSans-48\"/>\r\n      </g>\r\n     </g>\r\n    </g>\r\n    <g id=\"ytick_21\">\r\n     <g id=\"line2d_37\">\r\n      <g>\r\n       <use style=\"stroke:#000000;stroke-width:0.8;\" x=\"605.964375\" xlink:href=\"#m580473b248\" y=\"234.740715\"/>\r\n      </g>\r\n     </g>\r\n     <g id=\"text_37\">\r\n      <!-- 0.25 -->\r\n      <g transform=\"translate(612.964375 238.539934)scale(0.1 -0.1)\">\r\n       <use xlink:href=\"#DejaVuSans-48\"/>\r\n       <use x=\"63.623047\" xlink:href=\"#DejaVuSans-46\"/>\r\n       <use x=\"95.410156\" xlink:href=\"#DejaVuSans-50\"/>\r\n       <use x=\"159.033203\" xlink:href=\"#DejaVuSans-53\"/>\r\n      </g>\r\n     </g>\r\n    </g>\r\n    <g id=\"ytick_22\">\r\n     <g id=\"line2d_38\">\r\n      <g>\r\n       <use style=\"stroke:#000000;stroke-width:0.8;\" x=\"605.964375\" xlink:href=\"#m580473b248\" y=\"160.160216\"/>\r\n      </g>\r\n     </g>\r\n     <g id=\"text_38\">\r\n      <!-- 0.50 -->\r\n      <g transform=\"translate(612.964375 163.959435)scale(0.1 -0.1)\">\r\n       <use xlink:href=\"#DejaVuSans-48\"/>\r\n       <use x=\"63.623047\" xlink:href=\"#DejaVuSans-46\"/>\r\n       <use x=\"95.410156\" xlink:href=\"#DejaVuSans-53\"/>\r\n       <use x=\"159.033203\" xlink:href=\"#DejaVuSans-48\"/>\r\n      </g>\r\n     </g>\r\n    </g>\r\n    <g id=\"ytick_23\">\r\n     <g id=\"line2d_39\">\r\n      <g>\r\n       <use style=\"stroke:#000000;stroke-width:0.8;\" x=\"605.964375\" xlink:href=\"#m580473b248\" y=\"85.579717\"/>\r\n      </g>\r\n     </g>\r\n     <g id=\"text_39\">\r\n      <!-- 0.75 -->\r\n      <g transform=\"translate(612.964375 89.378936)scale(0.1 -0.1)\">\r\n       <use xlink:href=\"#DejaVuSans-48\"/>\r\n       <use x=\"63.623047\" xlink:href=\"#DejaVuSans-46\"/>\r\n       <use x=\"95.410156\" xlink:href=\"#DejaVuSans-55\"/>\r\n       <use x=\"159.033203\" xlink:href=\"#DejaVuSans-53\"/>\r\n      </g>\r\n     </g>\r\n    </g>\r\n    <g id=\"ytick_24\">\r\n     <g id=\"line2d_40\">\r\n      <g>\r\n       <use style=\"stroke:#000000;stroke-width:0.8;\" x=\"605.964375\" xlink:href=\"#m580473b248\" y=\"10.999219\"/>\r\n      </g>\r\n     </g>\r\n     <g id=\"text_40\">\r\n      <!-- 1.00 -->\r\n      <defs>\r\n       <path d=\"M 12.40625 8.296875 \r\nL 28.515625 8.296875 \r\nL 28.515625 63.921875 \r\nL 10.984375 60.40625 \r\nL 10.984375 69.390625 \r\nL 28.421875 72.90625 \r\nL 38.28125 72.90625 \r\nL 38.28125 8.296875 \r\nL 54.390625 8.296875 \r\nL 54.390625 0 \r\nL 12.40625 0 \r\nz\r\n\" id=\"DejaVuSans-49\"/>\r\n      </defs>\r\n      <g transform=\"translate(612.964375 14.798437)scale(0.1 -0.1)\">\r\n       <use xlink:href=\"#DejaVuSans-49\"/>\r\n       <use x=\"63.623047\" xlink:href=\"#DejaVuSans-46\"/>\r\n       <use x=\"95.410156\" xlink:href=\"#DejaVuSans-48\"/>\r\n       <use x=\"159.033203\" xlink:href=\"#DejaVuSans-48\"/>\r\n      </g>\r\n     </g>\r\n    </g>\r\n   </g>\r\n   <g id=\"patch_4\">\r\n    <path d=\"M 578.784375 554.599219 \r\nL 578.784375 552.475781 \r\nL 578.784375 13.122656 \r\nL 578.784375 10.999219 \r\nL 605.964375 10.999219 \r\nL 605.964375 13.122656 \r\nL 605.964375 552.475781 \r\nL 605.964375 554.599219 \r\nz\r\n\" style=\"fill:none;\"/>\r\n   </g>\r\n  </g>\r\n </g>\r\n <defs>\r\n  <clipPath id=\"p0aeacec520\">\r\n   <rect height=\"543.6\" width=\"446.4\" x=\"104.484375\" y=\"10.999219\"/>\r\n  </clipPath>\r\n  <clipPath id=\"pe3765921e5\">\r\n   <rect height=\"543.6\" width=\"27.18\" x=\"578.784375\" y=\"10.999219\"/>\r\n  </clipPath>\r\n </defs>\r\n</svg>\r\n",
      "image/png": "[encoded data removed]"
     },
     "metadata": {
      "needs_background": "light"
     }
    }
   ],
   "source": [
    "fig = plt.figure(figsize=(10,10))\n",
    "sns.heatmap(df.corr())\n",
    "plt.show()"
   ]
  },
  {
   "cell_type": "code",
   "execution_count": 6,
   "metadata": {},
   "outputs": [
    {
     "output_type": "execute_result",
     "data": {
      "text/plain": "<matplotlib.axes._subplots.AxesSubplot at 0x293710501c8>"
     },
     "metadata": {},
     "execution_count": 6
    },
    {
     "output_type": "display_data",
     "data": {
      "text/plain": "<Figure size 432x288 with 1 Axes>",
      "image/svg+xml": "<?xml version=\"1.0\" encoding=\"utf-8\" standalone=\"no\"?>\r\n<!DOCTYPE svg PUBLIC \"-//W3C//DTD SVG 1.1//EN\"\r\n  \"http://www.w3.org/Graphics/SVG/1.1/DTD/svg11.dtd\">\r\n<!-- Created with matplotlib (https://matplotlib.org/) -->\r\n<svg height=\"329.124375pt\" version=\"1.1\" viewBox=\"0 0 386.845313 329.124375\" width=\"386.845313pt\" xmlns=\"http://www.w3.org/2000/svg\" xmlns:xlink=\"http://www.w3.org/1999/xlink\">\r\n <defs>\r\n  <style type=\"text/css\">\r\n*{stroke-linecap:butt;stroke-linejoin:round;}\r\n  </style>\r\n </defs>\r\n <g id=\"figure_1\">\r\n  <g id=\"patch_1\">\r\n   <path d=\"M 0 329.124375 \r\nL 386.845313 329.124375 \r\nL 386.845313 0 \r\nL 0 0 \r\nz\r\n\" style=\"fill:none;\"/>\r\n  </g>\r\n  <g id=\"axes_1\">\r\n   <g id=\"patch_2\">\r\n    <path d=\"M 44.845313 224.64 \r\nL 379.645313 224.64 \r\nL 379.645313 7.2 \r\nL 44.845313 7.2 \r\nz\r\n\" style=\"fill:#ffffff;\"/>\r\n   </g>\r\n   <g id=\"patch_3\">\r\n    <path clip-path=\"url(#p07620f92f6)\" d=\"M 50.076563 133.041649 \r\nL 60.539063 133.041649 \r\nL 60.539063 142.595567 \r\nL 50.076563 142.595567 \r\nz\r\n\" style=\"fill:#1f77b4;\"/>\r\n   </g>\r\n   <g id=\"patch_4\">\r\n    <path clip-path=\"url(#p07620f92f6)\" d=\"M 71.001563 133.041649 \r\nL 81.464063 133.041649 \r\nL 81.464063 117.503422 \r\nL 71.001563 117.503422 \r\nz\r\n\" style=\"fill:#1f77b4;\"/>\r\n   </g>\r\n   <g id=\"patch_5\">\r\n    <path clip-path=\"url(#p07620f92f6)\" d=\"M 91.926563 133.041649 \r\nL 102.389063 133.041649 \r\nL 102.389063 65.247745 \r\nL 91.926563 65.247745 \r\nz\r\n\" style=\"fill:#1f77b4;\"/>\r\n   </g>\r\n   <g id=\"patch_6\">\r\n    <path clip-path=\"url(#p07620f92f6)\" d=\"M 112.851563 133.041649 \r\nL 123.314063 133.041649 \r\nL 123.314063 52.957755 \r\nL 112.851563 52.957755 \r\nz\r\n\" style=\"fill:#1f77b4;\"/>\r\n   </g>\r\n   <g id=\"patch_7\">\r\n    <path clip-path=\"url(#p07620f92f6)\" d=\"M 133.776563 133.041649 \r\nL 144.239063 133.041649 \r\nL 144.239063 45.926413 \r\nL 133.776563 45.926413 \r\nz\r\n\" style=\"fill:#1f77b4;\"/>\r\n   </g>\r\n   <g id=\"patch_8\">\r\n    <path clip-path=\"url(#p07620f92f6)\" d=\"M 154.701563 133.041649 \r\nL 165.164063 133.041649 \r\nL 165.164063 117.330926 \r\nL 154.701563 117.330926 \r\nz\r\n\" style=\"fill:#1f77b4;\"/>\r\n   </g>\r\n   <g id=\"patch_9\">\r\n    <path clip-path=\"url(#p07620f92f6)\" d=\"M 175.626563 133.041649 \r\nL 186.089063 133.041649 \r\nL 186.089063 36.284599 \r\nL 175.626563 36.284599 \r\nz\r\n\" style=\"fill:#1f77b4;\"/>\r\n   </g>\r\n   <g id=\"patch_10\">\r\n    <path clip-path=\"url(#p07620f92f6)\" d=\"M 196.551563 133.041649 \r\nL 207.014063 133.041649 \r\nL 207.014063 31.887397 \r\nL 196.551563 31.887397 \r\nz\r\n\" style=\"fill:#1f77b4;\"/>\r\n   </g>\r\n   <g id=\"patch_11\">\r\n    <path clip-path=\"url(#p07620f92f6)\" d=\"M 217.476563 133.041649 \r\nL 227.939063 133.041649 \r\nL 227.939063 70.05843 \r\nL 217.476563 70.05843 \r\nz\r\n\" style=\"fill:#1f77b4;\"/>\r\n   </g>\r\n   <g id=\"patch_12\">\r\n    <path clip-path=\"url(#p07620f92f6)\" d=\"M 238.401563 133.041649 \r\nL 248.864063 133.041649 \r\nL 248.864063 123.501866 \r\nL 238.401563 123.501866 \r\nz\r\n\" style=\"fill:#1f77b4;\"/>\r\n   </g>\r\n   <g id=\"patch_13\">\r\n    <path clip-path=\"url(#p07620f92f6)\" d=\"M 259.326563 133.041649 \r\nL 269.789062 133.041649 \r\nL 269.789062 124.796185 \r\nL 259.326563 124.796185 \r\nz\r\n\" style=\"fill:#1f77b4;\"/>\r\n   </g>\r\n   <g id=\"patch_14\">\r\n    <path clip-path=\"url(#p07620f92f6)\" d=\"M 280.251563 133.041649 \r\nL 290.714063 133.041649 \r\nL 290.714063 39.161253 \r\nL 280.251563 39.161253 \r\nz\r\n\" style=\"fill:#1f77b4;\"/>\r\n   </g>\r\n   <g id=\"patch_15\">\r\n    <path clip-path=\"url(#p07620f92f6)\" d=\"M 301.176563 133.041649 \r\nL 311.639063 133.041649 \r\nL 311.639063 144.824418 \r\nL 301.176563 144.824418 \r\nz\r\n\" style=\"fill:#1f77b4;\"/>\r\n   </g>\r\n   <g id=\"patch_16\">\r\n    <path clip-path=\"url(#p07620f92f6)\" d=\"M 322.101563 133.041649 \r\nL 332.564063 133.041649 \r\nL 332.564063 212.655059 \r\nL 322.101563 212.655059 \r\nz\r\n\" style=\"fill:#1f77b4;\"/>\r\n   </g>\r\n   <g id=\"patch_17\">\r\n    <path clip-path=\"url(#p07620f92f6)\" d=\"M 343.026563 133.041649 \r\nL 353.489063 133.041649 \r\nL 353.489063 214.756364 \r\nL 343.026563 214.756364 \r\nz\r\n\" style=\"fill:#1f77b4;\"/>\r\n   </g>\r\n   <g id=\"patch_18\">\r\n    <path clip-path=\"url(#p07620f92f6)\" d=\"M 363.951563 133.041649 \r\nL 374.414063 133.041649 \r\nL 374.414063 17.083636 \r\nL 363.951563 17.083636 \r\nz\r\n\" style=\"fill:#1f77b4;\"/>\r\n   </g>\r\n   <g id=\"matplotlib.axis_1\">\r\n    <g id=\"xtick_1\">\r\n     <g id=\"line2d_1\">\r\n      <defs>\r\n       <path d=\"M 0 0 \r\nL 0 3.5 \r\n\" id=\"mc45bacd47e\" style=\"stroke:#000000;stroke-width:0.8;\"/>\r\n      </defs>\r\n      <g>\r\n       <use style=\"stroke:#000000;stroke-width:0.8;\" x=\"55.307813\" xlink:href=\"#mc45bacd47e\" y=\"224.64\"/>\r\n      </g>\r\n     </g>\r\n     <g id=\"text_1\">\r\n      <!-- symboling -->\r\n      <defs>\r\n       <path d=\"M 44.28125 53.078125 \r\nL 44.28125 44.578125 \r\nQ 40.484375 46.53125 36.375 47.5 \r\nQ 32.28125 48.484375 27.875 48.484375 \r\nQ 21.1875 48.484375 17.84375 46.4375 \r\nQ 14.5 44.390625 14.5 40.28125 \r\nQ 14.5 37.15625 16.890625 35.375 \r\nQ 19.28125 33.59375 26.515625 31.984375 \r\nL 29.59375 31.296875 \r\nQ 39.15625 29.25 43.1875 25.515625 \r\nQ 47.21875 21.78125 47.21875 15.09375 \r\nQ 47.21875 7.46875 41.1875 3.015625 \r\nQ 35.15625 -1.421875 24.609375 -1.421875 \r\nQ 20.21875 -1.421875 15.453125 -0.5625 \r\nQ 10.6875 0.296875 5.421875 2 \r\nL 5.421875 11.28125 \r\nQ 10.40625 8.6875 15.234375 7.390625 \r\nQ 20.0625 6.109375 24.8125 6.109375 \r\nQ 31.15625 6.109375 34.5625 8.28125 \r\nQ 37.984375 10.453125 37.984375 14.40625 \r\nQ 37.984375 18.0625 35.515625 20.015625 \r\nQ 33.0625 21.96875 24.703125 23.78125 \r\nL 21.578125 24.515625 \r\nQ 13.234375 26.265625 9.515625 29.90625 \r\nQ 5.8125 33.546875 5.8125 39.890625 \r\nQ 5.8125 47.609375 11.28125 51.796875 \r\nQ 16.75 56 26.8125 56 \r\nQ 31.78125 56 36.171875 55.265625 \r\nQ 40.578125 54.546875 44.28125 53.078125 \r\nz\r\n\" id=\"DejaVuSans-115\"/>\r\n       <path d=\"M 32.171875 -5.078125 \r\nQ 28.375 -14.84375 24.75 -17.8125 \r\nQ 21.140625 -20.796875 15.09375 -20.796875 \r\nL 7.90625 -20.796875 \r\nL 7.90625 -13.28125 \r\nL 13.1875 -13.28125 \r\nQ 16.890625 -13.28125 18.9375 -11.515625 \r\nQ 21 -9.765625 23.484375 -3.21875 \r\nL 25.09375 0.875 \r\nL 2.984375 54.6875 \r\nL 12.5 54.6875 \r\nL 29.59375 11.921875 \r\nL 46.6875 54.6875 \r\nL 56.203125 54.6875 \r\nz\r\n\" id=\"DejaVuSans-121\"/>\r\n       <path d=\"M 52 44.1875 \r\nQ 55.375 50.25 60.0625 53.125 \r\nQ 64.75 56 71.09375 56 \r\nQ 79.640625 56 84.28125 50.015625 \r\nQ 88.921875 44.046875 88.921875 33.015625 \r\nL 88.921875 0 \r\nL 79.890625 0 \r\nL 79.890625 32.71875 \r\nQ 79.890625 40.578125 77.09375 44.375 \r\nQ 74.3125 48.1875 68.609375 48.1875 \r\nQ 61.625 48.1875 57.5625 43.546875 \r\nQ 53.515625 38.921875 53.515625 30.90625 \r\nL 53.515625 0 \r\nL 44.484375 0 \r\nL 44.484375 32.71875 \r\nQ 44.484375 40.625 41.703125 44.40625 \r\nQ 38.921875 48.1875 33.109375 48.1875 \r\nQ 26.21875 48.1875 22.15625 43.53125 \r\nQ 18.109375 38.875 18.109375 30.90625 \r\nL 18.109375 0 \r\nL 9.078125 0 \r\nL 9.078125 54.6875 \r\nL 18.109375 54.6875 \r\nL 18.109375 46.1875 \r\nQ 21.1875 51.21875 25.484375 53.609375 \r\nQ 29.78125 56 35.6875 56 \r\nQ 41.65625 56 45.828125 52.96875 \r\nQ 50 49.953125 52 44.1875 \r\nz\r\n\" id=\"DejaVuSans-109\"/>\r\n       <path d=\"M 48.6875 27.296875 \r\nQ 48.6875 37.203125 44.609375 42.84375 \r\nQ 40.53125 48.484375 33.40625 48.484375 \r\nQ 26.265625 48.484375 22.1875 42.84375 \r\nQ 18.109375 37.203125 18.109375 27.296875 \r\nQ 18.109375 17.390625 22.1875 11.75 \r\nQ 26.265625 6.109375 33.40625 6.109375 \r\nQ 40.53125 6.109375 44.609375 11.75 \r\nQ 48.6875 17.390625 48.6875 27.296875 \r\nz\r\nM 18.109375 46.390625 \r\nQ 20.953125 51.265625 25.265625 53.625 \r\nQ 29.59375 56 35.59375 56 \r\nQ 45.5625 56 51.78125 48.09375 \r\nQ 58.015625 40.1875 58.015625 27.296875 \r\nQ 58.015625 14.40625 51.78125 6.484375 \r\nQ 45.5625 -1.421875 35.59375 -1.421875 \r\nQ 29.59375 -1.421875 25.265625 0.953125 \r\nQ 20.953125 3.328125 18.109375 8.203125 \r\nL 18.109375 0 \r\nL 9.078125 0 \r\nL 9.078125 75.984375 \r\nL 18.109375 75.984375 \r\nz\r\n\" id=\"DejaVuSans-98\"/>\r\n       <path d=\"M 30.609375 48.390625 \r\nQ 23.390625 48.390625 19.1875 42.75 \r\nQ 14.984375 37.109375 14.984375 27.296875 \r\nQ 14.984375 17.484375 19.15625 11.84375 \r\nQ 23.34375 6.203125 30.609375 6.203125 \r\nQ 37.796875 6.203125 41.984375 11.859375 \r\nQ 46.1875 17.53125 46.1875 27.296875 \r\nQ 46.1875 37.015625 41.984375 42.703125 \r\nQ 37.796875 48.390625 30.609375 48.390625 \r\nz\r\nM 30.609375 56 \r\nQ 42.328125 56 49.015625 48.375 \r\nQ 55.71875 40.765625 55.71875 27.296875 \r\nQ 55.71875 13.875 49.015625 6.21875 \r\nQ 42.328125 -1.421875 30.609375 -1.421875 \r\nQ 18.84375 -1.421875 12.171875 6.21875 \r\nQ 5.515625 13.875 5.515625 27.296875 \r\nQ 5.515625 40.765625 12.171875 48.375 \r\nQ 18.84375 56 30.609375 56 \r\nz\r\n\" id=\"DejaVuSans-111\"/>\r\n       <path d=\"M 9.421875 75.984375 \r\nL 18.40625 75.984375 \r\nL 18.40625 0 \r\nL 9.421875 0 \r\nz\r\n\" id=\"DejaVuSans-108\"/>\r\n       <path d=\"M 9.421875 54.6875 \r\nL 18.40625 54.6875 \r\nL 18.40625 0 \r\nL 9.421875 0 \r\nz\r\nM 9.421875 75.984375 \r\nL 18.40625 75.984375 \r\nL 18.40625 64.59375 \r\nL 9.421875 64.59375 \r\nz\r\n\" id=\"DejaVuSans-105\"/>\r\n       <path d=\"M 54.890625 33.015625 \r\nL 54.890625 0 \r\nL 45.90625 0 \r\nL 45.90625 32.71875 \r\nQ 45.90625 40.484375 42.875 44.328125 \r\nQ 39.84375 48.1875 33.796875 48.1875 \r\nQ 26.515625 48.1875 22.3125 43.546875 \r\nQ 18.109375 38.921875 18.109375 30.90625 \r\nL 18.109375 0 \r\nL 9.078125 0 \r\nL 9.078125 54.6875 \r\nL 18.109375 54.6875 \r\nL 18.109375 46.1875 \r\nQ 21.34375 51.125 25.703125 53.5625 \r\nQ 30.078125 56 35.796875 56 \r\nQ 45.21875 56 50.046875 50.171875 \r\nQ 54.890625 44.34375 54.890625 33.015625 \r\nz\r\n\" id=\"DejaVuSans-110\"/>\r\n       <path d=\"M 45.40625 27.984375 \r\nQ 45.40625 37.75 41.375 43.109375 \r\nQ 37.359375 48.484375 30.078125 48.484375 \r\nQ 22.859375 48.484375 18.828125 43.109375 \r\nQ 14.796875 37.75 14.796875 27.984375 \r\nQ 14.796875 18.265625 18.828125 12.890625 \r\nQ 22.859375 7.515625 30.078125 7.515625 \r\nQ 37.359375 7.515625 41.375 12.890625 \r\nQ 45.40625 18.265625 45.40625 27.984375 \r\nz\r\nM 54.390625 6.78125 \r\nQ 54.390625 -7.171875 48.1875 -13.984375 \r\nQ 42 -20.796875 29.203125 -20.796875 \r\nQ 24.46875 -20.796875 20.265625 -20.09375 \r\nQ 16.0625 -19.390625 12.109375 -17.921875 \r\nL 12.109375 -9.1875 \r\nQ 16.0625 -11.328125 19.921875 -12.34375 \r\nQ 23.78125 -13.375 27.78125 -13.375 \r\nQ 36.625 -13.375 41.015625 -8.765625 \r\nQ 45.40625 -4.15625 45.40625 5.171875 \r\nL 45.40625 9.625 \r\nQ 42.625 4.78125 38.28125 2.390625 \r\nQ 33.9375 0 27.875 0 \r\nQ 17.828125 0 11.671875 7.65625 \r\nQ 5.515625 15.328125 5.515625 27.984375 \r\nQ 5.515625 40.671875 11.671875 48.328125 \r\nQ 17.828125 56 27.875 56 \r\nQ 33.9375 56 38.28125 53.609375 \r\nQ 42.625 51.21875 45.40625 46.390625 \r\nL 45.40625 54.6875 \r\nL 54.390625 54.6875 \r\nz\r\n\" id=\"DejaVuSans-103\"/>\r\n      </defs>\r\n      <g transform=\"translate(58.067188 283.218125)rotate(-90)scale(0.1 -0.1)\">\r\n       <use xlink:href=\"#DejaVuSans-115\"/>\r\n       <use x=\"52.099609\" xlink:href=\"#DejaVuSans-121\"/>\r\n       <use x=\"111.279297\" xlink:href=\"#DejaVuSans-109\"/>\r\n       <use x=\"208.691406\" xlink:href=\"#DejaVuSans-98\"/>\r\n       <use x=\"272.167969\" xlink:href=\"#DejaVuSans-111\"/>\r\n       <use x=\"333.349609\" xlink:href=\"#DejaVuSans-108\"/>\r\n       <use x=\"361.132812\" xlink:href=\"#DejaVuSans-105\"/>\r\n       <use x=\"388.916016\" xlink:href=\"#DejaVuSans-110\"/>\r\n       <use x=\"452.294922\" xlink:href=\"#DejaVuSans-103\"/>\r\n      </g>\r\n     </g>\r\n    </g>\r\n    <g id=\"xtick_2\">\r\n     <g id=\"line2d_2\">\r\n      <g>\r\n       <use style=\"stroke:#000000;stroke-width:0.8;\" x=\"76.232813\" xlink:href=\"#mc45bacd47e\" y=\"224.64\"/>\r\n      </g>\r\n     </g>\r\n     <g id=\"text_2\">\r\n      <!-- normalized-losses -->\r\n      <defs>\r\n       <path d=\"M 41.109375 46.296875 \r\nQ 39.59375 47.171875 37.8125 47.578125 \r\nQ 36.03125 48 33.890625 48 \r\nQ 26.265625 48 22.1875 43.046875 \r\nQ 18.109375 38.09375 18.109375 28.8125 \r\nL 18.109375 0 \r\nL 9.078125 0 \r\nL 9.078125 54.6875 \r\nL 18.109375 54.6875 \r\nL 18.109375 46.1875 \r\nQ 20.953125 51.171875 25.484375 53.578125 \r\nQ 30.03125 56 36.53125 56 \r\nQ 37.453125 56 38.578125 55.875 \r\nQ 39.703125 55.765625 41.0625 55.515625 \r\nz\r\n\" id=\"DejaVuSans-114\"/>\r\n       <path d=\"M 34.28125 27.484375 \r\nQ 23.390625 27.484375 19.1875 25 \r\nQ 14.984375 22.515625 14.984375 16.5 \r\nQ 14.984375 11.71875 18.140625 8.90625 \r\nQ 21.296875 6.109375 26.703125 6.109375 \r\nQ 34.1875 6.109375 38.703125 11.40625 \r\nQ 43.21875 16.703125 43.21875 25.484375 \r\nL 43.21875 27.484375 \r\nz\r\nM 52.203125 31.203125 \r\nL 52.203125 0 \r\nL 43.21875 0 \r\nL 43.21875 8.296875 \r\nQ 40.140625 3.328125 35.546875 0.953125 \r\nQ 30.953125 -1.421875 24.3125 -1.421875 \r\nQ 15.921875 -1.421875 10.953125 3.296875 \r\nQ 6 8.015625 6 15.921875 \r\nQ 6 25.140625 12.171875 29.828125 \r\nQ 18.359375 34.515625 30.609375 34.515625 \r\nL 43.21875 34.515625 \r\nL 43.21875 35.40625 \r\nQ 43.21875 41.609375 39.140625 45 \r\nQ 35.0625 48.390625 27.6875 48.390625 \r\nQ 23 48.390625 18.546875 47.265625 \r\nQ 14.109375 46.140625 10.015625 43.890625 \r\nL 10.015625 52.203125 \r\nQ 14.9375 54.109375 19.578125 55.046875 \r\nQ 24.21875 56 28.609375 56 \r\nQ 40.484375 56 46.34375 49.84375 \r\nQ 52.203125 43.703125 52.203125 31.203125 \r\nz\r\n\" id=\"DejaVuSans-97\"/>\r\n       <path d=\"M 5.515625 54.6875 \r\nL 48.1875 54.6875 \r\nL 48.1875 46.484375 \r\nL 14.40625 7.171875 \r\nL 48.1875 7.171875 \r\nL 48.1875 0 \r\nL 4.296875 0 \r\nL 4.296875 8.203125 \r\nL 38.09375 47.515625 \r\nL 5.515625 47.515625 \r\nz\r\n\" id=\"DejaVuSans-122\"/>\r\n       <path d=\"M 56.203125 29.59375 \r\nL 56.203125 25.203125 \r\nL 14.890625 25.203125 \r\nQ 15.484375 15.921875 20.484375 11.0625 \r\nQ 25.484375 6.203125 34.421875 6.203125 \r\nQ 39.59375 6.203125 44.453125 7.46875 \r\nQ 49.3125 8.734375 54.109375 11.28125 \r\nL 54.109375 2.78125 \r\nQ 49.265625 0.734375 44.1875 -0.34375 \r\nQ 39.109375 -1.421875 33.890625 -1.421875 \r\nQ 20.796875 -1.421875 13.15625 6.1875 \r\nQ 5.515625 13.8125 5.515625 26.8125 \r\nQ 5.515625 40.234375 12.765625 48.109375 \r\nQ 20.015625 56 32.328125 56 \r\nQ 43.359375 56 49.78125 48.890625 \r\nQ 56.203125 41.796875 56.203125 29.59375 \r\nz\r\nM 47.21875 32.234375 \r\nQ 47.125 39.59375 43.09375 43.984375 \r\nQ 39.0625 48.390625 32.421875 48.390625 \r\nQ 24.90625 48.390625 20.390625 44.140625 \r\nQ 15.875 39.890625 15.1875 32.171875 \r\nz\r\n\" id=\"DejaVuSans-101\"/>\r\n       <path d=\"M 45.40625 46.390625 \r\nL 45.40625 75.984375 \r\nL 54.390625 75.984375 \r\nL 54.390625 0 \r\nL 45.40625 0 \r\nL 45.40625 8.203125 \r\nQ 42.578125 3.328125 38.25 0.953125 \r\nQ 33.9375 -1.421875 27.875 -1.421875 \r\nQ 17.96875 -1.421875 11.734375 6.484375 \r\nQ 5.515625 14.40625 5.515625 27.296875 \r\nQ 5.515625 40.1875 11.734375 48.09375 \r\nQ 17.96875 56 27.875 56 \r\nQ 33.9375 56 38.25 53.625 \r\nQ 42.578125 51.265625 45.40625 46.390625 \r\nz\r\nM 14.796875 27.296875 \r\nQ 14.796875 17.390625 18.875 11.75 \r\nQ 22.953125 6.109375 30.078125 6.109375 \r\nQ 37.203125 6.109375 41.296875 11.75 \r\nQ 45.40625 17.390625 45.40625 27.296875 \r\nQ 45.40625 37.203125 41.296875 42.84375 \r\nQ 37.203125 48.484375 30.078125 48.484375 \r\nQ 22.953125 48.484375 18.875 42.84375 \r\nQ 14.796875 37.203125 14.796875 27.296875 \r\nz\r\n\" id=\"DejaVuSans-100\"/>\r\n       <path d=\"M 4.890625 31.390625 \r\nL 31.203125 31.390625 \r\nL 31.203125 23.390625 \r\nL 4.890625 23.390625 \r\nz\r\n\" id=\"DejaVuSans-45\"/>\r\n      </defs>\r\n      <g transform=\"translate(78.992188 321.666562)rotate(-90)scale(0.1 -0.1)\">\r\n       <use xlink:href=\"#DejaVuSans-110\"/>\r\n       <use x=\"63.378906\" xlink:href=\"#DejaVuSans-111\"/>\r\n       <use x=\"124.560547\" xlink:href=\"#DejaVuSans-114\"/>\r\n       <use x=\"165.658203\" xlink:href=\"#DejaVuSans-109\"/>\r\n       <use x=\"263.070312\" xlink:href=\"#DejaVuSans-97\"/>\r\n       <use x=\"324.349609\" xlink:href=\"#DejaVuSans-108\"/>\r\n       <use x=\"352.132812\" xlink:href=\"#DejaVuSans-105\"/>\r\n       <use x=\"379.916016\" xlink:href=\"#DejaVuSans-122\"/>\r\n       <use x=\"432.40625\" xlink:href=\"#DejaVuSans-101\"/>\r\n       <use x=\"493.929688\" xlink:href=\"#DejaVuSans-100\"/>\r\n       <use x=\"557.40625\" xlink:href=\"#DejaVuSans-45\"/>\r\n       <use x=\"593.490234\" xlink:href=\"#DejaVuSans-108\"/>\r\n       <use x=\"621.273438\" xlink:href=\"#DejaVuSans-111\"/>\r\n       <use x=\"682.455078\" xlink:href=\"#DejaVuSans-115\"/>\r\n       <use x=\"734.554688\" xlink:href=\"#DejaVuSans-115\"/>\r\n       <use x=\"786.654297\" xlink:href=\"#DejaVuSans-101\"/>\r\n       <use x=\"848.177734\" xlink:href=\"#DejaVuSans-115\"/>\r\n      </g>\r\n     </g>\r\n    </g>\r\n    <g id=\"xtick_3\">\r\n     <g id=\"line2d_3\">\r\n      <g>\r\n       <use style=\"stroke:#000000;stroke-width:0.8;\" x=\"97.157813\" xlink:href=\"#mc45bacd47e\" y=\"224.64\"/>\r\n      </g>\r\n     </g>\r\n     <g id=\"text_3\">\r\n      <!-- wheel-base -->\r\n      <defs>\r\n       <path d=\"M 4.203125 54.6875 \r\nL 13.1875 54.6875 \r\nL 24.421875 12.015625 \r\nL 35.59375 54.6875 \r\nL 46.1875 54.6875 \r\nL 57.421875 12.015625 \r\nL 68.609375 54.6875 \r\nL 77.59375 54.6875 \r\nL 63.28125 0 \r\nL 52.6875 0 \r\nL 40.921875 44.828125 \r\nL 29.109375 0 \r\nL 18.5 0 \r\nz\r\n\" id=\"DejaVuSans-119\"/>\r\n       <path d=\"M 54.890625 33.015625 \r\nL 54.890625 0 \r\nL 45.90625 0 \r\nL 45.90625 32.71875 \r\nQ 45.90625 40.484375 42.875 44.328125 \r\nQ 39.84375 48.1875 33.796875 48.1875 \r\nQ 26.515625 48.1875 22.3125 43.546875 \r\nQ 18.109375 38.921875 18.109375 30.90625 \r\nL 18.109375 0 \r\nL 9.078125 0 \r\nL 9.078125 75.984375 \r\nL 18.109375 75.984375 \r\nL 18.109375 46.1875 \r\nQ 21.34375 51.125 25.703125 53.5625 \r\nQ 30.078125 56 35.796875 56 \r\nQ 45.21875 56 50.046875 50.171875 \r\nQ 54.890625 44.34375 54.890625 33.015625 \r\nz\r\n\" id=\"DejaVuSans-104\"/>\r\n      </defs>\r\n      <g transform=\"translate(99.917188 288.686875)rotate(-90)scale(0.1 -0.1)\">\r\n       <use xlink:href=\"#DejaVuSans-119\"/>\r\n       <use x=\"81.787109\" xlink:href=\"#DejaVuSans-104\"/>\r\n       <use x=\"145.166016\" xlink:href=\"#DejaVuSans-101\"/>\r\n       <use x=\"206.689453\" xlink:href=\"#DejaVuSans-101\"/>\r\n       <use x=\"268.212891\" xlink:href=\"#DejaVuSans-108\"/>\r\n       <use x=\"295.996094\" xlink:href=\"#DejaVuSans-45\"/>\r\n       <use x=\"332.080078\" xlink:href=\"#DejaVuSans-98\"/>\r\n       <use x=\"395.556641\" xlink:href=\"#DejaVuSans-97\"/>\r\n       <use x=\"456.835938\" xlink:href=\"#DejaVuSans-115\"/>\r\n       <use x=\"508.935547\" xlink:href=\"#DejaVuSans-101\"/>\r\n      </g>\r\n     </g>\r\n    </g>\r\n    <g id=\"xtick_4\">\r\n     <g id=\"line2d_4\">\r\n      <g>\r\n       <use style=\"stroke:#000000;stroke-width:0.8;\" x=\"118.082813\" xlink:href=\"#mc45bacd47e\" y=\"224.64\"/>\r\n      </g>\r\n     </g>\r\n     <g id=\"text_4\">\r\n      <!-- length -->\r\n      <defs>\r\n       <path d=\"M 18.3125 70.21875 \r\nL 18.3125 54.6875 \r\nL 36.8125 54.6875 \r\nL 36.8125 47.703125 \r\nL 18.3125 47.703125 \r\nL 18.3125 18.015625 \r\nQ 18.3125 11.328125 20.140625 9.421875 \r\nQ 21.96875 7.515625 27.59375 7.515625 \r\nL 36.8125 7.515625 \r\nL 36.8125 0 \r\nL 27.59375 0 \r\nQ 17.1875 0 13.234375 3.875 \r\nQ 9.28125 7.765625 9.28125 18.015625 \r\nL 9.28125 47.703125 \r\nL 2.6875 47.703125 \r\nL 2.6875 54.6875 \r\nL 9.28125 54.6875 \r\nL 9.28125 70.21875 \r\nz\r\n\" id=\"DejaVuSans-116\"/>\r\n      </defs>\r\n      <g transform=\"translate(120.842188 263.515)rotate(-90)scale(0.1 -0.1)\">\r\n       <use xlink:href=\"#DejaVuSans-108\"/>\r\n       <use x=\"27.783203\" xlink:href=\"#DejaVuSans-101\"/>\r\n       <use x=\"89.306641\" xlink:href=\"#DejaVuSans-110\"/>\r\n       <use x=\"152.685547\" xlink:href=\"#DejaVuSans-103\"/>\r\n       <use x=\"216.162109\" xlink:href=\"#DejaVuSans-116\"/>\r\n       <use x=\"255.371094\" xlink:href=\"#DejaVuSans-104\"/>\r\n      </g>\r\n     </g>\r\n    </g>\r\n    <g id=\"xtick_5\">\r\n     <g id=\"line2d_5\">\r\n      <g>\r\n       <use style=\"stroke:#000000;stroke-width:0.8;\" x=\"139.007813\" xlink:href=\"#mc45bacd47e\" y=\"224.64\"/>\r\n      </g>\r\n     </g>\r\n     <g id=\"text_5\">\r\n      <!-- width -->\r\n      <g transform=\"translate(141.767188 259.2025)rotate(-90)scale(0.1 -0.1)\">\r\n       <use xlink:href=\"#DejaVuSans-119\"/>\r\n       <use x=\"81.787109\" xlink:href=\"#DejaVuSans-105\"/>\r\n       <use x=\"109.570312\" xlink:href=\"#DejaVuSans-100\"/>\r\n       <use x=\"173.046875\" xlink:href=\"#DejaVuSans-116\"/>\r\n       <use x=\"212.255859\" xlink:href=\"#DejaVuSans-104\"/>\r\n      </g>\r\n     </g>\r\n    </g>\r\n    <g id=\"xtick_6\">\r\n     <g id=\"line2d_6\">\r\n      <g>\r\n       <use style=\"stroke:#000000;stroke-width:0.8;\" x=\"159.932813\" xlink:href=\"#mc45bacd47e\" y=\"224.64\"/>\r\n      </g>\r\n     </g>\r\n     <g id=\"text_6\">\r\n      <!-- height -->\r\n      <g transform=\"translate(162.692188 263.515)rotate(-90)scale(0.1 -0.1)\">\r\n       <use xlink:href=\"#DejaVuSans-104\"/>\r\n       <use x=\"63.378906\" xlink:href=\"#DejaVuSans-101\"/>\r\n       <use x=\"124.902344\" xlink:href=\"#DejaVuSans-105\"/>\r\n       <use x=\"152.685547\" xlink:href=\"#DejaVuSans-103\"/>\r\n       <use x=\"216.162109\" xlink:href=\"#DejaVuSans-104\"/>\r\n       <use x=\"279.541016\" xlink:href=\"#DejaVuSans-116\"/>\r\n      </g>\r\n     </g>\r\n    </g>\r\n    <g id=\"xtick_7\">\r\n     <g id=\"line2d_7\">\r\n      <g>\r\n       <use style=\"stroke:#000000;stroke-width:0.8;\" x=\"180.857813\" xlink:href=\"#mc45bacd47e\" y=\"224.64\"/>\r\n      </g>\r\n     </g>\r\n     <g id=\"text_7\">\r\n      <!-- curb-weight -->\r\n      <defs>\r\n       <path d=\"M 48.78125 52.59375 \r\nL 48.78125 44.1875 \r\nQ 44.96875 46.296875 41.140625 47.34375 \r\nQ 37.3125 48.390625 33.40625 48.390625 \r\nQ 24.65625 48.390625 19.8125 42.84375 \r\nQ 14.984375 37.3125 14.984375 27.296875 \r\nQ 14.984375 17.28125 19.8125 11.734375 \r\nQ 24.65625 6.203125 33.40625 6.203125 \r\nQ 37.3125 6.203125 41.140625 7.25 \r\nQ 44.96875 8.296875 48.78125 10.40625 \r\nL 48.78125 2.09375 \r\nQ 45.015625 0.34375 40.984375 -0.53125 \r\nQ 36.96875 -1.421875 32.421875 -1.421875 \r\nQ 20.0625 -1.421875 12.78125 6.34375 \r\nQ 5.515625 14.109375 5.515625 27.296875 \r\nQ 5.515625 40.671875 12.859375 48.328125 \r\nQ 20.21875 56 33.015625 56 \r\nQ 37.15625 56 41.109375 55.140625 \r\nQ 45.0625 54.296875 48.78125 52.59375 \r\nz\r\n\" id=\"DejaVuSans-99\"/>\r\n       <path d=\"M 8.5 21.578125 \r\nL 8.5 54.6875 \r\nL 17.484375 54.6875 \r\nL 17.484375 21.921875 \r\nQ 17.484375 14.15625 20.5 10.265625 \r\nQ 23.53125 6.390625 29.59375 6.390625 \r\nQ 36.859375 6.390625 41.078125 11.03125 \r\nQ 45.3125 15.671875 45.3125 23.6875 \r\nL 45.3125 54.6875 \r\nL 54.296875 54.6875 \r\nL 54.296875 0 \r\nL 45.3125 0 \r\nL 45.3125 8.40625 \r\nQ 42.046875 3.421875 37.71875 1 \r\nQ 33.40625 -1.421875 27.6875 -1.421875 \r\nQ 18.265625 -1.421875 13.375 4.4375 \r\nQ 8.5 10.296875 8.5 21.578125 \r\nz\r\nM 31.109375 56 \r\nz\r\n\" id=\"DejaVuSans-117\"/>\r\n      </defs>\r\n      <g transform=\"translate(183.617188 291.25875)rotate(-90)scale(0.1 -0.1)\">\r\n       <use xlink:href=\"#DejaVuSans-99\"/>\r\n       <use x=\"54.980469\" xlink:href=\"#DejaVuSans-117\"/>\r\n       <use x=\"118.359375\" xlink:href=\"#DejaVuSans-114\"/>\r\n       <use x=\"159.472656\" xlink:href=\"#DejaVuSans-98\"/>\r\n       <use x=\"222.949219\" xlink:href=\"#DejaVuSans-45\"/>\r\n       <use x=\"259.033203\" xlink:href=\"#DejaVuSans-119\"/>\r\n       <use x=\"340.820312\" xlink:href=\"#DejaVuSans-101\"/>\r\n       <use x=\"402.34375\" xlink:href=\"#DejaVuSans-105\"/>\r\n       <use x=\"430.126953\" xlink:href=\"#DejaVuSans-103\"/>\r\n       <use x=\"493.603516\" xlink:href=\"#DejaVuSans-104\"/>\r\n       <use x=\"556.982422\" xlink:href=\"#DejaVuSans-116\"/>\r\n      </g>\r\n     </g>\r\n    </g>\r\n    <g id=\"xtick_8\">\r\n     <g id=\"line2d_8\">\r\n      <g>\r\n       <use style=\"stroke:#000000;stroke-width:0.8;\" x=\"201.782813\" xlink:href=\"#mc45bacd47e\" y=\"224.64\"/>\r\n      </g>\r\n     </g>\r\n     <g id=\"text_8\">\r\n      <!-- engine-size -->\r\n      <g transform=\"translate(204.542188 288.744687)rotate(-90)scale(0.1 -0.1)\">\r\n       <use xlink:href=\"#DejaVuSans-101\"/>\r\n       <use x=\"61.523438\" xlink:href=\"#DejaVuSans-110\"/>\r\n       <use x=\"124.902344\" xlink:href=\"#DejaVuSans-103\"/>\r\n       <use x=\"188.378906\" xlink:href=\"#DejaVuSans-105\"/>\r\n       <use x=\"216.162109\" xlink:href=\"#DejaVuSans-110\"/>\r\n       <use x=\"279.541016\" xlink:href=\"#DejaVuSans-101\"/>\r\n       <use x=\"341.064453\" xlink:href=\"#DejaVuSans-45\"/>\r\n       <use x=\"377.148438\" xlink:href=\"#DejaVuSans-115\"/>\r\n       <use x=\"429.248047\" xlink:href=\"#DejaVuSans-105\"/>\r\n       <use x=\"457.03125\" xlink:href=\"#DejaVuSans-122\"/>\r\n       <use x=\"509.521484\" xlink:href=\"#DejaVuSans-101\"/>\r\n      </g>\r\n     </g>\r\n    </g>\r\n    <g id=\"xtick_9\">\r\n     <g id=\"line2d_9\">\r\n      <g>\r\n       <use style=\"stroke:#000000;stroke-width:0.8;\" x=\"222.707813\" xlink:href=\"#mc45bacd47e\" y=\"224.64\"/>\r\n      </g>\r\n     </g>\r\n     <g id=\"text_9\">\r\n      <!-- bore -->\r\n      <g transform=\"translate(225.467188 254.368125)rotate(-90)scale(0.1 -0.1)\">\r\n       <use xlink:href=\"#DejaVuSans-98\"/>\r\n       <use x=\"63.476562\" xlink:href=\"#DejaVuSans-111\"/>\r\n       <use x=\"124.658203\" xlink:href=\"#DejaVuSans-114\"/>\r\n       <use x=\"165.740234\" xlink:href=\"#DejaVuSans-101\"/>\r\n      </g>\r\n     </g>\r\n    </g>\r\n    <g id=\"xtick_10\">\r\n     <g id=\"line2d_10\">\r\n      <g>\r\n       <use style=\"stroke:#000000;stroke-width:0.8;\" x=\"243.632813\" xlink:href=\"#mc45bacd47e\" y=\"224.64\"/>\r\n      </g>\r\n     </g>\r\n     <g id=\"text_10\">\r\n      <!-- stroke -->\r\n      <defs>\r\n       <path d=\"M 9.078125 75.984375 \r\nL 18.109375 75.984375 \r\nL 18.109375 31.109375 \r\nL 44.921875 54.6875 \r\nL 56.390625 54.6875 \r\nL 27.390625 29.109375 \r\nL 57.625 0 \r\nL 45.90625 0 \r\nL 18.109375 26.703125 \r\nL 18.109375 0 \r\nL 9.078125 0 \r\nz\r\n\" id=\"DejaVuSans-107\"/>\r\n      </defs>\r\n      <g transform=\"translate(246.392188 262.935313)rotate(-90)scale(0.1 -0.1)\">\r\n       <use xlink:href=\"#DejaVuSans-115\"/>\r\n       <use x=\"52.099609\" xlink:href=\"#DejaVuSans-116\"/>\r\n       <use x=\"91.308594\" xlink:href=\"#DejaVuSans-114\"/>\r\n       <use x=\"132.390625\" xlink:href=\"#DejaVuSans-111\"/>\r\n       <use x=\"193.572266\" xlink:href=\"#DejaVuSans-107\"/>\r\n       <use x=\"251.435547\" xlink:href=\"#DejaVuSans-101\"/>\r\n      </g>\r\n     </g>\r\n    </g>\r\n    <g id=\"xtick_11\">\r\n     <g id=\"line2d_11\">\r\n      <g>\r\n       <use style=\"stroke:#000000;stroke-width:0.8;\" x=\"264.557813\" xlink:href=\"#mc45bacd47e\" y=\"224.64\"/>\r\n      </g>\r\n     </g>\r\n     <g id=\"text_11\">\r\n      <!-- compression-ratio -->\r\n      <defs>\r\n       <path d=\"M 18.109375 8.203125 \r\nL 18.109375 -20.796875 \r\nL 9.078125 -20.796875 \r\nL 9.078125 54.6875 \r\nL 18.109375 54.6875 \r\nL 18.109375 46.390625 \r\nQ 20.953125 51.265625 25.265625 53.625 \r\nQ 29.59375 56 35.59375 56 \r\nQ 45.5625 56 51.78125 48.09375 \r\nQ 58.015625 40.1875 58.015625 27.296875 \r\nQ 58.015625 14.40625 51.78125 6.484375 \r\nQ 45.5625 -1.421875 35.59375 -1.421875 \r\nQ 29.59375 -1.421875 25.265625 0.953125 \r\nQ 20.953125 3.328125 18.109375 8.203125 \r\nz\r\nM 48.6875 27.296875 \r\nQ 48.6875 37.203125 44.609375 42.84375 \r\nQ 40.53125 48.484375 33.40625 48.484375 \r\nQ 26.265625 48.484375 22.1875 42.84375 \r\nQ 18.109375 37.203125 18.109375 27.296875 \r\nQ 18.109375 17.390625 22.1875 11.75 \r\nQ 26.265625 6.109375 33.40625 6.109375 \r\nQ 40.53125 6.109375 44.609375 11.75 \r\nQ 48.6875 17.390625 48.6875 27.296875 \r\nz\r\n\" id=\"DejaVuSans-112\"/>\r\n      </defs>\r\n      <g transform=\"translate(267.317188 321.924375)rotate(-90)scale(0.1 -0.1)\">\r\n       <use xlink:href=\"#DejaVuSans-99\"/>\r\n       <use x=\"54.980469\" xlink:href=\"#DejaVuSans-111\"/>\r\n       <use x=\"116.162109\" xlink:href=\"#DejaVuSans-109\"/>\r\n       <use x=\"213.574219\" xlink:href=\"#DejaVuSans-112\"/>\r\n       <use x=\"277.050781\" xlink:href=\"#DejaVuSans-114\"/>\r\n       <use x=\"318.132812\" xlink:href=\"#DejaVuSans-101\"/>\r\n       <use x=\"379.65625\" xlink:href=\"#DejaVuSans-115\"/>\r\n       <use x=\"431.755859\" xlink:href=\"#DejaVuSans-115\"/>\r\n       <use x=\"483.855469\" xlink:href=\"#DejaVuSans-105\"/>\r\n       <use x=\"511.638672\" xlink:href=\"#DejaVuSans-111\"/>\r\n       <use x=\"572.820312\" xlink:href=\"#DejaVuSans-110\"/>\r\n       <use x=\"636.199219\" xlink:href=\"#DejaVuSans-45\"/>\r\n       <use x=\"672.283203\" xlink:href=\"#DejaVuSans-114\"/>\r\n       <use x=\"713.396484\" xlink:href=\"#DejaVuSans-97\"/>\r\n       <use x=\"774.675781\" xlink:href=\"#DejaVuSans-116\"/>\r\n       <use x=\"813.884766\" xlink:href=\"#DejaVuSans-105\"/>\r\n       <use x=\"841.667969\" xlink:href=\"#DejaVuSans-111\"/>\r\n      </g>\r\n     </g>\r\n    </g>\r\n    <g id=\"xtick_12\">\r\n     <g id=\"line2d_12\">\r\n      <g>\r\n       <use style=\"stroke:#000000;stroke-width:0.8;\" x=\"285.482813\" xlink:href=\"#mc45bacd47e\" y=\"224.64\"/>\r\n      </g>\r\n     </g>\r\n     <g id=\"text_12\">\r\n      <!-- horsepower -->\r\n      <g transform=\"translate(288.242188 290.479062)rotate(-90)scale(0.1 -0.1)\">\r\n       <use xlink:href=\"#DejaVuSans-104\"/>\r\n       <use x=\"63.378906\" xlink:href=\"#DejaVuSans-111\"/>\r\n       <use x=\"124.560547\" xlink:href=\"#DejaVuSans-114\"/>\r\n       <use x=\"165.673828\" xlink:href=\"#DejaVuSans-115\"/>\r\n       <use x=\"217.773438\" xlink:href=\"#DejaVuSans-101\"/>\r\n       <use x=\"279.296875\" xlink:href=\"#DejaVuSans-112\"/>\r\n       <use x=\"342.773438\" xlink:href=\"#DejaVuSans-111\"/>\r\n       <use x=\"403.955078\" xlink:href=\"#DejaVuSans-119\"/>\r\n       <use x=\"485.742188\" xlink:href=\"#DejaVuSans-101\"/>\r\n       <use x=\"547.265625\" xlink:href=\"#DejaVuSans-114\"/>\r\n      </g>\r\n     </g>\r\n    </g>\r\n    <g id=\"xtick_13\">\r\n     <g id=\"line2d_13\">\r\n      <g>\r\n       <use style=\"stroke:#000000;stroke-width:0.8;\" x=\"306.407813\" xlink:href=\"#mc45bacd47e\" y=\"224.64\"/>\r\n      </g>\r\n     </g>\r\n     <g id=\"text_13\">\r\n      <!-- peak-rpm -->\r\n      <g transform=\"translate(309.167188 279.868125)rotate(-90)scale(0.1 -0.1)\">\r\n       <use xlink:href=\"#DejaVuSans-112\"/>\r\n       <use x=\"63.476562\" xlink:href=\"#DejaVuSans-101\"/>\r\n       <use x=\"125\" xlink:href=\"#DejaVuSans-97\"/>\r\n       <use x=\"186.279297\" xlink:href=\"#DejaVuSans-107\"/>\r\n       <use x=\"244.189453\" xlink:href=\"#DejaVuSans-45\"/>\r\n       <use x=\"280.273438\" xlink:href=\"#DejaVuSans-114\"/>\r\n       <use x=\"321.386719\" xlink:href=\"#DejaVuSans-112\"/>\r\n       <use x=\"384.863281\" xlink:href=\"#DejaVuSans-109\"/>\r\n      </g>\r\n     </g>\r\n    </g>\r\n    <g id=\"xtick_14\">\r\n     <g id=\"line2d_14\">\r\n      <g>\r\n       <use style=\"stroke:#000000;stroke-width:0.8;\" x=\"327.332813\" xlink:href=\"#mc45bacd47e\" y=\"224.64\"/>\r\n      </g>\r\n     </g>\r\n     <g id=\"text_14\">\r\n      <!-- city-mpg -->\r\n      <g transform=\"translate(330.092188 275.799375)rotate(-90)scale(0.1 -0.1)\">\r\n       <use xlink:href=\"#DejaVuSans-99\"/>\r\n       <use x=\"54.980469\" xlink:href=\"#DejaVuSans-105\"/>\r\n       <use x=\"82.763672\" xlink:href=\"#DejaVuSans-116\"/>\r\n       <use x=\"121.972656\" xlink:href=\"#DejaVuSans-121\"/>\r\n       <use x=\"181.136719\" xlink:href=\"#DejaVuSans-45\"/>\r\n       <use x=\"217.220703\" xlink:href=\"#DejaVuSans-109\"/>\r\n       <use x=\"314.632812\" xlink:href=\"#DejaVuSans-112\"/>\r\n       <use x=\"378.109375\" xlink:href=\"#DejaVuSans-103\"/>\r\n      </g>\r\n     </g>\r\n    </g>\r\n    <g id=\"xtick_15\">\r\n     <g id=\"line2d_15\">\r\n      <g>\r\n       <use style=\"stroke:#000000;stroke-width:0.8;\" x=\"348.257813\" xlink:href=\"#mc45bacd47e\" y=\"224.64\"/>\r\n      </g>\r\n     </g>\r\n     <g id=\"text_15\">\r\n      <!-- highway-mpg -->\r\n      <g transform=\"translate(351.017188 299.710312)rotate(-90)scale(0.1 -0.1)\">\r\n       <use xlink:href=\"#DejaVuSans-104\"/>\r\n       <use x=\"63.378906\" xlink:href=\"#DejaVuSans-105\"/>\r\n       <use x=\"91.162109\" xlink:href=\"#DejaVuSans-103\"/>\r\n       <use x=\"154.638672\" xlink:href=\"#DejaVuSans-104\"/>\r\n       <use x=\"218.017578\" xlink:href=\"#DejaVuSans-119\"/>\r\n       <use x=\"299.804688\" xlink:href=\"#DejaVuSans-97\"/>\r\n       <use x=\"361.083984\" xlink:href=\"#DejaVuSans-121\"/>\r\n       <use x=\"420.248047\" xlink:href=\"#DejaVuSans-45\"/>\r\n       <use x=\"456.332031\" xlink:href=\"#DejaVuSans-109\"/>\r\n       <use x=\"553.744141\" xlink:href=\"#DejaVuSans-112\"/>\r\n       <use x=\"617.220703\" xlink:href=\"#DejaVuSans-103\"/>\r\n      </g>\r\n     </g>\r\n    </g>\r\n    <g id=\"xtick_16\">\r\n     <g id=\"line2d_16\">\r\n      <g>\r\n       <use style=\"stroke:#000000;stroke-width:0.8;\" x=\"369.182813\" xlink:href=\"#mc45bacd47e\" y=\"224.64\"/>\r\n      </g>\r\n     </g>\r\n     <g id=\"text_16\">\r\n      <!-- price -->\r\n      <g transform=\"translate(371.942188 256.529063)rotate(-90)scale(0.1 -0.1)\">\r\n       <use xlink:href=\"#DejaVuSans-112\"/>\r\n       <use x=\"63.476562\" xlink:href=\"#DejaVuSans-114\"/>\r\n       <use x=\"104.589844\" xlink:href=\"#DejaVuSans-105\"/>\r\n       <use x=\"132.373047\" xlink:href=\"#DejaVuSans-99\"/>\r\n       <use x=\"187.353516\" xlink:href=\"#DejaVuSans-101\"/>\r\n      </g>\r\n     </g>\r\n    </g>\r\n   </g>\r\n   <g id=\"matplotlib.axis_2\">\r\n    <g id=\"ytick_1\">\r\n     <g id=\"line2d_17\">\r\n      <defs>\r\n       <path d=\"M 0 0 \r\nL -3.5 0 \r\n\" id=\"m94e3dc3275\" style=\"stroke:#000000;stroke-width:0.8;\"/>\r\n      </defs>\r\n      <g>\r\n       <use style=\"stroke:#000000;stroke-width:0.8;\" x=\"44.845313\" xlink:href=\"#m94e3dc3275\" y=\"220.010159\"/>\r\n      </g>\r\n     </g>\r\n     <g id=\"text_17\">\r\n      <!-- −0.75 -->\r\n      <defs>\r\n       <path d=\"M 10.59375 35.5 \r\nL 73.1875 35.5 \r\nL 73.1875 27.203125 \r\nL 10.59375 27.203125 \r\nz\r\n\" id=\"DejaVuSans-8722\"/>\r\n       <path d=\"M 31.78125 66.40625 \r\nQ 24.171875 66.40625 20.328125 58.90625 \r\nQ 16.5 51.421875 16.5 36.375 \r\nQ 16.5 21.390625 20.328125 13.890625 \r\nQ 24.171875 6.390625 31.78125 6.390625 \r\nQ 39.453125 6.390625 43.28125 13.890625 \r\nQ 47.125 21.390625 47.125 36.375 \r\nQ 47.125 51.421875 43.28125 58.90625 \r\nQ 39.453125 66.40625 31.78125 66.40625 \r\nz\r\nM 31.78125 74.21875 \r\nQ 44.046875 74.21875 50.515625 64.515625 \r\nQ 56.984375 54.828125 56.984375 36.375 \r\nQ 56.984375 17.96875 50.515625 8.265625 \r\nQ 44.046875 -1.421875 31.78125 -1.421875 \r\nQ 19.53125 -1.421875 13.0625 8.265625 \r\nQ 6.59375 17.96875 6.59375 36.375 \r\nQ 6.59375 54.828125 13.0625 64.515625 \r\nQ 19.53125 74.21875 31.78125 74.21875 \r\nz\r\n\" id=\"DejaVuSans-48\"/>\r\n       <path d=\"M 10.6875 12.40625 \r\nL 21 12.40625 \r\nL 21 0 \r\nL 10.6875 0 \r\nz\r\n\" id=\"DejaVuSans-46\"/>\r\n       <path d=\"M 8.203125 72.90625 \r\nL 55.078125 72.90625 \r\nL 55.078125 68.703125 \r\nL 28.609375 0 \r\nL 18.3125 0 \r\nL 43.21875 64.59375 \r\nL 8.203125 64.59375 \r\nz\r\n\" id=\"DejaVuSans-55\"/>\r\n       <path d=\"M 10.796875 72.90625 \r\nL 49.515625 72.90625 \r\nL 49.515625 64.59375 \r\nL 19.828125 64.59375 \r\nL 19.828125 46.734375 \r\nQ 21.96875 47.46875 24.109375 47.828125 \r\nQ 26.265625 48.1875 28.421875 48.1875 \r\nQ 40.625 48.1875 47.75 41.5 \r\nQ 54.890625 34.8125 54.890625 23.390625 \r\nQ 54.890625 11.625 47.5625 5.09375 \r\nQ 40.234375 -1.421875 26.90625 -1.421875 \r\nQ 22.3125 -1.421875 17.546875 -0.640625 \r\nQ 12.796875 0.140625 7.71875 1.703125 \r\nL 7.71875 11.625 \r\nQ 12.109375 9.234375 16.796875 8.0625 \r\nQ 21.484375 6.890625 26.703125 6.890625 \r\nQ 35.15625 6.890625 40.078125 11.328125 \r\nQ 45.015625 15.765625 45.015625 23.390625 \r\nQ 45.015625 31 40.078125 35.4375 \r\nQ 35.15625 39.890625 26.703125 39.890625 \r\nQ 22.75 39.890625 18.8125 39.015625 \r\nQ 14.890625 38.140625 10.796875 36.28125 \r\nz\r\n\" id=\"DejaVuSans-53\"/>\r\n      </defs>\r\n      <g transform=\"translate(7.2 223.809377)scale(0.1 -0.1)\">\r\n       <use xlink:href=\"#DejaVuSans-8722\"/>\r\n       <use x=\"83.789062\" xlink:href=\"#DejaVuSans-48\"/>\r\n       <use x=\"147.412109\" xlink:href=\"#DejaVuSans-46\"/>\r\n       <use x=\"179.199219\" xlink:href=\"#DejaVuSans-55\"/>\r\n       <use x=\"242.822266\" xlink:href=\"#DejaVuSans-53\"/>\r\n      </g>\r\n     </g>\r\n    </g>\r\n    <g id=\"ytick_2\">\r\n     <g id=\"line2d_18\">\r\n      <g>\r\n       <use style=\"stroke:#000000;stroke-width:0.8;\" x=\"44.845313\" xlink:href=\"#m94e3dc3275\" y=\"191.020655\"/>\r\n      </g>\r\n     </g>\r\n     <g id=\"text_18\">\r\n      <!-- −0.50 -->\r\n      <g transform=\"translate(7.2 194.819874)scale(0.1 -0.1)\">\r\n       <use xlink:href=\"#DejaVuSans-8722\"/>\r\n       <use x=\"83.789062\" xlink:href=\"#DejaVuSans-48\"/>\r\n       <use x=\"147.412109\" xlink:href=\"#DejaVuSans-46\"/>\r\n       <use x=\"179.199219\" xlink:href=\"#DejaVuSans-53\"/>\r\n       <use x=\"242.822266\" xlink:href=\"#DejaVuSans-48\"/>\r\n      </g>\r\n     </g>\r\n    </g>\r\n    <g id=\"ytick_3\">\r\n     <g id=\"line2d_19\">\r\n      <g>\r\n       <use style=\"stroke:#000000;stroke-width:0.8;\" x=\"44.845313\" xlink:href=\"#m94e3dc3275\" y=\"162.031152\"/>\r\n      </g>\r\n     </g>\r\n     <g id=\"text_19\">\r\n      <!-- −0.25 -->\r\n      <defs>\r\n       <path d=\"M 19.1875 8.296875 \r\nL 53.609375 8.296875 \r\nL 53.609375 0 \r\nL 7.328125 0 \r\nL 7.328125 8.296875 \r\nQ 12.9375 14.109375 22.625 23.890625 \r\nQ 32.328125 33.6875 34.8125 36.53125 \r\nQ 39.546875 41.84375 41.421875 45.53125 \r\nQ 43.3125 49.21875 43.3125 52.78125 \r\nQ 43.3125 58.59375 39.234375 62.25 \r\nQ 35.15625 65.921875 28.609375 65.921875 \r\nQ 23.96875 65.921875 18.8125 64.3125 \r\nQ 13.671875 62.703125 7.8125 59.421875 \r\nL 7.8125 69.390625 \r\nQ 13.765625 71.78125 18.9375 73 \r\nQ 24.125 74.21875 28.421875 74.21875 \r\nQ 39.75 74.21875 46.484375 68.546875 \r\nQ 53.21875 62.890625 53.21875 53.421875 \r\nQ 53.21875 48.921875 51.53125 44.890625 \r\nQ 49.859375 40.875 45.40625 35.40625 \r\nQ 44.1875 33.984375 37.640625 27.21875 \r\nQ 31.109375 20.453125 19.1875 8.296875 \r\nz\r\n\" id=\"DejaVuSans-50\"/>\r\n      </defs>\r\n      <g transform=\"translate(7.2 165.830371)scale(0.1 -0.1)\">\r\n       <use xlink:href=\"#DejaVuSans-8722\"/>\r\n       <use x=\"83.789062\" xlink:href=\"#DejaVuSans-48\"/>\r\n       <use x=\"147.412109\" xlink:href=\"#DejaVuSans-46\"/>\r\n       <use x=\"179.199219\" xlink:href=\"#DejaVuSans-50\"/>\r\n       <use x=\"242.822266\" xlink:href=\"#DejaVuSans-53\"/>\r\n      </g>\r\n     </g>\r\n    </g>\r\n    <g id=\"ytick_4\">\r\n     <g id=\"line2d_20\">\r\n      <g>\r\n       <use style=\"stroke:#000000;stroke-width:0.8;\" x=\"44.845313\" xlink:href=\"#m94e3dc3275\" y=\"133.041649\"/>\r\n      </g>\r\n     </g>\r\n     <g id=\"text_20\">\r\n      <!-- 0.00 -->\r\n      <g transform=\"translate(15.579688 136.840868)scale(0.1 -0.1)\">\r\n       <use xlink:href=\"#DejaVuSans-48\"/>\r\n       <use x=\"63.623047\" xlink:href=\"#DejaVuSans-46\"/>\r\n       <use x=\"95.410156\" xlink:href=\"#DejaVuSans-48\"/>\r\n       <use x=\"159.033203\" xlink:href=\"#DejaVuSans-48\"/>\r\n      </g>\r\n     </g>\r\n    </g>\r\n    <g id=\"ytick_5\">\r\n     <g id=\"line2d_21\">\r\n      <g>\r\n       <use style=\"stroke:#000000;stroke-width:0.8;\" x=\"44.845313\" xlink:href=\"#m94e3dc3275\" y=\"104.052146\"/>\r\n      </g>\r\n     </g>\r\n     <g id=\"text_21\">\r\n      <!-- 0.25 -->\r\n      <g transform=\"translate(15.579688 107.851365)scale(0.1 -0.1)\">\r\n       <use xlink:href=\"#DejaVuSans-48\"/>\r\n       <use x=\"63.623047\" xlink:href=\"#DejaVuSans-46\"/>\r\n       <use x=\"95.410156\" xlink:href=\"#DejaVuSans-50\"/>\r\n       <use x=\"159.033203\" xlink:href=\"#DejaVuSans-53\"/>\r\n      </g>\r\n     </g>\r\n    </g>\r\n    <g id=\"ytick_6\">\r\n     <g id=\"line2d_22\">\r\n      <g>\r\n       <use style=\"stroke:#000000;stroke-width:0.8;\" x=\"44.845313\" xlink:href=\"#m94e3dc3275\" y=\"75.062643\"/>\r\n      </g>\r\n     </g>\r\n     <g id=\"text_22\">\r\n      <!-- 0.50 -->\r\n      <g transform=\"translate(15.579688 78.861861)scale(0.1 -0.1)\">\r\n       <use xlink:href=\"#DejaVuSans-48\"/>\r\n       <use x=\"63.623047\" xlink:href=\"#DejaVuSans-46\"/>\r\n       <use x=\"95.410156\" xlink:href=\"#DejaVuSans-53\"/>\r\n       <use x=\"159.033203\" xlink:href=\"#DejaVuSans-48\"/>\r\n      </g>\r\n     </g>\r\n    </g>\r\n    <g id=\"ytick_7\">\r\n     <g id=\"line2d_23\">\r\n      <g>\r\n       <use style=\"stroke:#000000;stroke-width:0.8;\" x=\"44.845313\" xlink:href=\"#m94e3dc3275\" y=\"46.07314\"/>\r\n      </g>\r\n     </g>\r\n     <g id=\"text_23\">\r\n      <!-- 0.75 -->\r\n      <g transform=\"translate(15.579688 49.872358)scale(0.1 -0.1)\">\r\n       <use xlink:href=\"#DejaVuSans-48\"/>\r\n       <use x=\"63.623047\" xlink:href=\"#DejaVuSans-46\"/>\r\n       <use x=\"95.410156\" xlink:href=\"#DejaVuSans-55\"/>\r\n       <use x=\"159.033203\" xlink:href=\"#DejaVuSans-53\"/>\r\n      </g>\r\n     </g>\r\n    </g>\r\n    <g id=\"ytick_8\">\r\n     <g id=\"line2d_24\">\r\n      <g>\r\n       <use style=\"stroke:#000000;stroke-width:0.8;\" x=\"44.845313\" xlink:href=\"#m94e3dc3275\" y=\"17.083636\"/>\r\n      </g>\r\n     </g>\r\n     <g id=\"text_24\">\r\n      <!-- 1.00 -->\r\n      <defs>\r\n       <path d=\"M 12.40625 8.296875 \r\nL 28.515625 8.296875 \r\nL 28.515625 63.921875 \r\nL 10.984375 60.40625 \r\nL 10.984375 69.390625 \r\nL 28.421875 72.90625 \r\nL 38.28125 72.90625 \r\nL 38.28125 8.296875 \r\nL 54.390625 8.296875 \r\nL 54.390625 0 \r\nL 12.40625 0 \r\nz\r\n\" id=\"DejaVuSans-49\"/>\r\n      </defs>\r\n      <g transform=\"translate(15.579688 20.882855)scale(0.1 -0.1)\">\r\n       <use xlink:href=\"#DejaVuSans-49\"/>\r\n       <use x=\"63.623047\" xlink:href=\"#DejaVuSans-46\"/>\r\n       <use x=\"95.410156\" xlink:href=\"#DejaVuSans-48\"/>\r\n       <use x=\"159.033203\" xlink:href=\"#DejaVuSans-48\"/>\r\n      </g>\r\n     </g>\r\n    </g>\r\n   </g>\r\n   <g id=\"patch_19\">\r\n    <path d=\"M 44.845313 224.64 \r\nL 44.845313 7.2 \r\n\" style=\"fill:none;stroke:#000000;stroke-linecap:square;stroke-linejoin:miter;stroke-width:0.8;\"/>\r\n   </g>\r\n   <g id=\"patch_20\">\r\n    <path d=\"M 379.645313 224.64 \r\nL 379.645313 7.2 \r\n\" style=\"fill:none;stroke:#000000;stroke-linecap:square;stroke-linejoin:miter;stroke-width:0.8;\"/>\r\n   </g>\r\n   <g id=\"patch_21\">\r\n    <path d=\"M 44.845313 224.64 \r\nL 379.645313 224.64 \r\n\" style=\"fill:none;stroke:#000000;stroke-linecap:square;stroke-linejoin:miter;stroke-width:0.8;\"/>\r\n   </g>\r\n   <g id=\"patch_22\">\r\n    <path d=\"M 44.845313 7.2 \r\nL 379.645313 7.2 \r\n\" style=\"fill:none;stroke:#000000;stroke-linecap:square;stroke-linejoin:miter;stroke-width:0.8;\"/>\r\n   </g>\r\n  </g>\r\n </g>\r\n <defs>\r\n  <clipPath id=\"p07620f92f6\">\r\n   <rect height=\"217.44\" width=\"334.8\" x=\"44.845313\" y=\"7.2\"/>\r\n  </clipPath>\r\n </defs>\r\n</svg>\r\n",
      "image/png": "[encoded data removed]"
     },
     "metadata": {
      "needs_background": "light"
     }
    }
   ],
   "source": [
    "df.corr()['price'].plot(kind='bar')"
   ]
  },
  {
   "cell_type": "code",
   "execution_count": 7,
   "metadata": {},
   "outputs": [
    {
     "output_type": "execute_result",
     "data": {
      "text/plain": "<matplotlib.axes._subplots.AxesSubplot at 0x293710eaf88>"
     },
     "metadata": {},
     "execution_count": 7
    },
    {
     "output_type": "display_data",
     "data": {
      "text/plain": "<Figure size 432x288 with 1 Axes>",
      "image/svg+xml": "<?xml version=\"1.0\" encoding=\"utf-8\" standalone=\"no\"?>\r\n<!DOCTYPE svg PUBLIC \"-//W3C//DTD SVG 1.1//EN\"\r\n  \"http://www.w3.org/Graphics/SVG/1.1/DTD/svg11.dtd\">\r\n<!-- Created with matplotlib (https://matplotlib.org/) -->\r\n<svg height=\"329.124375pt\" version=\"1.1\" viewBox=\"0 0 386.845313 329.124375\" width=\"386.845313pt\" xmlns=\"http://www.w3.org/2000/svg\" xmlns:xlink=\"http://www.w3.org/1999/xlink\">\r\n <defs>\r\n  <style type=\"text/css\">\r\n*{stroke-linecap:butt;stroke-linejoin:round;}\r\n  </style>\r\n </defs>\r\n <g id=\"figure_1\">\r\n  <g id=\"patch_1\">\r\n   <path d=\"M 0 329.124375 \r\nL 386.845313 329.124375 \r\nL 386.845313 0 \r\nL 0 0 \r\nz\r\n\" style=\"fill:none;\"/>\r\n  </g>\r\n  <g id=\"axes_1\">\r\n   <g id=\"patch_2\">\r\n    <path d=\"M 44.845313 224.64 \r\nL 379.645313 224.64 \r\nL 379.645313 7.2 \r\nL 44.845313 7.2 \r\nz\r\n\" style=\"fill:#ffffff;\"/>\r\n   </g>\r\n   <g id=\"patch_3\">\r\n    <path clip-path=\"url(#pb9bad7dd60)\" d=\"M 50.076563 125.564362 \r\nL 60.539063 125.564362 \r\nL 60.539063 117.340407 \r\nL 50.076563 117.340407 \r\nz\r\n\" style=\"fill:#1f77b4;\"/>\r\n   </g>\r\n   <g id=\"patch_4\">\r\n    <path clip-path=\"url(#pb9bad7dd60)\" d=\"M 71.001563 125.564362 \r\nL 81.464063 125.564362 \r\nL 81.464063 101.99153 \r\nL 71.001563 101.99153 \r\nz\r\n\" style=\"fill:#1f77b4;\"/>\r\n   </g>\r\n   <g id=\"patch_5\">\r\n    <path clip-path=\"url(#pb9bad7dd60)\" d=\"M 91.926563 125.564362 \r\nL 102.389063 125.564362 \r\nL 102.389063 85.298741 \r\nL 91.926563 85.298741 \r\nz\r\n\" style=\"fill:#1f77b4;\"/>\r\n   </g>\r\n   <g id=\"patch_6\">\r\n    <path clip-path=\"url(#pb9bad7dd60)\" d=\"M 112.851563 125.564362 \r\nL 123.314063 125.564362 \r\nL 123.314063 62.667813 \r\nL 112.851563 62.667813 \r\nz\r\n\" style=\"fill:#1f77b4;\"/>\r\n   </g>\r\n   <g id=\"patch_7\">\r\n    <path clip-path=\"url(#pb9bad7dd60)\" d=\"M 133.776563 125.564362 \r\nL 144.239063 125.564362 \r\nL 144.239063 58.842641 \r\nL 133.776563 58.842641 \r\nz\r\n\" style=\"fill:#1f77b4;\"/>\r\n   </g>\r\n   <g id=\"patch_8\">\r\n    <path clip-path=\"url(#pb9bad7dd60)\" d=\"M 154.701563 125.564362 \r\nL 165.164063 125.564362 \r\nL 165.164063 135.002293 \r\nL 154.701563 135.002293 \r\nz\r\n\" style=\"fill:#1f77b4;\"/>\r\n   </g>\r\n   <g id=\"patch_9\">\r\n    <path clip-path=\"url(#pb9bad7dd60)\" d=\"M 175.626563 125.564362 \r\nL 186.089063 125.564362 \r\nL 186.089063 43.337988 \r\nL 175.626563 43.337988 \r\nz\r\n\" style=\"fill:#1f77b4;\"/>\r\n   </g>\r\n   <g id=\"patch_10\">\r\n    <path clip-path=\"url(#pb9bad7dd60)\" d=\"M 196.551563 125.564362 \r\nL 207.014063 125.564362 \r\nL 207.014063 36.32071 \r\nL 196.551563 36.32071 \r\nz\r\n\" style=\"fill:#1f77b4;\"/>\r\n   </g>\r\n   <g id=\"patch_11\">\r\n    <path clip-path=\"url(#pb9bad7dd60)\" d=\"M 217.476563 125.564362 \r\nL 227.939063 125.564362 \r\nL 227.939063 64.06629 \r\nL 217.476563 64.06629 \r\nz\r\n\" style=\"fill:#1f77b4;\"/>\r\n   </g>\r\n   <g id=\"patch_12\">\r\n    <path clip-path=\"url(#pb9bad7dd60)\" d=\"M 238.401563 125.564362 \r\nL 248.864063 125.564362 \r\nL 248.864063 114.919406 \r\nL 238.401563 114.919406 \r\nz\r\n\" style=\"fill:#1f77b4;\"/>\r\n   </g>\r\n   <g id=\"patch_13\">\r\n    <path clip-path=\"url(#pb9bad7dd60)\" d=\"M 259.326563 125.564362 \r\nL 269.789062 125.564362 \r\nL 269.789062 148.832323 \r\nL 259.326563 148.832323 \r\nz\r\n\" style=\"fill:#1f77b4;\"/>\r\n   </g>\r\n   <g id=\"patch_14\">\r\n    <path clip-path=\"url(#pb9bad7dd60)\" d=\"M 280.251563 125.564362 \r\nL 290.714063 125.564362 \r\nL 290.714063 17.083636 \r\nL 280.251563 17.083636 \r\nz\r\n\" style=\"fill:#1f77b4;\"/>\r\n   </g>\r\n   <g id=\"patch_15\">\r\n    <path clip-path=\"url(#pb9bad7dd60)\" d=\"M 301.176563 125.564362 \r\nL 311.639063 125.564362 \r\nL 311.639063 113.861051 \r\nL 301.176563 113.861051 \r\nz\r\n\" style=\"fill:#1f77b4;\"/>\r\n   </g>\r\n   <g id=\"patch_16\">\r\n    <path clip-path=\"url(#pb9bad7dd60)\" d=\"M 322.101563 125.564362 \r\nL 332.564063 125.564362 \r\nL 332.564063 214.756364 \r\nL 322.101563 214.756364 \r\nz\r\n\" style=\"fill:#1f77b4;\"/>\r\n   </g>\r\n   <g id=\"patch_17\">\r\n    <path clip-path=\"url(#pb9bad7dd60)\" d=\"M 343.026563 125.564362 \r\nL 353.489063 125.564362 \r\nL 353.489063 212.845676 \r\nL 343.026563 212.845676 \r\nz\r\n\" style=\"fill:#1f77b4;\"/>\r\n   </g>\r\n   <g id=\"patch_18\">\r\n    <path clip-path=\"url(#pb9bad7dd60)\" d=\"M 363.951563 125.564362 \r\nL 374.414063 125.564362 \r\nL 374.414063 37.737629 \r\nL 363.951563 37.737629 \r\nz\r\n\" style=\"fill:#1f77b4;\"/>\r\n   </g>\r\n   <g id=\"matplotlib.axis_1\">\r\n    <g id=\"xtick_1\">\r\n     <g id=\"line2d_1\">\r\n      <defs>\r\n       <path d=\"M 0 0 \r\nL 0 3.5 \r\n\" id=\"m132024e798\" style=\"stroke:#000000;stroke-width:0.8;\"/>\r\n      </defs>\r\n      <g>\r\n       <use style=\"stroke:#000000;stroke-width:0.8;\" x=\"55.307813\" xlink:href=\"#m132024e798\" y=\"224.64\"/>\r\n      </g>\r\n     </g>\r\n     <g id=\"text_1\">\r\n      <!-- symboling -->\r\n      <defs>\r\n       <path d=\"M 44.28125 53.078125 \r\nL 44.28125 44.578125 \r\nQ 40.484375 46.53125 36.375 47.5 \r\nQ 32.28125 48.484375 27.875 48.484375 \r\nQ 21.1875 48.484375 17.84375 46.4375 \r\nQ 14.5 44.390625 14.5 40.28125 \r\nQ 14.5 37.15625 16.890625 35.375 \r\nQ 19.28125 33.59375 26.515625 31.984375 \r\nL 29.59375 31.296875 \r\nQ 39.15625 29.25 43.1875 25.515625 \r\nQ 47.21875 21.78125 47.21875 15.09375 \r\nQ 47.21875 7.46875 41.1875 3.015625 \r\nQ 35.15625 -1.421875 24.609375 -1.421875 \r\nQ 20.21875 -1.421875 15.453125 -0.5625 \r\nQ 10.6875 0.296875 5.421875 2 \r\nL 5.421875 11.28125 \r\nQ 10.40625 8.6875 15.234375 7.390625 \r\nQ 20.0625 6.109375 24.8125 6.109375 \r\nQ 31.15625 6.109375 34.5625 8.28125 \r\nQ 37.984375 10.453125 37.984375 14.40625 \r\nQ 37.984375 18.0625 35.515625 20.015625 \r\nQ 33.0625 21.96875 24.703125 23.78125 \r\nL 21.578125 24.515625 \r\nQ 13.234375 26.265625 9.515625 29.90625 \r\nQ 5.8125 33.546875 5.8125 39.890625 \r\nQ 5.8125 47.609375 11.28125 51.796875 \r\nQ 16.75 56 26.8125 56 \r\nQ 31.78125 56 36.171875 55.265625 \r\nQ 40.578125 54.546875 44.28125 53.078125 \r\nz\r\n\" id=\"DejaVuSans-115\"/>\r\n       <path d=\"M 32.171875 -5.078125 \r\nQ 28.375 -14.84375 24.75 -17.8125 \r\nQ 21.140625 -20.796875 15.09375 -20.796875 \r\nL 7.90625 -20.796875 \r\nL 7.90625 -13.28125 \r\nL 13.1875 -13.28125 \r\nQ 16.890625 -13.28125 18.9375 -11.515625 \r\nQ 21 -9.765625 23.484375 -3.21875 \r\nL 25.09375 0.875 \r\nL 2.984375 54.6875 \r\nL 12.5 54.6875 \r\nL 29.59375 11.921875 \r\nL 46.6875 54.6875 \r\nL 56.203125 54.6875 \r\nz\r\n\" id=\"DejaVuSans-121\"/>\r\n       <path d=\"M 52 44.1875 \r\nQ 55.375 50.25 60.0625 53.125 \r\nQ 64.75 56 71.09375 56 \r\nQ 79.640625 56 84.28125 50.015625 \r\nQ 88.921875 44.046875 88.921875 33.015625 \r\nL 88.921875 0 \r\nL 79.890625 0 \r\nL 79.890625 32.71875 \r\nQ 79.890625 40.578125 77.09375 44.375 \r\nQ 74.3125 48.1875 68.609375 48.1875 \r\nQ 61.625 48.1875 57.5625 43.546875 \r\nQ 53.515625 38.921875 53.515625 30.90625 \r\nL 53.515625 0 \r\nL 44.484375 0 \r\nL 44.484375 32.71875 \r\nQ 44.484375 40.625 41.703125 44.40625 \r\nQ 38.921875 48.1875 33.109375 48.1875 \r\nQ 26.21875 48.1875 22.15625 43.53125 \r\nQ 18.109375 38.875 18.109375 30.90625 \r\nL 18.109375 0 \r\nL 9.078125 0 \r\nL 9.078125 54.6875 \r\nL 18.109375 54.6875 \r\nL 18.109375 46.1875 \r\nQ 21.1875 51.21875 25.484375 53.609375 \r\nQ 29.78125 56 35.6875 56 \r\nQ 41.65625 56 45.828125 52.96875 \r\nQ 50 49.953125 52 44.1875 \r\nz\r\n\" id=\"DejaVuSans-109\"/>\r\n       <path d=\"M 48.6875 27.296875 \r\nQ 48.6875 37.203125 44.609375 42.84375 \r\nQ 40.53125 48.484375 33.40625 48.484375 \r\nQ 26.265625 48.484375 22.1875 42.84375 \r\nQ 18.109375 37.203125 18.109375 27.296875 \r\nQ 18.109375 17.390625 22.1875 11.75 \r\nQ 26.265625 6.109375 33.40625 6.109375 \r\nQ 40.53125 6.109375 44.609375 11.75 \r\nQ 48.6875 17.390625 48.6875 27.296875 \r\nz\r\nM 18.109375 46.390625 \r\nQ 20.953125 51.265625 25.265625 53.625 \r\nQ 29.59375 56 35.59375 56 \r\nQ 45.5625 56 51.78125 48.09375 \r\nQ 58.015625 40.1875 58.015625 27.296875 \r\nQ 58.015625 14.40625 51.78125 6.484375 \r\nQ 45.5625 -1.421875 35.59375 -1.421875 \r\nQ 29.59375 -1.421875 25.265625 0.953125 \r\nQ 20.953125 3.328125 18.109375 8.203125 \r\nL 18.109375 0 \r\nL 9.078125 0 \r\nL 9.078125 75.984375 \r\nL 18.109375 75.984375 \r\nz\r\n\" id=\"DejaVuSans-98\"/>\r\n       <path d=\"M 30.609375 48.390625 \r\nQ 23.390625 48.390625 19.1875 42.75 \r\nQ 14.984375 37.109375 14.984375 27.296875 \r\nQ 14.984375 17.484375 19.15625 11.84375 \r\nQ 23.34375 6.203125 30.609375 6.203125 \r\nQ 37.796875 6.203125 41.984375 11.859375 \r\nQ 46.1875 17.53125 46.1875 27.296875 \r\nQ 46.1875 37.015625 41.984375 42.703125 \r\nQ 37.796875 48.390625 30.609375 48.390625 \r\nz\r\nM 30.609375 56 \r\nQ 42.328125 56 49.015625 48.375 \r\nQ 55.71875 40.765625 55.71875 27.296875 \r\nQ 55.71875 13.875 49.015625 6.21875 \r\nQ 42.328125 -1.421875 30.609375 -1.421875 \r\nQ 18.84375 -1.421875 12.171875 6.21875 \r\nQ 5.515625 13.875 5.515625 27.296875 \r\nQ 5.515625 40.765625 12.171875 48.375 \r\nQ 18.84375 56 30.609375 56 \r\nz\r\n\" id=\"DejaVuSans-111\"/>\r\n       <path d=\"M 9.421875 75.984375 \r\nL 18.40625 75.984375 \r\nL 18.40625 0 \r\nL 9.421875 0 \r\nz\r\n\" id=\"DejaVuSans-108\"/>\r\n       <path d=\"M 9.421875 54.6875 \r\nL 18.40625 54.6875 \r\nL 18.40625 0 \r\nL 9.421875 0 \r\nz\r\nM 9.421875 75.984375 \r\nL 18.40625 75.984375 \r\nL 18.40625 64.59375 \r\nL 9.421875 64.59375 \r\nz\r\n\" id=\"DejaVuSans-105\"/>\r\n       <path d=\"M 54.890625 33.015625 \r\nL 54.890625 0 \r\nL 45.90625 0 \r\nL 45.90625 32.71875 \r\nQ 45.90625 40.484375 42.875 44.328125 \r\nQ 39.84375 48.1875 33.796875 48.1875 \r\nQ 26.515625 48.1875 22.3125 43.546875 \r\nQ 18.109375 38.921875 18.109375 30.90625 \r\nL 18.109375 0 \r\nL 9.078125 0 \r\nL 9.078125 54.6875 \r\nL 18.109375 54.6875 \r\nL 18.109375 46.1875 \r\nQ 21.34375 51.125 25.703125 53.5625 \r\nQ 30.078125 56 35.796875 56 \r\nQ 45.21875 56 50.046875 50.171875 \r\nQ 54.890625 44.34375 54.890625 33.015625 \r\nz\r\n\" id=\"DejaVuSans-110\"/>\r\n       <path d=\"M 45.40625 27.984375 \r\nQ 45.40625 37.75 41.375 43.109375 \r\nQ 37.359375 48.484375 30.078125 48.484375 \r\nQ 22.859375 48.484375 18.828125 43.109375 \r\nQ 14.796875 37.75 14.796875 27.984375 \r\nQ 14.796875 18.265625 18.828125 12.890625 \r\nQ 22.859375 7.515625 30.078125 7.515625 \r\nQ 37.359375 7.515625 41.375 12.890625 \r\nQ 45.40625 18.265625 45.40625 27.984375 \r\nz\r\nM 54.390625 6.78125 \r\nQ 54.390625 -7.171875 48.1875 -13.984375 \r\nQ 42 -20.796875 29.203125 -20.796875 \r\nQ 24.46875 -20.796875 20.265625 -20.09375 \r\nQ 16.0625 -19.390625 12.109375 -17.921875 \r\nL 12.109375 -9.1875 \r\nQ 16.0625 -11.328125 19.921875 -12.34375 \r\nQ 23.78125 -13.375 27.78125 -13.375 \r\nQ 36.625 -13.375 41.015625 -8.765625 \r\nQ 45.40625 -4.15625 45.40625 5.171875 \r\nL 45.40625 9.625 \r\nQ 42.625 4.78125 38.28125 2.390625 \r\nQ 33.9375 0 27.875 0 \r\nQ 17.828125 0 11.671875 7.65625 \r\nQ 5.515625 15.328125 5.515625 27.984375 \r\nQ 5.515625 40.671875 11.671875 48.328125 \r\nQ 17.828125 56 27.875 56 \r\nQ 33.9375 56 38.28125 53.609375 \r\nQ 42.625 51.21875 45.40625 46.390625 \r\nL 45.40625 54.6875 \r\nL 54.390625 54.6875 \r\nz\r\n\" id=\"DejaVuSans-103\"/>\r\n      </defs>\r\n      <g transform=\"translate(58.067188 283.218125)rotate(-90)scale(0.1 -0.1)\">\r\n       <use xlink:href=\"#DejaVuSans-115\"/>\r\n       <use x=\"52.099609\" xlink:href=\"#DejaVuSans-121\"/>\r\n       <use x=\"111.279297\" xlink:href=\"#DejaVuSans-109\"/>\r\n       <use x=\"208.691406\" xlink:href=\"#DejaVuSans-98\"/>\r\n       <use x=\"272.167969\" xlink:href=\"#DejaVuSans-111\"/>\r\n       <use x=\"333.349609\" xlink:href=\"#DejaVuSans-108\"/>\r\n       <use x=\"361.132812\" xlink:href=\"#DejaVuSans-105\"/>\r\n       <use x=\"388.916016\" xlink:href=\"#DejaVuSans-110\"/>\r\n       <use x=\"452.294922\" xlink:href=\"#DejaVuSans-103\"/>\r\n      </g>\r\n     </g>\r\n    </g>\r\n    <g id=\"xtick_2\">\r\n     <g id=\"line2d_2\">\r\n      <g>\r\n       <use style=\"stroke:#000000;stroke-width:0.8;\" x=\"76.232813\" xlink:href=\"#m132024e798\" y=\"224.64\"/>\r\n      </g>\r\n     </g>\r\n     <g id=\"text_2\">\r\n      <!-- normalized-losses -->\r\n      <defs>\r\n       <path d=\"M 41.109375 46.296875 \r\nQ 39.59375 47.171875 37.8125 47.578125 \r\nQ 36.03125 48 33.890625 48 \r\nQ 26.265625 48 22.1875 43.046875 \r\nQ 18.109375 38.09375 18.109375 28.8125 \r\nL 18.109375 0 \r\nL 9.078125 0 \r\nL 9.078125 54.6875 \r\nL 18.109375 54.6875 \r\nL 18.109375 46.1875 \r\nQ 20.953125 51.171875 25.484375 53.578125 \r\nQ 30.03125 56 36.53125 56 \r\nQ 37.453125 56 38.578125 55.875 \r\nQ 39.703125 55.765625 41.0625 55.515625 \r\nz\r\n\" id=\"DejaVuSans-114\"/>\r\n       <path d=\"M 34.28125 27.484375 \r\nQ 23.390625 27.484375 19.1875 25 \r\nQ 14.984375 22.515625 14.984375 16.5 \r\nQ 14.984375 11.71875 18.140625 8.90625 \r\nQ 21.296875 6.109375 26.703125 6.109375 \r\nQ 34.1875 6.109375 38.703125 11.40625 \r\nQ 43.21875 16.703125 43.21875 25.484375 \r\nL 43.21875 27.484375 \r\nz\r\nM 52.203125 31.203125 \r\nL 52.203125 0 \r\nL 43.21875 0 \r\nL 43.21875 8.296875 \r\nQ 40.140625 3.328125 35.546875 0.953125 \r\nQ 30.953125 -1.421875 24.3125 -1.421875 \r\nQ 15.921875 -1.421875 10.953125 3.296875 \r\nQ 6 8.015625 6 15.921875 \r\nQ 6 25.140625 12.171875 29.828125 \r\nQ 18.359375 34.515625 30.609375 34.515625 \r\nL 43.21875 34.515625 \r\nL 43.21875 35.40625 \r\nQ 43.21875 41.609375 39.140625 45 \r\nQ 35.0625 48.390625 27.6875 48.390625 \r\nQ 23 48.390625 18.546875 47.265625 \r\nQ 14.109375 46.140625 10.015625 43.890625 \r\nL 10.015625 52.203125 \r\nQ 14.9375 54.109375 19.578125 55.046875 \r\nQ 24.21875 56 28.609375 56 \r\nQ 40.484375 56 46.34375 49.84375 \r\nQ 52.203125 43.703125 52.203125 31.203125 \r\nz\r\n\" id=\"DejaVuSans-97\"/>\r\n       <path d=\"M 5.515625 54.6875 \r\nL 48.1875 54.6875 \r\nL 48.1875 46.484375 \r\nL 14.40625 7.171875 \r\nL 48.1875 7.171875 \r\nL 48.1875 0 \r\nL 4.296875 0 \r\nL 4.296875 8.203125 \r\nL 38.09375 47.515625 \r\nL 5.515625 47.515625 \r\nz\r\n\" id=\"DejaVuSans-122\"/>\r\n       <path d=\"M 56.203125 29.59375 \r\nL 56.203125 25.203125 \r\nL 14.890625 25.203125 \r\nQ 15.484375 15.921875 20.484375 11.0625 \r\nQ 25.484375 6.203125 34.421875 6.203125 \r\nQ 39.59375 6.203125 44.453125 7.46875 \r\nQ 49.3125 8.734375 54.109375 11.28125 \r\nL 54.109375 2.78125 \r\nQ 49.265625 0.734375 44.1875 -0.34375 \r\nQ 39.109375 -1.421875 33.890625 -1.421875 \r\nQ 20.796875 -1.421875 13.15625 6.1875 \r\nQ 5.515625 13.8125 5.515625 26.8125 \r\nQ 5.515625 40.234375 12.765625 48.109375 \r\nQ 20.015625 56 32.328125 56 \r\nQ 43.359375 56 49.78125 48.890625 \r\nQ 56.203125 41.796875 56.203125 29.59375 \r\nz\r\nM 47.21875 32.234375 \r\nQ 47.125 39.59375 43.09375 43.984375 \r\nQ 39.0625 48.390625 32.421875 48.390625 \r\nQ 24.90625 48.390625 20.390625 44.140625 \r\nQ 15.875 39.890625 15.1875 32.171875 \r\nz\r\n\" id=\"DejaVuSans-101\"/>\r\n       <path d=\"M 45.40625 46.390625 \r\nL 45.40625 75.984375 \r\nL 54.390625 75.984375 \r\nL 54.390625 0 \r\nL 45.40625 0 \r\nL 45.40625 8.203125 \r\nQ 42.578125 3.328125 38.25 0.953125 \r\nQ 33.9375 -1.421875 27.875 -1.421875 \r\nQ 17.96875 -1.421875 11.734375 6.484375 \r\nQ 5.515625 14.40625 5.515625 27.296875 \r\nQ 5.515625 40.1875 11.734375 48.09375 \r\nQ 17.96875 56 27.875 56 \r\nQ 33.9375 56 38.25 53.625 \r\nQ 42.578125 51.265625 45.40625 46.390625 \r\nz\r\nM 14.796875 27.296875 \r\nQ 14.796875 17.390625 18.875 11.75 \r\nQ 22.953125 6.109375 30.078125 6.109375 \r\nQ 37.203125 6.109375 41.296875 11.75 \r\nQ 45.40625 17.390625 45.40625 27.296875 \r\nQ 45.40625 37.203125 41.296875 42.84375 \r\nQ 37.203125 48.484375 30.078125 48.484375 \r\nQ 22.953125 48.484375 18.875 42.84375 \r\nQ 14.796875 37.203125 14.796875 27.296875 \r\nz\r\n\" id=\"DejaVuSans-100\"/>\r\n       <path d=\"M 4.890625 31.390625 \r\nL 31.203125 31.390625 \r\nL 31.203125 23.390625 \r\nL 4.890625 23.390625 \r\nz\r\n\" id=\"DejaVuSans-45\"/>\r\n      </defs>\r\n      <g transform=\"translate(78.992188 321.666562)rotate(-90)scale(0.1 -0.1)\">\r\n       <use xlink:href=\"#DejaVuSans-110\"/>\r\n       <use x=\"63.378906\" xlink:href=\"#DejaVuSans-111\"/>\r\n       <use x=\"124.560547\" xlink:href=\"#DejaVuSans-114\"/>\r\n       <use x=\"165.658203\" xlink:href=\"#DejaVuSans-109\"/>\r\n       <use x=\"263.070312\" xlink:href=\"#DejaVuSans-97\"/>\r\n       <use x=\"324.349609\" xlink:href=\"#DejaVuSans-108\"/>\r\n       <use x=\"352.132812\" xlink:href=\"#DejaVuSans-105\"/>\r\n       <use x=\"379.916016\" xlink:href=\"#DejaVuSans-122\"/>\r\n       <use x=\"432.40625\" xlink:href=\"#DejaVuSans-101\"/>\r\n       <use x=\"493.929688\" xlink:href=\"#DejaVuSans-100\"/>\r\n       <use x=\"557.40625\" xlink:href=\"#DejaVuSans-45\"/>\r\n       <use x=\"593.490234\" xlink:href=\"#DejaVuSans-108\"/>\r\n       <use x=\"621.273438\" xlink:href=\"#DejaVuSans-111\"/>\r\n       <use x=\"682.455078\" xlink:href=\"#DejaVuSans-115\"/>\r\n       <use x=\"734.554688\" xlink:href=\"#DejaVuSans-115\"/>\r\n       <use x=\"786.654297\" xlink:href=\"#DejaVuSans-101\"/>\r\n       <use x=\"848.177734\" xlink:href=\"#DejaVuSans-115\"/>\r\n      </g>\r\n     </g>\r\n    </g>\r\n    <g id=\"xtick_3\">\r\n     <g id=\"line2d_3\">\r\n      <g>\r\n       <use style=\"stroke:#000000;stroke-width:0.8;\" x=\"97.157813\" xlink:href=\"#m132024e798\" y=\"224.64\"/>\r\n      </g>\r\n     </g>\r\n     <g id=\"text_3\">\r\n      <!-- wheel-base -->\r\n      <defs>\r\n       <path d=\"M 4.203125 54.6875 \r\nL 13.1875 54.6875 \r\nL 24.421875 12.015625 \r\nL 35.59375 54.6875 \r\nL 46.1875 54.6875 \r\nL 57.421875 12.015625 \r\nL 68.609375 54.6875 \r\nL 77.59375 54.6875 \r\nL 63.28125 0 \r\nL 52.6875 0 \r\nL 40.921875 44.828125 \r\nL 29.109375 0 \r\nL 18.5 0 \r\nz\r\n\" id=\"DejaVuSans-119\"/>\r\n       <path d=\"M 54.890625 33.015625 \r\nL 54.890625 0 \r\nL 45.90625 0 \r\nL 45.90625 32.71875 \r\nQ 45.90625 40.484375 42.875 44.328125 \r\nQ 39.84375 48.1875 33.796875 48.1875 \r\nQ 26.515625 48.1875 22.3125 43.546875 \r\nQ 18.109375 38.921875 18.109375 30.90625 \r\nL 18.109375 0 \r\nL 9.078125 0 \r\nL 9.078125 75.984375 \r\nL 18.109375 75.984375 \r\nL 18.109375 46.1875 \r\nQ 21.34375 51.125 25.703125 53.5625 \r\nQ 30.078125 56 35.796875 56 \r\nQ 45.21875 56 50.046875 50.171875 \r\nQ 54.890625 44.34375 54.890625 33.015625 \r\nz\r\n\" id=\"DejaVuSans-104\"/>\r\n      </defs>\r\n      <g transform=\"translate(99.917188 288.686875)rotate(-90)scale(0.1 -0.1)\">\r\n       <use xlink:href=\"#DejaVuSans-119\"/>\r\n       <use x=\"81.787109\" xlink:href=\"#DejaVuSans-104\"/>\r\n       <use x=\"145.166016\" xlink:href=\"#DejaVuSans-101\"/>\r\n       <use x=\"206.689453\" xlink:href=\"#DejaVuSans-101\"/>\r\n       <use x=\"268.212891\" xlink:href=\"#DejaVuSans-108\"/>\r\n       <use x=\"295.996094\" xlink:href=\"#DejaVuSans-45\"/>\r\n       <use x=\"332.080078\" xlink:href=\"#DejaVuSans-98\"/>\r\n       <use x=\"395.556641\" xlink:href=\"#DejaVuSans-97\"/>\r\n       <use x=\"456.835938\" xlink:href=\"#DejaVuSans-115\"/>\r\n       <use x=\"508.935547\" xlink:href=\"#DejaVuSans-101\"/>\r\n      </g>\r\n     </g>\r\n    </g>\r\n    <g id=\"xtick_4\">\r\n     <g id=\"line2d_4\">\r\n      <g>\r\n       <use style=\"stroke:#000000;stroke-width:0.8;\" x=\"118.082813\" xlink:href=\"#m132024e798\" y=\"224.64\"/>\r\n      </g>\r\n     </g>\r\n     <g id=\"text_4\">\r\n      <!-- length -->\r\n      <defs>\r\n       <path d=\"M 18.3125 70.21875 \r\nL 18.3125 54.6875 \r\nL 36.8125 54.6875 \r\nL 36.8125 47.703125 \r\nL 18.3125 47.703125 \r\nL 18.3125 18.015625 \r\nQ 18.3125 11.328125 20.140625 9.421875 \r\nQ 21.96875 7.515625 27.59375 7.515625 \r\nL 36.8125 7.515625 \r\nL 36.8125 0 \r\nL 27.59375 0 \r\nQ 17.1875 0 13.234375 3.875 \r\nQ 9.28125 7.765625 9.28125 18.015625 \r\nL 9.28125 47.703125 \r\nL 2.6875 47.703125 \r\nL 2.6875 54.6875 \r\nL 9.28125 54.6875 \r\nL 9.28125 70.21875 \r\nz\r\n\" id=\"DejaVuSans-116\"/>\r\n      </defs>\r\n      <g transform=\"translate(120.842188 263.515)rotate(-90)scale(0.1 -0.1)\">\r\n       <use xlink:href=\"#DejaVuSans-108\"/>\r\n       <use x=\"27.783203\" xlink:href=\"#DejaVuSans-101\"/>\r\n       <use x=\"89.306641\" xlink:href=\"#DejaVuSans-110\"/>\r\n       <use x=\"152.685547\" xlink:href=\"#DejaVuSans-103\"/>\r\n       <use x=\"216.162109\" xlink:href=\"#DejaVuSans-116\"/>\r\n       <use x=\"255.371094\" xlink:href=\"#DejaVuSans-104\"/>\r\n      </g>\r\n     </g>\r\n    </g>\r\n    <g id=\"xtick_5\">\r\n     <g id=\"line2d_5\">\r\n      <g>\r\n       <use style=\"stroke:#000000;stroke-width:0.8;\" x=\"139.007813\" xlink:href=\"#m132024e798\" y=\"224.64\"/>\r\n      </g>\r\n     </g>\r\n     <g id=\"text_5\">\r\n      <!-- width -->\r\n      <g transform=\"translate(141.767188 259.2025)rotate(-90)scale(0.1 -0.1)\">\r\n       <use xlink:href=\"#DejaVuSans-119\"/>\r\n       <use x=\"81.787109\" xlink:href=\"#DejaVuSans-105\"/>\r\n       <use x=\"109.570312\" xlink:href=\"#DejaVuSans-100\"/>\r\n       <use x=\"173.046875\" xlink:href=\"#DejaVuSans-116\"/>\r\n       <use x=\"212.255859\" xlink:href=\"#DejaVuSans-104\"/>\r\n      </g>\r\n     </g>\r\n    </g>\r\n    <g id=\"xtick_6\">\r\n     <g id=\"line2d_6\">\r\n      <g>\r\n       <use style=\"stroke:#000000;stroke-width:0.8;\" x=\"159.932813\" xlink:href=\"#m132024e798\" y=\"224.64\"/>\r\n      </g>\r\n     </g>\r\n     <g id=\"text_6\">\r\n      <!-- height -->\r\n      <g transform=\"translate(162.692188 263.515)rotate(-90)scale(0.1 -0.1)\">\r\n       <use xlink:href=\"#DejaVuSans-104\"/>\r\n       <use x=\"63.378906\" xlink:href=\"#DejaVuSans-101\"/>\r\n       <use x=\"124.902344\" xlink:href=\"#DejaVuSans-105\"/>\r\n       <use x=\"152.685547\" xlink:href=\"#DejaVuSans-103\"/>\r\n       <use x=\"216.162109\" xlink:href=\"#DejaVuSans-104\"/>\r\n       <use x=\"279.541016\" xlink:href=\"#DejaVuSans-116\"/>\r\n      </g>\r\n     </g>\r\n    </g>\r\n    <g id=\"xtick_7\">\r\n     <g id=\"line2d_7\">\r\n      <g>\r\n       <use style=\"stroke:#000000;stroke-width:0.8;\" x=\"180.857813\" xlink:href=\"#m132024e798\" y=\"224.64\"/>\r\n      </g>\r\n     </g>\r\n     <g id=\"text_7\">\r\n      <!-- curb-weight -->\r\n      <defs>\r\n       <path d=\"M 48.78125 52.59375 \r\nL 48.78125 44.1875 \r\nQ 44.96875 46.296875 41.140625 47.34375 \r\nQ 37.3125 48.390625 33.40625 48.390625 \r\nQ 24.65625 48.390625 19.8125 42.84375 \r\nQ 14.984375 37.3125 14.984375 27.296875 \r\nQ 14.984375 17.28125 19.8125 11.734375 \r\nQ 24.65625 6.203125 33.40625 6.203125 \r\nQ 37.3125 6.203125 41.140625 7.25 \r\nQ 44.96875 8.296875 48.78125 10.40625 \r\nL 48.78125 2.09375 \r\nQ 45.015625 0.34375 40.984375 -0.53125 \r\nQ 36.96875 -1.421875 32.421875 -1.421875 \r\nQ 20.0625 -1.421875 12.78125 6.34375 \r\nQ 5.515625 14.109375 5.515625 27.296875 \r\nQ 5.515625 40.671875 12.859375 48.328125 \r\nQ 20.21875 56 33.015625 56 \r\nQ 37.15625 56 41.109375 55.140625 \r\nQ 45.0625 54.296875 48.78125 52.59375 \r\nz\r\n\" id=\"DejaVuSans-99\"/>\r\n       <path d=\"M 8.5 21.578125 \r\nL 8.5 54.6875 \r\nL 17.484375 54.6875 \r\nL 17.484375 21.921875 \r\nQ 17.484375 14.15625 20.5 10.265625 \r\nQ 23.53125 6.390625 29.59375 6.390625 \r\nQ 36.859375 6.390625 41.078125 11.03125 \r\nQ 45.3125 15.671875 45.3125 23.6875 \r\nL 45.3125 54.6875 \r\nL 54.296875 54.6875 \r\nL 54.296875 0 \r\nL 45.3125 0 \r\nL 45.3125 8.40625 \r\nQ 42.046875 3.421875 37.71875 1 \r\nQ 33.40625 -1.421875 27.6875 -1.421875 \r\nQ 18.265625 -1.421875 13.375 4.4375 \r\nQ 8.5 10.296875 8.5 21.578125 \r\nz\r\nM 31.109375 56 \r\nz\r\n\" id=\"DejaVuSans-117\"/>\r\n      </defs>\r\n      <g transform=\"translate(183.617188 291.25875)rotate(-90)scale(0.1 -0.1)\">\r\n       <use xlink:href=\"#DejaVuSans-99\"/>\r\n       <use x=\"54.980469\" xlink:href=\"#DejaVuSans-117\"/>\r\n       <use x=\"118.359375\" xlink:href=\"#DejaVuSans-114\"/>\r\n       <use x=\"159.472656\" xlink:href=\"#DejaVuSans-98\"/>\r\n       <use x=\"222.949219\" xlink:href=\"#DejaVuSans-45\"/>\r\n       <use x=\"259.033203\" xlink:href=\"#DejaVuSans-119\"/>\r\n       <use x=\"340.820312\" xlink:href=\"#DejaVuSans-101\"/>\r\n       <use x=\"402.34375\" xlink:href=\"#DejaVuSans-105\"/>\r\n       <use x=\"430.126953\" xlink:href=\"#DejaVuSans-103\"/>\r\n       <use x=\"493.603516\" xlink:href=\"#DejaVuSans-104\"/>\r\n       <use x=\"556.982422\" xlink:href=\"#DejaVuSans-116\"/>\r\n      </g>\r\n     </g>\r\n    </g>\r\n    <g id=\"xtick_8\">\r\n     <g id=\"line2d_8\">\r\n      <g>\r\n       <use style=\"stroke:#000000;stroke-width:0.8;\" x=\"201.782813\" xlink:href=\"#m132024e798\" y=\"224.64\"/>\r\n      </g>\r\n     </g>\r\n     <g id=\"text_8\">\r\n      <!-- engine-size -->\r\n      <g transform=\"translate(204.542188 288.744687)rotate(-90)scale(0.1 -0.1)\">\r\n       <use xlink:href=\"#DejaVuSans-101\"/>\r\n       <use x=\"61.523438\" xlink:href=\"#DejaVuSans-110\"/>\r\n       <use x=\"124.902344\" xlink:href=\"#DejaVuSans-103\"/>\r\n       <use x=\"188.378906\" xlink:href=\"#DejaVuSans-105\"/>\r\n       <use x=\"216.162109\" xlink:href=\"#DejaVuSans-110\"/>\r\n       <use x=\"279.541016\" xlink:href=\"#DejaVuSans-101\"/>\r\n       <use x=\"341.064453\" xlink:href=\"#DejaVuSans-45\"/>\r\n       <use x=\"377.148438\" xlink:href=\"#DejaVuSans-115\"/>\r\n       <use x=\"429.248047\" xlink:href=\"#DejaVuSans-105\"/>\r\n       <use x=\"457.03125\" xlink:href=\"#DejaVuSans-122\"/>\r\n       <use x=\"509.521484\" xlink:href=\"#DejaVuSans-101\"/>\r\n      </g>\r\n     </g>\r\n    </g>\r\n    <g id=\"xtick_9\">\r\n     <g id=\"line2d_9\">\r\n      <g>\r\n       <use style=\"stroke:#000000;stroke-width:0.8;\" x=\"222.707813\" xlink:href=\"#m132024e798\" y=\"224.64\"/>\r\n      </g>\r\n     </g>\r\n     <g id=\"text_9\">\r\n      <!-- bore -->\r\n      <g transform=\"translate(225.467188 254.368125)rotate(-90)scale(0.1 -0.1)\">\r\n       <use xlink:href=\"#DejaVuSans-98\"/>\r\n       <use x=\"63.476562\" xlink:href=\"#DejaVuSans-111\"/>\r\n       <use x=\"124.658203\" xlink:href=\"#DejaVuSans-114\"/>\r\n       <use x=\"165.740234\" xlink:href=\"#DejaVuSans-101\"/>\r\n      </g>\r\n     </g>\r\n    </g>\r\n    <g id=\"xtick_10\">\r\n     <g id=\"line2d_10\">\r\n      <g>\r\n       <use style=\"stroke:#000000;stroke-width:0.8;\" x=\"243.632813\" xlink:href=\"#m132024e798\" y=\"224.64\"/>\r\n      </g>\r\n     </g>\r\n     <g id=\"text_10\">\r\n      <!-- stroke -->\r\n      <defs>\r\n       <path d=\"M 9.078125 75.984375 \r\nL 18.109375 75.984375 \r\nL 18.109375 31.109375 \r\nL 44.921875 54.6875 \r\nL 56.390625 54.6875 \r\nL 27.390625 29.109375 \r\nL 57.625 0 \r\nL 45.90625 0 \r\nL 18.109375 26.703125 \r\nL 18.109375 0 \r\nL 9.078125 0 \r\nz\r\n\" id=\"DejaVuSans-107\"/>\r\n      </defs>\r\n      <g transform=\"translate(246.392188 262.935313)rotate(-90)scale(0.1 -0.1)\">\r\n       <use xlink:href=\"#DejaVuSans-115\"/>\r\n       <use x=\"52.099609\" xlink:href=\"#DejaVuSans-116\"/>\r\n       <use x=\"91.308594\" xlink:href=\"#DejaVuSans-114\"/>\r\n       <use x=\"132.390625\" xlink:href=\"#DejaVuSans-111\"/>\r\n       <use x=\"193.572266\" xlink:href=\"#DejaVuSans-107\"/>\r\n       <use x=\"251.435547\" xlink:href=\"#DejaVuSans-101\"/>\r\n      </g>\r\n     </g>\r\n    </g>\r\n    <g id=\"xtick_11\">\r\n     <g id=\"line2d_11\">\r\n      <g>\r\n       <use style=\"stroke:#000000;stroke-width:0.8;\" x=\"264.557813\" xlink:href=\"#m132024e798\" y=\"224.64\"/>\r\n      </g>\r\n     </g>\r\n     <g id=\"text_11\">\r\n      <!-- compression-ratio -->\r\n      <defs>\r\n       <path d=\"M 18.109375 8.203125 \r\nL 18.109375 -20.796875 \r\nL 9.078125 -20.796875 \r\nL 9.078125 54.6875 \r\nL 18.109375 54.6875 \r\nL 18.109375 46.390625 \r\nQ 20.953125 51.265625 25.265625 53.625 \r\nQ 29.59375 56 35.59375 56 \r\nQ 45.5625 56 51.78125 48.09375 \r\nQ 58.015625 40.1875 58.015625 27.296875 \r\nQ 58.015625 14.40625 51.78125 6.484375 \r\nQ 45.5625 -1.421875 35.59375 -1.421875 \r\nQ 29.59375 -1.421875 25.265625 0.953125 \r\nQ 20.953125 3.328125 18.109375 8.203125 \r\nz\r\nM 48.6875 27.296875 \r\nQ 48.6875 37.203125 44.609375 42.84375 \r\nQ 40.53125 48.484375 33.40625 48.484375 \r\nQ 26.265625 48.484375 22.1875 42.84375 \r\nQ 18.109375 37.203125 18.109375 27.296875 \r\nQ 18.109375 17.390625 22.1875 11.75 \r\nQ 26.265625 6.109375 33.40625 6.109375 \r\nQ 40.53125 6.109375 44.609375 11.75 \r\nQ 48.6875 17.390625 48.6875 27.296875 \r\nz\r\n\" id=\"DejaVuSans-112\"/>\r\n      </defs>\r\n      <g transform=\"translate(267.317188 321.924375)rotate(-90)scale(0.1 -0.1)\">\r\n       <use xlink:href=\"#DejaVuSans-99\"/>\r\n       <use x=\"54.980469\" xlink:href=\"#DejaVuSans-111\"/>\r\n       <use x=\"116.162109\" xlink:href=\"#DejaVuSans-109\"/>\r\n       <use x=\"213.574219\" xlink:href=\"#DejaVuSans-112\"/>\r\n       <use x=\"277.050781\" xlink:href=\"#DejaVuSans-114\"/>\r\n       <use x=\"318.132812\" xlink:href=\"#DejaVuSans-101\"/>\r\n       <use x=\"379.65625\" xlink:href=\"#DejaVuSans-115\"/>\r\n       <use x=\"431.755859\" xlink:href=\"#DejaVuSans-115\"/>\r\n       <use x=\"483.855469\" xlink:href=\"#DejaVuSans-105\"/>\r\n       <use x=\"511.638672\" xlink:href=\"#DejaVuSans-111\"/>\r\n       <use x=\"572.820312\" xlink:href=\"#DejaVuSans-110\"/>\r\n       <use x=\"636.199219\" xlink:href=\"#DejaVuSans-45\"/>\r\n       <use x=\"672.283203\" xlink:href=\"#DejaVuSans-114\"/>\r\n       <use x=\"713.396484\" xlink:href=\"#DejaVuSans-97\"/>\r\n       <use x=\"774.675781\" xlink:href=\"#DejaVuSans-116\"/>\r\n       <use x=\"813.884766\" xlink:href=\"#DejaVuSans-105\"/>\r\n       <use x=\"841.667969\" xlink:href=\"#DejaVuSans-111\"/>\r\n      </g>\r\n     </g>\r\n    </g>\r\n    <g id=\"xtick_12\">\r\n     <g id=\"line2d_12\">\r\n      <g>\r\n       <use style=\"stroke:#000000;stroke-width:0.8;\" x=\"285.482813\" xlink:href=\"#m132024e798\" y=\"224.64\"/>\r\n      </g>\r\n     </g>\r\n     <g id=\"text_12\">\r\n      <!-- horsepower -->\r\n      <g transform=\"translate(288.242188 290.479062)rotate(-90)scale(0.1 -0.1)\">\r\n       <use xlink:href=\"#DejaVuSans-104\"/>\r\n       <use x=\"63.378906\" xlink:href=\"#DejaVuSans-111\"/>\r\n       <use x=\"124.560547\" xlink:href=\"#DejaVuSans-114\"/>\r\n       <use x=\"165.673828\" xlink:href=\"#DejaVuSans-115\"/>\r\n       <use x=\"217.773438\" xlink:href=\"#DejaVuSans-101\"/>\r\n       <use x=\"279.296875\" xlink:href=\"#DejaVuSans-112\"/>\r\n       <use x=\"342.773438\" xlink:href=\"#DejaVuSans-111\"/>\r\n       <use x=\"403.955078\" xlink:href=\"#DejaVuSans-119\"/>\r\n       <use x=\"485.742188\" xlink:href=\"#DejaVuSans-101\"/>\r\n       <use x=\"547.265625\" xlink:href=\"#DejaVuSans-114\"/>\r\n      </g>\r\n     </g>\r\n    </g>\r\n    <g id=\"xtick_13\">\r\n     <g id=\"line2d_13\">\r\n      <g>\r\n       <use style=\"stroke:#000000;stroke-width:0.8;\" x=\"306.407813\" xlink:href=\"#m132024e798\" y=\"224.64\"/>\r\n      </g>\r\n     </g>\r\n     <g id=\"text_13\">\r\n      <!-- peak-rpm -->\r\n      <g transform=\"translate(309.167188 279.868125)rotate(-90)scale(0.1 -0.1)\">\r\n       <use xlink:href=\"#DejaVuSans-112\"/>\r\n       <use x=\"63.476562\" xlink:href=\"#DejaVuSans-101\"/>\r\n       <use x=\"125\" xlink:href=\"#DejaVuSans-97\"/>\r\n       <use x=\"186.279297\" xlink:href=\"#DejaVuSans-107\"/>\r\n       <use x=\"244.189453\" xlink:href=\"#DejaVuSans-45\"/>\r\n       <use x=\"280.273438\" xlink:href=\"#DejaVuSans-114\"/>\r\n       <use x=\"321.386719\" xlink:href=\"#DejaVuSans-112\"/>\r\n       <use x=\"384.863281\" xlink:href=\"#DejaVuSans-109\"/>\r\n      </g>\r\n     </g>\r\n    </g>\r\n    <g id=\"xtick_14\">\r\n     <g id=\"line2d_14\">\r\n      <g>\r\n       <use style=\"stroke:#000000;stroke-width:0.8;\" x=\"327.332813\" xlink:href=\"#m132024e798\" y=\"224.64\"/>\r\n      </g>\r\n     </g>\r\n     <g id=\"text_14\">\r\n      <!-- city-mpg -->\r\n      <g transform=\"translate(330.092188 275.799375)rotate(-90)scale(0.1 -0.1)\">\r\n       <use xlink:href=\"#DejaVuSans-99\"/>\r\n       <use x=\"54.980469\" xlink:href=\"#DejaVuSans-105\"/>\r\n       <use x=\"82.763672\" xlink:href=\"#DejaVuSans-116\"/>\r\n       <use x=\"121.972656\" xlink:href=\"#DejaVuSans-121\"/>\r\n       <use x=\"181.136719\" xlink:href=\"#DejaVuSans-45\"/>\r\n       <use x=\"217.220703\" xlink:href=\"#DejaVuSans-109\"/>\r\n       <use x=\"314.632812\" xlink:href=\"#DejaVuSans-112\"/>\r\n       <use x=\"378.109375\" xlink:href=\"#DejaVuSans-103\"/>\r\n      </g>\r\n     </g>\r\n    </g>\r\n    <g id=\"xtick_15\">\r\n     <g id=\"line2d_15\">\r\n      <g>\r\n       <use style=\"stroke:#000000;stroke-width:0.8;\" x=\"348.257813\" xlink:href=\"#m132024e798\" y=\"224.64\"/>\r\n      </g>\r\n     </g>\r\n     <g id=\"text_15\">\r\n      <!-- highway-mpg -->\r\n      <g transform=\"translate(351.017188 299.710312)rotate(-90)scale(0.1 -0.1)\">\r\n       <use xlink:href=\"#DejaVuSans-104\"/>\r\n       <use x=\"63.378906\" xlink:href=\"#DejaVuSans-105\"/>\r\n       <use x=\"91.162109\" xlink:href=\"#DejaVuSans-103\"/>\r\n       <use x=\"154.638672\" xlink:href=\"#DejaVuSans-104\"/>\r\n       <use x=\"218.017578\" xlink:href=\"#DejaVuSans-119\"/>\r\n       <use x=\"299.804688\" xlink:href=\"#DejaVuSans-97\"/>\r\n       <use x=\"361.083984\" xlink:href=\"#DejaVuSans-121\"/>\r\n       <use x=\"420.248047\" xlink:href=\"#DejaVuSans-45\"/>\r\n       <use x=\"456.332031\" xlink:href=\"#DejaVuSans-109\"/>\r\n       <use x=\"553.744141\" xlink:href=\"#DejaVuSans-112\"/>\r\n       <use x=\"617.220703\" xlink:href=\"#DejaVuSans-103\"/>\r\n      </g>\r\n     </g>\r\n    </g>\r\n    <g id=\"xtick_16\">\r\n     <g id=\"line2d_16\">\r\n      <g>\r\n       <use style=\"stroke:#000000;stroke-width:0.8;\" x=\"369.182813\" xlink:href=\"#m132024e798\" y=\"224.64\"/>\r\n      </g>\r\n     </g>\r\n     <g id=\"text_16\">\r\n      <!-- price -->\r\n      <g transform=\"translate(371.942188 256.529063)rotate(-90)scale(0.1 -0.1)\">\r\n       <use xlink:href=\"#DejaVuSans-112\"/>\r\n       <use x=\"63.476562\" xlink:href=\"#DejaVuSans-114\"/>\r\n       <use x=\"104.589844\" xlink:href=\"#DejaVuSans-105\"/>\r\n       <use x=\"132.373047\" xlink:href=\"#DejaVuSans-99\"/>\r\n       <use x=\"187.353516\" xlink:href=\"#DejaVuSans-101\"/>\r\n      </g>\r\n     </g>\r\n    </g>\r\n   </g>\r\n   <g id=\"matplotlib.axis_2\">\r\n    <g id=\"ytick_1\">\r\n     <g id=\"line2d_17\">\r\n      <defs>\r\n       <path d=\"M 0 0 \r\nL -3.5 0 \r\n\" id=\"m3b246a3f1f\" style=\"stroke:#000000;stroke-width:0.8;\"/>\r\n      </defs>\r\n      <g>\r\n       <use style=\"stroke:#000000;stroke-width:0.8;\" x=\"44.845313\" xlink:href=\"#m3b246a3f1f\" y=\"206.924906\"/>\r\n      </g>\r\n     </g>\r\n     <g id=\"text_17\">\r\n      <!-- −0.75 -->\r\n      <defs>\r\n       <path d=\"M 10.59375 35.5 \r\nL 73.1875 35.5 \r\nL 73.1875 27.203125 \r\nL 10.59375 27.203125 \r\nz\r\n\" id=\"DejaVuSans-8722\"/>\r\n       <path d=\"M 31.78125 66.40625 \r\nQ 24.171875 66.40625 20.328125 58.90625 \r\nQ 16.5 51.421875 16.5 36.375 \r\nQ 16.5 21.390625 20.328125 13.890625 \r\nQ 24.171875 6.390625 31.78125 6.390625 \r\nQ 39.453125 6.390625 43.28125 13.890625 \r\nQ 47.125 21.390625 47.125 36.375 \r\nQ 47.125 51.421875 43.28125 58.90625 \r\nQ 39.453125 66.40625 31.78125 66.40625 \r\nz\r\nM 31.78125 74.21875 \r\nQ 44.046875 74.21875 50.515625 64.515625 \r\nQ 56.984375 54.828125 56.984375 36.375 \r\nQ 56.984375 17.96875 50.515625 8.265625 \r\nQ 44.046875 -1.421875 31.78125 -1.421875 \r\nQ 19.53125 -1.421875 13.0625 8.265625 \r\nQ 6.59375 17.96875 6.59375 36.375 \r\nQ 6.59375 54.828125 13.0625 64.515625 \r\nQ 19.53125 74.21875 31.78125 74.21875 \r\nz\r\n\" id=\"DejaVuSans-48\"/>\r\n       <path d=\"M 10.6875 12.40625 \r\nL 21 12.40625 \r\nL 21 0 \r\nL 10.6875 0 \r\nz\r\n\" id=\"DejaVuSans-46\"/>\r\n       <path d=\"M 8.203125 72.90625 \r\nL 55.078125 72.90625 \r\nL 55.078125 68.703125 \r\nL 28.609375 0 \r\nL 18.3125 0 \r\nL 43.21875 64.59375 \r\nL 8.203125 64.59375 \r\nz\r\n\" id=\"DejaVuSans-55\"/>\r\n       <path d=\"M 10.796875 72.90625 \r\nL 49.515625 72.90625 \r\nL 49.515625 64.59375 \r\nL 19.828125 64.59375 \r\nL 19.828125 46.734375 \r\nQ 21.96875 47.46875 24.109375 47.828125 \r\nQ 26.265625 48.1875 28.421875 48.1875 \r\nQ 40.625 48.1875 47.75 41.5 \r\nQ 54.890625 34.8125 54.890625 23.390625 \r\nQ 54.890625 11.625 47.5625 5.09375 \r\nQ 40.234375 -1.421875 26.90625 -1.421875 \r\nQ 22.3125 -1.421875 17.546875 -0.640625 \r\nQ 12.796875 0.140625 7.71875 1.703125 \r\nL 7.71875 11.625 \r\nQ 12.109375 9.234375 16.796875 8.0625 \r\nQ 21.484375 6.890625 26.703125 6.890625 \r\nQ 35.15625 6.890625 40.078125 11.328125 \r\nQ 45.015625 15.765625 45.015625 23.390625 \r\nQ 45.015625 31 40.078125 35.4375 \r\nQ 35.15625 39.890625 26.703125 39.890625 \r\nQ 22.75 39.890625 18.8125 39.015625 \r\nQ 14.890625 38.140625 10.796875 36.28125 \r\nz\r\n\" id=\"DejaVuSans-53\"/>\r\n      </defs>\r\n      <g transform=\"translate(7.2 210.724125)scale(0.1 -0.1)\">\r\n       <use xlink:href=\"#DejaVuSans-8722\"/>\r\n       <use x=\"83.789062\" xlink:href=\"#DejaVuSans-48\"/>\r\n       <use x=\"147.412109\" xlink:href=\"#DejaVuSans-46\"/>\r\n       <use x=\"179.199219\" xlink:href=\"#DejaVuSans-55\"/>\r\n       <use x=\"242.822266\" xlink:href=\"#DejaVuSans-53\"/>\r\n      </g>\r\n     </g>\r\n    </g>\r\n    <g id=\"ytick_2\">\r\n     <g id=\"line2d_18\">\r\n      <g>\r\n       <use style=\"stroke:#000000;stroke-width:0.8;\" x=\"44.845313\" xlink:href=\"#m3b246a3f1f\" y=\"179.804724\"/>\r\n      </g>\r\n     </g>\r\n     <g id=\"text_18\">\r\n      <!-- −0.50 -->\r\n      <g transform=\"translate(7.2 183.603943)scale(0.1 -0.1)\">\r\n       <use xlink:href=\"#DejaVuSans-8722\"/>\r\n       <use x=\"83.789062\" xlink:href=\"#DejaVuSans-48\"/>\r\n       <use x=\"147.412109\" xlink:href=\"#DejaVuSans-46\"/>\r\n       <use x=\"179.199219\" xlink:href=\"#DejaVuSans-53\"/>\r\n       <use x=\"242.822266\" xlink:href=\"#DejaVuSans-48\"/>\r\n      </g>\r\n     </g>\r\n    </g>\r\n    <g id=\"ytick_3\">\r\n     <g id=\"line2d_19\">\r\n      <g>\r\n       <use style=\"stroke:#000000;stroke-width:0.8;\" x=\"44.845313\" xlink:href=\"#m3b246a3f1f\" y=\"152.684543\"/>\r\n      </g>\r\n     </g>\r\n     <g id=\"text_19\">\r\n      <!-- −0.25 -->\r\n      <defs>\r\n       <path d=\"M 19.1875 8.296875 \r\nL 53.609375 8.296875 \r\nL 53.609375 0 \r\nL 7.328125 0 \r\nL 7.328125 8.296875 \r\nQ 12.9375 14.109375 22.625 23.890625 \r\nQ 32.328125 33.6875 34.8125 36.53125 \r\nQ 39.546875 41.84375 41.421875 45.53125 \r\nQ 43.3125 49.21875 43.3125 52.78125 \r\nQ 43.3125 58.59375 39.234375 62.25 \r\nQ 35.15625 65.921875 28.609375 65.921875 \r\nQ 23.96875 65.921875 18.8125 64.3125 \r\nQ 13.671875 62.703125 7.8125 59.421875 \r\nL 7.8125 69.390625 \r\nQ 13.765625 71.78125 18.9375 73 \r\nQ 24.125 74.21875 28.421875 74.21875 \r\nQ 39.75 74.21875 46.484375 68.546875 \r\nQ 53.21875 62.890625 53.21875 53.421875 \r\nQ 53.21875 48.921875 51.53125 44.890625 \r\nQ 49.859375 40.875 45.40625 35.40625 \r\nQ 44.1875 33.984375 37.640625 27.21875 \r\nQ 31.109375 20.453125 19.1875 8.296875 \r\nz\r\n\" id=\"DejaVuSans-50\"/>\r\n      </defs>\r\n      <g transform=\"translate(7.2 156.483762)scale(0.1 -0.1)\">\r\n       <use xlink:href=\"#DejaVuSans-8722\"/>\r\n       <use x=\"83.789062\" xlink:href=\"#DejaVuSans-48\"/>\r\n       <use x=\"147.412109\" xlink:href=\"#DejaVuSans-46\"/>\r\n       <use x=\"179.199219\" xlink:href=\"#DejaVuSans-50\"/>\r\n       <use x=\"242.822266\" xlink:href=\"#DejaVuSans-53\"/>\r\n      </g>\r\n     </g>\r\n    </g>\r\n    <g id=\"ytick_4\">\r\n     <g id=\"line2d_20\">\r\n      <g>\r\n       <use style=\"stroke:#000000;stroke-width:0.8;\" x=\"44.845313\" xlink:href=\"#m3b246a3f1f\" y=\"125.564362\"/>\r\n      </g>\r\n     </g>\r\n     <g id=\"text_20\">\r\n      <!-- 0.00 -->\r\n      <g transform=\"translate(15.579688 129.36358)scale(0.1 -0.1)\">\r\n       <use xlink:href=\"#DejaVuSans-48\"/>\r\n       <use x=\"63.623047\" xlink:href=\"#DejaVuSans-46\"/>\r\n       <use x=\"95.410156\" xlink:href=\"#DejaVuSans-48\"/>\r\n       <use x=\"159.033203\" xlink:href=\"#DejaVuSans-48\"/>\r\n      </g>\r\n     </g>\r\n    </g>\r\n    <g id=\"ytick_5\">\r\n     <g id=\"line2d_21\">\r\n      <g>\r\n       <use style=\"stroke:#000000;stroke-width:0.8;\" x=\"44.845313\" xlink:href=\"#m3b246a3f1f\" y=\"98.44418\"/>\r\n      </g>\r\n     </g>\r\n     <g id=\"text_21\">\r\n      <!-- 0.25 -->\r\n      <g transform=\"translate(15.579688 102.243399)scale(0.1 -0.1)\">\r\n       <use xlink:href=\"#DejaVuSans-48\"/>\r\n       <use x=\"63.623047\" xlink:href=\"#DejaVuSans-46\"/>\r\n       <use x=\"95.410156\" xlink:href=\"#DejaVuSans-50\"/>\r\n       <use x=\"159.033203\" xlink:href=\"#DejaVuSans-53\"/>\r\n      </g>\r\n     </g>\r\n    </g>\r\n    <g id=\"ytick_6\">\r\n     <g id=\"line2d_22\">\r\n      <g>\r\n       <use style=\"stroke:#000000;stroke-width:0.8;\" x=\"44.845313\" xlink:href=\"#m3b246a3f1f\" y=\"71.323999\"/>\r\n      </g>\r\n     </g>\r\n     <g id=\"text_22\">\r\n      <!-- 0.50 -->\r\n      <g transform=\"translate(15.579688 75.123218)scale(0.1 -0.1)\">\r\n       <use xlink:href=\"#DejaVuSans-48\"/>\r\n       <use x=\"63.623047\" xlink:href=\"#DejaVuSans-46\"/>\r\n       <use x=\"95.410156\" xlink:href=\"#DejaVuSans-53\"/>\r\n       <use x=\"159.033203\" xlink:href=\"#DejaVuSans-48\"/>\r\n      </g>\r\n     </g>\r\n    </g>\r\n    <g id=\"ytick_7\">\r\n     <g id=\"line2d_23\">\r\n      <g>\r\n       <use style=\"stroke:#000000;stroke-width:0.8;\" x=\"44.845313\" xlink:href=\"#m3b246a3f1f\" y=\"44.203818\"/>\r\n      </g>\r\n     </g>\r\n     <g id=\"text_23\">\r\n      <!-- 0.75 -->\r\n      <g transform=\"translate(15.579688 48.003036)scale(0.1 -0.1)\">\r\n       <use xlink:href=\"#DejaVuSans-48\"/>\r\n       <use x=\"63.623047\" xlink:href=\"#DejaVuSans-46\"/>\r\n       <use x=\"95.410156\" xlink:href=\"#DejaVuSans-55\"/>\r\n       <use x=\"159.033203\" xlink:href=\"#DejaVuSans-53\"/>\r\n      </g>\r\n     </g>\r\n    </g>\r\n    <g id=\"ytick_8\">\r\n     <g id=\"line2d_24\">\r\n      <g>\r\n       <use style=\"stroke:#000000;stroke-width:0.8;\" x=\"44.845313\" xlink:href=\"#m3b246a3f1f\" y=\"17.083636\"/>\r\n      </g>\r\n     </g>\r\n     <g id=\"text_24\">\r\n      <!-- 1.00 -->\r\n      <defs>\r\n       <path d=\"M 12.40625 8.296875 \r\nL 28.515625 8.296875 \r\nL 28.515625 63.921875 \r\nL 10.984375 60.40625 \r\nL 10.984375 69.390625 \r\nL 28.421875 72.90625 \r\nL 38.28125 72.90625 \r\nL 38.28125 8.296875 \r\nL 54.390625 8.296875 \r\nL 54.390625 0 \r\nL 12.40625 0 \r\nz\r\n\" id=\"DejaVuSans-49\"/>\r\n      </defs>\r\n      <g transform=\"translate(15.579688 20.882855)scale(0.1 -0.1)\">\r\n       <use xlink:href=\"#DejaVuSans-49\"/>\r\n       <use x=\"63.623047\" xlink:href=\"#DejaVuSans-46\"/>\r\n       <use x=\"95.410156\" xlink:href=\"#DejaVuSans-48\"/>\r\n       <use x=\"159.033203\" xlink:href=\"#DejaVuSans-48\"/>\r\n      </g>\r\n     </g>\r\n    </g>\r\n   </g>\r\n   <g id=\"patch_19\">\r\n    <path d=\"M 44.845313 224.64 \r\nL 44.845313 7.2 \r\n\" style=\"fill:none;stroke:#000000;stroke-linecap:square;stroke-linejoin:miter;stroke-width:0.8;\"/>\r\n   </g>\r\n   <g id=\"patch_20\">\r\n    <path d=\"M 379.645313 224.64 \r\nL 379.645313 7.2 \r\n\" style=\"fill:none;stroke:#000000;stroke-linecap:square;stroke-linejoin:miter;stroke-width:0.8;\"/>\r\n   </g>\r\n   <g id=\"patch_21\">\r\n    <path d=\"M 44.845313 224.64 \r\nL 379.645313 224.64 \r\n\" style=\"fill:none;stroke:#000000;stroke-linecap:square;stroke-linejoin:miter;stroke-width:0.8;\"/>\r\n   </g>\r\n   <g id=\"patch_22\">\r\n    <path d=\"M 44.845313 7.2 \r\nL 379.645313 7.2 \r\n\" style=\"fill:none;stroke:#000000;stroke-linecap:square;stroke-linejoin:miter;stroke-width:0.8;\"/>\r\n   </g>\r\n  </g>\r\n </g>\r\n <defs>\r\n  <clipPath id=\"pb9bad7dd60\">\r\n   <rect height=\"217.44\" width=\"334.8\" x=\"44.845313\" y=\"7.2\"/>\r\n  </clipPath>\r\n </defs>\r\n</svg>\r\n",
      "image/png": "[encoded data removed]"
     },
     "metadata": {
      "needs_background": "light"
     }
    }
   ],
   "source": [
    "df.corr()['horsepower'].plot(kind='bar')"
   ]
  },
  {
   "cell_type": "markdown",
   "metadata": {},
   "source": [
    "# relationship between columns"
   ]
  },
  {
   "cell_type": "markdown",
   "metadata": {},
   "source": [
    "## continous or numerical"
   ]
  },
  {
   "cell_type": "code",
   "execution_count": 8,
   "metadata": {},
   "outputs": [
    {
     "output_type": "display_data",
     "data": {
      "text/plain": "<Figure size 432x288 with 1 Axes>",
      "image/svg+xml": "<?xml version=\"1.0\" encoding=\"utf-8\" standalone=\"no\"?>\r\n<!DOCTYPE svg PUBLIC \"-//W3C//DTD SVG 1.1//EN\"\r\n  \"http://www.w3.org/Graphics/SVG/1.1/DTD/svg11.dtd\">\r\n<!-- Created with matplotlib (https://matplotlib.org/) -->\r\n<svg height=\"277.314375pt\" version=\"1.1\" viewBox=\"0 0 401.690625 277.314375\" width=\"401.690625pt\" xmlns=\"http://www.w3.org/2000/svg\" xmlns:xlink=\"http://www.w3.org/1999/xlink\">\r\n <defs>\r\n  <style type=\"text/css\">\r\n*{stroke-linecap:butt;stroke-linejoin:round;}\r\n  </style>\r\n </defs>\r\n <g id=\"figure_1\">\r\n  <g id=\"patch_1\">\r\n   <path d=\"M 0 277.314375 \r\nL 401.690625 277.314375 \r\nL 401.690625 0 \r\nL 0 0 \r\nz\r\n\" style=\"fill:none;\"/>\r\n  </g>\r\n  <g id=\"axes_1\">\r\n   <g id=\"patch_2\">\r\n    <path d=\"M 59.690625 239.758125 \r\nL 394.490625 239.758125 \r\nL 394.490625 22.318125 \r\nL 59.690625 22.318125 \r\nz\r\n\" style=\"fill:#ffffff;\"/>\r\n   </g>\r\n   <g id=\"PathCollection_1\">\r\n    <defs>\r\n     <path d=\"M 0 3 \r\nC 0.795609 3 1.55874 2.683901 2.12132 2.12132 \r\nC 2.683901 1.55874 3 0.795609 3 0 \r\nC 3 -0.795609 2.683901 -1.55874 2.12132 -2.12132 \r\nC 1.55874 -2.683901 0.795609 -3 0 -3 \r\nC -0.795609 -3 -1.55874 -2.683901 -2.12132 -2.12132 \r\nC -2.683901 -1.55874 -3 -0.795609 -3 0 \r\nC -3 0.795609 -2.683901 1.55874 -2.12132 2.12132 \r\nC -1.55874 2.683901 -0.795609 3 0 3 \r\nz\r\n\" id=\"mc646d53bc6\" style=\"stroke:#1f77b4;stroke-opacity:0.8;\"/>\r\n    </defs>\r\n    <g clip-path=\"url(#p3a28d157e9)\">\r\n     <use style=\"fill:#1f77b4;fill-opacity:0.8;stroke:#1f77b4;stroke-opacity:0.8;\" x=\"154.163631\" xlink:href=\"#mc646d53bc6\" y=\"180.377356\"/>\r\n     <use style=\"fill:#1f77b4;fill-opacity:0.8;stroke:#1f77b4;stroke-opacity:0.8;\" x=\"154.163631\" xlink:href=\"#mc646d53bc6\" y=\"168.473365\"/>\r\n     <use style=\"fill:#1f77b4;fill-opacity:0.8;stroke:#1f77b4;stroke-opacity:0.8;\" x=\"179.429676\" xlink:href=\"#mc646d53bc6\" y=\"168.473365\"/>\r\n     <use style=\"fill:#1f77b4;fill-opacity:0.8;stroke:#1f77b4;stroke-opacity:0.8;\" x=\"130.046043\" xlink:href=\"#mc646d53bc6\" y=\"178.574921\"/>\r\n     <use style=\"fill:#1f77b4;fill-opacity:0.8;stroke:#1f77b4;stroke-opacity:0.8;\" x=\"161.054371\" xlink:href=\"#mc646d53bc6\" y=\"164.710041\"/>\r\n     <use style=\"fill:#1f77b4;fill-opacity:0.8;stroke:#1f77b4;stroke-opacity:0.8;\" x=\"161.054371\" xlink:href=\"#mc646d53bc6\" y=\"173.425109\"/>\r\n     <use style=\"fill:#1f77b4;fill-opacity:0.8;stroke:#1f77b4;stroke-opacity:0.8;\" x=\"161.054371\" xlink:href=\"#mc646d53bc6\" y=\"163.680078\"/>\r\n     <use style=\"fill:#1f77b4;fill-opacity:0.8;stroke:#1f77b4;stroke-opacity:0.8;\" x=\"161.054371\" xlink:href=\"#mc646d53bc6\" y=\"158.886791\"/>\r\n     <use style=\"fill:#1f77b4;fill-opacity:0.8;stroke:#1f77b4;stroke-opacity:0.8;\" x=\"155.312088\" xlink:href=\"#mc646d53bc6\" y=\"139.258081\"/>\r\n     <use style=\"fill:#1f77b4;fill-opacity:0.8;stroke:#1f77b4;stroke-opacity:0.8;\" x=\"128.897586\" xlink:href=\"#mc646d53bc6\" y=\"168.750663\"/>\r\n     <use style=\"fill:#1f77b4;fill-opacity:0.8;stroke:#1f77b4;stroke-opacity:0.8;\" x=\"128.897586\" xlink:href=\"#mc646d53bc6\" y=\"166.789773\"/>\r\n     <use style=\"fill:#1f77b4;fill-opacity:0.8;stroke:#1f77b4;stroke-opacity:0.8;\" x=\"193.211156\" xlink:href=\"#mc646d53bc6\" y=\"150.765932\"/>\r\n     <use style=\"fill:#1f77b4;fill-opacity:0.8;stroke:#1f77b4;stroke-opacity:0.8;\" x=\"193.211156\" xlink:href=\"#mc646d53bc6\" y=\"150.231144\"/>\r\n     <use style=\"fill:#1f77b4;fill-opacity:0.8;stroke:#1f77b4;stroke-opacity:0.8;\" x=\"193.211156\" xlink:href=\"#mc646d53bc6\" y=\"136.524719\"/>\r\n     <use style=\"fill:#1f77b4;fill-opacity:0.8;stroke:#1f77b4;stroke-opacity:0.8;\" x=\"244.891702\" xlink:href=\"#mc646d53bc6\" y=\"111.98388\"/>\r\n     <use style=\"fill:#1f77b4;fill-opacity:0.8;stroke:#1f77b4;stroke-opacity:0.8;\" x=\"244.891702\" xlink:href=\"#mc646d53bc6\" y=\"70.171361\"/>\r\n     <use style=\"fill:#1f77b4;fill-opacity:0.8;stroke:#1f77b4;stroke-opacity:0.8;\" x=\"244.891702\" xlink:href=\"#mc646d53bc6\" y=\"87.740146\"/>\r\n     <use style=\"fill:#1f77b4;fill-opacity:0.8;stroke:#1f77b4;stroke-opacity:0.8;\" x=\"74.920127\" xlink:href=\"#mc646d53bc6\" y=\"213.431231\"/>\r\n     <use style=\"fill:#1f77b4;fill-opacity:0.8;stroke:#1f77b4;stroke-opacity:0.8;\" x=\"108.225368\" xlink:href=\"#mc646d53bc6\" y=\"208.899396\"/>\r\n     <use style=\"fill:#1f77b4;fill-opacity:0.8;stroke:#1f77b4;stroke-opacity:0.8;\" x=\"108.225368\" xlink:href=\"#mc646d53bc6\" y=\"207.790206\"/>\r\n     <use style=\"fill:#1f77b4;fill-opacity:0.8;stroke:#1f77b4;stroke-opacity:0.8;\" x=\"108.225368\" xlink:href=\"#mc646d53bc6\" y=\"211.763484\"/>\r\n     <use style=\"fill:#1f77b4;fill-opacity:0.8;stroke:#1f77b4;stroke-opacity:0.8;\" x=\"108.225368\" xlink:href=\"#mc646d53bc6\" y=\"208.574562\"/>\r\n     <use style=\"fill:#1f77b4;fill-opacity:0.8;stroke:#1f77b4;stroke-opacity:0.8;\" x=\"117.413021\" xlink:href=\"#mc646d53bc6\" y=\"202.315558\"/>\r\n     <use style=\"fill:#1f77b4;fill-opacity:0.8;stroke:#1f77b4;stroke-opacity:0.8;\" x=\"108.225368\" xlink:href=\"#mc646d53bc6\" y=\"209.160848\"/>\r\n     <use style=\"fill:#1f77b4;fill-opacity:0.8;stroke:#1f77b4;stroke-opacity:0.8;\" x=\"108.225368\" xlink:href=\"#mc646d53bc6\" y=\"207.326722\"/>\r\n     <use style=\"fill:#1f77b4;fill-opacity:0.8;stroke:#1f77b4;stroke-opacity:0.8;\" x=\"108.225368\" xlink:href=\"#mc646d53bc6\" y=\"203.694124\"/>\r\n     <use style=\"fill:#1f77b4;fill-opacity:0.8;stroke:#1f77b4;stroke-opacity:0.8;\" x=\"117.413021\" xlink:href=\"#mc646d53bc6\" y=\"199.93476\"/>\r\n     <use style=\"fill:#1f77b4;fill-opacity:0.8;stroke:#1f77b4;stroke-opacity:0.8;\" x=\"144.975979\" xlink:href=\"#mc646d53bc6\" y=\"198.496774\"/>\r\n     <use style=\"fill:#1f77b4;fill-opacity:0.8;stroke:#1f77b4;stroke-opacity:0.8;\" x=\"184.023503\" xlink:href=\"#mc646d53bc6\" y=\"182.480856\"/>\r\n     <use style=\"fill:#1f77b4;fill-opacity:0.8;stroke:#1f77b4;stroke-opacity:0.8;\" x=\"110.522281\" xlink:href=\"#mc646d53bc6\" y=\"208.1705\"/>\r\n     <use style=\"fill:#1f77b4;fill-opacity:0.8;stroke:#1f77b4;stroke-opacity:0.8;\" x=\"110.522281\" xlink:href=\"#mc646d53bc6\" y=\"206.681015\"/>\r\n     <use style=\"fill:#1f77b4;fill-opacity:0.8;stroke:#1f77b4;stroke-opacity:0.8;\" x=\"95.592345\" xlink:href=\"#mc646d53bc6\" y=\"212.448806\"/>\r\n     <use style=\"fill:#1f77b4;fill-opacity:0.8;stroke:#1f77b4;stroke-opacity:0.8;\" x=\"110.522281\" xlink:href=\"#mc646d53bc6\" y=\"207.97243\"/>\r\n     <use style=\"fill:#1f77b4;fill-opacity:0.8;stroke:#1f77b4;stroke-opacity:0.8;\" x=\"110.522281\" xlink:href=\"#mc646d53bc6\" y=\"205.595593\"/>\r\n     <use style=\"fill:#1f77b4;fill-opacity:0.8;stroke:#1f77b4;stroke-opacity:0.8;\" x=\"110.522281\" xlink:href=\"#mc646d53bc6\" y=\"204.938002\"/>\r\n     <use style=\"fill:#1f77b4;fill-opacity:0.8;stroke:#1f77b4;stroke-opacity:0.8;\" x=\"110.522281\" xlink:href=\"#mc646d53bc6\" y=\"204.938002\"/>\r\n     <use style=\"fill:#1f77b4;fill-opacity:0.8;stroke:#1f77b4;stroke-opacity:0.8;\" x=\"131.1945\" xlink:href=\"#mc646d53bc6\" y=\"202.561165\"/>\r\n     <use style=\"fill:#1f77b4;fill-opacity:0.8;stroke:#1f77b4;stroke-opacity:0.8;\" x=\"131.1945\" xlink:href=\"#mc646d53bc6\" y=\"197.807492\"/>\r\n     <use style=\"fill:#1f77b4;fill-opacity:0.8;stroke:#1f77b4;stroke-opacity:0.8;\" x=\"131.1945\" xlink:href=\"#mc646d53bc6\" y=\"198.79784\"/>\r\n     <use style=\"fill:#1f77b4;fill-opacity:0.8;stroke:#1f77b4;stroke-opacity:0.8;\" x=\"131.1945\" xlink:href=\"#mc646d53bc6\" y=\"193.053818\"/>\r\n     <use style=\"fill:#1f77b4;fill-opacity:0.8;stroke:#1f77b4;stroke-opacity:0.8;\" x=\"131.1945\" xlink:href=\"#mc646d53bc6\" y=\"182.556123\"/>\r\n     <use style=\"fill:#1f77b4;fill-opacity:0.8;stroke:#1f77b4;stroke-opacity:0.8;\" x=\"131.1945\" xlink:href=\"#mc646d53bc6\" y=\"192.855748\"/>\r\n     <use style=\"fill:#1f77b4;fill-opacity:0.8;stroke:#1f77b4;stroke-opacity:0.8;\" x=\"132.342956\" xlink:href=\"#mc646d53bc6\" y=\"206.958313\"/>\r\n     <use style=\"fill:#1f77b4;fill-opacity:0.8;stroke:#1f77b4;stroke-opacity:0.8;\" x=\"141.530609\" xlink:href=\"#mc646d53bc6\" y=\"190.070888\"/>\r\n     <use style=\"fill:#1f77b4;fill-opacity:0.8;stroke:#1f77b4;stroke-opacity:0.8;\" x=\"301.166075\" xlink:href=\"#mc646d53bc6\" y=\"106.081402\"/>\r\n     <use style=\"fill:#1f77b4;fill-opacity:0.8;stroke:#1f77b4;stroke-opacity:0.8;\" x=\"301.166075\" xlink:href=\"#mc646d53bc6\" y=\"93.008801\"/>\r\n     <use style=\"fill:#1f77b4;fill-opacity:0.8;stroke:#1f77b4;stroke-opacity:0.8;\" x=\"379.261123\" xlink:href=\"#mc646d53bc6\" y=\"91.226173\"/>\r\n     <use style=\"fill:#1f77b4;fill-opacity:0.8;stroke:#1f77b4;stroke-opacity:0.8;\" x=\"109.373824\" xlink:href=\"#mc646d53bc6\" y=\"213.25693\"/>\r\n     <use style=\"fill:#1f77b4;fill-opacity:0.8;stroke:#1f77b4;stroke-opacity:0.8;\" x=\"109.373824\" xlink:href=\"#mc646d53bc6\" y=\"209.691675\"/>\r\n     <use style=\"fill:#1f77b4;fill-opacity:0.8;stroke:#1f77b4;stroke-opacity:0.8;\" x=\"109.373824\" xlink:href=\"#mc646d53bc6\" y=\"206.918699\"/>\r\n     <use style=\"fill:#1f77b4;fill-opacity:0.8;stroke:#1f77b4;stroke-opacity:0.8;\" x=\"109.373824\" xlink:href=\"#mc646d53bc6\" y=\"207.314838\"/>\r\n     <use style=\"fill:#1f77b4;fill-opacity:0.8;stroke:#1f77b4;stroke-opacity:0.8;\" x=\"109.373824\" xlink:href=\"#mc646d53bc6\" y=\"204.541862\"/>\r\n     <use style=\"fill:#1f77b4;fill-opacity:0.8;stroke:#1f77b4;stroke-opacity:0.8;\" x=\"85.256236\" xlink:href=\"#mc646d53bc6\" y=\"190.478912\"/>\r\n     <use style=\"fill:#1f77b4;fill-opacity:0.8;stroke:#1f77b4;stroke-opacity:0.8;\" x=\"85.256236\" xlink:href=\"#mc646d53bc6\" y=\"186.913657\"/>\r\n     <use style=\"fill:#1f77b4;fill-opacity:0.8;stroke:#1f77b4;stroke-opacity:0.8;\" x=\"85.256236\" xlink:href=\"#mc646d53bc6\" y=\"179.783147\"/>\r\n     <use style=\"fill:#1f77b4;fill-opacity:0.8;stroke:#1f77b4;stroke-opacity:0.8;\" x=\"96.740802\" xlink:href=\"#mc646d53bc6\" y=\"171.860358\"/>\r\n     <use style=\"fill:#1f77b4;fill-opacity:0.8;stroke:#1f77b4;stroke-opacity:0.8;\" x=\"144.975979\" xlink:href=\"#mc646d53bc6\" y=\"198.79784\"/>\r\n     <use style=\"fill:#1f77b4;fill-opacity:0.8;stroke:#1f77b4;stroke-opacity:0.8;\" x=\"144.975979\" xlink:href=\"#mc646d53bc6\" y=\"200.184328\"/>\r\n     <use style=\"fill:#1f77b4;fill-opacity:0.8;stroke:#1f77b4;stroke-opacity:0.8;\" x=\"144.975979\" xlink:href=\"#mc646d53bc6\" y=\"191.8654\"/>\r\n     <use style=\"fill:#1f77b4;fill-opacity:0.8;stroke:#1f77b4;stroke-opacity:0.8;\" x=\"144.975979\" xlink:href=\"#mc646d53bc6\" y=\"193.251888\"/>\r\n     <use style=\"fill:#1f77b4;fill-opacity:0.8;stroke:#1f77b4;stroke-opacity:0.8;\" x=\"144.975979\" xlink:href=\"#mc646d53bc6\" y=\"191.073121\"/>\r\n     <use style=\"fill:#1f77b4;fill-opacity:0.8;stroke:#1f77b4;stroke-opacity:0.8;\" x=\"144.975979\" xlink:href=\"#mc646d53bc6\" y=\"189.290493\"/>\r\n     <use style=\"fill:#1f77b4;fill-opacity:0.8;stroke:#1f77b4;stroke-opacity:0.8;\" x=\"165.648197\" xlink:href=\"#mc646d53bc6\" y=\"161.422083\"/>\r\n     <use style=\"fill:#1f77b4;fill-opacity:0.8;stroke:#1f77b4;stroke-opacity:0.8;\" x=\"158.757458\" xlink:href=\"#mc646d53bc6\" y=\"161.168554\"/>\r\n     <use style=\"fill:#1f77b4;fill-opacity:0.8;stroke:#1f77b4;stroke-opacity:0.8;\" x=\"215.031831\" xlink:href=\"#mc646d53bc6\" y=\"132.614823\"/>\r\n     <use style=\"fill:#1f77b4;fill-opacity:0.8;stroke:#1f77b4;stroke-opacity:0.8;\" x=\"215.031831\" xlink:href=\"#mc646d53bc6\" y=\"121.934903\"/>\r\n     <use style=\"fill:#1f77b4;fill-opacity:0.8;stroke:#1f77b4;stroke-opacity:0.8;\" x=\"215.031831\" xlink:href=\"#mc646d53bc6\" y=\"122.220124\"/>\r\n     <use style=\"fill:#1f77b4;fill-opacity:0.8;stroke:#1f77b4;stroke-opacity:0.8;\" x=\"215.031831\" xlink:href=\"#mc646d53bc6\" y=\"108.656309\"/>\r\n     <use style=\"fill:#1f77b4;fill-opacity:0.8;stroke:#1f77b4;stroke-opacity:0.8;\" x=\"273.603117\" xlink:href=\"#mc646d53bc6\" y=\"98.420066\"/>\r\n     <use style=\"fill:#1f77b4;fill-opacity:0.8;stroke:#1f77b4;stroke-opacity:0.8;\" x=\"273.603117\" xlink:href=\"#mc646d53bc6\" y=\"94.96573\"/>\r\n     <use style=\"fill:#1f77b4;fill-opacity:0.8;stroke:#1f77b4;stroke-opacity:0.8;\" x=\"358.588905\" xlink:href=\"#mc646d53bc6\" y=\"71.577657\"/>\r\n     <use style=\"fill:#1f77b4;fill-opacity:0.8;stroke:#1f77b4;stroke-opacity:0.8;\" x=\"353.995078\" xlink:href=\"#mc646d53bc6\" y=\"53.989065\"/>\r\n     <use style=\"fill:#1f77b4;fill-opacity:0.8;stroke:#1f77b4;stroke-opacity:0.8;\" x=\"165.648197\" xlink:href=\"#mc646d53bc6\" y=\"168.461481\"/>\r\n     <use style=\"fill:#1f77b4;fill-opacity:0.8;stroke:#1f77b4;stroke-opacity:0.8;\" x=\"110.522281\" xlink:href=\"#mc646d53bc6\" y=\"212.488419\"/>\r\n     <use style=\"fill:#1f77b4;fill-opacity:0.8;stroke:#1f77b4;stroke-opacity:0.8;\" x=\"110.522281\" xlink:href=\"#mc646d53bc6\" y=\"209.319304\"/>\r\n     <use style=\"fill:#1f77b4;fill-opacity:0.8;stroke:#1f77b4;stroke-opacity:0.8;\" x=\"110.522281\" xlink:href=\"#mc646d53bc6\" y=\"207.417835\"/>\r\n     <use style=\"fill:#1f77b4;fill-opacity:0.8;stroke:#1f77b4;stroke-opacity:0.8;\" x=\"117.413021\" xlink:href=\"#mc646d53bc6\" y=\"203.377212\"/>\r\n     <use style=\"fill:#1f77b4;fill-opacity:0.8;stroke:#1f77b4;stroke-opacity:0.8;\" x=\"131.1945\" xlink:href=\"#mc646d53bc6\" y=\"194.384847\"/>\r\n     <use style=\"fill:#1f77b4;fill-opacity:0.8;stroke:#1f77b4;stroke-opacity:0.8;\" x=\"144.975979\" xlink:href=\"#mc646d53bc6\" y=\"200.168483\"/>\r\n     <use style=\"fill:#1f77b4;fill-opacity:0.8;stroke:#1f77b4;stroke-opacity:0.8;\" x=\"184.023503\" xlink:href=\"#mc646d53bc6\" y=\"183.807923\"/>\r\n     <use style=\"fill:#1f77b4;fill-opacity:0.8;stroke:#1f77b4;stroke-opacity:0.8;\" x=\"184.023503\" xlink:href=\"#mc646d53bc6\" y=\"174.9344\"/>\r\n     <use style=\"fill:#1f77b4;fill-opacity:0.8;stroke:#1f77b4;stroke-opacity:0.8;\" x=\"184.023503\" xlink:href=\"#mc646d53bc6\" y=\"176.43973\"/>\r\n     <use style=\"fill:#1f77b4;fill-opacity:0.8;stroke:#1f77b4;stroke-opacity:0.8;\" x=\"144.975979\" xlink:href=\"#mc646d53bc6\" y=\"206.150188\"/>\r\n     <use style=\"fill:#1f77b4;fill-opacity:0.8;stroke:#1f77b4;stroke-opacity:0.8;\" x=\"144.975979\" xlink:href=\"#mc646d53bc6\" y=\"201.396515\"/>\r\n     <use style=\"fill:#1f77b4;fill-opacity:0.8;stroke:#1f77b4;stroke-opacity:0.8;\" x=\"131.1945\" xlink:href=\"#mc646d53bc6\" y=\"197.078595\"/>\r\n     <use style=\"fill:#1f77b4;fill-opacity:0.8;stroke:#1f77b4;stroke-opacity:0.8;\" x=\"131.1945\" xlink:href=\"#mc646d53bc6\" y=\"197.078595\"/>\r\n     <use style=\"fill:#1f77b4;fill-opacity:0.8;stroke:#1f77b4;stroke-opacity:0.8;\" x=\"116.264564\" xlink:href=\"#mc646d53bc6\" y=\"212.052666\"/>\r\n     <use style=\"fill:#1f77b4;fill-opacity:0.8;stroke:#1f77b4;stroke-opacity:0.8;\" x=\"123.155304\" xlink:href=\"#mc646d53bc6\" y=\"205.714435\"/>\r\n     <use style=\"fill:#1f77b4;fill-opacity:0.8;stroke:#1f77b4;stroke-opacity:0.8;\" x=\"116.264564\" xlink:href=\"#mc646d53bc6\" y=\"207.497062\"/>\r\n     <use style=\"fill:#1f77b4;fill-opacity:0.8;stroke:#1f77b4;stroke-opacity:0.8;\" x=\"116.264564\" xlink:href=\"#mc646d53bc6\" y=\"206.704784\"/>\r\n     <use style=\"fill:#1f77b4;fill-opacity:0.8;stroke:#1f77b4;stroke-opacity:0.8;\" x=\"116.264564\" xlink:href=\"#mc646d53bc6\" y=\"204.724086\"/>\r\n     <use style=\"fill:#1f77b4;fill-opacity:0.8;stroke:#1f77b4;stroke-opacity:0.8;\" x=\"116.264564\" xlink:href=\"#mc646d53bc6\" y=\"204.922156\"/>\r\n     <use style=\"fill:#1f77b4;fill-opacity:0.8;stroke:#1f77b4;stroke-opacity:0.8;\" x=\"116.264564\" xlink:href=\"#mc646d53bc6\" y=\"202.941459\"/>\r\n     <use style=\"fill:#1f77b4;fill-opacity:0.8;stroke:#1f77b4;stroke-opacity:0.8;\" x=\"116.264564\" xlink:href=\"#mc646d53bc6\" y=\"204.129877\"/>\r\n     <use style=\"fill:#1f77b4;fill-opacity:0.8;stroke:#1f77b4;stroke-opacity:0.8;\" x=\"116.264564\" xlink:href=\"#mc646d53bc6\" y=\"202.14918\"/>\r\n     <use style=\"fill:#1f77b4;fill-opacity:0.8;stroke:#1f77b4;stroke-opacity:0.8;\" x=\"116.264564\" xlink:href=\"#mc646d53bc6\" y=\"201.158831\"/>\r\n     <use style=\"fill:#1f77b4;fill-opacity:0.8;stroke:#1f77b4;stroke-opacity:0.8;\" x=\"142.679066\" xlink:href=\"#mc646d53bc6\" y=\"198.385855\"/>\r\n     <use style=\"fill:#1f77b4;fill-opacity:0.8;stroke:#1f77b4;stroke-opacity:0.8;\" x=\"142.679066\" xlink:href=\"#mc646d53bc6\" y=\"196.009018\"/>\r\n     <use style=\"fill:#1f77b4;fill-opacity:0.8;stroke:#1f77b4;stroke-opacity:0.8;\" x=\"212.734918\" xlink:href=\"#mc646d53bc6\" y=\"180.36151\"/>\r\n     <use style=\"fill:#1f77b4;fill-opacity:0.8;stroke:#1f77b4;stroke-opacity:0.8;\" x=\"212.734918\" xlink:href=\"#mc646d53bc6\" y=\"176.796255\"/>\r\n     <use style=\"fill:#1f77b4;fill-opacity:0.8;stroke:#1f77b4;stroke-opacity:0.8;\" x=\"212.734918\" xlink:href=\"#mc646d53bc6\" y=\"180.36151\"/>\r\n     <use style=\"fill:#1f77b4;fill-opacity:0.8;stroke:#1f77b4;stroke-opacity:0.8;\" x=\"212.734918\" xlink:href=\"#mc646d53bc6\" y=\"165.704351\"/>\r\n     <use style=\"fill:#1f77b4;fill-opacity:0.8;stroke:#1f77b4;stroke-opacity:0.8;\" x=\"212.734918\" xlink:href=\"#mc646d53bc6\" y=\"155.800865\"/>\r\n     <use style=\"fill:#1f77b4;fill-opacity:0.8;stroke:#1f77b4;stroke-opacity:0.8;\" x=\"212.734918\" xlink:href=\"#mc646d53bc6\" y=\"160.950677\"/>\r\n     <use style=\"fill:#1f77b4;fill-opacity:0.8;stroke:#1f77b4;stroke-opacity:0.8;\" x=\"142.679066\" xlink:href=\"#mc646d53bc6\" y=\"186.69578\"/>\r\n     <use style=\"fill:#1f77b4;fill-opacity:0.8;stroke:#1f77b4;stroke-opacity:0.8;\" x=\"179.429676\" xlink:href=\"#mc646d53bc6\" y=\"181.545967\"/>\r\n     <use style=\"fill:#1f77b4;fill-opacity:0.8;stroke:#1f77b4;stroke-opacity:0.8;\" x=\"142.679066\" xlink:href=\"#mc646d53bc6\" y=\"184.556627\"/>\r\n     <use style=\"fill:#1f77b4;fill-opacity:0.8;stroke:#1f77b4;stroke-opacity:0.8;\" x=\"179.429676\" xlink:href=\"#mc646d53bc6\" y=\"178.931447\"/>\r\n     <use style=\"fill:#1f77b4;fill-opacity:0.8;stroke:#1f77b4;stroke-opacity:0.8;\" x=\"142.679066\" xlink:href=\"#mc646d53bc6\" y=\"172.117848\"/>\r\n     <use style=\"fill:#1f77b4;fill-opacity:0.8;stroke:#1f77b4;stroke-opacity:0.8;\" x=\"179.429676\" xlink:href=\"#mc646d53bc6\" y=\"166.888808\"/>\r\n     <use style=\"fill:#1f77b4;fill-opacity:0.8;stroke:#1f77b4;stroke-opacity:0.8;\" x=\"142.679066\" xlink:href=\"#mc646d53bc6\" y=\"167.700894\"/>\r\n     <use style=\"fill:#1f77b4;fill-opacity:0.8;stroke:#1f77b4;stroke-opacity:0.8;\" x=\"179.429676\" xlink:href=\"#mc646d53bc6\" y=\"166.195564\"/>\r\n     <use style=\"fill:#1f77b4;fill-opacity:0.8;stroke:#1f77b4;stroke-opacity:0.8;\" x=\"142.679066\" xlink:href=\"#mc646d53bc6\" y=\"167.958384\"/>\r\n     <use style=\"fill:#1f77b4;fill-opacity:0.8;stroke:#1f77b4;stroke-opacity:0.8;\" x=\"179.429676\" xlink:href=\"#mc646d53bc6\" y=\"162.729343\"/>\r\n     <use style=\"fill:#1f77b4;fill-opacity:0.8;stroke:#1f77b4;stroke-opacity:0.8;\" x=\"158.757458\" xlink:href=\"#mc646d53bc6\" y=\"161.937065\"/>\r\n     <use style=\"fill:#1f77b4;fill-opacity:0.8;stroke:#1f77b4;stroke-opacity:0.8;\" x=\"108.225368\" xlink:href=\"#mc646d53bc6\" y=\"211.763484\"/>\r\n     <use style=\"fill:#1f77b4;fill-opacity:0.8;stroke:#1f77b4;stroke-opacity:0.8;\" x=\"117.413021\" xlink:href=\"#mc646d53bc6\" y=\"202.315558\"/>\r\n     <use style=\"fill:#1f77b4;fill-opacity:0.8;stroke:#1f77b4;stroke-opacity:0.8;\" x=\"108.225368\" xlink:href=\"#mc646d53bc6\" y=\"209.160848\"/>\r\n     <use style=\"fill:#1f77b4;fill-opacity:0.8;stroke:#1f77b4;stroke-opacity:0.8;\" x=\"108.225368\" xlink:href=\"#mc646d53bc6\" y=\"207.326722\"/>\r\n     <use style=\"fill:#1f77b4;fill-opacity:0.8;stroke:#1f77b4;stroke-opacity:0.8;\" x=\"117.413021\" xlink:href=\"#mc646d53bc6\" y=\"203.694124\"/>\r\n     <use style=\"fill:#1f77b4;fill-opacity:0.8;stroke:#1f77b4;stroke-opacity:0.8;\" x=\"144.975979\" xlink:href=\"#mc646d53bc6\" y=\"198.496774\"/>\r\n     <use style=\"fill:#1f77b4;fill-opacity:0.8;stroke:#1f77b4;stroke-opacity:0.8;\" x=\"184.023503\" xlink:href=\"#mc646d53bc6\" y=\"183.273135\"/>\r\n     <use style=\"fill:#1f77b4;fill-opacity:0.8;stroke:#1f77b4;stroke-opacity:0.8;\" x=\"178.28122\" xlink:href=\"#mc646d53bc6\" y=\"146.614391\"/>\r\n     <use style=\"fill:#1f77b4;fill-opacity:0.8;stroke:#1f77b4;stroke-opacity:0.8;\" x=\"227.664853\" xlink:href=\"#mc646d53bc6\" y=\"104.980135\"/>\r\n     <use style=\"fill:#1f77b4;fill-opacity:0.8;stroke:#1f77b4;stroke-opacity:0.8;\" x=\"227.664853\" xlink:href=\"#mc646d53bc6\" y=\"99.038043\"/>\r\n     <use style=\"fill:#1f77b4;fill-opacity:0.8;stroke:#1f77b4;stroke-opacity:0.8;\" x=\"227.664853\" xlink:href=\"#mc646d53bc6\" y=\"87.15386\"/>\r\n     <use style=\"fill:#1f77b4;fill-opacity:0.8;stroke:#1f77b4;stroke-opacity:0.8;\" x=\"156.460545\" xlink:href=\"#mc646d53bc6\" y=\"197.015213\"/>\r\n     <use style=\"fill:#1f77b4;fill-opacity:0.8;stroke:#1f77b4;stroke-opacity:0.8;\" x=\"156.460545\" xlink:href=\"#mc646d53bc6\" y=\"194.638376\"/>\r\n     <use style=\"fill:#1f77b4;fill-opacity:0.8;stroke:#1f77b4;stroke-opacity:0.8;\" x=\"143.827522\" xlink:href=\"#mc646d53bc6\" y=\"186.89385\"/>\r\n     <use style=\"fill:#1f77b4;fill-opacity:0.8;stroke:#1f77b4;stroke-opacity:0.8;\" x=\"143.827522\" xlink:href=\"#mc646d53bc6\" y=\"185.626204\"/>\r\n     <use style=\"fill:#1f77b4;fill-opacity:0.8;stroke:#1f77b4;stroke-opacity:0.8;\" x=\"143.827522\" xlink:href=\"#mc646d53bc6\" y=\"174.257001\"/>\r\n     <use style=\"fill:#1f77b4;fill-opacity:0.8;stroke:#1f77b4;stroke-opacity:0.8;\" x=\"143.827522\" xlink:href=\"#mc646d53bc6\" y=\"172.395146\"/>\r\n     <use style=\"fill:#1f77b4;fill-opacity:0.8;stroke:#1f77b4;stroke-opacity:0.8;\" x=\"143.827522\" xlink:href=\"#mc646d53bc6\" y=\"161.937065\"/>\r\n     <use style=\"fill:#1f77b4;fill-opacity:0.8;stroke:#1f77b4;stroke-opacity:0.8;\" x=\"143.827522\" xlink:href=\"#mc646d53bc6\" y=\"160.075209\"/>\r\n     <use style=\"fill:#1f77b4;fill-opacity:0.8;stroke:#1f77b4;stroke-opacity:0.8;\" x=\"116.264564\" xlink:href=\"#mc646d53bc6\" y=\"213.561957\"/>\r\n     <use style=\"fill:#1f77b4;fill-opacity:0.8;stroke:#1f77b4;stroke-opacity:0.8;\" x=\"128.897586\" xlink:href=\"#mc646d53bc6\" y=\"205.896659\"/>\r\n     <use style=\"fill:#1f77b4;fill-opacity:0.8;stroke:#1f77b4;stroke-opacity:0.8;\" x=\"128.897586\" xlink:href=\"#mc646d53bc6\" y=\"203.717892\"/>\r\n     <use style=\"fill:#1f77b4;fill-opacity:0.8;stroke:#1f77b4;stroke-opacity:0.8;\" x=\"128.897586\" xlink:href=\"#mc646d53bc6\" y=\"205.607477\"/>\r\n     <use style=\"fill:#1f77b4;fill-opacity:0.8;stroke:#1f77b4;stroke-opacity:0.8;\" x=\"128.897586\" xlink:href=\"#mc646d53bc6\" y=\"203.036532\"/>\r\n     <use style=\"fill:#1f77b4;fill-opacity:0.8;stroke:#1f77b4;stroke-opacity:0.8;\" x=\"128.897586\" xlink:href=\"#mc646d53bc6\" y=\"194.380885\"/>\r\n     <use style=\"fill:#1f77b4;fill-opacity:0.8;stroke:#1f77b4;stroke-opacity:0.8;\" x=\"128.897586\" xlink:href=\"#mc646d53bc6\" y=\"197.260819\"/>\r\n     <use style=\"fill:#1f77b4;fill-opacity:0.8;stroke:#1f77b4;stroke-opacity:0.8;\" x=\"128.897586\" xlink:href=\"#mc646d53bc6\" y=\"189.235034\"/>\r\n     <use style=\"fill:#1f77b4;fill-opacity:0.8;stroke:#1f77b4;stroke-opacity:0.8;\" x=\"128.897586\" xlink:href=\"#mc646d53bc6\" y=\"204.272487\"/>\r\n     <use style=\"fill:#1f77b4;fill-opacity:0.8;stroke:#1f77b4;stroke-opacity:0.8;\" x=\"128.897586\" xlink:href=\"#mc646d53bc6\" y=\"193.438073\"/>\r\n     <use style=\"fill:#1f77b4;fill-opacity:0.8;stroke:#1f77b4;stroke-opacity:0.8;\" x=\"128.897586\" xlink:href=\"#mc646d53bc6\" y=\"202.09372\"/>\r\n     <use style=\"fill:#1f77b4;fill-opacity:0.8;stroke:#1f77b4;stroke-opacity:0.8;\" x=\"128.897586\" xlink:href=\"#mc646d53bc6\" y=\"187.511827\"/>\r\n     <use style=\"fill:#1f77b4;fill-opacity:0.8;stroke:#1f77b4;stroke-opacity:0.8;\" x=\"110.522281\" xlink:href=\"#mc646d53bc6\" y=\"212.650837\"/>\r\n     <use style=\"fill:#1f77b4;fill-opacity:0.8;stroke:#1f77b4;stroke-opacity:0.8;\" x=\"110.522281\" xlink:href=\"#mc646d53bc6\" y=\"208.729056\"/>\r\n     <use style=\"fill:#1f77b4;fill-opacity:0.8;stroke:#1f77b4;stroke-opacity:0.8;\" x=\"110.522281\" xlink:href=\"#mc646d53bc6\" y=\"208.134847\"/>\r\n     <use style=\"fill:#1f77b4;fill-opacity:0.8;stroke:#1f77b4;stroke-opacity:0.8;\" x=\"110.522281\" xlink:href=\"#mc646d53bc6\" y=\"206.431447\"/>\r\n     <use style=\"fill:#1f77b4;fill-opacity:0.8;stroke:#1f77b4;stroke-opacity:0.8;\" x=\"110.522281\" xlink:href=\"#mc646d53bc6\" y=\"202.549281\"/>\r\n     <use style=\"fill:#1f77b4;fill-opacity:0.8;stroke:#1f77b4;stroke-opacity:0.8;\" x=\"110.522281\" xlink:href=\"#mc646d53bc6\" y=\"199.063254\"/>\r\n     <use style=\"fill:#1f77b4;fill-opacity:0.8;stroke:#1f77b4;stroke-opacity:0.8;\" x=\"117.413021\" xlink:href=\"#mc646d53bc6\" y=\"206.352219\"/>\r\n     <use style=\"fill:#1f77b4;fill-opacity:0.8;stroke:#1f77b4;stroke-opacity:0.8;\" x=\"117.413021\" xlink:href=\"#mc646d53bc6\" y=\"205.322257\"/>\r\n     <use style=\"fill:#1f77b4;fill-opacity:0.8;stroke:#1f77b4;stroke-opacity:0.8;\" x=\"131.1945\" xlink:href=\"#mc646d53bc6\" y=\"202.549281\"/>\r\n     <use style=\"fill:#1f77b4;fill-opacity:0.8;stroke:#1f77b4;stroke-opacity:0.8;\" x=\"131.1945\" xlink:href=\"#mc646d53bc6\" y=\"202.985034\"/>\r\n     <use style=\"fill:#1f77b4;fill-opacity:0.8;stroke:#1f77b4;stroke-opacity:0.8;\" x=\"117.413021\" xlink:href=\"#mc646d53bc6\" y=\"203.183104\"/>\r\n     <use style=\"fill:#1f77b4;fill-opacity:0.8;stroke:#1f77b4;stroke-opacity:0.8;\" x=\"117.413021\" xlink:href=\"#mc646d53bc6\" y=\"200.727039\"/>\r\n     <use style=\"fill:#1f77b4;fill-opacity:0.8;stroke:#1f77b4;stroke-opacity:0.8;\" x=\"117.413021\" xlink:href=\"#mc646d53bc6\" y=\"197.161784\"/>\r\n     <use style=\"fill:#1f77b4;fill-opacity:0.8;stroke:#1f77b4;stroke-opacity:0.8;\" x=\"117.413021\" xlink:href=\"#mc646d53bc6\" y=\"201.915458\"/>\r\n     <use style=\"fill:#1f77b4;fill-opacity:0.8;stroke:#1f77b4;stroke-opacity:0.8;\" x=\"117.413021\" xlink:href=\"#mc646d53bc6\" y=\"201.202407\"/>\r\n     <use style=\"fill:#1f77b4;fill-opacity:0.8;stroke:#1f77b4;stroke-opacity:0.8;\" x=\"117.413021\" xlink:href=\"#mc646d53bc6\" y=\"197.003328\"/>\r\n     <use style=\"fill:#1f77b4;fill-opacity:0.8;stroke:#1f77b4;stroke-opacity:0.8;\" x=\"117.413021\" xlink:href=\"#mc646d53bc6\" y=\"196.052594\"/>\r\n     <use style=\"fill:#1f77b4;fill-opacity:0.8;stroke:#1f77b4;stroke-opacity:0.8;\" x=\"172.538937\" xlink:href=\"#mc646d53bc6\" y=\"200.366552\"/>\r\n     <use style=\"fill:#1f77b4;fill-opacity:0.8;stroke:#1f77b4;stroke-opacity:0.8;\" x=\"172.538937\" xlink:href=\"#mc646d53bc6\" y=\"195.652493\"/>\r\n     <use style=\"fill:#1f77b4;fill-opacity:0.8;stroke:#1f77b4;stroke-opacity:0.8;\" x=\"172.538937\" xlink:href=\"#mc646d53bc6\" y=\"194.266005\"/>\r\n     <use style=\"fill:#1f77b4;fill-opacity:0.8;stroke:#1f77b4;stroke-opacity:0.8;\" x=\"172.538937\" xlink:href=\"#mc646d53bc6\" y=\"189.472718\"/>\r\n     <use style=\"fill:#1f77b4;fill-opacity:0.8;stroke:#1f77b4;stroke-opacity:0.8;\" x=\"172.538937\" xlink:href=\"#mc646d53bc6\" y=\"188.08623\"/>\r\n     <use style=\"fill:#1f77b4;fill-opacity:0.8;stroke:#1f77b4;stroke-opacity:0.8;\" x=\"172.538937\" xlink:href=\"#mc646d53bc6\" y=\"163.842495\"/>\r\n     <use style=\"fill:#1f77b4;fill-opacity:0.8;stroke:#1f77b4;stroke-opacity:0.8;\" x=\"144.975979\" xlink:href=\"#mc646d53bc6\" y=\"198.389817\"/>\r\n     <use style=\"fill:#1f77b4;fill-opacity:0.8;stroke:#1f77b4;stroke-opacity:0.8;\" x=\"131.1945\" xlink:href=\"#mc646d53bc6\" y=\"191.457376\"/>\r\n     <use style=\"fill:#1f77b4;fill-opacity:0.8;stroke:#1f77b4;stroke-opacity:0.8;\" x=\"144.975979\" xlink:href=\"#mc646d53bc6\" y=\"194.269966\"/>\r\n     <use style=\"fill:#1f77b4;fill-opacity:0.8;stroke:#1f77b4;stroke-opacity:0.8;\" x=\"144.975979\" xlink:href=\"#mc646d53bc6\" y=\"190.665097\"/>\r\n     <use style=\"fill:#1f77b4;fill-opacity:0.8;stroke:#1f77b4;stroke-opacity:0.8;\" x=\"144.975979\" xlink:href=\"#mc646d53bc6\" y=\"189.278609\"/>\r\n     <use style=\"fill:#1f77b4;fill-opacity:0.8;stroke:#1f77b4;stroke-opacity:0.8;\" x=\"201.250352\" xlink:href=\"#mc646d53bc6\" y=\"168.243605\"/>\r\n     <use style=\"fill:#1f77b4;fill-opacity:0.8;stroke:#1f77b4;stroke-opacity:0.8;\" x=\"201.250352\" xlink:href=\"#mc646d53bc6\" y=\"170.461985\"/>\r\n     <use style=\"fill:#1f77b4;fill-opacity:0.8;stroke:#1f77b4;stroke-opacity:0.8;\" x=\"201.250352\" xlink:href=\"#mc646d53bc6\" y=\"171.682095\"/>\r\n     <use style=\"fill:#1f77b4;fill-opacity:0.8;stroke:#1f77b4;stroke-opacity:0.8;\" x=\"189.765786\" xlink:href=\"#mc646d53bc6\" y=\"171.444411\"/>\r\n     <use style=\"fill:#1f77b4;fill-opacity:0.8;stroke:#1f77b4;stroke-opacity:0.8;\" x=\"116.264564\" xlink:href=\"#mc646d53bc6\" y=\"203.036532\"/>\r\n     <use style=\"fill:#1f77b4;fill-opacity:0.8;stroke:#1f77b4;stroke-opacity:0.8;\" x=\"130.046043\" xlink:href=\"#mc646d53bc6\" y=\"202.244253\"/>\r\n     <use style=\"fill:#1f77b4;fill-opacity:0.8;stroke:#1f77b4;stroke-opacity:0.8;\" x=\"116.264564\" xlink:href=\"#mc646d53bc6\" y=\"202.165025\"/>\r\n     <use style=\"fill:#1f77b4;fill-opacity:0.8;stroke:#1f77b4;stroke-opacity:0.8;\" x=\"130.046043\" xlink:href=\"#mc646d53bc6\" y=\"201.372747\"/>\r\n     <use style=\"fill:#1f77b4;fill-opacity:0.8;stroke:#1f77b4;stroke-opacity:0.8;\" x=\"130.046043\" xlink:href=\"#mc646d53bc6\" y=\"200.184328\"/>\r\n     <use style=\"fill:#1f77b4;fill-opacity:0.8;stroke:#1f77b4;stroke-opacity:0.8;\" x=\"116.264564\" xlink:href=\"#mc646d53bc6\" y=\"196.222934\"/>\r\n     <use style=\"fill:#1f77b4;fill-opacity:0.8;stroke:#1f77b4;stroke-opacity:0.8;\" x=\"130.046043\" xlink:href=\"#mc646d53bc6\" y=\"194.242237\"/>\r\n     <use style=\"fill:#1f77b4;fill-opacity:0.8;stroke:#1f77b4;stroke-opacity:0.8;\" x=\"130.046043\" xlink:href=\"#mc646d53bc6\" y=\"187.904005\"/>\r\n     <use style=\"fill:#1f77b4;fill-opacity:0.8;stroke:#1f77b4;stroke-opacity:0.8;\" x=\"130.046043\" xlink:href=\"#mc646d53bc6\" y=\"194.301657\"/>\r\n     <use style=\"fill:#1f77b4;fill-opacity:0.8;stroke:#1f77b4;stroke-opacity:0.8;\" x=\"161.054371\" xlink:href=\"#mc646d53bc6\" y=\"181.169635\"/>\r\n     <use style=\"fill:#1f77b4;fill-opacity:0.8;stroke:#1f77b4;stroke-opacity:0.8;\" x=\"116.264564\" xlink:href=\"#mc646d53bc6\" y=\"178.990868\"/>\r\n     <use style=\"fill:#1f77b4;fill-opacity:0.8;stroke:#1f77b4;stroke-opacity:0.8;\" x=\"130.046043\" xlink:href=\"#mc646d53bc6\" y=\"185.150836\"/>\r\n     <use style=\"fill:#1f77b4;fill-opacity:0.8;stroke:#1f77b4;stroke-opacity:0.8;\" x=\"166.796654\" xlink:href=\"#mc646d53bc6\" y=\"182.57593\"/>\r\n     <use style=\"fill:#1f77b4;fill-opacity:0.8;stroke:#1f77b4;stroke-opacity:0.8;\" x=\"166.796654\" xlink:href=\"#mc646d53bc6\" y=\"180.694267\"/>\r\n     <use style=\"fill:#1f77b4;fill-opacity:0.8;stroke:#1f77b4;stroke-opacity:0.8;\" x=\"166.796654\" xlink:href=\"#mc646d53bc6\" y=\"170.513484\"/>\r\n     <use style=\"fill:#1f77b4;fill-opacity:0.8;stroke:#1f77b4;stroke-opacity:0.8;\" x=\"166.796654\" xlink:href=\"#mc646d53bc6\" y=\"168.413945\"/>\r\n     <use style=\"fill:#1f77b4;fill-opacity:0.8;stroke:#1f77b4;stroke-opacity:0.8;\" x=\"154.163631\" xlink:href=\"#mc646d53bc6\" y=\"160.867488\"/>\r\n     <use style=\"fill:#1f77b4;fill-opacity:0.8;stroke:#1f77b4;stroke-opacity:0.8;\" x=\"154.163631\" xlink:href=\"#mc646d53bc6\" y=\"158.767949\"/>\r\n     <use style=\"fill:#1f77b4;fill-opacity:0.8;stroke:#1f77b4;stroke-opacity:0.8;\" x=\"166.796654\" xlink:href=\"#mc646d53bc6\" y=\"167.106684\"/>\r\n     <use style=\"fill:#1f77b4;fill-opacity:0.8;stroke:#1f77b4;stroke-opacity:0.8;\" x=\"166.796654\" xlink:href=\"#mc646d53bc6\" y=\"158.391617\"/>\r\n     <use style=\"fill:#1f77b4;fill-opacity:0.8;stroke:#1f77b4;stroke-opacity:0.8;\" x=\"203.547265\" xlink:href=\"#mc646d53bc6\" y=\"148.725814\"/>\r\n     <use style=\"fill:#1f77b4;fill-opacity:0.8;stroke:#1f77b4;stroke-opacity:0.8;\" x=\"171.39048\" xlink:href=\"#mc646d53bc6\" y=\"144.82384\"/>\r\n     <use style=\"fill:#1f77b4;fill-opacity:0.8;stroke:#1f77b4;stroke-opacity:0.8;\" x=\"166.796654\" xlink:href=\"#mc646d53bc6\" y=\"144.209824\"/>\r\n    </g>\r\n   </g>\r\n   <g id=\"PolyCollection_1\">\r\n    <path clip-path=\"url(#p3a28d157e9)\" d=\"M 74.920127 220.756968 \r\nL 74.920127 229.874489 \r\nL 77.994278 227.878056 \r\nL 81.06843 225.878675 \r\nL 84.142581 223.885192 \r\nL 87.216733 221.925743 \r\nL 90.290884 219.935293 \r\nL 93.365036 218.003833 \r\nL 96.439187 216.093476 \r\nL 99.513339 214.182161 \r\nL 102.58749 212.277228 \r\nL 105.661642 210.370008 \r\nL 108.735793 208.429615 \r\nL 111.809944 206.482621 \r\nL 114.884096 204.466312 \r\nL 117.958247 202.567795 \r\nL 121.032399 200.672674 \r\nL 124.10655 198.802983 \r\nL 127.180702 196.923493 \r\nL 130.254853 195.098475 \r\nL 133.329005 193.34902 \r\nL 136.403156 191.563052 \r\nL 139.477308 189.780593 \r\nL 142.551459 188.089841 \r\nL 145.625611 186.351475 \r\nL 148.699762 184.659659 \r\nL 151.773914 182.957045 \r\nL 154.848065 181.267846 \r\nL 157.922217 179.645321 \r\nL 160.996368 178.022363 \r\nL 164.07052 176.405322 \r\nL 167.144671 174.864921 \r\nL 170.218823 173.282275 \r\nL 173.292974 171.639825 \r\nL 176.367126 170.048913 \r\nL 179.441277 168.459505 \r\nL 182.515429 166.871562 \r\nL 185.58958 165.282026 \r\nL 188.663731 163.670333 \r\nL 191.737883 162.045325 \r\nL 194.812034 160.475441 \r\nL 197.886186 158.85997 \r\nL 200.960337 157.252353 \r\nL 204.034489 155.653009 \r\nL 207.10864 154.058716 \r\nL 210.182792 152.473586 \r\nL 213.256943 150.898013 \r\nL 216.331095 149.328875 \r\nL 219.405246 147.773477 \r\nL 222.479398 146.211451 \r\nL 225.553549 144.649882 \r\nL 228.627701 143.088367 \r\nL 231.701852 141.526663 \r\nL 234.776004 139.964449 \r\nL 237.850155 138.401626 \r\nL 240.924307 136.829676 \r\nL 243.998458 135.23685 \r\nL 247.07261 133.643639 \r\nL 250.146761 132.063994 \r\nL 253.220913 130.519579 \r\nL 256.295064 128.936959 \r\nL 259.369216 127.354339 \r\nL 262.443367 125.771583 \r\nL 265.517519 124.188367 \r\nL 268.59167 122.605151 \r\nL 271.665821 121.021935 \r\nL 274.739973 119.438129 \r\nL 277.814124 117.869169 \r\nL 280.888276 116.314976 \r\nL 283.962427 114.760782 \r\nL 287.036579 113.206589 \r\nL 290.11073 111.652396 \r\nL 293.184882 110.080551 \r\nL 296.259033 108.489365 \r\nL 299.333185 106.897445 \r\nL 302.407336 105.305078 \r\nL 305.481488 103.742842 \r\nL 308.555639 102.162182 \r\nL 311.629791 100.562833 \r\nL 314.703942 98.963484 \r\nL 317.778094 97.364135 \r\nL 320.852245 95.795714 \r\nL 323.926397 94.234606 \r\nL 327.000548 92.673225 \r\nL 330.0747 91.111845 \r\nL 333.148851 89.550464 \r\nL 336.223003 87.989084 \r\nL 339.297154 86.427703 \r\nL 342.371306 84.866323 \r\nL 345.445457 83.304942 \r\nL 348.519608 81.743562 \r\nL 351.59376 80.175625 \r\nL 354.667911 78.590838 \r\nL 357.742063 77.00602 \r\nL 360.816214 75.427257 \r\nL 363.890366 73.843748 \r\nL 366.964517 72.260186 \r\nL 370.038669 70.676623 \r\nL 373.11282 69.09306 \r\nL 376.186972 67.509497 \r\nL 379.261123 65.925934 \r\nL 379.261123 32.201761 \r\nL 379.261123 32.201761 \r\nL 376.186972 34.198596 \r\nL 373.11282 36.195431 \r\nL 370.038669 38.192266 \r\nL 366.964517 40.189102 \r\nL 363.890366 42.185937 \r\nL 360.816214 44.182772 \r\nL 357.742063 46.179607 \r\nL 354.667911 48.176442 \r\nL 351.59376 50.173277 \r\nL 348.519608 52.170112 \r\nL 345.445457 54.166947 \r\nL 342.371306 56.163782 \r\nL 339.297154 58.160617 \r\nL 336.223003 60.157452 \r\nL 333.148851 62.154287 \r\nL 330.0747 64.151122 \r\nL 327.000548 66.147957 \r\nL 323.926397 68.144792 \r\nL 320.852245 70.141627 \r\nL 317.778094 72.138462 \r\nL 314.703942 74.135297 \r\nL 311.629791 76.132132 \r\nL 308.555639 78.108869 \r\nL 305.481488 80.075845 \r\nL 302.407336 82.04282 \r\nL 299.333185 84.009795 \r\nL 296.259033 85.97677 \r\nL 293.184882 87.974471 \r\nL 290.11073 89.980568 \r\nL 287.036579 91.986665 \r\nL 283.962427 93.98785 \r\nL 280.888276 95.969325 \r\nL 277.814124 97.9508 \r\nL 274.739973 99.932274 \r\nL 271.665821 101.913749 \r\nL 268.59167 103.895224 \r\nL 265.517519 105.876698 \r\nL 262.443367 107.858173 \r\nL 259.369216 109.839648 \r\nL 256.295064 111.813122 \r\nL 253.220913 113.759608 \r\nL 250.146761 115.706095 \r\nL 247.07261 117.652581 \r\nL 243.998458 119.599567 \r\nL 240.924307 121.547483 \r\nL 237.850155 123.495399 \r\nL 234.776004 125.452407 \r\nL 231.701852 127.393977 \r\nL 228.627701 129.335547 \r\nL 225.553549 131.280069 \r\nL 222.479398 133.225943 \r\nL 219.405246 135.257638 \r\nL 216.331095 137.309328 \r\nL 213.256943 139.361018 \r\nL 210.182792 141.412708 \r\nL 207.10864 143.394582 \r\nL 204.034489 145.344455 \r\nL 200.960337 147.298107 \r\nL 197.886186 149.310342 \r\nL 194.812034 151.326435 \r\nL 191.737883 153.345168 \r\nL 188.663731 155.3408 \r\nL 185.58958 157.326661 \r\nL 182.515429 159.237301 \r\nL 179.441277 161.306059 \r\nL 176.367126 163.267291 \r\nL 173.292974 165.169484 \r\nL 170.218823 167.144261 \r\nL 167.144671 168.96794 \r\nL 164.07052 170.867548 \r\nL 160.996368 172.799172 \r\nL 157.922217 174.732281 \r\nL 154.848065 176.631448 \r\nL 151.773914 178.519264 \r\nL 148.699762 180.449153 \r\nL 145.625611 182.323813 \r\nL 142.551459 184.206342 \r\nL 139.477308 186.056401 \r\nL 136.403156 187.891534 \r\nL 133.329005 189.697606 \r\nL 130.254853 191.47361 \r\nL 127.180702 193.168406 \r\nL 124.10655 194.894889 \r\nL 121.032399 196.564702 \r\nL 117.958247 198.225367 \r\nL 114.884096 199.889891 \r\nL 111.809944 201.543401 \r\nL 108.735793 203.193257 \r\nL 105.661642 204.818587 \r\nL 102.58749 206.397603 \r\nL 99.513339 208.03025 \r\nL 96.439187 209.588312 \r\nL 93.365036 211.145262 \r\nL 90.290884 212.789574 \r\nL 87.216733 214.372085 \r\nL 84.142581 215.984929 \r\nL 81.06843 217.629143 \r\nL 77.994278 219.19017 \r\nL 74.920127 220.756968 \r\nz\r\n\" style=\"fill:#1f77b4;fill-opacity:0.15;\"/>\r\n   </g>\r\n   <g id=\"matplotlib.axis_1\">\r\n    <g id=\"xtick_1\">\r\n     <g id=\"line2d_1\">\r\n      <defs>\r\n       <path d=\"M 0 0 \r\nL 0 3.5 \r\n\" id=\"m47eb4db3ac\" style=\"stroke:#000000;stroke-width:0.8;\"/>\r\n      </defs>\r\n      <g>\r\n       <use style=\"stroke:#000000;stroke-width:0.8;\" x=\"62.287104\" xlink:href=\"#m47eb4db3ac\" y=\"239.758125\"/>\r\n      </g>\r\n     </g>\r\n     <g id=\"text_1\">\r\n      <!-- 50 -->\r\n      <defs>\r\n       <path d=\"M 10.796875 72.90625 \r\nL 49.515625 72.90625 \r\nL 49.515625 64.59375 \r\nL 19.828125 64.59375 \r\nL 19.828125 46.734375 \r\nQ 21.96875 47.46875 24.109375 47.828125 \r\nQ 26.265625 48.1875 28.421875 48.1875 \r\nQ 40.625 48.1875 47.75 41.5 \r\nQ 54.890625 34.8125 54.890625 23.390625 \r\nQ 54.890625 11.625 47.5625 5.09375 \r\nQ 40.234375 -1.421875 26.90625 -1.421875 \r\nQ 22.3125 -1.421875 17.546875 -0.640625 \r\nQ 12.796875 0.140625 7.71875 1.703125 \r\nL 7.71875 11.625 \r\nQ 12.109375 9.234375 16.796875 8.0625 \r\nQ 21.484375 6.890625 26.703125 6.890625 \r\nQ 35.15625 6.890625 40.078125 11.328125 \r\nQ 45.015625 15.765625 45.015625 23.390625 \r\nQ 45.015625 31 40.078125 35.4375 \r\nQ 35.15625 39.890625 26.703125 39.890625 \r\nQ 22.75 39.890625 18.8125 39.015625 \r\nQ 14.890625 38.140625 10.796875 36.28125 \r\nz\r\n\" id=\"DejaVuSans-53\"/>\r\n       <path d=\"M 31.78125 66.40625 \r\nQ 24.171875 66.40625 20.328125 58.90625 \r\nQ 16.5 51.421875 16.5 36.375 \r\nQ 16.5 21.390625 20.328125 13.890625 \r\nQ 24.171875 6.390625 31.78125 6.390625 \r\nQ 39.453125 6.390625 43.28125 13.890625 \r\nQ 47.125 21.390625 47.125 36.375 \r\nQ 47.125 51.421875 43.28125 58.90625 \r\nQ 39.453125 66.40625 31.78125 66.40625 \r\nz\r\nM 31.78125 74.21875 \r\nQ 44.046875 74.21875 50.515625 64.515625 \r\nQ 56.984375 54.828125 56.984375 36.375 \r\nQ 56.984375 17.96875 50.515625 8.265625 \r\nQ 44.046875 -1.421875 31.78125 -1.421875 \r\nQ 19.53125 -1.421875 13.0625 8.265625 \r\nQ 6.59375 17.96875 6.59375 36.375 \r\nQ 6.59375 54.828125 13.0625 64.515625 \r\nQ 19.53125 74.21875 31.78125 74.21875 \r\nz\r\n\" id=\"DejaVuSans-48\"/>\r\n      </defs>\r\n      <g transform=\"translate(55.924604 254.356562)scale(0.1 -0.1)\">\r\n       <use xlink:href=\"#DejaVuSans-53\"/>\r\n       <use x=\"63.623047\" xlink:href=\"#DejaVuSans-48\"/>\r\n      </g>\r\n     </g>\r\n    </g>\r\n    <g id=\"xtick_2\">\r\n     <g id=\"line2d_2\">\r\n      <g>\r\n       <use style=\"stroke:#000000;stroke-width:0.8;\" x=\"119.709934\" xlink:href=\"#m47eb4db3ac\" y=\"239.758125\"/>\r\n      </g>\r\n     </g>\r\n     <g id=\"text_2\">\r\n      <!-- 100 -->\r\n      <defs>\r\n       <path d=\"M 12.40625 8.296875 \r\nL 28.515625 8.296875 \r\nL 28.515625 63.921875 \r\nL 10.984375 60.40625 \r\nL 10.984375 69.390625 \r\nL 28.421875 72.90625 \r\nL 38.28125 72.90625 \r\nL 38.28125 8.296875 \r\nL 54.390625 8.296875 \r\nL 54.390625 0 \r\nL 12.40625 0 \r\nz\r\n\" id=\"DejaVuSans-49\"/>\r\n      </defs>\r\n      <g transform=\"translate(110.166184 254.356562)scale(0.1 -0.1)\">\r\n       <use xlink:href=\"#DejaVuSans-49\"/>\r\n       <use x=\"63.623047\" xlink:href=\"#DejaVuSans-48\"/>\r\n       <use x=\"127.246094\" xlink:href=\"#DejaVuSans-48\"/>\r\n      </g>\r\n     </g>\r\n    </g>\r\n    <g id=\"xtick_3\">\r\n     <g id=\"line2d_3\">\r\n      <g>\r\n       <use style=\"stroke:#000000;stroke-width:0.8;\" x=\"177.132763\" xlink:href=\"#m47eb4db3ac\" y=\"239.758125\"/>\r\n      </g>\r\n     </g>\r\n     <g id=\"text_3\">\r\n      <!-- 150 -->\r\n      <g transform=\"translate(167.589013 254.356562)scale(0.1 -0.1)\">\r\n       <use xlink:href=\"#DejaVuSans-49\"/>\r\n       <use x=\"63.623047\" xlink:href=\"#DejaVuSans-53\"/>\r\n       <use x=\"127.246094\" xlink:href=\"#DejaVuSans-48\"/>\r\n      </g>\r\n     </g>\r\n    </g>\r\n    <g id=\"xtick_4\">\r\n     <g id=\"line2d_4\">\r\n      <g>\r\n       <use style=\"stroke:#000000;stroke-width:0.8;\" x=\"234.555593\" xlink:href=\"#m47eb4db3ac\" y=\"239.758125\"/>\r\n      </g>\r\n     </g>\r\n     <g id=\"text_4\">\r\n      <!-- 200 -->\r\n      <defs>\r\n       <path d=\"M 19.1875 8.296875 \r\nL 53.609375 8.296875 \r\nL 53.609375 0 \r\nL 7.328125 0 \r\nL 7.328125 8.296875 \r\nQ 12.9375 14.109375 22.625 23.890625 \r\nQ 32.328125 33.6875 34.8125 36.53125 \r\nQ 39.546875 41.84375 41.421875 45.53125 \r\nQ 43.3125 49.21875 43.3125 52.78125 \r\nQ 43.3125 58.59375 39.234375 62.25 \r\nQ 35.15625 65.921875 28.609375 65.921875 \r\nQ 23.96875 65.921875 18.8125 64.3125 \r\nQ 13.671875 62.703125 7.8125 59.421875 \r\nL 7.8125 69.390625 \r\nQ 13.765625 71.78125 18.9375 73 \r\nQ 24.125 74.21875 28.421875 74.21875 \r\nQ 39.75 74.21875 46.484375 68.546875 \r\nQ 53.21875 62.890625 53.21875 53.421875 \r\nQ 53.21875 48.921875 51.53125 44.890625 \r\nQ 49.859375 40.875 45.40625 35.40625 \r\nQ 44.1875 33.984375 37.640625 27.21875 \r\nQ 31.109375 20.453125 19.1875 8.296875 \r\nz\r\n\" id=\"DejaVuSans-50\"/>\r\n      </defs>\r\n      <g transform=\"translate(225.011843 254.356562)scale(0.1 -0.1)\">\r\n       <use xlink:href=\"#DejaVuSans-50\"/>\r\n       <use x=\"63.623047\" xlink:href=\"#DejaVuSans-48\"/>\r\n       <use x=\"127.246094\" xlink:href=\"#DejaVuSans-48\"/>\r\n      </g>\r\n     </g>\r\n    </g>\r\n    <g id=\"xtick_5\">\r\n     <g id=\"line2d_5\">\r\n      <g>\r\n       <use style=\"stroke:#000000;stroke-width:0.8;\" x=\"291.978422\" xlink:href=\"#m47eb4db3ac\" y=\"239.758125\"/>\r\n      </g>\r\n     </g>\r\n     <g id=\"text_5\">\r\n      <!-- 250 -->\r\n      <g transform=\"translate(282.434672 254.356562)scale(0.1 -0.1)\">\r\n       <use xlink:href=\"#DejaVuSans-50\"/>\r\n       <use x=\"63.623047\" xlink:href=\"#DejaVuSans-53\"/>\r\n       <use x=\"127.246094\" xlink:href=\"#DejaVuSans-48\"/>\r\n      </g>\r\n     </g>\r\n    </g>\r\n    <g id=\"xtick_6\">\r\n     <g id=\"line2d_6\">\r\n      <g>\r\n       <use style=\"stroke:#000000;stroke-width:0.8;\" x=\"349.401252\" xlink:href=\"#m47eb4db3ac\" y=\"239.758125\"/>\r\n      </g>\r\n     </g>\r\n     <g id=\"text_6\">\r\n      <!-- 300 -->\r\n      <defs>\r\n       <path d=\"M 40.578125 39.3125 \r\nQ 47.65625 37.796875 51.625 33 \r\nQ 55.609375 28.21875 55.609375 21.1875 \r\nQ 55.609375 10.40625 48.1875 4.484375 \r\nQ 40.765625 -1.421875 27.09375 -1.421875 \r\nQ 22.515625 -1.421875 17.65625 -0.515625 \r\nQ 12.796875 0.390625 7.625 2.203125 \r\nL 7.625 11.71875 \r\nQ 11.71875 9.328125 16.59375 8.109375 \r\nQ 21.484375 6.890625 26.8125 6.890625 \r\nQ 36.078125 6.890625 40.9375 10.546875 \r\nQ 45.796875 14.203125 45.796875 21.1875 \r\nQ 45.796875 27.640625 41.28125 31.265625 \r\nQ 36.765625 34.90625 28.71875 34.90625 \r\nL 20.21875 34.90625 \r\nL 20.21875 43.015625 \r\nL 29.109375 43.015625 \r\nQ 36.375 43.015625 40.234375 45.921875 \r\nQ 44.09375 48.828125 44.09375 54.296875 \r\nQ 44.09375 59.90625 40.109375 62.90625 \r\nQ 36.140625 65.921875 28.71875 65.921875 \r\nQ 24.65625 65.921875 20.015625 65.03125 \r\nQ 15.375 64.15625 9.8125 62.3125 \r\nL 9.8125 71.09375 \r\nQ 15.4375 72.65625 20.34375 73.4375 \r\nQ 25.25 74.21875 29.59375 74.21875 \r\nQ 40.828125 74.21875 47.359375 69.109375 \r\nQ 53.90625 64.015625 53.90625 55.328125 \r\nQ 53.90625 49.265625 50.4375 45.09375 \r\nQ 46.96875 40.921875 40.578125 39.3125 \r\nz\r\n\" id=\"DejaVuSans-51\"/>\r\n      </defs>\r\n      <g transform=\"translate(339.857502 254.356562)scale(0.1 -0.1)\">\r\n       <use xlink:href=\"#DejaVuSans-51\"/>\r\n       <use x=\"63.623047\" xlink:href=\"#DejaVuSans-48\"/>\r\n       <use x=\"127.246094\" xlink:href=\"#DejaVuSans-48\"/>\r\n      </g>\r\n     </g>\r\n    </g>\r\n    <g id=\"text_7\">\r\n     <!-- engine-size -->\r\n     <defs>\r\n      <path d=\"M 56.203125 29.59375 \r\nL 56.203125 25.203125 \r\nL 14.890625 25.203125 \r\nQ 15.484375 15.921875 20.484375 11.0625 \r\nQ 25.484375 6.203125 34.421875 6.203125 \r\nQ 39.59375 6.203125 44.453125 7.46875 \r\nQ 49.3125 8.734375 54.109375 11.28125 \r\nL 54.109375 2.78125 \r\nQ 49.265625 0.734375 44.1875 -0.34375 \r\nQ 39.109375 -1.421875 33.890625 -1.421875 \r\nQ 20.796875 -1.421875 13.15625 6.1875 \r\nQ 5.515625 13.8125 5.515625 26.8125 \r\nQ 5.515625 40.234375 12.765625 48.109375 \r\nQ 20.015625 56 32.328125 56 \r\nQ 43.359375 56 49.78125 48.890625 \r\nQ 56.203125 41.796875 56.203125 29.59375 \r\nz\r\nM 47.21875 32.234375 \r\nQ 47.125 39.59375 43.09375 43.984375 \r\nQ 39.0625 48.390625 32.421875 48.390625 \r\nQ 24.90625 48.390625 20.390625 44.140625 \r\nQ 15.875 39.890625 15.1875 32.171875 \r\nz\r\n\" id=\"DejaVuSans-101\"/>\r\n      <path d=\"M 54.890625 33.015625 \r\nL 54.890625 0 \r\nL 45.90625 0 \r\nL 45.90625 32.71875 \r\nQ 45.90625 40.484375 42.875 44.328125 \r\nQ 39.84375 48.1875 33.796875 48.1875 \r\nQ 26.515625 48.1875 22.3125 43.546875 \r\nQ 18.109375 38.921875 18.109375 30.90625 \r\nL 18.109375 0 \r\nL 9.078125 0 \r\nL 9.078125 54.6875 \r\nL 18.109375 54.6875 \r\nL 18.109375 46.1875 \r\nQ 21.34375 51.125 25.703125 53.5625 \r\nQ 30.078125 56 35.796875 56 \r\nQ 45.21875 56 50.046875 50.171875 \r\nQ 54.890625 44.34375 54.890625 33.015625 \r\nz\r\n\" id=\"DejaVuSans-110\"/>\r\n      <path d=\"M 45.40625 27.984375 \r\nQ 45.40625 37.75 41.375 43.109375 \r\nQ 37.359375 48.484375 30.078125 48.484375 \r\nQ 22.859375 48.484375 18.828125 43.109375 \r\nQ 14.796875 37.75 14.796875 27.984375 \r\nQ 14.796875 18.265625 18.828125 12.890625 \r\nQ 22.859375 7.515625 30.078125 7.515625 \r\nQ 37.359375 7.515625 41.375 12.890625 \r\nQ 45.40625 18.265625 45.40625 27.984375 \r\nz\r\nM 54.390625 6.78125 \r\nQ 54.390625 -7.171875 48.1875 -13.984375 \r\nQ 42 -20.796875 29.203125 -20.796875 \r\nQ 24.46875 -20.796875 20.265625 -20.09375 \r\nQ 16.0625 -19.390625 12.109375 -17.921875 \r\nL 12.109375 -9.1875 \r\nQ 16.0625 -11.328125 19.921875 -12.34375 \r\nQ 23.78125 -13.375 27.78125 -13.375 \r\nQ 36.625 -13.375 41.015625 -8.765625 \r\nQ 45.40625 -4.15625 45.40625 5.171875 \r\nL 45.40625 9.625 \r\nQ 42.625 4.78125 38.28125 2.390625 \r\nQ 33.9375 0 27.875 0 \r\nQ 17.828125 0 11.671875 7.65625 \r\nQ 5.515625 15.328125 5.515625 27.984375 \r\nQ 5.515625 40.671875 11.671875 48.328125 \r\nQ 17.828125 56 27.875 56 \r\nQ 33.9375 56 38.28125 53.609375 \r\nQ 42.625 51.21875 45.40625 46.390625 \r\nL 45.40625 54.6875 \r\nL 54.390625 54.6875 \r\nz\r\n\" id=\"DejaVuSans-103\"/>\r\n      <path d=\"M 9.421875 54.6875 \r\nL 18.40625 54.6875 \r\nL 18.40625 0 \r\nL 9.421875 0 \r\nz\r\nM 9.421875 75.984375 \r\nL 18.40625 75.984375 \r\nL 18.40625 64.59375 \r\nL 9.421875 64.59375 \r\nz\r\n\" id=\"DejaVuSans-105\"/>\r\n      <path d=\"M 4.890625 31.390625 \r\nL 31.203125 31.390625 \r\nL 31.203125 23.390625 \r\nL 4.890625 23.390625 \r\nz\r\n\" id=\"DejaVuSans-45\"/>\r\n      <path d=\"M 44.28125 53.078125 \r\nL 44.28125 44.578125 \r\nQ 40.484375 46.53125 36.375 47.5 \r\nQ 32.28125 48.484375 27.875 48.484375 \r\nQ 21.1875 48.484375 17.84375 46.4375 \r\nQ 14.5 44.390625 14.5 40.28125 \r\nQ 14.5 37.15625 16.890625 35.375 \r\nQ 19.28125 33.59375 26.515625 31.984375 \r\nL 29.59375 31.296875 \r\nQ 39.15625 29.25 43.1875 25.515625 \r\nQ 47.21875 21.78125 47.21875 15.09375 \r\nQ 47.21875 7.46875 41.1875 3.015625 \r\nQ 35.15625 -1.421875 24.609375 -1.421875 \r\nQ 20.21875 -1.421875 15.453125 -0.5625 \r\nQ 10.6875 0.296875 5.421875 2 \r\nL 5.421875 11.28125 \r\nQ 10.40625 8.6875 15.234375 7.390625 \r\nQ 20.0625 6.109375 24.8125 6.109375 \r\nQ 31.15625 6.109375 34.5625 8.28125 \r\nQ 37.984375 10.453125 37.984375 14.40625 \r\nQ 37.984375 18.0625 35.515625 20.015625 \r\nQ 33.0625 21.96875 24.703125 23.78125 \r\nL 21.578125 24.515625 \r\nQ 13.234375 26.265625 9.515625 29.90625 \r\nQ 5.8125 33.546875 5.8125 39.890625 \r\nQ 5.8125 47.609375 11.28125 51.796875 \r\nQ 16.75 56 26.8125 56 \r\nQ 31.78125 56 36.171875 55.265625 \r\nQ 40.578125 54.546875 44.28125 53.078125 \r\nz\r\n\" id=\"DejaVuSans-115\"/>\r\n      <path d=\"M 5.515625 54.6875 \r\nL 48.1875 54.6875 \r\nL 48.1875 46.484375 \r\nL 14.40625 7.171875 \r\nL 48.1875 7.171875 \r\nL 48.1875 0 \r\nL 4.296875 0 \r\nL 4.296875 8.203125 \r\nL 38.09375 47.515625 \r\nL 5.515625 47.515625 \r\nz\r\n\" id=\"DejaVuSans-122\"/>\r\n     </defs>\r\n     <g transform=\"translate(198.538281 268.034687)scale(0.1 -0.1)\">\r\n      <use xlink:href=\"#DejaVuSans-101\"/>\r\n      <use x=\"61.523438\" xlink:href=\"#DejaVuSans-110\"/>\r\n      <use x=\"124.902344\" xlink:href=\"#DejaVuSans-103\"/>\r\n      <use x=\"188.378906\" xlink:href=\"#DejaVuSans-105\"/>\r\n      <use x=\"216.162109\" xlink:href=\"#DejaVuSans-110\"/>\r\n      <use x=\"279.541016\" xlink:href=\"#DejaVuSans-101\"/>\r\n      <use x=\"341.064453\" xlink:href=\"#DejaVuSans-45\"/>\r\n      <use x=\"377.148438\" xlink:href=\"#DejaVuSans-115\"/>\r\n      <use x=\"429.248047\" xlink:href=\"#DejaVuSans-105\"/>\r\n      <use x=\"457.03125\" xlink:href=\"#DejaVuSans-122\"/>\r\n      <use x=\"509.521484\" xlink:href=\"#DejaVuSans-101\"/>\r\n     </g>\r\n    </g>\r\n   </g>\r\n   <g id=\"matplotlib.axis_2\">\r\n    <g id=\"ytick_1\">\r\n     <g id=\"line2d_7\">\r\n      <defs>\r\n       <path d=\"M 0 0 \r\nL -3.5 0 \r\n\" id=\"mfe156317d1\" style=\"stroke:#000000;stroke-width:0.8;\"/>\r\n      </defs>\r\n      <g>\r\n       <use style=\"stroke:#000000;stroke-width:0.8;\" x=\"59.690625\" xlink:href=\"#mfe156317d1\" y=\"233.836374\"/>\r\n      </g>\r\n     </g>\r\n     <g id=\"text_8\">\r\n      <!-- 0 -->\r\n      <g transform=\"translate(46.328125 237.635593)scale(0.1 -0.1)\">\r\n       <use xlink:href=\"#DejaVuSans-48\"/>\r\n      </g>\r\n     </g>\r\n    </g>\r\n    <g id=\"ytick_2\">\r\n     <g id=\"line2d_8\">\r\n      <g>\r\n       <use style=\"stroke:#000000;stroke-width:0.8;\" x=\"59.690625\" xlink:href=\"#mfe156317d1\" y=\"194.22243\"/>\r\n      </g>\r\n     </g>\r\n     <g id=\"text_9\">\r\n      <!-- 10000 -->\r\n      <g transform=\"translate(20.878125 198.021648)scale(0.1 -0.1)\">\r\n       <use xlink:href=\"#DejaVuSans-49\"/>\r\n       <use x=\"63.623047\" xlink:href=\"#DejaVuSans-48\"/>\r\n       <use x=\"127.246094\" xlink:href=\"#DejaVuSans-48\"/>\r\n       <use x=\"190.869141\" xlink:href=\"#DejaVuSans-48\"/>\r\n       <use x=\"254.492188\" xlink:href=\"#DejaVuSans-48\"/>\r\n      </g>\r\n     </g>\r\n    </g>\r\n    <g id=\"ytick_3\">\r\n     <g id=\"line2d_9\">\r\n      <g>\r\n       <use style=\"stroke:#000000;stroke-width:0.8;\" x=\"59.690625\" xlink:href=\"#mfe156317d1\" y=\"154.608485\"/>\r\n      </g>\r\n     </g>\r\n     <g id=\"text_10\">\r\n      <!-- 20000 -->\r\n      <g transform=\"translate(20.878125 158.407704)scale(0.1 -0.1)\">\r\n       <use xlink:href=\"#DejaVuSans-50\"/>\r\n       <use x=\"63.623047\" xlink:href=\"#DejaVuSans-48\"/>\r\n       <use x=\"127.246094\" xlink:href=\"#DejaVuSans-48\"/>\r\n       <use x=\"190.869141\" xlink:href=\"#DejaVuSans-48\"/>\r\n       <use x=\"254.492188\" xlink:href=\"#DejaVuSans-48\"/>\r\n      </g>\r\n     </g>\r\n    </g>\r\n    <g id=\"ytick_4\">\r\n     <g id=\"line2d_10\">\r\n      <g>\r\n       <use style=\"stroke:#000000;stroke-width:0.8;\" x=\"59.690625\" xlink:href=\"#mfe156317d1\" y=\"114.99454\"/>\r\n      </g>\r\n     </g>\r\n     <g id=\"text_11\">\r\n      <!-- 30000 -->\r\n      <g transform=\"translate(20.878125 118.793759)scale(0.1 -0.1)\">\r\n       <use xlink:href=\"#DejaVuSans-51\"/>\r\n       <use x=\"63.623047\" xlink:href=\"#DejaVuSans-48\"/>\r\n       <use x=\"127.246094\" xlink:href=\"#DejaVuSans-48\"/>\r\n       <use x=\"190.869141\" xlink:href=\"#DejaVuSans-48\"/>\r\n       <use x=\"254.492188\" xlink:href=\"#DejaVuSans-48\"/>\r\n      </g>\r\n     </g>\r\n    </g>\r\n    <g id=\"ytick_5\">\r\n     <g id=\"line2d_11\">\r\n      <g>\r\n       <use style=\"stroke:#000000;stroke-width:0.8;\" x=\"59.690625\" xlink:href=\"#mfe156317d1\" y=\"75.380595\"/>\r\n      </g>\r\n     </g>\r\n     <g id=\"text_12\">\r\n      <!-- 40000 -->\r\n      <defs>\r\n       <path d=\"M 37.796875 64.3125 \r\nL 12.890625 25.390625 \r\nL 37.796875 25.390625 \r\nz\r\nM 35.203125 72.90625 \r\nL 47.609375 72.90625 \r\nL 47.609375 25.390625 \r\nL 58.015625 25.390625 \r\nL 58.015625 17.1875 \r\nL 47.609375 17.1875 \r\nL 47.609375 0 \r\nL 37.796875 0 \r\nL 37.796875 17.1875 \r\nL 4.890625 17.1875 \r\nL 4.890625 26.703125 \r\nz\r\n\" id=\"DejaVuSans-52\"/>\r\n      </defs>\r\n      <g transform=\"translate(20.878125 79.179814)scale(0.1 -0.1)\">\r\n       <use xlink:href=\"#DejaVuSans-52\"/>\r\n       <use x=\"63.623047\" xlink:href=\"#DejaVuSans-48\"/>\r\n       <use x=\"127.246094\" xlink:href=\"#DejaVuSans-48\"/>\r\n       <use x=\"190.869141\" xlink:href=\"#DejaVuSans-48\"/>\r\n       <use x=\"254.492188\" xlink:href=\"#DejaVuSans-48\"/>\r\n      </g>\r\n     </g>\r\n    </g>\r\n    <g id=\"ytick_6\">\r\n     <g id=\"line2d_12\">\r\n      <g>\r\n       <use style=\"stroke:#000000;stroke-width:0.8;\" x=\"59.690625\" xlink:href=\"#mfe156317d1\" y=\"35.76665\"/>\r\n      </g>\r\n     </g>\r\n     <g id=\"text_13\">\r\n      <!-- 50000 -->\r\n      <g transform=\"translate(20.878125 39.565869)scale(0.1 -0.1)\">\r\n       <use xlink:href=\"#DejaVuSans-53\"/>\r\n       <use x=\"63.623047\" xlink:href=\"#DejaVuSans-48\"/>\r\n       <use x=\"127.246094\" xlink:href=\"#DejaVuSans-48\"/>\r\n       <use x=\"190.869141\" xlink:href=\"#DejaVuSans-48\"/>\r\n       <use x=\"254.492188\" xlink:href=\"#DejaVuSans-48\"/>\r\n      </g>\r\n     </g>\r\n    </g>\r\n    <g id=\"text_14\">\r\n     <!-- price -->\r\n     <defs>\r\n      <path d=\"M 18.109375 8.203125 \r\nL 18.109375 -20.796875 \r\nL 9.078125 -20.796875 \r\nL 9.078125 54.6875 \r\nL 18.109375 54.6875 \r\nL 18.109375 46.390625 \r\nQ 20.953125 51.265625 25.265625 53.625 \r\nQ 29.59375 56 35.59375 56 \r\nQ 45.5625 56 51.78125 48.09375 \r\nQ 58.015625 40.1875 58.015625 27.296875 \r\nQ 58.015625 14.40625 51.78125 6.484375 \r\nQ 45.5625 -1.421875 35.59375 -1.421875 \r\nQ 29.59375 -1.421875 25.265625 0.953125 \r\nQ 20.953125 3.328125 18.109375 8.203125 \r\nz\r\nM 48.6875 27.296875 \r\nQ 48.6875 37.203125 44.609375 42.84375 \r\nQ 40.53125 48.484375 33.40625 48.484375 \r\nQ 26.265625 48.484375 22.1875 42.84375 \r\nQ 18.109375 37.203125 18.109375 27.296875 \r\nQ 18.109375 17.390625 22.1875 11.75 \r\nQ 26.265625 6.109375 33.40625 6.109375 \r\nQ 40.53125 6.109375 44.609375 11.75 \r\nQ 48.6875 17.390625 48.6875 27.296875 \r\nz\r\n\" id=\"DejaVuSans-112\"/>\r\n      <path d=\"M 41.109375 46.296875 \r\nQ 39.59375 47.171875 37.8125 47.578125 \r\nQ 36.03125 48 33.890625 48 \r\nQ 26.265625 48 22.1875 43.046875 \r\nQ 18.109375 38.09375 18.109375 28.8125 \r\nL 18.109375 0 \r\nL 9.078125 0 \r\nL 9.078125 54.6875 \r\nL 18.109375 54.6875 \r\nL 18.109375 46.1875 \r\nQ 20.953125 51.171875 25.484375 53.578125 \r\nQ 30.03125 56 36.53125 56 \r\nQ 37.453125 56 38.578125 55.875 \r\nQ 39.703125 55.765625 41.0625 55.515625 \r\nz\r\n\" id=\"DejaVuSans-114\"/>\r\n      <path d=\"M 48.78125 52.59375 \r\nL 48.78125 44.1875 \r\nQ 44.96875 46.296875 41.140625 47.34375 \r\nQ 37.3125 48.390625 33.40625 48.390625 \r\nQ 24.65625 48.390625 19.8125 42.84375 \r\nQ 14.984375 37.3125 14.984375 27.296875 \r\nQ 14.984375 17.28125 19.8125 11.734375 \r\nQ 24.65625 6.203125 33.40625 6.203125 \r\nQ 37.3125 6.203125 41.140625 7.25 \r\nQ 44.96875 8.296875 48.78125 10.40625 \r\nL 48.78125 2.09375 \r\nQ 45.015625 0.34375 40.984375 -0.53125 \r\nQ 36.96875 -1.421875 32.421875 -1.421875 \r\nQ 20.0625 -1.421875 12.78125 6.34375 \r\nQ 5.515625 14.109375 5.515625 27.296875 \r\nQ 5.515625 40.671875 12.859375 48.328125 \r\nQ 20.21875 56 33.015625 56 \r\nQ 37.15625 56 41.109375 55.140625 \r\nQ 45.0625 54.296875 48.78125 52.59375 \r\nz\r\n\" id=\"DejaVuSans-99\"/>\r\n     </defs>\r\n     <g transform=\"translate(14.798438 143.482656)rotate(-90)scale(0.1 -0.1)\">\r\n      <use xlink:href=\"#DejaVuSans-112\"/>\r\n      <use x=\"63.476562\" xlink:href=\"#DejaVuSans-114\"/>\r\n      <use x=\"104.589844\" xlink:href=\"#DejaVuSans-105\"/>\r\n      <use x=\"132.373047\" xlink:href=\"#DejaVuSans-99\"/>\r\n      <use x=\"187.353516\" xlink:href=\"#DejaVuSans-101\"/>\r\n     </g>\r\n    </g>\r\n   </g>\r\n   <g id=\"line2d_13\">\r\n    <path clip-path=\"url(#p3a28d157e9)\" d=\"M 74.920127 225.061402 \r\nL 77.994278 223.292063 \r\nL 81.06843 221.522724 \r\nL 84.142581 219.753385 \r\nL 87.216733 217.984046 \r\nL 90.290884 216.214707 \r\nL 93.365036 214.445368 \r\nL 96.439187 212.676029 \r\nL 99.513339 210.90669 \r\nL 102.58749 209.137351 \r\nL 105.661642 207.368012 \r\nL 108.735793 205.598673 \r\nL 111.809944 203.829334 \r\nL 114.884096 202.059995 \r\nL 117.958247 200.290656 \r\nL 121.032399 198.521317 \r\nL 124.10655 196.751978 \r\nL 127.180702 194.982639 \r\nL 130.254853 193.2133 \r\nL 133.329005 191.443961 \r\nL 136.403156 189.674622 \r\nL 139.477308 187.905283 \r\nL 142.551459 186.135944 \r\nL 145.625611 184.366605 \r\nL 148.699762 182.597266 \r\nL 151.773914 180.827927 \r\nL 154.848065 179.058588 \r\nL 157.922217 177.289249 \r\nL 160.996368 175.51991 \r\nL 164.07052 173.750571 \r\nL 167.144671 171.981232 \r\nL 170.218823 170.211893 \r\nL 173.292974 168.442554 \r\nL 176.367126 166.673215 \r\nL 179.441277 164.903876 \r\nL 182.515429 163.134537 \r\nL 185.58958 161.365198 \r\nL 188.663731 159.595859 \r\nL 191.737883 157.82652 \r\nL 194.812034 156.057181 \r\nL 197.886186 154.287842 \r\nL 200.960337 152.518503 \r\nL 204.034489 150.749164 \r\nL 207.10864 148.979825 \r\nL 210.182792 147.210486 \r\nL 213.256943 145.441147 \r\nL 216.331095 143.671808 \r\nL 219.405246 141.902469 \r\nL 222.479398 140.13313 \r\nL 225.553549 138.363791 \r\nL 228.627701 136.594452 \r\nL 231.701852 134.825113 \r\nL 234.776004 133.055774 \r\nL 237.850155 131.286435 \r\nL 240.924307 129.517096 \r\nL 243.998458 127.747757 \r\nL 247.07261 125.978418 \r\nL 250.146761 124.209079 \r\nL 253.220913 122.43974 \r\nL 256.295064 120.670401 \r\nL 259.369216 118.901062 \r\nL 262.443367 117.131723 \r\nL 265.517519 115.362384 \r\nL 268.59167 113.593045 \r\nL 271.665821 111.823706 \r\nL 274.739973 110.054367 \r\nL 277.814124 108.285028 \r\nL 280.888276 106.515689 \r\nL 283.962427 104.74635 \r\nL 287.036579 102.977011 \r\nL 290.11073 101.207672 \r\nL 293.184882 99.438333 \r\nL 296.259033 97.668994 \r\nL 299.333185 95.899655 \r\nL 302.407336 94.130316 \r\nL 305.481488 92.360977 \r\nL 308.555639 90.591638 \r\nL 311.629791 88.822299 \r\nL 314.703942 87.05296 \r\nL 317.778094 85.283621 \r\nL 320.852245 83.514282 \r\nL 323.926397 81.744943 \r\nL 327.000548 79.975604 \r\nL 330.0747 78.206265 \r\nL 333.148851 76.436926 \r\nL 336.223003 74.667587 \r\nL 339.297154 72.898248 \r\nL 342.371306 71.128909 \r\nL 345.445457 69.35957 \r\nL 348.519608 67.590231 \r\nL 351.59376 65.820892 \r\nL 354.667911 64.051553 \r\nL 357.742063 62.282214 \r\nL 360.816214 60.512875 \r\nL 363.890366 58.743536 \r\nL 366.964517 56.974197 \r\nL 370.038669 55.204858 \r\nL 373.11282 53.435519 \r\nL 376.186972 51.66618 \r\nL 379.261123 49.896841 \r\n\" style=\"fill:none;stroke:#1f77b4;stroke-linecap:square;stroke-width:2.25;\"/>\r\n   </g>\r\n   <g id=\"patch_3\">\r\n    <path d=\"M 59.690625 239.758125 \r\nL 59.690625 22.318125 \r\n\" style=\"fill:none;stroke:#000000;stroke-linecap:square;stroke-linejoin:miter;stroke-width:0.8;\"/>\r\n   </g>\r\n   <g id=\"patch_4\">\r\n    <path d=\"M 394.490625 239.758125 \r\nL 394.490625 22.318125 \r\n\" style=\"fill:none;stroke:#000000;stroke-linecap:square;stroke-linejoin:miter;stroke-width:0.8;\"/>\r\n   </g>\r\n   <g id=\"patch_5\">\r\n    <path d=\"M 59.690625 239.758125 \r\nL 394.490625 239.758125 \r\n\" style=\"fill:none;stroke:#000000;stroke-linecap:square;stroke-linejoin:miter;stroke-width:0.8;\"/>\r\n   </g>\r\n   <g id=\"patch_6\">\r\n    <path d=\"M 59.690625 22.318125 \r\nL 394.490625 22.318125 \r\n\" style=\"fill:none;stroke:#000000;stroke-linecap:square;stroke-linejoin:miter;stroke-width:0.8;\"/>\r\n   </g>\r\n   <g id=\"text_15\">\r\n    <!-- positive linear relationship -->\r\n    <defs>\r\n     <path d=\"M 30.609375 48.390625 \r\nQ 23.390625 48.390625 19.1875 42.75 \r\nQ 14.984375 37.109375 14.984375 27.296875 \r\nQ 14.984375 17.484375 19.15625 11.84375 \r\nQ 23.34375 6.203125 30.609375 6.203125 \r\nQ 37.796875 6.203125 41.984375 11.859375 \r\nQ 46.1875 17.53125 46.1875 27.296875 \r\nQ 46.1875 37.015625 41.984375 42.703125 \r\nQ 37.796875 48.390625 30.609375 48.390625 \r\nz\r\nM 30.609375 56 \r\nQ 42.328125 56 49.015625 48.375 \r\nQ 55.71875 40.765625 55.71875 27.296875 \r\nQ 55.71875 13.875 49.015625 6.21875 \r\nQ 42.328125 -1.421875 30.609375 -1.421875 \r\nQ 18.84375 -1.421875 12.171875 6.21875 \r\nQ 5.515625 13.875 5.515625 27.296875 \r\nQ 5.515625 40.765625 12.171875 48.375 \r\nQ 18.84375 56 30.609375 56 \r\nz\r\n\" id=\"DejaVuSans-111\"/>\r\n     <path d=\"M 18.3125 70.21875 \r\nL 18.3125 54.6875 \r\nL 36.8125 54.6875 \r\nL 36.8125 47.703125 \r\nL 18.3125 47.703125 \r\nL 18.3125 18.015625 \r\nQ 18.3125 11.328125 20.140625 9.421875 \r\nQ 21.96875 7.515625 27.59375 7.515625 \r\nL 36.8125 7.515625 \r\nL 36.8125 0 \r\nL 27.59375 0 \r\nQ 17.1875 0 13.234375 3.875 \r\nQ 9.28125 7.765625 9.28125 18.015625 \r\nL 9.28125 47.703125 \r\nL 2.6875 47.703125 \r\nL 2.6875 54.6875 \r\nL 9.28125 54.6875 \r\nL 9.28125 70.21875 \r\nz\r\n\" id=\"DejaVuSans-116\"/>\r\n     <path d=\"M 2.984375 54.6875 \r\nL 12.5 54.6875 \r\nL 29.59375 8.796875 \r\nL 46.6875 54.6875 \r\nL 56.203125 54.6875 \r\nL 35.6875 0 \r\nL 23.484375 0 \r\nz\r\n\" id=\"DejaVuSans-118\"/>\r\n     <path id=\"DejaVuSans-32\"/>\r\n     <path d=\"M 9.421875 75.984375 \r\nL 18.40625 75.984375 \r\nL 18.40625 0 \r\nL 9.421875 0 \r\nz\r\n\" id=\"DejaVuSans-108\"/>\r\n     <path d=\"M 34.28125 27.484375 \r\nQ 23.390625 27.484375 19.1875 25 \r\nQ 14.984375 22.515625 14.984375 16.5 \r\nQ 14.984375 11.71875 18.140625 8.90625 \r\nQ 21.296875 6.109375 26.703125 6.109375 \r\nQ 34.1875 6.109375 38.703125 11.40625 \r\nQ 43.21875 16.703125 43.21875 25.484375 \r\nL 43.21875 27.484375 \r\nz\r\nM 52.203125 31.203125 \r\nL 52.203125 0 \r\nL 43.21875 0 \r\nL 43.21875 8.296875 \r\nQ 40.140625 3.328125 35.546875 0.953125 \r\nQ 30.953125 -1.421875 24.3125 -1.421875 \r\nQ 15.921875 -1.421875 10.953125 3.296875 \r\nQ 6 8.015625 6 15.921875 \r\nQ 6 25.140625 12.171875 29.828125 \r\nQ 18.359375 34.515625 30.609375 34.515625 \r\nL 43.21875 34.515625 \r\nL 43.21875 35.40625 \r\nQ 43.21875 41.609375 39.140625 45 \r\nQ 35.0625 48.390625 27.6875 48.390625 \r\nQ 23 48.390625 18.546875 47.265625 \r\nQ 14.109375 46.140625 10.015625 43.890625 \r\nL 10.015625 52.203125 \r\nQ 14.9375 54.109375 19.578125 55.046875 \r\nQ 24.21875 56 28.609375 56 \r\nQ 40.484375 56 46.34375 49.84375 \r\nQ 52.203125 43.703125 52.203125 31.203125 \r\nz\r\n\" id=\"DejaVuSans-97\"/>\r\n     <path d=\"M 54.890625 33.015625 \r\nL 54.890625 0 \r\nL 45.90625 0 \r\nL 45.90625 32.71875 \r\nQ 45.90625 40.484375 42.875 44.328125 \r\nQ 39.84375 48.1875 33.796875 48.1875 \r\nQ 26.515625 48.1875 22.3125 43.546875 \r\nQ 18.109375 38.921875 18.109375 30.90625 \r\nL 18.109375 0 \r\nL 9.078125 0 \r\nL 9.078125 75.984375 \r\nL 18.109375 75.984375 \r\nL 18.109375 46.1875 \r\nQ 21.34375 51.125 25.703125 53.5625 \r\nQ 30.078125 56 35.796875 56 \r\nQ 45.21875 56 50.046875 50.171875 \r\nQ 54.890625 44.34375 54.890625 33.015625 \r\nz\r\n\" id=\"DejaVuSans-104\"/>\r\n    </defs>\r\n    <g transform=\"translate(147.373125 16.318125)scale(0.12 -0.12)\">\r\n     <use xlink:href=\"#DejaVuSans-112\"/>\r\n     <use x=\"63.476562\" xlink:href=\"#DejaVuSans-111\"/>\r\n     <use x=\"124.658203\" xlink:href=\"#DejaVuSans-115\"/>\r\n     <use x=\"176.757812\" xlink:href=\"#DejaVuSans-105\"/>\r\n     <use x=\"204.541016\" xlink:href=\"#DejaVuSans-116\"/>\r\n     <use x=\"243.75\" xlink:href=\"#DejaVuSans-105\"/>\r\n     <use x=\"271.533203\" xlink:href=\"#DejaVuSans-118\"/>\r\n     <use x=\"330.712891\" xlink:href=\"#DejaVuSans-101\"/>\r\n     <use x=\"392.236328\" xlink:href=\"#DejaVuSans-32\"/>\r\n     <use x=\"424.023438\" xlink:href=\"#DejaVuSans-108\"/>\r\n     <use x=\"451.806641\" xlink:href=\"#DejaVuSans-105\"/>\r\n     <use x=\"479.589844\" xlink:href=\"#DejaVuSans-110\"/>\r\n     <use x=\"542.96875\" xlink:href=\"#DejaVuSans-101\"/>\r\n     <use x=\"604.492188\" xlink:href=\"#DejaVuSans-97\"/>\r\n     <use x=\"665.771484\" xlink:href=\"#DejaVuSans-114\"/>\r\n     <use x=\"706.884766\" xlink:href=\"#DejaVuSans-32\"/>\r\n     <use x=\"738.671875\" xlink:href=\"#DejaVuSans-114\"/>\r\n     <use x=\"779.753906\" xlink:href=\"#DejaVuSans-101\"/>\r\n     <use x=\"841.277344\" xlink:href=\"#DejaVuSans-108\"/>\r\n     <use x=\"869.060547\" xlink:href=\"#DejaVuSans-97\"/>\r\n     <use x=\"930.339844\" xlink:href=\"#DejaVuSans-116\"/>\r\n     <use x=\"969.548828\" xlink:href=\"#DejaVuSans-105\"/>\r\n     <use x=\"997.332031\" xlink:href=\"#DejaVuSans-111\"/>\r\n     <use x=\"1058.513672\" xlink:href=\"#DejaVuSans-110\"/>\r\n     <use x=\"1121.892578\" xlink:href=\"#DejaVuSans-115\"/>\r\n     <use x=\"1173.992188\" xlink:href=\"#DejaVuSans-104\"/>\r\n     <use x=\"1237.371094\" xlink:href=\"#DejaVuSans-105\"/>\r\n     <use x=\"1265.154297\" xlink:href=\"#DejaVuSans-112\"/>\r\n    </g>\r\n   </g>\r\n  </g>\r\n </g>\r\n <defs>\r\n  <clipPath id=\"p3a28d157e9\">\r\n   <rect height=\"217.44\" width=\"334.8\" x=\"59.690625\" y=\"22.318125\"/>\r\n  </clipPath>\r\n </defs>\r\n</svg>\r\n",
      "image/png": "[encoded data removed]"
     },
     "metadata": {
      "needs_background": "light"
     }
    }
   ],
   "source": [
    "sns.regplot(x='engine-size',y='price', data= df,)\n",
    "plt.title(\"positive linear relationship\")\n",
    "plt.show()"
   ]
  },
  {
   "cell_type": "code",
   "execution_count": 9,
   "metadata": {},
   "outputs": [
    {
     "output_type": "display_data",
     "data": {
      "text/plain": "<Figure size 432x288 with 1 Axes>",
      "image/svg+xml": "<?xml version=\"1.0\" encoding=\"utf-8\" standalone=\"no\"?>\r\n<!DOCTYPE svg PUBLIC \"-//W3C//DTD SVG 1.1//EN\"\r\n  \"http://www.w3.org/Graphics/SVG/1.1/DTD/svg11.dtd\">\r\n<!-- Created with matplotlib (https://matplotlib.org/) -->\r\n<svg height=\"277.314375pt\" version=\"1.1\" viewBox=\"0 0 401.690625 277.314375\" width=\"401.690625pt\" xmlns=\"http://www.w3.org/2000/svg\" xmlns:xlink=\"http://www.w3.org/1999/xlink\">\r\n <defs>\r\n  <style type=\"text/css\">\r\n*{stroke-linecap:butt;stroke-linejoin:round;}\r\n  </style>\r\n </defs>\r\n <g id=\"figure_1\">\r\n  <g id=\"patch_1\">\r\n   <path d=\"M 0 277.314375 \r\nL 401.690625 277.314375 \r\nL 401.690625 0 \r\nL 0 0 \r\nz\r\n\" style=\"fill:none;\"/>\r\n  </g>\r\n  <g id=\"axes_1\">\r\n   <g id=\"patch_2\">\r\n    <path d=\"M 59.690625 239.758125 \r\nL 394.490625 239.758125 \r\nL 394.490625 22.318125 \r\nL 59.690625 22.318125 \r\nz\r\n\" style=\"fill:#ffffff;\"/>\r\n   </g>\r\n   <g id=\"PathCollection_1\">\r\n    <defs>\r\n     <path d=\"M 0 3 \r\nC 0.795609 3 1.55874 2.683901 2.12132 2.12132 \r\nC 2.683901 1.55874 3 0.795609 3 0 \r\nC 3 -0.795609 2.683901 -1.55874 2.12132 -2.12132 \r\nC 1.55874 -2.683901 0.795609 -3 0 -3 \r\nC -0.795609 -3 -1.55874 -2.683901 -2.12132 -2.12132 \r\nC -2.683901 -1.55874 -3 -0.795609 -3 0 \r\nC -3 0.795609 -2.683901 1.55874 -2.12132 2.12132 \r\nC -1.55874 2.683901 -0.795609 3 0 3 \r\nz\r\n\" id=\"mc3c4728d2e\" style=\"stroke:#1f77b4;stroke-opacity:0.8;\"/>\r\n    </defs>\r\n    <g clip-path=\"url(#p3f4310ef21)\">\r\n     <use style=\"fill:#1f77b4;fill-opacity:0.8;stroke:#1f77b4;stroke-opacity:0.8;\" x=\"163.912269\" xlink:href=\"#mc3c4728d2e\" y=\"188.766644\"/>\r\n     <use style=\"fill:#1f77b4;fill-opacity:0.8;stroke:#1f77b4;stroke-opacity:0.8;\" x=\"163.912269\" xlink:href=\"#mc3c4728d2e\" y=\"174.020452\"/>\r\n     <use style=\"fill:#1f77b4;fill-opacity:0.8;stroke:#1f77b4;stroke-opacity:0.8;\" x=\"277.346136\" xlink:href=\"#mc3c4728d2e\" y=\"174.020452\"/>\r\n     <use style=\"fill:#1f77b4;fill-opacity:0.8;stroke:#1f77b4;stroke-opacity:0.8;\" x=\"267.295034\" xlink:href=\"#mc3c4728d2e\" y=\"186.53386\"/>\r\n     <use style=\"fill:#1f77b4;fill-opacity:0.8;stroke:#1f77b4;stroke-opacity:0.8;\" x=\"267.295034\" xlink:href=\"#mc3c4728d2e\" y=\"169.358595\"/>\r\n     <use style=\"fill:#1f77b4;fill-opacity:0.8;stroke:#1f77b4;stroke-opacity:0.8;\" x=\"267.295034\" xlink:href=\"#mc3c4728d2e\" y=\"180.154476\"/>\r\n     <use style=\"fill:#1f77b4;fill-opacity:0.8;stroke:#1f77b4;stroke-opacity:0.8;\" x=\"267.295034\" xlink:href=\"#mc3c4728d2e\" y=\"168.082718\"/>\r\n     <use style=\"fill:#1f77b4;fill-opacity:0.8;stroke:#1f77b4;stroke-opacity:0.8;\" x=\"267.295034\" xlink:href=\"#mc3c4728d2e\" y=\"162.144983\"/>\r\n     <use style=\"fill:#1f77b4;fill-opacity:0.8;stroke:#1f77b4;stroke-opacity:0.8;\" x=\"267.295034\" xlink:href=\"#mc3c4728d2e\" y=\"137.829715\"/>\r\n     <use style=\"fill:#1f77b4;fill-opacity:0.8;stroke:#1f77b4;stroke-opacity:0.8;\" x=\"181.142729\" xlink:href=\"#mc3c4728d2e\" y=\"174.363958\"/>\r\n     <use style=\"fill:#1f77b4;fill-opacity:0.8;stroke:#1f77b4;stroke-opacity:0.8;\" x=\"181.142729\" xlink:href=\"#mc3c4728d2e\" y=\"171.934885\"/>\r\n     <use style=\"fill:#1f77b4;fill-opacity:0.8;stroke:#1f77b4;stroke-opacity:0.8;\" x=\"237.141727\" xlink:href=\"#mc3c4728d2e\" y=\"152.085185\"/>\r\n     <use style=\"fill:#1f77b4;fill-opacity:0.8;stroke:#1f77b4;stroke-opacity:0.8;\" x=\"237.141727\" xlink:href=\"#mc3c4728d2e\" y=\"151.422711\"/>\r\n     <use style=\"fill:#1f77b4;fill-opacity:0.8;stroke:#1f77b4;stroke-opacity:0.8;\" x=\"237.141727\" xlink:href=\"#mc3c4728d2e\" y=\"134.443735\"/>\r\n     <use style=\"fill:#1f77b4;fill-opacity:0.8;stroke:#1f77b4;stroke-opacity:0.8;\" x=\"265.859162\" xlink:href=\"#mc3c4728d2e\" y=\"104.043516\"/>\r\n     <use style=\"fill:#1f77b4;fill-opacity:0.8;stroke:#1f77b4;stroke-opacity:0.8;\" x=\"265.859162\" xlink:href=\"#mc3c4728d2e\" y=\"52.247824\"/>\r\n     <use style=\"fill:#1f77b4;fill-opacity:0.8;stroke:#1f77b4;stroke-opacity:0.8;\" x=\"265.859162\" xlink:href=\"#mc3c4728d2e\" y=\"74.011338\"/>\r\n     <use style=\"fill:#1f77b4;fill-opacity:0.8;stroke:#1f77b4;stroke-opacity:0.8;\" x=\"214.167779\" xlink:href=\"#mc3c4728d2e\" y=\"229.712476\"/>\r\n     <use style=\"fill:#1f77b4;fill-opacity:0.8;stroke:#1f77b4;stroke-opacity:0.8;\" x=\"225.654753\" xlink:href=\"#mc3c4728d2e\" y=\"224.098618\"/>\r\n     <use style=\"fill:#1f77b4;fill-opacity:0.8;stroke:#1f77b4;stroke-opacity:0.8;\" x=\"225.654753\" xlink:href=\"#mc3c4728d2e\" y=\"222.724597\"/>\r\n     <use style=\"fill:#1f77b4;fill-opacity:0.8;stroke:#1f77b4;stroke-opacity:0.8;\" x=\"242.885214\" xlink:href=\"#mc3c4728d2e\" y=\"227.646537\"/>\r\n     <use style=\"fill:#1f77b4;fill-opacity:0.8;stroke:#1f77b4;stroke-opacity:0.8;\" x=\"242.885214\" xlink:href=\"#mc3c4728d2e\" y=\"223.696226\"/>\r\n     <use style=\"fill:#1f77b4;fill-opacity:0.8;stroke:#1f77b4;stroke-opacity:0.8;\" x=\"265.859162\" xlink:href=\"#mc3c4728d2e\" y=\"215.942821\"/>\r\n     <use style=\"fill:#1f77b4;fill-opacity:0.8;stroke:#1f77b4;stroke-opacity:0.8;\" x=\"242.885214\" xlink:href=\"#mc3c4728d2e\" y=\"224.422494\"/>\r\n     <use style=\"fill:#1f77b4;fill-opacity:0.8;stroke:#1f77b4;stroke-opacity:0.8;\" x=\"242.885214\" xlink:href=\"#mc3c4728d2e\" y=\"222.150452\"/>\r\n     <use style=\"fill:#1f77b4;fill-opacity:0.8;stroke:#1f77b4;stroke-opacity:0.8;\" x=\"242.885214\" xlink:href=\"#mc3c4728d2e\" y=\"217.650533\"/>\r\n     <use style=\"fill:#1f77b4;fill-opacity:0.8;stroke:#1f77b4;stroke-opacity:0.8;\" x=\"265.859162\" xlink:href=\"#mc3c4728d2e\" y=\"212.993582\"/>\r\n     <use style=\"fill:#1f77b4;fill-opacity:0.8;stroke:#1f77b4;stroke-opacity:0.8;\" x=\"275.910264\" xlink:href=\"#mc3c4728d2e\" y=\"211.212262\"/>\r\n     <use style=\"fill:#1f77b4;fill-opacity:0.8;stroke:#1f77b4;stroke-opacity:0.8;\" x=\"339.088621\" xlink:href=\"#mc3c4728d2e\" y=\"191.372377\"/>\r\n     <use style=\"fill:#1f77b4;fill-opacity:0.8;stroke:#1f77b4;stroke-opacity:0.8;\" x=\"268.730905\" xlink:href=\"#mc3c4728d2e\" y=\"223.19569\"/>\r\n     <use style=\"fill:#1f77b4;fill-opacity:0.8;stroke:#1f77b4;stroke-opacity:0.8;\" x=\"268.730905\" xlink:href=\"#mc3c4728d2e\" y=\"221.350576\"/>\r\n     <use style=\"fill:#1f77b4;fill-opacity:0.8;stroke:#1f77b4;stroke-opacity:0.8;\" x=\"219.911266\" xlink:href=\"#mc3c4728d2e\" y=\"228.495486\"/>\r\n     <use style=\"fill:#1f77b4;fill-opacity:0.8;stroke:#1f77b4;stroke-opacity:0.8;\" x=\"268.730905\" xlink:href=\"#mc3c4728d2e\" y=\"222.950329\"/>\r\n     <use style=\"fill:#1f77b4;fill-opacity:0.8;stroke:#1f77b4;stroke-opacity:0.8;\" x=\"268.730905\" xlink:href=\"#mc3c4728d2e\" y=\"220.005998\"/>\r\n     <use style=\"fill:#1f77b4;fill-opacity:0.8;stroke:#1f77b4;stroke-opacity:0.8;\" x=\"268.730905\" xlink:href=\"#mc3c4728d2e\" y=\"219.191399\"/>\r\n     <use style=\"fill:#1f77b4;fill-opacity:0.8;stroke:#1f77b4;stroke-opacity:0.8;\" x=\"268.730905\" xlink:href=\"#mc3c4728d2e\" y=\"219.191399\"/>\r\n     <use style=\"fill:#1f77b4;fill-opacity:0.8;stroke:#1f77b4;stroke-opacity:0.8;\" x=\"293.140725\" xlink:href=\"#mc3c4728d2e\" y=\"216.247068\"/>\r\n     <use style=\"fill:#1f77b4;fill-opacity:0.8;stroke:#1f77b4;stroke-opacity:0.8;\" x=\"293.140725\" xlink:href=\"#mc3c4728d2e\" y=\"210.358406\"/>\r\n     <use style=\"fill:#1f77b4;fill-opacity:0.8;stroke:#1f77b4;stroke-opacity:0.8;\" x=\"293.140725\" xlink:href=\"#mc3c4728d2e\" y=\"211.585211\"/>\r\n     <use style=\"fill:#1f77b4;fill-opacity:0.8;stroke:#1f77b4;stroke-opacity:0.8;\" x=\"293.140725\" xlink:href=\"#mc3c4728d2e\" y=\"204.469744\"/>\r\n     <use style=\"fill:#1f77b4;fill-opacity:0.8;stroke:#1f77b4;stroke-opacity:0.8;\" x=\"293.140725\" xlink:href=\"#mc3c4728d2e\" y=\"191.465614\"/>\r\n     <use style=\"fill:#1f77b4;fill-opacity:0.8;stroke:#1f77b4;stroke-opacity:0.8;\" x=\"293.140725\" xlink:href=\"#mc3c4728d2e\" y=\"204.224383\"/>\r\n     <use style=\"fill:#1f77b4;fill-opacity:0.8;stroke:#1f77b4;stroke-opacity:0.8;\" x=\"242.885214\" xlink:href=\"#mc3c4728d2e\" y=\"221.694081\"/>\r\n     <use style=\"fill:#1f77b4;fill-opacity:0.8;stroke:#1f77b4;stroke-opacity:0.8;\" x=\"242.885214\" xlink:href=\"#mc3c4728d2e\" y=\"200.774608\"/>\r\n     <use style=\"fill:#1f77b4;fill-opacity:0.8;stroke:#1f77b4;stroke-opacity:0.8;\" x=\"377.857157\" xlink:href=\"#mc3c4728d2e\" y=\"96.73176\"/>\r\n     <use style=\"fill:#1f77b4;fill-opacity:0.8;stroke:#1f77b4;stroke-opacity:0.8;\" x=\"377.857157\" xlink:href=\"#mc3c4728d2e\" y=\"80.537939\"/>\r\n     <use style=\"fill:#1f77b4;fill-opacity:0.8;stroke:#1f77b4;stroke-opacity:0.8;\" x=\"175.399242\" xlink:href=\"#mc3c4728d2e\" y=\"78.32969\"/>\r\n     <use style=\"fill:#1f77b4;fill-opacity:0.8;stroke:#1f77b4;stroke-opacity:0.8;\" x=\"231.39824\" xlink:href=\"#mc3c4728d2e\" y=\"229.496558\"/>\r\n     <use style=\"fill:#1f77b4;fill-opacity:0.8;stroke:#1f77b4;stroke-opacity:0.8;\" x=\"231.39824\" xlink:href=\"#mc3c4728d2e\" y=\"225.080062\"/>\r\n     <use style=\"fill:#1f77b4;fill-opacity:0.8;stroke:#1f77b4;stroke-opacity:0.8;\" x=\"231.39824\" xlink:href=\"#mc3c4728d2e\" y=\"221.645009\"/>\r\n     <use style=\"fill:#1f77b4;fill-opacity:0.8;stroke:#1f77b4;stroke-opacity:0.8;\" x=\"231.39824\" xlink:href=\"#mc3c4728d2e\" y=\"222.13573\"/>\r\n     <use style=\"fill:#1f77b4;fill-opacity:0.8;stroke:#1f77b4;stroke-opacity:0.8;\" x=\"231.39824\" xlink:href=\"#mc3c4728d2e\" y=\"218.700677\"/>\r\n     <use style=\"fill:#1f77b4;fill-opacity:0.8;stroke:#1f77b4;stroke-opacity:0.8;\" x=\"246.535614\" xlink:href=\"#mc3c4728d2e\" y=\"201.280052\"/>\r\n     <use style=\"fill:#1f77b4;fill-opacity:0.8;stroke:#1f77b4;stroke-opacity:0.8;\" x=\"246.535614\" xlink:href=\"#mc3c4728d2e\" y=\"196.863555\"/>\r\n     <use style=\"fill:#1f77b4;fill-opacity:0.8;stroke:#1f77b4;stroke-opacity:0.8;\" x=\"246.535614\" xlink:href=\"#mc3c4728d2e\" y=\"188.030561\"/>\r\n     <use style=\"fill:#1f77b4;fill-opacity:0.8;stroke:#1f77b4;stroke-opacity:0.8;\" x=\"246.535614\" xlink:href=\"#mc3c4728d2e\" y=\"178.216124\"/>\r\n     <use style=\"fill:#1f77b4;fill-opacity:0.8;stroke:#1f77b4;stroke-opacity:0.8;\" x=\"265.859162\" xlink:href=\"#mc3c4728d2e\" y=\"211.585211\"/>\r\n     <use style=\"fill:#1f77b4;fill-opacity:0.8;stroke:#1f77b4;stroke-opacity:0.8;\" x=\"265.859162\" xlink:href=\"#mc3c4728d2e\" y=\"213.302737\"/>\r\n     <use style=\"fill:#1f77b4;fill-opacity:0.8;stroke:#1f77b4;stroke-opacity:0.8;\" x=\"265.859162\" xlink:href=\"#mc3c4728d2e\" y=\"202.997578\"/>\r\n     <use style=\"fill:#1f77b4;fill-opacity:0.8;stroke:#1f77b4;stroke-opacity:0.8;\" x=\"265.859162\" xlink:href=\"#mc3c4728d2e\" y=\"204.715105\"/>\r\n     <use style=\"fill:#1f77b4;fill-opacity:0.8;stroke:#1f77b4;stroke-opacity:0.8;\" x=\"265.859162\" xlink:href=\"#mc3c4728d2e\" y=\"202.016134\"/>\r\n     <use style=\"fill:#1f77b4;fill-opacity:0.8;stroke:#1f77b4;stroke-opacity:0.8;\" x=\"265.859162\" xlink:href=\"#mc3c4728d2e\" y=\"199.807886\"/>\r\n     <use style=\"fill:#1f77b4;fill-opacity:0.8;stroke:#1f77b4;stroke-opacity:0.8;\" x=\"232.834112\" xlink:href=\"#mc3c4728d2e\" y=\"165.285603\"/>\r\n     <use style=\"fill:#1f77b4;fill-opacity:0.8;stroke:#1f77b4;stroke-opacity:0.8;\" x=\"301.755955\" xlink:href=\"#mc3c4728d2e\" y=\"164.971541\"/>\r\n     <use style=\"fill:#1f77b4;fill-opacity:0.8;stroke:#1f77b4;stroke-opacity:0.8;\" x=\"301.755955\" xlink:href=\"#mc3c4728d2e\" y=\"129.60031\"/>\r\n     <use style=\"fill:#1f77b4;fill-opacity:0.8;stroke:#1f77b4;stroke-opacity:0.8;\" x=\"301.755955\" xlink:href=\"#mc3c4728d2e\" y=\"116.370449\"/>\r\n     <use style=\"fill:#1f77b4;fill-opacity:0.8;stroke:#1f77b4;stroke-opacity:0.8;\" x=\"301.755955\" xlink:href=\"#mc3c4728d2e\" y=\"116.723768\"/>\r\n     <use style=\"fill:#1f77b4;fill-opacity:0.8;stroke:#1f77b4;stroke-opacity:0.8;\" x=\"301.755955\" xlink:href=\"#mc3c4728d2e\" y=\"99.921452\"/>\r\n     <use style=\"fill:#1f77b4;fill-opacity:0.8;stroke:#1f77b4;stroke-opacity:0.8;\" x=\"224.218882\" xlink:href=\"#mc3c4728d2e\" y=\"87.241199\"/>\r\n     <use style=\"fill:#1f77b4;fill-opacity:0.8;stroke:#1f77b4;stroke-opacity:0.8;\" x=\"224.218882\" xlink:href=\"#mc3c4728d2e\" y=\"82.962105\"/>\r\n     <use style=\"fill:#1f77b4;fill-opacity:0.8;stroke:#1f77b4;stroke-opacity:0.8;\" x=\"260.115675\" xlink:href=\"#mc3c4728d2e\" y=\"53.989886\"/>\r\n     <use style=\"fill:#1f77b4;fill-opacity:0.8;stroke:#1f77b4;stroke-opacity:0.8;\" x=\"260.115675\" xlink:href=\"#mc3c4728d2e\" y=\"32.201836\"/>\r\n     <use style=\"fill:#1f77b4;fill-opacity:0.8;stroke:#1f77b4;stroke-opacity:0.8;\" x=\"227.090625\" xlink:href=\"#mc3c4728d2e\" y=\"174.005731\"/>\r\n     <use style=\"fill:#1f77b4;fill-opacity:0.8;stroke:#1f77b4;stroke-opacity:0.8;\" x=\"242.885214\" xlink:href=\"#mc3c4728d2e\" y=\"228.544558\"/>\r\n     <use style=\"fill:#1f77b4;fill-opacity:0.8;stroke:#1f77b4;stroke-opacity:0.8;\" x=\"242.885214\" xlink:href=\"#mc3c4728d2e\" y=\"224.618783\"/>\r\n     <use style=\"fill:#1f77b4;fill-opacity:0.8;stroke:#1f77b4;stroke-opacity:0.8;\" x=\"242.885214\" xlink:href=\"#mc3c4728d2e\" y=\"222.263318\"/>\r\n     <use style=\"fill:#1f77b4;fill-opacity:0.8;stroke:#1f77b4;stroke-opacity:0.8;\" x=\"265.859162\" xlink:href=\"#mc3c4728d2e\" y=\"217.257955\"/>\r\n     <use style=\"fill:#1f77b4;fill-opacity:0.8;stroke:#1f77b4;stroke-opacity:0.8;\" x=\"275.910264\" xlink:href=\"#mc3c4728d2e\" y=\"206.118569\"/>\r\n     <use style=\"fill:#1f77b4;fill-opacity:0.8;stroke:#1f77b4;stroke-opacity:0.8;\" x=\"275.910264\" xlink:href=\"#mc3c4728d2e\" y=\"213.283108\"/>\r\n     <use style=\"fill:#1f77b4;fill-opacity:0.8;stroke:#1f77b4;stroke-opacity:0.8;\" x=\"333.345134\" xlink:href=\"#mc3c4728d2e\" y=\"193.016296\"/>\r\n     <use style=\"fill:#1f77b4;fill-opacity:0.8;stroke:#1f77b4;stroke-opacity:0.8;\" x=\"333.345134\" xlink:href=\"#mc3c4728d2e\" y=\"182.024126\"/>\r\n     <use style=\"fill:#1f77b4;fill-opacity:0.8;stroke:#1f77b4;stroke-opacity:0.8;\" x=\"333.345134\" xlink:href=\"#mc3c4728d2e\" y=\"183.888869\"/>\r\n     <use style=\"fill:#1f77b4;fill-opacity:0.8;stroke:#1f77b4;stroke-opacity:0.8;\" x=\"275.910264\" xlink:href=\"#mc3c4728d2e\" y=\"220.693008\"/>\r\n     <use style=\"fill:#1f77b4;fill-opacity:0.8;stroke:#1f77b4;stroke-opacity:0.8;\" x=\"275.910264\" xlink:href=\"#mc3c4728d2e\" y=\"214.804346\"/>\r\n     <use style=\"fill:#1f77b4;fill-opacity:0.8;stroke:#1f77b4;stroke-opacity:0.8;\" x=\"275.910264\" xlink:href=\"#mc3c4728d2e\" y=\"209.455478\"/>\r\n     <use style=\"fill:#1f77b4;fill-opacity:0.8;stroke:#1f77b4;stroke-opacity:0.8;\" x=\"275.910264\" xlink:href=\"#mc3c4728d2e\" y=\"209.455478\"/>\r\n     <use style=\"fill:#1f77b4;fill-opacity:0.8;stroke:#1f77b4;stroke-opacity:0.8;\" x=\"251.500445\" xlink:href=\"#mc3c4728d2e\" y=\"228.004764\"/>\r\n     <use style=\"fill:#1f77b4;fill-opacity:0.8;stroke:#1f77b4;stroke-opacity:0.8;\" x=\"277.346136\" xlink:href=\"#mc3c4728d2e\" y=\"220.153214\"/>\r\n     <use style=\"fill:#1f77b4;fill-opacity:0.8;stroke:#1f77b4;stroke-opacity:0.8;\" x=\"251.500445\" xlink:href=\"#mc3c4728d2e\" y=\"222.361463\"/>\r\n     <use style=\"fill:#1f77b4;fill-opacity:0.8;stroke:#1f77b4;stroke-opacity:0.8;\" x=\"251.500445\" xlink:href=\"#mc3c4728d2e\" y=\"221.380019\"/>\r\n     <use style=\"fill:#1f77b4;fill-opacity:0.8;stroke:#1f77b4;stroke-opacity:0.8;\" x=\"251.500445\" xlink:href=\"#mc3c4728d2e\" y=\"218.92641\"/>\r\n     <use style=\"fill:#1f77b4;fill-opacity:0.8;stroke:#1f77b4;stroke-opacity:0.8;\" x=\"251.500445\" xlink:href=\"#mc3c4728d2e\" y=\"219.17177\"/>\r\n     <use style=\"fill:#1f77b4;fill-opacity:0.8;stroke:#1f77b4;stroke-opacity:0.8;\" x=\"251.500445\" xlink:href=\"#mc3c4728d2e\" y=\"216.718161\"/>\r\n     <use style=\"fill:#1f77b4;fill-opacity:0.8;stroke:#1f77b4;stroke-opacity:0.8;\" x=\"251.500445\" xlink:href=\"#mc3c4728d2e\" y=\"218.190327\"/>\r\n     <use style=\"fill:#1f77b4;fill-opacity:0.8;stroke:#1f77b4;stroke-opacity:0.8;\" x=\"251.500445\" xlink:href=\"#mc3c4728d2e\" y=\"215.736717\"/>\r\n     <use style=\"fill:#1f77b4;fill-opacity:0.8;stroke:#1f77b4;stroke-opacity:0.8;\" x=\"251.500445\" xlink:href=\"#mc3c4728d2e\" y=\"214.509913\"/>\r\n     <use style=\"fill:#1f77b4;fill-opacity:0.8;stroke:#1f77b4;stroke-opacity:0.8;\" x=\"277.346136\" xlink:href=\"#mc3c4728d2e\" y=\"211.07486\"/>\r\n     <use style=\"fill:#1f77b4;fill-opacity:0.8;stroke:#1f77b4;stroke-opacity:0.8;\" x=\"277.346136\" xlink:href=\"#mc3c4728d2e\" y=\"208.130529\"/>\r\n     <use style=\"fill:#1f77b4;fill-opacity:0.8;stroke:#1f77b4;stroke-opacity:0.8;\" x=\"248.628701\" xlink:href=\"#mc3c4728d2e\" y=\"188.747015\"/>\r\n     <use style=\"fill:#1f77b4;fill-opacity:0.8;stroke:#1f77b4;stroke-opacity:0.8;\" x=\"248.628701\" xlink:href=\"#mc3c4728d2e\" y=\"184.330519\"/>\r\n     <use style=\"fill:#1f77b4;fill-opacity:0.8;stroke:#1f77b4;stroke-opacity:0.8;\" x=\"248.628701\" xlink:href=\"#mc3c4728d2e\" y=\"188.747015\"/>\r\n     <use style=\"fill:#1f77b4;fill-opacity:0.8;stroke:#1f77b4;stroke-opacity:0.8;\" x=\"248.628701\" xlink:href=\"#mc3c4728d2e\" y=\"170.590307\"/>\r\n     <use style=\"fill:#1f77b4;fill-opacity:0.8;stroke:#1f77b4;stroke-opacity:0.8;\" x=\"248.628701\" xlink:href=\"#mc3c4728d2e\" y=\"158.32226\"/>\r\n     <use style=\"fill:#1f77b4;fill-opacity:0.8;stroke:#1f77b4;stroke-opacity:0.8;\" x=\"248.628701\" xlink:href=\"#mc3c4728d2e\" y=\"164.701644\"/>\r\n     <use style=\"fill:#1f77b4;fill-opacity:0.8;stroke:#1f77b4;stroke-opacity:0.8;\" x=\"237.141727\" xlink:href=\"#mc3c4728d2e\" y=\"196.593658\"/>\r\n     <use style=\"fill:#1f77b4;fill-opacity:0.8;stroke:#1f77b4;stroke-opacity:0.8;\" x=\"284.525494\" xlink:href=\"#mc3c4728d2e\" y=\"190.214274\"/>\r\n     <use style=\"fill:#1f77b4;fill-opacity:0.8;stroke:#1f77b4;stroke-opacity:0.8;\" x=\"237.141727\" xlink:href=\"#mc3c4728d2e\" y=\"193.94376\"/>\r\n     <use style=\"fill:#1f77b4;fill-opacity:0.8;stroke:#1f77b4;stroke-opacity:0.8;\" x=\"284.525494\" xlink:href=\"#mc3c4728d2e\" y=\"186.975509\"/>\r\n     <use style=\"fill:#1f77b4;fill-opacity:0.8;stroke:#1f77b4;stroke-opacity:0.8;\" x=\"93.554553\" xlink:href=\"#mc3c4728d2e\" y=\"178.535094\"/>\r\n     <use style=\"fill:#1f77b4;fill-opacity:0.8;stroke:#1f77b4;stroke-opacity:0.8;\" x=\"284.525494\" xlink:href=\"#mc3c4728d2e\" y=\"172.057565\"/>\r\n     <use style=\"fill:#1f77b4;fill-opacity:0.8;stroke:#1f77b4;stroke-opacity:0.8;\" x=\"93.554553\" xlink:href=\"#mc3c4728d2e\" y=\"173.063545\"/>\r\n     <use style=\"fill:#1f77b4;fill-opacity:0.8;stroke:#1f77b4;stroke-opacity:0.8;\" x=\"284.525494\" xlink:href=\"#mc3c4728d2e\" y=\"171.198802\"/>\r\n     <use style=\"fill:#1f77b4;fill-opacity:0.8;stroke:#1f77b4;stroke-opacity:0.8;\" x=\"237.141727\" xlink:href=\"#mc3c4728d2e\" y=\"173.382514\"/>\r\n     <use style=\"fill:#1f77b4;fill-opacity:0.8;stroke:#1f77b4;stroke-opacity:0.8;\" x=\"284.525494\" xlink:href=\"#mc3c4728d2e\" y=\"166.904986\"/>\r\n     <use style=\"fill:#1f77b4;fill-opacity:0.8;stroke:#1f77b4;stroke-opacity:0.8;\" x=\"240.013471\" xlink:href=\"#mc3c4728d2e\" y=\"165.923542\"/>\r\n     <use style=\"fill:#1f77b4;fill-opacity:0.8;stroke:#1f77b4;stroke-opacity:0.8;\" x=\"242.885214\" xlink:href=\"#mc3c4728d2e\" y=\"227.646537\"/>\r\n     <use style=\"fill:#1f77b4;fill-opacity:0.8;stroke:#1f77b4;stroke-opacity:0.8;\" x=\"265.859162\" xlink:href=\"#mc3c4728d2e\" y=\"215.942821\"/>\r\n     <use style=\"fill:#1f77b4;fill-opacity:0.8;stroke:#1f77b4;stroke-opacity:0.8;\" x=\"242.885214\" xlink:href=\"#mc3c4728d2e\" y=\"224.422494\"/>\r\n     <use style=\"fill:#1f77b4;fill-opacity:0.8;stroke:#1f77b4;stroke-opacity:0.8;\" x=\"242.885214\" xlink:href=\"#mc3c4728d2e\" y=\"222.150452\"/>\r\n     <use style=\"fill:#1f77b4;fill-opacity:0.8;stroke:#1f77b4;stroke-opacity:0.8;\" x=\"242.885214\" xlink:href=\"#mc3c4728d2e\" y=\"217.650533\"/>\r\n     <use style=\"fill:#1f77b4;fill-opacity:0.8;stroke:#1f77b4;stroke-opacity:0.8;\" x=\"275.910264\" xlink:href=\"#mc3c4728d2e\" y=\"211.212262\"/>\r\n     <use style=\"fill:#1f77b4;fill-opacity:0.8;stroke:#1f77b4;stroke-opacity:0.8;\" x=\"333.345134\" xlink:href=\"#mc3c4728d2e\" y=\"192.353821\"/>\r\n     <use style=\"fill:#1f77b4;fill-opacity:0.8;stroke:#1f77b4;stroke-opacity:0.8;\" x=\"225.654753\" xlink:href=\"#mc3c4728d2e\" y=\"146.94242\"/>\r\n     <use style=\"fill:#1f77b4;fill-opacity:0.8;stroke:#1f77b4;stroke-opacity:0.8;\" x=\"195.501447\" xlink:href=\"#mc3c4728d2e\" y=\"95.367553\"/>\r\n     <use style=\"fill:#1f77b4;fill-opacity:0.8;stroke:#1f77b4;stroke-opacity:0.8;\" x=\"195.501447\" xlink:href=\"#mc3c4728d2e\" y=\"88.006725\"/>\r\n     <use style=\"fill:#1f77b4;fill-opacity:0.8;stroke:#1f77b4;stroke-opacity:0.8;\" x=\"195.501447\" xlink:href=\"#mc3c4728d2e\" y=\"73.28507\"/>\r\n     <use style=\"fill:#1f77b4;fill-opacity:0.8;stroke:#1f77b4;stroke-opacity:0.8;\" x=\"339.088621\" xlink:href=\"#mc3c4728d2e\" y=\"209.376962\"/>\r\n     <use style=\"fill:#1f77b4;fill-opacity:0.8;stroke:#1f77b4;stroke-opacity:0.8;\" x=\"339.088621\" xlink:href=\"#mc3c4728d2e\" y=\"206.432631\"/>\r\n     <use style=\"fill:#1f77b4;fill-opacity:0.8;stroke:#1f77b4;stroke-opacity:0.8;\" x=\"219.911266\" xlink:href=\"#mc3c4728d2e\" y=\"196.839019\"/>\r\n     <use style=\"fill:#1f77b4;fill-opacity:0.8;stroke:#1f77b4;stroke-opacity:0.8;\" x=\"219.911266\" xlink:href=\"#mc3c4728d2e\" y=\"195.268709\"/>\r\n     <use style=\"fill:#1f77b4;fill-opacity:0.8;stroke:#1f77b4;stroke-opacity:0.8;\" x=\"76.324093\" xlink:href=\"#mc3c4728d2e\" y=\"181.184992\"/>\r\n     <use style=\"fill:#1f77b4;fill-opacity:0.8;stroke:#1f77b4;stroke-opacity:0.8;\" x=\"219.911266\" xlink:href=\"#mc3c4728d2e\" y=\"178.878599\"/>\r\n     <use style=\"fill:#1f77b4;fill-opacity:0.8;stroke:#1f77b4;stroke-opacity:0.8;\" x=\"219.911266\" xlink:href=\"#mc3c4728d2e\" y=\"165.923542\"/>\r\n     <use style=\"fill:#1f77b4;fill-opacity:0.8;stroke:#1f77b4;stroke-opacity:0.8;\" x=\"219.911266\" xlink:href=\"#mc3c4728d2e\" y=\"163.617149\"/>\r\n     <use style=\"fill:#1f77b4;fill-opacity:0.8;stroke:#1f77b4;stroke-opacity:0.8;\" x=\"117.964373\" xlink:href=\"#mc3c4728d2e\" y=\"229.874414\"/>\r\n     <use style=\"fill:#1f77b4;fill-opacity:0.8;stroke:#1f77b4;stroke-opacity:0.8;\" x=\"158.168782\" xlink:href=\"#mc3c4728d2e\" y=\"220.378946\"/>\r\n     <use style=\"fill:#1f77b4;fill-opacity:0.8;stroke:#1f77b4;stroke-opacity:0.8;\" x=\"158.168782\" xlink:href=\"#mc3c4728d2e\" y=\"217.679976\"/>\r\n     <use style=\"fill:#1f77b4;fill-opacity:0.8;stroke:#1f77b4;stroke-opacity:0.8;\" x=\"158.168782\" xlink:href=\"#mc3c4728d2e\" y=\"220.020719\"/>\r\n     <use style=\"fill:#1f77b4;fill-opacity:0.8;stroke:#1f77b4;stroke-opacity:0.8;\" x=\"158.168782\" xlink:href=\"#mc3c4728d2e\" y=\"216.835934\"/>\r\n     <use style=\"fill:#1f77b4;fill-opacity:0.8;stroke:#1f77b4;stroke-opacity:0.8;\" x=\"158.168782\" xlink:href=\"#mc3c4728d2e\" y=\"206.113662\"/>\r\n     <use style=\"fill:#1f77b4;fill-opacity:0.8;stroke:#1f77b4;stroke-opacity:0.8;\" x=\"158.168782\" xlink:href=\"#mc3c4728d2e\" y=\"209.68121\"/>\r\n     <use style=\"fill:#1f77b4;fill-opacity:0.8;stroke:#1f77b4;stroke-opacity:0.8;\" x=\"158.168782\" xlink:href=\"#mc3c4728d2e\" y=\"199.739185\"/>\r\n     <use style=\"fill:#1f77b4;fill-opacity:0.8;stroke:#1f77b4;stroke-opacity:0.8;\" x=\"158.168782\" xlink:href=\"#mc3c4728d2e\" y=\"218.366987\"/>\r\n     <use style=\"fill:#1f77b4;fill-opacity:0.8;stroke:#1f77b4;stroke-opacity:0.8;\" x=\"158.168782\" xlink:href=\"#mc3c4728d2e\" y=\"204.945744\"/>\r\n     <use style=\"fill:#1f77b4;fill-opacity:0.8;stroke:#1f77b4;stroke-opacity:0.8;\" x=\"158.168782\" xlink:href=\"#mc3c4728d2e\" y=\"215.668016\"/>\r\n     <use style=\"fill:#1f77b4;fill-opacity:0.8;stroke:#1f77b4;stroke-opacity:0.8;\" x=\"158.168782\" xlink:href=\"#mc3c4728d2e\" y=\"197.604545\"/>\r\n     <use style=\"fill:#1f77b4;fill-opacity:0.8;stroke:#1f77b4;stroke-opacity:0.8;\" x=\"214.167779\" xlink:href=\"#mc3c4728d2e\" y=\"228.745754\"/>\r\n     <use style=\"fill:#1f77b4;fill-opacity:0.8;stroke:#1f77b4;stroke-opacity:0.8;\" x=\"214.167779\" xlink:href=\"#mc3c4728d2e\" y=\"223.887608\"/>\r\n     <use style=\"fill:#1f77b4;fill-opacity:0.8;stroke:#1f77b4;stroke-opacity:0.8;\" x=\"214.167779\" xlink:href=\"#mc3c4728d2e\" y=\"223.151525\"/>\r\n     <use style=\"fill:#1f77b4;fill-opacity:0.8;stroke:#1f77b4;stroke-opacity:0.8;\" x=\"214.167779\" xlink:href=\"#mc3c4728d2e\" y=\"221.041421\"/>\r\n     <use style=\"fill:#1f77b4;fill-opacity:0.8;stroke:#1f77b4;stroke-opacity:0.8;\" x=\"214.167779\" xlink:href=\"#mc3c4728d2e\" y=\"216.232347\"/>\r\n     <use style=\"fill:#1f77b4;fill-opacity:0.8;stroke:#1f77b4;stroke-opacity:0.8;\" x=\"214.167779\" xlink:href=\"#mc3c4728d2e\" y=\"211.913994\"/>\r\n     <use style=\"fill:#1f77b4;fill-opacity:0.8;stroke:#1f77b4;stroke-opacity:0.8;\" x=\"214.167779\" xlink:href=\"#mc3c4728d2e\" y=\"220.943276\"/>\r\n     <use style=\"fill:#1f77b4;fill-opacity:0.8;stroke:#1f77b4;stroke-opacity:0.8;\" x=\"214.167779\" xlink:href=\"#mc3c4728d2e\" y=\"219.6674\"/>\r\n     <use style=\"fill:#1f77b4;fill-opacity:0.8;stroke:#1f77b4;stroke-opacity:0.8;\" x=\"260.115675\" xlink:href=\"#mc3c4728d2e\" y=\"216.232347\"/>\r\n     <use style=\"fill:#1f77b4;fill-opacity:0.8;stroke:#1f77b4;stroke-opacity:0.8;\" x=\"260.115675\" xlink:href=\"#mc3c4728d2e\" y=\"216.772141\"/>\r\n     <use style=\"fill:#1f77b4;fill-opacity:0.8;stroke:#1f77b4;stroke-opacity:0.8;\" x=\"214.167779\" xlink:href=\"#mc3c4728d2e\" y=\"217.017502\"/>\r\n     <use style=\"fill:#1f77b4;fill-opacity:0.8;stroke:#1f77b4;stroke-opacity:0.8;\" x=\"214.167779\" xlink:href=\"#mc3c4728d2e\" y=\"213.975026\"/>\r\n     <use style=\"fill:#1f77b4;fill-opacity:0.8;stroke:#1f77b4;stroke-opacity:0.8;\" x=\"214.167779\" xlink:href=\"#mc3c4728d2e\" y=\"209.558529\"/>\r\n     <use style=\"fill:#1f77b4;fill-opacity:0.8;stroke:#1f77b4;stroke-opacity:0.8;\" x=\"214.167779\" xlink:href=\"#mc3c4728d2e\" y=\"215.447192\"/>\r\n     <use style=\"fill:#1f77b4;fill-opacity:0.8;stroke:#1f77b4;stroke-opacity:0.8;\" x=\"214.167779\" xlink:href=\"#mc3c4728d2e\" y=\"214.563892\"/>\r\n     <use style=\"fill:#1f77b4;fill-opacity:0.8;stroke:#1f77b4;stroke-opacity:0.8;\" x=\"221.347138\" xlink:href=\"#mc3c4728d2e\" y=\"209.362241\"/>\r\n     <use style=\"fill:#1f77b4;fill-opacity:0.8;stroke:#1f77b4;stroke-opacity:0.8;\" x=\"221.347138\" xlink:href=\"#mc3c4728d2e\" y=\"208.184508\"/>\r\n     <use style=\"fill:#1f77b4;fill-opacity:0.8;stroke:#1f77b4;stroke-opacity:0.8;\" x=\"281.653751\" xlink:href=\"#mc3c4728d2e\" y=\"213.528469\"/>\r\n     <use style=\"fill:#1f77b4;fill-opacity:0.8;stroke:#1f77b4;stroke-opacity:0.8;\" x=\"281.653751\" xlink:href=\"#mc3c4728d2e\" y=\"207.688879\"/>\r\n     <use style=\"fill:#1f77b4;fill-opacity:0.8;stroke:#1f77b4;stroke-opacity:0.8;\" x=\"281.653751\" xlink:href=\"#mc3c4728d2e\" y=\"205.971353\"/>\r\n     <use style=\"fill:#1f77b4;fill-opacity:0.8;stroke:#1f77b4;stroke-opacity:0.8;\" x=\"281.653751\" xlink:href=\"#mc3c4728d2e\" y=\"200.033618\"/>\r\n     <use style=\"fill:#1f77b4;fill-opacity:0.8;stroke:#1f77b4;stroke-opacity:0.8;\" x=\"281.653751\" xlink:href=\"#mc3c4728d2e\" y=\"198.316092\"/>\r\n     <use style=\"fill:#1f77b4;fill-opacity:0.8;stroke:#1f77b4;stroke-opacity:0.8;\" x=\"281.653751\" xlink:href=\"#mc3c4728d2e\" y=\"168.283914\"/>\r\n     <use style=\"fill:#1f77b4;fill-opacity:0.8;stroke:#1f77b4;stroke-opacity:0.8;\" x=\"287.397238\" xlink:href=\"#mc3c4728d2e\" y=\"211.079767\"/>\r\n     <use style=\"fill:#1f77b4;fill-opacity:0.8;stroke:#1f77b4;stroke-opacity:0.8;\" x=\"260.115675\" xlink:href=\"#mc3c4728d2e\" y=\"202.492135\"/>\r\n     <use style=\"fill:#1f77b4;fill-opacity:0.8;stroke:#1f77b4;stroke-opacity:0.8;\" x=\"287.397238\" xlink:href=\"#mc3c4728d2e\" y=\"205.97626\"/>\r\n     <use style=\"fill:#1f77b4;fill-opacity:0.8;stroke:#1f77b4;stroke-opacity:0.8;\" x=\"287.397238\" xlink:href=\"#mc3c4728d2e\" y=\"201.510691\"/>\r\n     <use style=\"fill:#1f77b4;fill-opacity:0.8;stroke:#1f77b4;stroke-opacity:0.8;\" x=\"287.397238\" xlink:href=\"#mc3c4728d2e\" y=\"199.793164\"/>\r\n     <use style=\"fill:#1f77b4;fill-opacity:0.8;stroke:#1f77b4;stroke-opacity:0.8;\" x=\"260.115675\" xlink:href=\"#mc3c4728d2e\" y=\"173.735834\"/>\r\n     <use style=\"fill:#1f77b4;fill-opacity:0.8;stroke:#1f77b4;stroke-opacity:0.8;\" x=\"260.115675\" xlink:href=\"#mc3c4728d2e\" y=\"176.483876\"/>\r\n     <use style=\"fill:#1f77b4;fill-opacity:0.8;stroke:#1f77b4;stroke-opacity:0.8;\" x=\"260.115675\" xlink:href=\"#mc3c4728d2e\" y=\"177.995299\"/>\r\n     <use style=\"fill:#1f77b4;fill-opacity:0.8;stroke:#1f77b4;stroke-opacity:0.8;\" x=\"260.115675\" xlink:href=\"#mc3c4728d2e\" y=\"177.700866\"/>\r\n     <use style=\"fill:#1f77b4;fill-opacity:0.8;stroke:#1f77b4;stroke-opacity:0.8;\" x=\"267.295034\" xlink:href=\"#mc3c4728d2e\" y=\"216.835934\"/>\r\n     <use style=\"fill:#1f77b4;fill-opacity:0.8;stroke:#1f77b4;stroke-opacity:0.8;\" x=\"267.295034\" xlink:href=\"#mc3c4728d2e\" y=\"215.854491\"/>\r\n     <use style=\"fill:#1f77b4;fill-opacity:0.8;stroke:#1f77b4;stroke-opacity:0.8;\" x=\"267.295034\" xlink:href=\"#mc3c4728d2e\" y=\"215.756346\"/>\r\n     <use style=\"fill:#1f77b4;fill-opacity:0.8;stroke:#1f77b4;stroke-opacity:0.8;\" x=\"267.295034\" xlink:href=\"#mc3c4728d2e\" y=\"214.774903\"/>\r\n     <use style=\"fill:#1f77b4;fill-opacity:0.8;stroke:#1f77b4;stroke-opacity:0.8;\" x=\"267.295034\" xlink:href=\"#mc3c4728d2e\" y=\"213.302737\"/>\r\n     <use style=\"fill:#1f77b4;fill-opacity:0.8;stroke:#1f77b4;stroke-opacity:0.8;\" x=\"267.295034\" xlink:href=\"#mc3c4728d2e\" y=\"208.395518\"/>\r\n     <use style=\"fill:#1f77b4;fill-opacity:0.8;stroke:#1f77b4;stroke-opacity:0.8;\" x=\"267.295034\" xlink:href=\"#mc3c4728d2e\" y=\"205.941909\"/>\r\n     <use style=\"fill:#1f77b4;fill-opacity:0.8;stroke:#1f77b4;stroke-opacity:0.8;\" x=\"267.295034\" xlink:href=\"#mc3c4728d2e\" y=\"198.09036\"/>\r\n     <use style=\"fill:#1f77b4;fill-opacity:0.8;stroke:#1f77b4;stroke-opacity:0.8;\" x=\"267.295034\" xlink:href=\"#mc3c4728d2e\" y=\"206.015517\"/>\r\n     <use style=\"fill:#1f77b4;fill-opacity:0.8;stroke:#1f77b4;stroke-opacity:0.8;\" x=\"267.295034\" xlink:href=\"#mc3c4728d2e\" y=\"189.748088\"/>\r\n     <use style=\"fill:#1f77b4;fill-opacity:0.8;stroke:#1f77b4;stroke-opacity:0.8;\" x=\"267.295034\" xlink:href=\"#mc3c4728d2e\" y=\"187.049118\"/>\r\n     <use style=\"fill:#1f77b4;fill-opacity:0.8;stroke:#1f77b4;stroke-opacity:0.8;\" x=\"267.295034\" xlink:href=\"#mc3c4728d2e\" y=\"194.679843\"/>\r\n     <use style=\"fill:#1f77b4;fill-opacity:0.8;stroke:#1f77b4;stroke-opacity:0.8;\" x=\"231.39824\" xlink:href=\"#mc3c4728d2e\" y=\"191.490151\"/>\r\n     <use style=\"fill:#1f77b4;fill-opacity:0.8;stroke:#1f77b4;stroke-opacity:0.8;\" x=\"231.39824\" xlink:href=\"#mc3c4728d2e\" y=\"189.159222\"/>\r\n     <use style=\"fill:#1f77b4;fill-opacity:0.8;stroke:#1f77b4;stroke-opacity:0.8;\" x=\"231.39824\" xlink:href=\"#mc3c4728d2e\" y=\"176.54767\"/>\r\n     <use style=\"fill:#1f77b4;fill-opacity:0.8;stroke:#1f77b4;stroke-opacity:0.8;\" x=\"231.39824\" xlink:href=\"#mc3c4728d2e\" y=\"173.946844\"/>\r\n     <use style=\"fill:#1f77b4;fill-opacity:0.8;stroke:#1f77b4;stroke-opacity:0.8;\" x=\"231.39824\" xlink:href=\"#mc3c4728d2e\" y=\"164.598593\"/>\r\n     <use style=\"fill:#1f77b4;fill-opacity:0.8;stroke:#1f77b4;stroke-opacity:0.8;\" x=\"231.39824\" xlink:href=\"#mc3c4728d2e\" y=\"161.997767\"/>\r\n     <use style=\"fill:#1f77b4;fill-opacity:0.8;stroke:#1f77b4;stroke-opacity:0.8;\" x=\"231.39824\" xlink:href=\"#mc3c4728d2e\" y=\"172.327462\"/>\r\n     <use style=\"fill:#1f77b4;fill-opacity:0.8;stroke:#1f77b4;stroke-opacity:0.8;\" x=\"231.39824\" xlink:href=\"#mc3c4728d2e\" y=\"161.531581\"/>\r\n     <use style=\"fill:#1f77b4;fill-opacity:0.8;stroke:#1f77b4;stroke-opacity:0.8;\" x=\"191.193832\" xlink:href=\"#mc3c4728d2e\" y=\"149.557968\"/>\r\n     <use style=\"fill:#1f77b4;fill-opacity:0.8;stroke:#1f77b4;stroke-opacity:0.8;\" x=\"267.295034\" xlink:href=\"#mc3c4728d2e\" y=\"144.724358\"/>\r\n     <use style=\"fill:#1f77b4;fill-opacity:0.8;stroke:#1f77b4;stroke-opacity:0.8;\" x=\"231.39824\" xlink:href=\"#mc3c4728d2e\" y=\"143.963739\"/>\r\n    </g>\r\n   </g>\r\n   <g id=\"PolyCollection_1\">\r\n    <path clip-path=\"url(#p3f4310ef21)\" d=\"M 76.324093 179.411791 \r\nL 76.324093 223.355924 \r\nL 79.369881 222.79056 \r\nL 82.41567 222.225135 \r\nL 85.461458 221.659709 \r\nL 88.507247 221.097669 \r\nL 91.553035 220.566981 \r\nL 94.598824 220.035198 \r\nL 97.644612 219.452358 \r\nL 100.690401 218.82989 \r\nL 103.736189 218.265231 \r\nL 106.781978 217.700572 \r\nL 109.827766 217.13571 \r\nL 112.873555 216.568278 \r\nL 115.919344 216.049921 \r\nL 118.965132 215.456204 \r\nL 122.010921 214.874603 \r\nL 125.056709 214.333338 \r\nL 128.102498 213.807472 \r\nL 131.148286 213.280161 \r\nL 134.194075 212.740172 \r\nL 137.239863 212.065166 \r\nL 140.285652 211.478725 \r\nL 143.33144 210.884011 \r\nL 146.377229 210.235476 \r\nL 149.423017 209.747017 \r\nL 152.468806 209.125978 \r\nL 155.514594 208.646465 \r\nL 158.560383 208.083237 \r\nL 161.606172 207.519 \r\nL 164.65196 206.952966 \r\nL 167.697749 206.385716 \r\nL 170.743537 205.834776 \r\nL 173.789326 205.261537 \r\nL 176.835114 204.731447 \r\nL 179.880903 204.175047 \r\nL 182.926691 203.692033 \r\nL 185.97248 203.195572 \r\nL 189.018268 202.788775 \r\nL 192.064057 202.265102 \r\nL 195.109845 201.75862 \r\nL 198.155634 201.297017 \r\nL 201.201422 200.761136 \r\nL 204.247211 200.222797 \r\nL 207.293 199.925923 \r\nL 210.338788 199.618328 \r\nL 213.384577 199.104512 \r\nL 216.430365 198.674316 \r\nL 219.476154 198.338094 \r\nL 222.521942 197.968239 \r\nL 225.567731 197.53477 \r\nL 228.613519 197.150876 \r\nL 231.659308 196.801986 \r\nL 234.705096 196.361476 \r\nL 237.750885 196.104925 \r\nL 240.796673 195.860909 \r\nL 243.842462 195.484815 \r\nL 246.88825 195.209779 \r\nL 249.934039 195.069798 \r\nL 252.979828 195.059553 \r\nL 256.025616 194.946219 \r\nL 259.071405 194.944154 \r\nL 262.117193 194.793627 \r\nL 265.162982 194.718752 \r\nL 268.20877 194.643458 \r\nL 271.254559 194.672587 \r\nL 274.300347 194.610802 \r\nL 277.346136 194.677359 \r\nL 280.391924 194.746147 \r\nL 283.437713 194.810191 \r\nL 286.483501 194.808749 \r\nL 289.52929 194.871515 \r\nL 292.575078 194.84472 \r\nL 295.620867 195.037788 \r\nL 298.666656 195.142656 \r\nL 301.712444 195.210414 \r\nL 304.758233 195.275932 \r\nL 307.804021 195.405713 \r\nL 310.84981 195.592729 \r\nL 313.895598 195.695935 \r\nL 316.941387 195.782037 \r\nL 319.987175 195.931688 \r\nL 323.032964 196.086894 \r\nL 326.078752 196.242904 \r\nL 329.124541 196.468738 \r\nL 332.170329 196.816693 \r\nL 335.216118 196.942232 \r\nL 338.261906 197.025688 \r\nL 341.307695 197.019106 \r\nL 344.353484 197.20202 \r\nL 347.399272 197.377646 \r\nL 350.445061 197.533488 \r\nL 353.490849 197.691157 \r\nL 356.536638 197.817789 \r\nL 359.582426 197.942868 \r\nL 362.628215 198.08471 \r\nL 365.674003 198.237902 \r\nL 368.719792 198.389914 \r\nL 371.76558 198.541906 \r\nL 374.811369 198.693897 \r\nL 377.857157 198.814231 \r\nL 377.857157 164.047567 \r\nL 377.857157 164.047567 \r\nL 374.811369 164.711416 \r\nL 371.76558 165.411707 \r\nL 368.719792 166.000162 \r\nL 365.674003 166.494977 \r\nL 362.628215 166.925726 \r\nL 359.582426 167.356475 \r\nL 356.536638 167.787224 \r\nL 353.490849 168.26076 \r\nL 350.445061 168.78835 \r\nL 347.399272 169.393038 \r\nL 344.353484 169.909426 \r\nL 341.307695 170.464122 \r\nL 338.261906 171.02808 \r\nL 335.216118 171.592641 \r\nL 332.170329 172.157202 \r\nL 329.124541 172.72176 \r\nL 326.078752 173.28452 \r\nL 323.032964 173.774027 \r\nL 319.987175 174.24472 \r\nL 316.941387 174.884224 \r\nL 313.895598 175.466572 \r\nL 310.84981 175.886741 \r\nL 307.804021 176.412182 \r\nL 304.758233 176.978815 \r\nL 301.712444 177.421768 \r\nL 298.666656 177.865915 \r\nL 295.620867 178.312264 \r\nL 292.575078 178.794553 \r\nL 289.52929 179.318372 \r\nL 286.483501 179.715079 \r\nL 283.437713 180.239202 \r\nL 280.391924 180.787079 \r\nL 277.346136 181.218637 \r\nL 274.300347 181.703389 \r\nL 271.254559 182.075768 \r\nL 268.20877 182.503813 \r\nL 265.162982 182.777374 \r\nL 262.117193 183.238779 \r\nL 259.071405 183.58923 \r\nL 256.025616 183.86936 \r\nL 252.979828 184.159306 \r\nL 249.934039 184.349716 \r\nL 246.88825 184.639578 \r\nL 243.842462 184.673777 \r\nL 240.796673 184.890558 \r\nL 237.750885 184.975495 \r\nL 234.705096 185.079706 \r\nL 231.659308 185.207484 \r\nL 228.613519 185.416757 \r\nL 225.567731 185.519138 \r\nL 222.521942 185.530161 \r\nL 219.476154 185.531749 \r\nL 216.430365 185.440286 \r\nL 213.384577 185.46076 \r\nL 210.338788 185.365791 \r\nL 207.293 185.272425 \r\nL 204.247211 185.183554 \r\nL 201.201422 185.204777 \r\nL 198.155634 185.083294 \r\nL 195.109845 185.111529 \r\nL 192.064057 185.05247 \r\nL 189.018268 184.935755 \r\nL 185.97248 184.781754 \r\nL 182.926691 184.697293 \r\nL 179.880903 184.508431 \r\nL 176.835114 184.329546 \r\nL 173.789326 184.28348 \r\nL 170.743537 184.227235 \r\nL 167.697749 184.053169 \r\nL 164.65196 183.812766 \r\nL 161.606172 183.672375 \r\nL 158.560383 183.514338 \r\nL 155.514594 183.386867 \r\nL 152.468806 183.298495 \r\nL 149.423017 183.268686 \r\nL 146.377229 183.238876 \r\nL 143.33144 183.154171 \r\nL 140.285652 183.015318 \r\nL 137.239863 182.746569 \r\nL 134.194075 182.47782 \r\nL 131.148286 182.209071 \r\nL 128.102498 181.940322 \r\nL 125.056709 181.671662 \r\nL 122.010921 181.436424 \r\nL 118.965132 181.259292 \r\nL 115.919344 181.137977 \r\nL 112.873555 181.041116 \r\nL 109.827766 180.899214 \r\nL 106.781978 180.663144 \r\nL 103.736189 180.555228 \r\nL 100.690401 180.46054 \r\nL 97.644612 180.365852 \r\nL 94.598824 180.271164 \r\nL 91.553035 180.176477 \r\nL 88.507247 180.081789 \r\nL 85.461458 179.987101 \r\nL 82.41567 179.812617 \r\nL 79.369881 179.612204 \r\nL 76.324093 179.411791 \r\nz\r\n\" style=\"fill:#1f77b4;fill-opacity:0.15;\"/>\r\n   </g>\r\n   <g id=\"matplotlib.axis_1\">\r\n    <g id=\"xtick_1\">\r\n     <g id=\"line2d_1\">\r\n      <defs>\r\n       <path d=\"M 0 0 \r\nL 0 3.5 \r\n\" id=\"mbb82162ec8\" style=\"stroke:#000000;stroke-width:0.8;\"/>\r\n      </defs>\r\n      <g>\r\n       <use style=\"stroke:#000000;stroke-width:0.8;\" x=\"66.27299\" xlink:href=\"#mbb82162ec8\" y=\"239.758125\"/>\r\n      </g>\r\n     </g>\r\n     <g id=\"text_1\">\r\n      <!-- 2.0 -->\r\n      <defs>\r\n       <path d=\"M 19.1875 8.296875 \r\nL 53.609375 8.296875 \r\nL 53.609375 0 \r\nL 7.328125 0 \r\nL 7.328125 8.296875 \r\nQ 12.9375 14.109375 22.625 23.890625 \r\nQ 32.328125 33.6875 34.8125 36.53125 \r\nQ 39.546875 41.84375 41.421875 45.53125 \r\nQ 43.3125 49.21875 43.3125 52.78125 \r\nQ 43.3125 58.59375 39.234375 62.25 \r\nQ 35.15625 65.921875 28.609375 65.921875 \r\nQ 23.96875 65.921875 18.8125 64.3125 \r\nQ 13.671875 62.703125 7.8125 59.421875 \r\nL 7.8125 69.390625 \r\nQ 13.765625 71.78125 18.9375 73 \r\nQ 24.125 74.21875 28.421875 74.21875 \r\nQ 39.75 74.21875 46.484375 68.546875 \r\nQ 53.21875 62.890625 53.21875 53.421875 \r\nQ 53.21875 48.921875 51.53125 44.890625 \r\nQ 49.859375 40.875 45.40625 35.40625 \r\nQ 44.1875 33.984375 37.640625 27.21875 \r\nQ 31.109375 20.453125 19.1875 8.296875 \r\nz\r\n\" id=\"DejaVuSans-50\"/>\r\n       <path d=\"M 10.6875 12.40625 \r\nL 21 12.40625 \r\nL 21 0 \r\nL 10.6875 0 \r\nz\r\n\" id=\"DejaVuSans-46\"/>\r\n       <path d=\"M 31.78125 66.40625 \r\nQ 24.171875 66.40625 20.328125 58.90625 \r\nQ 16.5 51.421875 16.5 36.375 \r\nQ 16.5 21.390625 20.328125 13.890625 \r\nQ 24.171875 6.390625 31.78125 6.390625 \r\nQ 39.453125 6.390625 43.28125 13.890625 \r\nQ 47.125 21.390625 47.125 36.375 \r\nQ 47.125 51.421875 43.28125 58.90625 \r\nQ 39.453125 66.40625 31.78125 66.40625 \r\nz\r\nM 31.78125 74.21875 \r\nQ 44.046875 74.21875 50.515625 64.515625 \r\nQ 56.984375 54.828125 56.984375 36.375 \r\nQ 56.984375 17.96875 50.515625 8.265625 \r\nQ 44.046875 -1.421875 31.78125 -1.421875 \r\nQ 19.53125 -1.421875 13.0625 8.265625 \r\nQ 6.59375 17.96875 6.59375 36.375 \r\nQ 6.59375 54.828125 13.0625 64.515625 \r\nQ 19.53125 74.21875 31.78125 74.21875 \r\nz\r\n\" id=\"DejaVuSans-48\"/>\r\n      </defs>\r\n      <g transform=\"translate(58.321428 254.356562)scale(0.1 -0.1)\">\r\n       <use xlink:href=\"#DejaVuSans-50\"/>\r\n       <use x=\"63.623047\" xlink:href=\"#DejaVuSans-46\"/>\r\n       <use x=\"95.410156\" xlink:href=\"#DejaVuSans-48\"/>\r\n      </g>\r\n     </g>\r\n    </g>\r\n    <g id=\"xtick_2\">\r\n     <g id=\"line2d_2\">\r\n      <g>\r\n       <use style=\"stroke:#000000;stroke-width:0.8;\" x=\"138.066577\" xlink:href=\"#mbb82162ec8\" y=\"239.758125\"/>\r\n      </g>\r\n     </g>\r\n     <g id=\"text_2\">\r\n      <!-- 2.5 -->\r\n      <defs>\r\n       <path d=\"M 10.796875 72.90625 \r\nL 49.515625 72.90625 \r\nL 49.515625 64.59375 \r\nL 19.828125 64.59375 \r\nL 19.828125 46.734375 \r\nQ 21.96875 47.46875 24.109375 47.828125 \r\nQ 26.265625 48.1875 28.421875 48.1875 \r\nQ 40.625 48.1875 47.75 41.5 \r\nQ 54.890625 34.8125 54.890625 23.390625 \r\nQ 54.890625 11.625 47.5625 5.09375 \r\nQ 40.234375 -1.421875 26.90625 -1.421875 \r\nQ 22.3125 -1.421875 17.546875 -0.640625 \r\nQ 12.796875 0.140625 7.71875 1.703125 \r\nL 7.71875 11.625 \r\nQ 12.109375 9.234375 16.796875 8.0625 \r\nQ 21.484375 6.890625 26.703125 6.890625 \r\nQ 35.15625 6.890625 40.078125 11.328125 \r\nQ 45.015625 15.765625 45.015625 23.390625 \r\nQ 45.015625 31 40.078125 35.4375 \r\nQ 35.15625 39.890625 26.703125 39.890625 \r\nQ 22.75 39.890625 18.8125 39.015625 \r\nQ 14.890625 38.140625 10.796875 36.28125 \r\nz\r\n\" id=\"DejaVuSans-53\"/>\r\n      </defs>\r\n      <g transform=\"translate(130.115015 254.356562)scale(0.1 -0.1)\">\r\n       <use xlink:href=\"#DejaVuSans-50\"/>\r\n       <use x=\"63.623047\" xlink:href=\"#DejaVuSans-46\"/>\r\n       <use x=\"95.410156\" xlink:href=\"#DejaVuSans-53\"/>\r\n      </g>\r\n     </g>\r\n    </g>\r\n    <g id=\"xtick_3\">\r\n     <g id=\"line2d_3\">\r\n      <g>\r\n       <use style=\"stroke:#000000;stroke-width:0.8;\" x=\"209.860164\" xlink:href=\"#mbb82162ec8\" y=\"239.758125\"/>\r\n      </g>\r\n     </g>\r\n     <g id=\"text_3\">\r\n      <!-- 3.0 -->\r\n      <defs>\r\n       <path d=\"M 40.578125 39.3125 \r\nQ 47.65625 37.796875 51.625 33 \r\nQ 55.609375 28.21875 55.609375 21.1875 \r\nQ 55.609375 10.40625 48.1875 4.484375 \r\nQ 40.765625 -1.421875 27.09375 -1.421875 \r\nQ 22.515625 -1.421875 17.65625 -0.515625 \r\nQ 12.796875 0.390625 7.625 2.203125 \r\nL 7.625 11.71875 \r\nQ 11.71875 9.328125 16.59375 8.109375 \r\nQ 21.484375 6.890625 26.8125 6.890625 \r\nQ 36.078125 6.890625 40.9375 10.546875 \r\nQ 45.796875 14.203125 45.796875 21.1875 \r\nQ 45.796875 27.640625 41.28125 31.265625 \r\nQ 36.765625 34.90625 28.71875 34.90625 \r\nL 20.21875 34.90625 \r\nL 20.21875 43.015625 \r\nL 29.109375 43.015625 \r\nQ 36.375 43.015625 40.234375 45.921875 \r\nQ 44.09375 48.828125 44.09375 54.296875 \r\nQ 44.09375 59.90625 40.109375 62.90625 \r\nQ 36.140625 65.921875 28.71875 65.921875 \r\nQ 24.65625 65.921875 20.015625 65.03125 \r\nQ 15.375 64.15625 9.8125 62.3125 \r\nL 9.8125 71.09375 \r\nQ 15.4375 72.65625 20.34375 73.4375 \r\nQ 25.25 74.21875 29.59375 74.21875 \r\nQ 40.828125 74.21875 47.359375 69.109375 \r\nQ 53.90625 64.015625 53.90625 55.328125 \r\nQ 53.90625 49.265625 50.4375 45.09375 \r\nQ 46.96875 40.921875 40.578125 39.3125 \r\nz\r\n\" id=\"DejaVuSans-51\"/>\r\n      </defs>\r\n      <g transform=\"translate(201.908602 254.356562)scale(0.1 -0.1)\">\r\n       <use xlink:href=\"#DejaVuSans-51\"/>\r\n       <use x=\"63.623047\" xlink:href=\"#DejaVuSans-46\"/>\r\n       <use x=\"95.410156\" xlink:href=\"#DejaVuSans-48\"/>\r\n      </g>\r\n     </g>\r\n    </g>\r\n    <g id=\"xtick_4\">\r\n     <g id=\"line2d_4\">\r\n      <g>\r\n       <use style=\"stroke:#000000;stroke-width:0.8;\" x=\"281.653751\" xlink:href=\"#mbb82162ec8\" y=\"239.758125\"/>\r\n      </g>\r\n     </g>\r\n     <g id=\"text_4\">\r\n      <!-- 3.5 -->\r\n      <g transform=\"translate(273.702189 254.356562)scale(0.1 -0.1)\">\r\n       <use xlink:href=\"#DejaVuSans-51\"/>\r\n       <use x=\"63.623047\" xlink:href=\"#DejaVuSans-46\"/>\r\n       <use x=\"95.410156\" xlink:href=\"#DejaVuSans-53\"/>\r\n      </g>\r\n     </g>\r\n    </g>\r\n    <g id=\"xtick_5\">\r\n     <g id=\"line2d_5\">\r\n      <g>\r\n       <use style=\"stroke:#000000;stroke-width:0.8;\" x=\"353.447338\" xlink:href=\"#mbb82162ec8\" y=\"239.758125\"/>\r\n      </g>\r\n     </g>\r\n     <g id=\"text_5\">\r\n      <!-- 4.0 -->\r\n      <defs>\r\n       <path d=\"M 37.796875 64.3125 \r\nL 12.890625 25.390625 \r\nL 37.796875 25.390625 \r\nz\r\nM 35.203125 72.90625 \r\nL 47.609375 72.90625 \r\nL 47.609375 25.390625 \r\nL 58.015625 25.390625 \r\nL 58.015625 17.1875 \r\nL 47.609375 17.1875 \r\nL 47.609375 0 \r\nL 37.796875 0 \r\nL 37.796875 17.1875 \r\nL 4.890625 17.1875 \r\nL 4.890625 26.703125 \r\nz\r\n\" id=\"DejaVuSans-52\"/>\r\n      </defs>\r\n      <g transform=\"translate(345.495775 254.356562)scale(0.1 -0.1)\">\r\n       <use xlink:href=\"#DejaVuSans-52\"/>\r\n       <use x=\"63.623047\" xlink:href=\"#DejaVuSans-46\"/>\r\n       <use x=\"95.410156\" xlink:href=\"#DejaVuSans-48\"/>\r\n      </g>\r\n     </g>\r\n    </g>\r\n    <g id=\"text_6\">\r\n     <!-- stroke -->\r\n     <defs>\r\n      <path d=\"M 44.28125 53.078125 \r\nL 44.28125 44.578125 \r\nQ 40.484375 46.53125 36.375 47.5 \r\nQ 32.28125 48.484375 27.875 48.484375 \r\nQ 21.1875 48.484375 17.84375 46.4375 \r\nQ 14.5 44.390625 14.5 40.28125 \r\nQ 14.5 37.15625 16.890625 35.375 \r\nQ 19.28125 33.59375 26.515625 31.984375 \r\nL 29.59375 31.296875 \r\nQ 39.15625 29.25 43.1875 25.515625 \r\nQ 47.21875 21.78125 47.21875 15.09375 \r\nQ 47.21875 7.46875 41.1875 3.015625 \r\nQ 35.15625 -1.421875 24.609375 -1.421875 \r\nQ 20.21875 -1.421875 15.453125 -0.5625 \r\nQ 10.6875 0.296875 5.421875 2 \r\nL 5.421875 11.28125 \r\nQ 10.40625 8.6875 15.234375 7.390625 \r\nQ 20.0625 6.109375 24.8125 6.109375 \r\nQ 31.15625 6.109375 34.5625 8.28125 \r\nQ 37.984375 10.453125 37.984375 14.40625 \r\nQ 37.984375 18.0625 35.515625 20.015625 \r\nQ 33.0625 21.96875 24.703125 23.78125 \r\nL 21.578125 24.515625 \r\nQ 13.234375 26.265625 9.515625 29.90625 \r\nQ 5.8125 33.546875 5.8125 39.890625 \r\nQ 5.8125 47.609375 11.28125 51.796875 \r\nQ 16.75 56 26.8125 56 \r\nQ 31.78125 56 36.171875 55.265625 \r\nQ 40.578125 54.546875 44.28125 53.078125 \r\nz\r\n\" id=\"DejaVuSans-115\"/>\r\n      <path d=\"M 18.3125 70.21875 \r\nL 18.3125 54.6875 \r\nL 36.8125 54.6875 \r\nL 36.8125 47.703125 \r\nL 18.3125 47.703125 \r\nL 18.3125 18.015625 \r\nQ 18.3125 11.328125 20.140625 9.421875 \r\nQ 21.96875 7.515625 27.59375 7.515625 \r\nL 36.8125 7.515625 \r\nL 36.8125 0 \r\nL 27.59375 0 \r\nQ 17.1875 0 13.234375 3.875 \r\nQ 9.28125 7.765625 9.28125 18.015625 \r\nL 9.28125 47.703125 \r\nL 2.6875 47.703125 \r\nL 2.6875 54.6875 \r\nL 9.28125 54.6875 \r\nL 9.28125 70.21875 \r\nz\r\n\" id=\"DejaVuSans-116\"/>\r\n      <path d=\"M 41.109375 46.296875 \r\nQ 39.59375 47.171875 37.8125 47.578125 \r\nQ 36.03125 48 33.890625 48 \r\nQ 26.265625 48 22.1875 43.046875 \r\nQ 18.109375 38.09375 18.109375 28.8125 \r\nL 18.109375 0 \r\nL 9.078125 0 \r\nL 9.078125 54.6875 \r\nL 18.109375 54.6875 \r\nL 18.109375 46.1875 \r\nQ 20.953125 51.171875 25.484375 53.578125 \r\nQ 30.03125 56 36.53125 56 \r\nQ 37.453125 56 38.578125 55.875 \r\nQ 39.703125 55.765625 41.0625 55.515625 \r\nz\r\n\" id=\"DejaVuSans-114\"/>\r\n      <path d=\"M 30.609375 48.390625 \r\nQ 23.390625 48.390625 19.1875 42.75 \r\nQ 14.984375 37.109375 14.984375 27.296875 \r\nQ 14.984375 17.484375 19.15625 11.84375 \r\nQ 23.34375 6.203125 30.609375 6.203125 \r\nQ 37.796875 6.203125 41.984375 11.859375 \r\nQ 46.1875 17.53125 46.1875 27.296875 \r\nQ 46.1875 37.015625 41.984375 42.703125 \r\nQ 37.796875 48.390625 30.609375 48.390625 \r\nz\r\nM 30.609375 56 \r\nQ 42.328125 56 49.015625 48.375 \r\nQ 55.71875 40.765625 55.71875 27.296875 \r\nQ 55.71875 13.875 49.015625 6.21875 \r\nQ 42.328125 -1.421875 30.609375 -1.421875 \r\nQ 18.84375 -1.421875 12.171875 6.21875 \r\nQ 5.515625 13.875 5.515625 27.296875 \r\nQ 5.515625 40.765625 12.171875 48.375 \r\nQ 18.84375 56 30.609375 56 \r\nz\r\n\" id=\"DejaVuSans-111\"/>\r\n      <path d=\"M 9.078125 75.984375 \r\nL 18.109375 75.984375 \r\nL 18.109375 31.109375 \r\nL 44.921875 54.6875 \r\nL 56.390625 54.6875 \r\nL 27.390625 29.109375 \r\nL 57.625 0 \r\nL 45.90625 0 \r\nL 18.109375 26.703125 \r\nL 18.109375 0 \r\nL 9.078125 0 \r\nz\r\n\" id=\"DejaVuSans-107\"/>\r\n      <path d=\"M 56.203125 29.59375 \r\nL 56.203125 25.203125 \r\nL 14.890625 25.203125 \r\nQ 15.484375 15.921875 20.484375 11.0625 \r\nQ 25.484375 6.203125 34.421875 6.203125 \r\nQ 39.59375 6.203125 44.453125 7.46875 \r\nQ 49.3125 8.734375 54.109375 11.28125 \r\nL 54.109375 2.78125 \r\nQ 49.265625 0.734375 44.1875 -0.34375 \r\nQ 39.109375 -1.421875 33.890625 -1.421875 \r\nQ 20.796875 -1.421875 13.15625 6.1875 \r\nQ 5.515625 13.8125 5.515625 26.8125 \r\nQ 5.515625 40.234375 12.765625 48.109375 \r\nQ 20.015625 56 32.328125 56 \r\nQ 43.359375 56 49.78125 48.890625 \r\nQ 56.203125 41.796875 56.203125 29.59375 \r\nz\r\nM 47.21875 32.234375 \r\nQ 47.125 39.59375 43.09375 43.984375 \r\nQ 39.0625 48.390625 32.421875 48.390625 \r\nQ 24.90625 48.390625 20.390625 44.140625 \r\nQ 15.875 39.890625 15.1875 32.171875 \r\nz\r\n\" id=\"DejaVuSans-101\"/>\r\n     </defs>\r\n     <g transform=\"translate(211.442969 268.034687)scale(0.1 -0.1)\">\r\n      <use xlink:href=\"#DejaVuSans-115\"/>\r\n      <use x=\"52.099609\" xlink:href=\"#DejaVuSans-116\"/>\r\n      <use x=\"91.308594\" xlink:href=\"#DejaVuSans-114\"/>\r\n      <use x=\"132.390625\" xlink:href=\"#DejaVuSans-111\"/>\r\n      <use x=\"193.572266\" xlink:href=\"#DejaVuSans-107\"/>\r\n      <use x=\"251.435547\" xlink:href=\"#DejaVuSans-101\"/>\r\n     </g>\r\n    </g>\r\n   </g>\r\n   <g id=\"matplotlib.axis_2\">\r\n    <g id=\"ytick_1\">\r\n     <g id=\"line2d_6\">\r\n      <defs>\r\n       <path d=\"M 0 0 \r\nL -3.5 0 \r\n\" id=\"m4fde4cc700\" style=\"stroke:#000000;stroke-width:0.8;\"/>\r\n      </defs>\r\n      <g>\r\n       <use style=\"stroke:#000000;stroke-width:0.8;\" x=\"59.690625\" xlink:href=\"#m4fde4cc700\" y=\"230.453466\"/>\r\n      </g>\r\n     </g>\r\n     <g id=\"text_7\">\r\n      <!-- 5000 -->\r\n      <g transform=\"translate(27.240625 234.252685)scale(0.1 -0.1)\">\r\n       <use xlink:href=\"#DejaVuSans-53\"/>\r\n       <use x=\"63.623047\" xlink:href=\"#DejaVuSans-48\"/>\r\n       <use x=\"127.246094\" xlink:href=\"#DejaVuSans-48\"/>\r\n       <use x=\"190.869141\" xlink:href=\"#DejaVuSans-48\"/>\r\n      </g>\r\n     </g>\r\n    </g>\r\n    <g id=\"ytick_2\">\r\n     <g id=\"line2d_7\">\r\n      <g>\r\n       <use style=\"stroke:#000000;stroke-width:0.8;\" x=\"59.690625\" xlink:href=\"#m4fde4cc700\" y=\"205.917373\"/>\r\n      </g>\r\n     </g>\r\n     <g id=\"text_8\">\r\n      <!-- 10000 -->\r\n      <defs>\r\n       <path d=\"M 12.40625 8.296875 \r\nL 28.515625 8.296875 \r\nL 28.515625 63.921875 \r\nL 10.984375 60.40625 \r\nL 10.984375 69.390625 \r\nL 28.421875 72.90625 \r\nL 38.28125 72.90625 \r\nL 38.28125 8.296875 \r\nL 54.390625 8.296875 \r\nL 54.390625 0 \r\nL 12.40625 0 \r\nz\r\n\" id=\"DejaVuSans-49\"/>\r\n      </defs>\r\n      <g transform=\"translate(20.878125 209.716592)scale(0.1 -0.1)\">\r\n       <use xlink:href=\"#DejaVuSans-49\"/>\r\n       <use x=\"63.623047\" xlink:href=\"#DejaVuSans-48\"/>\r\n       <use x=\"127.246094\" xlink:href=\"#DejaVuSans-48\"/>\r\n       <use x=\"190.869141\" xlink:href=\"#DejaVuSans-48\"/>\r\n       <use x=\"254.492188\" xlink:href=\"#DejaVuSans-48\"/>\r\n      </g>\r\n     </g>\r\n    </g>\r\n    <g id=\"ytick_3\">\r\n     <g id=\"line2d_8\">\r\n      <g>\r\n       <use style=\"stroke:#000000;stroke-width:0.8;\" x=\"59.690625\" xlink:href=\"#m4fde4cc700\" y=\"181.38128\"/>\r\n      </g>\r\n     </g>\r\n     <g id=\"text_9\">\r\n      <!-- 15000 -->\r\n      <g transform=\"translate(20.878125 185.180499)scale(0.1 -0.1)\">\r\n       <use xlink:href=\"#DejaVuSans-49\"/>\r\n       <use x=\"63.623047\" xlink:href=\"#DejaVuSans-53\"/>\r\n       <use x=\"127.246094\" xlink:href=\"#DejaVuSans-48\"/>\r\n       <use x=\"190.869141\" xlink:href=\"#DejaVuSans-48\"/>\r\n       <use x=\"254.492188\" xlink:href=\"#DejaVuSans-48\"/>\r\n      </g>\r\n     </g>\r\n    </g>\r\n    <g id=\"ytick_4\">\r\n     <g id=\"line2d_9\">\r\n      <g>\r\n       <use style=\"stroke:#000000;stroke-width:0.8;\" x=\"59.690625\" xlink:href=\"#m4fde4cc700\" y=\"156.845187\"/>\r\n      </g>\r\n     </g>\r\n     <g id=\"text_10\">\r\n      <!-- 20000 -->\r\n      <g transform=\"translate(20.878125 160.644406)scale(0.1 -0.1)\">\r\n       <use xlink:href=\"#DejaVuSans-50\"/>\r\n       <use x=\"63.623047\" xlink:href=\"#DejaVuSans-48\"/>\r\n       <use x=\"127.246094\" xlink:href=\"#DejaVuSans-48\"/>\r\n       <use x=\"190.869141\" xlink:href=\"#DejaVuSans-48\"/>\r\n       <use x=\"254.492188\" xlink:href=\"#DejaVuSans-48\"/>\r\n      </g>\r\n     </g>\r\n    </g>\r\n    <g id=\"ytick_5\">\r\n     <g id=\"line2d_10\">\r\n      <g>\r\n       <use style=\"stroke:#000000;stroke-width:0.8;\" x=\"59.690625\" xlink:href=\"#m4fde4cc700\" y=\"132.309095\"/>\r\n      </g>\r\n     </g>\r\n     <g id=\"text_11\">\r\n      <!-- 25000 -->\r\n      <g transform=\"translate(20.878125 136.108313)scale(0.1 -0.1)\">\r\n       <use xlink:href=\"#DejaVuSans-50\"/>\r\n       <use x=\"63.623047\" xlink:href=\"#DejaVuSans-53\"/>\r\n       <use x=\"127.246094\" xlink:href=\"#DejaVuSans-48\"/>\r\n       <use x=\"190.869141\" xlink:href=\"#DejaVuSans-48\"/>\r\n       <use x=\"254.492188\" xlink:href=\"#DejaVuSans-48\"/>\r\n      </g>\r\n     </g>\r\n    </g>\r\n    <g id=\"ytick_6\">\r\n     <g id=\"line2d_11\">\r\n      <g>\r\n       <use style=\"stroke:#000000;stroke-width:0.8;\" x=\"59.690625\" xlink:href=\"#m4fde4cc700\" y=\"107.773002\"/>\r\n      </g>\r\n     </g>\r\n     <g id=\"text_12\">\r\n      <!-- 30000 -->\r\n      <g transform=\"translate(20.878125 111.572221)scale(0.1 -0.1)\">\r\n       <use xlink:href=\"#DejaVuSans-51\"/>\r\n       <use x=\"63.623047\" xlink:href=\"#DejaVuSans-48\"/>\r\n       <use x=\"127.246094\" xlink:href=\"#DejaVuSans-48\"/>\r\n       <use x=\"190.869141\" xlink:href=\"#DejaVuSans-48\"/>\r\n       <use x=\"254.492188\" xlink:href=\"#DejaVuSans-48\"/>\r\n      </g>\r\n     </g>\r\n    </g>\r\n    <g id=\"ytick_7\">\r\n     <g id=\"line2d_12\">\r\n      <g>\r\n       <use style=\"stroke:#000000;stroke-width:0.8;\" x=\"59.690625\" xlink:href=\"#m4fde4cc700\" y=\"83.236909\"/>\r\n      </g>\r\n     </g>\r\n     <g id=\"text_13\">\r\n      <!-- 35000 -->\r\n      <g transform=\"translate(20.878125 87.036128)scale(0.1 -0.1)\">\r\n       <use xlink:href=\"#DejaVuSans-51\"/>\r\n       <use x=\"63.623047\" xlink:href=\"#DejaVuSans-53\"/>\r\n       <use x=\"127.246094\" xlink:href=\"#DejaVuSans-48\"/>\r\n       <use x=\"190.869141\" xlink:href=\"#DejaVuSans-48\"/>\r\n       <use x=\"254.492188\" xlink:href=\"#DejaVuSans-48\"/>\r\n      </g>\r\n     </g>\r\n    </g>\r\n    <g id=\"ytick_8\">\r\n     <g id=\"line2d_13\">\r\n      <g>\r\n       <use style=\"stroke:#000000;stroke-width:0.8;\" x=\"59.690625\" xlink:href=\"#m4fde4cc700\" y=\"58.700816\"/>\r\n      </g>\r\n     </g>\r\n     <g id=\"text_14\">\r\n      <!-- 40000 -->\r\n      <g transform=\"translate(20.878125 62.500035)scale(0.1 -0.1)\">\r\n       <use xlink:href=\"#DejaVuSans-52\"/>\r\n       <use x=\"63.623047\" xlink:href=\"#DejaVuSans-48\"/>\r\n       <use x=\"127.246094\" xlink:href=\"#DejaVuSans-48\"/>\r\n       <use x=\"190.869141\" xlink:href=\"#DejaVuSans-48\"/>\r\n       <use x=\"254.492188\" xlink:href=\"#DejaVuSans-48\"/>\r\n      </g>\r\n     </g>\r\n    </g>\r\n    <g id=\"ytick_9\">\r\n     <g id=\"line2d_14\">\r\n      <g>\r\n       <use style=\"stroke:#000000;stroke-width:0.8;\" x=\"59.690625\" xlink:href=\"#m4fde4cc700\" y=\"34.164723\"/>\r\n      </g>\r\n     </g>\r\n     <g id=\"text_15\">\r\n      <!-- 45000 -->\r\n      <g transform=\"translate(20.878125 37.963942)scale(0.1 -0.1)\">\r\n       <use xlink:href=\"#DejaVuSans-52\"/>\r\n       <use x=\"63.623047\" xlink:href=\"#DejaVuSans-53\"/>\r\n       <use x=\"127.246094\" xlink:href=\"#DejaVuSans-48\"/>\r\n       <use x=\"190.869141\" xlink:href=\"#DejaVuSans-48\"/>\r\n       <use x=\"254.492188\" xlink:href=\"#DejaVuSans-48\"/>\r\n      </g>\r\n     </g>\r\n    </g>\r\n    <g id=\"text_16\">\r\n     <!-- price -->\r\n     <defs>\r\n      <path d=\"M 18.109375 8.203125 \r\nL 18.109375 -20.796875 \r\nL 9.078125 -20.796875 \r\nL 9.078125 54.6875 \r\nL 18.109375 54.6875 \r\nL 18.109375 46.390625 \r\nQ 20.953125 51.265625 25.265625 53.625 \r\nQ 29.59375 56 35.59375 56 \r\nQ 45.5625 56 51.78125 48.09375 \r\nQ 58.015625 40.1875 58.015625 27.296875 \r\nQ 58.015625 14.40625 51.78125 6.484375 \r\nQ 45.5625 -1.421875 35.59375 -1.421875 \r\nQ 29.59375 -1.421875 25.265625 0.953125 \r\nQ 20.953125 3.328125 18.109375 8.203125 \r\nz\r\nM 48.6875 27.296875 \r\nQ 48.6875 37.203125 44.609375 42.84375 \r\nQ 40.53125 48.484375 33.40625 48.484375 \r\nQ 26.265625 48.484375 22.1875 42.84375 \r\nQ 18.109375 37.203125 18.109375 27.296875 \r\nQ 18.109375 17.390625 22.1875 11.75 \r\nQ 26.265625 6.109375 33.40625 6.109375 \r\nQ 40.53125 6.109375 44.609375 11.75 \r\nQ 48.6875 17.390625 48.6875 27.296875 \r\nz\r\n\" id=\"DejaVuSans-112\"/>\r\n      <path d=\"M 9.421875 54.6875 \r\nL 18.40625 54.6875 \r\nL 18.40625 0 \r\nL 9.421875 0 \r\nz\r\nM 9.421875 75.984375 \r\nL 18.40625 75.984375 \r\nL 18.40625 64.59375 \r\nL 9.421875 64.59375 \r\nz\r\n\" id=\"DejaVuSans-105\"/>\r\n      <path d=\"M 48.78125 52.59375 \r\nL 48.78125 44.1875 \r\nQ 44.96875 46.296875 41.140625 47.34375 \r\nQ 37.3125 48.390625 33.40625 48.390625 \r\nQ 24.65625 48.390625 19.8125 42.84375 \r\nQ 14.984375 37.3125 14.984375 27.296875 \r\nQ 14.984375 17.28125 19.8125 11.734375 \r\nQ 24.65625 6.203125 33.40625 6.203125 \r\nQ 37.3125 6.203125 41.140625 7.25 \r\nQ 44.96875 8.296875 48.78125 10.40625 \r\nL 48.78125 2.09375 \r\nQ 45.015625 0.34375 40.984375 -0.53125 \r\nQ 36.96875 -1.421875 32.421875 -1.421875 \r\nQ 20.0625 -1.421875 12.78125 6.34375 \r\nQ 5.515625 14.109375 5.515625 27.296875 \r\nQ 5.515625 40.671875 12.859375 48.328125 \r\nQ 20.21875 56 33.015625 56 \r\nQ 37.15625 56 41.109375 55.140625 \r\nQ 45.0625 54.296875 48.78125 52.59375 \r\nz\r\n\" id=\"DejaVuSans-99\"/>\r\n     </defs>\r\n     <g transform=\"translate(14.798438 143.482656)rotate(-90)scale(0.1 -0.1)\">\r\n      <use xlink:href=\"#DejaVuSans-112\"/>\r\n      <use x=\"63.476562\" xlink:href=\"#DejaVuSans-114\"/>\r\n      <use x=\"104.589844\" xlink:href=\"#DejaVuSans-105\"/>\r\n      <use x=\"132.373047\" xlink:href=\"#DejaVuSans-99\"/>\r\n      <use x=\"187.353516\" xlink:href=\"#DejaVuSans-101\"/>\r\n     </g>\r\n    </g>\r\n   </g>\r\n   <g id=\"line2d_15\">\r\n    <path clip-path=\"url(#p3f4310ef21)\" d=\"M 76.324093 202.227764 \r\nL 79.369881 202.012431 \r\nL 82.41567 201.797097 \r\nL 85.461458 201.581764 \r\nL 88.507247 201.36643 \r\nL 91.553035 201.151097 \r\nL 94.598824 200.935763 \r\nL 97.644612 200.72043 \r\nL 100.690401 200.505096 \r\nL 103.736189 200.289763 \r\nL 106.781978 200.074429 \r\nL 109.827766 199.859096 \r\nL 112.873555 199.643762 \r\nL 115.919344 199.428429 \r\nL 118.965132 199.213095 \r\nL 122.010921 198.997762 \r\nL 125.056709 198.782428 \r\nL 128.102498 198.567095 \r\nL 131.148286 198.351761 \r\nL 134.194075 198.136428 \r\nL 137.239863 197.921094 \r\nL 140.285652 197.705761 \r\nL 143.33144 197.490428 \r\nL 146.377229 197.275094 \r\nL 149.423017 197.059761 \r\nL 152.468806 196.844427 \r\nL 155.514594 196.629094 \r\nL 158.560383 196.41376 \r\nL 161.606172 196.198427 \r\nL 164.65196 195.983093 \r\nL 167.697749 195.76776 \r\nL 170.743537 195.552426 \r\nL 173.789326 195.337093 \r\nL 176.835114 195.121759 \r\nL 179.880903 194.906426 \r\nL 182.926691 194.691092 \r\nL 185.97248 194.475759 \r\nL 189.018268 194.260425 \r\nL 192.064057 194.045092 \r\nL 195.109845 193.829758 \r\nL 198.155634 193.614425 \r\nL 201.201422 193.399091 \r\nL 204.247211 193.183758 \r\nL 207.293 192.968424 \r\nL 210.338788 192.753091 \r\nL 213.384577 192.537758 \r\nL 216.430365 192.322424 \r\nL 219.476154 192.107091 \r\nL 222.521942 191.891757 \r\nL 225.567731 191.676424 \r\nL 228.613519 191.46109 \r\nL 231.659308 191.245757 \r\nL 234.705096 191.030423 \r\nL 237.750885 190.81509 \r\nL 240.796673 190.599756 \r\nL 243.842462 190.384423 \r\nL 246.88825 190.169089 \r\nL 249.934039 189.953756 \r\nL 252.979828 189.738422 \r\nL 256.025616 189.523089 \r\nL 259.071405 189.307755 \r\nL 262.117193 189.092422 \r\nL 265.162982 188.877088 \r\nL 268.20877 188.661755 \r\nL 271.254559 188.446421 \r\nL 274.300347 188.231088 \r\nL 277.346136 188.015754 \r\nL 280.391924 187.800421 \r\nL 283.437713 187.585088 \r\nL 286.483501 187.369754 \r\nL 289.52929 187.154421 \r\nL 292.575078 186.939087 \r\nL 295.620867 186.723754 \r\nL 298.666656 186.50842 \r\nL 301.712444 186.293087 \r\nL 304.758233 186.077753 \r\nL 307.804021 185.86242 \r\nL 310.84981 185.647086 \r\nL 313.895598 185.431753 \r\nL 316.941387 185.216419 \r\nL 319.987175 185.001086 \r\nL 323.032964 184.785752 \r\nL 326.078752 184.570419 \r\nL 329.124541 184.355085 \r\nL 332.170329 184.139752 \r\nL 335.216118 183.924418 \r\nL 338.261906 183.709085 \r\nL 341.307695 183.493751 \r\nL 344.353484 183.278418 \r\nL 347.399272 183.063084 \r\nL 350.445061 182.847751 \r\nL 353.490849 182.632418 \r\nL 356.536638 182.417084 \r\nL 359.582426 182.201751 \r\nL 362.628215 181.986417 \r\nL 365.674003 181.771084 \r\nL 368.719792 181.55575 \r\nL 371.76558 181.340417 \r\nL 374.811369 181.125083 \r\nL 377.857157 180.90975 \r\n\" style=\"fill:none;stroke:#1f77b4;stroke-linecap:square;stroke-width:2.25;\"/>\r\n   </g>\r\n   <g id=\"patch_3\">\r\n    <path d=\"M 59.690625 239.758125 \r\nL 59.690625 22.318125 \r\n\" style=\"fill:none;stroke:#000000;stroke-linecap:square;stroke-linejoin:miter;stroke-width:0.8;\"/>\r\n   </g>\r\n   <g id=\"patch_4\">\r\n    <path d=\"M 394.490625 239.758125 \r\nL 394.490625 22.318125 \r\n\" style=\"fill:none;stroke:#000000;stroke-linecap:square;stroke-linejoin:miter;stroke-width:0.8;\"/>\r\n   </g>\r\n   <g id=\"patch_5\">\r\n    <path d=\"M 59.690625 239.758125 \r\nL 394.490625 239.758125 \r\n\" style=\"fill:none;stroke:#000000;stroke-linecap:square;stroke-linejoin:miter;stroke-width:0.8;\"/>\r\n   </g>\r\n   <g id=\"patch_6\">\r\n    <path d=\"M 59.690625 22.318125 \r\nL 394.490625 22.318125 \r\n\" style=\"fill:none;stroke:#000000;stroke-linecap:square;stroke-linejoin:miter;stroke-width:0.8;\"/>\r\n   </g>\r\n   <g id=\"text_17\">\r\n    <!-- neutral linear relationship -->\r\n    <defs>\r\n     <path d=\"M 54.890625 33.015625 \r\nL 54.890625 0 \r\nL 45.90625 0 \r\nL 45.90625 32.71875 \r\nQ 45.90625 40.484375 42.875 44.328125 \r\nQ 39.84375 48.1875 33.796875 48.1875 \r\nQ 26.515625 48.1875 22.3125 43.546875 \r\nQ 18.109375 38.921875 18.109375 30.90625 \r\nL 18.109375 0 \r\nL 9.078125 0 \r\nL 9.078125 54.6875 \r\nL 18.109375 54.6875 \r\nL 18.109375 46.1875 \r\nQ 21.34375 51.125 25.703125 53.5625 \r\nQ 30.078125 56 35.796875 56 \r\nQ 45.21875 56 50.046875 50.171875 \r\nQ 54.890625 44.34375 54.890625 33.015625 \r\nz\r\n\" id=\"DejaVuSans-110\"/>\r\n     <path d=\"M 8.5 21.578125 \r\nL 8.5 54.6875 \r\nL 17.484375 54.6875 \r\nL 17.484375 21.921875 \r\nQ 17.484375 14.15625 20.5 10.265625 \r\nQ 23.53125 6.390625 29.59375 6.390625 \r\nQ 36.859375 6.390625 41.078125 11.03125 \r\nQ 45.3125 15.671875 45.3125 23.6875 \r\nL 45.3125 54.6875 \r\nL 54.296875 54.6875 \r\nL 54.296875 0 \r\nL 45.3125 0 \r\nL 45.3125 8.40625 \r\nQ 42.046875 3.421875 37.71875 1 \r\nQ 33.40625 -1.421875 27.6875 -1.421875 \r\nQ 18.265625 -1.421875 13.375 4.4375 \r\nQ 8.5 10.296875 8.5 21.578125 \r\nz\r\nM 31.109375 56 \r\nz\r\n\" id=\"DejaVuSans-117\"/>\r\n     <path d=\"M 34.28125 27.484375 \r\nQ 23.390625 27.484375 19.1875 25 \r\nQ 14.984375 22.515625 14.984375 16.5 \r\nQ 14.984375 11.71875 18.140625 8.90625 \r\nQ 21.296875 6.109375 26.703125 6.109375 \r\nQ 34.1875 6.109375 38.703125 11.40625 \r\nQ 43.21875 16.703125 43.21875 25.484375 \r\nL 43.21875 27.484375 \r\nz\r\nM 52.203125 31.203125 \r\nL 52.203125 0 \r\nL 43.21875 0 \r\nL 43.21875 8.296875 \r\nQ 40.140625 3.328125 35.546875 0.953125 \r\nQ 30.953125 -1.421875 24.3125 -1.421875 \r\nQ 15.921875 -1.421875 10.953125 3.296875 \r\nQ 6 8.015625 6 15.921875 \r\nQ 6 25.140625 12.171875 29.828125 \r\nQ 18.359375 34.515625 30.609375 34.515625 \r\nL 43.21875 34.515625 \r\nL 43.21875 35.40625 \r\nQ 43.21875 41.609375 39.140625 45 \r\nQ 35.0625 48.390625 27.6875 48.390625 \r\nQ 23 48.390625 18.546875 47.265625 \r\nQ 14.109375 46.140625 10.015625 43.890625 \r\nL 10.015625 52.203125 \r\nQ 14.9375 54.109375 19.578125 55.046875 \r\nQ 24.21875 56 28.609375 56 \r\nQ 40.484375 56 46.34375 49.84375 \r\nQ 52.203125 43.703125 52.203125 31.203125 \r\nz\r\n\" id=\"DejaVuSans-97\"/>\r\n     <path d=\"M 9.421875 75.984375 \r\nL 18.40625 75.984375 \r\nL 18.40625 0 \r\nL 9.421875 0 \r\nz\r\n\" id=\"DejaVuSans-108\"/>\r\n     <path id=\"DejaVuSans-32\"/>\r\n     <path d=\"M 54.890625 33.015625 \r\nL 54.890625 0 \r\nL 45.90625 0 \r\nL 45.90625 32.71875 \r\nQ 45.90625 40.484375 42.875 44.328125 \r\nQ 39.84375 48.1875 33.796875 48.1875 \r\nQ 26.515625 48.1875 22.3125 43.546875 \r\nQ 18.109375 38.921875 18.109375 30.90625 \r\nL 18.109375 0 \r\nL 9.078125 0 \r\nL 9.078125 75.984375 \r\nL 18.109375 75.984375 \r\nL 18.109375 46.1875 \r\nQ 21.34375 51.125 25.703125 53.5625 \r\nQ 30.078125 56 35.796875 56 \r\nQ 45.21875 56 50.046875 50.171875 \r\nQ 54.890625 44.34375 54.890625 33.015625 \r\nz\r\n\" id=\"DejaVuSans-104\"/>\r\n    </defs>\r\n    <g transform=\"translate(149.44875 16.318125)scale(0.12 -0.12)\">\r\n     <use xlink:href=\"#DejaVuSans-110\"/>\r\n     <use x=\"63.378906\" xlink:href=\"#DejaVuSans-101\"/>\r\n     <use x=\"124.902344\" xlink:href=\"#DejaVuSans-117\"/>\r\n     <use x=\"188.28125\" xlink:href=\"#DejaVuSans-116\"/>\r\n     <use x=\"227.490234\" xlink:href=\"#DejaVuSans-114\"/>\r\n     <use x=\"268.603516\" xlink:href=\"#DejaVuSans-97\"/>\r\n     <use x=\"329.882812\" xlink:href=\"#DejaVuSans-108\"/>\r\n     <use x=\"357.666016\" xlink:href=\"#DejaVuSans-32\"/>\r\n     <use x=\"389.453125\" xlink:href=\"#DejaVuSans-108\"/>\r\n     <use x=\"417.236328\" xlink:href=\"#DejaVuSans-105\"/>\r\n     <use x=\"445.019531\" xlink:href=\"#DejaVuSans-110\"/>\r\n     <use x=\"508.398438\" xlink:href=\"#DejaVuSans-101\"/>\r\n     <use x=\"569.921875\" xlink:href=\"#DejaVuSans-97\"/>\r\n     <use x=\"631.201172\" xlink:href=\"#DejaVuSans-114\"/>\r\n     <use x=\"672.314453\" xlink:href=\"#DejaVuSans-32\"/>\r\n     <use x=\"704.101562\" xlink:href=\"#DejaVuSans-114\"/>\r\n     <use x=\"745.183594\" xlink:href=\"#DejaVuSans-101\"/>\r\n     <use x=\"806.707031\" xlink:href=\"#DejaVuSans-108\"/>\r\n     <use x=\"834.490234\" xlink:href=\"#DejaVuSans-97\"/>\r\n     <use x=\"895.769531\" xlink:href=\"#DejaVuSans-116\"/>\r\n     <use x=\"934.978516\" xlink:href=\"#DejaVuSans-105\"/>\r\n     <use x=\"962.761719\" xlink:href=\"#DejaVuSans-111\"/>\r\n     <use x=\"1023.943359\" xlink:href=\"#DejaVuSans-110\"/>\r\n     <use x=\"1087.322266\" xlink:href=\"#DejaVuSans-115\"/>\r\n     <use x=\"1139.421875\" xlink:href=\"#DejaVuSans-104\"/>\r\n     <use x=\"1202.800781\" xlink:href=\"#DejaVuSans-105\"/>\r\n     <use x=\"1230.583984\" xlink:href=\"#DejaVuSans-112\"/>\r\n    </g>\r\n   </g>\r\n  </g>\r\n </g>\r\n <defs>\r\n  <clipPath id=\"p3f4310ef21\">\r\n   <rect height=\"217.44\" width=\"334.8\" x=\"59.690625\" y=\"22.318125\"/>\r\n  </clipPath>\r\n </defs>\r\n</svg>\r\n",
      "image/png": "[encoded data removed]"
     },
     "metadata": {
      "needs_background": "light"
     }
    }
   ],
   "source": [
    "sns.regplot(x='stroke',y='price', data= df,)\n",
    "plt.title(\"neutral linear relationship\")\n",
    "plt.show()"
   ]
  },
  {
   "cell_type": "code",
   "execution_count": 10,
   "metadata": {},
   "outputs": [
    {
     "output_type": "display_data",
     "data": {
      "text/plain": "<Figure size 432x288 with 1 Axes>",
      "image/svg+xml": "<?xml version=\"1.0\" encoding=\"utf-8\" standalone=\"no\"?>\r\n<!DOCTYPE svg PUBLIC \"-//W3C//DTD SVG 1.1//EN\"\r\n  \"http://www.w3.org/Graphics/SVG/1.1/DTD/svg11.dtd\">\r\n<!-- Created with matplotlib (https://matplotlib.org/) -->\r\n<svg height=\"277.314375pt\" version=\"1.1\" viewBox=\"0 0 410.070312 277.314375\" width=\"410.070312pt\" xmlns=\"http://www.w3.org/2000/svg\" xmlns:xlink=\"http://www.w3.org/1999/xlink\">\r\n <defs>\r\n  <style type=\"text/css\">\r\n*{stroke-linecap:butt;stroke-linejoin:round;}\r\n  </style>\r\n </defs>\r\n <g id=\"figure_1\">\r\n  <g id=\"patch_1\">\r\n   <path d=\"M 0 277.314375 \r\nL 410.070312 277.314375 \r\nL 410.070312 0 \r\nL 0 0 \r\nz\r\n\" style=\"fill:none;\"/>\r\n  </g>\r\n  <g id=\"axes_1\">\r\n   <g id=\"patch_2\">\r\n    <path d=\"M 68.070312 239.758125 \r\nL 402.870313 239.758125 \r\nL 402.870313 22.318125 \r\nL 68.070312 22.318125 \r\nz\r\n\" style=\"fill:#ffffff;\"/>\r\n   </g>\r\n   <g id=\"PathCollection_1\">\r\n    <defs>\r\n     <path d=\"M 0 3 \r\nC 0.795609 3 1.55874 2.683901 2.12132 2.12132 \r\nC 2.683901 1.55874 3 0.795609 3 0 \r\nC 3 -0.795609 2.683901 -1.55874 2.12132 -2.12132 \r\nC 1.55874 -2.683901 0.795609 -3 0 -3 \r\nC -0.795609 -3 -1.55874 -2.683901 -2.12132 -2.12132 \r\nC -2.683901 -1.55874 -3 -0.795609 -3 0 \r\nC -3 0.795609 -2.683901 1.55874 -2.12132 2.12132 \r\nC -1.55874 2.683901 -0.795609 3 0 3 \r\nz\r\n\" id=\"mb6734c815a\" style=\"stroke:#1f77b4;stroke-opacity:0.8;\"/>\r\n    </defs>\r\n    <g clip-path=\"url(#p526383f4d3)\">\r\n     <use style=\"fill:#1f77b4;fill-opacity:0.8;stroke:#1f77b4;stroke-opacity:0.8;\" x=\"150.971129\" xlink:href=\"#mb6734c815a\" y=\"143.170913\"/>\r\n     <use style=\"fill:#1f77b4;fill-opacity:0.8;stroke:#1f77b4;stroke-opacity:0.8;\" x=\"150.971129\" xlink:href=\"#mb6734c815a\" y=\"132.719193\"/>\r\n     <use style=\"fill:#1f77b4;fill-opacity:0.8;stroke:#1f77b4;stroke-opacity:0.8;\" x=\"134.071292\" xlink:href=\"#mb6734c815a\" y=\"132.719193\"/>\r\n     <use style=\"fill:#1f77b4;fill-opacity:0.8;stroke:#1f77b4;stroke-opacity:0.8;\" x=\"176.320884\" xlink:href=\"#mb6734c815a\" y=\"141.588373\"/>\r\n     <use style=\"fill:#1f77b4;fill-opacity:0.8;stroke:#1f77b4;stroke-opacity:0.8;\" x=\"125.621374\" xlink:href=\"#mb6734c815a\" y=\"129.414988\"/>\r\n     <use style=\"fill:#1f77b4;fill-opacity:0.8;stroke:#1f77b4;stroke-opacity:0.8;\" x=\"134.071292\" xlink:href=\"#mb6734c815a\" y=\"137.06683\"/>\r\n     <use style=\"fill:#1f77b4;fill-opacity:0.8;stroke:#1f77b4;stroke-opacity:0.8;\" x=\"134.071292\" xlink:href=\"#mb6734c815a\" y=\"128.51068\"/>\r\n     <use style=\"fill:#1f77b4;fill-opacity:0.8;stroke:#1f77b4;stroke-opacity:0.8;\" x=\"134.071292\" xlink:href=\"#mb6734c815a\" y=\"124.302167\"/>\r\n     <use style=\"fill:#1f77b4;fill-opacity:0.8;stroke:#1f77b4;stroke-opacity:0.8;\" x=\"117.171455\" xlink:href=\"#mb6734c815a\" y=\"107.068132\"/>\r\n     <use style=\"fill:#1f77b4;fill-opacity:0.8;stroke:#1f77b4;stroke-opacity:0.8;\" x=\"167.870966\" xlink:href=\"#mb6734c815a\" y=\"132.962661\"/>\r\n     <use style=\"fill:#1f77b4;fill-opacity:0.8;stroke:#1f77b4;stroke-opacity:0.8;\" x=\"167.870966\" xlink:href=\"#mb6734c815a\" y=\"131.240996\"/>\r\n     <use style=\"fill:#1f77b4;fill-opacity:0.8;stroke:#1f77b4;stroke-opacity:0.8;\" x=\"150.971129\" xlink:href=\"#mb6734c815a\" y=\"117.172041\"/>\r\n     <use style=\"fill:#1f77b4;fill-opacity:0.8;stroke:#1f77b4;stroke-opacity:0.8;\" x=\"150.971129\" xlink:href=\"#mb6734c815a\" y=\"116.702496\"/>\r\n     <use style=\"fill:#1f77b4;fill-opacity:0.8;stroke:#1f77b4;stroke-opacity:0.8;\" x=\"142.521211\" xlink:href=\"#mb6734c815a\" y=\"104.668236\"/>\r\n     <use style=\"fill:#1f77b4;fill-opacity:0.8;stroke:#1f77b4;stroke-opacity:0.8;\" x=\"108.721537\" xlink:href=\"#mb6734c815a\" y=\"83.121344\"/>\r\n     <use style=\"fill:#1f77b4;fill-opacity:0.8;stroke:#1f77b4;stroke-opacity:0.8;\" x=\"108.721537\" xlink:href=\"#mb6734c815a\" y=\"46.409893\"/>\r\n     <use style=\"fill:#1f77b4;fill-opacity:0.8;stroke:#1f77b4;stroke-opacity:0.8;\" x=\"100.271619\" xlink:href=\"#mb6734c815a\" y=\"61.835311\"/>\r\n     <use style=\"fill:#1f77b4;fill-opacity:0.8;stroke:#1f77b4;stroke-opacity:0.8;\" x=\"370.669006\" xlink:href=\"#mb6734c815a\" y=\"172.192263\"/>\r\n     <use style=\"fill:#1f77b4;fill-opacity:0.8;stroke:#1f77b4;stroke-opacity:0.8;\" x=\"294.619741\" xlink:href=\"#mb6734c815a\" y=\"168.213305\"/>\r\n     <use style=\"fill:#1f77b4;fill-opacity:0.8;stroke:#1f77b4;stroke-opacity:0.8;\" x=\"294.619741\" xlink:href=\"#mb6734c815a\" y=\"167.239435\"/>\r\n     <use style=\"fill:#1f77b4;fill-opacity:0.8;stroke:#1f77b4;stroke-opacity:0.8;\" x=\"286.169823\" xlink:href=\"#mb6734c815a\" y=\"170.727979\"/>\r\n     <use style=\"fill:#1f77b4;fill-opacity:0.8;stroke:#1f77b4;stroke-opacity:0.8;\" x=\"235.470312\" xlink:href=\"#mb6734c815a\" y=\"167.9281\"/>\r\n     <use style=\"fill:#1f77b4;fill-opacity:0.8;stroke:#1f77b4;stroke-opacity:0.8;\" x=\"176.320884\" xlink:href=\"#mb6734c815a\" y=\"162.432687\"/>\r\n     <use style=\"fill:#1f77b4;fill-opacity:0.8;stroke:#1f77b4;stroke-opacity:0.8;\" x=\"235.470312\" xlink:href=\"#mb6734c815a\" y=\"168.442861\"/>\r\n     <use style=\"fill:#1f77b4;fill-opacity:0.8;stroke:#1f77b4;stroke-opacity:0.8;\" x=\"235.470312\" xlink:href=\"#mb6734c815a\" y=\"166.832496\"/>\r\n     <use style=\"fill:#1f77b4;fill-opacity:0.8;stroke:#1f77b4;stroke-opacity:0.8;\" x=\"235.470312\" xlink:href=\"#mb6734c815a\" y=\"163.643069\"/>\r\n     <use style=\"fill:#1f77b4;fill-opacity:0.8;stroke:#1f77b4;stroke-opacity:0.8;\" x=\"176.320884\" xlink:href=\"#mb6734c815a\" y=\"160.342343\"/>\r\n     <use style=\"fill:#1f77b4;fill-opacity:0.8;stroke:#1f77b4;stroke-opacity:0.8;\" x=\"176.320884\" xlink:href=\"#mb6734c815a\" y=\"159.079789\"/>\r\n     <use style=\"fill:#1f77b4;fill-opacity:0.8;stroke:#1f77b4;stroke-opacity:0.8;\" x=\"134.071292\" xlink:href=\"#mb6734c815a\" y=\"145.01779\"/>\r\n     <use style=\"fill:#1f77b4;fill-opacity:0.8;stroke:#1f77b4;stroke-opacity:0.8;\" x=\"387.568843\" xlink:href=\"#mb6734c815a\" y=\"167.573333\"/>\r\n     <use style=\"fill:#1f77b4;fill-opacity:0.8;stroke:#1f77b4;stroke-opacity:0.8;\" x=\"235.470312\" xlink:href=\"#mb6734c815a\" y=\"166.265564\"/>\r\n     <use style=\"fill:#1f77b4;fill-opacity:0.8;stroke:#1f77b4;stroke-opacity:0.8;\" x=\"294.619741\" xlink:href=\"#mb6734c815a\" y=\"171.329692\"/>\r\n     <use style=\"fill:#1f77b4;fill-opacity:0.8;stroke:#1f77b4;stroke-opacity:0.8;\" x=\"227.020394\" xlink:href=\"#mb6734c815a\" y=\"167.399428\"/>\r\n     <use style=\"fill:#1f77b4;fill-opacity:0.8;stroke:#1f77b4;stroke-opacity:0.8;\" x=\"227.020394\" xlink:href=\"#mb6734c815a\" y=\"165.312562\"/>\r\n     <use style=\"fill:#1f77b4;fill-opacity:0.8;stroke:#1f77b4;stroke-opacity:0.8;\" x=\"227.020394\" xlink:href=\"#mb6734c815a\" y=\"164.735195\"/>\r\n     <use style=\"fill:#1f77b4;fill-opacity:0.8;stroke:#1f77b4;stroke-opacity:0.8;\" x=\"227.020394\" xlink:href=\"#mb6734c815a\" y=\"164.735195\"/>\r\n     <use style=\"fill:#1f77b4;fill-opacity:0.8;stroke:#1f77b4;stroke-opacity:0.8;\" x=\"201.670639\" xlink:href=\"#mb6734c815a\" y=\"162.648329\"/>\r\n     <use style=\"fill:#1f77b4;fill-opacity:0.8;stroke:#1f77b4;stroke-opacity:0.8;\" x=\"201.670639\" xlink:href=\"#mb6734c815a\" y=\"158.474597\"/>\r\n     <use style=\"fill:#1f77b4;fill-opacity:0.8;stroke:#1f77b4;stroke-opacity:0.8;\" x=\"201.670639\" xlink:href=\"#mb6734c815a\" y=\"159.344125\"/>\r\n     <use style=\"fill:#1f77b4;fill-opacity:0.8;stroke:#1f77b4;stroke-opacity:0.8;\" x=\"201.670639\" xlink:href=\"#mb6734c815a\" y=\"154.300865\"/>\r\n     <use style=\"fill:#1f77b4;fill-opacity:0.8;stroke:#1f77b4;stroke-opacity:0.8;\" x=\"176.320884\" xlink:href=\"#mb6734c815a\" y=\"145.083874\"/>\r\n     <use style=\"fill:#1f77b4;fill-opacity:0.8;stroke:#1f77b4;stroke-opacity:0.8;\" x=\"184.770802\" xlink:href=\"#mb6734c815a\" y=\"154.12696\"/>\r\n     <use style=\"fill:#1f77b4;fill-opacity:0.8;stroke:#1f77b4;stroke-opacity:0.8;\" x=\"176.320884\" xlink:href=\"#mb6734c815a\" y=\"166.509032\"/>\r\n     <use style=\"fill:#1f77b4;fill-opacity:0.8;stroke:#1f77b4;stroke-opacity:0.8;\" x=\"176.320884\" xlink:href=\"#mb6734c815a\" y=\"151.681849\"/>\r\n     <use style=\"fill:#1f77b4;fill-opacity:0.8;stroke:#1f77b4;stroke-opacity:0.8;\" x=\"100.271619\" xlink:href=\"#mb6734c815a\" y=\"77.938961\"/>\r\n     <use style=\"fill:#1f77b4;fill-opacity:0.8;stroke:#1f77b4;stroke-opacity:0.8;\" x=\"100.271619\" xlink:href=\"#mb6734c815a\" y=\"66.461198\"/>\r\n     <use style=\"fill:#1f77b4;fill-opacity:0.8;stroke:#1f77b4;stroke-opacity:0.8;\" x=\"83.371782\" xlink:href=\"#mb6734c815a\" y=\"64.896048\"/>\r\n     <use style=\"fill:#1f77b4;fill-opacity:0.8;stroke:#1f77b4;stroke-opacity:0.8;\" x=\"227.020394\" xlink:href=\"#mb6734c815a\" y=\"172.039226\"/>\r\n     <use style=\"fill:#1f77b4;fill-opacity:0.8;stroke:#1f77b4;stroke-opacity:0.8;\" x=\"235.470312\" xlink:href=\"#mb6734c815a\" y=\"168.908927\"/>\r\n     <use style=\"fill:#1f77b4;fill-opacity:0.8;stroke:#1f77b4;stroke-opacity:0.8;\" x=\"235.470312\" xlink:href=\"#mb6734c815a\" y=\"166.47425\"/>\r\n     <use style=\"fill:#1f77b4;fill-opacity:0.8;stroke:#1f77b4;stroke-opacity:0.8;\" x=\"235.470312\" xlink:href=\"#mb6734c815a\" y=\"166.822061\"/>\r\n     <use style=\"fill:#1f77b4;fill-opacity:0.8;stroke:#1f77b4;stroke-opacity:0.8;\" x=\"235.470312\" xlink:href=\"#mb6734c815a\" y=\"164.387384\"/>\r\n     <use style=\"fill:#1f77b4;fill-opacity:0.8;stroke:#1f77b4;stroke-opacity:0.8;\" x=\"117.171455\" xlink:href=\"#mb6734c815a\" y=\"152.040094\"/>\r\n     <use style=\"fill:#1f77b4;fill-opacity:0.8;stroke:#1f77b4;stroke-opacity:0.8;\" x=\"117.171455\" xlink:href=\"#mb6734c815a\" y=\"148.909795\"/>\r\n     <use style=\"fill:#1f77b4;fill-opacity:0.8;stroke:#1f77b4;stroke-opacity:0.8;\" x=\"117.171455\" xlink:href=\"#mb6734c815a\" y=\"142.649197\"/>\r\n     <use style=\"fill:#1f77b4;fill-opacity:0.8;stroke:#1f77b4;stroke-opacity:0.8;\" x=\"108.721537\" xlink:href=\"#mb6734c815a\" y=\"135.692977\"/>\r\n     <use style=\"fill:#1f77b4;fill-opacity:0.8;stroke:#1f77b4;stroke-opacity:0.8;\" x=\"193.220721\" xlink:href=\"#mb6734c815a\" y=\"159.344125\"/>\r\n     <use style=\"fill:#1f77b4;fill-opacity:0.8;stroke:#1f77b4;stroke-opacity:0.8;\" x=\"193.220721\" xlink:href=\"#mb6734c815a\" y=\"160.561463\"/>\r\n     <use style=\"fill:#1f77b4;fill-opacity:0.8;stroke:#1f77b4;stroke-opacity:0.8;\" x=\"193.220721\" xlink:href=\"#mb6734c815a\" y=\"153.257432\"/>\r\n     <use style=\"fill:#1f77b4;fill-opacity:0.8;stroke:#1f77b4;stroke-opacity:0.8;\" x=\"193.220721\" xlink:href=\"#mb6734c815a\" y=\"154.474771\"/>\r\n     <use style=\"fill:#1f77b4;fill-opacity:0.8;stroke:#1f77b4;stroke-opacity:0.8;\" x=\"277.719904\" xlink:href=\"#mb6734c815a\" y=\"152.56181\"/>\r\n     <use style=\"fill:#1f77b4;fill-opacity:0.8;stroke:#1f77b4;stroke-opacity:0.8;\" x=\"193.220721\" xlink:href=\"#mb6734c815a\" y=\"150.996661\"/>\r\n     <use style=\"fill:#1f77b4;fill-opacity:0.8;stroke:#1f77b4;stroke-opacity:0.8;\" x=\"134.071292\" xlink:href=\"#mb6734c815a\" y=\"126.528157\"/>\r\n     <use style=\"fill:#1f77b4;fill-opacity:0.8;stroke:#1f77b4;stroke-opacity:0.8;\" x=\"235.470312\" xlink:href=\"#mb6734c815a\" y=\"126.305558\"/>\r\n     <use style=\"fill:#1f77b4;fill-opacity:0.8;stroke:#1f77b4;stroke-opacity:0.8;\" x=\"159.421047\" xlink:href=\"#mb6734c815a\" y=\"101.235341\"/>\r\n     <use style=\"fill:#1f77b4;fill-opacity:0.8;stroke:#1f77b4;stroke-opacity:0.8;\" x=\"159.421047\" xlink:href=\"#mb6734c815a\" y=\"91.858357\"/>\r\n     <use style=\"fill:#1f77b4;fill-opacity:0.8;stroke:#1f77b4;stroke-opacity:0.8;\" x=\"159.421047\" xlink:href=\"#mb6734c815a\" y=\"92.108781\"/>\r\n     <use style=\"fill:#1f77b4;fill-opacity:0.8;stroke:#1f77b4;stroke-opacity:0.8;\" x=\"159.421047\" xlink:href=\"#mb6734c815a\" y=\"80.199732\"/>\r\n     <use style=\"fill:#1f77b4;fill-opacity:0.8;stroke:#1f77b4;stroke-opacity:0.8;\" x=\"108.721537\" xlink:href=\"#mb6734c815a\" y=\"71.212296\"/>\r\n     <use style=\"fill:#1f77b4;fill-opacity:0.8;stroke:#1f77b4;stroke-opacity:0.8;\" x=\"108.721537\" xlink:href=\"#mb6734c815a\" y=\"68.179384\"/>\r\n     <use style=\"fill:#1f77b4;fill-opacity:0.8;stroke:#1f77b4;stroke-opacity:0.8;\" x=\"91.8217\" xlink:href=\"#mb6734c815a\" y=\"47.644623\"/>\r\n     <use style=\"fill:#1f77b4;fill-opacity:0.8;stroke:#1f77b4;stroke-opacity:0.8;\" x=\"91.8217\" xlink:href=\"#mb6734c815a\" y=\"32.201814\"/>\r\n     <use style=\"fill:#1f77b4;fill-opacity:0.8;stroke:#1f77b4;stroke-opacity:0.8;\" x=\"134.071292\" xlink:href=\"#mb6734c815a\" y=\"132.708759\"/>\r\n     <use style=\"fill:#1f77b4;fill-opacity:0.8;stroke:#1f77b4;stroke-opacity:0.8;\" x=\"286.169823\" xlink:href=\"#mb6734c815a\" y=\"171.364473\"/>\r\n     <use style=\"fill:#1f77b4;fill-opacity:0.8;stroke:#1f77b4;stroke-opacity:0.8;\" x=\"235.470312\" xlink:href=\"#mb6734c815a\" y=\"168.581985\"/>\r\n     <use style=\"fill:#1f77b4;fill-opacity:0.8;stroke:#1f77b4;stroke-opacity:0.8;\" x=\"235.470312\" xlink:href=\"#mb6734c815a\" y=\"166.912492\"/>\r\n     <use style=\"fill:#1f77b4;fill-opacity:0.8;stroke:#1f77b4;stroke-opacity:0.8;\" x=\"176.320884\" xlink:href=\"#mb6734c815a\" y=\"163.36482\"/>\r\n     <use style=\"fill:#1f77b4;fill-opacity:0.8;stroke:#1f77b4;stroke-opacity:0.8;\" x=\"167.870966\" xlink:href=\"#mb6734c815a\" y=\"155.46951\"/>\r\n     <use style=\"fill:#1f77b4;fill-opacity:0.8;stroke:#1f77b4;stroke-opacity:0.8;\" x=\"184.770802\" xlink:href=\"#mb6734c815a\" y=\"160.547551\"/>\r\n     <use style=\"fill:#1f77b4;fill-opacity:0.8;stroke:#1f77b4;stroke-opacity:0.8;\" x=\"134.071292\" xlink:href=\"#mb6734c815a\" y=\"146.182957\"/>\r\n     <use style=\"fill:#1f77b4;fill-opacity:0.8;stroke:#1f77b4;stroke-opacity:0.8;\" x=\"134.071292\" xlink:href=\"#mb6734c815a\" y=\"138.39199\"/>\r\n     <use style=\"fill:#1f77b4;fill-opacity:0.8;stroke:#1f77b4;stroke-opacity:0.8;\" x=\"134.071292\" xlink:href=\"#mb6734c815a\" y=\"139.713672\"/>\r\n     <use style=\"fill:#1f77b4;fill-opacity:0.8;stroke:#1f77b4;stroke-opacity:0.8;\" x=\"184.770802\" xlink:href=\"#mb6734c815a\" y=\"165.799497\"/>\r\n     <use style=\"fill:#1f77b4;fill-opacity:0.8;stroke:#1f77b4;stroke-opacity:0.8;\" x=\"184.770802\" xlink:href=\"#mb6734c815a\" y=\"161.625765\"/>\r\n     <use style=\"fill:#1f77b4;fill-opacity:0.8;stroke:#1f77b4;stroke-opacity:0.8;\" x=\"167.870966\" xlink:href=\"#mb6734c815a\" y=\"157.834625\"/>\r\n     <use style=\"fill:#1f77b4;fill-opacity:0.8;stroke:#1f77b4;stroke-opacity:0.8;\" x=\"167.870966\" xlink:href=\"#mb6734c815a\" y=\"157.834625\"/>\r\n     <use style=\"fill:#1f77b4;fill-opacity:0.8;stroke:#1f77b4;stroke-opacity:0.8;\" x=\"235.470312\" xlink:href=\"#mb6734c815a\" y=\"170.981881\"/>\r\n     <use style=\"fill:#1f77b4;fill-opacity:0.8;stroke:#1f77b4;stroke-opacity:0.8;\" x=\"353.76917\" xlink:href=\"#mb6734c815a\" y=\"165.416905\"/>\r\n     <use style=\"fill:#1f77b4;fill-opacity:0.8;stroke:#1f77b4;stroke-opacity:0.8;\" x=\"235.470312\" xlink:href=\"#mb6734c815a\" y=\"166.982055\"/>\r\n     <use style=\"fill:#1f77b4;fill-opacity:0.8;stroke:#1f77b4;stroke-opacity:0.8;\" x=\"235.470312\" xlink:href=\"#mb6734c815a\" y=\"166.286433\"/>\r\n     <use style=\"fill:#1f77b4;fill-opacity:0.8;stroke:#1f77b4;stroke-opacity:0.8;\" x=\"235.470312\" xlink:href=\"#mb6734c815a\" y=\"164.547378\"/>\r\n     <use style=\"fill:#1f77b4;fill-opacity:0.8;stroke:#1f77b4;stroke-opacity:0.8;\" x=\"235.470312\" xlink:href=\"#mb6734c815a\" y=\"164.721283\"/>\r\n     <use style=\"fill:#1f77b4;fill-opacity:0.8;stroke:#1f77b4;stroke-opacity:0.8;\" x=\"235.470312\" xlink:href=\"#mb6734c815a\" y=\"162.982228\"/>\r\n     <use style=\"fill:#1f77b4;fill-opacity:0.8;stroke:#1f77b4;stroke-opacity:0.8;\" x=\"235.470312\" xlink:href=\"#mb6734c815a\" y=\"164.025661\"/>\r\n     <use style=\"fill:#1f77b4;fill-opacity:0.8;stroke:#1f77b4;stroke-opacity:0.8;\" x=\"235.470312\" xlink:href=\"#mb6734c815a\" y=\"162.286606\"/>\r\n     <use style=\"fill:#1f77b4;fill-opacity:0.8;stroke:#1f77b4;stroke-opacity:0.8;\" x=\"235.470312\" xlink:href=\"#mb6734c815a\" y=\"161.417079\"/>\r\n     <use style=\"fill:#1f77b4;fill-opacity:0.8;stroke:#1f77b4;stroke-opacity:0.8;\" x=\"201.670639\" xlink:href=\"#mb6734c815a\" y=\"158.982402\"/>\r\n     <use style=\"fill:#1f77b4;fill-opacity:0.8;stroke:#1f77b4;stroke-opacity:0.8;\" x=\"201.670639\" xlink:href=\"#mb6734c815a\" y=\"156.895536\"/>\r\n     <use style=\"fill:#1f77b4;fill-opacity:0.8;stroke:#1f77b4;stroke-opacity:0.8;\" x=\"117.171455\" xlink:href=\"#mb6734c815a\" y=\"143.157001\"/>\r\n     <use style=\"fill:#1f77b4;fill-opacity:0.8;stroke:#1f77b4;stroke-opacity:0.8;\" x=\"117.171455\" xlink:href=\"#mb6734c815a\" y=\"140.026702\"/>\r\n     <use style=\"fill:#1f77b4;fill-opacity:0.8;stroke:#1f77b4;stroke-opacity:0.8;\" x=\"134.071292\" xlink:href=\"#mb6734c815a\" y=\"143.157001\"/>\r\n     <use style=\"fill:#1f77b4;fill-opacity:0.8;stroke:#1f77b4;stroke-opacity:0.8;\" x=\"134.071292\" xlink:href=\"#mb6734c815a\" y=\"130.287994\"/>\r\n     <use style=\"fill:#1f77b4;fill-opacity:0.8;stroke:#1f77b4;stroke-opacity:0.8;\" x=\"117.171455\" xlink:href=\"#mb6734c815a\" y=\"121.592719\"/>\r\n     <use style=\"fill:#1f77b4;fill-opacity:0.8;stroke:#1f77b4;stroke-opacity:0.8;\" x=\"134.071292\" xlink:href=\"#mb6734c815a\" y=\"126.114262\"/>\r\n     <use style=\"fill:#1f77b4;fill-opacity:0.8;stroke:#1f77b4;stroke-opacity:0.8;\" x=\"134.071292\" xlink:href=\"#mb6734c815a\" y=\"148.718499\"/>\r\n     <use style=\"fill:#1f77b4;fill-opacity:0.8;stroke:#1f77b4;stroke-opacity:0.8;\" x=\"210.120557\" xlink:href=\"#mb6734c815a\" y=\"144.196956\"/>\r\n     <use style=\"fill:#1f77b4;fill-opacity:0.8;stroke:#1f77b4;stroke-opacity:0.8;\" x=\"134.071292\" xlink:href=\"#mb6734c815a\" y=\"146.84032\"/>\r\n     <use style=\"fill:#1f77b4;fill-opacity:0.8;stroke:#1f77b4;stroke-opacity:0.8;\" x=\"184.770802\" xlink:href=\"#mb6734c815a\" y=\"141.901403\"/>\r\n     <use style=\"fill:#1f77b4;fill-opacity:0.8;stroke:#1f77b4;stroke-opacity:0.8;\" x=\"134.071292\" xlink:href=\"#mb6734c815a\" y=\"135.919054\"/>\r\n     <use style=\"fill:#1f77b4;fill-opacity:0.8;stroke:#1f77b4;stroke-opacity:0.8;\" x=\"210.120557\" xlink:href=\"#mb6734c815a\" y=\"131.327949\"/>\r\n     <use style=\"fill:#1f77b4;fill-opacity:0.8;stroke:#1f77b4;stroke-opacity:0.8;\" x=\"134.071292\" xlink:href=\"#mb6734c815a\" y=\"132.040962\"/>\r\n     <use style=\"fill:#1f77b4;fill-opacity:0.8;stroke:#1f77b4;stroke-opacity:0.8;\" x=\"184.770802\" xlink:href=\"#mb6734c815a\" y=\"130.71928\"/>\r\n     <use style=\"fill:#1f77b4;fill-opacity:0.8;stroke:#1f77b4;stroke-opacity:0.8;\" x=\"134.071292\" xlink:href=\"#mb6734c815a\" y=\"132.267039\"/>\r\n     <use style=\"fill:#1f77b4;fill-opacity:0.8;stroke:#1f77b4;stroke-opacity:0.8;\" x=\"210.120557\" xlink:href=\"#mb6734c815a\" y=\"127.675933\"/>\r\n     <use style=\"fill:#1f77b4;fill-opacity:0.8;stroke:#1f77b4;stroke-opacity:0.8;\" x=\"125.621374\" xlink:href=\"#mb6734c815a\" y=\"126.980311\"/>\r\n     <use style=\"fill:#1f77b4;fill-opacity:0.8;stroke:#1f77b4;stroke-opacity:0.8;\" x=\"286.169823\" xlink:href=\"#mb6734c815a\" y=\"170.727979\"/>\r\n     <use style=\"fill:#1f77b4;fill-opacity:0.8;stroke:#1f77b4;stroke-opacity:0.8;\" x=\"176.320884\" xlink:href=\"#mb6734c815a\" y=\"162.432687\"/>\r\n     <use style=\"fill:#1f77b4;fill-opacity:0.8;stroke:#1f77b4;stroke-opacity:0.8;\" x=\"235.470312\" xlink:href=\"#mb6734c815a\" y=\"168.442861\"/>\r\n     <use style=\"fill:#1f77b4;fill-opacity:0.8;stroke:#1f77b4;stroke-opacity:0.8;\" x=\"235.470312\" xlink:href=\"#mb6734c815a\" y=\"166.832496\"/>\r\n     <use style=\"fill:#1f77b4;fill-opacity:0.8;stroke:#1f77b4;stroke-opacity:0.8;\" x=\"235.470312\" xlink:href=\"#mb6734c815a\" y=\"163.643069\"/>\r\n     <use style=\"fill:#1f77b4;fill-opacity:0.8;stroke:#1f77b4;stroke-opacity:0.8;\" x=\"176.320884\" xlink:href=\"#mb6734c815a\" y=\"159.079789\"/>\r\n     <use style=\"fill:#1f77b4;fill-opacity:0.8;stroke:#1f77b4;stroke-opacity:0.8;\" x=\"134.071292\" xlink:href=\"#mb6734c815a\" y=\"145.713412\"/>\r\n     <use style=\"fill:#1f77b4;fill-opacity:0.8;stroke:#1f77b4;stroke-opacity:0.8;\" x=\"134.071292\" xlink:href=\"#mb6734c815a\" y=\"113.526982\"/>\r\n     <use style=\"fill:#1f77b4;fill-opacity:0.8;stroke:#1f77b4;stroke-opacity:0.8;\" x=\"117.171455\" xlink:href=\"#mb6734c815a\" y=\"76.972046\"/>\r\n     <use style=\"fill:#1f77b4;fill-opacity:0.8;stroke:#1f77b4;stroke-opacity:0.8;\" x=\"117.171455\" xlink:href=\"#mb6734c815a\" y=\"71.754881\"/>\r\n     <use style=\"fill:#1f77b4;fill-opacity:0.8;stroke:#1f77b4;stroke-opacity:0.8;\" x=\"117.171455\" xlink:href=\"#mb6734c815a\" y=\"61.320551\"/>\r\n     <use style=\"fill:#1f77b4;fill-opacity:0.8;stroke:#1f77b4;stroke-opacity:0.8;\" x=\"167.870966\" xlink:href=\"#mb6734c815a\" y=\"157.778975\"/>\r\n     <use style=\"fill:#1f77b4;fill-opacity:0.8;stroke:#1f77b4;stroke-opacity:0.8;\" x=\"167.870966\" xlink:href=\"#mb6734c815a\" y=\"155.692109\"/>\r\n     <use style=\"fill:#1f77b4;fill-opacity:0.8;stroke:#1f77b4;stroke-opacity:0.8;\" x=\"150.971129\" xlink:href=\"#mb6734c815a\" y=\"148.892404\"/>\r\n     <use style=\"fill:#1f77b4;fill-opacity:0.8;stroke:#1f77b4;stroke-opacity:0.8;\" x=\"150.971129\" xlink:href=\"#mb6734c815a\" y=\"147.779409\"/>\r\n     <use style=\"fill:#1f77b4;fill-opacity:0.8;stroke:#1f77b4;stroke-opacity:0.8;\" x=\"150.971129\" xlink:href=\"#mb6734c815a\" y=\"137.797234\"/>\r\n     <use style=\"fill:#1f77b4;fill-opacity:0.8;stroke:#1f77b4;stroke-opacity:0.8;\" x=\"150.971129\" xlink:href=\"#mb6734c815a\" y=\"136.162522\"/>\r\n     <use style=\"fill:#1f77b4;fill-opacity:0.8;stroke:#1f77b4;stroke-opacity:0.8;\" x=\"134.071292\" xlink:href=\"#mb6734c815a\" y=\"126.980311\"/>\r\n     <use style=\"fill:#1f77b4;fill-opacity:0.8;stroke:#1f77b4;stroke-opacity:0.8;\" x=\"134.071292\" xlink:href=\"#mb6734c815a\" y=\"125.3456\"/>\r\n     <use style=\"fill:#1f77b4;fill-opacity:0.8;stroke:#1f77b4;stroke-opacity:0.8;\" x=\"235.470312\" xlink:href=\"#mb6734c815a\" y=\"172.307041\"/>\r\n     <use style=\"fill:#1f77b4;fill-opacity:0.8;stroke:#1f77b4;stroke-opacity:0.8;\" x=\"193.220721\" xlink:href=\"#mb6734c815a\" y=\"165.576898\"/>\r\n     <use style=\"fill:#1f77b4;fill-opacity:0.8;stroke:#1f77b4;stroke-opacity:0.8;\" x=\"193.220721\" xlink:href=\"#mb6734c815a\" y=\"163.663938\"/>\r\n     <use style=\"fill:#1f77b4;fill-opacity:0.8;stroke:#1f77b4;stroke-opacity:0.8;\" x=\"243.920231\" xlink:href=\"#mb6734c815a\" y=\"165.322996\"/>\r\n     <use style=\"fill:#1f77b4;fill-opacity:0.8;stroke:#1f77b4;stroke-opacity:0.8;\" x=\"210.120557\" xlink:href=\"#mb6734c815a\" y=\"163.065703\"/>\r\n     <use style=\"fill:#1f77b4;fill-opacity:0.8;stroke:#1f77b4;stroke-opacity:0.8;\" x=\"193.220721\" xlink:href=\"#mb6734c815a\" y=\"155.466032\"/>\r\n     <use style=\"fill:#1f77b4;fill-opacity:0.8;stroke:#1f77b4;stroke-opacity:0.8;\" x=\"176.320884\" xlink:href=\"#mb6734c815a\" y=\"157.994618\"/>\r\n     <use style=\"fill:#1f77b4;fill-opacity:0.8;stroke:#1f77b4;stroke-opacity:0.8;\" x=\"176.320884\" xlink:href=\"#mb6734c815a\" y=\"150.947967\"/>\r\n     <use style=\"fill:#1f77b4;fill-opacity:0.8;stroke:#1f77b4;stroke-opacity:0.8;\" x=\"210.120557\" xlink:href=\"#mb6734c815a\" y=\"164.150873\"/>\r\n     <use style=\"fill:#1f77b4;fill-opacity:0.8;stroke:#1f77b4;stroke-opacity:0.8;\" x=\"184.770802\" xlink:href=\"#mb6734c815a\" y=\"154.638242\"/>\r\n     <use style=\"fill:#1f77b4;fill-opacity:0.8;stroke:#1f77b4;stroke-opacity:0.8;\" x=\"167.870966\" xlink:href=\"#mb6734c815a\" y=\"162.237912\"/>\r\n     <use style=\"fill:#1f77b4;fill-opacity:0.8;stroke:#1f77b4;stroke-opacity:0.8;\" x=\"167.870966\" xlink:href=\"#mb6734c815a\" y=\"149.43499\"/>\r\n     <use style=\"fill:#1f77b4;fill-opacity:0.8;stroke:#1f77b4;stroke-opacity:0.8;\" x=\"269.269986\" xlink:href=\"#mb6734c815a\" y=\"171.507076\"/>\r\n     <use style=\"fill:#1f77b4;fill-opacity:0.8;stroke:#1f77b4;stroke-opacity:0.8;\" x=\"235.470312\" xlink:href=\"#mb6734c815a\" y=\"168.063747\"/>\r\n     <use style=\"fill:#1f77b4;fill-opacity:0.8;stroke:#1f77b4;stroke-opacity:0.8;\" x=\"235.470312\" xlink:href=\"#mb6734c815a\" y=\"167.54203\"/>\r\n     <use style=\"fill:#1f77b4;fill-opacity:0.8;stroke:#1f77b4;stroke-opacity:0.8;\" x=\"235.470312\" xlink:href=\"#mb6734c815a\" y=\"166.046443\"/>\r\n     <use style=\"fill:#1f77b4;fill-opacity:0.8;stroke:#1f77b4;stroke-opacity:0.8;\" x=\"201.670639\" xlink:href=\"#mb6734c815a\" y=\"162.637895\"/>\r\n     <use style=\"fill:#1f77b4;fill-opacity:0.8;stroke:#1f77b4;stroke-opacity:0.8;\" x=\"201.670639\" xlink:href=\"#mb6734c815a\" y=\"159.577158\"/>\r\n     <use style=\"fill:#1f77b4;fill-opacity:0.8;stroke:#1f77b4;stroke-opacity:0.8;\" x=\"227.020394\" xlink:href=\"#mb6734c815a\" y=\"165.976881\"/>\r\n     <use style=\"fill:#1f77b4;fill-opacity:0.8;stroke:#1f77b4;stroke-opacity:0.8;\" x=\"227.020394\" xlink:href=\"#mb6734c815a\" y=\"165.072572\"/>\r\n     <use style=\"fill:#1f77b4;fill-opacity:0.8;stroke:#1f77b4;stroke-opacity:0.8;\" x=\"260.820068\" xlink:href=\"#mb6734c815a\" y=\"162.637895\"/>\r\n     <use style=\"fill:#1f77b4;fill-opacity:0.8;stroke:#1f77b4;stroke-opacity:0.8;\" x=\"294.619741\" xlink:href=\"#mb6734c815a\" y=\"163.020487\"/>\r\n     <use style=\"fill:#1f77b4;fill-opacity:0.8;stroke:#1f77b4;stroke-opacity:0.8;\" x=\"294.619741\" xlink:href=\"#mb6734c815a\" y=\"163.194393\"/>\r\n     <use style=\"fill:#1f77b4;fill-opacity:0.8;stroke:#1f77b4;stroke-opacity:0.8;\" x=\"210.120557\" xlink:href=\"#mb6734c815a\" y=\"161.037965\"/>\r\n     <use style=\"fill:#1f77b4;fill-opacity:0.8;stroke:#1f77b4;stroke-opacity:0.8;\" x=\"210.120557\" xlink:href=\"#mb6734c815a\" y=\"157.907666\"/>\r\n     <use style=\"fill:#1f77b4;fill-opacity:0.8;stroke:#1f77b4;stroke-opacity:0.8;\" x=\"218.570476\" xlink:href=\"#mb6734c815a\" y=\"162.081398\"/>\r\n     <use style=\"fill:#1f77b4;fill-opacity:0.8;stroke:#1f77b4;stroke-opacity:0.8;\" x=\"218.570476\" xlink:href=\"#mb6734c815a\" y=\"161.455338\"/>\r\n     <use style=\"fill:#1f77b4;fill-opacity:0.8;stroke:#1f77b4;stroke-opacity:0.8;\" x=\"193.220721\" xlink:href=\"#mb6734c815a\" y=\"157.768541\"/>\r\n     <use style=\"fill:#1f77b4;fill-opacity:0.8;stroke:#1f77b4;stroke-opacity:0.8;\" x=\"193.220721\" xlink:href=\"#mb6734c815a\" y=\"156.933795\"/>\r\n     <use style=\"fill:#1f77b4;fill-opacity:0.8;stroke:#1f77b4;stroke-opacity:0.8;\" x=\"176.320884\" xlink:href=\"#mb6734c815a\" y=\"160.721457\"/>\r\n     <use style=\"fill:#1f77b4;fill-opacity:0.8;stroke:#1f77b4;stroke-opacity:0.8;\" x=\"176.320884\" xlink:href=\"#mb6734c815a\" y=\"156.582506\"/>\r\n     <use style=\"fill:#1f77b4;fill-opacity:0.8;stroke:#1f77b4;stroke-opacity:0.8;\" x=\"176.320884\" xlink:href=\"#mb6734c815a\" y=\"155.365167\"/>\r\n     <use style=\"fill:#1f77b4;fill-opacity:0.8;stroke:#1f77b4;stroke-opacity:0.8;\" x=\"176.320884\" xlink:href=\"#mb6734c815a\" y=\"151.156654\"/>\r\n     <use style=\"fill:#1f77b4;fill-opacity:0.8;stroke:#1f77b4;stroke-opacity:0.8;\" x=\"176.320884\" xlink:href=\"#mb6734c815a\" y=\"149.939316\"/>\r\n     <use style=\"fill:#1f77b4;fill-opacity:0.8;stroke:#1f77b4;stroke-opacity:0.8;\" x=\"176.320884\" xlink:href=\"#mb6734c815a\" y=\"128.653282\"/>\r\n     <use style=\"fill:#1f77b4;fill-opacity:0.8;stroke:#1f77b4;stroke-opacity:0.8;\" x=\"218.570476\" xlink:href=\"#mb6734c815a\" y=\"158.98588\"/>\r\n     <use style=\"fill:#1f77b4;fill-opacity:0.8;stroke:#1f77b4;stroke-opacity:0.8;\" x=\"227.020394\" xlink:href=\"#mb6734c815a\" y=\"152.899187\"/>\r\n     <use style=\"fill:#1f77b4;fill-opacity:0.8;stroke:#1f77b4;stroke-opacity:0.8;\" x=\"201.670639\" xlink:href=\"#mb6734c815a\" y=\"155.368645\"/>\r\n     <use style=\"fill:#1f77b4;fill-opacity:0.8;stroke:#1f77b4;stroke-opacity:0.8;\" x=\"201.670639\" xlink:href=\"#mb6734c815a\" y=\"152.203565\"/>\r\n     <use style=\"fill:#1f77b4;fill-opacity:0.8;stroke:#1f77b4;stroke-opacity:0.8;\" x=\"201.670639\" xlink:href=\"#mb6734c815a\" y=\"150.986227\"/>\r\n     <use style=\"fill:#1f77b4;fill-opacity:0.8;stroke:#1f77b4;stroke-opacity:0.8;\" x=\"142.521211\" xlink:href=\"#mb6734c815a\" y=\"132.517463\"/>\r\n     <use style=\"fill:#1f77b4;fill-opacity:0.8;stroke:#1f77b4;stroke-opacity:0.8;\" x=\"134.071292\" xlink:href=\"#mb6734c815a\" y=\"134.465204\"/>\r\n     <use style=\"fill:#1f77b4;fill-opacity:0.8;stroke:#1f77b4;stroke-opacity:0.8;\" x=\"142.521211\" xlink:href=\"#mb6734c815a\" y=\"135.536462\"/>\r\n     <use style=\"fill:#1f77b4;fill-opacity:0.8;stroke:#1f77b4;stroke-opacity:0.8;\" x=\"134.071292\" xlink:href=\"#mb6734c815a\" y=\"135.327775\"/>\r\n     <use style=\"fill:#1f77b4;fill-opacity:0.8;stroke:#1f77b4;stroke-opacity:0.8;\" x=\"286.169823\" xlink:href=\"#mb6734c815a\" y=\"163.065703\"/>\r\n     <use style=\"fill:#1f77b4;fill-opacity:0.8;stroke:#1f77b4;stroke-opacity:0.8;\" x=\"201.670639\" xlink:href=\"#mb6734c815a\" y=\"162.370081\"/>\r\n     <use style=\"fill:#1f77b4;fill-opacity:0.8;stroke:#1f77b4;stroke-opacity:0.8;\" x=\"286.169823\" xlink:href=\"#mb6734c815a\" y=\"162.300518\"/>\r\n     <use style=\"fill:#1f77b4;fill-opacity:0.8;stroke:#1f77b4;stroke-opacity:0.8;\" x=\"201.670639\" xlink:href=\"#mb6734c815a\" y=\"161.604896\"/>\r\n     <use style=\"fill:#1f77b4;fill-opacity:0.8;stroke:#1f77b4;stroke-opacity:0.8;\" x=\"201.670639\" xlink:href=\"#mb6734c815a\" y=\"160.561463\"/>\r\n     <use style=\"fill:#1f77b4;fill-opacity:0.8;stroke:#1f77b4;stroke-opacity:0.8;\" x=\"286.169823\" xlink:href=\"#mb6734c815a\" y=\"157.083353\"/>\r\n     <use style=\"fill:#1f77b4;fill-opacity:0.8;stroke:#1f77b4;stroke-opacity:0.8;\" x=\"193.220721\" xlink:href=\"#mb6734c815a\" y=\"155.344298\"/>\r\n     <use style=\"fill:#1f77b4;fill-opacity:0.8;stroke:#1f77b4;stroke-opacity:0.8;\" x=\"176.320884\" xlink:href=\"#mb6734c815a\" y=\"149.779322\"/>\r\n     <use style=\"fill:#1f77b4;fill-opacity:0.8;stroke:#1f77b4;stroke-opacity:0.8;\" x=\"176.320884\" xlink:href=\"#mb6734c815a\" y=\"155.39647\"/>\r\n     <use style=\"fill:#1f77b4;fill-opacity:0.8;stroke:#1f77b4;stroke-opacity:0.8;\" x=\"134.071292\" xlink:href=\"#mb6734c815a\" y=\"143.866535\"/>\r\n     <use style=\"fill:#1f77b4;fill-opacity:0.8;stroke:#1f77b4;stroke-opacity:0.8;\" x=\"252.370149\" xlink:href=\"#mb6734c815a\" y=\"141.953575\"/>\r\n     <use style=\"fill:#1f77b4;fill-opacity:0.8;stroke:#1f77b4;stroke-opacity:0.8;\" x=\"184.770802\" xlink:href=\"#mb6734c815a\" y=\"147.362036\"/>\r\n     <use style=\"fill:#1f77b4;fill-opacity:0.8;stroke:#1f77b4;stroke-opacity:0.8;\" x=\"167.870966\" xlink:href=\"#mb6734c815a\" y=\"145.101265\"/>\r\n     <use style=\"fill:#1f77b4;fill-opacity:0.8;stroke:#1f77b4;stroke-opacity:0.8;\" x=\"167.870966\" xlink:href=\"#mb6734c815a\" y=\"143.449162\"/>\r\n     <use style=\"fill:#1f77b4;fill-opacity:0.8;stroke:#1f77b4;stroke-opacity:0.8;\" x=\"176.320884\" xlink:href=\"#mb6734c815a\" y=\"134.51042\"/>\r\n     <use style=\"fill:#1f77b4;fill-opacity:0.8;stroke:#1f77b4;stroke-opacity:0.8;\" x=\"176.320884\" xlink:href=\"#mb6734c815a\" y=\"132.667021\"/>\r\n     <use style=\"fill:#1f77b4;fill-opacity:0.8;stroke:#1f77b4;stroke-opacity:0.8;\" x=\"117.171455\" xlink:href=\"#mb6734c815a\" y=\"126.041222\"/>\r\n     <use style=\"fill:#1f77b4;fill-opacity:0.8;stroke:#1f77b4;stroke-opacity:0.8;\" x=\"117.171455\" xlink:href=\"#mb6734c815a\" y=\"124.197823\"/>\r\n     <use style=\"fill:#1f77b4;fill-opacity:0.8;stroke:#1f77b4;stroke-opacity:0.8;\" x=\"167.870966\" xlink:href=\"#mb6734c815a\" y=\"131.519245\"/>\r\n     <use style=\"fill:#1f77b4;fill-opacity:0.8;stroke:#1f77b4;stroke-opacity:0.8;\" x=\"134.071292\" xlink:href=\"#mb6734c815a\" y=\"123.867403\"/>\r\n     <use style=\"fill:#1f77b4;fill-opacity:0.8;stroke:#1f77b4;stroke-opacity:0.8;\" x=\"125.621374\" xlink:href=\"#mb6734c815a\" y=\"115.380815\"/>\r\n     <use style=\"fill:#1f77b4;fill-opacity:0.8;stroke:#1f77b4;stroke-opacity:0.8;\" x=\"193.220721\" xlink:href=\"#mb6734c815a\" y=\"111.954876\"/>\r\n     <use style=\"fill:#1f77b4;fill-opacity:0.8;stroke:#1f77b4;stroke-opacity:0.8;\" x=\"134.071292\" xlink:href=\"#mb6734c815a\" y=\"111.415769\"/>\r\n    </g>\r\n   </g>\r\n   <g id=\"PolyCollection_1\">\r\n    <path clip-path=\"url(#p526383f4d3)\" d=\"M 83.371782 98.652941 \r\nL 83.371782 116.544549 \r\nL 86.44448 117.473343 \r\nL 89.517177 118.382455 \r\nL 92.589875 119.256042 \r\nL 95.662572 120.113236 \r\nL 98.73527 120.970431 \r\nL 101.807968 121.827625 \r\nL 104.880665 122.68482 \r\nL 107.953363 123.541892 \r\nL 111.02606 124.398336 \r\nL 114.098758 125.280218 \r\nL 117.171455 126.182152 \r\nL 120.244153 127.000603 \r\nL 123.316851 127.854341 \r\nL 126.389548 128.717295 \r\nL 129.462246 129.641825 \r\nL 132.534943 130.535193 \r\nL 135.607641 131.429721 \r\nL 138.680339 132.325469 \r\nL 141.753036 133.252958 \r\nL 144.825734 134.202285 \r\nL 147.898431 135.121927 \r\nL 150.971129 136.084958 \r\nL 154.043826 136.975839 \r\nL 157.116524 137.894725 \r\nL 160.189222 138.903472 \r\nL 163.261919 139.789817 \r\nL 166.334617 140.749732 \r\nL 169.407314 141.676211 \r\nL 172.480012 142.610302 \r\nL 175.55271 143.524251 \r\nL 178.625407 144.439297 \r\nL 181.698105 145.441424 \r\nL 184.770802 146.40757 \r\nL 187.8435 147.420847 \r\nL 190.916198 148.440897 \r\nL 193.988895 149.427197 \r\nL 197.061593 150.459839 \r\nL 200.13429 151.611391 \r\nL 203.206988 152.638644 \r\nL 206.279685 153.782803 \r\nL 209.352383 154.998002 \r\nL 212.425081 156.088122 \r\nL 215.497778 157.300154 \r\nL 218.570476 158.661107 \r\nL 221.643173 159.851169 \r\nL 224.715871 161.228799 \r\nL 227.788569 162.397191 \r\nL 230.861266 163.686581 \r\nL 233.933964 164.94687 \r\nL 237.006661 166.235612 \r\nL 240.079359 167.540653 \r\nL 243.152056 168.839355 \r\nL 246.224754 170.137768 \r\nL 249.297452 171.433491 \r\nL 252.370149 172.735063 \r\nL 255.442847 174.016342 \r\nL 258.515544 175.332703 \r\nL 261.588242 176.632253 \r\nL 264.66094 177.931317 \r\nL 267.733637 179.228144 \r\nL 270.806335 180.52679 \r\nL 273.879032 181.810074 \r\nL 276.95173 183.056322 \r\nL 280.024427 184.346527 \r\nL 283.097125 185.637283 \r\nL 286.169823 186.928804 \r\nL 289.24252 188.220325 \r\nL 292.315218 189.511847 \r\nL 295.387915 190.803368 \r\nL 298.460613 192.094889 \r\nL 301.533311 193.415631 \r\nL 304.606008 194.761628 \r\nL 307.678706 196.065731 \r\nL 310.751403 197.368085 \r\nL 313.824101 198.670128 \r\nL 316.896799 199.972105 \r\nL 319.969496 201.26439 \r\nL 323.042194 202.549286 \r\nL 326.114891 203.83403 \r\nL 329.187589 205.118659 \r\nL 332.260286 206.403146 \r\nL 335.332984 207.705896 \r\nL 338.405682 208.972316 \r\nL 341.478379 210.318043 \r\nL 344.551077 211.624866 \r\nL 347.623774 212.917464 \r\nL 350.696472 214.209412 \r\nL 353.76917 215.50136 \r\nL 356.841867 216.793308 \r\nL 359.914565 218.085257 \r\nL 362.987262 219.377205 \r\nL 366.05996 220.689816 \r\nL 369.132657 222.009441 \r\nL 372.205355 223.329067 \r\nL 375.278053 224.648692 \r\nL 378.35075 225.968317 \r\nL 381.423448 227.276237 \r\nL 384.496145 228.575373 \r\nL 387.568843 229.874489 \r\nL 387.568843 202.089621 \r\nL 387.568843 202.089621 \r\nL 384.496145 201.201752 \r\nL 381.423448 200.352923 \r\nL 378.35075 199.504094 \r\nL 375.278053 198.620261 \r\nL 372.205355 197.681376 \r\nL 369.132657 196.766662 \r\nL 366.05996 195.922349 \r\nL 362.987262 195.078035 \r\nL 359.914565 194.23512 \r\nL 356.841867 193.39221 \r\nL 353.76917 192.5493 \r\nL 350.696472 191.70639 \r\nL 347.623774 190.86348 \r\nL 344.551077 190.001506 \r\nL 341.478379 189.141526 \r\nL 338.405682 188.256555 \r\nL 335.332984 187.355225 \r\nL 332.260286 186.453896 \r\nL 329.187589 185.553155 \r\nL 326.114891 184.65393 \r\nL 323.042194 183.745903 \r\nL 319.969496 182.834457 \r\nL 316.896799 181.947247 \r\nL 313.824101 181.052034 \r\nL 310.751403 180.16483 \r\nL 307.678706 179.279755 \r\nL 304.606008 178.364157 \r\nL 301.533311 177.494758 \r\nL 298.460613 176.637339 \r\nL 295.387915 175.716121 \r\nL 292.315218 174.816869 \r\nL 289.24252 173.947536 \r\nL 286.169823 173.078836 \r\nL 283.097125 172.140674 \r\nL 280.024427 171.192667 \r\nL 276.95173 170.259897 \r\nL 273.879032 169.32774 \r\nL 270.806335 168.437433 \r\nL 267.733637 167.523199 \r\nL 264.66094 166.652244 \r\nL 261.588242 165.772219 \r\nL 258.515544 164.860807 \r\nL 255.442847 163.900112 \r\nL 252.370149 162.978864 \r\nL 249.297452 162.088299 \r\nL 246.224754 161.103703 \r\nL 243.152056 160.183403 \r\nL 240.079359 159.309293 \r\nL 237.006661 158.454263 \r\nL 233.933964 157.495307 \r\nL 230.861266 156.557018 \r\nL 227.788569 155.564386 \r\nL 224.715871 154.581898 \r\nL 221.643173 153.592701 \r\nL 218.570476 152.603503 \r\nL 215.497778 151.606935 \r\nL 212.425081 150.625109 \r\nL 209.352383 149.569477 \r\nL 206.279685 148.504343 \r\nL 203.206988 147.481495 \r\nL 200.13429 146.500177 \r\nL 197.061593 145.358782 \r\nL 193.988895 144.223649 \r\nL 190.916198 143.117071 \r\nL 187.8435 141.967471 \r\nL 184.770802 140.820104 \r\nL 181.698105 139.667954 \r\nL 178.625407 138.437876 \r\nL 175.55271 137.215071 \r\nL 172.480012 136.116777 \r\nL 169.407314 134.888261 \r\nL 166.334617 133.66049 \r\nL 163.261919 132.413969 \r\nL 160.189222 131.17399 \r\nL 157.116524 129.902301 \r\nL 154.043826 128.541995 \r\nL 150.971129 127.256132 \r\nL 147.898431 125.933028 \r\nL 144.825734 124.68323 \r\nL 141.753036 123.381179 \r\nL 138.680339 122.08705 \r\nL 135.607641 120.670079 \r\nL 132.534943 119.370288 \r\nL 129.462246 118.078983 \r\nL 126.389548 116.78794 \r\nL 123.316851 115.497908 \r\nL 120.244153 114.207877 \r\nL 117.171455 112.917845 \r\nL 114.098758 111.627813 \r\nL 111.02606 110.337782 \r\nL 107.953363 109.04325 \r\nL 104.880665 107.735589 \r\nL 101.807968 106.457218 \r\nL 98.73527 105.157577 \r\nL 95.662572 103.776163 \r\nL 92.589875 102.495653 \r\nL 89.517177 101.2395 \r\nL 86.44448 99.940675 \r\nL 83.371782 98.652941 \r\nz\r\n\" style=\"fill:#1f77b4;fill-opacity:0.15;\"/>\r\n   </g>\r\n   <g id=\"matplotlib.axis_1\">\r\n    <g id=\"xtick_1\">\r\n     <g id=\"line2d_1\">\r\n      <defs>\r\n       <path d=\"M 0 0 \r\nL 0 3.5 \r\n\" id=\"mf5a9086a95\" style=\"stroke:#000000;stroke-width:0.8;\"/>\r\n      </defs>\r\n      <g>\r\n       <use style=\"stroke:#000000;stroke-width:0.8;\" x=\"100.271619\" xlink:href=\"#mf5a9086a95\" y=\"239.758125\"/>\r\n      </g>\r\n     </g>\r\n     <g id=\"text_1\">\r\n      <!-- 15 -->\r\n      <defs>\r\n       <path d=\"M 12.40625 8.296875 \r\nL 28.515625 8.296875 \r\nL 28.515625 63.921875 \r\nL 10.984375 60.40625 \r\nL 10.984375 69.390625 \r\nL 28.421875 72.90625 \r\nL 38.28125 72.90625 \r\nL 38.28125 8.296875 \r\nL 54.390625 8.296875 \r\nL 54.390625 0 \r\nL 12.40625 0 \r\nz\r\n\" id=\"DejaVuSans-49\"/>\r\n       <path d=\"M 10.796875 72.90625 \r\nL 49.515625 72.90625 \r\nL 49.515625 64.59375 \r\nL 19.828125 64.59375 \r\nL 19.828125 46.734375 \r\nQ 21.96875 47.46875 24.109375 47.828125 \r\nQ 26.265625 48.1875 28.421875 48.1875 \r\nQ 40.625 48.1875 47.75 41.5 \r\nQ 54.890625 34.8125 54.890625 23.390625 \r\nQ 54.890625 11.625 47.5625 5.09375 \r\nQ 40.234375 -1.421875 26.90625 -1.421875 \r\nQ 22.3125 -1.421875 17.546875 -0.640625 \r\nQ 12.796875 0.140625 7.71875 1.703125 \r\nL 7.71875 11.625 \r\nQ 12.109375 9.234375 16.796875 8.0625 \r\nQ 21.484375 6.890625 26.703125 6.890625 \r\nQ 35.15625 6.890625 40.078125 11.328125 \r\nQ 45.015625 15.765625 45.015625 23.390625 \r\nQ 45.015625 31 40.078125 35.4375 \r\nQ 35.15625 39.890625 26.703125 39.890625 \r\nQ 22.75 39.890625 18.8125 39.015625 \r\nQ 14.890625 38.140625 10.796875 36.28125 \r\nz\r\n\" id=\"DejaVuSans-53\"/>\r\n      </defs>\r\n      <g transform=\"translate(93.909119 254.356562)scale(0.1 -0.1)\">\r\n       <use xlink:href=\"#DejaVuSans-49\"/>\r\n       <use x=\"63.623047\" xlink:href=\"#DejaVuSans-53\"/>\r\n      </g>\r\n     </g>\r\n    </g>\r\n    <g id=\"xtick_2\">\r\n     <g id=\"line2d_2\">\r\n      <g>\r\n       <use style=\"stroke:#000000;stroke-width:0.8;\" x=\"142.521211\" xlink:href=\"#mf5a9086a95\" y=\"239.758125\"/>\r\n      </g>\r\n     </g>\r\n     <g id=\"text_2\">\r\n      <!-- 20 -->\r\n      <defs>\r\n       <path d=\"M 19.1875 8.296875 \r\nL 53.609375 8.296875 \r\nL 53.609375 0 \r\nL 7.328125 0 \r\nL 7.328125 8.296875 \r\nQ 12.9375 14.109375 22.625 23.890625 \r\nQ 32.328125 33.6875 34.8125 36.53125 \r\nQ 39.546875 41.84375 41.421875 45.53125 \r\nQ 43.3125 49.21875 43.3125 52.78125 \r\nQ 43.3125 58.59375 39.234375 62.25 \r\nQ 35.15625 65.921875 28.609375 65.921875 \r\nQ 23.96875 65.921875 18.8125 64.3125 \r\nQ 13.671875 62.703125 7.8125 59.421875 \r\nL 7.8125 69.390625 \r\nQ 13.765625 71.78125 18.9375 73 \r\nQ 24.125 74.21875 28.421875 74.21875 \r\nQ 39.75 74.21875 46.484375 68.546875 \r\nQ 53.21875 62.890625 53.21875 53.421875 \r\nQ 53.21875 48.921875 51.53125 44.890625 \r\nQ 49.859375 40.875 45.40625 35.40625 \r\nQ 44.1875 33.984375 37.640625 27.21875 \r\nQ 31.109375 20.453125 19.1875 8.296875 \r\nz\r\n\" id=\"DejaVuSans-50\"/>\r\n       <path d=\"M 31.78125 66.40625 \r\nQ 24.171875 66.40625 20.328125 58.90625 \r\nQ 16.5 51.421875 16.5 36.375 \r\nQ 16.5 21.390625 20.328125 13.890625 \r\nQ 24.171875 6.390625 31.78125 6.390625 \r\nQ 39.453125 6.390625 43.28125 13.890625 \r\nQ 47.125 21.390625 47.125 36.375 \r\nQ 47.125 51.421875 43.28125 58.90625 \r\nQ 39.453125 66.40625 31.78125 66.40625 \r\nz\r\nM 31.78125 74.21875 \r\nQ 44.046875 74.21875 50.515625 64.515625 \r\nQ 56.984375 54.828125 56.984375 36.375 \r\nQ 56.984375 17.96875 50.515625 8.265625 \r\nQ 44.046875 -1.421875 31.78125 -1.421875 \r\nQ 19.53125 -1.421875 13.0625 8.265625 \r\nQ 6.59375 17.96875 6.59375 36.375 \r\nQ 6.59375 54.828125 13.0625 64.515625 \r\nQ 19.53125 74.21875 31.78125 74.21875 \r\nz\r\n\" id=\"DejaVuSans-48\"/>\r\n      </defs>\r\n      <g transform=\"translate(136.158711 254.356562)scale(0.1 -0.1)\">\r\n       <use xlink:href=\"#DejaVuSans-50\"/>\r\n       <use x=\"63.623047\" xlink:href=\"#DejaVuSans-48\"/>\r\n      </g>\r\n     </g>\r\n    </g>\r\n    <g id=\"xtick_3\">\r\n     <g id=\"line2d_3\">\r\n      <g>\r\n       <use style=\"stroke:#000000;stroke-width:0.8;\" x=\"184.770802\" xlink:href=\"#mf5a9086a95\" y=\"239.758125\"/>\r\n      </g>\r\n     </g>\r\n     <g id=\"text_3\">\r\n      <!-- 25 -->\r\n      <g transform=\"translate(178.408302 254.356562)scale(0.1 -0.1)\">\r\n       <use xlink:href=\"#DejaVuSans-50\"/>\r\n       <use x=\"63.623047\" xlink:href=\"#DejaVuSans-53\"/>\r\n      </g>\r\n     </g>\r\n    </g>\r\n    <g id=\"xtick_4\">\r\n     <g id=\"line2d_4\">\r\n      <g>\r\n       <use style=\"stroke:#000000;stroke-width:0.8;\" x=\"227.020394\" xlink:href=\"#mf5a9086a95\" y=\"239.758125\"/>\r\n      </g>\r\n     </g>\r\n     <g id=\"text_4\">\r\n      <!-- 30 -->\r\n      <defs>\r\n       <path d=\"M 40.578125 39.3125 \r\nQ 47.65625 37.796875 51.625 33 \r\nQ 55.609375 28.21875 55.609375 21.1875 \r\nQ 55.609375 10.40625 48.1875 4.484375 \r\nQ 40.765625 -1.421875 27.09375 -1.421875 \r\nQ 22.515625 -1.421875 17.65625 -0.515625 \r\nQ 12.796875 0.390625 7.625 2.203125 \r\nL 7.625 11.71875 \r\nQ 11.71875 9.328125 16.59375 8.109375 \r\nQ 21.484375 6.890625 26.8125 6.890625 \r\nQ 36.078125 6.890625 40.9375 10.546875 \r\nQ 45.796875 14.203125 45.796875 21.1875 \r\nQ 45.796875 27.640625 41.28125 31.265625 \r\nQ 36.765625 34.90625 28.71875 34.90625 \r\nL 20.21875 34.90625 \r\nL 20.21875 43.015625 \r\nL 29.109375 43.015625 \r\nQ 36.375 43.015625 40.234375 45.921875 \r\nQ 44.09375 48.828125 44.09375 54.296875 \r\nQ 44.09375 59.90625 40.109375 62.90625 \r\nQ 36.140625 65.921875 28.71875 65.921875 \r\nQ 24.65625 65.921875 20.015625 65.03125 \r\nQ 15.375 64.15625 9.8125 62.3125 \r\nL 9.8125 71.09375 \r\nQ 15.4375 72.65625 20.34375 73.4375 \r\nQ 25.25 74.21875 29.59375 74.21875 \r\nQ 40.828125 74.21875 47.359375 69.109375 \r\nQ 53.90625 64.015625 53.90625 55.328125 \r\nQ 53.90625 49.265625 50.4375 45.09375 \r\nQ 46.96875 40.921875 40.578125 39.3125 \r\nz\r\n\" id=\"DejaVuSans-51\"/>\r\n      </defs>\r\n      <g transform=\"translate(220.657894 254.356562)scale(0.1 -0.1)\">\r\n       <use xlink:href=\"#DejaVuSans-51\"/>\r\n       <use x=\"63.623047\" xlink:href=\"#DejaVuSans-48\"/>\r\n      </g>\r\n     </g>\r\n    </g>\r\n    <g id=\"xtick_5\">\r\n     <g id=\"line2d_5\">\r\n      <g>\r\n       <use style=\"stroke:#000000;stroke-width:0.8;\" x=\"269.269986\" xlink:href=\"#mf5a9086a95\" y=\"239.758125\"/>\r\n      </g>\r\n     </g>\r\n     <g id=\"text_5\">\r\n      <!-- 35 -->\r\n      <g transform=\"translate(262.907486 254.356562)scale(0.1 -0.1)\">\r\n       <use xlink:href=\"#DejaVuSans-51\"/>\r\n       <use x=\"63.623047\" xlink:href=\"#DejaVuSans-53\"/>\r\n      </g>\r\n     </g>\r\n    </g>\r\n    <g id=\"xtick_6\">\r\n     <g id=\"line2d_6\">\r\n      <g>\r\n       <use style=\"stroke:#000000;stroke-width:0.8;\" x=\"311.519578\" xlink:href=\"#mf5a9086a95\" y=\"239.758125\"/>\r\n      </g>\r\n     </g>\r\n     <g id=\"text_6\">\r\n      <!-- 40 -->\r\n      <defs>\r\n       <path d=\"M 37.796875 64.3125 \r\nL 12.890625 25.390625 \r\nL 37.796875 25.390625 \r\nz\r\nM 35.203125 72.90625 \r\nL 47.609375 72.90625 \r\nL 47.609375 25.390625 \r\nL 58.015625 25.390625 \r\nL 58.015625 17.1875 \r\nL 47.609375 17.1875 \r\nL 47.609375 0 \r\nL 37.796875 0 \r\nL 37.796875 17.1875 \r\nL 4.890625 17.1875 \r\nL 4.890625 26.703125 \r\nz\r\n\" id=\"DejaVuSans-52\"/>\r\n      </defs>\r\n      <g transform=\"translate(305.157078 254.356562)scale(0.1 -0.1)\">\r\n       <use xlink:href=\"#DejaVuSans-52\"/>\r\n       <use x=\"63.623047\" xlink:href=\"#DejaVuSans-48\"/>\r\n      </g>\r\n     </g>\r\n    </g>\r\n    <g id=\"xtick_7\">\r\n     <g id=\"line2d_7\">\r\n      <g>\r\n       <use style=\"stroke:#000000;stroke-width:0.8;\" x=\"353.76917\" xlink:href=\"#mf5a9086a95\" y=\"239.758125\"/>\r\n      </g>\r\n     </g>\r\n     <g id=\"text_7\">\r\n      <!-- 45 -->\r\n      <g transform=\"translate(347.40667 254.356562)scale(0.1 -0.1)\">\r\n       <use xlink:href=\"#DejaVuSans-52\"/>\r\n       <use x=\"63.623047\" xlink:href=\"#DejaVuSans-53\"/>\r\n      </g>\r\n     </g>\r\n    </g>\r\n    <g id=\"xtick_8\">\r\n     <g id=\"line2d_8\">\r\n      <g>\r\n       <use style=\"stroke:#000000;stroke-width:0.8;\" x=\"396.018761\" xlink:href=\"#mf5a9086a95\" y=\"239.758125\"/>\r\n      </g>\r\n     </g>\r\n     <g id=\"text_8\">\r\n      <!-- 50 -->\r\n      <g transform=\"translate(389.656261 254.356562)scale(0.1 -0.1)\">\r\n       <use xlink:href=\"#DejaVuSans-53\"/>\r\n       <use x=\"63.623047\" xlink:href=\"#DejaVuSans-48\"/>\r\n      </g>\r\n     </g>\r\n    </g>\r\n    <g id=\"text_9\">\r\n     <!-- city-mpg -->\r\n     <defs>\r\n      <path d=\"M 48.78125 52.59375 \r\nL 48.78125 44.1875 \r\nQ 44.96875 46.296875 41.140625 47.34375 \r\nQ 37.3125 48.390625 33.40625 48.390625 \r\nQ 24.65625 48.390625 19.8125 42.84375 \r\nQ 14.984375 37.3125 14.984375 27.296875 \r\nQ 14.984375 17.28125 19.8125 11.734375 \r\nQ 24.65625 6.203125 33.40625 6.203125 \r\nQ 37.3125 6.203125 41.140625 7.25 \r\nQ 44.96875 8.296875 48.78125 10.40625 \r\nL 48.78125 2.09375 \r\nQ 45.015625 0.34375 40.984375 -0.53125 \r\nQ 36.96875 -1.421875 32.421875 -1.421875 \r\nQ 20.0625 -1.421875 12.78125 6.34375 \r\nQ 5.515625 14.109375 5.515625 27.296875 \r\nQ 5.515625 40.671875 12.859375 48.328125 \r\nQ 20.21875 56 33.015625 56 \r\nQ 37.15625 56 41.109375 55.140625 \r\nQ 45.0625 54.296875 48.78125 52.59375 \r\nz\r\n\" id=\"DejaVuSans-99\"/>\r\n      <path d=\"M 9.421875 54.6875 \r\nL 18.40625 54.6875 \r\nL 18.40625 0 \r\nL 9.421875 0 \r\nz\r\nM 9.421875 75.984375 \r\nL 18.40625 75.984375 \r\nL 18.40625 64.59375 \r\nL 9.421875 64.59375 \r\nz\r\n\" id=\"DejaVuSans-105\"/>\r\n      <path d=\"M 18.3125 70.21875 \r\nL 18.3125 54.6875 \r\nL 36.8125 54.6875 \r\nL 36.8125 47.703125 \r\nL 18.3125 47.703125 \r\nL 18.3125 18.015625 \r\nQ 18.3125 11.328125 20.140625 9.421875 \r\nQ 21.96875 7.515625 27.59375 7.515625 \r\nL 36.8125 7.515625 \r\nL 36.8125 0 \r\nL 27.59375 0 \r\nQ 17.1875 0 13.234375 3.875 \r\nQ 9.28125 7.765625 9.28125 18.015625 \r\nL 9.28125 47.703125 \r\nL 2.6875 47.703125 \r\nL 2.6875 54.6875 \r\nL 9.28125 54.6875 \r\nL 9.28125 70.21875 \r\nz\r\n\" id=\"DejaVuSans-116\"/>\r\n      <path d=\"M 32.171875 -5.078125 \r\nQ 28.375 -14.84375 24.75 -17.8125 \r\nQ 21.140625 -20.796875 15.09375 -20.796875 \r\nL 7.90625 -20.796875 \r\nL 7.90625 -13.28125 \r\nL 13.1875 -13.28125 \r\nQ 16.890625 -13.28125 18.9375 -11.515625 \r\nQ 21 -9.765625 23.484375 -3.21875 \r\nL 25.09375 0.875 \r\nL 2.984375 54.6875 \r\nL 12.5 54.6875 \r\nL 29.59375 11.921875 \r\nL 46.6875 54.6875 \r\nL 56.203125 54.6875 \r\nz\r\n\" id=\"DejaVuSans-121\"/>\r\n      <path d=\"M 4.890625 31.390625 \r\nL 31.203125 31.390625 \r\nL 31.203125 23.390625 \r\nL 4.890625 23.390625 \r\nz\r\n\" id=\"DejaVuSans-45\"/>\r\n      <path d=\"M 52 44.1875 \r\nQ 55.375 50.25 60.0625 53.125 \r\nQ 64.75 56 71.09375 56 \r\nQ 79.640625 56 84.28125 50.015625 \r\nQ 88.921875 44.046875 88.921875 33.015625 \r\nL 88.921875 0 \r\nL 79.890625 0 \r\nL 79.890625 32.71875 \r\nQ 79.890625 40.578125 77.09375 44.375 \r\nQ 74.3125 48.1875 68.609375 48.1875 \r\nQ 61.625 48.1875 57.5625 43.546875 \r\nQ 53.515625 38.921875 53.515625 30.90625 \r\nL 53.515625 0 \r\nL 44.484375 0 \r\nL 44.484375 32.71875 \r\nQ 44.484375 40.625 41.703125 44.40625 \r\nQ 38.921875 48.1875 33.109375 48.1875 \r\nQ 26.21875 48.1875 22.15625 43.53125 \r\nQ 18.109375 38.875 18.109375 30.90625 \r\nL 18.109375 0 \r\nL 9.078125 0 \r\nL 9.078125 54.6875 \r\nL 18.109375 54.6875 \r\nL 18.109375 46.1875 \r\nQ 21.1875 51.21875 25.484375 53.609375 \r\nQ 29.78125 56 35.6875 56 \r\nQ 41.65625 56 45.828125 52.96875 \r\nQ 50 49.953125 52 44.1875 \r\nz\r\n\" id=\"DejaVuSans-109\"/>\r\n      <path d=\"M 18.109375 8.203125 \r\nL 18.109375 -20.796875 \r\nL 9.078125 -20.796875 \r\nL 9.078125 54.6875 \r\nL 18.109375 54.6875 \r\nL 18.109375 46.390625 \r\nQ 20.953125 51.265625 25.265625 53.625 \r\nQ 29.59375 56 35.59375 56 \r\nQ 45.5625 56 51.78125 48.09375 \r\nQ 58.015625 40.1875 58.015625 27.296875 \r\nQ 58.015625 14.40625 51.78125 6.484375 \r\nQ 45.5625 -1.421875 35.59375 -1.421875 \r\nQ 29.59375 -1.421875 25.265625 0.953125 \r\nQ 20.953125 3.328125 18.109375 8.203125 \r\nz\r\nM 48.6875 27.296875 \r\nQ 48.6875 37.203125 44.609375 42.84375 \r\nQ 40.53125 48.484375 33.40625 48.484375 \r\nQ 26.265625 48.484375 22.1875 42.84375 \r\nQ 18.109375 37.203125 18.109375 27.296875 \r\nQ 18.109375 17.390625 22.1875 11.75 \r\nQ 26.265625 6.109375 33.40625 6.109375 \r\nQ 40.53125 6.109375 44.609375 11.75 \r\nQ 48.6875 17.390625 48.6875 27.296875 \r\nz\r\n\" id=\"DejaVuSans-112\"/>\r\n      <path d=\"M 45.40625 27.984375 \r\nQ 45.40625 37.75 41.375 43.109375 \r\nQ 37.359375 48.484375 30.078125 48.484375 \r\nQ 22.859375 48.484375 18.828125 43.109375 \r\nQ 14.796875 37.75 14.796875 27.984375 \r\nQ 14.796875 18.265625 18.828125 12.890625 \r\nQ 22.859375 7.515625 30.078125 7.515625 \r\nQ 37.359375 7.515625 41.375 12.890625 \r\nQ 45.40625 18.265625 45.40625 27.984375 \r\nz\r\nM 54.390625 6.78125 \r\nQ 54.390625 -7.171875 48.1875 -13.984375 \r\nQ 42 -20.796875 29.203125 -20.796875 \r\nQ 24.46875 -20.796875 20.265625 -20.09375 \r\nQ 16.0625 -19.390625 12.109375 -17.921875 \r\nL 12.109375 -9.1875 \r\nQ 16.0625 -11.328125 19.921875 -12.34375 \r\nQ 23.78125 -13.375 27.78125 -13.375 \r\nQ 36.625 -13.375 41.015625 -8.765625 \r\nQ 45.40625 -4.15625 45.40625 5.171875 \r\nL 45.40625 9.625 \r\nQ 42.625 4.78125 38.28125 2.390625 \r\nQ 33.9375 0 27.875 0 \r\nQ 17.828125 0 11.671875 7.65625 \r\nQ 5.515625 15.328125 5.515625 27.984375 \r\nQ 5.515625 40.671875 11.671875 48.328125 \r\nQ 17.828125 56 27.875 56 \r\nQ 33.9375 56 38.28125 53.609375 \r\nQ 42.625 51.21875 45.40625 46.390625 \r\nL 45.40625 54.6875 \r\nL 54.390625 54.6875 \r\nz\r\n\" id=\"DejaVuSans-103\"/>\r\n     </defs>\r\n     <g transform=\"translate(213.390625 268.034687)scale(0.1 -0.1)\">\r\n      <use xlink:href=\"#DejaVuSans-99\"/>\r\n      <use x=\"54.980469\" xlink:href=\"#DejaVuSans-105\"/>\r\n      <use x=\"82.763672\" xlink:href=\"#DejaVuSans-116\"/>\r\n      <use x=\"121.972656\" xlink:href=\"#DejaVuSans-121\"/>\r\n      <use x=\"181.136719\" xlink:href=\"#DejaVuSans-45\"/>\r\n      <use x=\"217.220703\" xlink:href=\"#DejaVuSans-109\"/>\r\n      <use x=\"314.632812\" xlink:href=\"#DejaVuSans-112\"/>\r\n      <use x=\"378.109375\" xlink:href=\"#DejaVuSans-103\"/>\r\n     </g>\r\n    </g>\r\n   </g>\r\n   <g id=\"matplotlib.axis_2\">\r\n    <g id=\"ytick_1\">\r\n     <g id=\"line2d_9\">\r\n      <defs>\r\n       <path d=\"M 0 0 \r\nL -3.5 0 \r\n\" id=\"m25954db7e8\" style=\"stroke:#000000;stroke-width:0.8;\"/>\r\n      </defs>\r\n      <g>\r\n       <use style=\"stroke:#000000;stroke-width:0.8;\" x=\"68.070312\" xlink:href=\"#m25954db7e8\" y=\"224.889108\"/>\r\n      </g>\r\n     </g>\r\n     <g id=\"text_10\">\r\n      <!-- −10000 -->\r\n      <defs>\r\n       <path d=\"M 10.59375 35.5 \r\nL 73.1875 35.5 \r\nL 73.1875 27.203125 \r\nL 10.59375 27.203125 \r\nz\r\n\" id=\"DejaVuSans-8722\"/>\r\n      </defs>\r\n      <g transform=\"translate(20.878125 228.688327)scale(0.1 -0.1)\">\r\n       <use xlink:href=\"#DejaVuSans-8722\"/>\r\n       <use x=\"83.789062\" xlink:href=\"#DejaVuSans-49\"/>\r\n       <use x=\"147.412109\" xlink:href=\"#DejaVuSans-48\"/>\r\n       <use x=\"211.035156\" xlink:href=\"#DejaVuSans-48\"/>\r\n       <use x=\"274.658203\" xlink:href=\"#DejaVuSans-48\"/>\r\n       <use x=\"338.28125\" xlink:href=\"#DejaVuSans-48\"/>\r\n      </g>\r\n     </g>\r\n    </g>\r\n    <g id=\"ytick_2\">\r\n     <g id=\"line2d_10\">\r\n      <g>\r\n       <use style=\"stroke:#000000;stroke-width:0.8;\" x=\"68.070312\" xlink:href=\"#m25954db7e8\" y=\"190.108008\"/>\r\n      </g>\r\n     </g>\r\n     <g id=\"text_11\">\r\n      <!-- 0 -->\r\n      <g transform=\"translate(54.707813 193.907227)scale(0.1 -0.1)\">\r\n       <use xlink:href=\"#DejaVuSans-48\"/>\r\n      </g>\r\n     </g>\r\n    </g>\r\n    <g id=\"ytick_3\">\r\n     <g id=\"line2d_11\">\r\n      <g>\r\n       <use style=\"stroke:#000000;stroke-width:0.8;\" x=\"68.070312\" xlink:href=\"#m25954db7e8\" y=\"155.326908\"/>\r\n      </g>\r\n     </g>\r\n     <g id=\"text_12\">\r\n      <!-- 10000 -->\r\n      <g transform=\"translate(29.257812 159.126127)scale(0.1 -0.1)\">\r\n       <use xlink:href=\"#DejaVuSans-49\"/>\r\n       <use x=\"63.623047\" xlink:href=\"#DejaVuSans-48\"/>\r\n       <use x=\"127.246094\" xlink:href=\"#DejaVuSans-48\"/>\r\n       <use x=\"190.869141\" xlink:href=\"#DejaVuSans-48\"/>\r\n       <use x=\"254.492188\" xlink:href=\"#DejaVuSans-48\"/>\r\n      </g>\r\n     </g>\r\n    </g>\r\n    <g id=\"ytick_4\">\r\n     <g id=\"line2d_12\">\r\n      <g>\r\n       <use style=\"stroke:#000000;stroke-width:0.8;\" x=\"68.070312\" xlink:href=\"#m25954db7e8\" y=\"120.545808\"/>\r\n      </g>\r\n     </g>\r\n     <g id=\"text_13\">\r\n      <!-- 20000 -->\r\n      <g transform=\"translate(29.257812 124.345027)scale(0.1 -0.1)\">\r\n       <use xlink:href=\"#DejaVuSans-50\"/>\r\n       <use x=\"63.623047\" xlink:href=\"#DejaVuSans-48\"/>\r\n       <use x=\"127.246094\" xlink:href=\"#DejaVuSans-48\"/>\r\n       <use x=\"190.869141\" xlink:href=\"#DejaVuSans-48\"/>\r\n       <use x=\"254.492188\" xlink:href=\"#DejaVuSans-48\"/>\r\n      </g>\r\n     </g>\r\n    </g>\r\n    <g id=\"ytick_5\">\r\n     <g id=\"line2d_13\">\r\n      <g>\r\n       <use style=\"stroke:#000000;stroke-width:0.8;\" x=\"68.070312\" xlink:href=\"#m25954db7e8\" y=\"85.764708\"/>\r\n      </g>\r\n     </g>\r\n     <g id=\"text_14\">\r\n      <!-- 30000 -->\r\n      <g transform=\"translate(29.257812 89.563927)scale(0.1 -0.1)\">\r\n       <use xlink:href=\"#DejaVuSans-51\"/>\r\n       <use x=\"63.623047\" xlink:href=\"#DejaVuSans-48\"/>\r\n       <use x=\"127.246094\" xlink:href=\"#DejaVuSans-48\"/>\r\n       <use x=\"190.869141\" xlink:href=\"#DejaVuSans-48\"/>\r\n       <use x=\"254.492188\" xlink:href=\"#DejaVuSans-48\"/>\r\n      </g>\r\n     </g>\r\n    </g>\r\n    <g id=\"ytick_6\">\r\n     <g id=\"line2d_14\">\r\n      <g>\r\n       <use style=\"stroke:#000000;stroke-width:0.8;\" x=\"68.070312\" xlink:href=\"#m25954db7e8\" y=\"50.983608\"/>\r\n      </g>\r\n     </g>\r\n     <g id=\"text_15\">\r\n      <!-- 40000 -->\r\n      <g transform=\"translate(29.257812 54.782827)scale(0.1 -0.1)\">\r\n       <use xlink:href=\"#DejaVuSans-52\"/>\r\n       <use x=\"63.623047\" xlink:href=\"#DejaVuSans-48\"/>\r\n       <use x=\"127.246094\" xlink:href=\"#DejaVuSans-48\"/>\r\n       <use x=\"190.869141\" xlink:href=\"#DejaVuSans-48\"/>\r\n       <use x=\"254.492188\" xlink:href=\"#DejaVuSans-48\"/>\r\n      </g>\r\n     </g>\r\n    </g>\r\n    <g id=\"text_16\">\r\n     <!-- price -->\r\n     <defs>\r\n      <path d=\"M 41.109375 46.296875 \r\nQ 39.59375 47.171875 37.8125 47.578125 \r\nQ 36.03125 48 33.890625 48 \r\nQ 26.265625 48 22.1875 43.046875 \r\nQ 18.109375 38.09375 18.109375 28.8125 \r\nL 18.109375 0 \r\nL 9.078125 0 \r\nL 9.078125 54.6875 \r\nL 18.109375 54.6875 \r\nL 18.109375 46.1875 \r\nQ 20.953125 51.171875 25.484375 53.578125 \r\nQ 30.03125 56 36.53125 56 \r\nQ 37.453125 56 38.578125 55.875 \r\nQ 39.703125 55.765625 41.0625 55.515625 \r\nz\r\n\" id=\"DejaVuSans-114\"/>\r\n      <path d=\"M 56.203125 29.59375 \r\nL 56.203125 25.203125 \r\nL 14.890625 25.203125 \r\nQ 15.484375 15.921875 20.484375 11.0625 \r\nQ 25.484375 6.203125 34.421875 6.203125 \r\nQ 39.59375 6.203125 44.453125 7.46875 \r\nQ 49.3125 8.734375 54.109375 11.28125 \r\nL 54.109375 2.78125 \r\nQ 49.265625 0.734375 44.1875 -0.34375 \r\nQ 39.109375 -1.421875 33.890625 -1.421875 \r\nQ 20.796875 -1.421875 13.15625 6.1875 \r\nQ 5.515625 13.8125 5.515625 26.8125 \r\nQ 5.515625 40.234375 12.765625 48.109375 \r\nQ 20.015625 56 32.328125 56 \r\nQ 43.359375 56 49.78125 48.890625 \r\nQ 56.203125 41.796875 56.203125 29.59375 \r\nz\r\nM 47.21875 32.234375 \r\nQ 47.125 39.59375 43.09375 43.984375 \r\nQ 39.0625 48.390625 32.421875 48.390625 \r\nQ 24.90625 48.390625 20.390625 44.140625 \r\nQ 15.875 39.890625 15.1875 32.171875 \r\nz\r\n\" id=\"DejaVuSans-101\"/>\r\n     </defs>\r\n     <g transform=\"translate(14.798437 143.482656)rotate(-90)scale(0.1 -0.1)\">\r\n      <use xlink:href=\"#DejaVuSans-112\"/>\r\n      <use x=\"63.476562\" xlink:href=\"#DejaVuSans-114\"/>\r\n      <use x=\"104.589844\" xlink:href=\"#DejaVuSans-105\"/>\r\n      <use x=\"132.373047\" xlink:href=\"#DejaVuSans-99\"/>\r\n      <use x=\"187.353516\" xlink:href=\"#DejaVuSans-101\"/>\r\n     </g>\r\n    </g>\r\n   </g>\r\n   <g id=\"line2d_15\">\r\n    <path clip-path=\"url(#p526383f4d3)\" d=\"M 83.371782 108.189096 \r\nL 86.44448 109.263456 \r\nL 89.517177 110.337817 \r\nL 92.589875 111.412177 \r\nL 95.662572 112.486538 \r\nL 98.73527 113.560899 \r\nL 101.807968 114.635259 \r\nL 104.880665 115.70962 \r\nL 107.953363 116.783981 \r\nL 111.02606 117.858341 \r\nL 114.098758 118.932702 \r\nL 117.171455 120.007063 \r\nL 120.244153 121.081423 \r\nL 123.316851 122.155784 \r\nL 126.389548 123.230144 \r\nL 129.462246 124.304505 \r\nL 132.534943 125.378866 \r\nL 135.607641 126.453226 \r\nL 138.680339 127.527587 \r\nL 141.753036 128.601948 \r\nL 144.825734 129.676308 \r\nL 147.898431 130.750669 \r\nL 150.971129 131.82503 \r\nL 154.043826 132.89939 \r\nL 157.116524 133.973751 \r\nL 160.189222 135.048111 \r\nL 163.261919 136.122472 \r\nL 166.334617 137.196833 \r\nL 169.407314 138.271193 \r\nL 172.480012 139.345554 \r\nL 175.55271 140.419915 \r\nL 178.625407 141.494275 \r\nL 181.698105 142.568636 \r\nL 184.770802 143.642997 \r\nL 187.8435 144.717357 \r\nL 190.916198 145.791718 \r\nL 193.988895 146.866078 \r\nL 197.061593 147.940439 \r\nL 200.13429 149.0148 \r\nL 203.206988 150.08916 \r\nL 206.279685 151.163521 \r\nL 209.352383 152.237882 \r\nL 212.425081 153.312242 \r\nL 215.497778 154.386603 \r\nL 218.570476 155.460964 \r\nL 221.643173 156.535324 \r\nL 224.715871 157.609685 \r\nL 227.788569 158.684045 \r\nL 230.861266 159.758406 \r\nL 233.933964 160.832767 \r\nL 237.006661 161.907127 \r\nL 240.079359 162.981488 \r\nL 243.152056 164.055849 \r\nL 246.224754 165.130209 \r\nL 249.297452 166.20457 \r\nL 252.370149 167.278931 \r\nL 255.442847 168.353291 \r\nL 258.515544 169.427652 \r\nL 261.588242 170.502012 \r\nL 264.66094 171.576373 \r\nL 267.733637 172.650734 \r\nL 270.806335 173.725094 \r\nL 273.879032 174.799455 \r\nL 276.95173 175.873816 \r\nL 280.024427 176.948176 \r\nL 283.097125 178.022537 \r\nL 286.169823 179.096898 \r\nL 289.24252 180.171258 \r\nL 292.315218 181.245619 \r\nL 295.387915 182.319979 \r\nL 298.460613 183.39434 \r\nL 301.533311 184.468701 \r\nL 304.606008 185.543061 \r\nL 307.678706 186.617422 \r\nL 310.751403 187.691783 \r\nL 313.824101 188.766143 \r\nL 316.896799 189.840504 \r\nL 319.969496 190.914865 \r\nL 323.042194 191.989225 \r\nL 326.114891 193.063586 \r\nL 329.187589 194.137946 \r\nL 332.260286 195.212307 \r\nL 335.332984 196.286668 \r\nL 338.405682 197.361028 \r\nL 341.478379 198.435389 \r\nL 344.551077 199.50975 \r\nL 347.623774 200.58411 \r\nL 350.696472 201.658471 \r\nL 353.76917 202.732832 \r\nL 356.841867 203.807192 \r\nL 359.914565 204.881553 \r\nL 362.987262 205.955913 \r\nL 366.05996 207.030274 \r\nL 369.132657 208.104635 \r\nL 372.205355 209.178995 \r\nL 375.278053 210.253356 \r\nL 378.35075 211.327717 \r\nL 381.423448 212.402077 \r\nL 384.496145 213.476438 \r\nL 387.568843 214.550799 \r\n\" style=\"fill:none;stroke:#1f77b4;stroke-linecap:square;stroke-width:2.25;\"/>\r\n   </g>\r\n   <g id=\"patch_3\">\r\n    <path d=\"M 68.070312 239.758125 \r\nL 68.070312 22.318125 \r\n\" style=\"fill:none;stroke:#000000;stroke-linecap:square;stroke-linejoin:miter;stroke-width:0.8;\"/>\r\n   </g>\r\n   <g id=\"patch_4\">\r\n    <path d=\"M 402.870313 239.758125 \r\nL 402.870313 22.318125 \r\n\" style=\"fill:none;stroke:#000000;stroke-linecap:square;stroke-linejoin:miter;stroke-width:0.8;\"/>\r\n   </g>\r\n   <g id=\"patch_5\">\r\n    <path d=\"M 68.070312 239.758125 \r\nL 402.870313 239.758125 \r\n\" style=\"fill:none;stroke:#000000;stroke-linecap:square;stroke-linejoin:miter;stroke-width:0.8;\"/>\r\n   </g>\r\n   <g id=\"patch_6\">\r\n    <path d=\"M 68.070312 22.318125 \r\nL 402.870313 22.318125 \r\n\" style=\"fill:none;stroke:#000000;stroke-linecap:square;stroke-linejoin:miter;stroke-width:0.8;\"/>\r\n   </g>\r\n   <g id=\"text_17\">\r\n    <!-- negative linear relationship -->\r\n    <defs>\r\n     <path d=\"M 54.890625 33.015625 \r\nL 54.890625 0 \r\nL 45.90625 0 \r\nL 45.90625 32.71875 \r\nQ 45.90625 40.484375 42.875 44.328125 \r\nQ 39.84375 48.1875 33.796875 48.1875 \r\nQ 26.515625 48.1875 22.3125 43.546875 \r\nQ 18.109375 38.921875 18.109375 30.90625 \r\nL 18.109375 0 \r\nL 9.078125 0 \r\nL 9.078125 54.6875 \r\nL 18.109375 54.6875 \r\nL 18.109375 46.1875 \r\nQ 21.34375 51.125 25.703125 53.5625 \r\nQ 30.078125 56 35.796875 56 \r\nQ 45.21875 56 50.046875 50.171875 \r\nQ 54.890625 44.34375 54.890625 33.015625 \r\nz\r\n\" id=\"DejaVuSans-110\"/>\r\n     <path d=\"M 34.28125 27.484375 \r\nQ 23.390625 27.484375 19.1875 25 \r\nQ 14.984375 22.515625 14.984375 16.5 \r\nQ 14.984375 11.71875 18.140625 8.90625 \r\nQ 21.296875 6.109375 26.703125 6.109375 \r\nQ 34.1875 6.109375 38.703125 11.40625 \r\nQ 43.21875 16.703125 43.21875 25.484375 \r\nL 43.21875 27.484375 \r\nz\r\nM 52.203125 31.203125 \r\nL 52.203125 0 \r\nL 43.21875 0 \r\nL 43.21875 8.296875 \r\nQ 40.140625 3.328125 35.546875 0.953125 \r\nQ 30.953125 -1.421875 24.3125 -1.421875 \r\nQ 15.921875 -1.421875 10.953125 3.296875 \r\nQ 6 8.015625 6 15.921875 \r\nQ 6 25.140625 12.171875 29.828125 \r\nQ 18.359375 34.515625 30.609375 34.515625 \r\nL 43.21875 34.515625 \r\nL 43.21875 35.40625 \r\nQ 43.21875 41.609375 39.140625 45 \r\nQ 35.0625 48.390625 27.6875 48.390625 \r\nQ 23 48.390625 18.546875 47.265625 \r\nQ 14.109375 46.140625 10.015625 43.890625 \r\nL 10.015625 52.203125 \r\nQ 14.9375 54.109375 19.578125 55.046875 \r\nQ 24.21875 56 28.609375 56 \r\nQ 40.484375 56 46.34375 49.84375 \r\nQ 52.203125 43.703125 52.203125 31.203125 \r\nz\r\n\" id=\"DejaVuSans-97\"/>\r\n     <path d=\"M 2.984375 54.6875 \r\nL 12.5 54.6875 \r\nL 29.59375 8.796875 \r\nL 46.6875 54.6875 \r\nL 56.203125 54.6875 \r\nL 35.6875 0 \r\nL 23.484375 0 \r\nz\r\n\" id=\"DejaVuSans-118\"/>\r\n     <path id=\"DejaVuSans-32\"/>\r\n     <path d=\"M 9.421875 75.984375 \r\nL 18.40625 75.984375 \r\nL 18.40625 0 \r\nL 9.421875 0 \r\nz\r\n\" id=\"DejaVuSans-108\"/>\r\n     <path d=\"M 30.609375 48.390625 \r\nQ 23.390625 48.390625 19.1875 42.75 \r\nQ 14.984375 37.109375 14.984375 27.296875 \r\nQ 14.984375 17.484375 19.15625 11.84375 \r\nQ 23.34375 6.203125 30.609375 6.203125 \r\nQ 37.796875 6.203125 41.984375 11.859375 \r\nQ 46.1875 17.53125 46.1875 27.296875 \r\nQ 46.1875 37.015625 41.984375 42.703125 \r\nQ 37.796875 48.390625 30.609375 48.390625 \r\nz\r\nM 30.609375 56 \r\nQ 42.328125 56 49.015625 48.375 \r\nQ 55.71875 40.765625 55.71875 27.296875 \r\nQ 55.71875 13.875 49.015625 6.21875 \r\nQ 42.328125 -1.421875 30.609375 -1.421875 \r\nQ 18.84375 -1.421875 12.171875 6.21875 \r\nQ 5.515625 13.875 5.515625 27.296875 \r\nQ 5.515625 40.765625 12.171875 48.375 \r\nQ 18.84375 56 30.609375 56 \r\nz\r\n\" id=\"DejaVuSans-111\"/>\r\n     <path d=\"M 44.28125 53.078125 \r\nL 44.28125 44.578125 \r\nQ 40.484375 46.53125 36.375 47.5 \r\nQ 32.28125 48.484375 27.875 48.484375 \r\nQ 21.1875 48.484375 17.84375 46.4375 \r\nQ 14.5 44.390625 14.5 40.28125 \r\nQ 14.5 37.15625 16.890625 35.375 \r\nQ 19.28125 33.59375 26.515625 31.984375 \r\nL 29.59375 31.296875 \r\nQ 39.15625 29.25 43.1875 25.515625 \r\nQ 47.21875 21.78125 47.21875 15.09375 \r\nQ 47.21875 7.46875 41.1875 3.015625 \r\nQ 35.15625 -1.421875 24.609375 -1.421875 \r\nQ 20.21875 -1.421875 15.453125 -0.5625 \r\nQ 10.6875 0.296875 5.421875 2 \r\nL 5.421875 11.28125 \r\nQ 10.40625 8.6875 15.234375 7.390625 \r\nQ 20.0625 6.109375 24.8125 6.109375 \r\nQ 31.15625 6.109375 34.5625 8.28125 \r\nQ 37.984375 10.453125 37.984375 14.40625 \r\nQ 37.984375 18.0625 35.515625 20.015625 \r\nQ 33.0625 21.96875 24.703125 23.78125 \r\nL 21.578125 24.515625 \r\nQ 13.234375 26.265625 9.515625 29.90625 \r\nQ 5.8125 33.546875 5.8125 39.890625 \r\nQ 5.8125 47.609375 11.28125 51.796875 \r\nQ 16.75 56 26.8125 56 \r\nQ 31.78125 56 36.171875 55.265625 \r\nQ 40.578125 54.546875 44.28125 53.078125 \r\nz\r\n\" id=\"DejaVuSans-115\"/>\r\n     <path d=\"M 54.890625 33.015625 \r\nL 54.890625 0 \r\nL 45.90625 0 \r\nL 45.90625 32.71875 \r\nQ 45.90625 40.484375 42.875 44.328125 \r\nQ 39.84375 48.1875 33.796875 48.1875 \r\nQ 26.515625 48.1875 22.3125 43.546875 \r\nQ 18.109375 38.921875 18.109375 30.90625 \r\nL 18.109375 0 \r\nL 9.078125 0 \r\nL 9.078125 75.984375 \r\nL 18.109375 75.984375 \r\nL 18.109375 46.1875 \r\nQ 21.34375 51.125 25.703125 53.5625 \r\nQ 30.078125 56 35.796875 56 \r\nQ 45.21875 56 50.046875 50.171875 \r\nQ 54.890625 44.34375 54.890625 33.015625 \r\nz\r\n\" id=\"DejaVuSans-104\"/>\r\n    </defs>\r\n    <g transform=\"translate(153.045313 16.318125)scale(0.12 -0.12)\">\r\n     <use xlink:href=\"#DejaVuSans-110\"/>\r\n     <use x=\"63.378906\" xlink:href=\"#DejaVuSans-101\"/>\r\n     <use x=\"124.902344\" xlink:href=\"#DejaVuSans-103\"/>\r\n     <use x=\"188.378906\" xlink:href=\"#DejaVuSans-97\"/>\r\n     <use x=\"249.658203\" xlink:href=\"#DejaVuSans-116\"/>\r\n     <use x=\"288.867188\" xlink:href=\"#DejaVuSans-105\"/>\r\n     <use x=\"316.650391\" xlink:href=\"#DejaVuSans-118\"/>\r\n     <use x=\"375.830078\" xlink:href=\"#DejaVuSans-101\"/>\r\n     <use x=\"437.353516\" xlink:href=\"#DejaVuSans-32\"/>\r\n     <use x=\"469.140625\" xlink:href=\"#DejaVuSans-108\"/>\r\n     <use x=\"496.923828\" xlink:href=\"#DejaVuSans-105\"/>\r\n     <use x=\"524.707031\" xlink:href=\"#DejaVuSans-110\"/>\r\n     <use x=\"588.085938\" xlink:href=\"#DejaVuSans-101\"/>\r\n     <use x=\"649.609375\" xlink:href=\"#DejaVuSans-97\"/>\r\n     <use x=\"710.888672\" xlink:href=\"#DejaVuSans-114\"/>\r\n     <use x=\"752.001953\" xlink:href=\"#DejaVuSans-32\"/>\r\n     <use x=\"783.789062\" xlink:href=\"#DejaVuSans-114\"/>\r\n     <use x=\"824.871094\" xlink:href=\"#DejaVuSans-101\"/>\r\n     <use x=\"886.394531\" xlink:href=\"#DejaVuSans-108\"/>\r\n     <use x=\"914.177734\" xlink:href=\"#DejaVuSans-97\"/>\r\n     <use x=\"975.457031\" xlink:href=\"#DejaVuSans-116\"/>\r\n     <use x=\"1014.666016\" xlink:href=\"#DejaVuSans-105\"/>\r\n     <use x=\"1042.449219\" xlink:href=\"#DejaVuSans-111\"/>\r\n     <use x=\"1103.630859\" xlink:href=\"#DejaVuSans-110\"/>\r\n     <use x=\"1167.009766\" xlink:href=\"#DejaVuSans-115\"/>\r\n     <use x=\"1219.109375\" xlink:href=\"#DejaVuSans-104\"/>\r\n     <use x=\"1282.488281\" xlink:href=\"#DejaVuSans-105\"/>\r\n     <use x=\"1310.271484\" xlink:href=\"#DejaVuSans-112\"/>\r\n    </g>\r\n   </g>\r\n  </g>\r\n </g>\r\n <defs>\r\n  <clipPath id=\"p526383f4d3\">\r\n   <rect height=\"217.44\" width=\"334.8\" x=\"68.070312\" y=\"22.318125\"/>\r\n  </clipPath>\r\n </defs>\r\n</svg>\r\n",
      "image/png": "[encoded data removed]"
     },
     "metadata": {
      "needs_background": "light"
     }
    }
   ],
   "source": [
    "sns.regplot(x='city-mpg',y='price', data= df,)\n",
    "plt.title(\"negative linear relationship\")\n",
    "plt.show()"
   ]
  },
  {
   "cell_type": "markdown",
   "metadata": {},
   "source": [
    "## categorical data"
   ]
  },
  {
   "cell_type": "code",
   "execution_count": 12,
   "metadata": {},
   "outputs": [
    {
     "output_type": "stream",
     "name": "stdout",
     "text": "<class 'pandas.core.frame.DataFrame'>\nInt64Index: 201 entries, 0 to 204\nData columns (total 26 columns):\n #   Column             Non-Null Count  Dtype  \n---  ------             --------------  -----  \n 0   symboling          201 non-null    int64  \n 1   normalized-losses  201 non-null    int64  \n 2   make               201 non-null    object \n 3   fuel-type          201 non-null    object \n 4   aspiration         201 non-null    object \n 5   num-of-doors       201 non-null    object \n 6   body-style         201 non-null    object \n 7   drive-wheels       201 non-null    object \n 8   engine-location    201 non-null    object \n 9   wheel-base         201 non-null    float64\n 10  length             201 non-null    float64\n 11  width              201 non-null    float64\n 12  height             201 non-null    float64\n 13  curb-weight        201 non-null    int64  \n 14  engine-type        201 non-null    object \n 15  num-of-cylinders   201 non-null    object \n 16  engine-size        201 non-null    int64  \n 17  fuel-system        201 non-null    object \n 18  bore               201 non-null    float64\n 19  stroke             201 non-null    float64\n 20  compression-ratio  201 non-null    float64\n 21  horsepower         201 non-null    int64  \n 22  peak-rpm           201 non-null    int64  \n 23  city-mpg           201 non-null    int64  \n 24  highway-mpg        201 non-null    int64  \n 25  price              201 non-null    int64  \ndtypes: float64(7), int64(9), object(10)\nmemory usage: 42.4+ KB\n"
    }
   ],
   "source": [
    "df.info()"
   ]
  },
  {
   "cell_type": "code",
   "execution_count": 13,
   "metadata": {},
   "outputs": [
    {
     "output_type": "execute_result",
     "data": {
      "text/plain": "<matplotlib.axes._subplots.AxesSubplot at 0x293723a8c48>"
     },
     "metadata": {},
     "execution_count": 13
    },
    {
     "output_type": "display_data",
     "data": {
      "text/plain": "<Figure size 432x288 with 1 Axes>",
      "image/svg+xml": "<?xml version=\"1.0\" encoding=\"utf-8\" standalone=\"no\"?>\r\n<!DOCTYPE svg PUBLIC \"-//W3C//DTD SVG 1.1//EN\"\r\n  \"http://www.w3.org/Graphics/SVG/1.1/DTD/svg11.dtd\">\r\n<!-- Created with matplotlib (https://matplotlib.org/) -->\r\n<svg height=\"262.19625pt\" version=\"1.1\" viewBox=\"0 0 401.690625 262.19625\" width=\"401.690625pt\" xmlns=\"http://www.w3.org/2000/svg\" xmlns:xlink=\"http://www.w3.org/1999/xlink\">\r\n <defs>\r\n  <style type=\"text/css\">\r\n*{stroke-linecap:butt;stroke-linejoin:round;}\r\n  </style>\r\n </defs>\r\n <g id=\"figure_1\">\r\n  <g id=\"patch_1\">\r\n   <path d=\"M 0 262.19625 \r\nL 401.690625 262.19625 \r\nL 401.690625 0 \r\nL 0 0 \r\nz\r\n\" style=\"fill:none;\"/>\r\n  </g>\r\n  <g id=\"axes_1\">\r\n   <g id=\"patch_2\">\r\n    <path d=\"M 59.690625 224.64 \r\nL 394.490625 224.64 \r\nL 394.490625 7.2 \r\nL 59.690625 7.2 \r\nz\r\n\" style=\"fill:#ffffff;\"/>\r\n   </g>\r\n   <g id=\"patch_3\">\r\n    <path clip-path=\"url(#p338c6b2958)\" d=\"M 66.386625 169.962012 \r\nL 119.954625 169.962012 \r\nL 119.954625 89.174412 \r\nL 66.386625 89.174412 \r\nL 66.386625 169.962012 \r\nz\r\n\" style=\"fill:#3274a1;stroke:#3d3d3d;stroke-linejoin:miter;stroke-width:1.5;\"/>\r\n   </g>\r\n   <g id=\"patch_4\">\r\n    <path clip-path=\"url(#p338c6b2958)\" d=\"M 133.346625 207.882572 \r\nL 186.914625 207.882572 \r\nL 186.914625 180.765262 \r\nL 133.346625 180.765262 \r\nL 133.346625 207.882572 \r\nz\r\n\" style=\"fill:#e1812c;stroke:#3d3d3d;stroke-linejoin:miter;stroke-width:1.5;\"/>\r\n   </g>\r\n   <g id=\"patch_5\">\r\n    <path clip-path=\"url(#p338c6b2958)\" d=\"M 200.306625 200.560996 \r\nL 253.874625 200.560996 \r\nL 253.874625 152.081321 \r\nL 200.306625 152.081321 \r\nL 200.306625 200.560996 \r\nz\r\n\" style=\"fill:#3a923a;stroke:#3d3d3d;stroke-linejoin:miter;stroke-width:1.5;\"/>\r\n   </g>\r\n   <g id=\"patch_6\">\r\n    <path clip-path=\"url(#p338c6b2958)\" d=\"M 267.266625 200.549955 \r\nL 320.834625 200.549955 \r\nL 320.834625 162.582777 \r\nL 267.266625 162.582777 \r\nL 267.266625 200.549955 \r\nz\r\n\" style=\"fill:#c03d3e;stroke:#3d3d3d;stroke-linejoin:miter;stroke-width:1.5;\"/>\r\n   </g>\r\n   <g id=\"patch_7\">\r\n    <path clip-path=\"url(#p338c6b2958)\" d=\"M 334.226625 194.03071 \r\nL 387.794625 194.03071 \r\nL 387.794625 78.409193 \r\nL 334.226625 78.409193 \r\nL 334.226625 194.03071 \r\nz\r\n\" style=\"fill:#9372b2;stroke:#3d3d3d;stroke-linejoin:miter;stroke-width:1.5;\"/>\r\n   </g>\r\n   <g id=\"matplotlib.axis_1\">\r\n    <g id=\"xtick_1\">\r\n     <g id=\"line2d_1\">\r\n      <defs>\r\n       <path d=\"M 0 0 \r\nL 0 3.5 \r\n\" id=\"m5d29668644\" style=\"stroke:#000000;stroke-width:0.8;\"/>\r\n      </defs>\r\n      <g>\r\n       <use style=\"stroke:#000000;stroke-width:0.8;\" x=\"93.170625\" xlink:href=\"#m5d29668644\" y=\"224.64\"/>\r\n      </g>\r\n     </g>\r\n     <g id=\"text_1\">\r\n      <!-- convertible -->\r\n      <defs>\r\n       <path d=\"M 48.78125 52.59375 \r\nL 48.78125 44.1875 \r\nQ 44.96875 46.296875 41.140625 47.34375 \r\nQ 37.3125 48.390625 33.40625 48.390625 \r\nQ 24.65625 48.390625 19.8125 42.84375 \r\nQ 14.984375 37.3125 14.984375 27.296875 \r\nQ 14.984375 17.28125 19.8125 11.734375 \r\nQ 24.65625 6.203125 33.40625 6.203125 \r\nQ 37.3125 6.203125 41.140625 7.25 \r\nQ 44.96875 8.296875 48.78125 10.40625 \r\nL 48.78125 2.09375 \r\nQ 45.015625 0.34375 40.984375 -0.53125 \r\nQ 36.96875 -1.421875 32.421875 -1.421875 \r\nQ 20.0625 -1.421875 12.78125 6.34375 \r\nQ 5.515625 14.109375 5.515625 27.296875 \r\nQ 5.515625 40.671875 12.859375 48.328125 \r\nQ 20.21875 56 33.015625 56 \r\nQ 37.15625 56 41.109375 55.140625 \r\nQ 45.0625 54.296875 48.78125 52.59375 \r\nz\r\n\" id=\"DejaVuSans-99\"/>\r\n       <path d=\"M 30.609375 48.390625 \r\nQ 23.390625 48.390625 19.1875 42.75 \r\nQ 14.984375 37.109375 14.984375 27.296875 \r\nQ 14.984375 17.484375 19.15625 11.84375 \r\nQ 23.34375 6.203125 30.609375 6.203125 \r\nQ 37.796875 6.203125 41.984375 11.859375 \r\nQ 46.1875 17.53125 46.1875 27.296875 \r\nQ 46.1875 37.015625 41.984375 42.703125 \r\nQ 37.796875 48.390625 30.609375 48.390625 \r\nz\r\nM 30.609375 56 \r\nQ 42.328125 56 49.015625 48.375 \r\nQ 55.71875 40.765625 55.71875 27.296875 \r\nQ 55.71875 13.875 49.015625 6.21875 \r\nQ 42.328125 -1.421875 30.609375 -1.421875 \r\nQ 18.84375 -1.421875 12.171875 6.21875 \r\nQ 5.515625 13.875 5.515625 27.296875 \r\nQ 5.515625 40.765625 12.171875 48.375 \r\nQ 18.84375 56 30.609375 56 \r\nz\r\n\" id=\"DejaVuSans-111\"/>\r\n       <path d=\"M 54.890625 33.015625 \r\nL 54.890625 0 \r\nL 45.90625 0 \r\nL 45.90625 32.71875 \r\nQ 45.90625 40.484375 42.875 44.328125 \r\nQ 39.84375 48.1875 33.796875 48.1875 \r\nQ 26.515625 48.1875 22.3125 43.546875 \r\nQ 18.109375 38.921875 18.109375 30.90625 \r\nL 18.109375 0 \r\nL 9.078125 0 \r\nL 9.078125 54.6875 \r\nL 18.109375 54.6875 \r\nL 18.109375 46.1875 \r\nQ 21.34375 51.125 25.703125 53.5625 \r\nQ 30.078125 56 35.796875 56 \r\nQ 45.21875 56 50.046875 50.171875 \r\nQ 54.890625 44.34375 54.890625 33.015625 \r\nz\r\n\" id=\"DejaVuSans-110\"/>\r\n       <path d=\"M 2.984375 54.6875 \r\nL 12.5 54.6875 \r\nL 29.59375 8.796875 \r\nL 46.6875 54.6875 \r\nL 56.203125 54.6875 \r\nL 35.6875 0 \r\nL 23.484375 0 \r\nz\r\n\" id=\"DejaVuSans-118\"/>\r\n       <path d=\"M 56.203125 29.59375 \r\nL 56.203125 25.203125 \r\nL 14.890625 25.203125 \r\nQ 15.484375 15.921875 20.484375 11.0625 \r\nQ 25.484375 6.203125 34.421875 6.203125 \r\nQ 39.59375 6.203125 44.453125 7.46875 \r\nQ 49.3125 8.734375 54.109375 11.28125 \r\nL 54.109375 2.78125 \r\nQ 49.265625 0.734375 44.1875 -0.34375 \r\nQ 39.109375 -1.421875 33.890625 -1.421875 \r\nQ 20.796875 -1.421875 13.15625 6.1875 \r\nQ 5.515625 13.8125 5.515625 26.8125 \r\nQ 5.515625 40.234375 12.765625 48.109375 \r\nQ 20.015625 56 32.328125 56 \r\nQ 43.359375 56 49.78125 48.890625 \r\nQ 56.203125 41.796875 56.203125 29.59375 \r\nz\r\nM 47.21875 32.234375 \r\nQ 47.125 39.59375 43.09375 43.984375 \r\nQ 39.0625 48.390625 32.421875 48.390625 \r\nQ 24.90625 48.390625 20.390625 44.140625 \r\nQ 15.875 39.890625 15.1875 32.171875 \r\nz\r\n\" id=\"DejaVuSans-101\"/>\r\n       <path d=\"M 41.109375 46.296875 \r\nQ 39.59375 47.171875 37.8125 47.578125 \r\nQ 36.03125 48 33.890625 48 \r\nQ 26.265625 48 22.1875 43.046875 \r\nQ 18.109375 38.09375 18.109375 28.8125 \r\nL 18.109375 0 \r\nL 9.078125 0 \r\nL 9.078125 54.6875 \r\nL 18.109375 54.6875 \r\nL 18.109375 46.1875 \r\nQ 20.953125 51.171875 25.484375 53.578125 \r\nQ 30.03125 56 36.53125 56 \r\nQ 37.453125 56 38.578125 55.875 \r\nQ 39.703125 55.765625 41.0625 55.515625 \r\nz\r\n\" id=\"DejaVuSans-114\"/>\r\n       <path d=\"M 18.3125 70.21875 \r\nL 18.3125 54.6875 \r\nL 36.8125 54.6875 \r\nL 36.8125 47.703125 \r\nL 18.3125 47.703125 \r\nL 18.3125 18.015625 \r\nQ 18.3125 11.328125 20.140625 9.421875 \r\nQ 21.96875 7.515625 27.59375 7.515625 \r\nL 36.8125 7.515625 \r\nL 36.8125 0 \r\nL 27.59375 0 \r\nQ 17.1875 0 13.234375 3.875 \r\nQ 9.28125 7.765625 9.28125 18.015625 \r\nL 9.28125 47.703125 \r\nL 2.6875 47.703125 \r\nL 2.6875 54.6875 \r\nL 9.28125 54.6875 \r\nL 9.28125 70.21875 \r\nz\r\n\" id=\"DejaVuSans-116\"/>\r\n       <path d=\"M 9.421875 54.6875 \r\nL 18.40625 54.6875 \r\nL 18.40625 0 \r\nL 9.421875 0 \r\nz\r\nM 9.421875 75.984375 \r\nL 18.40625 75.984375 \r\nL 18.40625 64.59375 \r\nL 9.421875 64.59375 \r\nz\r\n\" id=\"DejaVuSans-105\"/>\r\n       <path d=\"M 48.6875 27.296875 \r\nQ 48.6875 37.203125 44.609375 42.84375 \r\nQ 40.53125 48.484375 33.40625 48.484375 \r\nQ 26.265625 48.484375 22.1875 42.84375 \r\nQ 18.109375 37.203125 18.109375 27.296875 \r\nQ 18.109375 17.390625 22.1875 11.75 \r\nQ 26.265625 6.109375 33.40625 6.109375 \r\nQ 40.53125 6.109375 44.609375 11.75 \r\nQ 48.6875 17.390625 48.6875 27.296875 \r\nz\r\nM 18.109375 46.390625 \r\nQ 20.953125 51.265625 25.265625 53.625 \r\nQ 29.59375 56 35.59375 56 \r\nQ 45.5625 56 51.78125 48.09375 \r\nQ 58.015625 40.1875 58.015625 27.296875 \r\nQ 58.015625 14.40625 51.78125 6.484375 \r\nQ 45.5625 -1.421875 35.59375 -1.421875 \r\nQ 29.59375 -1.421875 25.265625 0.953125 \r\nQ 20.953125 3.328125 18.109375 8.203125 \r\nL 18.109375 0 \r\nL 9.078125 0 \r\nL 9.078125 75.984375 \r\nL 18.109375 75.984375 \r\nz\r\n\" id=\"DejaVuSans-98\"/>\r\n       <path d=\"M 9.421875 75.984375 \r\nL 18.40625 75.984375 \r\nL 18.40625 0 \r\nL 9.421875 0 \r\nz\r\n\" id=\"DejaVuSans-108\"/>\r\n      </defs>\r\n      <g transform=\"translate(65.112813 239.238438)scale(0.1 -0.1)\">\r\n       <use xlink:href=\"#DejaVuSans-99\"/>\r\n       <use x=\"54.980469\" xlink:href=\"#DejaVuSans-111\"/>\r\n       <use x=\"116.162109\" xlink:href=\"#DejaVuSans-110\"/>\r\n       <use x=\"179.541016\" xlink:href=\"#DejaVuSans-118\"/>\r\n       <use x=\"238.720703\" xlink:href=\"#DejaVuSans-101\"/>\r\n       <use x=\"300.244141\" xlink:href=\"#DejaVuSans-114\"/>\r\n       <use x=\"341.357422\" xlink:href=\"#DejaVuSans-116\"/>\r\n       <use x=\"380.566406\" xlink:href=\"#DejaVuSans-105\"/>\r\n       <use x=\"408.349609\" xlink:href=\"#DejaVuSans-98\"/>\r\n       <use x=\"471.826172\" xlink:href=\"#DejaVuSans-108\"/>\r\n       <use x=\"499.609375\" xlink:href=\"#DejaVuSans-101\"/>\r\n      </g>\r\n     </g>\r\n    </g>\r\n    <g id=\"xtick_2\">\r\n     <g id=\"line2d_2\">\r\n      <g>\r\n       <use style=\"stroke:#000000;stroke-width:0.8;\" x=\"160.130625\" xlink:href=\"#m5d29668644\" y=\"224.64\"/>\r\n      </g>\r\n     </g>\r\n     <g id=\"text_2\">\r\n      <!-- hatchback -->\r\n      <defs>\r\n       <path d=\"M 54.890625 33.015625 \r\nL 54.890625 0 \r\nL 45.90625 0 \r\nL 45.90625 32.71875 \r\nQ 45.90625 40.484375 42.875 44.328125 \r\nQ 39.84375 48.1875 33.796875 48.1875 \r\nQ 26.515625 48.1875 22.3125 43.546875 \r\nQ 18.109375 38.921875 18.109375 30.90625 \r\nL 18.109375 0 \r\nL 9.078125 0 \r\nL 9.078125 75.984375 \r\nL 18.109375 75.984375 \r\nL 18.109375 46.1875 \r\nQ 21.34375 51.125 25.703125 53.5625 \r\nQ 30.078125 56 35.796875 56 \r\nQ 45.21875 56 50.046875 50.171875 \r\nQ 54.890625 44.34375 54.890625 33.015625 \r\nz\r\n\" id=\"DejaVuSans-104\"/>\r\n       <path d=\"M 34.28125 27.484375 \r\nQ 23.390625 27.484375 19.1875 25 \r\nQ 14.984375 22.515625 14.984375 16.5 \r\nQ 14.984375 11.71875 18.140625 8.90625 \r\nQ 21.296875 6.109375 26.703125 6.109375 \r\nQ 34.1875 6.109375 38.703125 11.40625 \r\nQ 43.21875 16.703125 43.21875 25.484375 \r\nL 43.21875 27.484375 \r\nz\r\nM 52.203125 31.203125 \r\nL 52.203125 0 \r\nL 43.21875 0 \r\nL 43.21875 8.296875 \r\nQ 40.140625 3.328125 35.546875 0.953125 \r\nQ 30.953125 -1.421875 24.3125 -1.421875 \r\nQ 15.921875 -1.421875 10.953125 3.296875 \r\nQ 6 8.015625 6 15.921875 \r\nQ 6 25.140625 12.171875 29.828125 \r\nQ 18.359375 34.515625 30.609375 34.515625 \r\nL 43.21875 34.515625 \r\nL 43.21875 35.40625 \r\nQ 43.21875 41.609375 39.140625 45 \r\nQ 35.0625 48.390625 27.6875 48.390625 \r\nQ 23 48.390625 18.546875 47.265625 \r\nQ 14.109375 46.140625 10.015625 43.890625 \r\nL 10.015625 52.203125 \r\nQ 14.9375 54.109375 19.578125 55.046875 \r\nQ 24.21875 56 28.609375 56 \r\nQ 40.484375 56 46.34375 49.84375 \r\nQ 52.203125 43.703125 52.203125 31.203125 \r\nz\r\n\" id=\"DejaVuSans-97\"/>\r\n       <path d=\"M 9.078125 75.984375 \r\nL 18.109375 75.984375 \r\nL 18.109375 31.109375 \r\nL 44.921875 54.6875 \r\nL 56.390625 54.6875 \r\nL 27.390625 29.109375 \r\nL 57.625 0 \r\nL 45.90625 0 \r\nL 18.109375 26.703125 \r\nL 18.109375 0 \r\nL 9.078125 0 \r\nz\r\n\" id=\"DejaVuSans-107\"/>\r\n      </defs>\r\n      <g transform=\"translate(134.136875 239.238438)scale(0.1 -0.1)\">\r\n       <use xlink:href=\"#DejaVuSans-104\"/>\r\n       <use x=\"63.378906\" xlink:href=\"#DejaVuSans-97\"/>\r\n       <use x=\"124.658203\" xlink:href=\"#DejaVuSans-116\"/>\r\n       <use x=\"163.867188\" xlink:href=\"#DejaVuSans-99\"/>\r\n       <use x=\"218.847656\" xlink:href=\"#DejaVuSans-104\"/>\r\n       <use x=\"282.226562\" xlink:href=\"#DejaVuSans-98\"/>\r\n       <use x=\"345.703125\" xlink:href=\"#DejaVuSans-97\"/>\r\n       <use x=\"406.982422\" xlink:href=\"#DejaVuSans-99\"/>\r\n       <use x=\"461.962891\" xlink:href=\"#DejaVuSans-107\"/>\r\n      </g>\r\n     </g>\r\n    </g>\r\n    <g id=\"xtick_3\">\r\n     <g id=\"line2d_3\">\r\n      <g>\r\n       <use style=\"stroke:#000000;stroke-width:0.8;\" x=\"227.090625\" xlink:href=\"#m5d29668644\" y=\"224.64\"/>\r\n      </g>\r\n     </g>\r\n     <g id=\"text_3\">\r\n      <!-- sedan -->\r\n      <defs>\r\n       <path d=\"M 44.28125 53.078125 \r\nL 44.28125 44.578125 \r\nQ 40.484375 46.53125 36.375 47.5 \r\nQ 32.28125 48.484375 27.875 48.484375 \r\nQ 21.1875 48.484375 17.84375 46.4375 \r\nQ 14.5 44.390625 14.5 40.28125 \r\nQ 14.5 37.15625 16.890625 35.375 \r\nQ 19.28125 33.59375 26.515625 31.984375 \r\nL 29.59375 31.296875 \r\nQ 39.15625 29.25 43.1875 25.515625 \r\nQ 47.21875 21.78125 47.21875 15.09375 \r\nQ 47.21875 7.46875 41.1875 3.015625 \r\nQ 35.15625 -1.421875 24.609375 -1.421875 \r\nQ 20.21875 -1.421875 15.453125 -0.5625 \r\nQ 10.6875 0.296875 5.421875 2 \r\nL 5.421875 11.28125 \r\nQ 10.40625 8.6875 15.234375 7.390625 \r\nQ 20.0625 6.109375 24.8125 6.109375 \r\nQ 31.15625 6.109375 34.5625 8.28125 \r\nQ 37.984375 10.453125 37.984375 14.40625 \r\nQ 37.984375 18.0625 35.515625 20.015625 \r\nQ 33.0625 21.96875 24.703125 23.78125 \r\nL 21.578125 24.515625 \r\nQ 13.234375 26.265625 9.515625 29.90625 \r\nQ 5.8125 33.546875 5.8125 39.890625 \r\nQ 5.8125 47.609375 11.28125 51.796875 \r\nQ 16.75 56 26.8125 56 \r\nQ 31.78125 56 36.171875 55.265625 \r\nQ 40.578125 54.546875 44.28125 53.078125 \r\nz\r\n\" id=\"DejaVuSans-115\"/>\r\n       <path d=\"M 45.40625 46.390625 \r\nL 45.40625 75.984375 \r\nL 54.390625 75.984375 \r\nL 54.390625 0 \r\nL 45.40625 0 \r\nL 45.40625 8.203125 \r\nQ 42.578125 3.328125 38.25 0.953125 \r\nQ 33.9375 -1.421875 27.875 -1.421875 \r\nQ 17.96875 -1.421875 11.734375 6.484375 \r\nQ 5.515625 14.40625 5.515625 27.296875 \r\nQ 5.515625 40.1875 11.734375 48.09375 \r\nQ 17.96875 56 27.875 56 \r\nQ 33.9375 56 38.25 53.625 \r\nQ 42.578125 51.265625 45.40625 46.390625 \r\nz\r\nM 14.796875 27.296875 \r\nQ 14.796875 17.390625 18.875 11.75 \r\nQ 22.953125 6.109375 30.078125 6.109375 \r\nQ 37.203125 6.109375 41.296875 11.75 \r\nQ 45.40625 17.390625 45.40625 27.296875 \r\nQ 45.40625 37.203125 41.296875 42.84375 \r\nQ 37.203125 48.484375 30.078125 48.484375 \r\nQ 22.953125 48.484375 18.875 42.84375 \r\nQ 14.796875 37.203125 14.796875 27.296875 \r\nz\r\n\" id=\"DejaVuSans-100\"/>\r\n      </defs>\r\n      <g transform=\"translate(212.002344 239.238438)scale(0.1 -0.1)\">\r\n       <use xlink:href=\"#DejaVuSans-115\"/>\r\n       <use x=\"52.099609\" xlink:href=\"#DejaVuSans-101\"/>\r\n       <use x=\"113.623047\" xlink:href=\"#DejaVuSans-100\"/>\r\n       <use x=\"177.099609\" xlink:href=\"#DejaVuSans-97\"/>\r\n       <use x=\"238.378906\" xlink:href=\"#DejaVuSans-110\"/>\r\n      </g>\r\n     </g>\r\n    </g>\r\n    <g id=\"xtick_4\">\r\n     <g id=\"line2d_4\">\r\n      <g>\r\n       <use style=\"stroke:#000000;stroke-width:0.8;\" x=\"294.050625\" xlink:href=\"#m5d29668644\" y=\"224.64\"/>\r\n      </g>\r\n     </g>\r\n     <g id=\"text_4\">\r\n      <!-- wagon -->\r\n      <defs>\r\n       <path d=\"M 4.203125 54.6875 \r\nL 13.1875 54.6875 \r\nL 24.421875 12.015625 \r\nL 35.59375 54.6875 \r\nL 46.1875 54.6875 \r\nL 57.421875 12.015625 \r\nL 68.609375 54.6875 \r\nL 77.59375 54.6875 \r\nL 63.28125 0 \r\nL 52.6875 0 \r\nL 40.921875 44.828125 \r\nL 29.109375 0 \r\nL 18.5 0 \r\nz\r\n\" id=\"DejaVuSans-119\"/>\r\n       <path d=\"M 45.40625 27.984375 \r\nQ 45.40625 37.75 41.375 43.109375 \r\nQ 37.359375 48.484375 30.078125 48.484375 \r\nQ 22.859375 48.484375 18.828125 43.109375 \r\nQ 14.796875 37.75 14.796875 27.984375 \r\nQ 14.796875 18.265625 18.828125 12.890625 \r\nQ 22.859375 7.515625 30.078125 7.515625 \r\nQ 37.359375 7.515625 41.375 12.890625 \r\nQ 45.40625 18.265625 45.40625 27.984375 \r\nz\r\nM 54.390625 6.78125 \r\nQ 54.390625 -7.171875 48.1875 -13.984375 \r\nQ 42 -20.796875 29.203125 -20.796875 \r\nQ 24.46875 -20.796875 20.265625 -20.09375 \r\nQ 16.0625 -19.390625 12.109375 -17.921875 \r\nL 12.109375 -9.1875 \r\nQ 16.0625 -11.328125 19.921875 -12.34375 \r\nQ 23.78125 -13.375 27.78125 -13.375 \r\nQ 36.625 -13.375 41.015625 -8.765625 \r\nQ 45.40625 -4.15625 45.40625 5.171875 \r\nL 45.40625 9.625 \r\nQ 42.625 4.78125 38.28125 2.390625 \r\nQ 33.9375 0 27.875 0 \r\nQ 17.828125 0 11.671875 7.65625 \r\nQ 5.515625 15.328125 5.515625 27.984375 \r\nQ 5.515625 40.671875 11.671875 48.328125 \r\nQ 17.828125 56 27.875 56 \r\nQ 33.9375 56 38.28125 53.609375 \r\nQ 42.625 51.21875 45.40625 46.390625 \r\nL 45.40625 54.6875 \r\nL 54.390625 54.6875 \r\nz\r\n\" id=\"DejaVuSans-103\"/>\r\n      </defs>\r\n      <g transform=\"translate(277.495156 239.238438)scale(0.1 -0.1)\">\r\n       <use xlink:href=\"#DejaVuSans-119\"/>\r\n       <use x=\"81.787109\" xlink:href=\"#DejaVuSans-97\"/>\r\n       <use x=\"143.066406\" xlink:href=\"#DejaVuSans-103\"/>\r\n       <use x=\"206.542969\" xlink:href=\"#DejaVuSans-111\"/>\r\n       <use x=\"267.724609\" xlink:href=\"#DejaVuSans-110\"/>\r\n      </g>\r\n     </g>\r\n    </g>\r\n    <g id=\"xtick_5\">\r\n     <g id=\"line2d_5\">\r\n      <g>\r\n       <use style=\"stroke:#000000;stroke-width:0.8;\" x=\"361.010625\" xlink:href=\"#m5d29668644\" y=\"224.64\"/>\r\n      </g>\r\n     </g>\r\n     <g id=\"text_5\">\r\n      <!-- hardtop -->\r\n      <defs>\r\n       <path d=\"M 18.109375 8.203125 \r\nL 18.109375 -20.796875 \r\nL 9.078125 -20.796875 \r\nL 9.078125 54.6875 \r\nL 18.109375 54.6875 \r\nL 18.109375 46.390625 \r\nQ 20.953125 51.265625 25.265625 53.625 \r\nQ 29.59375 56 35.59375 56 \r\nQ 45.5625 56 51.78125 48.09375 \r\nQ 58.015625 40.1875 58.015625 27.296875 \r\nQ 58.015625 14.40625 51.78125 6.484375 \r\nQ 45.5625 -1.421875 35.59375 -1.421875 \r\nQ 29.59375 -1.421875 25.265625 0.953125 \r\nQ 20.953125 3.328125 18.109375 8.203125 \r\nz\r\nM 48.6875 27.296875 \r\nQ 48.6875 37.203125 44.609375 42.84375 \r\nQ 40.53125 48.484375 33.40625 48.484375 \r\nQ 26.265625 48.484375 22.1875 42.84375 \r\nQ 18.109375 37.203125 18.109375 27.296875 \r\nQ 18.109375 17.390625 22.1875 11.75 \r\nQ 26.265625 6.109375 33.40625 6.109375 \r\nQ 40.53125 6.109375 44.609375 11.75 \r\nQ 48.6875 17.390625 48.6875 27.296875 \r\nz\r\n\" id=\"DejaVuSans-112\"/>\r\n      </defs>\r\n      <g transform=\"translate(341.355156 239.238438)scale(0.1 -0.1)\">\r\n       <use xlink:href=\"#DejaVuSans-104\"/>\r\n       <use x=\"63.378906\" xlink:href=\"#DejaVuSans-97\"/>\r\n       <use x=\"124.658203\" xlink:href=\"#DejaVuSans-114\"/>\r\n       <use x=\"165.755859\" xlink:href=\"#DejaVuSans-100\"/>\r\n       <use x=\"229.232422\" xlink:href=\"#DejaVuSans-116\"/>\r\n       <use x=\"268.441406\" xlink:href=\"#DejaVuSans-111\"/>\r\n       <use x=\"329.623047\" xlink:href=\"#DejaVuSans-112\"/>\r\n      </g>\r\n     </g>\r\n    </g>\r\n    <g id=\"text_6\">\r\n     <!-- body-style -->\r\n     <defs>\r\n      <path d=\"M 32.171875 -5.078125 \r\nQ 28.375 -14.84375 24.75 -17.8125 \r\nQ 21.140625 -20.796875 15.09375 -20.796875 \r\nL 7.90625 -20.796875 \r\nL 7.90625 -13.28125 \r\nL 13.1875 -13.28125 \r\nQ 16.890625 -13.28125 18.9375 -11.515625 \r\nQ 21 -9.765625 23.484375 -3.21875 \r\nL 25.09375 0.875 \r\nL 2.984375 54.6875 \r\nL 12.5 54.6875 \r\nL 29.59375 11.921875 \r\nL 46.6875 54.6875 \r\nL 56.203125 54.6875 \r\nz\r\n\" id=\"DejaVuSans-121\"/>\r\n      <path d=\"M 4.890625 31.390625 \r\nL 31.203125 31.390625 \r\nL 31.203125 23.390625 \r\nL 4.890625 23.390625 \r\nz\r\n\" id=\"DejaVuSans-45\"/>\r\n     </defs>\r\n     <g transform=\"translate(200.930469 252.916563)scale(0.1 -0.1)\">\r\n      <use xlink:href=\"#DejaVuSans-98\"/>\r\n      <use x=\"63.476562\" xlink:href=\"#DejaVuSans-111\"/>\r\n      <use x=\"124.658203\" xlink:href=\"#DejaVuSans-100\"/>\r\n      <use x=\"188.134766\" xlink:href=\"#DejaVuSans-121\"/>\r\n      <use x=\"247.298828\" xlink:href=\"#DejaVuSans-45\"/>\r\n      <use x=\"283.382812\" xlink:href=\"#DejaVuSans-115\"/>\r\n      <use x=\"335.482422\" xlink:href=\"#DejaVuSans-116\"/>\r\n      <use x=\"374.691406\" xlink:href=\"#DejaVuSans-121\"/>\r\n      <use x=\"433.871094\" xlink:href=\"#DejaVuSans-108\"/>\r\n      <use x=\"461.654297\" xlink:href=\"#DejaVuSans-101\"/>\r\n     </g>\r\n    </g>\r\n   </g>\r\n   <g id=\"matplotlib.axis_2\">\r\n    <g id=\"ytick_1\">\r\n     <g id=\"line2d_6\">\r\n      <defs>\r\n       <path d=\"M 0 0 \r\nL -3.5 0 \r\n\" id=\"mc4c6508db7\" style=\"stroke:#000000;stroke-width:0.8;\"/>\r\n      </defs>\r\n      <g>\r\n       <use style=\"stroke:#000000;stroke-width:0.8;\" x=\"59.690625\" xlink:href=\"#mc4c6508db7\" y=\"215.335416\"/>\r\n      </g>\r\n     </g>\r\n     <g id=\"text_7\">\r\n      <!-- 5000 -->\r\n      <defs>\r\n       <path d=\"M 10.796875 72.90625 \r\nL 49.515625 72.90625 \r\nL 49.515625 64.59375 \r\nL 19.828125 64.59375 \r\nL 19.828125 46.734375 \r\nQ 21.96875 47.46875 24.109375 47.828125 \r\nQ 26.265625 48.1875 28.421875 48.1875 \r\nQ 40.625 48.1875 47.75 41.5 \r\nQ 54.890625 34.8125 54.890625 23.390625 \r\nQ 54.890625 11.625 47.5625 5.09375 \r\nQ 40.234375 -1.421875 26.90625 -1.421875 \r\nQ 22.3125 -1.421875 17.546875 -0.640625 \r\nQ 12.796875 0.140625 7.71875 1.703125 \r\nL 7.71875 11.625 \r\nQ 12.109375 9.234375 16.796875 8.0625 \r\nQ 21.484375 6.890625 26.703125 6.890625 \r\nQ 35.15625 6.890625 40.078125 11.328125 \r\nQ 45.015625 15.765625 45.015625 23.390625 \r\nQ 45.015625 31 40.078125 35.4375 \r\nQ 35.15625 39.890625 26.703125 39.890625 \r\nQ 22.75 39.890625 18.8125 39.015625 \r\nQ 14.890625 38.140625 10.796875 36.28125 \r\nz\r\n\" id=\"DejaVuSans-53\"/>\r\n       <path d=\"M 31.78125 66.40625 \r\nQ 24.171875 66.40625 20.328125 58.90625 \r\nQ 16.5 51.421875 16.5 36.375 \r\nQ 16.5 21.390625 20.328125 13.890625 \r\nQ 24.171875 6.390625 31.78125 6.390625 \r\nQ 39.453125 6.390625 43.28125 13.890625 \r\nQ 47.125 21.390625 47.125 36.375 \r\nQ 47.125 51.421875 43.28125 58.90625 \r\nQ 39.453125 66.40625 31.78125 66.40625 \r\nz\r\nM 31.78125 74.21875 \r\nQ 44.046875 74.21875 50.515625 64.515625 \r\nQ 56.984375 54.828125 56.984375 36.375 \r\nQ 56.984375 17.96875 50.515625 8.265625 \r\nQ 44.046875 -1.421875 31.78125 -1.421875 \r\nQ 19.53125 -1.421875 13.0625 8.265625 \r\nQ 6.59375 17.96875 6.59375 36.375 \r\nQ 6.59375 54.828125 13.0625 64.515625 \r\nQ 19.53125 74.21875 31.78125 74.21875 \r\nz\r\n\" id=\"DejaVuSans-48\"/>\r\n      </defs>\r\n      <g transform=\"translate(27.240625 219.134635)scale(0.1 -0.1)\">\r\n       <use xlink:href=\"#DejaVuSans-53\"/>\r\n       <use x=\"63.623047\" xlink:href=\"#DejaVuSans-48\"/>\r\n       <use x=\"127.246094\" xlink:href=\"#DejaVuSans-48\"/>\r\n       <use x=\"190.869141\" xlink:href=\"#DejaVuSans-48\"/>\r\n      </g>\r\n     </g>\r\n    </g>\r\n    <g id=\"ytick_2\">\r\n     <g id=\"line2d_7\">\r\n      <g>\r\n       <use style=\"stroke:#000000;stroke-width:0.8;\" x=\"59.690625\" xlink:href=\"#mc4c6508db7\" y=\"190.799305\"/>\r\n      </g>\r\n     </g>\r\n     <g id=\"text_8\">\r\n      <!-- 10000 -->\r\n      <defs>\r\n       <path d=\"M 12.40625 8.296875 \r\nL 28.515625 8.296875 \r\nL 28.515625 63.921875 \r\nL 10.984375 60.40625 \r\nL 10.984375 69.390625 \r\nL 28.421875 72.90625 \r\nL 38.28125 72.90625 \r\nL 38.28125 8.296875 \r\nL 54.390625 8.296875 \r\nL 54.390625 0 \r\nL 12.40625 0 \r\nz\r\n\" id=\"DejaVuSans-49\"/>\r\n      </defs>\r\n      <g transform=\"translate(20.878125 194.598523)scale(0.1 -0.1)\">\r\n       <use xlink:href=\"#DejaVuSans-49\"/>\r\n       <use x=\"63.623047\" xlink:href=\"#DejaVuSans-48\"/>\r\n       <use x=\"127.246094\" xlink:href=\"#DejaVuSans-48\"/>\r\n       <use x=\"190.869141\" xlink:href=\"#DejaVuSans-48\"/>\r\n       <use x=\"254.492188\" xlink:href=\"#DejaVuSans-48\"/>\r\n      </g>\r\n     </g>\r\n    </g>\r\n    <g id=\"ytick_3\">\r\n     <g id=\"line2d_8\">\r\n      <g>\r\n       <use style=\"stroke:#000000;stroke-width:0.8;\" x=\"59.690625\" xlink:href=\"#mc4c6508db7\" y=\"166.263193\"/>\r\n      </g>\r\n     </g>\r\n     <g id=\"text_9\">\r\n      <!-- 15000 -->\r\n      <g transform=\"translate(20.878125 170.062412)scale(0.1 -0.1)\">\r\n       <use xlink:href=\"#DejaVuSans-49\"/>\r\n       <use x=\"63.623047\" xlink:href=\"#DejaVuSans-53\"/>\r\n       <use x=\"127.246094\" xlink:href=\"#DejaVuSans-48\"/>\r\n       <use x=\"190.869141\" xlink:href=\"#DejaVuSans-48\"/>\r\n       <use x=\"254.492188\" xlink:href=\"#DejaVuSans-48\"/>\r\n      </g>\r\n     </g>\r\n    </g>\r\n    <g id=\"ytick_4\">\r\n     <g id=\"line2d_9\">\r\n      <g>\r\n       <use style=\"stroke:#000000;stroke-width:0.8;\" x=\"59.690625\" xlink:href=\"#mc4c6508db7\" y=\"141.727082\"/>\r\n      </g>\r\n     </g>\r\n     <g id=\"text_10\">\r\n      <!-- 20000 -->\r\n      <defs>\r\n       <path d=\"M 19.1875 8.296875 \r\nL 53.609375 8.296875 \r\nL 53.609375 0 \r\nL 7.328125 0 \r\nL 7.328125 8.296875 \r\nQ 12.9375 14.109375 22.625 23.890625 \r\nQ 32.328125 33.6875 34.8125 36.53125 \r\nQ 39.546875 41.84375 41.421875 45.53125 \r\nQ 43.3125 49.21875 43.3125 52.78125 \r\nQ 43.3125 58.59375 39.234375 62.25 \r\nQ 35.15625 65.921875 28.609375 65.921875 \r\nQ 23.96875 65.921875 18.8125 64.3125 \r\nQ 13.671875 62.703125 7.8125 59.421875 \r\nL 7.8125 69.390625 \r\nQ 13.765625 71.78125 18.9375 73 \r\nQ 24.125 74.21875 28.421875 74.21875 \r\nQ 39.75 74.21875 46.484375 68.546875 \r\nQ 53.21875 62.890625 53.21875 53.421875 \r\nQ 53.21875 48.921875 51.53125 44.890625 \r\nQ 49.859375 40.875 45.40625 35.40625 \r\nQ 44.1875 33.984375 37.640625 27.21875 \r\nQ 31.109375 20.453125 19.1875 8.296875 \r\nz\r\n\" id=\"DejaVuSans-50\"/>\r\n      </defs>\r\n      <g transform=\"translate(20.878125 145.526301)scale(0.1 -0.1)\">\r\n       <use xlink:href=\"#DejaVuSans-50\"/>\r\n       <use x=\"63.623047\" xlink:href=\"#DejaVuSans-48\"/>\r\n       <use x=\"127.246094\" xlink:href=\"#DejaVuSans-48\"/>\r\n       <use x=\"190.869141\" xlink:href=\"#DejaVuSans-48\"/>\r\n       <use x=\"254.492188\" xlink:href=\"#DejaVuSans-48\"/>\r\n      </g>\r\n     </g>\r\n    </g>\r\n    <g id=\"ytick_5\">\r\n     <g id=\"line2d_10\">\r\n      <g>\r\n       <use style=\"stroke:#000000;stroke-width:0.8;\" x=\"59.690625\" xlink:href=\"#mc4c6508db7\" y=\"117.190971\"/>\r\n      </g>\r\n     </g>\r\n     <g id=\"text_11\">\r\n      <!-- 25000 -->\r\n      <g transform=\"translate(20.878125 120.990189)scale(0.1 -0.1)\">\r\n       <use xlink:href=\"#DejaVuSans-50\"/>\r\n       <use x=\"63.623047\" xlink:href=\"#DejaVuSans-53\"/>\r\n       <use x=\"127.246094\" xlink:href=\"#DejaVuSans-48\"/>\r\n       <use x=\"190.869141\" xlink:href=\"#DejaVuSans-48\"/>\r\n       <use x=\"254.492188\" xlink:href=\"#DejaVuSans-48\"/>\r\n      </g>\r\n     </g>\r\n    </g>\r\n    <g id=\"ytick_6\">\r\n     <g id=\"line2d_11\">\r\n      <g>\r\n       <use style=\"stroke:#000000;stroke-width:0.8;\" x=\"59.690625\" xlink:href=\"#mc4c6508db7\" y=\"92.654859\"/>\r\n      </g>\r\n     </g>\r\n     <g id=\"text_12\">\r\n      <!-- 30000 -->\r\n      <defs>\r\n       <path d=\"M 40.578125 39.3125 \r\nQ 47.65625 37.796875 51.625 33 \r\nQ 55.609375 28.21875 55.609375 21.1875 \r\nQ 55.609375 10.40625 48.1875 4.484375 \r\nQ 40.765625 -1.421875 27.09375 -1.421875 \r\nQ 22.515625 -1.421875 17.65625 -0.515625 \r\nQ 12.796875 0.390625 7.625 2.203125 \r\nL 7.625 11.71875 \r\nQ 11.71875 9.328125 16.59375 8.109375 \r\nQ 21.484375 6.890625 26.8125 6.890625 \r\nQ 36.078125 6.890625 40.9375 10.546875 \r\nQ 45.796875 14.203125 45.796875 21.1875 \r\nQ 45.796875 27.640625 41.28125 31.265625 \r\nQ 36.765625 34.90625 28.71875 34.90625 \r\nL 20.21875 34.90625 \r\nL 20.21875 43.015625 \r\nL 29.109375 43.015625 \r\nQ 36.375 43.015625 40.234375 45.921875 \r\nQ 44.09375 48.828125 44.09375 54.296875 \r\nQ 44.09375 59.90625 40.109375 62.90625 \r\nQ 36.140625 65.921875 28.71875 65.921875 \r\nQ 24.65625 65.921875 20.015625 65.03125 \r\nQ 15.375 64.15625 9.8125 62.3125 \r\nL 9.8125 71.09375 \r\nQ 15.4375 72.65625 20.34375 73.4375 \r\nQ 25.25 74.21875 29.59375 74.21875 \r\nQ 40.828125 74.21875 47.359375 69.109375 \r\nQ 53.90625 64.015625 53.90625 55.328125 \r\nQ 53.90625 49.265625 50.4375 45.09375 \r\nQ 46.96875 40.921875 40.578125 39.3125 \r\nz\r\n\" id=\"DejaVuSans-51\"/>\r\n      </defs>\r\n      <g transform=\"translate(20.878125 96.454078)scale(0.1 -0.1)\">\r\n       <use xlink:href=\"#DejaVuSans-51\"/>\r\n       <use x=\"63.623047\" xlink:href=\"#DejaVuSans-48\"/>\r\n       <use x=\"127.246094\" xlink:href=\"#DejaVuSans-48\"/>\r\n       <use x=\"190.869141\" xlink:href=\"#DejaVuSans-48\"/>\r\n       <use x=\"254.492188\" xlink:href=\"#DejaVuSans-48\"/>\r\n      </g>\r\n     </g>\r\n    </g>\r\n    <g id=\"ytick_7\">\r\n     <g id=\"line2d_12\">\r\n      <g>\r\n       <use style=\"stroke:#000000;stroke-width:0.8;\" x=\"59.690625\" xlink:href=\"#mc4c6508db7\" y=\"68.118748\"/>\r\n      </g>\r\n     </g>\r\n     <g id=\"text_13\">\r\n      <!-- 35000 -->\r\n      <g transform=\"translate(20.878125 71.917967)scale(0.1 -0.1)\">\r\n       <use xlink:href=\"#DejaVuSans-51\"/>\r\n       <use x=\"63.623047\" xlink:href=\"#DejaVuSans-53\"/>\r\n       <use x=\"127.246094\" xlink:href=\"#DejaVuSans-48\"/>\r\n       <use x=\"190.869141\" xlink:href=\"#DejaVuSans-48\"/>\r\n       <use x=\"254.492188\" xlink:href=\"#DejaVuSans-48\"/>\r\n      </g>\r\n     </g>\r\n    </g>\r\n    <g id=\"ytick_8\">\r\n     <g id=\"line2d_13\">\r\n      <g>\r\n       <use style=\"stroke:#000000;stroke-width:0.8;\" x=\"59.690625\" xlink:href=\"#mc4c6508db7\" y=\"43.582637\"/>\r\n      </g>\r\n     </g>\r\n     <g id=\"text_14\">\r\n      <!-- 40000 -->\r\n      <defs>\r\n       <path d=\"M 37.796875 64.3125 \r\nL 12.890625 25.390625 \r\nL 37.796875 25.390625 \r\nz\r\nM 35.203125 72.90625 \r\nL 47.609375 72.90625 \r\nL 47.609375 25.390625 \r\nL 58.015625 25.390625 \r\nL 58.015625 17.1875 \r\nL 47.609375 17.1875 \r\nL 47.609375 0 \r\nL 37.796875 0 \r\nL 37.796875 17.1875 \r\nL 4.890625 17.1875 \r\nL 4.890625 26.703125 \r\nz\r\n\" id=\"DejaVuSans-52\"/>\r\n      </defs>\r\n      <g transform=\"translate(20.878125 47.381855)scale(0.1 -0.1)\">\r\n       <use xlink:href=\"#DejaVuSans-52\"/>\r\n       <use x=\"63.623047\" xlink:href=\"#DejaVuSans-48\"/>\r\n       <use x=\"127.246094\" xlink:href=\"#DejaVuSans-48\"/>\r\n       <use x=\"190.869141\" xlink:href=\"#DejaVuSans-48\"/>\r\n       <use x=\"254.492188\" xlink:href=\"#DejaVuSans-48\"/>\r\n      </g>\r\n     </g>\r\n    </g>\r\n    <g id=\"ytick_9\">\r\n     <g id=\"line2d_14\">\r\n      <g>\r\n       <use style=\"stroke:#000000;stroke-width:0.8;\" x=\"59.690625\" xlink:href=\"#mc4c6508db7\" y=\"19.046525\"/>\r\n      </g>\r\n     </g>\r\n     <g id=\"text_15\">\r\n      <!-- 45000 -->\r\n      <g transform=\"translate(20.878125 22.845744)scale(0.1 -0.1)\">\r\n       <use xlink:href=\"#DejaVuSans-52\"/>\r\n       <use x=\"63.623047\" xlink:href=\"#DejaVuSans-53\"/>\r\n       <use x=\"127.246094\" xlink:href=\"#DejaVuSans-48\"/>\r\n       <use x=\"190.869141\" xlink:href=\"#DejaVuSans-48\"/>\r\n       <use x=\"254.492188\" xlink:href=\"#DejaVuSans-48\"/>\r\n      </g>\r\n     </g>\r\n    </g>\r\n    <g id=\"text_16\">\r\n     <!-- price -->\r\n     <g transform=\"translate(14.798438 128.364531)rotate(-90)scale(0.1 -0.1)\">\r\n      <use xlink:href=\"#DejaVuSans-112\"/>\r\n      <use x=\"63.476562\" xlink:href=\"#DejaVuSans-114\"/>\r\n      <use x=\"104.589844\" xlink:href=\"#DejaVuSans-105\"/>\r\n      <use x=\"132.373047\" xlink:href=\"#DejaVuSans-99\"/>\r\n      <use x=\"187.353516\" xlink:href=\"#DejaVuSans-101\"/>\r\n     </g>\r\n    </g>\r\n   </g>\r\n   <g id=\"line2d_15\">\r\n    <path clip-path=\"url(#p338c6b2958)\" d=\"M 93.170625 169.962012 \r\nL 93.170625 182.972285 \r\n\" style=\"fill:none;stroke:#3d3d3d;stroke-linecap:square;stroke-width:1.5;\"/>\r\n   </g>\r\n   <g id=\"line2d_16\">\r\n    <path clip-path=\"url(#p338c6b2958)\" d=\"M 93.170625 89.174412 \r\nL 93.170625 58.166901 \r\n\" style=\"fill:none;stroke:#3d3d3d;stroke-linecap:square;stroke-width:1.5;\"/>\r\n   </g>\r\n   <g id=\"line2d_17\">\r\n    <path clip-path=\"url(#p338c6b2958)\" d=\"M 79.778625 182.972285 \r\nL 106.562625 182.972285 \r\n\" style=\"fill:none;stroke:#3d3d3d;stroke-linecap:square;stroke-width:1.5;\"/>\r\n   </g>\r\n   <g id=\"line2d_18\">\r\n    <path clip-path=\"url(#p338c6b2958)\" d=\"M 79.778625 58.166901 \r\nL 106.562625 58.166901 \r\n\" style=\"fill:none;stroke:#3d3d3d;stroke-linecap:square;stroke-width:1.5;\"/>\r\n   </g>\r\n   <g id=\"line2d_19\"/>\r\n   <g id=\"line2d_20\">\r\n    <path clip-path=\"url(#p338c6b2958)\" d=\"M 160.130625 207.882572 \r\nL 160.130625 214.756364 \r\n\" style=\"fill:none;stroke:#3d3d3d;stroke-linecap:square;stroke-width:1.5;\"/>\r\n   </g>\r\n   <g id=\"line2d_21\">\r\n    <path clip-path=\"url(#p338c6b2958)\" d=\"M 160.130625 180.765262 \r\nL 160.130625 143.204156 \r\n\" style=\"fill:none;stroke:#3d3d3d;stroke-linecap:square;stroke-width:1.5;\"/>\r\n   </g>\r\n   <g id=\"line2d_22\">\r\n    <path clip-path=\"url(#p338c6b2958)\" d=\"M 146.738625 214.756364 \r\nL 173.522625 214.756364 \r\n\" style=\"fill:none;stroke:#3d3d3d;stroke-linecap:square;stroke-width:1.5;\"/>\r\n   </g>\r\n   <g id=\"line2d_23\">\r\n    <path clip-path=\"url(#p338c6b2958)\" d=\"M 146.738625 143.204156 \r\nL 173.522625 143.204156 \r\n\" style=\"fill:none;stroke:#3d3d3d;stroke-linecap:square;stroke-width:1.5;\"/>\r\n   </g>\r\n   <g id=\"line2d_24\">\r\n    <defs>\r\n     <path d=\"M 0 3.535534 \r\nL 2.12132 0 \r\nL 0 -3.535534 \r\nL -2.12132 0 \r\nz\r\n\" id=\"mf614b84926\" style=\"stroke:#3d3d3d;stroke-linejoin:miter;\"/>\r\n    </defs>\r\n    <g clip-path=\"url(#p338c6b2958)\">\r\n     <use style=\"fill:#3d3d3d;stroke:#3d3d3d;stroke-linejoin:miter;\" x=\"160.130625\" xlink:href=\"#mf614b84926\" y=\"131.824307\"/>\r\n    </g>\r\n   </g>\r\n   <g id=\"line2d_25\">\r\n    <path clip-path=\"url(#p338c6b2958)\" d=\"M 227.090625 200.560996 \r\nL 227.090625 212.886712 \r\n\" style=\"fill:none;stroke:#3d3d3d;stroke-linecap:square;stroke-width:1.5;\"/>\r\n   </g>\r\n   <g id=\"line2d_26\">\r\n    <path clip-path=\"url(#p338c6b2958)\" d=\"M 227.090625 152.081321 \r\nL 227.090625 81.613609 \r\n\" style=\"fill:none;stroke:#3d3d3d;stroke-linecap:square;stroke-width:1.5;\"/>\r\n   </g>\r\n   <g id=\"line2d_27\">\r\n    <path clip-path=\"url(#p338c6b2958)\" d=\"M 213.698625 212.886712 \r\nL 240.482625 212.886712 \r\n\" style=\"fill:none;stroke:#3d3d3d;stroke-linecap:square;stroke-width:1.5;\"/>\r\n   </g>\r\n   <g id=\"line2d_28\">\r\n    <path clip-path=\"url(#p338c6b2958)\" d=\"M 213.698625 81.613609 \r\nL 240.482625 81.613609 \r\n\" style=\"fill:none;stroke:#3d3d3d;stroke-linecap:square;stroke-width:1.5;\"/>\r\n   </g>\r\n   <g id=\"line2d_29\">\r\n    <g clip-path=\"url(#p338c6b2958)\">\r\n     <use style=\"fill:#3d3d3d;stroke:#3d3d3d;stroke-linejoin:miter;\" x=\"227.090625\" xlink:href=\"#mf614b84926\" y=\"37.129639\"/>\r\n     <use style=\"fill:#3d3d3d;stroke:#3d3d3d;stroke-linejoin:miter;\" x=\"227.090625\" xlink:href=\"#mf614b84926\" y=\"58.89317\"/>\r\n     <use style=\"fill:#3d3d3d;stroke:#3d3d3d;stroke-linejoin:miter;\" x=\"227.090625\" xlink:href=\"#mf614b84926\" y=\"65.419776\"/>\r\n     <use style=\"fill:#3d3d3d;stroke:#3d3d3d;stroke-linejoin:miter;\" x=\"227.090625\" xlink:href=\"#mf614b84926\" y=\"63.211526\"/>\r\n     <use style=\"fill:#3d3d3d;stroke:#3d3d3d;stroke-linejoin:miter;\" x=\"227.090625\" xlink:href=\"#mf614b84926\" y=\"72.123041\"/>\r\n     <use style=\"fill:#3d3d3d;stroke:#3d3d3d;stroke-linejoin:miter;\" x=\"227.090625\" xlink:href=\"#mf614b84926\" y=\"38.871703\"/>\r\n    </g>\r\n   </g>\r\n   <g id=\"line2d_30\">\r\n    <path clip-path=\"url(#p338c6b2958)\" d=\"M 294.050625 200.549955 \r\nL 294.050625 205.923364 \r\n\" style=\"fill:none;stroke:#3d3d3d;stroke-linecap:square;stroke-width:1.5;\"/>\r\n   </g>\r\n   <g id=\"line2d_31\">\r\n    <path clip-path=\"url(#p338c6b2958)\" d=\"M 294.050625 162.582777 \r\nL 294.050625 146.879665 \r\n\" style=\"fill:none;stroke:#3d3d3d;stroke-linecap:square;stroke-width:1.5;\"/>\r\n   </g>\r\n   <g id=\"line2d_32\">\r\n    <path clip-path=\"url(#p338c6b2958)\" d=\"M 280.658625 205.923364 \r\nL 307.442625 205.923364 \r\n\" style=\"fill:none;stroke:#3d3d3d;stroke-linecap:square;stroke-width:1.5;\"/>\r\n   </g>\r\n   <g id=\"line2d_33\">\r\n    <path clip-path=\"url(#p338c6b2958)\" d=\"M 280.658625 146.879665 \r\nL 307.442625 146.879665 \r\n\" style=\"fill:none;stroke:#3d3d3d;stroke-linecap:square;stroke-width:1.5;\"/>\r\n   </g>\r\n   <g id=\"line2d_34\">\r\n    <g clip-path=\"url(#p338c6b2958)\">\r\n     <use style=\"fill:#3d3d3d;stroke:#3d3d3d;stroke-linejoin:miter;\" x=\"294.050625\" xlink:href=\"#mf614b84926\" y=\"101.252313\"/>\r\n    </g>\r\n   </g>\r\n   <g id=\"line2d_35\">\r\n    <path clip-path=\"url(#p338c6b2958)\" d=\"M 361.010625 194.03071 \r\nL 361.010625 199.391851 \r\n\" style=\"fill:none;stroke:#3d3d3d;stroke-linecap:square;stroke-width:1.5;\"/>\r\n   </g>\r\n   <g id=\"line2d_36\">\r\n    <path clip-path=\"url(#p338c6b2958)\" d=\"M 361.010625 78.409193 \r\nL 361.010625 17.083636 \r\n\" style=\"fill:none;stroke:#3d3d3d;stroke-linecap:square;stroke-width:1.5;\"/>\r\n   </g>\r\n   <g id=\"line2d_37\">\r\n    <path clip-path=\"url(#p338c6b2958)\" d=\"M 347.618625 199.391851 \r\nL 374.402625 199.391851 \r\n\" style=\"fill:none;stroke:#3d3d3d;stroke-linecap:square;stroke-width:1.5;\"/>\r\n   </g>\r\n   <g id=\"line2d_38\">\r\n    <path clip-path=\"url(#p338c6b2958)\" d=\"M 347.618625 17.083636 \r\nL 374.402625 17.083636 \r\n\" style=\"fill:none;stroke:#3d3d3d;stroke-linecap:square;stroke-width:1.5;\"/>\r\n   </g>\r\n   <g id=\"line2d_39\"/>\r\n   <g id=\"line2d_40\">\r\n    <path clip-path=\"url(#p338c6b2958)\" d=\"M 66.386625 156.034088 \r\nL 119.954625 156.034088 \r\n\" style=\"fill:none;stroke:#3d3d3d;stroke-linecap:square;stroke-width:1.5;\"/>\r\n   </g>\r\n   <g id=\"line2d_41\">\r\n    <path clip-path=\"url(#p338c6b2958)\" d=\"M 133.346625 197.316096 \r\nL 186.914625 197.316096 \r\n\" style=\"fill:none;stroke:#3d3d3d;stroke-linecap:square;stroke-width:1.5;\"/>\r\n   </g>\r\n   <g id=\"line2d_42\">\r\n    <path clip-path=\"url(#p338c6b2958)\" d=\"M 200.306625 185.506865 \r\nL 253.874625 185.506865 \r\n\" style=\"fill:none;stroke:#3d3d3d;stroke-linecap:square;stroke-width:1.5;\"/>\r\n   </g>\r\n   <g id=\"line2d_43\">\r\n    <path clip-path=\"url(#p338c6b2958)\" d=\"M 267.266625 182.48647 \r\nL 320.834625 182.48647 \r\n\" style=\"fill:none;stroke:#3d3d3d;stroke-linecap:square;stroke-width:1.5;\"/>\r\n   </g>\r\n   <g id=\"line2d_44\">\r\n    <path clip-path=\"url(#p338c6b2958)\" d=\"M 334.226625 143.260589 \r\nL 387.794625 143.260589 \r\n\" style=\"fill:none;stroke:#3d3d3d;stroke-linecap:square;stroke-width:1.5;\"/>\r\n   </g>\r\n   <g id=\"patch_8\">\r\n    <path d=\"M 59.690625 224.64 \r\nL 59.690625 7.2 \r\n\" style=\"fill:none;stroke:#000000;stroke-linecap:square;stroke-linejoin:miter;stroke-width:0.8;\"/>\r\n   </g>\r\n   <g id=\"patch_9\">\r\n    <path d=\"M 394.490625 224.64 \r\nL 394.490625 7.2 \r\n\" style=\"fill:none;stroke:#000000;stroke-linecap:square;stroke-linejoin:miter;stroke-width:0.8;\"/>\r\n   </g>\r\n   <g id=\"patch_10\">\r\n    <path d=\"M 59.690625 224.64 \r\nL 394.490625 224.64 \r\n\" style=\"fill:none;stroke:#000000;stroke-linecap:square;stroke-linejoin:miter;stroke-width:0.8;\"/>\r\n   </g>\r\n   <g id=\"patch_11\">\r\n    <path d=\"M 59.690625 7.2 \r\nL 394.490625 7.2 \r\n\" style=\"fill:none;stroke:#000000;stroke-linecap:square;stroke-linejoin:miter;stroke-width:0.8;\"/>\r\n   </g>\r\n  </g>\r\n </g>\r\n <defs>\r\n  <clipPath id=\"p338c6b2958\">\r\n   <rect height=\"217.44\" width=\"334.8\" x=\"59.690625\" y=\"7.2\"/>\r\n  </clipPath>\r\n </defs>\r\n</svg>\r\n",
      "image/png": "[encoded data removed]"
     },
     "metadata": {
      "needs_background": "light"
     }
    }
   ],
   "source": [
    "sns.boxplot(x='body-style',y='price',data=df)"
   ]
  },
  {
   "cell_type": "code",
   "execution_count": 14,
   "metadata": {},
   "outputs": [],
   "source": [
    "import plotly.express as px"
   ]
  },
  {
   "cell_type": "code",
   "execution_count": 17,
   "metadata": {},
   "outputs": [
    {
     "output_type": "display_data",
     "data": {
      "application/vnd.plotly.v1+json": {
       "config": {
        "plotlyServerURL": "https://plot.ly"
       },
       "data": [
        {
         "alignmentgroup": "True",
         "hovertemplate": "body-style=%{x}<br>price=%{y}<extra></extra>",
         "legendgroup": "",
         "marker": {
          "color": "#636efa"
         },
         "name": "",
         "notched": false,
         "offsetgroup": "",
         "orientation": "v",
         "showlegend": false,
         "type": "box",
         "x": [
          "convertible",
          "convertible",
          "hatchback",
          "sedan",
          "sedan",
          "sedan",
          "sedan",
          "wagon",
          "sedan",
          "sedan",
          "sedan",
          "sedan",
          "sedan",
          "sedan",
          "sedan",
          "sedan",
          "sedan",
          "hatchback",
          "hatchback",
          "sedan",
          "hatchback",
          "hatchback",
          "hatchback",
          "hatchback",
          "sedan",
          "sedan",
          "sedan",
          "wagon",
          "hatchback",
          "hatchback",
          "hatchback",
          "hatchback",
          "hatchback",
          "hatchback",
          "sedan",
          "wagon",
          "hatchback",
          "hatchback",
          "sedan",
          "sedan",
          "sedan",
          "sedan",
          "sedan",
          "hatchback",
          "sedan",
          "sedan",
          "sedan",
          "hatchback",
          "hatchback",
          "hatchback",
          "sedan",
          "sedan",
          "hatchback",
          "hatchback",
          "hatchback",
          "hatchback",
          "hatchback",
          "sedan",
          "hatchback",
          "sedan",
          "sedan",
          "hatchback",
          "sedan",
          "sedan",
          "sedan",
          "wagon",
          "hardtop",
          "sedan",
          "sedan",
          "convertible",
          "sedan",
          "hardtop",
          "hatchback",
          "hatchback",
          "hatchback",
          "hatchback",
          "hatchback",
          "hatchback",
          "hatchback",
          "hatchback",
          "hatchback",
          "hatchback",
          "sedan",
          "sedan",
          "sedan",
          "sedan",
          "sedan",
          "sedan",
          "sedan",
          "sedan",
          "wagon",
          "sedan",
          "hatchback",
          "sedan",
          "wagon",
          "hardtop",
          "hatchback",
          "sedan",
          "sedan",
          "wagon",
          "sedan",
          "hatchback",
          "hatchback",
          "hatchback",
          "sedan",
          "sedan",
          "wagon",
          "wagon",
          "sedan",
          "sedan",
          "wagon",
          "wagon",
          "sedan",
          "sedan",
          "sedan",
          "hatchback",
          "hatchback",
          "hatchback",
          "sedan",
          "sedan",
          "wagon",
          "hatchback",
          "hatchback",
          "hardtop",
          "hardtop",
          "convertible",
          "wagon",
          "hatchback",
          "hatchback",
          "sedan",
          "hatchback",
          "sedan",
          "hatchback",
          "sedan",
          "hatchback",
          "hatchback",
          "hatchback",
          "sedan",
          "sedan",
          "sedan",
          "sedan",
          "sedan",
          "wagon",
          "wagon",
          "wagon",
          "wagon",
          "hatchback",
          "hatchback",
          "hatchback",
          "wagon",
          "wagon",
          "wagon",
          "sedan",
          "hatchback",
          "sedan",
          "hatchback",
          "sedan",
          "hatchback",
          "sedan",
          "sedan",
          "hatchback",
          "sedan",
          "hatchback",
          "hardtop",
          "hardtop",
          "hatchback",
          "hardtop",
          "hatchback",
          "convertible",
          "sedan",
          "sedan",
          "hatchback",
          "sedan",
          "hatchback",
          "hatchback",
          "hatchback",
          "sedan",
          "wagon",
          "sedan",
          "sedan",
          "sedan",
          "sedan",
          "sedan",
          "sedan",
          "sedan",
          "convertible",
          "hatchback",
          "sedan",
          "sedan",
          "wagon",
          "sedan",
          "wagon",
          "sedan",
          "wagon",
          "sedan",
          "wagon",
          "sedan",
          "sedan",
          "sedan",
          "sedan",
          "sedan"
         ],
         "x0": " ",
         "xaxis": "x",
         "y": [
          13495,
          16500,
          16500,
          13950,
          17450,
          15250,
          17710,
          18920,
          23875,
          16430,
          16925,
          20970,
          21105,
          24565,
          30760,
          41315,
          36880,
          5151,
          6295,
          6575,
          5572,
          6377,
          7957,
          6229,
          6692,
          7609,
          8558,
          8921,
          12964,
          6479,
          6855,
          5399,
          6529,
          7129,
          7295,
          7295,
          7895,
          9095,
          8845,
          10295,
          12945,
          10345,
          6785,
          11048,
          32250,
          35550,
          36000,
          5195,
          6095,
          6795,
          6695,
          7395,
          10945,
          11845,
          13645,
          15645,
          8845,
          8495,
          10595,
          10245,
          10795,
          11245,
          18280,
          18344,
          25552,
          28248,
          28176,
          31600,
          34184,
          35056,
          40960,
          45400,
          16503,
          5389,
          6189,
          6669,
          7689,
          9959,
          8499,
          12629,
          14869,
          14489,
          6989,
          8189,
          9279,
          9279,
          5499,
          7099,
          6649,
          6849,
          7349,
          7299,
          7799,
          7499,
          7999,
          8249,
          8949,
          9549,
          13499,
          14399,
          13499,
          17199,
          19699,
          18399,
          11900,
          13200,
          12440,
          13860,
          15580,
          16900,
          16695,
          17075,
          16630,
          17950,
          18150,
          5572,
          7957,
          6229,
          6692,
          7609,
          8921,
          12764,
          22018,
          32528,
          34028,
          37028,
          9295,
          9895,
          11850,
          12170,
          15040,
          15510,
          18150,
          18620,
          5118,
          7053,
          7603,
          7126,
          7775,
          9960,
          9233,
          11259,
          7463,
          10198,
          8013,
          11694,
          5348,
          6338,
          6488,
          6918,
          7898,
          8778,
          6938,
          7198,
          7898,
          7788,
          7738,
          8358,
          9258,
          8058,
          8238,
          9298,
          9538,
          8449,
          9639,
          9989,
          11199,
          11549,
          17669,
          8948,
          10698,
          9988,
          10898,
          11248,
          16558,
          15998,
          15690,
          15750,
          7775,
          7975,
          7995,
          8195,
          8495,
          9495,
          9995,
          11595,
          9980,
          13295,
          13845,
          12290,
          12940,
          13415,
          15985,
          16515,
          18420,
          18950,
          16845,
          19045,
          21485,
          22470,
          22625
         ],
         "y0": " ",
         "yaxis": "y"
        }
       ],
       "layout": {
        "boxmode": "group",
        "legend": {
         "tracegroupgap": 0
        },
        "margin": {
         "t": 60
        },
        "template": {
         "data": {
          "bar": [
           {
            "error_x": {
             "color": "#2a3f5f"
            },
            "error_y": {
             "color": "#2a3f5f"
            },
            "marker": {
             "line": {
              "color": "#E5ECF6",
              "width": 0.5
             }
            },
            "type": "bar"
           }
          ],
          "barpolar": [
           {
            "marker": {
             "line": {
              "color": "#E5ECF6",
              "width": 0.5
             }
            },
            "type": "barpolar"
           }
          ],
          "carpet": [
           {
            "aaxis": {
             "endlinecolor": "#2a3f5f",
             "gridcolor": "white",
             "linecolor": "white",
             "minorgridcolor": "white",
             "startlinecolor": "#2a3f5f"
            },
            "baxis": {
             "endlinecolor": "#2a3f5f",
             "gridcolor": "white",
             "linecolor": "white",
             "minorgridcolor": "white",
             "startlinecolor": "#2a3f5f"
            },
            "type": "carpet"
           }
          ],
          "choropleth": [
           {
            "colorbar": {
             "outlinewidth": 0,
             "ticks": ""
            },
            "type": "choropleth"
           }
          ],
          "contour": [
           {
            "colorbar": {
             "outlinewidth": 0,
             "ticks": ""
            },
            "colorscale": [
             [
              0,
              "#0d0887"
             ],
             [
              0.1111111111111111,
              "#46039f"
             ],
             [
              0.2222222222222222,
              "#7201a8"
             ],
             [
              0.3333333333333333,
              "#9c179e"
             ],
             [
              0.4444444444444444,
              "#bd3786"
             ],
             [
              0.5555555555555556,
              "#d8576b"
             ],
             [
              0.6666666666666666,
              "#ed7953"
             ],
             [
              0.7777777777777778,
              "#fb9f3a"
             ],
             [
              0.8888888888888888,
              "#fdca26"
             ],
             [
              1,
              "#f0f921"
             ]
            ],
            "type": "contour"
           }
          ],
          "contourcarpet": [
           {
            "colorbar": {
             "outlinewidth": 0,
             "ticks": ""
            },
            "type": "contourcarpet"
           }
          ],
          "heatmap": [
           {
            "colorbar": {
             "outlinewidth": 0,
             "ticks": ""
            },
            "colorscale": [
             [
              0,
              "#0d0887"
             ],
             [
              0.1111111111111111,
              "#46039f"
             ],
             [
              0.2222222222222222,
              "#7201a8"
             ],
             [
              0.3333333333333333,
              "#9c179e"
             ],
             [
              0.4444444444444444,
              "#bd3786"
             ],
             [
              0.5555555555555556,
              "#d8576b"
             ],
             [
              0.6666666666666666,
              "#ed7953"
             ],
             [
              0.7777777777777778,
              "#fb9f3a"
             ],
             [
              0.8888888888888888,
              "#fdca26"
             ],
             [
              1,
              "#f0f921"
             ]
            ],
            "type": "heatmap"
           }
          ],
          "heatmapgl": [
           {
            "colorbar": {
             "outlinewidth": 0,
             "ticks": ""
            },
            "colorscale": [
             [
              0,
              "#0d0887"
             ],
             [
              0.1111111111111111,
              "#46039f"
             ],
             [
              0.2222222222222222,
              "#7201a8"
             ],
             [
              0.3333333333333333,
              "#9c179e"
             ],
             [
              0.4444444444444444,
              "#bd3786"
             ],
             [
              0.5555555555555556,
              "#d8576b"
             ],
             [
              0.6666666666666666,
              "#ed7953"
             ],
             [
              0.7777777777777778,
              "#fb9f3a"
             ],
             [
              0.8888888888888888,
              "#fdca26"
             ],
             [
              1,
              "#f0f921"
             ]
            ],
            "type": "heatmapgl"
           }
          ],
          "histogram": [
           {
            "marker": {
             "colorbar": {
              "outlinewidth": 0,
              "ticks": ""
             }
            },
            "type": "histogram"
           }
          ],
          "histogram2d": [
           {
            "colorbar": {
             "outlinewidth": 0,
             "ticks": ""
            },
            "colorscale": [
             [
              0,
              "#0d0887"
             ],
             [
              0.1111111111111111,
              "#46039f"
             ],
             [
              0.2222222222222222,
              "#7201a8"
             ],
             [
              0.3333333333333333,
              "#9c179e"
             ],
             [
              0.4444444444444444,
              "#bd3786"
             ],
             [
              0.5555555555555556,
              "#d8576b"
             ],
             [
              0.6666666666666666,
              "#ed7953"
             ],
             [
              0.7777777777777778,
              "#fb9f3a"
             ],
             [
              0.8888888888888888,
              "#fdca26"
             ],
             [
              1,
              "#f0f921"
             ]
            ],
            "type": "histogram2d"
           }
          ],
          "histogram2dcontour": [
           {
            "colorbar": {
             "outlinewidth": 0,
             "ticks": ""
            },
            "colorscale": [
             [
              0,
              "#0d0887"
             ],
             [
              0.1111111111111111,
              "#46039f"
             ],
             [
              0.2222222222222222,
              "#7201a8"
             ],
             [
              0.3333333333333333,
              "#9c179e"
             ],
             [
              0.4444444444444444,
              "#bd3786"
             ],
             [
              0.5555555555555556,
              "#d8576b"
             ],
             [
              0.6666666666666666,
              "#ed7953"
             ],
             [
              0.7777777777777778,
              "#fb9f3a"
             ],
             [
              0.8888888888888888,
              "#fdca26"
             ],
             [
              1,
              "#f0f921"
             ]
            ],
            "type": "histogram2dcontour"
           }
          ],
          "mesh3d": [
           {
            "colorbar": {
             "outlinewidth": 0,
             "ticks": ""
            },
            "type": "mesh3d"
           }
          ],
          "parcoords": [
           {
            "line": {
             "colorbar": {
              "outlinewidth": 0,
              "ticks": ""
             }
            },
            "type": "parcoords"
           }
          ],
          "pie": [
           {
            "automargin": true,
            "type": "pie"
           }
          ],
          "scatter": [
           {
            "marker": {
             "colorbar": {
              "outlinewidth": 0,
              "ticks": ""
             }
            },
            "type": "scatter"
           }
          ],
          "scatter3d": [
           {
            "line": {
             "colorbar": {
              "outlinewidth": 0,
              "ticks": ""
             }
            },
            "marker": {
             "colorbar": {
              "outlinewidth": 0,
              "ticks": ""
             }
            },
            "type": "scatter3d"
           }
          ],
          "scattercarpet": [
           {
            "marker": {
             "colorbar": {
              "outlinewidth": 0,
              "ticks": ""
             }
            },
            "type": "scattercarpet"
           }
          ],
          "scattergeo": [
           {
            "marker": {
             "colorbar": {
              "outlinewidth": 0,
              "ticks": ""
             }
            },
            "type": "scattergeo"
           }
          ],
          "scattergl": [
           {
            "marker": {
             "colorbar": {
              "outlinewidth": 0,
              "ticks": ""
             }
            },
            "type": "scattergl"
           }
          ],
          "scattermapbox": [
           {
            "marker": {
             "colorbar": {
              "outlinewidth": 0,
              "ticks": ""
             }
            },
            "type": "scattermapbox"
           }
          ],
          "scatterpolar": [
           {
            "marker": {
             "colorbar": {
              "outlinewidth": 0,
              "ticks": ""
             }
            },
            "type": "scatterpolar"
           }
          ],
          "scatterpolargl": [
           {
            "marker": {
             "colorbar": {
              "outlinewidth": 0,
              "ticks": ""
             }
            },
            "type": "scatterpolargl"
           }
          ],
          "scatterternary": [
           {
            "marker": {
             "colorbar": {
              "outlinewidth": 0,
              "ticks": ""
             }
            },
            "type": "scatterternary"
           }
          ],
          "surface": [
           {
            "colorbar": {
             "outlinewidth": 0,
             "ticks": ""
            },
            "colorscale": [
             [
              0,
              "#0d0887"
             ],
             [
              0.1111111111111111,
              "#46039f"
             ],
             [
              0.2222222222222222,
              "#7201a8"
             ],
             [
              0.3333333333333333,
              "#9c179e"
             ],
             [
              0.4444444444444444,
              "#bd3786"
             ],
             [
              0.5555555555555556,
              "#d8576b"
             ],
             [
              0.6666666666666666,
              "#ed7953"
             ],
             [
              0.7777777777777778,
              "#fb9f3a"
             ],
             [
              0.8888888888888888,
              "#fdca26"
             ],
             [
              1,
              "#f0f921"
             ]
            ],
            "type": "surface"
           }
          ],
          "table": [
           {
            "cells": {
             "fill": {
              "color": "#EBF0F8"
             },
             "line": {
              "color": "white"
             }
            },
            "header": {
             "fill": {
              "color": "#C8D4E3"
             },
             "line": {
              "color": "white"
             }
            },
            "type": "table"
           }
          ]
         },
         "layout": {
          "annotationdefaults": {
           "arrowcolor": "#2a3f5f",
           "arrowhead": 0,
           "arrowwidth": 1
          },
          "coloraxis": {
           "colorbar": {
            "outlinewidth": 0,
            "ticks": ""
           }
          },
          "colorscale": {
           "diverging": [
            [
             0,
             "#8e0152"
            ],
            [
             0.1,
             "#c51b7d"
            ],
            [
             0.2,
             "#de77ae"
            ],
            [
             0.3,
             "#f1b6da"
            ],
            [
             0.4,
             "#fde0ef"
            ],
            [
             0.5,
             "#f7f7f7"
            ],
            [
             0.6,
             "#e6f5d0"
            ],
            [
             0.7,
             "#b8e186"
            ],
            [
             0.8,
             "#7fbc41"
            ],
            [
             0.9,
             "#4d9221"
            ],
            [
             1,
             "#276419"
            ]
           ],
           "sequential": [
            [
             0,
             "#0d0887"
            ],
            [
             0.1111111111111111,
             "#46039f"
            ],
            [
             0.2222222222222222,
             "#7201a8"
            ],
            [
             0.3333333333333333,
             "#9c179e"
            ],
            [
             0.4444444444444444,
             "#bd3786"
            ],
            [
             0.5555555555555556,
             "#d8576b"
            ],
            [
             0.6666666666666666,
             "#ed7953"
            ],
            [
             0.7777777777777778,
             "#fb9f3a"
            ],
            [
             0.8888888888888888,
             "#fdca26"
            ],
            [
             1,
             "#f0f921"
            ]
           ],
           "sequentialminus": [
            [
             0,
             "#0d0887"
            ],
            [
             0.1111111111111111,
             "#46039f"
            ],
            [
             0.2222222222222222,
             "#7201a8"
            ],
            [
             0.3333333333333333,
             "#9c179e"
            ],
            [
             0.4444444444444444,
             "#bd3786"
            ],
            [
             0.5555555555555556,
             "#d8576b"
            ],
            [
             0.6666666666666666,
             "#ed7953"
            ],
            [
             0.7777777777777778,
             "#fb9f3a"
            ],
            [
             0.8888888888888888,
             "#fdca26"
            ],
            [
             1,
             "#f0f921"
            ]
           ]
          },
          "colorway": [
           "#636efa",
           "#EF553B",
           "#00cc96",
           "#ab63fa",
           "#FFA15A",
           "#19d3f3",
           "#FF6692",
           "#B6E880",
           "#FF97FF",
           "#FECB52"
          ],
          "font": {
           "color": "#2a3f5f"
          },
          "geo": {
           "bgcolor": "white",
           "lakecolor": "white",
           "landcolor": "#E5ECF6",
           "showlakes": true,
           "showland": true,
           "subunitcolor": "white"
          },
          "hoverlabel": {
           "align": "left"
          },
          "hovermode": "closest",
          "mapbox": {
           "style": "light"
          },
          "paper_bgcolor": "white",
          "plot_bgcolor": "#E5ECF6",
          "polar": {
           "angularaxis": {
            "gridcolor": "white",
            "linecolor": "white",
            "ticks": ""
           },
           "bgcolor": "#E5ECF6",
           "radialaxis": {
            "gridcolor": "white",
            "linecolor": "white",
            "ticks": ""
           }
          },
          "scene": {
           "xaxis": {
            "backgroundcolor": "#E5ECF6",
            "gridcolor": "white",
            "gridwidth": 2,
            "linecolor": "white",
            "showbackground": true,
            "ticks": "",
            "zerolinecolor": "white"
           },
           "yaxis": {
            "backgroundcolor": "#E5ECF6",
            "gridcolor": "white",
            "gridwidth": 2,
            "linecolor": "white",
            "showbackground": true,
            "ticks": "",
            "zerolinecolor": "white"
           },
           "zaxis": {
            "backgroundcolor": "#E5ECF6",
            "gridcolor": "white",
            "gridwidth": 2,
            "linecolor": "white",
            "showbackground": true,
            "ticks": "",
            "zerolinecolor": "white"
           }
          },
          "shapedefaults": {
           "line": {
            "color": "#2a3f5f"
           }
          },
          "ternary": {
           "aaxis": {
            "gridcolor": "white",
            "linecolor": "white",
            "ticks": ""
           },
           "baxis": {
            "gridcolor": "white",
            "linecolor": "white",
            "ticks": ""
           },
           "bgcolor": "#E5ECF6",
           "caxis": {
            "gridcolor": "white",
            "linecolor": "white",
            "ticks": ""
           }
          },
          "title": {
           "x": 0.05
          },
          "xaxis": {
           "automargin": true,
           "gridcolor": "white",
           "linecolor": "white",
           "ticks": "",
           "title": {
            "standoff": 15
           },
           "zerolinecolor": "white",
           "zerolinewidth": 2
          },
          "yaxis": {
           "automargin": true,
           "gridcolor": "white",
           "linecolor": "white",
           "ticks": "",
           "title": {
            "standoff": 15
           },
           "zerolinecolor": "white",
           "zerolinewidth": 2
          }
         }
        },
        "xaxis": {
         "anchor": "y",
         "domain": [
          0,
          1
         ],
         "title": {
          "text": "body-style"
         }
        },
        "yaxis": {
         "anchor": "x",
         "domain": [
          0,
          1
         ],
         "title": {
          "text": "price"
         }
        }
       }
      }
     },
     "metadata": {}
    }
   ],
   "source": [
    "fig = px.box(df, x='body-style',y='price')\n",
    "fig.show()"
   ]
  },
  {
   "cell_type": "code",
   "execution_count": 18,
   "metadata": {},
   "outputs": [
    {
     "output_type": "display_data",
     "data": {
      "application/vnd.plotly.v1+json": {
       "config": {
        "plotlyServerURL": "https://plot.ly"
       },
       "data": [
        {
         "alignmentgroup": "True",
         "hovertemplate": "engine-location=%{x}<br>price=%{y}<extra></extra>",
         "legendgroup": "",
         "marker": {
          "color": "#636efa"
         },
         "name": "",
         "notched": false,
         "offsetgroup": "",
         "orientation": "v",
         "showlegend": false,
         "type": "box",
         "x": [
          "front",
          "front",
          "front",
          "front",
          "front",
          "front",
          "front",
          "front",
          "front",
          "front",
          "front",
          "front",
          "front",
          "front",
          "front",
          "front",
          "front",
          "front",
          "front",
          "front",
          "front",
          "front",
          "front",
          "front",
          "front",
          "front",
          "front",
          "front",
          "front",
          "front",
          "front",
          "front",
          "front",
          "front",
          "front",
          "front",
          "front",
          "front",
          "front",
          "front",
          "front",
          "front",
          "front",
          "front",
          "front",
          "front",
          "front",
          "front",
          "front",
          "front",
          "front",
          "front",
          "front",
          "front",
          "front",
          "front",
          "front",
          "front",
          "front",
          "front",
          "front",
          "front",
          "front",
          "front",
          "front",
          "front",
          "front",
          "front",
          "front",
          "front",
          "front",
          "front",
          "front",
          "front",
          "front",
          "front",
          "front",
          "front",
          "front",
          "front",
          "front",
          "front",
          "front",
          "front",
          "front",
          "front",
          "front",
          "front",
          "front",
          "front",
          "front",
          "front",
          "front",
          "front",
          "front",
          "front",
          "front",
          "front",
          "front",
          "front",
          "front",
          "front",
          "front",
          "front",
          "front",
          "front",
          "front",
          "front",
          "front",
          "front",
          "front",
          "front",
          "front",
          "front",
          "front",
          "front",
          "front",
          "front",
          "front",
          "front",
          "front",
          "front",
          "front",
          "rear",
          "rear",
          "rear",
          "front",
          "front",
          "front",
          "front",
          "front",
          "front",
          "front",
          "front",
          "front",
          "front",
          "front",
          "front",
          "front",
          "front",
          "front",
          "front",
          "front",
          "front",
          "front",
          "front",
          "front",
          "front",
          "front",
          "front",
          "front",
          "front",
          "front",
          "front",
          "front",
          "front",
          "front",
          "front",
          "front",
          "front",
          "front",
          "front",
          "front",
          "front",
          "front",
          "front",
          "front",
          "front",
          "front",
          "front",
          "front",
          "front",
          "front",
          "front",
          "front",
          "front",
          "front",
          "front",
          "front",
          "front",
          "front",
          "front",
          "front",
          "front",
          "front",
          "front",
          "front",
          "front",
          "front",
          "front",
          "front",
          "front",
          "front",
          "front",
          "front",
          "front",
          "front",
          "front",
          "front",
          "front",
          "front"
         ],
         "x0": " ",
         "xaxis": "x",
         "y": [
          13495,
          16500,
          16500,
          13950,
          17450,
          15250,
          17710,
          18920,
          23875,
          16430,
          16925,
          20970,
          21105,
          24565,
          30760,
          41315,
          36880,
          5151,
          6295,
          6575,
          5572,
          6377,
          7957,
          6229,
          6692,
          7609,
          8558,
          8921,
          12964,
          6479,
          6855,
          5399,
          6529,
          7129,
          7295,
          7295,
          7895,
          9095,
          8845,
          10295,
          12945,
          10345,
          6785,
          11048,
          32250,
          35550,
          36000,
          5195,
          6095,
          6795,
          6695,
          7395,
          10945,
          11845,
          13645,
          15645,
          8845,
          8495,
          10595,
          10245,
          10795,
          11245,
          18280,
          18344,
          25552,
          28248,
          28176,
          31600,
          34184,
          35056,
          40960,
          45400,
          16503,
          5389,
          6189,
          6669,
          7689,
          9959,
          8499,
          12629,
          14869,
          14489,
          6989,
          8189,
          9279,
          9279,
          5499,
          7099,
          6649,
          6849,
          7349,
          7299,
          7799,
          7499,
          7999,
          8249,
          8949,
          9549,
          13499,
          14399,
          13499,
          17199,
          19699,
          18399,
          11900,
          13200,
          12440,
          13860,
          15580,
          16900,
          16695,
          17075,
          16630,
          17950,
          18150,
          5572,
          7957,
          6229,
          6692,
          7609,
          8921,
          12764,
          22018,
          32528,
          34028,
          37028,
          9295,
          9895,
          11850,
          12170,
          15040,
          15510,
          18150,
          18620,
          5118,
          7053,
          7603,
          7126,
          7775,
          9960,
          9233,
          11259,
          7463,
          10198,
          8013,
          11694,
          5348,
          6338,
          6488,
          6918,
          7898,
          8778,
          6938,
          7198,
          7898,
          7788,
          7738,
          8358,
          9258,
          8058,
          8238,
          9298,
          9538,
          8449,
          9639,
          9989,
          11199,
          11549,
          17669,
          8948,
          10698,
          9988,
          10898,
          11248,
          16558,
          15998,
          15690,
          15750,
          7775,
          7975,
          7995,
          8195,
          8495,
          9495,
          9995,
          11595,
          9980,
          13295,
          13845,
          12290,
          12940,
          13415,
          15985,
          16515,
          18420,
          18950,
          16845,
          19045,
          21485,
          22470,
          22625
         ],
         "y0": " ",
         "yaxis": "y"
        }
       ],
       "layout": {
        "boxmode": "group",
        "legend": {
         "tracegroupgap": 0
        },
        "margin": {
         "t": 60
        },
        "template": {
         "data": {
          "bar": [
           {
            "error_x": {
             "color": "#2a3f5f"
            },
            "error_y": {
             "color": "#2a3f5f"
            },
            "marker": {
             "line": {
              "color": "#E5ECF6",
              "width": 0.5
             }
            },
            "type": "bar"
           }
          ],
          "barpolar": [
           {
            "marker": {
             "line": {
              "color": "#E5ECF6",
              "width": 0.5
             }
            },
            "type": "barpolar"
           }
          ],
          "carpet": [
           {
            "aaxis": {
             "endlinecolor": "#2a3f5f",
             "gridcolor": "white",
             "linecolor": "white",
             "minorgridcolor": "white",
             "startlinecolor": "#2a3f5f"
            },
            "baxis": {
             "endlinecolor": "#2a3f5f",
             "gridcolor": "white",
             "linecolor": "white",
             "minorgridcolor": "white",
             "startlinecolor": "#2a3f5f"
            },
            "type": "carpet"
           }
          ],
          "choropleth": [
           {
            "colorbar": {
             "outlinewidth": 0,
             "ticks": ""
            },
            "type": "choropleth"
           }
          ],
          "contour": [
           {
            "colorbar": {
             "outlinewidth": 0,
             "ticks": ""
            },
            "colorscale": [
             [
              0,
              "#0d0887"
             ],
             [
              0.1111111111111111,
              "#46039f"
             ],
             [
              0.2222222222222222,
              "#7201a8"
             ],
             [
              0.3333333333333333,
              "#9c179e"
             ],
             [
              0.4444444444444444,
              "#bd3786"
             ],
             [
              0.5555555555555556,
              "#d8576b"
             ],
             [
              0.6666666666666666,
              "#ed7953"
             ],
             [
              0.7777777777777778,
              "#fb9f3a"
             ],
             [
              0.8888888888888888,
              "#fdca26"
             ],
             [
              1,
              "#f0f921"
             ]
            ],
            "type": "contour"
           }
          ],
          "contourcarpet": [
           {
            "colorbar": {
             "outlinewidth": 0,
             "ticks": ""
            },
            "type": "contourcarpet"
           }
          ],
          "heatmap": [
           {
            "colorbar": {
             "outlinewidth": 0,
             "ticks": ""
            },
            "colorscale": [
             [
              0,
              "#0d0887"
             ],
             [
              0.1111111111111111,
              "#46039f"
             ],
             [
              0.2222222222222222,
              "#7201a8"
             ],
             [
              0.3333333333333333,
              "#9c179e"
             ],
             [
              0.4444444444444444,
              "#bd3786"
             ],
             [
              0.5555555555555556,
              "#d8576b"
             ],
             [
              0.6666666666666666,
              "#ed7953"
             ],
             [
              0.7777777777777778,
              "#fb9f3a"
             ],
             [
              0.8888888888888888,
              "#fdca26"
             ],
             [
              1,
              "#f0f921"
             ]
            ],
            "type": "heatmap"
           }
          ],
          "heatmapgl": [
           {
            "colorbar": {
             "outlinewidth": 0,
             "ticks": ""
            },
            "colorscale": [
             [
              0,
              "#0d0887"
             ],
             [
              0.1111111111111111,
              "#46039f"
             ],
             [
              0.2222222222222222,
              "#7201a8"
             ],
             [
              0.3333333333333333,
              "#9c179e"
             ],
             [
              0.4444444444444444,
              "#bd3786"
             ],
             [
              0.5555555555555556,
              "#d8576b"
             ],
             [
              0.6666666666666666,
              "#ed7953"
             ],
             [
              0.7777777777777778,
              "#fb9f3a"
             ],
             [
              0.8888888888888888,
              "#fdca26"
             ],
             [
              1,
              "#f0f921"
             ]
            ],
            "type": "heatmapgl"
           }
          ],
          "histogram": [
           {
            "marker": {
             "colorbar": {
              "outlinewidth": 0,
              "ticks": ""
             }
            },
            "type": "histogram"
           }
          ],
          "histogram2d": [
           {
            "colorbar": {
             "outlinewidth": 0,
             "ticks": ""
            },
            "colorscale": [
             [
              0,
              "#0d0887"
             ],
             [
              0.1111111111111111,
              "#46039f"
             ],
             [
              0.2222222222222222,
              "#7201a8"
             ],
             [
              0.3333333333333333,
              "#9c179e"
             ],
             [
              0.4444444444444444,
              "#bd3786"
             ],
             [
              0.5555555555555556,
              "#d8576b"
             ],
             [
              0.6666666666666666,
              "#ed7953"
             ],
             [
              0.7777777777777778,
              "#fb9f3a"
             ],
             [
              0.8888888888888888,
              "#fdca26"
             ],
             [
              1,
              "#f0f921"
             ]
            ],
            "type": "histogram2d"
           }
          ],
          "histogram2dcontour": [
           {
            "colorbar": {
             "outlinewidth": 0,
             "ticks": ""
            },
            "colorscale": [
             [
              0,
              "#0d0887"
             ],
             [
              0.1111111111111111,
              "#46039f"
             ],
             [
              0.2222222222222222,
              "#7201a8"
             ],
             [
              0.3333333333333333,
              "#9c179e"
             ],
             [
              0.4444444444444444,
              "#bd3786"
             ],
             [
              0.5555555555555556,
              "#d8576b"
             ],
             [
              0.6666666666666666,
              "#ed7953"
             ],
             [
              0.7777777777777778,
              "#fb9f3a"
             ],
             [
              0.8888888888888888,
              "#fdca26"
             ],
             [
              1,
              "#f0f921"
             ]
            ],
            "type": "histogram2dcontour"
           }
          ],
          "mesh3d": [
           {
            "colorbar": {
             "outlinewidth": 0,
             "ticks": ""
            },
            "type": "mesh3d"
           }
          ],
          "parcoords": [
           {
            "line": {
             "colorbar": {
              "outlinewidth": 0,
              "ticks": ""
             }
            },
            "type": "parcoords"
           }
          ],
          "pie": [
           {
            "automargin": true,
            "type": "pie"
           }
          ],
          "scatter": [
           {
            "marker": {
             "colorbar": {
              "outlinewidth": 0,
              "ticks": ""
             }
            },
            "type": "scatter"
           }
          ],
          "scatter3d": [
           {
            "line": {
             "colorbar": {
              "outlinewidth": 0,
              "ticks": ""
             }
            },
            "marker": {
             "colorbar": {
              "outlinewidth": 0,
              "ticks": ""
             }
            },
            "type": "scatter3d"
           }
          ],
          "scattercarpet": [
           {
            "marker": {
             "colorbar": {
              "outlinewidth": 0,
              "ticks": ""
             }
            },
            "type": "scattercarpet"
           }
          ],
          "scattergeo": [
           {
            "marker": {
             "colorbar": {
              "outlinewidth": 0,
              "ticks": ""
             }
            },
            "type": "scattergeo"
           }
          ],
          "scattergl": [
           {
            "marker": {
             "colorbar": {
              "outlinewidth": 0,
              "ticks": ""
             }
            },
            "type": "scattergl"
           }
          ],
          "scattermapbox": [
           {
            "marker": {
             "colorbar": {
              "outlinewidth": 0,
              "ticks": ""
             }
            },
            "type": "scattermapbox"
           }
          ],
          "scatterpolar": [
           {
            "marker": {
             "colorbar": {
              "outlinewidth": 0,
              "ticks": ""
             }
            },
            "type": "scatterpolar"
           }
          ],
          "scatterpolargl": [
           {
            "marker": {
             "colorbar": {
              "outlinewidth": 0,
              "ticks": ""
             }
            },
            "type": "scatterpolargl"
           }
          ],
          "scatterternary": [
           {
            "marker": {
             "colorbar": {
              "outlinewidth": 0,
              "ticks": ""
             }
            },
            "type": "scatterternary"
           }
          ],
          "surface": [
           {
            "colorbar": {
             "outlinewidth": 0,
             "ticks": ""
            },
            "colorscale": [
             [
              0,
              "#0d0887"
             ],
             [
              0.1111111111111111,
              "#46039f"
             ],
             [
              0.2222222222222222,
              "#7201a8"
             ],
             [
              0.3333333333333333,
              "#9c179e"
             ],
             [
              0.4444444444444444,
              "#bd3786"
             ],
             [
              0.5555555555555556,
              "#d8576b"
             ],
             [
              0.6666666666666666,
              "#ed7953"
             ],
             [
              0.7777777777777778,
              "#fb9f3a"
             ],
             [
              0.8888888888888888,
              "#fdca26"
             ],
             [
              1,
              "#f0f921"
             ]
            ],
            "type": "surface"
           }
          ],
          "table": [
           {
            "cells": {
             "fill": {
              "color": "#EBF0F8"
             },
             "line": {
              "color": "white"
             }
            },
            "header": {
             "fill": {
              "color": "#C8D4E3"
             },
             "line": {
              "color": "white"
             }
            },
            "type": "table"
           }
          ]
         },
         "layout": {
          "annotationdefaults": {
           "arrowcolor": "#2a3f5f",
           "arrowhead": 0,
           "arrowwidth": 1
          },
          "coloraxis": {
           "colorbar": {
            "outlinewidth": 0,
            "ticks": ""
           }
          },
          "colorscale": {
           "diverging": [
            [
             0,
             "#8e0152"
            ],
            [
             0.1,
             "#c51b7d"
            ],
            [
             0.2,
             "#de77ae"
            ],
            [
             0.3,
             "#f1b6da"
            ],
            [
             0.4,
             "#fde0ef"
            ],
            [
             0.5,
             "#f7f7f7"
            ],
            [
             0.6,
             "#e6f5d0"
            ],
            [
             0.7,
             "#b8e186"
            ],
            [
             0.8,
             "#7fbc41"
            ],
            [
             0.9,
             "#4d9221"
            ],
            [
             1,
             "#276419"
            ]
           ],
           "sequential": [
            [
             0,
             "#0d0887"
            ],
            [
             0.1111111111111111,
             "#46039f"
            ],
            [
             0.2222222222222222,
             "#7201a8"
            ],
            [
             0.3333333333333333,
             "#9c179e"
            ],
            [
             0.4444444444444444,
             "#bd3786"
            ],
            [
             0.5555555555555556,
             "#d8576b"
            ],
            [
             0.6666666666666666,
             "#ed7953"
            ],
            [
             0.7777777777777778,
             "#fb9f3a"
            ],
            [
             0.8888888888888888,
             "#fdca26"
            ],
            [
             1,
             "#f0f921"
            ]
           ],
           "sequentialminus": [
            [
             0,
             "#0d0887"
            ],
            [
             0.1111111111111111,
             "#46039f"
            ],
            [
             0.2222222222222222,
             "#7201a8"
            ],
            [
             0.3333333333333333,
             "#9c179e"
            ],
            [
             0.4444444444444444,
             "#bd3786"
            ],
            [
             0.5555555555555556,
             "#d8576b"
            ],
            [
             0.6666666666666666,
             "#ed7953"
            ],
            [
             0.7777777777777778,
             "#fb9f3a"
            ],
            [
             0.8888888888888888,
             "#fdca26"
            ],
            [
             1,
             "#f0f921"
            ]
           ]
          },
          "colorway": [
           "#636efa",
           "#EF553B",
           "#00cc96",
           "#ab63fa",
           "#FFA15A",
           "#19d3f3",
           "#FF6692",
           "#B6E880",
           "#FF97FF",
           "#FECB52"
          ],
          "font": {
           "color": "#2a3f5f"
          },
          "geo": {
           "bgcolor": "white",
           "lakecolor": "white",
           "landcolor": "#E5ECF6",
           "showlakes": true,
           "showland": true,
           "subunitcolor": "white"
          },
          "hoverlabel": {
           "align": "left"
          },
          "hovermode": "closest",
          "mapbox": {
           "style": "light"
          },
          "paper_bgcolor": "white",
          "plot_bgcolor": "#E5ECF6",
          "polar": {
           "angularaxis": {
            "gridcolor": "white",
            "linecolor": "white",
            "ticks": ""
           },
           "bgcolor": "#E5ECF6",
           "radialaxis": {
            "gridcolor": "white",
            "linecolor": "white",
            "ticks": ""
           }
          },
          "scene": {
           "xaxis": {
            "backgroundcolor": "#E5ECF6",
            "gridcolor": "white",
            "gridwidth": 2,
            "linecolor": "white",
            "showbackground": true,
            "ticks": "",
            "zerolinecolor": "white"
           },
           "yaxis": {
            "backgroundcolor": "#E5ECF6",
            "gridcolor": "white",
            "gridwidth": 2,
            "linecolor": "white",
            "showbackground": true,
            "ticks": "",
            "zerolinecolor": "white"
           },
           "zaxis": {
            "backgroundcolor": "#E5ECF6",
            "gridcolor": "white",
            "gridwidth": 2,
            "linecolor": "white",
            "showbackground": true,
            "ticks": "",
            "zerolinecolor": "white"
           }
          },
          "shapedefaults": {
           "line": {
            "color": "#2a3f5f"
           }
          },
          "ternary": {
           "aaxis": {
            "gridcolor": "white",
            "linecolor": "white",
            "ticks": ""
           },
           "baxis": {
            "gridcolor": "white",
            "linecolor": "white",
            "ticks": ""
           },
           "bgcolor": "#E5ECF6",
           "caxis": {
            "gridcolor": "white",
            "linecolor": "white",
            "ticks": ""
           }
          },
          "title": {
           "x": 0.05
          },
          "xaxis": {
           "automargin": true,
           "gridcolor": "white",
           "linecolor": "white",
           "ticks": "",
           "title": {
            "standoff": 15
           },
           "zerolinecolor": "white",
           "zerolinewidth": 2
          },
          "yaxis": {
           "automargin": true,
           "gridcolor": "white",
           "linecolor": "white",
           "ticks": "",
           "title": {
            "standoff": 15
           },
           "zerolinecolor": "white",
           "zerolinewidth": 2
          }
         }
        },
        "xaxis": {
         "anchor": "y",
         "domain": [
          0,
          1
         ],
         "title": {
          "text": "engine-location"
         }
        },
        "yaxis": {
         "anchor": "x",
         "domain": [
          0,
          1
         ],
         "title": {
          "text": "price"
         }
        }
       }
      }
     },
     "metadata": {}
    }
   ],
   "source": [
    "fig = px.box(df, x='engine-location',y='price')\n",
    "fig.show()"
   ]
  },
  {
   "cell_type": "code",
   "execution_count": 19,
   "metadata": {},
   "outputs": [
    {
     "output_type": "display_data",
     "data": {
      "application/vnd.plotly.v1+json": {
       "config": {
        "plotlyServerURL": "https://plot.ly"
       },
       "data": [
        {
         "alignmentgroup": "True",
         "hovertemplate": "drive-wheels=%{x}<br>price=%{y}<extra></extra>",
         "legendgroup": "",
         "marker": {
          "color": "#636efa"
         },
         "name": "",
         "notched": false,
         "offsetgroup": "",
         "orientation": "v",
         "showlegend": false,
         "type": "box",
         "x": [
          "rwd",
          "rwd",
          "rwd",
          "fwd",
          "4wd",
          "fwd",
          "fwd",
          "fwd",
          "fwd",
          "rwd",
          "rwd",
          "rwd",
          "rwd",
          "rwd",
          "rwd",
          "rwd",
          "rwd",
          "fwd",
          "fwd",
          "fwd",
          "fwd",
          "fwd",
          "fwd",
          "fwd",
          "fwd",
          "fwd",
          "fwd",
          "fwd",
          "fwd",
          "fwd",
          "fwd",
          "fwd",
          "fwd",
          "fwd",
          "fwd",
          "fwd",
          "fwd",
          "fwd",
          "fwd",
          "fwd",
          "fwd",
          "fwd",
          "rwd",
          "rwd",
          "rwd",
          "rwd",
          "rwd",
          "fwd",
          "fwd",
          "fwd",
          "fwd",
          "fwd",
          "rwd",
          "rwd",
          "rwd",
          "rwd",
          "fwd",
          "fwd",
          "fwd",
          "fwd",
          "fwd",
          "fwd",
          "rwd",
          "rwd",
          "rwd",
          "rwd",
          "rwd",
          "rwd",
          "rwd",
          "rwd",
          "rwd",
          "rwd",
          "rwd",
          "fwd",
          "fwd",
          "fwd",
          "fwd",
          "fwd",
          "fwd",
          "fwd",
          "fwd",
          "fwd",
          "fwd",
          "fwd",
          "fwd",
          "fwd",
          "fwd",
          "fwd",
          "fwd",
          "fwd",
          "fwd",
          "fwd",
          "fwd",
          "fwd",
          "fwd",
          "fwd",
          "fwd",
          "fwd",
          "fwd",
          "fwd",
          "fwd",
          "rwd",
          "rwd",
          "rwd",
          "rwd",
          "rwd",
          "rwd",
          "rwd",
          "rwd",
          "rwd",
          "rwd",
          "rwd",
          "rwd",
          "rwd",
          "rwd",
          "fwd",
          "fwd",
          "fwd",
          "fwd",
          "fwd",
          "fwd",
          "rwd",
          "rwd",
          "rwd",
          "rwd",
          "rwd",
          "fwd",
          "fwd",
          "fwd",
          "fwd",
          "fwd",
          "fwd",
          "fwd",
          "fwd",
          "fwd",
          "fwd",
          "4wd",
          "fwd",
          "fwd",
          "fwd",
          "4wd",
          "4wd",
          "fwd",
          "fwd",
          "4wd",
          "4wd",
          "fwd",
          "fwd",
          "fwd",
          "fwd",
          "4wd",
          "4wd",
          "fwd",
          "fwd",
          "fwd",
          "fwd",
          "fwd",
          "fwd",
          "fwd",
          "rwd",
          "rwd",
          "rwd",
          "rwd",
          "rwd",
          "rwd",
          "rwd",
          "rwd",
          "rwd",
          "rwd",
          "fwd",
          "fwd",
          "fwd",
          "fwd",
          "fwd",
          "rwd",
          "rwd",
          "rwd",
          "rwd",
          "fwd",
          "fwd",
          "fwd",
          "fwd",
          "fwd",
          "fwd",
          "fwd",
          "fwd",
          "fwd",
          "fwd",
          "fwd",
          "fwd",
          "rwd",
          "rwd",
          "rwd",
          "rwd",
          "rwd",
          "rwd",
          "rwd",
          "rwd",
          "rwd",
          "rwd",
          "rwd"
         ],
         "x0": " ",
         "xaxis": "x",
         "y": [
          13495,
          16500,
          16500,
          13950,
          17450,
          15250,
          17710,
          18920,
          23875,
          16430,
          16925,
          20970,
          21105,
          24565,
          30760,
          41315,
          36880,
          5151,
          6295,
          6575,
          5572,
          6377,
          7957,
          6229,
          6692,
          7609,
          8558,
          8921,
          12964,
          6479,
          6855,
          5399,
          6529,
          7129,
          7295,
          7295,
          7895,
          9095,
          8845,
          10295,
          12945,
          10345,
          6785,
          11048,
          32250,
          35550,
          36000,
          5195,
          6095,
          6795,
          6695,
          7395,
          10945,
          11845,
          13645,
          15645,
          8845,
          8495,
          10595,
          10245,
          10795,
          11245,
          18280,
          18344,
          25552,
          28248,
          28176,
          31600,
          34184,
          35056,
          40960,
          45400,
          16503,
          5389,
          6189,
          6669,
          7689,
          9959,
          8499,
          12629,
          14869,
          14489,
          6989,
          8189,
          9279,
          9279,
          5499,
          7099,
          6649,
          6849,
          7349,
          7299,
          7799,
          7499,
          7999,
          8249,
          8949,
          9549,
          13499,
          14399,
          13499,
          17199,
          19699,
          18399,
          11900,
          13200,
          12440,
          13860,
          15580,
          16900,
          16695,
          17075,
          16630,
          17950,
          18150,
          5572,
          7957,
          6229,
          6692,
          7609,
          8921,
          12764,
          22018,
          32528,
          34028,
          37028,
          9295,
          9895,
          11850,
          12170,
          15040,
          15510,
          18150,
          18620,
          5118,
          7053,
          7603,
          7126,
          7775,
          9960,
          9233,
          11259,
          7463,
          10198,
          8013,
          11694,
          5348,
          6338,
          6488,
          6918,
          7898,
          8778,
          6938,
          7198,
          7898,
          7788,
          7738,
          8358,
          9258,
          8058,
          8238,
          9298,
          9538,
          8449,
          9639,
          9989,
          11199,
          11549,
          17669,
          8948,
          10698,
          9988,
          10898,
          11248,
          16558,
          15998,
          15690,
          15750,
          7775,
          7975,
          7995,
          8195,
          8495,
          9495,
          9995,
          11595,
          9980,
          13295,
          13845,
          12290,
          12940,
          13415,
          15985,
          16515,
          18420,
          18950,
          16845,
          19045,
          21485,
          22470,
          22625
         ],
         "y0": " ",
         "yaxis": "y"
        }
       ],
       "layout": {
        "boxmode": "group",
        "legend": {
         "tracegroupgap": 0
        },
        "margin": {
         "t": 60
        },
        "template": {
         "data": {
          "bar": [
           {
            "error_x": {
             "color": "#2a3f5f"
            },
            "error_y": {
             "color": "#2a3f5f"
            },
            "marker": {
             "line": {
              "color": "#E5ECF6",
              "width": 0.5
             }
            },
            "type": "bar"
           }
          ],
          "barpolar": [
           {
            "marker": {
             "line": {
              "color": "#E5ECF6",
              "width": 0.5
             }
            },
            "type": "barpolar"
           }
          ],
          "carpet": [
           {
            "aaxis": {
             "endlinecolor": "#2a3f5f",
             "gridcolor": "white",
             "linecolor": "white",
             "minorgridcolor": "white",
             "startlinecolor": "#2a3f5f"
            },
            "baxis": {
             "endlinecolor": "#2a3f5f",
             "gridcolor": "white",
             "linecolor": "white",
             "minorgridcolor": "white",
             "startlinecolor": "#2a3f5f"
            },
            "type": "carpet"
           }
          ],
          "choropleth": [
           {
            "colorbar": {
             "outlinewidth": 0,
             "ticks": ""
            },
            "type": "choropleth"
           }
          ],
          "contour": [
           {
            "colorbar": {
             "outlinewidth": 0,
             "ticks": ""
            },
            "colorscale": [
             [
              0,
              "#0d0887"
             ],
             [
              0.1111111111111111,
              "#46039f"
             ],
             [
              0.2222222222222222,
              "#7201a8"
             ],
             [
              0.3333333333333333,
              "#9c179e"
             ],
             [
              0.4444444444444444,
              "#bd3786"
             ],
             [
              0.5555555555555556,
              "#d8576b"
             ],
             [
              0.6666666666666666,
              "#ed7953"
             ],
             [
              0.7777777777777778,
              "#fb9f3a"
             ],
             [
              0.8888888888888888,
              "#fdca26"
             ],
             [
              1,
              "#f0f921"
             ]
            ],
            "type": "contour"
           }
          ],
          "contourcarpet": [
           {
            "colorbar": {
             "outlinewidth": 0,
             "ticks": ""
            },
            "type": "contourcarpet"
           }
          ],
          "heatmap": [
           {
            "colorbar": {
             "outlinewidth": 0,
             "ticks": ""
            },
            "colorscale": [
             [
              0,
              "#0d0887"
             ],
             [
              0.1111111111111111,
              "#46039f"
             ],
             [
              0.2222222222222222,
              "#7201a8"
             ],
             [
              0.3333333333333333,
              "#9c179e"
             ],
             [
              0.4444444444444444,
              "#bd3786"
             ],
             [
              0.5555555555555556,
              "#d8576b"
             ],
             [
              0.6666666666666666,
              "#ed7953"
             ],
             [
              0.7777777777777778,
              "#fb9f3a"
             ],
             [
              0.8888888888888888,
              "#fdca26"
             ],
             [
              1,
              "#f0f921"
             ]
            ],
            "type": "heatmap"
           }
          ],
          "heatmapgl": [
           {
            "colorbar": {
             "outlinewidth": 0,
             "ticks": ""
            },
            "colorscale": [
             [
              0,
              "#0d0887"
             ],
             [
              0.1111111111111111,
              "#46039f"
             ],
             [
              0.2222222222222222,
              "#7201a8"
             ],
             [
              0.3333333333333333,
              "#9c179e"
             ],
             [
              0.4444444444444444,
              "#bd3786"
             ],
             [
              0.5555555555555556,
              "#d8576b"
             ],
             [
              0.6666666666666666,
              "#ed7953"
             ],
             [
              0.7777777777777778,
              "#fb9f3a"
             ],
             [
              0.8888888888888888,
              "#fdca26"
             ],
             [
              1,
              "#f0f921"
             ]
            ],
            "type": "heatmapgl"
           }
          ],
          "histogram": [
           {
            "marker": {
             "colorbar": {
              "outlinewidth": 0,
              "ticks": ""
             }
            },
            "type": "histogram"
           }
          ],
          "histogram2d": [
           {
            "colorbar": {
             "outlinewidth": 0,
             "ticks": ""
            },
            "colorscale": [
             [
              0,
              "#0d0887"
             ],
             [
              0.1111111111111111,
              "#46039f"
             ],
             [
              0.2222222222222222,
              "#7201a8"
             ],
             [
              0.3333333333333333,
              "#9c179e"
             ],
             [
              0.4444444444444444,
              "#bd3786"
             ],
             [
              0.5555555555555556,
              "#d8576b"
             ],
             [
              0.6666666666666666,
              "#ed7953"
             ],
             [
              0.7777777777777778,
              "#fb9f3a"
             ],
             [
              0.8888888888888888,
              "#fdca26"
             ],
             [
              1,
              "#f0f921"
             ]
            ],
            "type": "histogram2d"
           }
          ],
          "histogram2dcontour": [
           {
            "colorbar": {
             "outlinewidth": 0,
             "ticks": ""
            },
            "colorscale": [
             [
              0,
              "#0d0887"
             ],
             [
              0.1111111111111111,
              "#46039f"
             ],
             [
              0.2222222222222222,
              "#7201a8"
             ],
             [
              0.3333333333333333,
              "#9c179e"
             ],
             [
              0.4444444444444444,
              "#bd3786"
             ],
             [
              0.5555555555555556,
              "#d8576b"
             ],
             [
              0.6666666666666666,
              "#ed7953"
             ],
             [
              0.7777777777777778,
              "#fb9f3a"
             ],
             [
              0.8888888888888888,
              "#fdca26"
             ],
             [
              1,
              "#f0f921"
             ]
            ],
            "type": "histogram2dcontour"
           }
          ],
          "mesh3d": [
           {
            "colorbar": {
             "outlinewidth": 0,
             "ticks": ""
            },
            "type": "mesh3d"
           }
          ],
          "parcoords": [
           {
            "line": {
             "colorbar": {
              "outlinewidth": 0,
              "ticks": ""
             }
            },
            "type": "parcoords"
           }
          ],
          "pie": [
           {
            "automargin": true,
            "type": "pie"
           }
          ],
          "scatter": [
           {
            "marker": {
             "colorbar": {
              "outlinewidth": 0,
              "ticks": ""
             }
            },
            "type": "scatter"
           }
          ],
          "scatter3d": [
           {
            "line": {
             "colorbar": {
              "outlinewidth": 0,
              "ticks": ""
             }
            },
            "marker": {
             "colorbar": {
              "outlinewidth": 0,
              "ticks": ""
             }
            },
            "type": "scatter3d"
           }
          ],
          "scattercarpet": [
           {
            "marker": {
             "colorbar": {
              "outlinewidth": 0,
              "ticks": ""
             }
            },
            "type": "scattercarpet"
           }
          ],
          "scattergeo": [
           {
            "marker": {
             "colorbar": {
              "outlinewidth": 0,
              "ticks": ""
             }
            },
            "type": "scattergeo"
           }
          ],
          "scattergl": [
           {
            "marker": {
             "colorbar": {
              "outlinewidth": 0,
              "ticks": ""
             }
            },
            "type": "scattergl"
           }
          ],
          "scattermapbox": [
           {
            "marker": {
             "colorbar": {
              "outlinewidth": 0,
              "ticks": ""
             }
            },
            "type": "scattermapbox"
           }
          ],
          "scatterpolar": [
           {
            "marker": {
             "colorbar": {
              "outlinewidth": 0,
              "ticks": ""
             }
            },
            "type": "scatterpolar"
           }
          ],
          "scatterpolargl": [
           {
            "marker": {
             "colorbar": {
              "outlinewidth": 0,
              "ticks": ""
             }
            },
            "type": "scatterpolargl"
           }
          ],
          "scatterternary": [
           {
            "marker": {
             "colorbar": {
              "outlinewidth": 0,
              "ticks": ""
             }
            },
            "type": "scatterternary"
           }
          ],
          "surface": [
           {
            "colorbar": {
             "outlinewidth": 0,
             "ticks": ""
            },
            "colorscale": [
             [
              0,
              "#0d0887"
             ],
             [
              0.1111111111111111,
              "#46039f"
             ],
             [
              0.2222222222222222,
              "#7201a8"
             ],
             [
              0.3333333333333333,
              "#9c179e"
             ],
             [
              0.4444444444444444,
              "#bd3786"
             ],
             [
              0.5555555555555556,
              "#d8576b"
             ],
             [
              0.6666666666666666,
              "#ed7953"
             ],
             [
              0.7777777777777778,
              "#fb9f3a"
             ],
             [
              0.8888888888888888,
              "#fdca26"
             ],
             [
              1,
              "#f0f921"
             ]
            ],
            "type": "surface"
           }
          ],
          "table": [
           {
            "cells": {
             "fill": {
              "color": "#EBF0F8"
             },
             "line": {
              "color": "white"
             }
            },
            "header": {
             "fill": {
              "color": "#C8D4E3"
             },
             "line": {
              "color": "white"
             }
            },
            "type": "table"
           }
          ]
         },
         "layout": {
          "annotationdefaults": {
           "arrowcolor": "#2a3f5f",
           "arrowhead": 0,
           "arrowwidth": 1
          },
          "coloraxis": {
           "colorbar": {
            "outlinewidth": 0,
            "ticks": ""
           }
          },
          "colorscale": {
           "diverging": [
            [
             0,
             "#8e0152"
            ],
            [
             0.1,
             "#c51b7d"
            ],
            [
             0.2,
             "#de77ae"
            ],
            [
             0.3,
             "#f1b6da"
            ],
            [
             0.4,
             "#fde0ef"
            ],
            [
             0.5,
             "#f7f7f7"
            ],
            [
             0.6,
             "#e6f5d0"
            ],
            [
             0.7,
             "#b8e186"
            ],
            [
             0.8,
             "#7fbc41"
            ],
            [
             0.9,
             "#4d9221"
            ],
            [
             1,
             "#276419"
            ]
           ],
           "sequential": [
            [
             0,
             "#0d0887"
            ],
            [
             0.1111111111111111,
             "#46039f"
            ],
            [
             0.2222222222222222,
             "#7201a8"
            ],
            [
             0.3333333333333333,
             "#9c179e"
            ],
            [
             0.4444444444444444,
             "#bd3786"
            ],
            [
             0.5555555555555556,
             "#d8576b"
            ],
            [
             0.6666666666666666,
             "#ed7953"
            ],
            [
             0.7777777777777778,
             "#fb9f3a"
            ],
            [
             0.8888888888888888,
             "#fdca26"
            ],
            [
             1,
             "#f0f921"
            ]
           ],
           "sequentialminus": [
            [
             0,
             "#0d0887"
            ],
            [
             0.1111111111111111,
             "#46039f"
            ],
            [
             0.2222222222222222,
             "#7201a8"
            ],
            [
             0.3333333333333333,
             "#9c179e"
            ],
            [
             0.4444444444444444,
             "#bd3786"
            ],
            [
             0.5555555555555556,
             "#d8576b"
            ],
            [
             0.6666666666666666,
             "#ed7953"
            ],
            [
             0.7777777777777778,
             "#fb9f3a"
            ],
            [
             0.8888888888888888,
             "#fdca26"
            ],
            [
             1,
             "#f0f921"
            ]
           ]
          },
          "colorway": [
           "#636efa",
           "#EF553B",
           "#00cc96",
           "#ab63fa",
           "#FFA15A",
           "#19d3f3",
           "#FF6692",
           "#B6E880",
           "#FF97FF",
           "#FECB52"
          ],
          "font": {
           "color": "#2a3f5f"
          },
          "geo": {
           "bgcolor": "white",
           "lakecolor": "white",
           "landcolor": "#E5ECF6",
           "showlakes": true,
           "showland": true,
           "subunitcolor": "white"
          },
          "hoverlabel": {
           "align": "left"
          },
          "hovermode": "closest",
          "mapbox": {
           "style": "light"
          },
          "paper_bgcolor": "white",
          "plot_bgcolor": "#E5ECF6",
          "polar": {
           "angularaxis": {
            "gridcolor": "white",
            "linecolor": "white",
            "ticks": ""
           },
           "bgcolor": "#E5ECF6",
           "radialaxis": {
            "gridcolor": "white",
            "linecolor": "white",
            "ticks": ""
           }
          },
          "scene": {
           "xaxis": {
            "backgroundcolor": "#E5ECF6",
            "gridcolor": "white",
            "gridwidth": 2,
            "linecolor": "white",
            "showbackground": true,
            "ticks": "",
            "zerolinecolor": "white"
           },
           "yaxis": {
            "backgroundcolor": "#E5ECF6",
            "gridcolor": "white",
            "gridwidth": 2,
            "linecolor": "white",
            "showbackground": true,
            "ticks": "",
            "zerolinecolor": "white"
           },
           "zaxis": {
            "backgroundcolor": "#E5ECF6",
            "gridcolor": "white",
            "gridwidth": 2,
            "linecolor": "white",
            "showbackground": true,
            "ticks": "",
            "zerolinecolor": "white"
           }
          },
          "shapedefaults": {
           "line": {
            "color": "#2a3f5f"
           }
          },
          "ternary": {
           "aaxis": {
            "gridcolor": "white",
            "linecolor": "white",
            "ticks": ""
           },
           "baxis": {
            "gridcolor": "white",
            "linecolor": "white",
            "ticks": ""
           },
           "bgcolor": "#E5ECF6",
           "caxis": {
            "gridcolor": "white",
            "linecolor": "white",
            "ticks": ""
           }
          },
          "title": {
           "x": 0.05
          },
          "xaxis": {
           "automargin": true,
           "gridcolor": "white",
           "linecolor": "white",
           "ticks": "",
           "title": {
            "standoff": 15
           },
           "zerolinecolor": "white",
           "zerolinewidth": 2
          },
          "yaxis": {
           "automargin": true,
           "gridcolor": "white",
           "linecolor": "white",
           "ticks": "",
           "title": {
            "standoff": 15
           },
           "zerolinecolor": "white",
           "zerolinewidth": 2
          }
         }
        },
        "xaxis": {
         "anchor": "y",
         "domain": [
          0,
          1
         ],
         "title": {
          "text": "drive-wheels"
         }
        },
        "yaxis": {
         "anchor": "x",
         "domain": [
          0,
          1
         ],
         "title": {
          "text": "price"
         }
        }
       }
      }
     },
     "metadata": {}
    }
   ],
   "source": [
    "fig = px.box(df, x='drive-wheels',y='price')\n",
    "fig.show()"
   ]
  },
  {
   "cell_type": "code",
   "execution_count": 21,
   "metadata": {},
   "outputs": [
    {
     "output_type": "display_data",
     "data": {
      "application/vnd.plotly.v1+json": {
       "config": {
        "plotlyServerURL": "https://plot.ly"
       },
       "data": [
        {
         "alignmentgroup": "True",
         "hovertemplate": "make=%{x}<br>price=%{y}<extra></extra>",
         "legendgroup": "",
         "marker": {
          "color": "#636efa"
         },
         "name": "",
         "notched": false,
         "offsetgroup": "",
         "orientation": "v",
         "showlegend": false,
         "type": "box",
         "x": [
          "alfa-romero",
          "alfa-romero",
          "alfa-romero",
          "audi",
          "audi",
          "audi",
          "audi",
          "audi",
          "audi",
          "bmw",
          "bmw",
          "bmw",
          "bmw",
          "bmw",
          "bmw",
          "bmw",
          "bmw",
          "chevrolet",
          "chevrolet",
          "chevrolet",
          "dodge",
          "dodge",
          "dodge",
          "dodge",
          "dodge",
          "dodge",
          "dodge",
          "dodge",
          "dodge",
          "honda",
          "honda",
          "honda",
          "honda",
          "honda",
          "honda",
          "honda",
          "honda",
          "honda",
          "honda",
          "honda",
          "honda",
          "honda",
          "isuzu",
          "isuzu",
          "jaguar",
          "jaguar",
          "jaguar",
          "mazda",
          "mazda",
          "mazda",
          "mazda",
          "mazda",
          "mazda",
          "mazda",
          "mazda",
          "mazda",
          "mazda",
          "mazda",
          "mazda",
          "mazda",
          "mazda",
          "mazda",
          "mazda",
          "mazda",
          "mercedes-benz",
          "mercedes-benz",
          "mercedes-benz",
          "mercedes-benz",
          "mercedes-benz",
          "mercedes-benz",
          "mercedes-benz",
          "mercedes-benz",
          "mercury",
          "mitsubishi",
          "mitsubishi",
          "mitsubishi",
          "mitsubishi",
          "mitsubishi",
          "mitsubishi",
          "mitsubishi",
          "mitsubishi",
          "mitsubishi",
          "mitsubishi",
          "mitsubishi",
          "mitsubishi",
          "mitsubishi",
          "nissan",
          "nissan",
          "nissan",
          "nissan",
          "nissan",
          "nissan",
          "nissan",
          "nissan",
          "nissan",
          "nissan",
          "nissan",
          "nissan",
          "nissan",
          "nissan",
          "nissan",
          "nissan",
          "nissan",
          "nissan",
          "peugot",
          "peugot",
          "peugot",
          "peugot",
          "peugot",
          "peugot",
          "peugot",
          "peugot",
          "peugot",
          "peugot",
          "peugot",
          "plymouth",
          "plymouth",
          "plymouth",
          "plymouth",
          "plymouth",
          "plymouth",
          "plymouth",
          "porsche",
          "porsche",
          "porsche",
          "porsche",
          "renault",
          "renault",
          "saab",
          "saab",
          "saab",
          "saab",
          "saab",
          "saab",
          "subaru",
          "subaru",
          "subaru",
          "subaru",
          "subaru",
          "subaru",
          "subaru",
          "subaru",
          "subaru",
          "subaru",
          "subaru",
          "subaru",
          "toyota",
          "toyota",
          "toyota",
          "toyota",
          "toyota",
          "toyota",
          "toyota",
          "toyota",
          "toyota",
          "toyota",
          "toyota",
          "toyota",
          "toyota",
          "toyota",
          "toyota",
          "toyota",
          "toyota",
          "toyota",
          "toyota",
          "toyota",
          "toyota",
          "toyota",
          "toyota",
          "toyota",
          "toyota",
          "toyota",
          "toyota",
          "toyota",
          "toyota",
          "toyota",
          "toyota",
          "toyota",
          "volkswagen",
          "volkswagen",
          "volkswagen",
          "volkswagen",
          "volkswagen",
          "volkswagen",
          "volkswagen",
          "volkswagen",
          "volkswagen",
          "volkswagen",
          "volkswagen",
          "volkswagen",
          "volvo",
          "volvo",
          "volvo",
          "volvo",
          "volvo",
          "volvo",
          "volvo",
          "volvo",
          "volvo",
          "volvo",
          "volvo"
         ],
         "x0": " ",
         "xaxis": "x",
         "y": [
          13495,
          16500,
          16500,
          13950,
          17450,
          15250,
          17710,
          18920,
          23875,
          16430,
          16925,
          20970,
          21105,
          24565,
          30760,
          41315,
          36880,
          5151,
          6295,
          6575,
          5572,
          6377,
          7957,
          6229,
          6692,
          7609,
          8558,
          8921,
          12964,
          6479,
          6855,
          5399,
          6529,
          7129,
          7295,
          7295,
          7895,
          9095,
          8845,
          10295,
          12945,
          10345,
          6785,
          11048,
          32250,
          35550,
          36000,
          5195,
          6095,
          6795,
          6695,
          7395,
          10945,
          11845,
          13645,
          15645,
          8845,
          8495,
          10595,
          10245,
          10795,
          11245,
          18280,
          18344,
          25552,
          28248,
          28176,
          31600,
          34184,
          35056,
          40960,
          45400,
          16503,
          5389,
          6189,
          6669,
          7689,
          9959,
          8499,
          12629,
          14869,
          14489,
          6989,
          8189,
          9279,
          9279,
          5499,
          7099,
          6649,
          6849,
          7349,
          7299,
          7799,
          7499,
          7999,
          8249,
          8949,
          9549,
          13499,
          14399,
          13499,
          17199,
          19699,
          18399,
          11900,
          13200,
          12440,
          13860,
          15580,
          16900,
          16695,
          17075,
          16630,
          17950,
          18150,
          5572,
          7957,
          6229,
          6692,
          7609,
          8921,
          12764,
          22018,
          32528,
          34028,
          37028,
          9295,
          9895,
          11850,
          12170,
          15040,
          15510,
          18150,
          18620,
          5118,
          7053,
          7603,
          7126,
          7775,
          9960,
          9233,
          11259,
          7463,
          10198,
          8013,
          11694,
          5348,
          6338,
          6488,
          6918,
          7898,
          8778,
          6938,
          7198,
          7898,
          7788,
          7738,
          8358,
          9258,
          8058,
          8238,
          9298,
          9538,
          8449,
          9639,
          9989,
          11199,
          11549,
          17669,
          8948,
          10698,
          9988,
          10898,
          11248,
          16558,
          15998,
          15690,
          15750,
          7775,
          7975,
          7995,
          8195,
          8495,
          9495,
          9995,
          11595,
          9980,
          13295,
          13845,
          12290,
          12940,
          13415,
          15985,
          16515,
          18420,
          18950,
          16845,
          19045,
          21485,
          22470,
          22625
         ],
         "y0": " ",
         "yaxis": "y"
        }
       ],
       "layout": {
        "boxmode": "group",
        "legend": {
         "tracegroupgap": 0
        },
        "template": {
         "data": {
          "bar": [
           {
            "error_x": {
             "color": "#2a3f5f"
            },
            "error_y": {
             "color": "#2a3f5f"
            },
            "marker": {
             "line": {
              "color": "#E5ECF6",
              "width": 0.5
             }
            },
            "type": "bar"
           }
          ],
          "barpolar": [
           {
            "marker": {
             "line": {
              "color": "#E5ECF6",
              "width": 0.5
             }
            },
            "type": "barpolar"
           }
          ],
          "carpet": [
           {
            "aaxis": {
             "endlinecolor": "#2a3f5f",
             "gridcolor": "white",
             "linecolor": "white",
             "minorgridcolor": "white",
             "startlinecolor": "#2a3f5f"
            },
            "baxis": {
             "endlinecolor": "#2a3f5f",
             "gridcolor": "white",
             "linecolor": "white",
             "minorgridcolor": "white",
             "startlinecolor": "#2a3f5f"
            },
            "type": "carpet"
           }
          ],
          "choropleth": [
           {
            "colorbar": {
             "outlinewidth": 0,
             "ticks": ""
            },
            "type": "choropleth"
           }
          ],
          "contour": [
           {
            "colorbar": {
             "outlinewidth": 0,
             "ticks": ""
            },
            "colorscale": [
             [
              0,
              "#0d0887"
             ],
             [
              0.1111111111111111,
              "#46039f"
             ],
             [
              0.2222222222222222,
              "#7201a8"
             ],
             [
              0.3333333333333333,
              "#9c179e"
             ],
             [
              0.4444444444444444,
              "#bd3786"
             ],
             [
              0.5555555555555556,
              "#d8576b"
             ],
             [
              0.6666666666666666,
              "#ed7953"
             ],
             [
              0.7777777777777778,
              "#fb9f3a"
             ],
             [
              0.8888888888888888,
              "#fdca26"
             ],
             [
              1,
              "#f0f921"
             ]
            ],
            "type": "contour"
           }
          ],
          "contourcarpet": [
           {
            "colorbar": {
             "outlinewidth": 0,
             "ticks": ""
            },
            "type": "contourcarpet"
           }
          ],
          "heatmap": [
           {
            "colorbar": {
             "outlinewidth": 0,
             "ticks": ""
            },
            "colorscale": [
             [
              0,
              "#0d0887"
             ],
             [
              0.1111111111111111,
              "#46039f"
             ],
             [
              0.2222222222222222,
              "#7201a8"
             ],
             [
              0.3333333333333333,
              "#9c179e"
             ],
             [
              0.4444444444444444,
              "#bd3786"
             ],
             [
              0.5555555555555556,
              "#d8576b"
             ],
             [
              0.6666666666666666,
              "#ed7953"
             ],
             [
              0.7777777777777778,
              "#fb9f3a"
             ],
             [
              0.8888888888888888,
              "#fdca26"
             ],
             [
              1,
              "#f0f921"
             ]
            ],
            "type": "heatmap"
           }
          ],
          "heatmapgl": [
           {
            "colorbar": {
             "outlinewidth": 0,
             "ticks": ""
            },
            "colorscale": [
             [
              0,
              "#0d0887"
             ],
             [
              0.1111111111111111,
              "#46039f"
             ],
             [
              0.2222222222222222,
              "#7201a8"
             ],
             [
              0.3333333333333333,
              "#9c179e"
             ],
             [
              0.4444444444444444,
              "#bd3786"
             ],
             [
              0.5555555555555556,
              "#d8576b"
             ],
             [
              0.6666666666666666,
              "#ed7953"
             ],
             [
              0.7777777777777778,
              "#fb9f3a"
             ],
             [
              0.8888888888888888,
              "#fdca26"
             ],
             [
              1,
              "#f0f921"
             ]
            ],
            "type": "heatmapgl"
           }
          ],
          "histogram": [
           {
            "marker": {
             "colorbar": {
              "outlinewidth": 0,
              "ticks": ""
             }
            },
            "type": "histogram"
           }
          ],
          "histogram2d": [
           {
            "colorbar": {
             "outlinewidth": 0,
             "ticks": ""
            },
            "colorscale": [
             [
              0,
              "#0d0887"
             ],
             [
              0.1111111111111111,
              "#46039f"
             ],
             [
              0.2222222222222222,
              "#7201a8"
             ],
             [
              0.3333333333333333,
              "#9c179e"
             ],
             [
              0.4444444444444444,
              "#bd3786"
             ],
             [
              0.5555555555555556,
              "#d8576b"
             ],
             [
              0.6666666666666666,
              "#ed7953"
             ],
             [
              0.7777777777777778,
              "#fb9f3a"
             ],
             [
              0.8888888888888888,
              "#fdca26"
             ],
             [
              1,
              "#f0f921"
             ]
            ],
            "type": "histogram2d"
           }
          ],
          "histogram2dcontour": [
           {
            "colorbar": {
             "outlinewidth": 0,
             "ticks": ""
            },
            "colorscale": [
             [
              0,
              "#0d0887"
             ],
             [
              0.1111111111111111,
              "#46039f"
             ],
             [
              0.2222222222222222,
              "#7201a8"
             ],
             [
              0.3333333333333333,
              "#9c179e"
             ],
             [
              0.4444444444444444,
              "#bd3786"
             ],
             [
              0.5555555555555556,
              "#d8576b"
             ],
             [
              0.6666666666666666,
              "#ed7953"
             ],
             [
              0.7777777777777778,
              "#fb9f3a"
             ],
             [
              0.8888888888888888,
              "#fdca26"
             ],
             [
              1,
              "#f0f921"
             ]
            ],
            "type": "histogram2dcontour"
           }
          ],
          "mesh3d": [
           {
            "colorbar": {
             "outlinewidth": 0,
             "ticks": ""
            },
            "type": "mesh3d"
           }
          ],
          "parcoords": [
           {
            "line": {
             "colorbar": {
              "outlinewidth": 0,
              "ticks": ""
             }
            },
            "type": "parcoords"
           }
          ],
          "pie": [
           {
            "automargin": true,
            "type": "pie"
           }
          ],
          "scatter": [
           {
            "marker": {
             "colorbar": {
              "outlinewidth": 0,
              "ticks": ""
             }
            },
            "type": "scatter"
           }
          ],
          "scatter3d": [
           {
            "line": {
             "colorbar": {
              "outlinewidth": 0,
              "ticks": ""
             }
            },
            "marker": {
             "colorbar": {
              "outlinewidth": 0,
              "ticks": ""
             }
            },
            "type": "scatter3d"
           }
          ],
          "scattercarpet": [
           {
            "marker": {
             "colorbar": {
              "outlinewidth": 0,
              "ticks": ""
             }
            },
            "type": "scattercarpet"
           }
          ],
          "scattergeo": [
           {
            "marker": {
             "colorbar": {
              "outlinewidth": 0,
              "ticks": ""
             }
            },
            "type": "scattergeo"
           }
          ],
          "scattergl": [
           {
            "marker": {
             "colorbar": {
              "outlinewidth": 0,
              "ticks": ""
             }
            },
            "type": "scattergl"
           }
          ],
          "scattermapbox": [
           {
            "marker": {
             "colorbar": {
              "outlinewidth": 0,
              "ticks": ""
             }
            },
            "type": "scattermapbox"
           }
          ],
          "scatterpolar": [
           {
            "marker": {
             "colorbar": {
              "outlinewidth": 0,
              "ticks": ""
             }
            },
            "type": "scatterpolar"
           }
          ],
          "scatterpolargl": [
           {
            "marker": {
             "colorbar": {
              "outlinewidth": 0,
              "ticks": ""
             }
            },
            "type": "scatterpolargl"
           }
          ],
          "scatterternary": [
           {
            "marker": {
             "colorbar": {
              "outlinewidth": 0,
              "ticks": ""
             }
            },
            "type": "scatterternary"
           }
          ],
          "surface": [
           {
            "colorbar": {
             "outlinewidth": 0,
             "ticks": ""
            },
            "colorscale": [
             [
              0,
              "#0d0887"
             ],
             [
              0.1111111111111111,
              "#46039f"
             ],
             [
              0.2222222222222222,
              "#7201a8"
             ],
             [
              0.3333333333333333,
              "#9c179e"
             ],
             [
              0.4444444444444444,
              "#bd3786"
             ],
             [
              0.5555555555555556,
              "#d8576b"
             ],
             [
              0.6666666666666666,
              "#ed7953"
             ],
             [
              0.7777777777777778,
              "#fb9f3a"
             ],
             [
              0.8888888888888888,
              "#fdca26"
             ],
             [
              1,
              "#f0f921"
             ]
            ],
            "type": "surface"
           }
          ],
          "table": [
           {
            "cells": {
             "fill": {
              "color": "#EBF0F8"
             },
             "line": {
              "color": "white"
             }
            },
            "header": {
             "fill": {
              "color": "#C8D4E3"
             },
             "line": {
              "color": "white"
             }
            },
            "type": "table"
           }
          ]
         },
         "layout": {
          "annotationdefaults": {
           "arrowcolor": "#2a3f5f",
           "arrowhead": 0,
           "arrowwidth": 1
          },
          "coloraxis": {
           "colorbar": {
            "outlinewidth": 0,
            "ticks": ""
           }
          },
          "colorscale": {
           "diverging": [
            [
             0,
             "#8e0152"
            ],
            [
             0.1,
             "#c51b7d"
            ],
            [
             0.2,
             "#de77ae"
            ],
            [
             0.3,
             "#f1b6da"
            ],
            [
             0.4,
             "#fde0ef"
            ],
            [
             0.5,
             "#f7f7f7"
            ],
            [
             0.6,
             "#e6f5d0"
            ],
            [
             0.7,
             "#b8e186"
            ],
            [
             0.8,
             "#7fbc41"
            ],
            [
             0.9,
             "#4d9221"
            ],
            [
             1,
             "#276419"
            ]
           ],
           "sequential": [
            [
             0,
             "#0d0887"
            ],
            [
             0.1111111111111111,
             "#46039f"
            ],
            [
             0.2222222222222222,
             "#7201a8"
            ],
            [
             0.3333333333333333,
             "#9c179e"
            ],
            [
             0.4444444444444444,
             "#bd3786"
            ],
            [
             0.5555555555555556,
             "#d8576b"
            ],
            [
             0.6666666666666666,
             "#ed7953"
            ],
            [
             0.7777777777777778,
             "#fb9f3a"
            ],
            [
             0.8888888888888888,
             "#fdca26"
            ],
            [
             1,
             "#f0f921"
            ]
           ],
           "sequentialminus": [
            [
             0,
             "#0d0887"
            ],
            [
             0.1111111111111111,
             "#46039f"
            ],
            [
             0.2222222222222222,
             "#7201a8"
            ],
            [
             0.3333333333333333,
             "#9c179e"
            ],
            [
             0.4444444444444444,
             "#bd3786"
            ],
            [
             0.5555555555555556,
             "#d8576b"
            ],
            [
             0.6666666666666666,
             "#ed7953"
            ],
            [
             0.7777777777777778,
             "#fb9f3a"
            ],
            [
             0.8888888888888888,
             "#fdca26"
            ],
            [
             1,
             "#f0f921"
            ]
           ]
          },
          "colorway": [
           "#636efa",
           "#EF553B",
           "#00cc96",
           "#ab63fa",
           "#FFA15A",
           "#19d3f3",
           "#FF6692",
           "#B6E880",
           "#FF97FF",
           "#FECB52"
          ],
          "font": {
           "color": "#2a3f5f"
          },
          "geo": {
           "bgcolor": "white",
           "lakecolor": "white",
           "landcolor": "#E5ECF6",
           "showlakes": true,
           "showland": true,
           "subunitcolor": "white"
          },
          "hoverlabel": {
           "align": "left"
          },
          "hovermode": "closest",
          "mapbox": {
           "style": "light"
          },
          "paper_bgcolor": "white",
          "plot_bgcolor": "#E5ECF6",
          "polar": {
           "angularaxis": {
            "gridcolor": "white",
            "linecolor": "white",
            "ticks": ""
           },
           "bgcolor": "#E5ECF6",
           "radialaxis": {
            "gridcolor": "white",
            "linecolor": "white",
            "ticks": ""
           }
          },
          "scene": {
           "xaxis": {
            "backgroundcolor": "#E5ECF6",
            "gridcolor": "white",
            "gridwidth": 2,
            "linecolor": "white",
            "showbackground": true,
            "ticks": "",
            "zerolinecolor": "white"
           },
           "yaxis": {
            "backgroundcolor": "#E5ECF6",
            "gridcolor": "white",
            "gridwidth": 2,
            "linecolor": "white",
            "showbackground": true,
            "ticks": "",
            "zerolinecolor": "white"
           },
           "zaxis": {
            "backgroundcolor": "#E5ECF6",
            "gridcolor": "white",
            "gridwidth": 2,
            "linecolor": "white",
            "showbackground": true,
            "ticks": "",
            "zerolinecolor": "white"
           }
          },
          "shapedefaults": {
           "line": {
            "color": "#2a3f5f"
           }
          },
          "ternary": {
           "aaxis": {
            "gridcolor": "white",
            "linecolor": "white",
            "ticks": ""
           },
           "baxis": {
            "gridcolor": "white",
            "linecolor": "white",
            "ticks": ""
           },
           "bgcolor": "#E5ECF6",
           "caxis": {
            "gridcolor": "white",
            "linecolor": "white",
            "ticks": ""
           }
          },
          "title": {
           "x": 0.05
          },
          "xaxis": {
           "automargin": true,
           "gridcolor": "white",
           "linecolor": "white",
           "ticks": "",
           "title": {
            "standoff": 15
           },
           "zerolinecolor": "white",
           "zerolinewidth": 2
          },
          "yaxis": {
           "automargin": true,
           "gridcolor": "white",
           "linecolor": "white",
           "ticks": "",
           "title": {
            "standoff": 15
           },
           "zerolinecolor": "white",
           "zerolinewidth": 2
          }
         }
        },
        "title": {
         "text": "this column might not be usable for predicting price"
        },
        "xaxis": {
         "anchor": "y",
         "domain": [
          0,
          1
         ],
         "title": {
          "text": "make"
         }
        },
        "yaxis": {
         "anchor": "x",
         "domain": [
          0,
          1
         ],
         "title": {
          "text": "price"
         }
        }
       }
      }
     },
     "metadata": {}
    }
   ],
   "source": [
    "fig = px.box(df, x='make',y='price',title='this column might not be usable for predicting price')\n",
    "fig.show()"
   ]
  },
  {
   "cell_type": "markdown",
   "metadata": {},
   "source": [
    "# Descriptive Statistical Analysis"
   ]
  },
  {
   "cell_type": "code",
   "execution_count": 22,
   "metadata": {},
   "outputs": [
    {
     "output_type": "execute_result",
     "data": {
      "text/plain": "        symboling  normalized-losses  wheel-base      length       width  \\\ncount  201.000000          201.00000  201.000000  201.000000  201.000000   \nmean     0.840796          122.00000   98.797015  174.200995   65.889055   \nstd      1.254802           31.99625    6.066366   12.322175    2.101471   \nmin     -2.000000           65.00000   86.600000  141.100000   60.300000   \n25%      0.000000          101.00000   94.500000  166.800000   64.100000   \n50%      1.000000          122.00000   97.000000  173.200000   65.500000   \n75%      2.000000          137.00000  102.400000  183.500000   66.600000   \nmax      3.000000          256.00000  120.900000  208.100000   72.000000   \n\n           height  curb-weight  engine-size        bore      stroke  \\\ncount  201.000000   201.000000   201.000000  201.000000  201.000000   \nmean    53.766667  2555.666667   126.875622    3.330692    3.256874   \nstd      2.447822   517.296727    41.546834    0.268072    0.316048   \nmin     47.800000  1488.000000    61.000000    2.540000    2.070000   \n25%     52.000000  2169.000000    98.000000    3.150000    3.110000   \n50%     54.100000  2414.000000   120.000000    3.310000    3.290000   \n75%     55.500000  2926.000000   141.000000    3.580000    3.410000   \nmax     59.800000  4066.000000   326.000000    3.940000    4.170000   \n\n       compression-ratio  horsepower     peak-rpm    city-mpg  highway-mpg  \\\ncount         201.000000  201.000000   201.000000  201.000000   201.000000   \nmean           10.164279  103.402985  5117.661692   25.179104    30.686567   \nstd             4.004965   37.365650   478.113747    6.423220     6.815150   \nmin             7.000000   48.000000  4150.000000   13.000000    16.000000   \n25%             8.600000   70.000000  4800.000000   19.000000    25.000000   \n50%             9.000000   95.000000  5125.000000   24.000000    30.000000   \n75%             9.400000  116.000000  5500.000000   30.000000    34.000000   \nmax            23.000000  262.000000  6600.000000   49.000000    54.000000   \n\n              price  \ncount    201.000000  \nmean   13207.129353  \nstd     7947.066342  \nmin     5118.000000  \n25%     7775.000000  \n50%    10295.000000  \n75%    16500.000000  \nmax    45400.000000  ",
      "text/html": "<div>\n<style scoped>\n    .dataframe tbody tr th:only-of-type {\n        vertical-align: middle;\n    }\n\n    .dataframe tbody tr th {\n        vertical-align: top;\n    }\n\n    .dataframe thead th {\n        text-align: right;\n    }\n</style>\n<table border=\"1\" class=\"dataframe\">\n  <thead>\n    <tr style=\"text-align: right;\">\n      <th></th>\n      <th>symboling</th>\n      <th>normalized-losses</th>\n      <th>wheel-base</th>\n      <th>length</th>\n      <th>width</th>\n      <th>height</th>\n      <th>curb-weight</th>\n      <th>engine-size</th>\n      <th>bore</th>\n      <th>stroke</th>\n      <th>compression-ratio</th>\n      <th>horsepower</th>\n      <th>peak-rpm</th>\n      <th>city-mpg</th>\n      <th>highway-mpg</th>\n      <th>price</th>\n    </tr>\n  </thead>\n  <tbody>\n    <tr>\n      <th>count</th>\n      <td>201.000000</td>\n      <td>201.00000</td>\n      <td>201.000000</td>\n      <td>201.000000</td>\n      <td>201.000000</td>\n      <td>201.000000</td>\n      <td>201.000000</td>\n      <td>201.000000</td>\n      <td>201.000000</td>\n      <td>201.000000</td>\n      <td>201.000000</td>\n      <td>201.000000</td>\n      <td>201.000000</td>\n      <td>201.000000</td>\n      <td>201.000000</td>\n      <td>201.000000</td>\n    </tr>\n    <tr>\n      <th>mean</th>\n      <td>0.840796</td>\n      <td>122.00000</td>\n      <td>98.797015</td>\n      <td>174.200995</td>\n      <td>65.889055</td>\n      <td>53.766667</td>\n      <td>2555.666667</td>\n      <td>126.875622</td>\n      <td>3.330692</td>\n      <td>3.256874</td>\n      <td>10.164279</td>\n      <td>103.402985</td>\n      <td>5117.661692</td>\n      <td>25.179104</td>\n      <td>30.686567</td>\n      <td>13207.129353</td>\n    </tr>\n    <tr>\n      <th>std</th>\n      <td>1.254802</td>\n      <td>31.99625</td>\n      <td>6.066366</td>\n      <td>12.322175</td>\n      <td>2.101471</td>\n      <td>2.447822</td>\n      <td>517.296727</td>\n      <td>41.546834</td>\n      <td>0.268072</td>\n      <td>0.316048</td>\n      <td>4.004965</td>\n      <td>37.365650</td>\n      <td>478.113747</td>\n      <td>6.423220</td>\n      <td>6.815150</td>\n      <td>7947.066342</td>\n    </tr>\n    <tr>\n      <th>min</th>\n      <td>-2.000000</td>\n      <td>65.00000</td>\n      <td>86.600000</td>\n      <td>141.100000</td>\n      <td>60.300000</td>\n      <td>47.800000</td>\n      <td>1488.000000</td>\n      <td>61.000000</td>\n      <td>2.540000</td>\n      <td>2.070000</td>\n      <td>7.000000</td>\n      <td>48.000000</td>\n      <td>4150.000000</td>\n      <td>13.000000</td>\n      <td>16.000000</td>\n      <td>5118.000000</td>\n    </tr>\n    <tr>\n      <th>25%</th>\n      <td>0.000000</td>\n      <td>101.00000</td>\n      <td>94.500000</td>\n      <td>166.800000</td>\n      <td>64.100000</td>\n      <td>52.000000</td>\n      <td>2169.000000</td>\n      <td>98.000000</td>\n      <td>3.150000</td>\n      <td>3.110000</td>\n      <td>8.600000</td>\n      <td>70.000000</td>\n      <td>4800.000000</td>\n      <td>19.000000</td>\n      <td>25.000000</td>\n      <td>7775.000000</td>\n    </tr>\n    <tr>\n      <th>50%</th>\n      <td>1.000000</td>\n      <td>122.00000</td>\n      <td>97.000000</td>\n      <td>173.200000</td>\n      <td>65.500000</td>\n      <td>54.100000</td>\n      <td>2414.000000</td>\n      <td>120.000000</td>\n      <td>3.310000</td>\n      <td>3.290000</td>\n      <td>9.000000</td>\n      <td>95.000000</td>\n      <td>5125.000000</td>\n      <td>24.000000</td>\n      <td>30.000000</td>\n      <td>10295.000000</td>\n    </tr>\n    <tr>\n      <th>75%</th>\n      <td>2.000000</td>\n      <td>137.00000</td>\n      <td>102.400000</td>\n      <td>183.500000</td>\n      <td>66.600000</td>\n      <td>55.500000</td>\n      <td>2926.000000</td>\n      <td>141.000000</td>\n      <td>3.580000</td>\n      <td>3.410000</td>\n      <td>9.400000</td>\n      <td>116.000000</td>\n      <td>5500.000000</td>\n      <td>30.000000</td>\n      <td>34.000000</td>\n      <td>16500.000000</td>\n    </tr>\n    <tr>\n      <th>max</th>\n      <td>3.000000</td>\n      <td>256.00000</td>\n      <td>120.900000</td>\n      <td>208.100000</td>\n      <td>72.000000</td>\n      <td>59.800000</td>\n      <td>4066.000000</td>\n      <td>326.000000</td>\n      <td>3.940000</td>\n      <td>4.170000</td>\n      <td>23.000000</td>\n      <td>262.000000</td>\n      <td>6600.000000</td>\n      <td>49.000000</td>\n      <td>54.000000</td>\n      <td>45400.000000</td>\n    </tr>\n  </tbody>\n</table>\n</div>"
     },
     "metadata": {},
     "execution_count": 22
    }
   ],
   "source": [
    "df.describe()"
   ]
  },
  {
   "cell_type": "code",
   "execution_count": 23,
   "metadata": {},
   "outputs": [
    {
     "output_type": "execute_result",
     "data": {
      "text/plain": "          make fuel-type aspiration num-of-doors body-style drive-wheels  \\\ncount      201       201        201          201        201          201   \nunique      22         2          2            2          5            3   \ntop     toyota       gas        std         four      sedan          fwd   \nfreq        32       181        165          115         94          118   \n\n       engine-location engine-type num-of-cylinders fuel-system  \ncount              201         201              201         201  \nunique               2           6                7           8  \ntop              front         ohc             four        mpfi  \nfreq               198         145              157          92  ",
      "text/html": "<div>\n<style scoped>\n    .dataframe tbody tr th:only-of-type {\n        vertical-align: middle;\n    }\n\n    .dataframe tbody tr th {\n        vertical-align: top;\n    }\n\n    .dataframe thead th {\n        text-align: right;\n    }\n</style>\n<table border=\"1\" class=\"dataframe\">\n  <thead>\n    <tr style=\"text-align: right;\">\n      <th></th>\n      <th>make</th>\n      <th>fuel-type</th>\n      <th>aspiration</th>\n      <th>num-of-doors</th>\n      <th>body-style</th>\n      <th>drive-wheels</th>\n      <th>engine-location</th>\n      <th>engine-type</th>\n      <th>num-of-cylinders</th>\n      <th>fuel-system</th>\n    </tr>\n  </thead>\n  <tbody>\n    <tr>\n      <th>count</th>\n      <td>201</td>\n      <td>201</td>\n      <td>201</td>\n      <td>201</td>\n      <td>201</td>\n      <td>201</td>\n      <td>201</td>\n      <td>201</td>\n      <td>201</td>\n      <td>201</td>\n    </tr>\n    <tr>\n      <th>unique</th>\n      <td>22</td>\n      <td>2</td>\n      <td>2</td>\n      <td>2</td>\n      <td>5</td>\n      <td>3</td>\n      <td>2</td>\n      <td>6</td>\n      <td>7</td>\n      <td>8</td>\n    </tr>\n    <tr>\n      <th>top</th>\n      <td>toyota</td>\n      <td>gas</td>\n      <td>std</td>\n      <td>four</td>\n      <td>sedan</td>\n      <td>fwd</td>\n      <td>front</td>\n      <td>ohc</td>\n      <td>four</td>\n      <td>mpfi</td>\n    </tr>\n    <tr>\n      <th>freq</th>\n      <td>32</td>\n      <td>181</td>\n      <td>165</td>\n      <td>115</td>\n      <td>94</td>\n      <td>118</td>\n      <td>198</td>\n      <td>145</td>\n      <td>157</td>\n      <td>92</td>\n    </tr>\n  </tbody>\n</table>\n</div>"
     },
     "metadata": {},
     "execution_count": 23
    }
   ],
   "source": [
    "df.describe(include=['object'])"
   ]
  },
  {
   "cell_type": "code",
   "execution_count": 24,
   "metadata": {},
   "outputs": [
    {
     "output_type": "execute_result",
     "data": {
      "text/plain": "fwd    118\nrwd     75\n4wd      8\nName: drive-wheels, dtype: int64"
     },
     "metadata": {},
     "execution_count": 24
    }
   ],
   "source": [
    "df['drive-wheels'].value_counts()"
   ]
  },
  {
   "cell_type": "code",
   "execution_count": 26,
   "metadata": {},
   "outputs": [
    {
     "output_type": "execute_result",
     "data": {
      "text/plain": "<matplotlib.axes._subplots.AxesSubplot at 0x29379f6f508>"
     },
     "metadata": {},
     "execution_count": 26
    },
    {
     "output_type": "display_data",
     "data": {
      "text/plain": "<Figure size 432x288 with 1 Axes>",
      "image/svg+xml": "<?xml version=\"1.0\" encoding=\"utf-8\" standalone=\"no\"?>\r\n<!DOCTYPE svg PUBLIC \"-//W3C//DTD SVG 1.1//EN\"\r\n  \"http://www.w3.org/Graphics/SVG/1.1/DTD/svg11.dtd\">\r\n<!-- Created with matplotlib (https://matplotlib.org/) -->\r\n<svg height=\"259.729062pt\" version=\"1.1\" viewBox=\"0 0 375.2875 259.729062\" width=\"375.2875pt\" xmlns=\"http://www.w3.org/2000/svg\" xmlns:xlink=\"http://www.w3.org/1999/xlink\">\r\n <defs>\r\n  <style type=\"text/css\">\r\n*{stroke-linecap:butt;stroke-linejoin:round;}\r\n  </style>\r\n </defs>\r\n <g id=\"figure_1\">\r\n  <g id=\"patch_1\">\r\n   <path d=\"M 0 259.729062 \r\nL 375.2875 259.729062 \r\nL 375.2875 0 \r\nL 0 0 \r\nz\r\n\" style=\"fill:none;\"/>\r\n  </g>\r\n  <g id=\"axes_1\">\r\n   <g id=\"patch_2\">\r\n    <path d=\"M 33.2875 224.64 \r\nL 368.0875 224.64 \r\nL 368.0875 7.2 \r\nL 33.2875 7.2 \r\nz\r\n\" style=\"fill:#ffffff;\"/>\r\n   </g>\r\n   <g id=\"patch_3\">\r\n    <path clip-path=\"url(#pbda57b216a)\" d=\"M 61.1875 224.64 \r\nL 116.9875 224.64 \r\nL 116.9875 17.554286 \r\nL 61.1875 17.554286 \r\nz\r\n\" style=\"fill:#1f77b4;\"/>\r\n   </g>\r\n   <g id=\"patch_4\">\r\n    <path clip-path=\"url(#pbda57b216a)\" d=\"M 172.7875 224.64 \r\nL 228.5875 224.64 \r\nL 228.5875 93.017724 \r\nL 172.7875 93.017724 \r\nz\r\n\" style=\"fill:#1f77b4;\"/>\r\n   </g>\r\n   <g id=\"patch_5\">\r\n    <path clip-path=\"url(#pbda57b216a)\" d=\"M 284.3875 224.64 \r\nL 340.1875 224.64 \r\nL 340.1875 210.600291 \r\nL 284.3875 210.600291 \r\nz\r\n\" style=\"fill:#1f77b4;\"/>\r\n   </g>\r\n   <g id=\"matplotlib.axis_1\">\r\n    <g id=\"xtick_1\">\r\n     <g id=\"line2d_1\">\r\n      <defs>\r\n       <path d=\"M 0 0 \r\nL 0 3.5 \r\n\" id=\"me80bf2e445\" style=\"stroke:#000000;stroke-width:0.8;\"/>\r\n      </defs>\r\n      <g>\r\n       <use style=\"stroke:#000000;stroke-width:0.8;\" x=\"89.0875\" xlink:href=\"#me80bf2e445\" y=\"224.64\"/>\r\n      </g>\r\n     </g>\r\n     <g id=\"text_1\">\r\n      <!-- fwd -->\r\n      <defs>\r\n       <path d=\"M 37.109375 75.984375 \r\nL 37.109375 68.5 \r\nL 28.515625 68.5 \r\nQ 23.6875 68.5 21.796875 66.546875 \r\nQ 19.921875 64.59375 19.921875 59.515625 \r\nL 19.921875 54.6875 \r\nL 34.71875 54.6875 \r\nL 34.71875 47.703125 \r\nL 19.921875 47.703125 \r\nL 19.921875 0 \r\nL 10.890625 0 \r\nL 10.890625 47.703125 \r\nL 2.296875 47.703125 \r\nL 2.296875 54.6875 \r\nL 10.890625 54.6875 \r\nL 10.890625 58.5 \r\nQ 10.890625 67.625 15.140625 71.796875 \r\nQ 19.390625 75.984375 28.609375 75.984375 \r\nz\r\n\" id=\"DejaVuSans-102\"/>\r\n       <path d=\"M 4.203125 54.6875 \r\nL 13.1875 54.6875 \r\nL 24.421875 12.015625 \r\nL 35.59375 54.6875 \r\nL 46.1875 54.6875 \r\nL 57.421875 12.015625 \r\nL 68.609375 54.6875 \r\nL 77.59375 54.6875 \r\nL 63.28125 0 \r\nL 52.6875 0 \r\nL 40.921875 44.828125 \r\nL 29.109375 0 \r\nL 18.5 0 \r\nz\r\n\" id=\"DejaVuSans-119\"/>\r\n       <path d=\"M 45.40625 46.390625 \r\nL 45.40625 75.984375 \r\nL 54.390625 75.984375 \r\nL 54.390625 0 \r\nL 45.40625 0 \r\nL 45.40625 8.203125 \r\nQ 42.578125 3.328125 38.25 0.953125 \r\nQ 33.9375 -1.421875 27.875 -1.421875 \r\nQ 17.96875 -1.421875 11.734375 6.484375 \r\nQ 5.515625 14.40625 5.515625 27.296875 \r\nQ 5.515625 40.1875 11.734375 48.09375 \r\nQ 17.96875 56 27.875 56 \r\nQ 33.9375 56 38.25 53.625 \r\nQ 42.578125 51.265625 45.40625 46.390625 \r\nz\r\nM 14.796875 27.296875 \r\nQ 14.796875 17.390625 18.875 11.75 \r\nQ 22.953125 6.109375 30.078125 6.109375 \r\nQ 37.203125 6.109375 41.296875 11.75 \r\nQ 45.40625 17.390625 45.40625 27.296875 \r\nQ 45.40625 37.203125 41.296875 42.84375 \r\nQ 37.203125 48.484375 30.078125 48.484375 \r\nQ 22.953125 48.484375 18.875 42.84375 \r\nQ 14.796875 37.203125 14.796875 27.296875 \r\nz\r\n\" id=\"DejaVuSans-100\"/>\r\n      </defs>\r\n      <g transform=\"translate(91.846875 249.685312)rotate(-90)scale(0.1 -0.1)\">\r\n       <use xlink:href=\"#DejaVuSans-102\"/>\r\n       <use x=\"35.189453\" xlink:href=\"#DejaVuSans-119\"/>\r\n       <use x=\"116.976562\" xlink:href=\"#DejaVuSans-100\"/>\r\n      </g>\r\n     </g>\r\n    </g>\r\n    <g id=\"xtick_2\">\r\n     <g id=\"line2d_2\">\r\n      <g>\r\n       <use style=\"stroke:#000000;stroke-width:0.8;\" x=\"200.6875\" xlink:href=\"#me80bf2e445\" y=\"224.64\"/>\r\n      </g>\r\n     </g>\r\n     <g id=\"text_2\">\r\n      <!-- rwd -->\r\n      <defs>\r\n       <path d=\"M 41.109375 46.296875 \r\nQ 39.59375 47.171875 37.8125 47.578125 \r\nQ 36.03125 48 33.890625 48 \r\nQ 26.265625 48 22.1875 43.046875 \r\nQ 18.109375 38.09375 18.109375 28.8125 \r\nL 18.109375 0 \r\nL 9.078125 0 \r\nL 9.078125 54.6875 \r\nL 18.109375 54.6875 \r\nL 18.109375 46.1875 \r\nQ 20.953125 51.171875 25.484375 53.578125 \r\nQ 30.03125 56 36.53125 56 \r\nQ 37.453125 56 38.578125 55.875 \r\nQ 39.703125 55.765625 41.0625 55.515625 \r\nz\r\n\" id=\"DejaVuSans-114\"/>\r\n      </defs>\r\n      <g transform=\"translate(203.446875 250.2775)rotate(-90)scale(0.1 -0.1)\">\r\n       <use xlink:href=\"#DejaVuSans-114\"/>\r\n       <use x=\"41.113281\" xlink:href=\"#DejaVuSans-119\"/>\r\n       <use x=\"122.900391\" xlink:href=\"#DejaVuSans-100\"/>\r\n      </g>\r\n     </g>\r\n    </g>\r\n    <g id=\"xtick_3\">\r\n     <g id=\"line2d_3\">\r\n      <g>\r\n       <use style=\"stroke:#000000;stroke-width:0.8;\" x=\"312.2875\" xlink:href=\"#me80bf2e445\" y=\"224.64\"/>\r\n      </g>\r\n     </g>\r\n     <g id=\"text_3\">\r\n      <!-- 4wd -->\r\n      <defs>\r\n       <path d=\"M 37.796875 64.3125 \r\nL 12.890625 25.390625 \r\nL 37.796875 25.390625 \r\nz\r\nM 35.203125 72.90625 \r\nL 47.609375 72.90625 \r\nL 47.609375 25.390625 \r\nL 58.015625 25.390625 \r\nL 58.015625 17.1875 \r\nL 47.609375 17.1875 \r\nL 47.609375 0 \r\nL 37.796875 0 \r\nL 37.796875 17.1875 \r\nL 4.890625 17.1875 \r\nL 4.890625 26.703125 \r\nz\r\n\" id=\"DejaVuSans-52\"/>\r\n      </defs>\r\n      <g transform=\"translate(315.046875 252.529062)rotate(-90)scale(0.1 -0.1)\">\r\n       <use xlink:href=\"#DejaVuSans-52\"/>\r\n       <use x=\"63.623047\" xlink:href=\"#DejaVuSans-119\"/>\r\n       <use x=\"145.410156\" xlink:href=\"#DejaVuSans-100\"/>\r\n      </g>\r\n     </g>\r\n    </g>\r\n   </g>\r\n   <g id=\"matplotlib.axis_2\">\r\n    <g id=\"ytick_1\">\r\n     <g id=\"line2d_4\">\r\n      <defs>\r\n       <path d=\"M 0 0 \r\nL -3.5 0 \r\n\" id=\"m176fc26a3c\" style=\"stroke:#000000;stroke-width:0.8;\"/>\r\n      </defs>\r\n      <g>\r\n       <use style=\"stroke:#000000;stroke-width:0.8;\" x=\"33.2875\" xlink:href=\"#m176fc26a3c\" y=\"224.64\"/>\r\n      </g>\r\n     </g>\r\n     <g id=\"text_4\">\r\n      <!-- 0 -->\r\n      <defs>\r\n       <path d=\"M 31.78125 66.40625 \r\nQ 24.171875 66.40625 20.328125 58.90625 \r\nQ 16.5 51.421875 16.5 36.375 \r\nQ 16.5 21.390625 20.328125 13.890625 \r\nQ 24.171875 6.390625 31.78125 6.390625 \r\nQ 39.453125 6.390625 43.28125 13.890625 \r\nQ 47.125 21.390625 47.125 36.375 \r\nQ 47.125 51.421875 43.28125 58.90625 \r\nQ 39.453125 66.40625 31.78125 66.40625 \r\nz\r\nM 31.78125 74.21875 \r\nQ 44.046875 74.21875 50.515625 64.515625 \r\nQ 56.984375 54.828125 56.984375 36.375 \r\nQ 56.984375 17.96875 50.515625 8.265625 \r\nQ 44.046875 -1.421875 31.78125 -1.421875 \r\nQ 19.53125 -1.421875 13.0625 8.265625 \r\nQ 6.59375 17.96875 6.59375 36.375 \r\nQ 6.59375 54.828125 13.0625 64.515625 \r\nQ 19.53125 74.21875 31.78125 74.21875 \r\nz\r\n\" id=\"DejaVuSans-48\"/>\r\n      </defs>\r\n      <g transform=\"translate(19.925 228.439219)scale(0.1 -0.1)\">\r\n       <use xlink:href=\"#DejaVuSans-48\"/>\r\n      </g>\r\n     </g>\r\n    </g>\r\n    <g id=\"ytick_2\">\r\n     <g id=\"line2d_5\">\r\n      <g>\r\n       <use style=\"stroke:#000000;stroke-width:0.8;\" x=\"33.2875\" xlink:href=\"#m176fc26a3c\" y=\"189.540726\"/>\r\n      </g>\r\n     </g>\r\n     <g id=\"text_5\">\r\n      <!-- 20 -->\r\n      <defs>\r\n       <path d=\"M 19.1875 8.296875 \r\nL 53.609375 8.296875 \r\nL 53.609375 0 \r\nL 7.328125 0 \r\nL 7.328125 8.296875 \r\nQ 12.9375 14.109375 22.625 23.890625 \r\nQ 32.328125 33.6875 34.8125 36.53125 \r\nQ 39.546875 41.84375 41.421875 45.53125 \r\nQ 43.3125 49.21875 43.3125 52.78125 \r\nQ 43.3125 58.59375 39.234375 62.25 \r\nQ 35.15625 65.921875 28.609375 65.921875 \r\nQ 23.96875 65.921875 18.8125 64.3125 \r\nQ 13.671875 62.703125 7.8125 59.421875 \r\nL 7.8125 69.390625 \r\nQ 13.765625 71.78125 18.9375 73 \r\nQ 24.125 74.21875 28.421875 74.21875 \r\nQ 39.75 74.21875 46.484375 68.546875 \r\nQ 53.21875 62.890625 53.21875 53.421875 \r\nQ 53.21875 48.921875 51.53125 44.890625 \r\nQ 49.859375 40.875 45.40625 35.40625 \r\nQ 44.1875 33.984375 37.640625 27.21875 \r\nQ 31.109375 20.453125 19.1875 8.296875 \r\nz\r\n\" id=\"DejaVuSans-50\"/>\r\n      </defs>\r\n      <g transform=\"translate(13.5625 193.339945)scale(0.1 -0.1)\">\r\n       <use xlink:href=\"#DejaVuSans-50\"/>\r\n       <use x=\"63.623047\" xlink:href=\"#DejaVuSans-48\"/>\r\n      </g>\r\n     </g>\r\n    </g>\r\n    <g id=\"ytick_3\">\r\n     <g id=\"line2d_6\">\r\n      <g>\r\n       <use style=\"stroke:#000000;stroke-width:0.8;\" x=\"33.2875\" xlink:href=\"#m176fc26a3c\" y=\"154.441453\"/>\r\n      </g>\r\n     </g>\r\n     <g id=\"text_6\">\r\n      <!-- 40 -->\r\n      <g transform=\"translate(13.5625 158.240672)scale(0.1 -0.1)\">\r\n       <use xlink:href=\"#DejaVuSans-52\"/>\r\n       <use x=\"63.623047\" xlink:href=\"#DejaVuSans-48\"/>\r\n      </g>\r\n     </g>\r\n    </g>\r\n    <g id=\"ytick_4\">\r\n     <g id=\"line2d_7\">\r\n      <g>\r\n       <use style=\"stroke:#000000;stroke-width:0.8;\" x=\"33.2875\" xlink:href=\"#m176fc26a3c\" y=\"119.342179\"/>\r\n      </g>\r\n     </g>\r\n     <g id=\"text_7\">\r\n      <!-- 60 -->\r\n      <defs>\r\n       <path d=\"M 33.015625 40.375 \r\nQ 26.375 40.375 22.484375 35.828125 \r\nQ 18.609375 31.296875 18.609375 23.390625 \r\nQ 18.609375 15.53125 22.484375 10.953125 \r\nQ 26.375 6.390625 33.015625 6.390625 \r\nQ 39.65625 6.390625 43.53125 10.953125 \r\nQ 47.40625 15.53125 47.40625 23.390625 \r\nQ 47.40625 31.296875 43.53125 35.828125 \r\nQ 39.65625 40.375 33.015625 40.375 \r\nz\r\nM 52.59375 71.296875 \r\nL 52.59375 62.3125 \r\nQ 48.875 64.0625 45.09375 64.984375 \r\nQ 41.3125 65.921875 37.59375 65.921875 \r\nQ 27.828125 65.921875 22.671875 59.328125 \r\nQ 17.53125 52.734375 16.796875 39.40625 \r\nQ 19.671875 43.65625 24.015625 45.921875 \r\nQ 28.375 48.1875 33.59375 48.1875 \r\nQ 44.578125 48.1875 50.953125 41.515625 \r\nQ 57.328125 34.859375 57.328125 23.390625 \r\nQ 57.328125 12.15625 50.6875 5.359375 \r\nQ 44.046875 -1.421875 33.015625 -1.421875 \r\nQ 20.359375 -1.421875 13.671875 8.265625 \r\nQ 6.984375 17.96875 6.984375 36.375 \r\nQ 6.984375 53.65625 15.1875 63.9375 \r\nQ 23.390625 74.21875 37.203125 74.21875 \r\nQ 40.921875 74.21875 44.703125 73.484375 \r\nQ 48.484375 72.75 52.59375 71.296875 \r\nz\r\n\" id=\"DejaVuSans-54\"/>\r\n      </defs>\r\n      <g transform=\"translate(13.5625 123.141398)scale(0.1 -0.1)\">\r\n       <use xlink:href=\"#DejaVuSans-54\"/>\r\n       <use x=\"63.623047\" xlink:href=\"#DejaVuSans-48\"/>\r\n      </g>\r\n     </g>\r\n    </g>\r\n    <g id=\"ytick_5\">\r\n     <g id=\"line2d_8\">\r\n      <g>\r\n       <use style=\"stroke:#000000;stroke-width:0.8;\" x=\"33.2875\" xlink:href=\"#m176fc26a3c\" y=\"84.242906\"/>\r\n      </g>\r\n     </g>\r\n     <g id=\"text_8\">\r\n      <!-- 80 -->\r\n      <defs>\r\n       <path d=\"M 31.78125 34.625 \r\nQ 24.75 34.625 20.71875 30.859375 \r\nQ 16.703125 27.09375 16.703125 20.515625 \r\nQ 16.703125 13.921875 20.71875 10.15625 \r\nQ 24.75 6.390625 31.78125 6.390625 \r\nQ 38.8125 6.390625 42.859375 10.171875 \r\nQ 46.921875 13.96875 46.921875 20.515625 \r\nQ 46.921875 27.09375 42.890625 30.859375 \r\nQ 38.875 34.625 31.78125 34.625 \r\nz\r\nM 21.921875 38.8125 \r\nQ 15.578125 40.375 12.03125 44.71875 \r\nQ 8.5 49.078125 8.5 55.328125 \r\nQ 8.5 64.0625 14.71875 69.140625 \r\nQ 20.953125 74.21875 31.78125 74.21875 \r\nQ 42.671875 74.21875 48.875 69.140625 \r\nQ 55.078125 64.0625 55.078125 55.328125 \r\nQ 55.078125 49.078125 51.53125 44.71875 \r\nQ 48 40.375 41.703125 38.8125 \r\nQ 48.828125 37.15625 52.796875 32.3125 \r\nQ 56.78125 27.484375 56.78125 20.515625 \r\nQ 56.78125 9.90625 50.3125 4.234375 \r\nQ 43.84375 -1.421875 31.78125 -1.421875 \r\nQ 19.734375 -1.421875 13.25 4.234375 \r\nQ 6.78125 9.90625 6.78125 20.515625 \r\nQ 6.78125 27.484375 10.78125 32.3125 \r\nQ 14.796875 37.15625 21.921875 38.8125 \r\nz\r\nM 18.3125 54.390625 \r\nQ 18.3125 48.734375 21.84375 45.5625 \r\nQ 25.390625 42.390625 31.78125 42.390625 \r\nQ 38.140625 42.390625 41.71875 45.5625 \r\nQ 45.3125 48.734375 45.3125 54.390625 \r\nQ 45.3125 60.0625 41.71875 63.234375 \r\nQ 38.140625 66.40625 31.78125 66.40625 \r\nQ 25.390625 66.40625 21.84375 63.234375 \r\nQ 18.3125 60.0625 18.3125 54.390625 \r\nz\r\n\" id=\"DejaVuSans-56\"/>\r\n      </defs>\r\n      <g transform=\"translate(13.5625 88.042124)scale(0.1 -0.1)\">\r\n       <use xlink:href=\"#DejaVuSans-56\"/>\r\n       <use x=\"63.623047\" xlink:href=\"#DejaVuSans-48\"/>\r\n      </g>\r\n     </g>\r\n    </g>\r\n    <g id=\"ytick_6\">\r\n     <g id=\"line2d_9\">\r\n      <g>\r\n       <use style=\"stroke:#000000;stroke-width:0.8;\" x=\"33.2875\" xlink:href=\"#m176fc26a3c\" y=\"49.143632\"/>\r\n      </g>\r\n     </g>\r\n     <g id=\"text_9\">\r\n      <!-- 100 -->\r\n      <defs>\r\n       <path d=\"M 12.40625 8.296875 \r\nL 28.515625 8.296875 \r\nL 28.515625 63.921875 \r\nL 10.984375 60.40625 \r\nL 10.984375 69.390625 \r\nL 28.421875 72.90625 \r\nL 38.28125 72.90625 \r\nL 38.28125 8.296875 \r\nL 54.390625 8.296875 \r\nL 54.390625 0 \r\nL 12.40625 0 \r\nz\r\n\" id=\"DejaVuSans-49\"/>\r\n      </defs>\r\n      <g transform=\"translate(7.2 52.942851)scale(0.1 -0.1)\">\r\n       <use xlink:href=\"#DejaVuSans-49\"/>\r\n       <use x=\"63.623047\" xlink:href=\"#DejaVuSans-48\"/>\r\n       <use x=\"127.246094\" xlink:href=\"#DejaVuSans-48\"/>\r\n      </g>\r\n     </g>\r\n    </g>\r\n    <g id=\"ytick_7\">\r\n     <g id=\"line2d_10\">\r\n      <g>\r\n       <use style=\"stroke:#000000;stroke-width:0.8;\" x=\"33.2875\" xlink:href=\"#m176fc26a3c\" y=\"14.044358\"/>\r\n      </g>\r\n     </g>\r\n     <g id=\"text_10\">\r\n      <!-- 120 -->\r\n      <g transform=\"translate(7.2 17.843577)scale(0.1 -0.1)\">\r\n       <use xlink:href=\"#DejaVuSans-49\"/>\r\n       <use x=\"63.623047\" xlink:href=\"#DejaVuSans-50\"/>\r\n       <use x=\"127.246094\" xlink:href=\"#DejaVuSans-48\"/>\r\n      </g>\r\n     </g>\r\n    </g>\r\n   </g>\r\n   <g id=\"patch_6\">\r\n    <path d=\"M 33.2875 224.64 \r\nL 33.2875 7.2 \r\n\" style=\"fill:none;stroke:#000000;stroke-linecap:square;stroke-linejoin:miter;stroke-width:0.8;\"/>\r\n   </g>\r\n   <g id=\"patch_7\">\r\n    <path d=\"M 368.0875 224.64 \r\nL 368.0875 7.2 \r\n\" style=\"fill:none;stroke:#000000;stroke-linecap:square;stroke-linejoin:miter;stroke-width:0.8;\"/>\r\n   </g>\r\n   <g id=\"patch_8\">\r\n    <path d=\"M 33.2875 224.64 \r\nL 368.0875 224.64 \r\n\" style=\"fill:none;stroke:#000000;stroke-linecap:square;stroke-linejoin:miter;stroke-width:0.8;\"/>\r\n   </g>\r\n   <g id=\"patch_9\">\r\n    <path d=\"M 33.2875 7.2 \r\nL 368.0875 7.2 \r\n\" style=\"fill:none;stroke:#000000;stroke-linecap:square;stroke-linejoin:miter;stroke-width:0.8;\"/>\r\n   </g>\r\n  </g>\r\n </g>\r\n <defs>\r\n  <clipPath id=\"pbda57b216a\">\r\n   <rect height=\"217.44\" width=\"334.8\" x=\"33.2875\" y=\"7.2\"/>\r\n  </clipPath>\r\n </defs>\r\n</svg>\r\n",
      "image/png": "[encoded data removed]"
     },
     "metadata": {
      "needs_background": "light"
     }
    }
   ],
   "source": [
    "df['drive-wheels'].value_counts().plot(kind='bar')"
   ]
  },
  {
   "cell_type": "markdown",
   "metadata": {},
   "source": [
    "## Groups"
   ]
  },
  {
   "cell_type": "code",
   "execution_count": 27,
   "metadata": {},
   "outputs": [],
   "source": [
    "df_wheels = df[['drive-wheels','body-style','price']]"
   ]
  },
  {
   "cell_type": "code",
   "execution_count": 29,
   "metadata": {},
   "outputs": [
    {
     "output_type": "execute_result",
     "data": {
      "text/plain": "                     price\ndrive-wheels              \n4wd           10241.000000\nfwd            9244.779661\nrwd           19757.613333",
      "text/html": "<div>\n<style scoped>\n    .dataframe tbody tr th:only-of-type {\n        vertical-align: middle;\n    }\n\n    .dataframe tbody tr th {\n        vertical-align: top;\n    }\n\n    .dataframe thead th {\n        text-align: right;\n    }\n</style>\n<table border=\"1\" class=\"dataframe\">\n  <thead>\n    <tr style=\"text-align: right;\">\n      <th></th>\n      <th>price</th>\n    </tr>\n    <tr>\n      <th>drive-wheels</th>\n      <th></th>\n    </tr>\n  </thead>\n  <tbody>\n    <tr>\n      <th>4wd</th>\n      <td>10241.000000</td>\n    </tr>\n    <tr>\n      <th>fwd</th>\n      <td>9244.779661</td>\n    </tr>\n    <tr>\n      <th>rwd</th>\n      <td>19757.613333</td>\n    </tr>\n  </tbody>\n</table>\n</div>"
     },
     "metadata": {},
     "execution_count": 29
    }
   ],
   "source": [
    "df_wheels.groupby('drive-wheels').mean()"
   ]
  },
  {
   "cell_type": "code",
   "execution_count": 35,
   "metadata": {},
   "outputs": [
    {
     "output_type": "execute_result",
     "data": {
      "text/plain": "                                 price\ndrive-wheels body-style               \n4wd          hatchback     7603.000000\n             sedan        12647.333333\n             wagon         9095.750000\nfwd          convertible  11595.000000\n             hardtop       8249.000000\n             hatchback     8396.387755\n             sedan         9811.800000\n             wagon         9997.333333\nrwd          convertible  23949.600000\n             hardtop      24202.714286\n             hatchback    14337.777778\n             sedan        21711.833333\n             wagon        16994.222222",
      "text/html": "<div>\n<style scoped>\n    .dataframe tbody tr th:only-of-type {\n        vertical-align: middle;\n    }\n\n    .dataframe tbody tr th {\n        vertical-align: top;\n    }\n\n    .dataframe thead th {\n        text-align: right;\n    }\n</style>\n<table border=\"1\" class=\"dataframe\">\n  <thead>\n    <tr style=\"text-align: right;\">\n      <th></th>\n      <th></th>\n      <th>price</th>\n    </tr>\n    <tr>\n      <th>drive-wheels</th>\n      <th>body-style</th>\n      <th></th>\n    </tr>\n  </thead>\n  <tbody>\n    <tr>\n      <th rowspan=\"3\" valign=\"top\">4wd</th>\n      <th>hatchback</th>\n      <td>7603.000000</td>\n    </tr>\n    <tr>\n      <th>sedan</th>\n      <td>12647.333333</td>\n    </tr>\n    <tr>\n      <th>wagon</th>\n      <td>9095.750000</td>\n    </tr>\n    <tr>\n      <th rowspan=\"5\" valign=\"top\">fwd</th>\n      <th>convertible</th>\n      <td>11595.000000</td>\n    </tr>\n    <tr>\n      <th>hardtop</th>\n      <td>8249.000000</td>\n    </tr>\n    <tr>\n      <th>hatchback</th>\n      <td>8396.387755</td>\n    </tr>\n    <tr>\n      <th>sedan</th>\n      <td>9811.800000</td>\n    </tr>\n    <tr>\n      <th>wagon</th>\n      <td>9997.333333</td>\n    </tr>\n    <tr>\n      <th rowspan=\"5\" valign=\"top\">rwd</th>\n      <th>convertible</th>\n      <td>23949.600000</td>\n    </tr>\n    <tr>\n      <th>hardtop</th>\n      <td>24202.714286</td>\n    </tr>\n    <tr>\n      <th>hatchback</th>\n      <td>14337.777778</td>\n    </tr>\n    <tr>\n      <th>sedan</th>\n      <td>21711.833333</td>\n    </tr>\n    <tr>\n      <th>wagon</th>\n      <td>16994.222222</td>\n    </tr>\n  </tbody>\n</table>\n</div>"
     },
     "metadata": {},
     "execution_count": 35
    }
   ],
   "source": [
    "df_wheels.groupby(['drive-wheels','body-style']).mean()"
   ]
  },
  {
   "cell_type": "code",
   "execution_count": 33,
   "metadata": {},
   "outputs": [
    {
     "output_type": "execute_result",
     "data": {
      "text/plain": "                     price                            \ndrive-wheels           4wd           fwd           rwd\nbody-style                                            \nconvertible            NaN  11595.000000  23949.600000\nhardtop                NaN   8249.000000  24202.714286\nhatchback      7603.000000   8396.387755  14337.777778\nsedan         12647.333333   9811.800000  21711.833333\nwagon          9095.750000   9997.333333  16994.222222",
      "text/html": "<div>\n<style scoped>\n    .dataframe tbody tr th:only-of-type {\n        vertical-align: middle;\n    }\n\n    .dataframe tbody tr th {\n        vertical-align: top;\n    }\n\n    .dataframe thead tr th {\n        text-align: left;\n    }\n\n    .dataframe thead tr:last-of-type th {\n        text-align: right;\n    }\n</style>\n<table border=\"1\" class=\"dataframe\">\n  <thead>\n    <tr>\n      <th></th>\n      <th colspan=\"3\" halign=\"left\">price</th>\n    </tr>\n    <tr>\n      <th>drive-wheels</th>\n      <th>4wd</th>\n      <th>fwd</th>\n      <th>rwd</th>\n    </tr>\n    <tr>\n      <th>body-style</th>\n      <th></th>\n      <th></th>\n      <th></th>\n    </tr>\n  </thead>\n  <tbody>\n    <tr>\n      <th>convertible</th>\n      <td>NaN</td>\n      <td>11595.000000</td>\n      <td>23949.600000</td>\n    </tr>\n    <tr>\n      <th>hardtop</th>\n      <td>NaN</td>\n      <td>8249.000000</td>\n      <td>24202.714286</td>\n    </tr>\n    <tr>\n      <th>hatchback</th>\n      <td>7603.000000</td>\n      <td>8396.387755</td>\n      <td>14337.777778</td>\n    </tr>\n    <tr>\n      <th>sedan</th>\n      <td>12647.333333</td>\n      <td>9811.800000</td>\n      <td>21711.833333</td>\n    </tr>\n    <tr>\n      <th>wagon</th>\n      <td>9095.750000</td>\n      <td>9997.333333</td>\n      <td>16994.222222</td>\n    </tr>\n  </tbody>\n</table>\n</div>"
     },
     "metadata": {},
     "execution_count": 33
    }
   ],
   "source": [
    "wheel_body_df = df_wheels.groupby(['drive-wheels','body-style']).mean().reset_index()\n",
    "wheel_body_df.pivot(index='body-style',columns='drive-wheels')"
   ]
  },
  {
   "cell_type": "markdown",
   "metadata": {},
   "source": [
    "## p-value\n",
    "<p>What is this P-value? The P-value is the probability value that the correlation between these two variables is statistically significant. Normally, we choose a significance level of 0.05, which means that we are 95% confident that the correlation between the variables is significant.</p>\n",
    "\n",
    "By convention, when the\n",
    "<ul>\n",
    "    <li>p-value is < 0.001: we say there is strong evidence that the correlation is significant.</li>\n",
    "    <li>the p-value is < 0.05: there is moderate evidence that the correlation is significant.</li>\n",
    "    <li>the p-value is < 0.1: there is weak evidence that the correlation is significant.</li>\n",
    "    <li>the p-value is > 0.1: there is no evidence that the correlation is significant.</li>\n",
    "</ul>"
   ]
  },
  {
   "cell_type": "code",
   "execution_count": 36,
   "metadata": {},
   "outputs": [],
   "source": [
    "from scipy import stats"
   ]
  },
  {
   "cell_type": "code",
   "execution_count": 38,
   "metadata": {},
   "outputs": [],
   "source": [
    "p_coef , p_value = stats.pearsonr(df['wheel-base'],df['price'])"
   ]
  },
  {
   "cell_type": "code",
   "execution_count": 40,
   "metadata": {},
   "outputs": [
    {
     "output_type": "stream",
     "name": "stdout",
     "text": "this column is statistically significant 8.076488270732873e-20\n"
    }
   ],
   "source": [
    "if p_value < .05:\n",
    "    print(f\"this column is statistically significant {p_value}\")"
   ]
  },
  {
   "cell_type": "code",
   "execution_count": 41,
   "metadata": {},
   "outputs": [
    {
     "output_type": "stream",
     "name": "stdout",
     "text": "this column is statistically significant 8.016477466157846e-30\n"
    }
   ],
   "source": [
    "p_coef , p_value = stats.pearsonr(df['length'],df['price'])\n",
    "if p_value < .05:\n",
    "    print(f\"this column is statistically significant {p_value}\")"
   ]
  },
  {
   "cell_type": "markdown",
   "metadata": {},
   "source": [
    "## ANOVA - analysis of variance\n",
    "<p>The Analysis of Variance  (ANOVA) is a statistical method used to test whether there are significant differences between the means of two or more groups. ANOVA returns two parameters:</p>\n",
    "\n",
    "<p><b>F-test score</b>: ANOVA assumes the means of all groups are the same, calculates how much the actual means deviate from the assumption, and reports it as the F-test score. A larger score means there is a larger difference between the means.</p>\n",
    "\n",
    "<p><b>P-value</b>:  P-value tells how statistically significant is our calculated score value.</p>\n",
    "\n",
    "<p>If our price variable is strongly correlated with the variable we are analyzing, expect ANOVA to return a sizeable F-test score and a small p-value.</p>"
   ]
  },
  {
   "cell_type": "code",
   "execution_count": 47,
   "metadata": {},
   "outputs": [
    {
     "output_type": "execute_result",
     "data": {
      "text/plain": "3      13950\n5      15250\n6      17710\n7      18920\n8      23875\n       ...  \n189    11595\n190     9980\n191    13295\n192    13845\n193    12290\nName: price, Length: 118, dtype: int64"
     },
     "metadata": {},
     "execution_count": 47
    }
   ],
   "source": [
    "df_wheels.groupby('drive-wheels').get_group('fwd')['price']"
   ]
  },
  {
   "cell_type": "code",
   "execution_count": 49,
   "metadata": {},
   "outputs": [],
   "source": [
    "f_val , p_value = stats.f_oneway(df_wheels.groupby('drive-wheels').get_group('fwd')['price'],\n",
    "                                 df_wheels.groupby('drive-wheels').get_group('4wd')['price'],\n",
    "                                 df_wheels.groupby('drive-wheels').get_group('rwd')['price'],)"
   ]
  },
  {
   "cell_type": "code",
   "execution_count": 51,
   "metadata": {},
   "outputs": [
    {
     "output_type": "stream",
     "name": "stdout",
     "text": "f-test-score : 67.95406500780398, p_value : 3.3945443577151245e-23\n"
    }
   ],
   "source": [
    "print(f'f-test-score : {f_val}, p_value : {p_value}')"
   ]
  },
  {
   "cell_type": "code",
   "execution_count": 54,
   "metadata": {},
   "outputs": [
    {
     "output_type": "stream",
     "name": "stdout",
     "text": "f-test-score : 130.5533160959111, p_value : 2.2355306355677845e-23\n"
    }
   ],
   "source": [
    "f_val , p_value = stats.f_oneway(df_wheels.groupby('drive-wheels').get_group('fwd')['price'],\n",
    "                                 df_wheels.groupby('drive-wheels').get_group('rwd')['price'],)\n",
    "print(f'f-test-score : {f_val}, p_value : {p_value}')"
   ]
  },
  {
   "cell_type": "code",
   "execution_count": 55,
   "metadata": {},
   "outputs": [
    {
     "output_type": "stream",
     "name": "stdout",
     "text": "f-test-score : 8.580681368924756, p_value : 0.004411492211225333\n"
    }
   ],
   "source": [
    "f_val , p_value = stats.f_oneway(df_wheels.groupby('drive-wheels').get_group('4wd')['price'],\n",
    "                                 df_wheels.groupby('drive-wheels').get_group('rwd')['price'],)\n",
    "print(f'f-test-score : {f_val}, p_value : {p_value}')"
   ]
  },
  {
   "cell_type": "markdown",
   "metadata": {},
   "source": [
    "# Conclusion : Important columns\n",
    "- Length\n",
    "- Width\n",
    "- Curb-weight\n",
    "- Engine-size\n",
    "- Horsepower\n",
    "- City-mpg\n",
    "- Highway-mpg\n",
    "- Wheel-base\n",
    "- Bore\n",
    "- Drive-wheels"
   ]
  },
  {
   "cell_type": "code",
   "execution_count": null,
   "metadata": {},
   "outputs": [],
   "source": []
  }
 ],
 "metadata": {
  "language_info": {
   "codemirror_mode": {
    "name": "ipython",
    "version": 3
   },
   "file_extension": ".py",
   "mimetype": "text/x-python",
   "name": "python",
   "nbconvert_exporter": "python",
   "pygments_lexer": "ipython3",
   "version": "3.7.6-final"
  },
  "orig_nbformat": 2,
  "kernelspec": {
   "name": "python3",
   "display_name": "Python 3"
  }
 },
 "nbformat": 4,
 "nbformat_minor": 2
}