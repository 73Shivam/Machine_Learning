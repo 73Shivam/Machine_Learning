{
 "cells": [
  {
   "cell_type": "code",
   "execution_count": 1,
   "metadata": {},
   "outputs": [],
   "source": [
    "import pandas as pd \n",
    "import numpy as np\n",
    "import matplotlib.pyplot as plt"
   ]
  },
  {
   "cell_type": "code",
   "execution_count": 2,
   "metadata": {},
   "outputs": [],
   "source": [
    "import scipy.cluster.hierarchy as sch"
   ]
  },
  {
   "cell_type": "code",
   "execution_count": 3,
   "metadata": {},
   "outputs": [],
   "source": [
    "df = pd.read_csv('datasets/Mall_Customers.csv')"
   ]
  },
  {
   "cell_type": "code",
   "execution_count": 4,
   "metadata": {},
   "outputs": [
    {
     "output_type": "execute_result",
     "data": {
      "text/plain": "Index(['CustomerID', 'Genre', 'Age', 'Annual Income (k$)',\n       'Spending Score (1-100)'],\n      dtype='object')"
     },
     "metadata": {},
     "execution_count": 4
    }
   ],
   "source": [
    "df.columns"
   ]
  },
  {
   "cell_type": "code",
   "execution_count": 5,
   "metadata": {},
   "outputs": [],
   "source": [
    "X = df[['Annual Income (k$)','Spending Score (1-100)']]"
   ]
  },
  {
   "cell_type": "code",
   "execution_count": 9,
   "metadata": {},
   "outputs": [
    {
     "output_type": "display_data",
     "data": {
      "text/plain": "<Figure size 720x576 with 1 Axes>",
      "image/svg+xml": "<?xml version=\"1.0\" encoding=\"utf-8\" standalone=\"no\"?>\r\n<!DOCTYPE svg PUBLIC \"-//W3C//DTD SVG 1.1//EN\"\r\n  \"http://www.w3.org/Graphics/SVG/1.1/DTD/svg11.dtd\">\r\n<!-- Created with matplotlib (https://matplotlib.org/) -->\r\n<svg height=\"465.82375pt\" version=\"1.1\" viewBox=\"0 0 599.512031 465.82375\" width=\"599.512031pt\" xmlns=\"http://www.w3.org/2000/svg\" xmlns:xlink=\"http://www.w3.org/1999/xlink\">\r\n <defs>\r\n  <style type=\"text/css\">\r\n*{stroke-linecap:butt;stroke-linejoin:round;}\r\n  </style>\r\n </defs>\r\n <g id=\"figure_1\">\r\n  <g id=\"patch_1\">\r\n   <path d=\"M 0 465.82375 \r\nL 599.512031 465.82375 \r\nL 599.512031 0 \r\nL 0 0 \r\nz\r\n\" style=\"fill:none;\"/>\r\n  </g>\r\n  <g id=\"axes_1\">\r\n   <g id=\"patch_2\">\r\n    <path d=\"M 33.2875 442.08 \r\nL 591.2875 442.08 \r\nL 591.2875 7.2 \r\nL 33.2875 7.2 \r\nz\r\n\" style=\"fill:#ffffff;\"/>\r\n   </g>\r\n   <g id=\"matplotlib.axis_1\">\r\n    <g id=\"xtick_1\">\r\n     <g id=\"line2d_1\">\r\n      <path clip-path=\"url(#pd8a31b40e0)\" d=\"M 34.6825 442.08 \r\nL 34.6825 7.2 \r\n\" style=\"fill:none;stroke:#b0b0b0;stroke-linecap:square;stroke-width:0.8;\"/>\r\n     </g>\r\n     <g id=\"text_1\">\r\n      <!-- 1 -->\r\n      <defs>\r\n       <path d=\"M 12.40625 8.296875 \r\nL 28.515625 8.296875 \r\nL 28.515625 63.921875 \r\nL 10.984375 60.40625 \r\nL 10.984375 69.390625 \r\nL 28.421875 72.90625 \r\nL 38.28125 72.90625 \r\nL 38.28125 8.296875 \r\nL 54.390625 8.296875 \r\nL 54.390625 0 \r\nL 12.40625 0 \r\nz\r\n\" id=\"DejaVuSans-49\"/>\r\n      </defs>\r\n      <g transform=\"translate(36.062188 452.26125)rotate(-90)scale(0.05 -0.05)\">\r\n       <use xlink:href=\"#DejaVuSans-49\"/>\r\n      </g>\r\n     </g>\r\n    </g>\r\n    <g id=\"xtick_2\">\r\n     <g id=\"line2d_2\">\r\n      <path clip-path=\"url(#pd8a31b40e0)\" d=\"M 37.4725 442.08 \r\nL 37.4725 7.2 \r\n\" style=\"fill:none;stroke:#b0b0b0;stroke-linecap:square;stroke-width:0.8;\"/>\r\n     </g>\r\n     <g id=\"text_2\">\r\n      <!-- 3 -->\r\n      <defs>\r\n       <path d=\"M 40.578125 39.3125 \r\nQ 47.65625 37.796875 51.625 33 \r\nQ 55.609375 28.21875 55.609375 21.1875 \r\nQ 55.609375 10.40625 48.1875 4.484375 \r\nQ 40.765625 -1.421875 27.09375 -1.421875 \r\nQ 22.515625 -1.421875 17.65625 -0.515625 \r\nQ 12.796875 0.390625 7.625 2.203125 \r\nL 7.625 11.71875 \r\nQ 11.71875 9.328125 16.59375 8.109375 \r\nQ 21.484375 6.890625 26.8125 6.890625 \r\nQ 36.078125 6.890625 40.9375 10.546875 \r\nQ 45.796875 14.203125 45.796875 21.1875 \r\nQ 45.796875 27.640625 41.28125 31.265625 \r\nQ 36.765625 34.90625 28.71875 34.90625 \r\nL 20.21875 34.90625 \r\nL 20.21875 43.015625 \r\nL 29.109375 43.015625 \r\nQ 36.375 43.015625 40.234375 45.921875 \r\nQ 44.09375 48.828125 44.09375 54.296875 \r\nQ 44.09375 59.90625 40.109375 62.90625 \r\nQ 36.140625 65.921875 28.71875 65.921875 \r\nQ 24.65625 65.921875 20.015625 65.03125 \r\nQ 15.375 64.15625 9.8125 62.3125 \r\nL 9.8125 71.09375 \r\nQ 15.4375 72.65625 20.34375 73.4375 \r\nQ 25.25 74.21875 29.59375 74.21875 \r\nQ 40.828125 74.21875 47.359375 69.109375 \r\nQ 53.90625 64.015625 53.90625 55.328125 \r\nQ 53.90625 49.265625 50.4375 45.09375 \r\nQ 46.96875 40.921875 40.578125 39.3125 \r\nz\r\n\" id=\"DejaVuSans-51\"/>\r\n      </defs>\r\n      <g transform=\"translate(38.852188 452.26125)rotate(-90)scale(0.05 -0.05)\">\r\n       <use xlink:href=\"#DejaVuSans-51\"/>\r\n      </g>\r\n     </g>\r\n    </g>\r\n    <g id=\"xtick_3\">\r\n     <g id=\"line2d_3\">\r\n      <path clip-path=\"url(#pd8a31b40e0)\" d=\"M 40.2625 442.08 \r\nL 40.2625 7.2 \r\n\" style=\"fill:none;stroke:#b0b0b0;stroke-linecap:square;stroke-width:0.8;\"/>\r\n     </g>\r\n     <g id=\"text_3\">\r\n      <!-- 5 -->\r\n      <defs>\r\n       <path d=\"M 10.796875 72.90625 \r\nL 49.515625 72.90625 \r\nL 49.515625 64.59375 \r\nL 19.828125 64.59375 \r\nL 19.828125 46.734375 \r\nQ 21.96875 47.46875 24.109375 47.828125 \r\nQ 26.265625 48.1875 28.421875 48.1875 \r\nQ 40.625 48.1875 47.75 41.5 \r\nQ 54.890625 34.8125 54.890625 23.390625 \r\nQ 54.890625 11.625 47.5625 5.09375 \r\nQ 40.234375 -1.421875 26.90625 -1.421875 \r\nQ 22.3125 -1.421875 17.546875 -0.640625 \r\nQ 12.796875 0.140625 7.71875 1.703125 \r\nL 7.71875 11.625 \r\nQ 12.109375 9.234375 16.796875 8.0625 \r\nQ 21.484375 6.890625 26.703125 6.890625 \r\nQ 35.15625 6.890625 40.078125 11.328125 \r\nQ 45.015625 15.765625 45.015625 23.390625 \r\nQ 45.015625 31 40.078125 35.4375 \r\nQ 35.15625 39.890625 26.703125 39.890625 \r\nQ 22.75 39.890625 18.8125 39.015625 \r\nQ 14.890625 38.140625 10.796875 36.28125 \r\nz\r\n\" id=\"DejaVuSans-53\"/>\r\n      </defs>\r\n      <g transform=\"translate(41.642188 452.26125)rotate(-90)scale(0.05 -0.05)\">\r\n       <use xlink:href=\"#DejaVuSans-53\"/>\r\n      </g>\r\n     </g>\r\n    </g>\r\n    <g id=\"xtick_4\">\r\n     <g id=\"line2d_4\">\r\n      <path clip-path=\"url(#pd8a31b40e0)\" d=\"M 43.0525 442.08 \r\nL 43.0525 7.2 \r\n\" style=\"fill:none;stroke:#b0b0b0;stroke-linecap:square;stroke-width:0.8;\"/>\r\n     </g>\r\n     <g id=\"text_4\">\r\n      <!-- 13 -->\r\n      <g transform=\"translate(44.432188 455.4425)rotate(-90)scale(0.05 -0.05)\">\r\n       <use xlink:href=\"#DejaVuSans-49\"/>\r\n       <use x=\"63.623047\" xlink:href=\"#DejaVuSans-51\"/>\r\n      </g>\r\n     </g>\r\n    </g>\r\n    <g id=\"xtick_5\">\r\n     <g id=\"line2d_5\">\r\n      <path clip-path=\"url(#pd8a31b40e0)\" d=\"M 45.8425 442.08 \r\nL 45.8425 7.2 \r\n\" style=\"fill:none;stroke:#b0b0b0;stroke-linecap:square;stroke-width:0.8;\"/>\r\n     </g>\r\n     <g id=\"text_5\">\r\n      <!-- 15 -->\r\n      <g transform=\"translate(47.222188 455.4425)rotate(-90)scale(0.05 -0.05)\">\r\n       <use xlink:href=\"#DejaVuSans-49\"/>\r\n       <use x=\"63.623047\" xlink:href=\"#DejaVuSans-53\"/>\r\n      </g>\r\n     </g>\r\n    </g>\r\n    <g id=\"xtick_6\">\r\n     <g id=\"line2d_6\">\r\n      <path clip-path=\"url(#pd8a31b40e0)\" d=\"M 48.6325 442.08 \r\nL 48.6325 7.2 \r\n\" style=\"fill:none;stroke:#b0b0b0;stroke-linecap:square;stroke-width:0.8;\"/>\r\n     </g>\r\n     <g id=\"text_6\">\r\n      <!-- 37 -->\r\n      <defs>\r\n       <path d=\"M 8.203125 72.90625 \r\nL 55.078125 72.90625 \r\nL 55.078125 68.703125 \r\nL 28.609375 0 \r\nL 18.3125 0 \r\nL 43.21875 64.59375 \r\nL 8.203125 64.59375 \r\nz\r\n\" id=\"DejaVuSans-55\"/>\r\n      </defs>\r\n      <g transform=\"translate(50.012188 455.4425)rotate(-90)scale(0.05 -0.05)\">\r\n       <use xlink:href=\"#DejaVuSans-51\"/>\r\n       <use x=\"63.623047\" xlink:href=\"#DejaVuSans-55\"/>\r\n      </g>\r\n     </g>\r\n    </g>\r\n    <g id=\"xtick_7\">\r\n     <g id=\"line2d_7\">\r\n      <path clip-path=\"url(#pd8a31b40e0)\" d=\"M 51.4225 442.08 \r\nL 51.4225 7.2 \r\n\" style=\"fill:none;stroke:#b0b0b0;stroke-linecap:square;stroke-width:0.8;\"/>\r\n     </g>\r\n     <g id=\"text_7\">\r\n      <!-- 39 -->\r\n      <defs>\r\n       <path d=\"M 10.984375 1.515625 \r\nL 10.984375 10.5 \r\nQ 14.703125 8.734375 18.5 7.8125 \r\nQ 22.3125 6.890625 25.984375 6.890625 \r\nQ 35.75 6.890625 40.890625 13.453125 \r\nQ 46.046875 20.015625 46.78125 33.40625 \r\nQ 43.953125 29.203125 39.59375 26.953125 \r\nQ 35.25 24.703125 29.984375 24.703125 \r\nQ 19.046875 24.703125 12.671875 31.3125 \r\nQ 6.296875 37.9375 6.296875 49.421875 \r\nQ 6.296875 60.640625 12.9375 67.421875 \r\nQ 19.578125 74.21875 30.609375 74.21875 \r\nQ 43.265625 74.21875 49.921875 64.515625 \r\nQ 56.59375 54.828125 56.59375 36.375 \r\nQ 56.59375 19.140625 48.40625 8.859375 \r\nQ 40.234375 -1.421875 26.421875 -1.421875 \r\nQ 22.703125 -1.421875 18.890625 -0.6875 \r\nQ 15.09375 0.046875 10.984375 1.515625 \r\nz\r\nM 30.609375 32.421875 \r\nQ 37.25 32.421875 41.125 36.953125 \r\nQ 45.015625 41.5 45.015625 49.421875 \r\nQ 45.015625 57.28125 41.125 61.84375 \r\nQ 37.25 66.40625 30.609375 66.40625 \r\nQ 23.96875 66.40625 20.09375 61.84375 \r\nQ 16.21875 57.28125 16.21875 49.421875 \r\nQ 16.21875 41.5 20.09375 36.953125 \r\nQ 23.96875 32.421875 30.609375 32.421875 \r\nz\r\n\" id=\"DejaVuSans-57\"/>\r\n      </defs>\r\n      <g transform=\"translate(52.802188 455.4425)rotate(-90)scale(0.05 -0.05)\">\r\n       <use xlink:href=\"#DejaVuSans-51\"/>\r\n       <use x=\"63.623047\" xlink:href=\"#DejaVuSans-57\"/>\r\n      </g>\r\n     </g>\r\n    </g>\r\n    <g id=\"xtick_8\">\r\n     <g id=\"line2d_8\">\r\n      <path clip-path=\"url(#pd8a31b40e0)\" d=\"M 54.2125 442.08 \r\nL 54.2125 7.2 \r\n\" style=\"fill:none;stroke:#b0b0b0;stroke-linecap:square;stroke-width:0.8;\"/>\r\n     </g>\r\n     <g id=\"text_8\">\r\n      <!-- 27 -->\r\n      <defs>\r\n       <path d=\"M 19.1875 8.296875 \r\nL 53.609375 8.296875 \r\nL 53.609375 0 \r\nL 7.328125 0 \r\nL 7.328125 8.296875 \r\nQ 12.9375 14.109375 22.625 23.890625 \r\nQ 32.328125 33.6875 34.8125 36.53125 \r\nQ 39.546875 41.84375 41.421875 45.53125 \r\nQ 43.3125 49.21875 43.3125 52.78125 \r\nQ 43.3125 58.59375 39.234375 62.25 \r\nQ 35.15625 65.921875 28.609375 65.921875 \r\nQ 23.96875 65.921875 18.8125 64.3125 \r\nQ 13.671875 62.703125 7.8125 59.421875 \r\nL 7.8125 69.390625 \r\nQ 13.765625 71.78125 18.9375 73 \r\nQ 24.125 74.21875 28.421875 74.21875 \r\nQ 39.75 74.21875 46.484375 68.546875 \r\nQ 53.21875 62.890625 53.21875 53.421875 \r\nQ 53.21875 48.921875 51.53125 44.890625 \r\nQ 49.859375 40.875 45.40625 35.40625 \r\nQ 44.1875 33.984375 37.640625 27.21875 \r\nQ 31.109375 20.453125 19.1875 8.296875 \r\nz\r\n\" id=\"DejaVuSans-50\"/>\r\n      </defs>\r\n      <g transform=\"translate(55.592188 455.4425)rotate(-90)scale(0.05 -0.05)\">\r\n       <use xlink:href=\"#DejaVuSans-50\"/>\r\n       <use x=\"63.623047\" xlink:href=\"#DejaVuSans-55\"/>\r\n      </g>\r\n     </g>\r\n    </g>\r\n    <g id=\"xtick_9\">\r\n     <g id=\"line2d_9\">\r\n      <path clip-path=\"url(#pd8a31b40e0)\" d=\"M 57.0025 442.08 \r\nL 57.0025 7.2 \r\n\" style=\"fill:none;stroke:#b0b0b0;stroke-linecap:square;stroke-width:0.8;\"/>\r\n     </g>\r\n     <g id=\"text_9\">\r\n      <!-- 9 -->\r\n      <g transform=\"translate(58.382188 452.26125)rotate(-90)scale(0.05 -0.05)\">\r\n       <use xlink:href=\"#DejaVuSans-57\"/>\r\n      </g>\r\n     </g>\r\n    </g>\r\n    <g id=\"xtick_10\">\r\n     <g id=\"line2d_10\">\r\n      <path clip-path=\"url(#pd8a31b40e0)\" d=\"M 59.7925 442.08 \r\nL 59.7925 7.2 \r\n\" style=\"fill:none;stroke:#b0b0b0;stroke-linecap:square;stroke-width:0.8;\"/>\r\n     </g>\r\n     <g id=\"text_10\">\r\n      <!-- 17 -->\r\n      <g transform=\"translate(61.172188 455.4425)rotate(-90)scale(0.05 -0.05)\">\r\n       <use xlink:href=\"#DejaVuSans-49\"/>\r\n       <use x=\"63.623047\" xlink:href=\"#DejaVuSans-55\"/>\r\n      </g>\r\n     </g>\r\n    </g>\r\n    <g id=\"xtick_11\">\r\n     <g id=\"line2d_11\">\r\n      <path clip-path=\"url(#pd8a31b40e0)\" d=\"M 62.5825 442.08 \r\nL 62.5825 7.2 \r\n\" style=\"fill:none;stroke:#b0b0b0;stroke-linecap:square;stroke-width:0.8;\"/>\r\n     </g>\r\n     <g id=\"text_11\">\r\n      <!-- 31 -->\r\n      <g transform=\"translate(63.962188 455.4425)rotate(-90)scale(0.05 -0.05)\">\r\n       <use xlink:href=\"#DejaVuSans-51\"/>\r\n       <use x=\"63.623047\" xlink:href=\"#DejaVuSans-49\"/>\r\n      </g>\r\n     </g>\r\n    </g>\r\n    <g id=\"xtick_12\">\r\n     <g id=\"line2d_12\">\r\n      <path clip-path=\"url(#pd8a31b40e0)\" d=\"M 65.3725 442.08 \r\nL 65.3725 7.2 \r\n\" style=\"fill:none;stroke:#b0b0b0;stroke-linecap:square;stroke-width:0.8;\"/>\r\n     </g>\r\n     <g id=\"text_12\">\r\n      <!-- 21 -->\r\n      <g transform=\"translate(66.752188 455.4425)rotate(-90)scale(0.05 -0.05)\">\r\n       <use xlink:href=\"#DejaVuSans-50\"/>\r\n       <use x=\"63.623047\" xlink:href=\"#DejaVuSans-49\"/>\r\n      </g>\r\n     </g>\r\n    </g>\r\n    <g id=\"xtick_13\">\r\n     <g id=\"line2d_13\">\r\n      <path clip-path=\"url(#pd8a31b40e0)\" d=\"M 68.1625 442.08 \r\nL 68.1625 7.2 \r\n\" style=\"fill:none;stroke:#b0b0b0;stroke-linecap:square;stroke-width:0.8;\"/>\r\n     </g>\r\n     <g id=\"text_13\">\r\n      <!-- 23 -->\r\n      <g transform=\"translate(69.542188 455.4425)rotate(-90)scale(0.05 -0.05)\">\r\n       <use xlink:href=\"#DejaVuSans-50\"/>\r\n       <use x=\"63.623047\" xlink:href=\"#DejaVuSans-51\"/>\r\n      </g>\r\n     </g>\r\n    </g>\r\n    <g id=\"xtick_14\">\r\n     <g id=\"line2d_14\">\r\n      <path clip-path=\"url(#pd8a31b40e0)\" d=\"M 70.9525 442.08 \r\nL 70.9525 7.2 \r\n\" style=\"fill:none;stroke:#b0b0b0;stroke-linecap:square;stroke-width:0.8;\"/>\r\n     </g>\r\n     <g id=\"text_14\">\r\n      <!-- 7 -->\r\n      <g transform=\"translate(72.332188 452.26125)rotate(-90)scale(0.05 -0.05)\">\r\n       <use xlink:href=\"#DejaVuSans-55\"/>\r\n      </g>\r\n     </g>\r\n    </g>\r\n    <g id=\"xtick_15\">\r\n     <g id=\"line2d_15\">\r\n      <path clip-path=\"url(#pd8a31b40e0)\" d=\"M 73.7425 442.08 \r\nL 73.7425 7.2 \r\n\" style=\"fill:none;stroke:#b0b0b0;stroke-linecap:square;stroke-width:0.8;\"/>\r\n     </g>\r\n     <g id=\"text_15\">\r\n      <!-- 11 -->\r\n      <g transform=\"translate(75.122188 455.4425)rotate(-90)scale(0.05 -0.05)\">\r\n       <use xlink:href=\"#DejaVuSans-49\"/>\r\n       <use x=\"63.623047\" xlink:href=\"#DejaVuSans-49\"/>\r\n      </g>\r\n     </g>\r\n    </g>\r\n    <g id=\"xtick_16\">\r\n     <g id=\"line2d_16\">\r\n      <path clip-path=\"url(#pd8a31b40e0)\" d=\"M 76.5325 442.08 \r\nL 76.5325 7.2 \r\n\" style=\"fill:none;stroke:#b0b0b0;stroke-linecap:square;stroke-width:0.8;\"/>\r\n     </g>\r\n     <g id=\"text_16\">\r\n      <!-- 19 -->\r\n      <g transform=\"translate(77.912188 455.4425)rotate(-90)scale(0.05 -0.05)\">\r\n       <use xlink:href=\"#DejaVuSans-49\"/>\r\n       <use x=\"63.623047\" xlink:href=\"#DejaVuSans-57\"/>\r\n      </g>\r\n     </g>\r\n    </g>\r\n    <g id=\"xtick_17\">\r\n     <g id=\"line2d_17\">\r\n      <path clip-path=\"url(#pd8a31b40e0)\" d=\"M 79.3225 442.08 \r\nL 79.3225 7.2 \r\n\" style=\"fill:none;stroke:#b0b0b0;stroke-linecap:square;stroke-width:0.8;\"/>\r\n     </g>\r\n     <g id=\"text_17\">\r\n      <!-- 33 -->\r\n      <g transform=\"translate(80.702188 455.4425)rotate(-90)scale(0.05 -0.05)\">\r\n       <use xlink:href=\"#DejaVuSans-51\"/>\r\n       <use x=\"63.623047\" xlink:href=\"#DejaVuSans-51\"/>\r\n      </g>\r\n     </g>\r\n    </g>\r\n    <g id=\"xtick_18\">\r\n     <g id=\"line2d_18\">\r\n      <path clip-path=\"url(#pd8a31b40e0)\" d=\"M 82.1125 442.08 \r\nL 82.1125 7.2 \r\n\" style=\"fill:none;stroke:#b0b0b0;stroke-linecap:square;stroke-width:0.8;\"/>\r\n     </g>\r\n     <g id=\"text_18\">\r\n      <!-- 41 -->\r\n      <defs>\r\n       <path d=\"M 37.796875 64.3125 \r\nL 12.890625 25.390625 \r\nL 37.796875 25.390625 \r\nz\r\nM 35.203125 72.90625 \r\nL 47.609375 72.90625 \r\nL 47.609375 25.390625 \r\nL 58.015625 25.390625 \r\nL 58.015625 17.1875 \r\nL 47.609375 17.1875 \r\nL 47.609375 0 \r\nL 37.796875 0 \r\nL 37.796875 17.1875 \r\nL 4.890625 17.1875 \r\nL 4.890625 26.703125 \r\nz\r\n\" id=\"DejaVuSans-52\"/>\r\n      </defs>\r\n      <g transform=\"translate(83.492188 455.4425)rotate(-90)scale(0.05 -0.05)\">\r\n       <use xlink:href=\"#DejaVuSans-52\"/>\r\n       <use x=\"63.623047\" xlink:href=\"#DejaVuSans-49\"/>\r\n      </g>\r\n     </g>\r\n    </g>\r\n    <g id=\"xtick_19\">\r\n     <g id=\"line2d_19\">\r\n      <path clip-path=\"url(#pd8a31b40e0)\" d=\"M 84.9025 442.08 \r\nL 84.9025 7.2 \r\n\" style=\"fill:none;stroke:#b0b0b0;stroke-linecap:square;stroke-width:0.8;\"/>\r\n     </g>\r\n     <g id=\"text_19\">\r\n      <!-- 35 -->\r\n      <g transform=\"translate(86.282188 455.4425)rotate(-90)scale(0.05 -0.05)\">\r\n       <use xlink:href=\"#DejaVuSans-51\"/>\r\n       <use x=\"63.623047\" xlink:href=\"#DejaVuSans-53\"/>\r\n      </g>\r\n     </g>\r\n    </g>\r\n    <g id=\"xtick_20\">\r\n     <g id=\"line2d_20\">\r\n      <path clip-path=\"url(#pd8a31b40e0)\" d=\"M 87.6925 442.08 \r\nL 87.6925 7.2 \r\n\" style=\"fill:none;stroke:#b0b0b0;stroke-linecap:square;stroke-width:0.8;\"/>\r\n     </g>\r\n     <g id=\"text_20\">\r\n      <!-- 25 -->\r\n      <g transform=\"translate(89.072188 455.4425)rotate(-90)scale(0.05 -0.05)\">\r\n       <use xlink:href=\"#DejaVuSans-50\"/>\r\n       <use x=\"63.623047\" xlink:href=\"#DejaVuSans-53\"/>\r\n      </g>\r\n     </g>\r\n    </g>\r\n    <g id=\"xtick_21\">\r\n     <g id=\"line2d_21\">\r\n      <path clip-path=\"url(#pd8a31b40e0)\" d=\"M 90.4825 442.08 \r\nL 90.4825 7.2 \r\n\" style=\"fill:none;stroke:#b0b0b0;stroke-linecap:square;stroke-width:0.8;\"/>\r\n     </g>\r\n     <g id=\"text_21\">\r\n      <!-- 29 -->\r\n      <g transform=\"translate(91.862188 455.4425)rotate(-90)scale(0.05 -0.05)\">\r\n       <use xlink:href=\"#DejaVuSans-50\"/>\r\n       <use x=\"63.623047\" xlink:href=\"#DejaVuSans-57\"/>\r\n      </g>\r\n     </g>\r\n    </g>\r\n    <g id=\"xtick_22\">\r\n     <g id=\"line2d_22\">\r\n      <path clip-path=\"url(#pd8a31b40e0)\" d=\"M 93.2725 442.08 \r\nL 93.2725 7.2 \r\n\" style=\"fill:none;stroke:#b0b0b0;stroke-linecap:square;stroke-width:0.8;\"/>\r\n     </g>\r\n     <g id=\"text_22\">\r\n      <!-- 12 -->\r\n      <g transform=\"translate(94.652188 455.4425)rotate(-90)scale(0.05 -0.05)\">\r\n       <use xlink:href=\"#DejaVuSans-49\"/>\r\n       <use x=\"63.623047\" xlink:href=\"#DejaVuSans-50\"/>\r\n      </g>\r\n     </g>\r\n    </g>\r\n    <g id=\"xtick_23\">\r\n     <g id=\"line2d_23\">\r\n      <path clip-path=\"url(#pd8a31b40e0)\" d=\"M 96.0625 442.08 \r\nL 96.0625 7.2 \r\n\" style=\"fill:none;stroke:#b0b0b0;stroke-linecap:square;stroke-width:0.8;\"/>\r\n     </g>\r\n     <g id=\"text_23\">\r\n      <!-- 10 -->\r\n      <defs>\r\n       <path d=\"M 31.78125 66.40625 \r\nQ 24.171875 66.40625 20.328125 58.90625 \r\nQ 16.5 51.421875 16.5 36.375 \r\nQ 16.5 21.390625 20.328125 13.890625 \r\nQ 24.171875 6.390625 31.78125 6.390625 \r\nQ 39.453125 6.390625 43.28125 13.890625 \r\nQ 47.125 21.390625 47.125 36.375 \r\nQ 47.125 51.421875 43.28125 58.90625 \r\nQ 39.453125 66.40625 31.78125 66.40625 \r\nz\r\nM 31.78125 74.21875 \r\nQ 44.046875 74.21875 50.515625 64.515625 \r\nQ 56.984375 54.828125 56.984375 36.375 \r\nQ 56.984375 17.96875 50.515625 8.265625 \r\nQ 44.046875 -1.421875 31.78125 -1.421875 \r\nQ 19.53125 -1.421875 13.0625 8.265625 \r\nQ 6.59375 17.96875 6.59375 36.375 \r\nQ 6.59375 54.828125 13.0625 64.515625 \r\nQ 19.53125 74.21875 31.78125 74.21875 \r\nz\r\n\" id=\"DejaVuSans-48\"/>\r\n      </defs>\r\n      <g transform=\"translate(97.442188 455.4425)rotate(-90)scale(0.05 -0.05)\">\r\n       <use xlink:href=\"#DejaVuSans-49\"/>\r\n       <use x=\"63.623047\" xlink:href=\"#DejaVuSans-48\"/>\r\n      </g>\r\n     </g>\r\n    </g>\r\n    <g id=\"xtick_24\">\r\n     <g id=\"line2d_24\">\r\n      <path clip-path=\"url(#pd8a31b40e0)\" d=\"M 98.8525 442.08 \r\nL 98.8525 7.2 \r\n\" style=\"fill:none;stroke:#b0b0b0;stroke-linecap:square;stroke-width:0.8;\"/>\r\n     </g>\r\n     <g id=\"text_24\">\r\n      <!-- 14 -->\r\n      <g transform=\"translate(100.232188 455.4425)rotate(-90)scale(0.05 -0.05)\">\r\n       <use xlink:href=\"#DejaVuSans-49\"/>\r\n       <use x=\"63.623047\" xlink:href=\"#DejaVuSans-52\"/>\r\n      </g>\r\n     </g>\r\n    </g>\r\n    <g id=\"xtick_25\">\r\n     <g id=\"line2d_25\">\r\n      <path clip-path=\"url(#pd8a31b40e0)\" d=\"M 101.6425 442.08 \r\nL 101.6425 7.2 \r\n\" style=\"fill:none;stroke:#b0b0b0;stroke-linecap:square;stroke-width:0.8;\"/>\r\n     </g>\r\n     <g id=\"text_25\">\r\n      <!-- 8 -->\r\n      <defs>\r\n       <path d=\"M 31.78125 34.625 \r\nQ 24.75 34.625 20.71875 30.859375 \r\nQ 16.703125 27.09375 16.703125 20.515625 \r\nQ 16.703125 13.921875 20.71875 10.15625 \r\nQ 24.75 6.390625 31.78125 6.390625 \r\nQ 38.8125 6.390625 42.859375 10.171875 \r\nQ 46.921875 13.96875 46.921875 20.515625 \r\nQ 46.921875 27.09375 42.890625 30.859375 \r\nQ 38.875 34.625 31.78125 34.625 \r\nz\r\nM 21.921875 38.8125 \r\nQ 15.578125 40.375 12.03125 44.71875 \r\nQ 8.5 49.078125 8.5 55.328125 \r\nQ 8.5 64.0625 14.71875 69.140625 \r\nQ 20.953125 74.21875 31.78125 74.21875 \r\nQ 42.671875 74.21875 48.875 69.140625 \r\nQ 55.078125 64.0625 55.078125 55.328125 \r\nQ 55.078125 49.078125 51.53125 44.71875 \r\nQ 48 40.375 41.703125 38.8125 \r\nQ 48.828125 37.15625 52.796875 32.3125 \r\nQ 56.78125 27.484375 56.78125 20.515625 \r\nQ 56.78125 9.90625 50.3125 4.234375 \r\nQ 43.84375 -1.421875 31.78125 -1.421875 \r\nQ 19.734375 -1.421875 13.25 4.234375 \r\nQ 6.78125 9.90625 6.78125 20.515625 \r\nQ 6.78125 27.484375 10.78125 32.3125 \r\nQ 14.796875 37.15625 21.921875 38.8125 \r\nz\r\nM 18.3125 54.390625 \r\nQ 18.3125 48.734375 21.84375 45.5625 \r\nQ 25.390625 42.390625 31.78125 42.390625 \r\nQ 38.140625 42.390625 41.71875 45.5625 \r\nQ 45.3125 48.734375 45.3125 54.390625 \r\nQ 45.3125 60.0625 41.71875 63.234375 \r\nQ 38.140625 66.40625 31.78125 66.40625 \r\nQ 25.390625 66.40625 21.84375 63.234375 \r\nQ 18.3125 60.0625 18.3125 54.390625 \r\nz\r\n\" id=\"DejaVuSans-56\"/>\r\n      </defs>\r\n      <g transform=\"translate(103.022188 452.26125)rotate(-90)scale(0.05 -0.05)\">\r\n       <use xlink:href=\"#DejaVuSans-56\"/>\r\n      </g>\r\n     </g>\r\n    </g>\r\n    <g id=\"xtick_26\">\r\n     <g id=\"line2d_26\">\r\n      <path clip-path=\"url(#pd8a31b40e0)\" d=\"M 104.4325 442.08 \r\nL 104.4325 7.2 \r\n\" style=\"fill:none;stroke:#b0b0b0;stroke-linecap:square;stroke-width:0.8;\"/>\r\n     </g>\r\n     <g id=\"text_26\">\r\n      <!-- 2 -->\r\n      <g transform=\"translate(105.812188 452.26125)rotate(-90)scale(0.05 -0.05)\">\r\n       <use xlink:href=\"#DejaVuSans-50\"/>\r\n      </g>\r\n     </g>\r\n    </g>\r\n    <g id=\"xtick_27\">\r\n     <g id=\"line2d_27\">\r\n      <path clip-path=\"url(#pd8a31b40e0)\" d=\"M 107.2225 442.08 \r\nL 107.2225 7.2 \r\n\" style=\"fill:none;stroke:#b0b0b0;stroke-linecap:square;stroke-width:0.8;\"/>\r\n     </g>\r\n     <g id=\"text_27\">\r\n      <!-- 6 -->\r\n      <defs>\r\n       <path d=\"M 33.015625 40.375 \r\nQ 26.375 40.375 22.484375 35.828125 \r\nQ 18.609375 31.296875 18.609375 23.390625 \r\nQ 18.609375 15.53125 22.484375 10.953125 \r\nQ 26.375 6.390625 33.015625 6.390625 \r\nQ 39.65625 6.390625 43.53125 10.953125 \r\nQ 47.40625 15.53125 47.40625 23.390625 \r\nQ 47.40625 31.296875 43.53125 35.828125 \r\nQ 39.65625 40.375 33.015625 40.375 \r\nz\r\nM 52.59375 71.296875 \r\nL 52.59375 62.3125 \r\nQ 48.875 64.0625 45.09375 64.984375 \r\nQ 41.3125 65.921875 37.59375 65.921875 \r\nQ 27.828125 65.921875 22.671875 59.328125 \r\nQ 17.53125 52.734375 16.796875 39.40625 \r\nQ 19.671875 43.65625 24.015625 45.921875 \r\nQ 28.375 48.1875 33.59375 48.1875 \r\nQ 44.578125 48.1875 50.953125 41.515625 \r\nQ 57.328125 34.859375 57.328125 23.390625 \r\nQ 57.328125 12.15625 50.6875 5.359375 \r\nQ 44.046875 -1.421875 33.015625 -1.421875 \r\nQ 20.359375 -1.421875 13.671875 8.265625 \r\nQ 6.984375 17.96875 6.984375 36.375 \r\nQ 6.984375 53.65625 15.1875 63.9375 \r\nQ 23.390625 74.21875 37.203125 74.21875 \r\nQ 40.921875 74.21875 44.703125 73.484375 \r\nQ 48.484375 72.75 52.59375 71.296875 \r\nz\r\n\" id=\"DejaVuSans-54\"/>\r\n      </defs>\r\n      <g transform=\"translate(108.602188 452.26125)rotate(-90)scale(0.05 -0.05)\">\r\n       <use xlink:href=\"#DejaVuSans-54\"/>\r\n      </g>\r\n     </g>\r\n    </g>\r\n    <g id=\"xtick_28\">\r\n     <g id=\"line2d_28\">\r\n      <path clip-path=\"url(#pd8a31b40e0)\" d=\"M 110.0125 442.08 \r\nL 110.0125 7.2 \r\n\" style=\"fill:none;stroke:#b0b0b0;stroke-linecap:square;stroke-width:0.8;\"/>\r\n     </g>\r\n     <g id=\"text_28\">\r\n      <!-- 24 -->\r\n      <g transform=\"translate(111.392188 455.4425)rotate(-90)scale(0.05 -0.05)\">\r\n       <use xlink:href=\"#DejaVuSans-50\"/>\r\n       <use x=\"63.623047\" xlink:href=\"#DejaVuSans-52\"/>\r\n      </g>\r\n     </g>\r\n    </g>\r\n    <g id=\"xtick_29\">\r\n     <g id=\"line2d_29\">\r\n      <path clip-path=\"url(#pd8a31b40e0)\" d=\"M 112.8025 442.08 \r\nL 112.8025 7.2 \r\n\" style=\"fill:none;stroke:#b0b0b0;stroke-linecap:square;stroke-width:0.8;\"/>\r\n     </g>\r\n     <g id=\"text_29\">\r\n      <!-- 34 -->\r\n      <g transform=\"translate(114.182188 455.4425)rotate(-90)scale(0.05 -0.05)\">\r\n       <use xlink:href=\"#DejaVuSans-51\"/>\r\n       <use x=\"63.623047\" xlink:href=\"#DejaVuSans-52\"/>\r\n      </g>\r\n     </g>\r\n    </g>\r\n    <g id=\"xtick_30\">\r\n     <g id=\"line2d_30\">\r\n      <path clip-path=\"url(#pd8a31b40e0)\" d=\"M 115.5925 442.08 \r\nL 115.5925 7.2 \r\n\" style=\"fill:none;stroke:#b0b0b0;stroke-linecap:square;stroke-width:0.8;\"/>\r\n     </g>\r\n     <g id=\"text_30\">\r\n      <!-- 36 -->\r\n      <g transform=\"translate(116.972188 455.4425)rotate(-90)scale(0.05 -0.05)\">\r\n       <use xlink:href=\"#DejaVuSans-51\"/>\r\n       <use x=\"63.623047\" xlink:href=\"#DejaVuSans-54\"/>\r\n      </g>\r\n     </g>\r\n    </g>\r\n    <g id=\"xtick_31\">\r\n     <g id=\"line2d_31\">\r\n      <path clip-path=\"url(#pd8a31b40e0)\" d=\"M 118.3825 442.08 \r\nL 118.3825 7.2 \r\n\" style=\"fill:none;stroke:#b0b0b0;stroke-linecap:square;stroke-width:0.8;\"/>\r\n     </g>\r\n     <g id=\"text_31\">\r\n      <!-- 22 -->\r\n      <g transform=\"translate(119.762188 455.4425)rotate(-90)scale(0.05 -0.05)\">\r\n       <use xlink:href=\"#DejaVuSans-50\"/>\r\n       <use x=\"63.623047\" xlink:href=\"#DejaVuSans-50\"/>\r\n      </g>\r\n     </g>\r\n    </g>\r\n    <g id=\"xtick_32\">\r\n     <g id=\"line2d_32\">\r\n      <path clip-path=\"url(#pd8a31b40e0)\" d=\"M 121.1725 442.08 \r\nL 121.1725 7.2 \r\n\" style=\"fill:none;stroke:#b0b0b0;stroke-linecap:square;stroke-width:0.8;\"/>\r\n     </g>\r\n     <g id=\"text_32\">\r\n      <!-- 30 -->\r\n      <g transform=\"translate(122.552188 455.4425)rotate(-90)scale(0.05 -0.05)\">\r\n       <use xlink:href=\"#DejaVuSans-51\"/>\r\n       <use x=\"63.623047\" xlink:href=\"#DejaVuSans-48\"/>\r\n      </g>\r\n     </g>\r\n    </g>\r\n    <g id=\"xtick_33\">\r\n     <g id=\"line2d_33\">\r\n      <path clip-path=\"url(#pd8a31b40e0)\" d=\"M 123.9625 442.08 \r\nL 123.9625 7.2 \r\n\" style=\"fill:none;stroke:#b0b0b0;stroke-linecap:square;stroke-width:0.8;\"/>\r\n     </g>\r\n     <g id=\"text_33\">\r\n      <!-- 32 -->\r\n      <g transform=\"translate(125.342188 455.4425)rotate(-90)scale(0.05 -0.05)\">\r\n       <use xlink:href=\"#DejaVuSans-51\"/>\r\n       <use x=\"63.623047\" xlink:href=\"#DejaVuSans-50\"/>\r\n      </g>\r\n     </g>\r\n    </g>\r\n    <g id=\"xtick_34\">\r\n     <g id=\"line2d_34\">\r\n      <path clip-path=\"url(#pd8a31b40e0)\" d=\"M 126.7525 442.08 \r\nL 126.7525 7.2 \r\n\" style=\"fill:none;stroke:#b0b0b0;stroke-linecap:square;stroke-width:0.8;\"/>\r\n     </g>\r\n     <g id=\"text_34\">\r\n      <!-- 40 -->\r\n      <g transform=\"translate(128.132188 455.4425)rotate(-90)scale(0.05 -0.05)\">\r\n       <use xlink:href=\"#DejaVuSans-52\"/>\r\n       <use x=\"63.623047\" xlink:href=\"#DejaVuSans-48\"/>\r\n      </g>\r\n     </g>\r\n    </g>\r\n    <g id=\"xtick_35\">\r\n     <g id=\"line2d_35\">\r\n      <path clip-path=\"url(#pd8a31b40e0)\" d=\"M 129.5425 442.08 \r\nL 129.5425 7.2 \r\n\" style=\"fill:none;stroke:#b0b0b0;stroke-linecap:square;stroke-width:0.8;\"/>\r\n     </g>\r\n     <g id=\"text_35\">\r\n      <!-- 42 -->\r\n      <g transform=\"translate(130.922188 455.4425)rotate(-90)scale(0.05 -0.05)\">\r\n       <use xlink:href=\"#DejaVuSans-52\"/>\r\n       <use x=\"63.623047\" xlink:href=\"#DejaVuSans-50\"/>\r\n      </g>\r\n     </g>\r\n    </g>\r\n    <g id=\"xtick_36\">\r\n     <g id=\"line2d_36\">\r\n      <path clip-path=\"url(#pd8a31b40e0)\" d=\"M 132.3325 442.08 \r\nL 132.3325 7.2 \r\n\" style=\"fill:none;stroke:#b0b0b0;stroke-linecap:square;stroke-width:0.8;\"/>\r\n     </g>\r\n     <g id=\"text_36\">\r\n      <!-- 38 -->\r\n      <g transform=\"translate(133.712188 455.4425)rotate(-90)scale(0.05 -0.05)\">\r\n       <use xlink:href=\"#DejaVuSans-51\"/>\r\n       <use x=\"63.623047\" xlink:href=\"#DejaVuSans-56\"/>\r\n      </g>\r\n     </g>\r\n    </g>\r\n    <g id=\"xtick_37\">\r\n     <g id=\"line2d_37\">\r\n      <path clip-path=\"url(#pd8a31b40e0)\" d=\"M 135.1225 442.08 \r\nL 135.1225 7.2 \r\n\" style=\"fill:none;stroke:#b0b0b0;stroke-linecap:square;stroke-width:0.8;\"/>\r\n     </g>\r\n     <g id=\"text_37\">\r\n      <!-- 44 -->\r\n      <g transform=\"translate(136.502187 455.4425)rotate(-90)scale(0.05 -0.05)\">\r\n       <use xlink:href=\"#DejaVuSans-52\"/>\r\n       <use x=\"63.623047\" xlink:href=\"#DejaVuSans-52\"/>\r\n      </g>\r\n     </g>\r\n    </g>\r\n    <g id=\"xtick_38\">\r\n     <g id=\"line2d_38\">\r\n      <path clip-path=\"url(#pd8a31b40e0)\" d=\"M 137.9125 442.08 \r\nL 137.9125 7.2 \r\n\" style=\"fill:none;stroke:#b0b0b0;stroke-linecap:square;stroke-width:0.8;\"/>\r\n     </g>\r\n     <g id=\"text_38\">\r\n      <!-- 0 -->\r\n      <g transform=\"translate(139.292188 452.26125)rotate(-90)scale(0.05 -0.05)\">\r\n       <use xlink:href=\"#DejaVuSans-48\"/>\r\n      </g>\r\n     </g>\r\n    </g>\r\n    <g id=\"xtick_39\">\r\n     <g id=\"line2d_39\">\r\n      <path clip-path=\"url(#pd8a31b40e0)\" d=\"M 140.7025 442.08 \r\nL 140.7025 7.2 \r\n\" style=\"fill:none;stroke:#b0b0b0;stroke-linecap:square;stroke-width:0.8;\"/>\r\n     </g>\r\n     <g id=\"text_39\">\r\n      <!-- 4 -->\r\n      <g transform=\"translate(142.082188 452.26125)rotate(-90)scale(0.05 -0.05)\">\r\n       <use xlink:href=\"#DejaVuSans-52\"/>\r\n      </g>\r\n     </g>\r\n    </g>\r\n    <g id=\"xtick_40\">\r\n     <g id=\"line2d_40\">\r\n      <path clip-path=\"url(#pd8a31b40e0)\" d=\"M 143.4925 442.08 \r\nL 143.4925 7.2 \r\n\" style=\"fill:none;stroke:#b0b0b0;stroke-linecap:square;stroke-width:0.8;\"/>\r\n     </g>\r\n     <g id=\"text_40\">\r\n      <!-- 26 -->\r\n      <g transform=\"translate(144.872187 455.4425)rotate(-90)scale(0.05 -0.05)\">\r\n       <use xlink:href=\"#DejaVuSans-50\"/>\r\n       <use x=\"63.623047\" xlink:href=\"#DejaVuSans-54\"/>\r\n      </g>\r\n     </g>\r\n    </g>\r\n    <g id=\"xtick_41\">\r\n     <g id=\"line2d_41\">\r\n      <path clip-path=\"url(#pd8a31b40e0)\" d=\"M 146.2825 442.08 \r\nL 146.2825 7.2 \r\n\" style=\"fill:none;stroke:#b0b0b0;stroke-linecap:square;stroke-width:0.8;\"/>\r\n     </g>\r\n     <g id=\"text_41\">\r\n      <!-- 28 -->\r\n      <g transform=\"translate(147.662188 455.4425)rotate(-90)scale(0.05 -0.05)\">\r\n       <use xlink:href=\"#DejaVuSans-50\"/>\r\n       <use x=\"63.623047\" xlink:href=\"#DejaVuSans-56\"/>\r\n      </g>\r\n     </g>\r\n    </g>\r\n    <g id=\"xtick_42\">\r\n     <g id=\"line2d_42\">\r\n      <path clip-path=\"url(#pd8a31b40e0)\" d=\"M 149.0725 442.08 \r\nL 149.0725 7.2 \r\n\" style=\"fill:none;stroke:#b0b0b0;stroke-linecap:square;stroke-width:0.8;\"/>\r\n     </g>\r\n     <g id=\"text_42\">\r\n      <!-- 18 -->\r\n      <g transform=\"translate(150.452188 455.4425)rotate(-90)scale(0.05 -0.05)\">\r\n       <use xlink:href=\"#DejaVuSans-49\"/>\r\n       <use x=\"63.623047\" xlink:href=\"#DejaVuSans-56\"/>\r\n      </g>\r\n     </g>\r\n    </g>\r\n    <g id=\"xtick_43\">\r\n     <g id=\"line2d_43\">\r\n      <path clip-path=\"url(#pd8a31b40e0)\" d=\"M 151.8625 442.08 \r\nL 151.8625 7.2 \r\n\" style=\"fill:none;stroke:#b0b0b0;stroke-linecap:square;stroke-width:0.8;\"/>\r\n     </g>\r\n     <g id=\"text_43\">\r\n      <!-- 16 -->\r\n      <g transform=\"translate(153.242188 455.4425)rotate(-90)scale(0.05 -0.05)\">\r\n       <use xlink:href=\"#DejaVuSans-49\"/>\r\n       <use x=\"63.623047\" xlink:href=\"#DejaVuSans-54\"/>\r\n      </g>\r\n     </g>\r\n    </g>\r\n    <g id=\"xtick_44\">\r\n     <g id=\"line2d_44\">\r\n      <path clip-path=\"url(#pd8a31b40e0)\" d=\"M 154.6525 442.08 \r\nL 154.6525 7.2 \r\n\" style=\"fill:none;stroke:#b0b0b0;stroke-linecap:square;stroke-width:0.8;\"/>\r\n     </g>\r\n     <g id=\"text_44\">\r\n      <!-- 20 -->\r\n      <g transform=\"translate(156.032188 455.4425)rotate(-90)scale(0.05 -0.05)\">\r\n       <use xlink:href=\"#DejaVuSans-50\"/>\r\n       <use x=\"63.623047\" xlink:href=\"#DejaVuSans-48\"/>\r\n      </g>\r\n     </g>\r\n    </g>\r\n    <g id=\"xtick_45\">\r\n     <g id=\"line2d_45\">\r\n      <path clip-path=\"url(#pd8a31b40e0)\" d=\"M 157.4425 442.08 \r\nL 157.4425 7.2 \r\n\" style=\"fill:none;stroke:#b0b0b0;stroke-linecap:square;stroke-width:0.8;\"/>\r\n     </g>\r\n     <g id=\"text_45\">\r\n      <!-- 51 -->\r\n      <g transform=\"translate(158.822188 455.4425)rotate(-90)scale(0.05 -0.05)\">\r\n       <use xlink:href=\"#DejaVuSans-53\"/>\r\n       <use x=\"63.623047\" xlink:href=\"#DejaVuSans-49\"/>\r\n      </g>\r\n     </g>\r\n    </g>\r\n    <g id=\"xtick_46\">\r\n     <g id=\"line2d_46\">\r\n      <path clip-path=\"url(#pd8a31b40e0)\" d=\"M 160.2325 442.08 \r\nL 160.2325 7.2 \r\n\" style=\"fill:none;stroke:#b0b0b0;stroke-linecap:square;stroke-width:0.8;\"/>\r\n     </g>\r\n     <g id=\"text_46\">\r\n      <!-- 53 -->\r\n      <g transform=\"translate(161.612188 455.4425)rotate(-90)scale(0.05 -0.05)\">\r\n       <use xlink:href=\"#DejaVuSans-53\"/>\r\n       <use x=\"63.623047\" xlink:href=\"#DejaVuSans-51\"/>\r\n      </g>\r\n     </g>\r\n    </g>\r\n    <g id=\"xtick_47\">\r\n     <g id=\"line2d_47\">\r\n      <path clip-path=\"url(#pd8a31b40e0)\" d=\"M 163.0225 442.08 \r\nL 163.0225 7.2 \r\n\" style=\"fill:none;stroke:#b0b0b0;stroke-linecap:square;stroke-width:0.8;\"/>\r\n     </g>\r\n     <g id=\"text_47\">\r\n      <!-- 43 -->\r\n      <g transform=\"translate(164.402188 455.4425)rotate(-90)scale(0.05 -0.05)\">\r\n       <use xlink:href=\"#DejaVuSans-52\"/>\r\n       <use x=\"63.623047\" xlink:href=\"#DejaVuSans-51\"/>\r\n      </g>\r\n     </g>\r\n    </g>\r\n    <g id=\"xtick_48\">\r\n     <g id=\"line2d_48\">\r\n      <path clip-path=\"url(#pd8a31b40e0)\" d=\"M 165.8125 442.08 \r\nL 165.8125 7.2 \r\n\" style=\"fill:none;stroke:#b0b0b0;stroke-linecap:square;stroke-width:0.8;\"/>\r\n     </g>\r\n     <g id=\"text_48\">\r\n      <!-- 45 -->\r\n      <g transform=\"translate(167.192187 455.4425)rotate(-90)scale(0.05 -0.05)\">\r\n       <use xlink:href=\"#DejaVuSans-52\"/>\r\n       <use x=\"63.623047\" xlink:href=\"#DejaVuSans-53\"/>\r\n      </g>\r\n     </g>\r\n    </g>\r\n    <g id=\"xtick_49\">\r\n     <g id=\"line2d_49\">\r\n      <path clip-path=\"url(#pd8a31b40e0)\" d=\"M 168.6025 442.08 \r\nL 168.6025 7.2 \r\n\" style=\"fill:none;stroke:#b0b0b0;stroke-linecap:square;stroke-width:0.8;\"/>\r\n     </g>\r\n     <g id=\"text_49\">\r\n      <!-- 46 -->\r\n      <g transform=\"translate(169.982188 455.4425)rotate(-90)scale(0.05 -0.05)\">\r\n       <use xlink:href=\"#DejaVuSans-52\"/>\r\n       <use x=\"63.623047\" xlink:href=\"#DejaVuSans-54\"/>\r\n      </g>\r\n     </g>\r\n    </g>\r\n    <g id=\"xtick_50\">\r\n     <g id=\"line2d_50\">\r\n      <path clip-path=\"url(#pd8a31b40e0)\" d=\"M 171.3925 442.08 \r\nL 171.3925 7.2 \r\n\" style=\"fill:none;stroke:#b0b0b0;stroke-linecap:square;stroke-width:0.8;\"/>\r\n     </g>\r\n     <g id=\"text_50\">\r\n      <!-- 50 -->\r\n      <g transform=\"translate(172.772188 455.4425)rotate(-90)scale(0.05 -0.05)\">\r\n       <use xlink:href=\"#DejaVuSans-53\"/>\r\n       <use x=\"63.623047\" xlink:href=\"#DejaVuSans-48\"/>\r\n      </g>\r\n     </g>\r\n    </g>\r\n    <g id=\"xtick_51\">\r\n     <g id=\"line2d_51\">\r\n      <path clip-path=\"url(#pd8a31b40e0)\" d=\"M 174.1825 442.08 \r\nL 174.1825 7.2 \r\n\" style=\"fill:none;stroke:#b0b0b0;stroke-linecap:square;stroke-width:0.8;\"/>\r\n     </g>\r\n     <g id=\"text_51\">\r\n      <!-- 52 -->\r\n      <g transform=\"translate(175.562187 455.4425)rotate(-90)scale(0.05 -0.05)\">\r\n       <use xlink:href=\"#DejaVuSans-53\"/>\r\n       <use x=\"63.623047\" xlink:href=\"#DejaVuSans-50\"/>\r\n      </g>\r\n     </g>\r\n    </g>\r\n    <g id=\"xtick_52\">\r\n     <g id=\"line2d_52\">\r\n      <path clip-path=\"url(#pd8a31b40e0)\" d=\"M 176.9725 442.08 \r\nL 176.9725 7.2 \r\n\" style=\"fill:none;stroke:#b0b0b0;stroke-linecap:square;stroke-width:0.8;\"/>\r\n     </g>\r\n     <g id=\"text_52\">\r\n      <!-- 63 -->\r\n      <g transform=\"translate(178.352188 455.4425)rotate(-90)scale(0.05 -0.05)\">\r\n       <use xlink:href=\"#DejaVuSans-54\"/>\r\n       <use x=\"63.623047\" xlink:href=\"#DejaVuSans-51\"/>\r\n      </g>\r\n     </g>\r\n    </g>\r\n    <g id=\"xtick_53\">\r\n     <g id=\"line2d_53\">\r\n      <path clip-path=\"url(#pd8a31b40e0)\" d=\"M 179.7625 442.08 \r\nL 179.7625 7.2 \r\n\" style=\"fill:none;stroke:#b0b0b0;stroke-linecap:square;stroke-width:0.8;\"/>\r\n     </g>\r\n     <g id=\"text_53\">\r\n      <!-- 65 -->\r\n      <g transform=\"translate(181.142188 455.4425)rotate(-90)scale(0.05 -0.05)\">\r\n       <use xlink:href=\"#DejaVuSans-54\"/>\r\n       <use x=\"63.623047\" xlink:href=\"#DejaVuSans-53\"/>\r\n      </g>\r\n     </g>\r\n    </g>\r\n    <g id=\"xtick_54\">\r\n     <g id=\"line2d_54\">\r\n      <path clip-path=\"url(#pd8a31b40e0)\" d=\"M 182.5525 442.08 \r\nL 182.5525 7.2 \r\n\" style=\"fill:none;stroke:#b0b0b0;stroke-linecap:square;stroke-width:0.8;\"/>\r\n     </g>\r\n     <g id=\"text_54\">\r\n      <!-- 68 -->\r\n      <g transform=\"translate(183.932187 455.4425)rotate(-90)scale(0.05 -0.05)\">\r\n       <use xlink:href=\"#DejaVuSans-54\"/>\r\n       <use x=\"63.623047\" xlink:href=\"#DejaVuSans-56\"/>\r\n      </g>\r\n     </g>\r\n    </g>\r\n    <g id=\"xtick_55\">\r\n     <g id=\"line2d_55\">\r\n      <path clip-path=\"url(#pd8a31b40e0)\" d=\"M 185.3425 442.08 \r\nL 185.3425 7.2 \r\n\" style=\"fill:none;stroke:#b0b0b0;stroke-linecap:square;stroke-width:0.8;\"/>\r\n     </g>\r\n     <g id=\"text_55\">\r\n      <!-- 60 -->\r\n      <g transform=\"translate(186.722188 455.4425)rotate(-90)scale(0.05 -0.05)\">\r\n       <use xlink:href=\"#DejaVuSans-54\"/>\r\n       <use x=\"63.623047\" xlink:href=\"#DejaVuSans-48\"/>\r\n      </g>\r\n     </g>\r\n    </g>\r\n    <g id=\"xtick_56\">\r\n     <g id=\"line2d_56\">\r\n      <path clip-path=\"url(#pd8a31b40e0)\" d=\"M 188.1325 442.08 \r\nL 188.1325 7.2 \r\n\" style=\"fill:none;stroke:#b0b0b0;stroke-linecap:square;stroke-width:0.8;\"/>\r\n     </g>\r\n     <g id=\"text_56\">\r\n      <!-- 61 -->\r\n      <g transform=\"translate(189.512188 455.4425)rotate(-90)scale(0.05 -0.05)\">\r\n       <use xlink:href=\"#DejaVuSans-54\"/>\r\n       <use x=\"63.623047\" xlink:href=\"#DejaVuSans-49\"/>\r\n      </g>\r\n     </g>\r\n    </g>\r\n    <g id=\"xtick_57\">\r\n     <g id=\"line2d_57\">\r\n      <path clip-path=\"url(#pd8a31b40e0)\" d=\"M 190.9225 442.08 \r\nL 190.9225 7.2 \r\n\" style=\"fill:none;stroke:#b0b0b0;stroke-linecap:square;stroke-width:0.8;\"/>\r\n     </g>\r\n     <g id=\"text_57\">\r\n      <!-- 70 -->\r\n      <g transform=\"translate(192.302188 455.4425)rotate(-90)scale(0.05 -0.05)\">\r\n       <use xlink:href=\"#DejaVuSans-55\"/>\r\n       <use x=\"63.623047\" xlink:href=\"#DejaVuSans-48\"/>\r\n      </g>\r\n     </g>\r\n    </g>\r\n    <g id=\"xtick_58\">\r\n     <g id=\"line2d_58\">\r\n      <path clip-path=\"url(#pd8a31b40e0)\" d=\"M 193.7125 442.08 \r\nL 193.7125 7.2 \r\n\" style=\"fill:none;stroke:#b0b0b0;stroke-linecap:square;stroke-width:0.8;\"/>\r\n     </g>\r\n     <g id=\"text_58\">\r\n      <!-- 73 -->\r\n      <g transform=\"translate(195.092188 455.4425)rotate(-90)scale(0.05 -0.05)\">\r\n       <use xlink:href=\"#DejaVuSans-55\"/>\r\n       <use x=\"63.623047\" xlink:href=\"#DejaVuSans-51\"/>\r\n      </g>\r\n     </g>\r\n    </g>\r\n    <g id=\"xtick_59\">\r\n     <g id=\"line2d_59\">\r\n      <path clip-path=\"url(#pd8a31b40e0)\" d=\"M 196.5025 442.08 \r\nL 196.5025 7.2 \r\n\" style=\"fill:none;stroke:#b0b0b0;stroke-linecap:square;stroke-width:0.8;\"/>\r\n     </g>\r\n     <g id=\"text_59\">\r\n      <!-- 77 -->\r\n      <g transform=\"translate(197.882187 455.4425)rotate(-90)scale(0.05 -0.05)\">\r\n       <use xlink:href=\"#DejaVuSans-55\"/>\r\n       <use x=\"63.623047\" xlink:href=\"#DejaVuSans-55\"/>\r\n      </g>\r\n     </g>\r\n    </g>\r\n    <g id=\"xtick_60\">\r\n     <g id=\"line2d_60\">\r\n      <path clip-path=\"url(#pd8a31b40e0)\" d=\"M 199.2925 442.08 \r\nL 199.2925 7.2 \r\n\" style=\"fill:none;stroke:#b0b0b0;stroke-linecap:square;stroke-width:0.8;\"/>\r\n     </g>\r\n     <g id=\"text_60\">\r\n      <!-- 74 -->\r\n      <g transform=\"translate(200.672188 455.4425)rotate(-90)scale(0.05 -0.05)\">\r\n       <use xlink:href=\"#DejaVuSans-55\"/>\r\n       <use x=\"63.623047\" xlink:href=\"#DejaVuSans-52\"/>\r\n      </g>\r\n     </g>\r\n    </g>\r\n    <g id=\"xtick_61\">\r\n     <g id=\"line2d_61\">\r\n      <path clip-path=\"url(#pd8a31b40e0)\" d=\"M 202.0825 442.08 \r\nL 202.0825 7.2 \r\n\" style=\"fill:none;stroke:#b0b0b0;stroke-linecap:square;stroke-width:0.8;\"/>\r\n     </g>\r\n     <g id=\"text_61\">\r\n      <!-- 85 -->\r\n      <g transform=\"translate(203.462188 455.4425)rotate(-90)scale(0.05 -0.05)\">\r\n       <use xlink:href=\"#DejaVuSans-56\"/>\r\n       <use x=\"63.623047\" xlink:href=\"#DejaVuSans-53\"/>\r\n      </g>\r\n     </g>\r\n    </g>\r\n    <g id=\"xtick_62\">\r\n     <g id=\"line2d_62\">\r\n      <path clip-path=\"url(#pd8a31b40e0)\" d=\"M 204.8725 442.08 \r\nL 204.8725 7.2 \r\n\" style=\"fill:none;stroke:#b0b0b0;stroke-linecap:square;stroke-width:0.8;\"/>\r\n     </g>\r\n     <g id=\"text_62\">\r\n      <!-- 71 -->\r\n      <g transform=\"translate(206.252187 455.4425)rotate(-90)scale(0.05 -0.05)\">\r\n       <use xlink:href=\"#DejaVuSans-55\"/>\r\n       <use x=\"63.623047\" xlink:href=\"#DejaVuSans-49\"/>\r\n      </g>\r\n     </g>\r\n    </g>\r\n    <g id=\"xtick_63\">\r\n     <g id=\"line2d_63\">\r\n      <path clip-path=\"url(#pd8a31b40e0)\" d=\"M 207.6625 442.08 \r\nL 207.6625 7.2 \r\n\" style=\"fill:none;stroke:#b0b0b0;stroke-linecap:square;stroke-width:0.8;\"/>\r\n     </g>\r\n     <g id=\"text_63\">\r\n      <!-- 83 -->\r\n      <g transform=\"translate(209.042188 455.4425)rotate(-90)scale(0.05 -0.05)\">\r\n       <use xlink:href=\"#DejaVuSans-56\"/>\r\n       <use x=\"63.623047\" xlink:href=\"#DejaVuSans-51\"/>\r\n      </g>\r\n     </g>\r\n    </g>\r\n    <g id=\"xtick_64\">\r\n     <g id=\"line2d_64\">\r\n      <path clip-path=\"url(#pd8a31b40e0)\" d=\"M 210.4525 442.08 \r\nL 210.4525 7.2 \r\n\" style=\"fill:none;stroke:#b0b0b0;stroke-linecap:square;stroke-width:0.8;\"/>\r\n     </g>\r\n     <g id=\"text_64\">\r\n      <!-- 79 -->\r\n      <g transform=\"translate(211.832188 455.4425)rotate(-90)scale(0.05 -0.05)\">\r\n       <use xlink:href=\"#DejaVuSans-55\"/>\r\n       <use x=\"63.623047\" xlink:href=\"#DejaVuSans-57\"/>\r\n      </g>\r\n     </g>\r\n    </g>\r\n    <g id=\"xtick_65\">\r\n     <g id=\"line2d_65\">\r\n      <path clip-path=\"url(#pd8a31b40e0)\" d=\"M 213.2425 442.08 \r\nL 213.2425 7.2 \r\n\" style=\"fill:none;stroke:#b0b0b0;stroke-linecap:square;stroke-width:0.8;\"/>\r\n     </g>\r\n     <g id=\"text_65\">\r\n      <!-- 82 -->\r\n      <g transform=\"translate(214.622187 455.4425)rotate(-90)scale(0.05 -0.05)\">\r\n       <use xlink:href=\"#DejaVuSans-56\"/>\r\n       <use x=\"63.623047\" xlink:href=\"#DejaVuSans-50\"/>\r\n      </g>\r\n     </g>\r\n    </g>\r\n    <g id=\"xtick_66\">\r\n     <g id=\"line2d_66\">\r\n      <path clip-path=\"url(#pd8a31b40e0)\" d=\"M 216.0325 442.08 \r\nL 216.0325 7.2 \r\n\" style=\"fill:none;stroke:#b0b0b0;stroke-linecap:square;stroke-width:0.8;\"/>\r\n     </g>\r\n     <g id=\"text_66\">\r\n      <!-- 72 -->\r\n      <g transform=\"translate(217.412188 455.4425)rotate(-90)scale(0.05 -0.05)\">\r\n       <use xlink:href=\"#DejaVuSans-55\"/>\r\n       <use x=\"63.623047\" xlink:href=\"#DejaVuSans-50\"/>\r\n      </g>\r\n     </g>\r\n    </g>\r\n    <g id=\"xtick_67\">\r\n     <g id=\"line2d_67\">\r\n      <path clip-path=\"url(#pd8a31b40e0)\" d=\"M 218.8225 442.08 \r\nL 218.8225 7.2 \r\n\" style=\"fill:none;stroke:#b0b0b0;stroke-linecap:square;stroke-width:0.8;\"/>\r\n     </g>\r\n     <g id=\"text_67\">\r\n      <!-- 59 -->\r\n      <g transform=\"translate(220.202188 455.4425)rotate(-90)scale(0.05 -0.05)\">\r\n       <use xlink:href=\"#DejaVuSans-53\"/>\r\n       <use x=\"63.623047\" xlink:href=\"#DejaVuSans-57\"/>\r\n      </g>\r\n     </g>\r\n    </g>\r\n    <g id=\"xtick_68\">\r\n     <g id=\"line2d_68\">\r\n      <path clip-path=\"url(#pd8a31b40e0)\" d=\"M 221.6125 442.08 \r\nL 221.6125 7.2 \r\n\" style=\"fill:none;stroke:#b0b0b0;stroke-linecap:square;stroke-width:0.8;\"/>\r\n     </g>\r\n     <g id=\"text_68\">\r\n      <!-- 67 -->\r\n      <g transform=\"translate(222.992188 455.4425)rotate(-90)scale(0.05 -0.05)\">\r\n       <use xlink:href=\"#DejaVuSans-54\"/>\r\n       <use x=\"63.623047\" xlink:href=\"#DejaVuSans-55\"/>\r\n      </g>\r\n     </g>\r\n    </g>\r\n    <g id=\"xtick_69\">\r\n     <g id=\"line2d_69\">\r\n      <path clip-path=\"url(#pd8a31b40e0)\" d=\"M 224.4025 442.08 \r\nL 224.4025 7.2 \r\n\" style=\"fill:none;stroke:#b0b0b0;stroke-linecap:square;stroke-width:0.8;\"/>\r\n     </g>\r\n     <g id=\"text_69\">\r\n      <!-- 69 -->\r\n      <g transform=\"translate(225.782188 455.4425)rotate(-90)scale(0.05 -0.05)\">\r\n       <use xlink:href=\"#DejaVuSans-54\"/>\r\n       <use x=\"63.623047\" xlink:href=\"#DejaVuSans-57\"/>\r\n      </g>\r\n     </g>\r\n    </g>\r\n    <g id=\"xtick_70\">\r\n     <g id=\"line2d_70\">\r\n      <path clip-path=\"url(#pd8a31b40e0)\" d=\"M 227.1925 442.08 \r\nL 227.1925 7.2 \r\n\" style=\"fill:none;stroke:#b0b0b0;stroke-linecap:square;stroke-width:0.8;\"/>\r\n     </g>\r\n     <g id=\"text_70\">\r\n      <!-- 56 -->\r\n      <g transform=\"translate(228.572188 455.4425)rotate(-90)scale(0.05 -0.05)\">\r\n       <use xlink:href=\"#DejaVuSans-53\"/>\r\n       <use x=\"63.623047\" xlink:href=\"#DejaVuSans-54\"/>\r\n      </g>\r\n     </g>\r\n    </g>\r\n    <g id=\"xtick_71\">\r\n     <g id=\"line2d_71\">\r\n      <path clip-path=\"url(#pd8a31b40e0)\" d=\"M 229.9825 442.08 \r\nL 229.9825 7.2 \r\n\" style=\"fill:none;stroke:#b0b0b0;stroke-linecap:square;stroke-width:0.8;\"/>\r\n     </g>\r\n     <g id=\"text_71\">\r\n      <!-- 64 -->\r\n      <g transform=\"translate(231.362188 455.4425)rotate(-90)scale(0.05 -0.05)\">\r\n       <use xlink:href=\"#DejaVuSans-54\"/>\r\n       <use x=\"63.623047\" xlink:href=\"#DejaVuSans-52\"/>\r\n      </g>\r\n     </g>\r\n    </g>\r\n    <g id=\"xtick_72\">\r\n     <g id=\"line2d_72\">\r\n      <path clip-path=\"url(#pd8a31b40e0)\" d=\"M 232.7725 442.08 \r\nL 232.7725 7.2 \r\n\" style=\"fill:none;stroke:#b0b0b0;stroke-linecap:square;stroke-width:0.8;\"/>\r\n     </g>\r\n     <g id=\"text_72\">\r\n      <!-- 66 -->\r\n      <g transform=\"translate(234.152188 455.4425)rotate(-90)scale(0.05 -0.05)\">\r\n       <use xlink:href=\"#DejaVuSans-54\"/>\r\n       <use x=\"63.623047\" xlink:href=\"#DejaVuSans-54\"/>\r\n      </g>\r\n     </g>\r\n    </g>\r\n    <g id=\"xtick_73\">\r\n     <g id=\"line2d_73\">\r\n      <path clip-path=\"url(#pd8a31b40e0)\" d=\"M 235.5625 442.08 \r\nL 235.5625 7.2 \r\n\" style=\"fill:none;stroke:#b0b0b0;stroke-linecap:square;stroke-width:0.8;\"/>\r\n     </g>\r\n     <g id=\"text_73\">\r\n      <!-- 58 -->\r\n      <g transform=\"translate(236.942187 455.4425)rotate(-90)scale(0.05 -0.05)\">\r\n       <use xlink:href=\"#DejaVuSans-53\"/>\r\n       <use x=\"63.623047\" xlink:href=\"#DejaVuSans-56\"/>\r\n      </g>\r\n     </g>\r\n    </g>\r\n    <g id=\"xtick_74\">\r\n     <g id=\"line2d_74\">\r\n      <path clip-path=\"url(#pd8a31b40e0)\" d=\"M 238.3525 442.08 \r\nL 238.3525 7.2 \r\n\" style=\"fill:none;stroke:#b0b0b0;stroke-linecap:square;stroke-width:0.8;\"/>\r\n     </g>\r\n     <g id=\"text_74\">\r\n      <!-- 62 -->\r\n      <g transform=\"translate(239.732188 455.4425)rotate(-90)scale(0.05 -0.05)\">\r\n       <use xlink:href=\"#DejaVuSans-54\"/>\r\n       <use x=\"63.623047\" xlink:href=\"#DejaVuSans-50\"/>\r\n      </g>\r\n     </g>\r\n    </g>\r\n    <g id=\"xtick_75\">\r\n     <g id=\"line2d_75\">\r\n      <path clip-path=\"url(#pd8a31b40e0)\" d=\"M 241.1425 442.08 \r\nL 241.1425 7.2 \r\n\" style=\"fill:none;stroke:#b0b0b0;stroke-linecap:square;stroke-width:0.8;\"/>\r\n     </g>\r\n     <g id=\"text_75\">\r\n      <!-- 55 -->\r\n      <g transform=\"translate(242.522188 455.4425)rotate(-90)scale(0.05 -0.05)\">\r\n       <use xlink:href=\"#DejaVuSans-53\"/>\r\n       <use x=\"63.623047\" xlink:href=\"#DejaVuSans-53\"/>\r\n      </g>\r\n     </g>\r\n    </g>\r\n    <g id=\"xtick_76\">\r\n     <g id=\"line2d_76\">\r\n      <path clip-path=\"url(#pd8a31b40e0)\" d=\"M 243.9325 442.08 \r\nL 243.9325 7.2 \r\n\" style=\"fill:none;stroke:#b0b0b0;stroke-linecap:square;stroke-width:0.8;\"/>\r\n     </g>\r\n     <g id=\"text_76\">\r\n      <!-- 48 -->\r\n      <g transform=\"translate(245.312187 455.4425)rotate(-90)scale(0.05 -0.05)\">\r\n       <use xlink:href=\"#DejaVuSans-52\"/>\r\n       <use x=\"63.623047\" xlink:href=\"#DejaVuSans-56\"/>\r\n      </g>\r\n     </g>\r\n    </g>\r\n    <g id=\"xtick_77\">\r\n     <g id=\"line2d_77\">\r\n      <path clip-path=\"url(#pd8a31b40e0)\" d=\"M 246.7225 442.08 \r\nL 246.7225 7.2 \r\n\" style=\"fill:none;stroke:#b0b0b0;stroke-linecap:square;stroke-width:0.8;\"/>\r\n     </g>\r\n     <g id=\"text_77\">\r\n      <!-- 49 -->\r\n      <g transform=\"translate(248.102188 455.4425)rotate(-90)scale(0.05 -0.05)\">\r\n       <use xlink:href=\"#DejaVuSans-52\"/>\r\n       <use x=\"63.623047\" xlink:href=\"#DejaVuSans-57\"/>\r\n      </g>\r\n     </g>\r\n    </g>\r\n    <g id=\"xtick_78\">\r\n     <g id=\"line2d_78\">\r\n      <path clip-path=\"url(#pd8a31b40e0)\" d=\"M 249.5125 442.08 \r\nL 249.5125 7.2 \r\n\" style=\"fill:none;stroke:#b0b0b0;stroke-linecap:square;stroke-width:0.8;\"/>\r\n     </g>\r\n     <g id=\"text_78\">\r\n      <!-- 47 -->\r\n      <g transform=\"translate(250.892188 455.4425)rotate(-90)scale(0.05 -0.05)\">\r\n       <use xlink:href=\"#DejaVuSans-52\"/>\r\n       <use x=\"63.623047\" xlink:href=\"#DejaVuSans-55\"/>\r\n      </g>\r\n     </g>\r\n    </g>\r\n    <g id=\"xtick_79\">\r\n     <g id=\"line2d_79\">\r\n      <path clip-path=\"url(#pd8a31b40e0)\" d=\"M 252.3025 442.08 \r\nL 252.3025 7.2 \r\n\" style=\"fill:none;stroke:#b0b0b0;stroke-linecap:square;stroke-width:0.8;\"/>\r\n     </g>\r\n     <g id=\"text_79\">\r\n      <!-- 54 -->\r\n      <g transform=\"translate(253.682187 455.4425)rotate(-90)scale(0.05 -0.05)\">\r\n       <use xlink:href=\"#DejaVuSans-53\"/>\r\n       <use x=\"63.623047\" xlink:href=\"#DejaVuSans-52\"/>\r\n      </g>\r\n     </g>\r\n    </g>\r\n    <g id=\"xtick_80\">\r\n     <g id=\"line2d_80\">\r\n      <path clip-path=\"url(#pd8a31b40e0)\" d=\"M 255.0925 442.08 \r\nL 255.0925 7.2 \r\n\" style=\"fill:none;stroke:#b0b0b0;stroke-linecap:square;stroke-width:0.8;\"/>\r\n     </g>\r\n     <g id=\"text_80\">\r\n      <!-- 57 -->\r\n      <g transform=\"translate(256.472188 455.4425)rotate(-90)scale(0.05 -0.05)\">\r\n       <use xlink:href=\"#DejaVuSans-53\"/>\r\n       <use x=\"63.623047\" xlink:href=\"#DejaVuSans-55\"/>\r\n      </g>\r\n     </g>\r\n    </g>\r\n    <g id=\"xtick_81\">\r\n     <g id=\"line2d_81\">\r\n      <path clip-path=\"url(#pd8a31b40e0)\" d=\"M 257.8825 442.08 \r\nL 257.8825 7.2 \r\n\" style=\"fill:none;stroke:#b0b0b0;stroke-linecap:square;stroke-width:0.8;\"/>\r\n     </g>\r\n     <g id=\"text_81\">\r\n      <!-- 142 -->\r\n      <g transform=\"translate(259.262188 458.62375)rotate(-90)scale(0.05 -0.05)\">\r\n       <use xlink:href=\"#DejaVuSans-49\"/>\r\n       <use x=\"63.623047\" xlink:href=\"#DejaVuSans-52\"/>\r\n       <use x=\"127.246094\" xlink:href=\"#DejaVuSans-50\"/>\r\n      </g>\r\n     </g>\r\n    </g>\r\n    <g id=\"xtick_82\">\r\n     <g id=\"line2d_82\">\r\n      <path clip-path=\"url(#pd8a31b40e0)\" d=\"M 260.6725 442.08 \r\nL 260.6725 7.2 \r\n\" style=\"fill:none;stroke:#b0b0b0;stroke-linecap:square;stroke-width:0.8;\"/>\r\n     </g>\r\n     <g id=\"text_82\">\r\n      <!-- 146 -->\r\n      <g transform=\"translate(262.052188 458.62375)rotate(-90)scale(0.05 -0.05)\">\r\n       <use xlink:href=\"#DejaVuSans-49\"/>\r\n       <use x=\"63.623047\" xlink:href=\"#DejaVuSans-52\"/>\r\n       <use x=\"127.246094\" xlink:href=\"#DejaVuSans-54\"/>\r\n      </g>\r\n     </g>\r\n    </g>\r\n    <g id=\"xtick_83\">\r\n     <g id=\"line2d_83\">\r\n      <path clip-path=\"url(#pd8a31b40e0)\" d=\"M 263.4625 442.08 \r\nL 263.4625 7.2 \r\n\" style=\"fill:none;stroke:#b0b0b0;stroke-linecap:square;stroke-width:0.8;\"/>\r\n     </g>\r\n     <g id=\"text_83\">\r\n      <!-- 160 -->\r\n      <g transform=\"translate(264.842188 458.62375)rotate(-90)scale(0.05 -0.05)\">\r\n       <use xlink:href=\"#DejaVuSans-49\"/>\r\n       <use x=\"63.623047\" xlink:href=\"#DejaVuSans-54\"/>\r\n       <use x=\"127.246094\" xlink:href=\"#DejaVuSans-48\"/>\r\n      </g>\r\n     </g>\r\n    </g>\r\n    <g id=\"xtick_84\">\r\n     <g id=\"line2d_84\">\r\n      <path clip-path=\"url(#pd8a31b40e0)\" d=\"M 266.2525 442.08 \r\nL 266.2525 7.2 \r\n\" style=\"fill:none;stroke:#b0b0b0;stroke-linecap:square;stroke-width:0.8;\"/>\r\n     </g>\r\n     <g id=\"text_84\">\r\n      <!-- 124 -->\r\n      <g transform=\"translate(267.632188 458.62375)rotate(-90)scale(0.05 -0.05)\">\r\n       <use xlink:href=\"#DejaVuSans-49\"/>\r\n       <use x=\"63.623047\" xlink:href=\"#DejaVuSans-50\"/>\r\n       <use x=\"127.246094\" xlink:href=\"#DejaVuSans-52\"/>\r\n      </g>\r\n     </g>\r\n    </g>\r\n    <g id=\"xtick_85\">\r\n     <g id=\"line2d_85\">\r\n      <path clip-path=\"url(#pd8a31b40e0)\" d=\"M 269.0425 442.08 \r\nL 269.0425 7.2 \r\n\" style=\"fill:none;stroke:#b0b0b0;stroke-linecap:square;stroke-width:0.8;\"/>\r\n     </g>\r\n     <g id=\"text_85\">\r\n      <!-- 126 -->\r\n      <g transform=\"translate(270.422188 458.62375)rotate(-90)scale(0.05 -0.05)\">\r\n       <use xlink:href=\"#DejaVuSans-49\"/>\r\n       <use x=\"63.623047\" xlink:href=\"#DejaVuSans-50\"/>\r\n       <use x=\"127.246094\" xlink:href=\"#DejaVuSans-54\"/>\r\n      </g>\r\n     </g>\r\n    </g>\r\n    <g id=\"xtick_86\">\r\n     <g id=\"line2d_86\">\r\n      <path clip-path=\"url(#pd8a31b40e0)\" d=\"M 271.8325 442.08 \r\nL 271.8325 7.2 \r\n\" style=\"fill:none;stroke:#b0b0b0;stroke-linecap:square;stroke-width:0.8;\"/>\r\n     </g>\r\n     <g id=\"text_86\">\r\n      <!-- 132 -->\r\n      <g transform=\"translate(273.212188 458.62375)rotate(-90)scale(0.05 -0.05)\">\r\n       <use xlink:href=\"#DejaVuSans-49\"/>\r\n       <use x=\"63.623047\" xlink:href=\"#DejaVuSans-51\"/>\r\n       <use x=\"127.246094\" xlink:href=\"#DejaVuSans-50\"/>\r\n      </g>\r\n     </g>\r\n    </g>\r\n    <g id=\"xtick_87\">\r\n     <g id=\"line2d_87\">\r\n      <path clip-path=\"url(#pd8a31b40e0)\" d=\"M 274.6225 442.08 \r\nL 274.6225 7.2 \r\n\" style=\"fill:none;stroke:#b0b0b0;stroke-linecap:square;stroke-width:0.8;\"/>\r\n     </g>\r\n     <g id=\"text_87\">\r\n      <!-- 89 -->\r\n      <g transform=\"translate(276.002188 455.4425)rotate(-90)scale(0.05 -0.05)\">\r\n       <use xlink:href=\"#DejaVuSans-56\"/>\r\n       <use x=\"63.623047\" xlink:href=\"#DejaVuSans-57\"/>\r\n      </g>\r\n     </g>\r\n    </g>\r\n    <g id=\"xtick_88\">\r\n     <g id=\"line2d_88\">\r\n      <path clip-path=\"url(#pd8a31b40e0)\" d=\"M 277.4125 442.08 \r\nL 277.4125 7.2 \r\n\" style=\"fill:none;stroke:#b0b0b0;stroke-linecap:square;stroke-width:0.8;\"/>\r\n     </g>\r\n     <g id=\"text_88\">\r\n      <!-- 96 -->\r\n      <g transform=\"translate(278.792188 455.4425)rotate(-90)scale(0.05 -0.05)\">\r\n       <use xlink:href=\"#DejaVuSans-57\"/>\r\n       <use x=\"63.623047\" xlink:href=\"#DejaVuSans-54\"/>\r\n      </g>\r\n     </g>\r\n    </g>\r\n    <g id=\"xtick_89\">\r\n     <g id=\"line2d_89\">\r\n      <path clip-path=\"url(#pd8a31b40e0)\" d=\"M 280.2025 442.08 \r\nL 280.2025 7.2 \r\n\" style=\"fill:none;stroke:#b0b0b0;stroke-linecap:square;stroke-width:0.8;\"/>\r\n     </g>\r\n     <g id=\"text_89\">\r\n      <!-- 95 -->\r\n      <g transform=\"translate(281.582188 455.4425)rotate(-90)scale(0.05 -0.05)\">\r\n       <use xlink:href=\"#DejaVuSans-57\"/>\r\n       <use x=\"63.623047\" xlink:href=\"#DejaVuSans-53\"/>\r\n      </g>\r\n     </g>\r\n    </g>\r\n    <g id=\"xtick_90\">\r\n     <g id=\"line2d_90\">\r\n      <path clip-path=\"url(#pd8a31b40e0)\" d=\"M 282.9925 442.08 \r\nL 282.9925 7.2 \r\n\" style=\"fill:none;stroke:#b0b0b0;stroke-linecap:square;stroke-width:0.8;\"/>\r\n     </g>\r\n     <g id=\"text_90\">\r\n      <!-- 99 -->\r\n      <g transform=\"translate(284.372187 455.4425)rotate(-90)scale(0.05 -0.05)\">\r\n       <use xlink:href=\"#DejaVuSans-57\"/>\r\n       <use x=\"63.623047\" xlink:href=\"#DejaVuSans-57\"/>\r\n      </g>\r\n     </g>\r\n    </g>\r\n    <g id=\"xtick_91\">\r\n     <g id=\"line2d_91\">\r\n      <path clip-path=\"url(#pd8a31b40e0)\" d=\"M 285.7825 442.08 \r\nL 285.7825 7.2 \r\n\" style=\"fill:none;stroke:#b0b0b0;stroke-linecap:square;stroke-width:0.8;\"/>\r\n     </g>\r\n     <g id=\"text_91\">\r\n      <!-- 92 -->\r\n      <g transform=\"translate(287.162188 455.4425)rotate(-90)scale(0.05 -0.05)\">\r\n       <use xlink:href=\"#DejaVuSans-57\"/>\r\n       <use x=\"63.623047\" xlink:href=\"#DejaVuSans-50\"/>\r\n      </g>\r\n     </g>\r\n    </g>\r\n    <g id=\"xtick_92\">\r\n     <g id=\"line2d_92\">\r\n      <path clip-path=\"url(#pd8a31b40e0)\" d=\"M 288.5725 442.08 \r\nL 288.5725 7.2 \r\n\" style=\"fill:none;stroke:#b0b0b0;stroke-linecap:square;stroke-width:0.8;\"/>\r\n     </g>\r\n     <g id=\"text_92\">\r\n      <!-- 97 -->\r\n      <g transform=\"translate(289.952188 455.4425)rotate(-90)scale(0.05 -0.05)\">\r\n       <use xlink:href=\"#DejaVuSans-57\"/>\r\n       <use x=\"63.623047\" xlink:href=\"#DejaVuSans-55\"/>\r\n      </g>\r\n     </g>\r\n    </g>\r\n    <g id=\"xtick_93\">\r\n     <g id=\"line2d_93\">\r\n      <path clip-path=\"url(#pd8a31b40e0)\" d=\"M 291.3625 442.08 \r\nL 291.3625 7.2 \r\n\" style=\"fill:none;stroke:#b0b0b0;stroke-linecap:square;stroke-width:0.8;\"/>\r\n     </g>\r\n     <g id=\"text_93\">\r\n      <!-- 101 -->\r\n      <g transform=\"translate(292.742188 458.62375)rotate(-90)scale(0.05 -0.05)\">\r\n       <use xlink:href=\"#DejaVuSans-49\"/>\r\n       <use x=\"63.623047\" xlink:href=\"#DejaVuSans-48\"/>\r\n       <use x=\"127.246094\" xlink:href=\"#DejaVuSans-49\"/>\r\n      </g>\r\n     </g>\r\n    </g>\r\n    <g id=\"xtick_94\">\r\n     <g id=\"line2d_94\">\r\n      <path clip-path=\"url(#pd8a31b40e0)\" d=\"M 294.1525 442.08 \r\nL 294.1525 7.2 \r\n\" style=\"fill:none;stroke:#b0b0b0;stroke-linecap:square;stroke-width:0.8;\"/>\r\n     </g>\r\n     <g id=\"text_94\">\r\n      <!-- 109 -->\r\n      <g transform=\"translate(295.532188 458.62375)rotate(-90)scale(0.05 -0.05)\">\r\n       <use xlink:href=\"#DejaVuSans-49\"/>\r\n       <use x=\"63.623047\" xlink:href=\"#DejaVuSans-48\"/>\r\n       <use x=\"127.246094\" xlink:href=\"#DejaVuSans-57\"/>\r\n      </g>\r\n     </g>\r\n    </g>\r\n    <g id=\"xtick_95\">\r\n     <g id=\"line2d_95\">\r\n      <path clip-path=\"url(#pd8a31b40e0)\" d=\"M 296.9425 442.08 \r\nL 296.9425 7.2 \r\n\" style=\"fill:none;stroke:#b0b0b0;stroke-linecap:square;stroke-width:0.8;\"/>\r\n     </g>\r\n     <g id=\"text_95\">\r\n      <!-- 107 -->\r\n      <g transform=\"translate(298.322188 458.62375)rotate(-90)scale(0.05 -0.05)\">\r\n       <use xlink:href=\"#DejaVuSans-49\"/>\r\n       <use x=\"63.623047\" xlink:href=\"#DejaVuSans-48\"/>\r\n       <use x=\"127.246094\" xlink:href=\"#DejaVuSans-55\"/>\r\n      </g>\r\n     </g>\r\n    </g>\r\n    <g id=\"xtick_96\">\r\n     <g id=\"line2d_96\">\r\n      <path clip-path=\"url(#pd8a31b40e0)\" d=\"M 299.7325 442.08 \r\nL 299.7325 7.2 \r\n\" style=\"fill:none;stroke:#b0b0b0;stroke-linecap:square;stroke-width:0.8;\"/>\r\n     </g>\r\n     <g id=\"text_96\">\r\n      <!-- 113 -->\r\n      <g transform=\"translate(301.112188 458.62375)rotate(-90)scale(0.05 -0.05)\">\r\n       <use xlink:href=\"#DejaVuSans-49\"/>\r\n       <use x=\"63.623047\" xlink:href=\"#DejaVuSans-49\"/>\r\n       <use x=\"127.246094\" xlink:href=\"#DejaVuSans-51\"/>\r\n      </g>\r\n     </g>\r\n    </g>\r\n    <g id=\"xtick_97\">\r\n     <g id=\"line2d_97\">\r\n      <path clip-path=\"url(#pd8a31b40e0)\" d=\"M 302.5225 442.08 \r\nL 302.5225 7.2 \r\n\" style=\"fill:none;stroke:#b0b0b0;stroke-linecap:square;stroke-width:0.8;\"/>\r\n     </g>\r\n     <g id=\"text_97\">\r\n      <!-- 106 -->\r\n      <g transform=\"translate(303.902188 458.62375)rotate(-90)scale(0.05 -0.05)\">\r\n       <use xlink:href=\"#DejaVuSans-49\"/>\r\n       <use x=\"63.623047\" xlink:href=\"#DejaVuSans-48\"/>\r\n       <use x=\"127.246094\" xlink:href=\"#DejaVuSans-54\"/>\r\n      </g>\r\n     </g>\r\n    </g>\r\n    <g id=\"xtick_98\">\r\n     <g id=\"line2d_98\">\r\n      <path clip-path=\"url(#pd8a31b40e0)\" d=\"M 305.3125 442.08 \r\nL 305.3125 7.2 \r\n\" style=\"fill:none;stroke:#b0b0b0;stroke-linecap:square;stroke-width:0.8;\"/>\r\n     </g>\r\n     <g id=\"text_98\">\r\n      <!-- 110 -->\r\n      <g transform=\"translate(306.692188 458.62375)rotate(-90)scale(0.05 -0.05)\">\r\n       <use xlink:href=\"#DejaVuSans-49\"/>\r\n       <use x=\"63.623047\" xlink:href=\"#DejaVuSans-49\"/>\r\n       <use x=\"127.246094\" xlink:href=\"#DejaVuSans-48\"/>\r\n      </g>\r\n     </g>\r\n    </g>\r\n    <g id=\"xtick_99\">\r\n     <g id=\"line2d_99\">\r\n      <path clip-path=\"url(#pd8a31b40e0)\" d=\"M 308.1025 442.08 \r\nL 308.1025 7.2 \r\n\" style=\"fill:none;stroke:#b0b0b0;stroke-linecap:square;stroke-width:0.8;\"/>\r\n     </g>\r\n     <g id=\"text_99\">\r\n      <!-- 114 -->\r\n      <g transform=\"translate(309.482188 458.62375)rotate(-90)scale(0.05 -0.05)\">\r\n       <use xlink:href=\"#DejaVuSans-49\"/>\r\n       <use x=\"63.623047\" xlink:href=\"#DejaVuSans-49\"/>\r\n       <use x=\"127.246094\" xlink:href=\"#DejaVuSans-52\"/>\r\n      </g>\r\n     </g>\r\n    </g>\r\n    <g id=\"xtick_100\">\r\n     <g id=\"line2d_100\">\r\n      <path clip-path=\"url(#pd8a31b40e0)\" d=\"M 310.8925 442.08 \r\nL 310.8925 7.2 \r\n\" style=\"fill:none;stroke:#b0b0b0;stroke-linecap:square;stroke-width:0.8;\"/>\r\n     </g>\r\n     <g id=\"text_100\">\r\n      <!-- 115 -->\r\n      <g transform=\"translate(312.272188 458.62375)rotate(-90)scale(0.05 -0.05)\">\r\n       <use xlink:href=\"#DejaVuSans-49\"/>\r\n       <use x=\"63.623047\" xlink:href=\"#DejaVuSans-49\"/>\r\n       <use x=\"127.246094\" xlink:href=\"#DejaVuSans-53\"/>\r\n      </g>\r\n     </g>\r\n    </g>\r\n    <g id=\"xtick_101\">\r\n     <g id=\"line2d_101\">\r\n      <path clip-path=\"url(#pd8a31b40e0)\" d=\"M 313.6825 442.08 \r\nL 313.6825 7.2 \r\n\" style=\"fill:none;stroke:#b0b0b0;stroke-linecap:square;stroke-width:0.8;\"/>\r\n     </g>\r\n     <g id=\"text_101\">\r\n      <!-- 91 -->\r\n      <g transform=\"translate(315.062188 455.4425)rotate(-90)scale(0.05 -0.05)\">\r\n       <use xlink:href=\"#DejaVuSans-57\"/>\r\n       <use x=\"63.623047\" xlink:href=\"#DejaVuSans-49\"/>\r\n      </g>\r\n     </g>\r\n    </g>\r\n    <g id=\"xtick_102\">\r\n     <g id=\"line2d_102\">\r\n      <path clip-path=\"url(#pd8a31b40e0)\" d=\"M 316.4725 442.08 \r\nL 316.4725 7.2 \r\n\" style=\"fill:none;stroke:#b0b0b0;stroke-linecap:square;stroke-width:0.8;\"/>\r\n     </g>\r\n     <g id=\"text_102\">\r\n      <!-- 93 -->\r\n      <g transform=\"translate(317.852188 455.4425)rotate(-90)scale(0.05 -0.05)\">\r\n       <use xlink:href=\"#DejaVuSans-57\"/>\r\n       <use x=\"63.623047\" xlink:href=\"#DejaVuSans-51\"/>\r\n      </g>\r\n     </g>\r\n    </g>\r\n    <g id=\"xtick_103\">\r\n     <g id=\"line2d_103\">\r\n      <path clip-path=\"url(#pd8a31b40e0)\" d=\"M 319.2625 442.08 \r\nL 319.2625 7.2 \r\n\" style=\"fill:none;stroke:#b0b0b0;stroke-linecap:square;stroke-width:0.8;\"/>\r\n     </g>\r\n     <g id=\"text_103\">\r\n      <!-- 94 -->\r\n      <g transform=\"translate(320.642188 455.4425)rotate(-90)scale(0.05 -0.05)\">\r\n       <use xlink:href=\"#DejaVuSans-57\"/>\r\n       <use x=\"63.623047\" xlink:href=\"#DejaVuSans-52\"/>\r\n      </g>\r\n     </g>\r\n    </g>\r\n    <g id=\"xtick_104\">\r\n     <g id=\"line2d_104\">\r\n      <path clip-path=\"url(#pd8a31b40e0)\" d=\"M 322.0525 442.08 \r\nL 322.0525 7.2 \r\n\" style=\"fill:none;stroke:#b0b0b0;stroke-linecap:square;stroke-width:0.8;\"/>\r\n     </g>\r\n     <g id=\"text_104\">\r\n      <!-- 98 -->\r\n      <g transform=\"translate(323.432188 455.4425)rotate(-90)scale(0.05 -0.05)\">\r\n       <use xlink:href=\"#DejaVuSans-57\"/>\r\n       <use x=\"63.623047\" xlink:href=\"#DejaVuSans-56\"/>\r\n      </g>\r\n     </g>\r\n    </g>\r\n    <g id=\"xtick_105\">\r\n     <g id=\"line2d_105\">\r\n      <path clip-path=\"url(#pd8a31b40e0)\" d=\"M 324.8425 442.08 \r\nL 324.8425 7.2 \r\n\" style=\"fill:none;stroke:#b0b0b0;stroke-linecap:square;stroke-width:0.8;\"/>\r\n     </g>\r\n     <g id=\"text_105\">\r\n      <!-- 100 -->\r\n      <g transform=\"translate(326.222188 458.62375)rotate(-90)scale(0.05 -0.05)\">\r\n       <use xlink:href=\"#DejaVuSans-49\"/>\r\n       <use x=\"63.623047\" xlink:href=\"#DejaVuSans-48\"/>\r\n       <use x=\"127.246094\" xlink:href=\"#DejaVuSans-48\"/>\r\n      </g>\r\n     </g>\r\n    </g>\r\n    <g id=\"xtick_106\">\r\n     <g id=\"line2d_106\">\r\n      <path clip-path=\"url(#pd8a31b40e0)\" d=\"M 327.6325 442.08 \r\nL 327.6325 7.2 \r\n\" style=\"fill:none;stroke:#b0b0b0;stroke-linecap:square;stroke-width:0.8;\"/>\r\n     </g>\r\n     <g id=\"text_106\">\r\n      <!-- 105 -->\r\n      <g transform=\"translate(329.012188 458.62375)rotate(-90)scale(0.05 -0.05)\">\r\n       <use xlink:href=\"#DejaVuSans-49\"/>\r\n       <use x=\"63.623047\" xlink:href=\"#DejaVuSans-48\"/>\r\n       <use x=\"127.246094\" xlink:href=\"#DejaVuSans-53\"/>\r\n      </g>\r\n     </g>\r\n    </g>\r\n    <g id=\"xtick_107\">\r\n     <g id=\"line2d_107\">\r\n      <path clip-path=\"url(#pd8a31b40e0)\" d=\"M 330.4225 442.08 \r\nL 330.4225 7.2 \r\n\" style=\"fill:none;stroke:#b0b0b0;stroke-linecap:square;stroke-width:0.8;\"/>\r\n     </g>\r\n     <g id=\"text_107\">\r\n      <!-- 116 -->\r\n      <g transform=\"translate(331.802188 458.62375)rotate(-90)scale(0.05 -0.05)\">\r\n       <use xlink:href=\"#DejaVuSans-49\"/>\r\n       <use x=\"63.623047\" xlink:href=\"#DejaVuSans-49\"/>\r\n       <use x=\"127.246094\" xlink:href=\"#DejaVuSans-54\"/>\r\n      </g>\r\n     </g>\r\n    </g>\r\n    <g id=\"xtick_108\">\r\n     <g id=\"line2d_108\">\r\n      <path clip-path=\"url(#pd8a31b40e0)\" d=\"M 333.2125 442.08 \r\nL 333.2125 7.2 \r\n\" style=\"fill:none;stroke:#b0b0b0;stroke-linecap:square;stroke-width:0.8;\"/>\r\n     </g>\r\n     <g id=\"text_108\">\r\n      <!-- 108 -->\r\n      <g transform=\"translate(334.592188 458.62375)rotate(-90)scale(0.05 -0.05)\">\r\n       <use xlink:href=\"#DejaVuSans-49\"/>\r\n       <use x=\"63.623047\" xlink:href=\"#DejaVuSans-48\"/>\r\n       <use x=\"127.246094\" xlink:href=\"#DejaVuSans-56\"/>\r\n      </g>\r\n     </g>\r\n    </g>\r\n    <g id=\"xtick_109\">\r\n     <g id=\"line2d_109\">\r\n      <path clip-path=\"url(#pd8a31b40e0)\" d=\"M 336.0025 442.08 \r\nL 336.0025 7.2 \r\n\" style=\"fill:none;stroke:#b0b0b0;stroke-linecap:square;stroke-width:0.8;\"/>\r\n     </g>\r\n     <g id=\"text_109\">\r\n      <!-- 112 -->\r\n      <g transform=\"translate(337.382188 458.62375)rotate(-90)scale(0.05 -0.05)\">\r\n       <use xlink:href=\"#DejaVuSans-49\"/>\r\n       <use x=\"63.623047\" xlink:href=\"#DejaVuSans-49\"/>\r\n       <use x=\"127.246094\" xlink:href=\"#DejaVuSans-50\"/>\r\n      </g>\r\n     </g>\r\n    </g>\r\n    <g id=\"xtick_110\">\r\n     <g id=\"line2d_110\">\r\n      <path clip-path=\"url(#pd8a31b40e0)\" d=\"M 338.7925 442.08 \r\nL 338.7925 7.2 \r\n\" style=\"fill:none;stroke:#b0b0b0;stroke-linecap:square;stroke-width:0.8;\"/>\r\n     </g>\r\n     <g id=\"text_110\">\r\n      <!-- 118 -->\r\n      <g transform=\"translate(340.172188 458.62375)rotate(-90)scale(0.05 -0.05)\">\r\n       <use xlink:href=\"#DejaVuSans-49\"/>\r\n       <use x=\"63.623047\" xlink:href=\"#DejaVuSans-49\"/>\r\n       <use x=\"127.246094\" xlink:href=\"#DejaVuSans-56\"/>\r\n      </g>\r\n     </g>\r\n    </g>\r\n    <g id=\"xtick_111\">\r\n     <g id=\"line2d_111\">\r\n      <path clip-path=\"url(#pd8a31b40e0)\" d=\"M 341.5825 442.08 \r\nL 341.5825 7.2 \r\n\" style=\"fill:none;stroke:#b0b0b0;stroke-linecap:square;stroke-width:0.8;\"/>\r\n     </g>\r\n     <g id=\"text_111\">\r\n      <!-- 121 -->\r\n      <g transform=\"translate(342.962188 458.62375)rotate(-90)scale(0.05 -0.05)\">\r\n       <use xlink:href=\"#DejaVuSans-49\"/>\r\n       <use x=\"63.623047\" xlink:href=\"#DejaVuSans-50\"/>\r\n       <use x=\"127.246094\" xlink:href=\"#DejaVuSans-49\"/>\r\n      </g>\r\n     </g>\r\n    </g>\r\n    <g id=\"xtick_112\">\r\n     <g id=\"line2d_112\">\r\n      <path clip-path=\"url(#pd8a31b40e0)\" d=\"M 344.3725 442.08 \r\nL 344.3725 7.2 \r\n\" style=\"fill:none;stroke:#b0b0b0;stroke-linecap:square;stroke-width:0.8;\"/>\r\n     </g>\r\n     <g id=\"text_112\">\r\n      <!-- 122 -->\r\n      <g transform=\"translate(345.752188 458.62375)rotate(-90)scale(0.05 -0.05)\">\r\n       <use xlink:href=\"#DejaVuSans-49\"/>\r\n       <use x=\"63.623047\" xlink:href=\"#DejaVuSans-50\"/>\r\n       <use x=\"127.246094\" xlink:href=\"#DejaVuSans-50\"/>\r\n      </g>\r\n     </g>\r\n    </g>\r\n    <g id=\"xtick_113\">\r\n     <g id=\"line2d_113\">\r\n      <path clip-path=\"url(#pd8a31b40e0)\" d=\"M 347.1625 442.08 \r\nL 347.1625 7.2 \r\n\" style=\"fill:none;stroke:#b0b0b0;stroke-linecap:square;stroke-width:0.8;\"/>\r\n     </g>\r\n     <g id=\"text_113\">\r\n      <!-- 119 -->\r\n      <g transform=\"translate(348.542188 458.62375)rotate(-90)scale(0.05 -0.05)\">\r\n       <use xlink:href=\"#DejaVuSans-49\"/>\r\n       <use x=\"63.623047\" xlink:href=\"#DejaVuSans-49\"/>\r\n       <use x=\"127.246094\" xlink:href=\"#DejaVuSans-57\"/>\r\n      </g>\r\n     </g>\r\n    </g>\r\n    <g id=\"xtick_114\">\r\n     <g id=\"line2d_114\">\r\n      <path clip-path=\"url(#pd8a31b40e0)\" d=\"M 349.9525 442.08 \r\nL 349.9525 7.2 \r\n\" style=\"fill:none;stroke:#b0b0b0;stroke-linecap:square;stroke-width:0.8;\"/>\r\n     </g>\r\n     <g id=\"text_114\">\r\n      <!-- 120 -->\r\n      <g transform=\"translate(351.332188 458.62375)rotate(-90)scale(0.05 -0.05)\">\r\n       <use xlink:href=\"#DejaVuSans-49\"/>\r\n       <use x=\"63.623047\" xlink:href=\"#DejaVuSans-50\"/>\r\n       <use x=\"127.246094\" xlink:href=\"#DejaVuSans-48\"/>\r\n      </g>\r\n     </g>\r\n    </g>\r\n    <g id=\"xtick_115\">\r\n     <g id=\"line2d_115\">\r\n      <path clip-path=\"url(#pd8a31b40e0)\" d=\"M 352.7425 442.08 \r\nL 352.7425 7.2 \r\n\" style=\"fill:none;stroke:#b0b0b0;stroke-linecap:square;stroke-width:0.8;\"/>\r\n     </g>\r\n     <g id=\"text_115\">\r\n      <!-- 111 -->\r\n      <g transform=\"translate(354.122188 458.62375)rotate(-90)scale(0.05 -0.05)\">\r\n       <use xlink:href=\"#DejaVuSans-49\"/>\r\n       <use x=\"63.623047\" xlink:href=\"#DejaVuSans-49\"/>\r\n       <use x=\"127.246094\" xlink:href=\"#DejaVuSans-49\"/>\r\n      </g>\r\n     </g>\r\n    </g>\r\n    <g id=\"xtick_116\">\r\n     <g id=\"line2d_116\">\r\n      <path clip-path=\"url(#pd8a31b40e0)\" d=\"M 355.5325 442.08 \r\nL 355.5325 7.2 \r\n\" style=\"fill:none;stroke:#b0b0b0;stroke-linecap:square;stroke-width:0.8;\"/>\r\n     </g>\r\n     <g id=\"text_116\">\r\n      <!-- 103 -->\r\n      <g transform=\"translate(356.912188 458.62375)rotate(-90)scale(0.05 -0.05)\">\r\n       <use xlink:href=\"#DejaVuSans-49\"/>\r\n       <use x=\"63.623047\" xlink:href=\"#DejaVuSans-48\"/>\r\n       <use x=\"127.246094\" xlink:href=\"#DejaVuSans-51\"/>\r\n      </g>\r\n     </g>\r\n    </g>\r\n    <g id=\"xtick_117\">\r\n     <g id=\"line2d_117\">\r\n      <path clip-path=\"url(#pd8a31b40e0)\" d=\"M 358.3225 442.08 \r\nL 358.3225 7.2 \r\n\" style=\"fill:none;stroke:#b0b0b0;stroke-linecap:square;stroke-width:0.8;\"/>\r\n     </g>\r\n     <g id=\"text_117\">\r\n      <!-- 104 -->\r\n      <g transform=\"translate(359.702188 458.62375)rotate(-90)scale(0.05 -0.05)\">\r\n       <use xlink:href=\"#DejaVuSans-49\"/>\r\n       <use x=\"63.623047\" xlink:href=\"#DejaVuSans-48\"/>\r\n       <use x=\"127.246094\" xlink:href=\"#DejaVuSans-52\"/>\r\n      </g>\r\n     </g>\r\n    </g>\r\n    <g id=\"xtick_118\">\r\n     <g id=\"line2d_118\">\r\n      <path clip-path=\"url(#pd8a31b40e0)\" d=\"M 361.1125 442.08 \r\nL 361.1125 7.2 \r\n\" style=\"fill:none;stroke:#b0b0b0;stroke-linecap:square;stroke-width:0.8;\"/>\r\n     </g>\r\n     <g id=\"text_118\">\r\n      <!-- 102 -->\r\n      <g transform=\"translate(362.492188 458.62375)rotate(-90)scale(0.05 -0.05)\">\r\n       <use xlink:href=\"#DejaVuSans-49\"/>\r\n       <use x=\"63.623047\" xlink:href=\"#DejaVuSans-48\"/>\r\n       <use x=\"127.246094\" xlink:href=\"#DejaVuSans-50\"/>\r\n      </g>\r\n     </g>\r\n    </g>\r\n    <g id=\"xtick_119\">\r\n     <g id=\"line2d_119\">\r\n      <path clip-path=\"url(#pd8a31b40e0)\" d=\"M 363.9025 442.08 \r\nL 363.9025 7.2 \r\n\" style=\"fill:none;stroke:#b0b0b0;stroke-linecap:square;stroke-width:0.8;\"/>\r\n     </g>\r\n     <g id=\"text_119\">\r\n      <!-- 117 -->\r\n      <g transform=\"translate(365.282188 458.62375)rotate(-90)scale(0.05 -0.05)\">\r\n       <use xlink:href=\"#DejaVuSans-49\"/>\r\n       <use x=\"63.623047\" xlink:href=\"#DejaVuSans-49\"/>\r\n       <use x=\"127.246094\" xlink:href=\"#DejaVuSans-55\"/>\r\n      </g>\r\n     </g>\r\n    </g>\r\n    <g id=\"xtick_120\">\r\n     <g id=\"line2d_120\">\r\n      <path clip-path=\"url(#pd8a31b40e0)\" d=\"M 366.6925 442.08 \r\nL 366.6925 7.2 \r\n\" style=\"fill:none;stroke:#b0b0b0;stroke-linecap:square;stroke-width:0.8;\"/>\r\n     </g>\r\n     <g id=\"text_120\">\r\n      <!-- 78 -->\r\n      <g transform=\"translate(368.072188 455.4425)rotate(-90)scale(0.05 -0.05)\">\r\n       <use xlink:href=\"#DejaVuSans-55\"/>\r\n       <use x=\"63.623047\" xlink:href=\"#DejaVuSans-56\"/>\r\n      </g>\r\n     </g>\r\n    </g>\r\n    <g id=\"xtick_121\">\r\n     <g id=\"line2d_121\">\r\n      <path clip-path=\"url(#pd8a31b40e0)\" d=\"M 369.4825 442.08 \r\nL 369.4825 7.2 \r\n\" style=\"fill:none;stroke:#b0b0b0;stroke-linecap:square;stroke-width:0.8;\"/>\r\n     </g>\r\n     <g id=\"text_121\">\r\n      <!-- 80 -->\r\n      <g transform=\"translate(370.862188 455.4425)rotate(-90)scale(0.05 -0.05)\">\r\n       <use xlink:href=\"#DejaVuSans-56\"/>\r\n       <use x=\"63.623047\" xlink:href=\"#DejaVuSans-48\"/>\r\n      </g>\r\n     </g>\r\n    </g>\r\n    <g id=\"xtick_122\">\r\n     <g id=\"line2d_122\">\r\n      <path clip-path=\"url(#pd8a31b40e0)\" d=\"M 372.2725 442.08 \r\nL 372.2725 7.2 \r\n\" style=\"fill:none;stroke:#b0b0b0;stroke-linecap:square;stroke-width:0.8;\"/>\r\n     </g>\r\n     <g id=\"text_122\">\r\n      <!-- 84 -->\r\n      <g transform=\"translate(373.652188 455.4425)rotate(-90)scale(0.05 -0.05)\">\r\n       <use xlink:href=\"#DejaVuSans-56\"/>\r\n       <use x=\"63.623047\" xlink:href=\"#DejaVuSans-52\"/>\r\n      </g>\r\n     </g>\r\n    </g>\r\n    <g id=\"xtick_123\">\r\n     <g id=\"line2d_123\">\r\n      <path clip-path=\"url(#pd8a31b40e0)\" d=\"M 375.0625 442.08 \r\nL 375.0625 7.2 \r\n\" style=\"fill:none;stroke:#b0b0b0;stroke-linecap:square;stroke-width:0.8;\"/>\r\n     </g>\r\n     <g id=\"text_123\">\r\n      <!-- 76 -->\r\n      <g transform=\"translate(376.442188 455.4425)rotate(-90)scale(0.05 -0.05)\">\r\n       <use xlink:href=\"#DejaVuSans-55\"/>\r\n       <use x=\"63.623047\" xlink:href=\"#DejaVuSans-54\"/>\r\n      </g>\r\n     </g>\r\n    </g>\r\n    <g id=\"xtick_124\">\r\n     <g id=\"line2d_124\">\r\n      <path clip-path=\"url(#pd8a31b40e0)\" d=\"M 377.8525 442.08 \r\nL 377.8525 7.2 \r\n\" style=\"fill:none;stroke:#b0b0b0;stroke-linecap:square;stroke-width:0.8;\"/>\r\n     </g>\r\n     <g id=\"text_124\">\r\n      <!-- 75 -->\r\n      <g transform=\"translate(379.232188 455.4425)rotate(-90)scale(0.05 -0.05)\">\r\n       <use xlink:href=\"#DejaVuSans-55\"/>\r\n       <use x=\"63.623047\" xlink:href=\"#DejaVuSans-53\"/>\r\n      </g>\r\n     </g>\r\n    </g>\r\n    <g id=\"xtick_125\">\r\n     <g id=\"line2d_125\">\r\n      <path clip-path=\"url(#pd8a31b40e0)\" d=\"M 380.6425 442.08 \r\nL 380.6425 7.2 \r\n\" style=\"fill:none;stroke:#b0b0b0;stroke-linecap:square;stroke-width:0.8;\"/>\r\n     </g>\r\n     <g id=\"text_125\">\r\n      <!-- 81 -->\r\n      <g transform=\"translate(382.022188 455.4425)rotate(-90)scale(0.05 -0.05)\">\r\n       <use xlink:href=\"#DejaVuSans-56\"/>\r\n       <use x=\"63.623047\" xlink:href=\"#DejaVuSans-49\"/>\r\n      </g>\r\n     </g>\r\n    </g>\r\n    <g id=\"xtick_126\">\r\n     <g id=\"line2d_126\">\r\n      <path clip-path=\"url(#pd8a31b40e0)\" d=\"M 383.4325 442.08 \r\nL 383.4325 7.2 \r\n\" style=\"fill:none;stroke:#b0b0b0;stroke-linecap:square;stroke-width:0.8;\"/>\r\n     </g>\r\n     <g id=\"text_126\">\r\n      <!-- 87 -->\r\n      <g transform=\"translate(384.812188 455.4425)rotate(-90)scale(0.05 -0.05)\">\r\n       <use xlink:href=\"#DejaVuSans-56\"/>\r\n       <use x=\"63.623047\" xlink:href=\"#DejaVuSans-55\"/>\r\n      </g>\r\n     </g>\r\n    </g>\r\n    <g id=\"xtick_127\">\r\n     <g id=\"line2d_127\">\r\n      <path clip-path=\"url(#pd8a31b40e0)\" d=\"M 386.2225 442.08 \r\nL 386.2225 7.2 \r\n\" style=\"fill:none;stroke:#b0b0b0;stroke-linecap:square;stroke-width:0.8;\"/>\r\n     </g>\r\n     <g id=\"text_127\">\r\n      <!-- 90 -->\r\n      <g transform=\"translate(387.602188 455.4425)rotate(-90)scale(0.05 -0.05)\">\r\n       <use xlink:href=\"#DejaVuSans-57\"/>\r\n       <use x=\"63.623047\" xlink:href=\"#DejaVuSans-48\"/>\r\n      </g>\r\n     </g>\r\n    </g>\r\n    <g id=\"xtick_128\">\r\n     <g id=\"line2d_128\">\r\n      <path clip-path=\"url(#pd8a31b40e0)\" d=\"M 389.0125 442.08 \r\nL 389.0125 7.2 \r\n\" style=\"fill:none;stroke:#b0b0b0;stroke-linecap:square;stroke-width:0.8;\"/>\r\n     </g>\r\n     <g id=\"text_128\">\r\n      <!-- 86 -->\r\n      <g transform=\"translate(390.392188 455.4425)rotate(-90)scale(0.05 -0.05)\">\r\n       <use xlink:href=\"#DejaVuSans-56\"/>\r\n       <use x=\"63.623047\" xlink:href=\"#DejaVuSans-54\"/>\r\n      </g>\r\n     </g>\r\n    </g>\r\n    <g id=\"xtick_129\">\r\n     <g id=\"line2d_129\">\r\n      <path clip-path=\"url(#pd8a31b40e0)\" d=\"M 391.8025 442.08 \r\nL 391.8025 7.2 \r\n\" style=\"fill:none;stroke:#b0b0b0;stroke-linecap:square;stroke-width:0.8;\"/>\r\n     </g>\r\n     <g id=\"text_129\">\r\n      <!-- 88 -->\r\n      <g transform=\"translate(393.182188 455.4425)rotate(-90)scale(0.05 -0.05)\">\r\n       <use xlink:href=\"#DejaVuSans-56\"/>\r\n       <use x=\"63.623047\" xlink:href=\"#DejaVuSans-56\"/>\r\n      </g>\r\n     </g>\r\n    </g>\r\n    <g id=\"xtick_130\">\r\n     <g id=\"line2d_130\">\r\n      <path clip-path=\"url(#pd8a31b40e0)\" d=\"M 394.5925 442.08 \r\nL 394.5925 7.2 \r\n\" style=\"fill:none;stroke:#b0b0b0;stroke-linecap:square;stroke-width:0.8;\"/>\r\n     </g>\r\n     <g id=\"text_130\">\r\n      <!-- 199 -->\r\n      <g transform=\"translate(395.972188 458.62375)rotate(-90)scale(0.05 -0.05)\">\r\n       <use xlink:href=\"#DejaVuSans-49\"/>\r\n       <use x=\"63.623047\" xlink:href=\"#DejaVuSans-57\"/>\r\n       <use x=\"127.246094\" xlink:href=\"#DejaVuSans-57\"/>\r\n      </g>\r\n     </g>\r\n    </g>\r\n    <g id=\"xtick_131\">\r\n     <g id=\"line2d_131\">\r\n      <path clip-path=\"url(#pd8a31b40e0)\" d=\"M 397.3825 442.08 \r\nL 397.3825 7.2 \r\n\" style=\"fill:none;stroke:#b0b0b0;stroke-linecap:square;stroke-width:0.8;\"/>\r\n     </g>\r\n     <g id=\"text_131\">\r\n      <!-- 195 -->\r\n      <g transform=\"translate(398.762188 458.62375)rotate(-90)scale(0.05 -0.05)\">\r\n       <use xlink:href=\"#DejaVuSans-49\"/>\r\n       <use x=\"63.623047\" xlink:href=\"#DejaVuSans-57\"/>\r\n       <use x=\"127.246094\" xlink:href=\"#DejaVuSans-53\"/>\r\n      </g>\r\n     </g>\r\n    </g>\r\n    <g id=\"xtick_132\">\r\n     <g id=\"line2d_132\">\r\n      <path clip-path=\"url(#pd8a31b40e0)\" d=\"M 400.1725 442.08 \r\nL 400.1725 7.2 \r\n\" style=\"fill:none;stroke:#b0b0b0;stroke-linecap:square;stroke-width:0.8;\"/>\r\n     </g>\r\n     <g id=\"text_132\">\r\n      <!-- 197 -->\r\n      <g transform=\"translate(401.552188 458.62375)rotate(-90)scale(0.05 -0.05)\">\r\n       <use xlink:href=\"#DejaVuSans-49\"/>\r\n       <use x=\"63.623047\" xlink:href=\"#DejaVuSans-57\"/>\r\n       <use x=\"127.246094\" xlink:href=\"#DejaVuSans-55\"/>\r\n      </g>\r\n     </g>\r\n    </g>\r\n    <g id=\"xtick_133\">\r\n     <g id=\"line2d_133\">\r\n      <path clip-path=\"url(#pd8a31b40e0)\" d=\"M 402.9625 442.08 \r\nL 402.9625 7.2 \r\n\" style=\"fill:none;stroke:#b0b0b0;stroke-linecap:square;stroke-width:0.8;\"/>\r\n     </g>\r\n     <g id=\"text_133\">\r\n      <!-- 193 -->\r\n      <g transform=\"translate(404.342188 458.62375)rotate(-90)scale(0.05 -0.05)\">\r\n       <use xlink:href=\"#DejaVuSans-49\"/>\r\n       <use x=\"63.623047\" xlink:href=\"#DejaVuSans-57\"/>\r\n       <use x=\"127.246094\" xlink:href=\"#DejaVuSans-51\"/>\r\n      </g>\r\n     </g>\r\n    </g>\r\n    <g id=\"xtick_134\">\r\n     <g id=\"line2d_134\">\r\n      <path clip-path=\"url(#pd8a31b40e0)\" d=\"M 405.7525 442.08 \r\nL 405.7525 7.2 \r\n\" style=\"fill:none;stroke:#b0b0b0;stroke-linecap:square;stroke-width:0.8;\"/>\r\n     </g>\r\n     <g id=\"text_134\">\r\n      <!-- 185 -->\r\n      <g transform=\"translate(407.132188 458.62375)rotate(-90)scale(0.05 -0.05)\">\r\n       <use xlink:href=\"#DejaVuSans-49\"/>\r\n       <use x=\"63.623047\" xlink:href=\"#DejaVuSans-56\"/>\r\n       <use x=\"127.246094\" xlink:href=\"#DejaVuSans-53\"/>\r\n      </g>\r\n     </g>\r\n    </g>\r\n    <g id=\"xtick_135\">\r\n     <g id=\"line2d_135\">\r\n      <path clip-path=\"url(#pd8a31b40e0)\" d=\"M 408.5425 442.08 \r\nL 408.5425 7.2 \r\n\" style=\"fill:none;stroke:#b0b0b0;stroke-linecap:square;stroke-width:0.8;\"/>\r\n     </g>\r\n     <g id=\"text_135\">\r\n      <!-- 189 -->\r\n      <g transform=\"translate(409.922188 458.62375)rotate(-90)scale(0.05 -0.05)\">\r\n       <use xlink:href=\"#DejaVuSans-49\"/>\r\n       <use x=\"63.623047\" xlink:href=\"#DejaVuSans-56\"/>\r\n       <use x=\"127.246094\" xlink:href=\"#DejaVuSans-57\"/>\r\n      </g>\r\n     </g>\r\n    </g>\r\n    <g id=\"xtick_136\">\r\n     <g id=\"line2d_136\">\r\n      <path clip-path=\"url(#pd8a31b40e0)\" d=\"M 411.3325 442.08 \r\nL 411.3325 7.2 \r\n\" style=\"fill:none;stroke:#b0b0b0;stroke-linecap:square;stroke-width:0.8;\"/>\r\n     </g>\r\n     <g id=\"text_136\">\r\n      <!-- 179 -->\r\n      <g transform=\"translate(412.712188 458.62375)rotate(-90)scale(0.05 -0.05)\">\r\n       <use xlink:href=\"#DejaVuSans-49\"/>\r\n       <use x=\"63.623047\" xlink:href=\"#DejaVuSans-55\"/>\r\n       <use x=\"127.246094\" xlink:href=\"#DejaVuSans-57\"/>\r\n      </g>\r\n     </g>\r\n    </g>\r\n    <g id=\"xtick_137\">\r\n     <g id=\"line2d_137\">\r\n      <path clip-path=\"url(#pd8a31b40e0)\" d=\"M 414.1225 442.08 \r\nL 414.1225 7.2 \r\n\" style=\"fill:none;stroke:#b0b0b0;stroke-linecap:square;stroke-width:0.8;\"/>\r\n     </g>\r\n     <g id=\"text_137\">\r\n      <!-- 181 -->\r\n      <g transform=\"translate(415.502188 458.62375)rotate(-90)scale(0.05 -0.05)\">\r\n       <use xlink:href=\"#DejaVuSans-49\"/>\r\n       <use x=\"63.623047\" xlink:href=\"#DejaVuSans-56\"/>\r\n       <use x=\"127.246094\" xlink:href=\"#DejaVuSans-49\"/>\r\n      </g>\r\n     </g>\r\n    </g>\r\n    <g id=\"xtick_138\">\r\n     <g id=\"line2d_138\">\r\n      <path clip-path=\"url(#pd8a31b40e0)\" d=\"M 416.9125 442.08 \r\nL 416.9125 7.2 \r\n\" style=\"fill:none;stroke:#b0b0b0;stroke-linecap:square;stroke-width:0.8;\"/>\r\n     </g>\r\n     <g id=\"text_138\">\r\n      <!-- 183 -->\r\n      <g transform=\"translate(418.292188 458.62375)rotate(-90)scale(0.05 -0.05)\">\r\n       <use xlink:href=\"#DejaVuSans-49\"/>\r\n       <use x=\"63.623047\" xlink:href=\"#DejaVuSans-56\"/>\r\n       <use x=\"127.246094\" xlink:href=\"#DejaVuSans-51\"/>\r\n      </g>\r\n     </g>\r\n    </g>\r\n    <g id=\"xtick_139\">\r\n     <g id=\"line2d_139\">\r\n      <path clip-path=\"url(#pd8a31b40e0)\" d=\"M 419.7025 442.08 \r\nL 419.7025 7.2 \r\n\" style=\"fill:none;stroke:#b0b0b0;stroke-linecap:square;stroke-width:0.8;\"/>\r\n     </g>\r\n     <g id=\"text_139\">\r\n      <!-- 175 -->\r\n      <g transform=\"translate(421.082188 458.62375)rotate(-90)scale(0.05 -0.05)\">\r\n       <use xlink:href=\"#DejaVuSans-49\"/>\r\n       <use x=\"63.623047\" xlink:href=\"#DejaVuSans-55\"/>\r\n       <use x=\"127.246094\" xlink:href=\"#DejaVuSans-53\"/>\r\n      </g>\r\n     </g>\r\n    </g>\r\n    <g id=\"xtick_140\">\r\n     <g id=\"line2d_140\">\r\n      <path clip-path=\"url(#pd8a31b40e0)\" d=\"M 422.4925 442.08 \r\nL 422.4925 7.2 \r\n\" style=\"fill:none;stroke:#b0b0b0;stroke-linecap:square;stroke-width:0.8;\"/>\r\n     </g>\r\n     <g id=\"text_140\">\r\n      <!-- 167 -->\r\n      <g transform=\"translate(423.872188 458.62375)rotate(-90)scale(0.05 -0.05)\">\r\n       <use xlink:href=\"#DejaVuSans-49\"/>\r\n       <use x=\"63.623047\" xlink:href=\"#DejaVuSans-54\"/>\r\n       <use x=\"127.246094\" xlink:href=\"#DejaVuSans-55\"/>\r\n      </g>\r\n     </g>\r\n    </g>\r\n    <g id=\"xtick_141\">\r\n     <g id=\"line2d_141\">\r\n      <path clip-path=\"url(#pd8a31b40e0)\" d=\"M 425.2825 442.08 \r\nL 425.2825 7.2 \r\n\" style=\"fill:none;stroke:#b0b0b0;stroke-linecap:square;stroke-width:0.8;\"/>\r\n     </g>\r\n     <g id=\"text_141\">\r\n      <!-- 173 -->\r\n      <g transform=\"translate(426.662188 458.62375)rotate(-90)scale(0.05 -0.05)\">\r\n       <use xlink:href=\"#DejaVuSans-49\"/>\r\n       <use x=\"63.623047\" xlink:href=\"#DejaVuSans-55\"/>\r\n       <use x=\"127.246094\" xlink:href=\"#DejaVuSans-51\"/>\r\n      </g>\r\n     </g>\r\n    </g>\r\n    <g id=\"xtick_142\">\r\n     <g id=\"line2d_142\">\r\n      <path clip-path=\"url(#pd8a31b40e0)\" d=\"M 428.0725 442.08 \r\nL 428.0725 7.2 \r\n\" style=\"fill:none;stroke:#b0b0b0;stroke-linecap:square;stroke-width:0.8;\"/>\r\n     </g>\r\n     <g id=\"text_142\">\r\n      <!-- 161 -->\r\n      <g transform=\"translate(429.452188 458.62375)rotate(-90)scale(0.05 -0.05)\">\r\n       <use xlink:href=\"#DejaVuSans-49\"/>\r\n       <use x=\"63.623047\" xlink:href=\"#DejaVuSans-54\"/>\r\n       <use x=\"127.246094\" xlink:href=\"#DejaVuSans-49\"/>\r\n      </g>\r\n     </g>\r\n    </g>\r\n    <g id=\"xtick_143\">\r\n     <g id=\"line2d_143\">\r\n      <path clip-path=\"url(#pd8a31b40e0)\" d=\"M 430.8625 442.08 \r\nL 430.8625 7.2 \r\n\" style=\"fill:none;stroke:#b0b0b0;stroke-linecap:square;stroke-width:0.8;\"/>\r\n     </g>\r\n     <g id=\"text_143\">\r\n      <!-- 149 -->\r\n      <g transform=\"translate(432.242188 458.62375)rotate(-90)scale(0.05 -0.05)\">\r\n       <use xlink:href=\"#DejaVuSans-49\"/>\r\n       <use x=\"63.623047\" xlink:href=\"#DejaVuSans-52\"/>\r\n       <use x=\"127.246094\" xlink:href=\"#DejaVuSans-57\"/>\r\n      </g>\r\n     </g>\r\n    </g>\r\n    <g id=\"xtick_144\">\r\n     <g id=\"line2d_144\">\r\n      <path clip-path=\"url(#pd8a31b40e0)\" d=\"M 433.6525 442.08 \r\nL 433.6525 7.2 \r\n\" style=\"fill:none;stroke:#b0b0b0;stroke-linecap:square;stroke-width:0.8;\"/>\r\n     </g>\r\n     <g id=\"text_144\">\r\n      <!-- 151 -->\r\n      <g transform=\"translate(435.032188 458.62375)rotate(-90)scale(0.05 -0.05)\">\r\n       <use xlink:href=\"#DejaVuSans-49\"/>\r\n       <use x=\"63.623047\" xlink:href=\"#DejaVuSans-53\"/>\r\n       <use x=\"127.246094\" xlink:href=\"#DejaVuSans-49\"/>\r\n      </g>\r\n     </g>\r\n    </g>\r\n    <g id=\"xtick_145\">\r\n     <g id=\"line2d_145\">\r\n      <path clip-path=\"url(#pd8a31b40e0)\" d=\"M 436.4425 442.08 \r\nL 436.4425 7.2 \r\n\" style=\"fill:none;stroke:#b0b0b0;stroke-linecap:square;stroke-width:0.8;\"/>\r\n     </g>\r\n     <g id=\"text_145\">\r\n      <!-- 155 -->\r\n      <g transform=\"translate(437.822188 458.62375)rotate(-90)scale(0.05 -0.05)\">\r\n       <use xlink:href=\"#DejaVuSans-49\"/>\r\n       <use x=\"63.623047\" xlink:href=\"#DejaVuSans-53\"/>\r\n       <use x=\"127.246094\" xlink:href=\"#DejaVuSans-53\"/>\r\n      </g>\r\n     </g>\r\n    </g>\r\n    <g id=\"xtick_146\">\r\n     <g id=\"line2d_146\">\r\n      <path clip-path=\"url(#pd8a31b40e0)\" d=\"M 439.2325 442.08 \r\nL 439.2325 7.2 \r\n\" style=\"fill:none;stroke:#b0b0b0;stroke-linecap:square;stroke-width:0.8;\"/>\r\n     </g>\r\n     <g id=\"text_146\">\r\n      <!-- 135 -->\r\n      <g transform=\"translate(440.612188 458.62375)rotate(-90)scale(0.05 -0.05)\">\r\n       <use xlink:href=\"#DejaVuSans-49\"/>\r\n       <use x=\"63.623047\" xlink:href=\"#DejaVuSans-51\"/>\r\n       <use x=\"127.246094\" xlink:href=\"#DejaVuSans-53\"/>\r\n      </g>\r\n     </g>\r\n    </g>\r\n    <g id=\"xtick_147\">\r\n     <g id=\"line2d_147\">\r\n      <path clip-path=\"url(#pd8a31b40e0)\" d=\"M 442.0225 442.08 \r\nL 442.0225 7.2 \r\n\" style=\"fill:none;stroke:#b0b0b0;stroke-linecap:square;stroke-width:0.8;\"/>\r\n     </g>\r\n     <g id=\"text_147\">\r\n      <!-- 143 -->\r\n      <g transform=\"translate(443.402188 458.62375)rotate(-90)scale(0.05 -0.05)\">\r\n       <use xlink:href=\"#DejaVuSans-49\"/>\r\n       <use x=\"63.623047\" xlink:href=\"#DejaVuSans-52\"/>\r\n       <use x=\"127.246094\" xlink:href=\"#DejaVuSans-51\"/>\r\n      </g>\r\n     </g>\r\n    </g>\r\n    <g id=\"xtick_148\">\r\n     <g id=\"line2d_148\">\r\n      <path clip-path=\"url(#pd8a31b40e0)\" d=\"M 444.8125 442.08 \r\nL 444.8125 7.2 \r\n\" style=\"fill:none;stroke:#b0b0b0;stroke-linecap:square;stroke-width:0.8;\"/>\r\n     </g>\r\n     <g id=\"text_148\">\r\n      <!-- 123 -->\r\n      <g transform=\"translate(446.192188 458.62375)rotate(-90)scale(0.05 -0.05)\">\r\n       <use xlink:href=\"#DejaVuSans-49\"/>\r\n       <use x=\"63.623047\" xlink:href=\"#DejaVuSans-50\"/>\r\n       <use x=\"127.246094\" xlink:href=\"#DejaVuSans-51\"/>\r\n      </g>\r\n     </g>\r\n    </g>\r\n    <g id=\"xtick_149\">\r\n     <g id=\"line2d_149\">\r\n      <path clip-path=\"url(#pd8a31b40e0)\" d=\"M 447.6025 442.08 \r\nL 447.6025 7.2 \r\n\" style=\"fill:none;stroke:#b0b0b0;stroke-linecap:square;stroke-width:0.8;\"/>\r\n     </g>\r\n     <g id=\"text_149\">\r\n      <!-- 127 -->\r\n      <g transform=\"translate(448.982188 458.62375)rotate(-90)scale(0.05 -0.05)\">\r\n       <use xlink:href=\"#DejaVuSans-49\"/>\r\n       <use x=\"63.623047\" xlink:href=\"#DejaVuSans-50\"/>\r\n       <use x=\"127.246094\" xlink:href=\"#DejaVuSans-55\"/>\r\n      </g>\r\n     </g>\r\n    </g>\r\n    <g id=\"xtick_150\">\r\n     <g id=\"line2d_150\">\r\n      <path clip-path=\"url(#pd8a31b40e0)\" d=\"M 450.3925 442.08 \r\nL 450.3925 7.2 \r\n\" style=\"fill:none;stroke:#b0b0b0;stroke-linecap:square;stroke-width:0.8;\"/>\r\n     </g>\r\n     <g id=\"text_150\">\r\n      <!-- 163 -->\r\n      <g transform=\"translate(451.772188 458.62375)rotate(-90)scale(0.05 -0.05)\">\r\n       <use xlink:href=\"#DejaVuSans-49\"/>\r\n       <use x=\"63.623047\" xlink:href=\"#DejaVuSans-54\"/>\r\n       <use x=\"127.246094\" xlink:href=\"#DejaVuSans-51\"/>\r\n      </g>\r\n     </g>\r\n    </g>\r\n    <g id=\"xtick_151\">\r\n     <g id=\"line2d_151\">\r\n      <path clip-path=\"url(#pd8a31b40e0)\" d=\"M 453.1825 442.08 \r\nL 453.1825 7.2 \r\n\" style=\"fill:none;stroke:#b0b0b0;stroke-linecap:square;stroke-width:0.8;\"/>\r\n     </g>\r\n     <g id=\"text_151\">\r\n      <!-- 141 -->\r\n      <g transform=\"translate(454.562188 458.62375)rotate(-90)scale(0.05 -0.05)\">\r\n       <use xlink:href=\"#DejaVuSans-49\"/>\r\n       <use x=\"63.623047\" xlink:href=\"#DejaVuSans-52\"/>\r\n       <use x=\"127.246094\" xlink:href=\"#DejaVuSans-49\"/>\r\n      </g>\r\n     </g>\r\n    </g>\r\n    <g id=\"xtick_152\">\r\n     <g id=\"line2d_152\">\r\n      <path clip-path=\"url(#pd8a31b40e0)\" d=\"M 455.9725 442.08 \r\nL 455.9725 7.2 \r\n\" style=\"fill:none;stroke:#b0b0b0;stroke-linecap:square;stroke-width:0.8;\"/>\r\n     </g>\r\n     <g id=\"text_152\">\r\n      <!-- 145 -->\r\n      <g transform=\"translate(457.352188 458.62375)rotate(-90)scale(0.05 -0.05)\">\r\n       <use xlink:href=\"#DejaVuSans-49\"/>\r\n       <use x=\"63.623047\" xlink:href=\"#DejaVuSans-52\"/>\r\n       <use x=\"127.246094\" xlink:href=\"#DejaVuSans-53\"/>\r\n      </g>\r\n     </g>\r\n    </g>\r\n    <g id=\"xtick_153\">\r\n     <g id=\"line2d_153\">\r\n      <path clip-path=\"url(#pd8a31b40e0)\" d=\"M 458.7625 442.08 \r\nL 458.7625 7.2 \r\n\" style=\"fill:none;stroke:#b0b0b0;stroke-linecap:square;stroke-width:0.8;\"/>\r\n     </g>\r\n     <g id=\"text_153\">\r\n      <!-- 147 -->\r\n      <g transform=\"translate(460.142188 458.62375)rotate(-90)scale(0.05 -0.05)\">\r\n       <use xlink:href=\"#DejaVuSans-49\"/>\r\n       <use x=\"63.623047\" xlink:href=\"#DejaVuSans-52\"/>\r\n       <use x=\"127.246094\" xlink:href=\"#DejaVuSans-55\"/>\r\n      </g>\r\n     </g>\r\n    </g>\r\n    <g id=\"xtick_154\">\r\n     <g id=\"line2d_154\">\r\n      <path clip-path=\"url(#pd8a31b40e0)\" d=\"M 461.5525 442.08 \r\nL 461.5525 7.2 \r\n\" style=\"fill:none;stroke:#b0b0b0;stroke-linecap:square;stroke-width:0.8;\"/>\r\n     </g>\r\n     <g id=\"text_154\">\r\n      <!-- 159 -->\r\n      <g transform=\"translate(462.932188 458.62375)rotate(-90)scale(0.05 -0.05)\">\r\n       <use xlink:href=\"#DejaVuSans-49\"/>\r\n       <use x=\"63.623047\" xlink:href=\"#DejaVuSans-53\"/>\r\n       <use x=\"127.246094\" xlink:href=\"#DejaVuSans-57\"/>\r\n      </g>\r\n     </g>\r\n    </g>\r\n    <g id=\"xtick_155\">\r\n     <g id=\"line2d_155\">\r\n      <path clip-path=\"url(#pd8a31b40e0)\" d=\"M 464.3425 442.08 \r\nL 464.3425 7.2 \r\n\" style=\"fill:none;stroke:#b0b0b0;stroke-linecap:square;stroke-width:0.8;\"/>\r\n     </g>\r\n     <g id=\"text_155\">\r\n      <!-- 153 -->\r\n      <g transform=\"translate(465.722188 458.62375)rotate(-90)scale(0.05 -0.05)\">\r\n       <use xlink:href=\"#DejaVuSans-49\"/>\r\n       <use x=\"63.623047\" xlink:href=\"#DejaVuSans-53\"/>\r\n       <use x=\"127.246094\" xlink:href=\"#DejaVuSans-51\"/>\r\n      </g>\r\n     </g>\r\n    </g>\r\n    <g id=\"xtick_156\">\r\n     <g id=\"line2d_156\">\r\n      <path clip-path=\"url(#pd8a31b40e0)\" d=\"M 467.1325 442.08 \r\nL 467.1325 7.2 \r\n\" style=\"fill:none;stroke:#b0b0b0;stroke-linecap:square;stroke-width:0.8;\"/>\r\n     </g>\r\n     <g id=\"text_156\">\r\n      <!-- 157 -->\r\n      <g transform=\"translate(468.512188 458.62375)rotate(-90)scale(0.05 -0.05)\">\r\n       <use xlink:href=\"#DejaVuSans-49\"/>\r\n       <use x=\"63.623047\" xlink:href=\"#DejaVuSans-53\"/>\r\n       <use x=\"127.246094\" xlink:href=\"#DejaVuSans-55\"/>\r\n      </g>\r\n     </g>\r\n    </g>\r\n    <g id=\"xtick_157\">\r\n     <g id=\"line2d_157\">\r\n      <path clip-path=\"url(#pd8a31b40e0)\" d=\"M 469.9225 442.08 \r\nL 469.9225 7.2 \r\n\" style=\"fill:none;stroke:#b0b0b0;stroke-linecap:square;stroke-width:0.8;\"/>\r\n     </g>\r\n     <g id=\"text_157\">\r\n      <!-- 133 -->\r\n      <g transform=\"translate(471.302188 458.62375)rotate(-90)scale(0.05 -0.05)\">\r\n       <use xlink:href=\"#DejaVuSans-49\"/>\r\n       <use x=\"63.623047\" xlink:href=\"#DejaVuSans-51\"/>\r\n       <use x=\"127.246094\" xlink:href=\"#DejaVuSans-51\"/>\r\n      </g>\r\n     </g>\r\n    </g>\r\n    <g id=\"xtick_158\">\r\n     <g id=\"line2d_158\">\r\n      <path clip-path=\"url(#pd8a31b40e0)\" d=\"M 472.7125 442.08 \r\nL 472.7125 7.2 \r\n\" style=\"fill:none;stroke:#b0b0b0;stroke-linecap:square;stroke-width:0.8;\"/>\r\n     </g>\r\n     <g id=\"text_158\">\r\n      <!-- 137 -->\r\n      <g transform=\"translate(474.092188 458.62375)rotate(-90)scale(0.05 -0.05)\">\r\n       <use xlink:href=\"#DejaVuSans-49\"/>\r\n       <use x=\"63.623047\" xlink:href=\"#DejaVuSans-51\"/>\r\n       <use x=\"127.246094\" xlink:href=\"#DejaVuSans-55\"/>\r\n      </g>\r\n     </g>\r\n    </g>\r\n    <g id=\"xtick_159\">\r\n     <g id=\"line2d_159\">\r\n      <path clip-path=\"url(#pd8a31b40e0)\" d=\"M 475.5025 442.08 \r\nL 475.5025 7.2 \r\n\" style=\"fill:none;stroke:#b0b0b0;stroke-linecap:square;stroke-width:0.8;\"/>\r\n     </g>\r\n     <g id=\"text_159\">\r\n      <!-- 139 -->\r\n      <g transform=\"translate(476.882188 458.62375)rotate(-90)scale(0.05 -0.05)\">\r\n       <use xlink:href=\"#DejaVuSans-49\"/>\r\n       <use x=\"63.623047\" xlink:href=\"#DejaVuSans-51\"/>\r\n       <use x=\"127.246094\" xlink:href=\"#DejaVuSans-57\"/>\r\n      </g>\r\n     </g>\r\n    </g>\r\n    <g id=\"xtick_160\">\r\n     <g id=\"line2d_160\">\r\n      <path clip-path=\"url(#pd8a31b40e0)\" d=\"M 478.2925 442.08 \r\nL 478.2925 7.2 \r\n\" style=\"fill:none;stroke:#b0b0b0;stroke-linecap:square;stroke-width:0.8;\"/>\r\n     </g>\r\n     <g id=\"text_160\">\r\n      <!-- 125 -->\r\n      <g transform=\"translate(479.672188 458.62375)rotate(-90)scale(0.05 -0.05)\">\r\n       <use xlink:href=\"#DejaVuSans-49\"/>\r\n       <use x=\"63.623047\" xlink:href=\"#DejaVuSans-50\"/>\r\n       <use x=\"127.246094\" xlink:href=\"#DejaVuSans-53\"/>\r\n      </g>\r\n     </g>\r\n    </g>\r\n    <g id=\"xtick_161\">\r\n     <g id=\"line2d_161\">\r\n      <path clip-path=\"url(#pd8a31b40e0)\" d=\"M 481.0825 442.08 \r\nL 481.0825 7.2 \r\n\" style=\"fill:none;stroke:#b0b0b0;stroke-linecap:square;stroke-width:0.8;\"/>\r\n     </g>\r\n     <g id=\"text_161\">\r\n      <!-- 129 -->\r\n      <g transform=\"translate(482.462188 458.62375)rotate(-90)scale(0.05 -0.05)\">\r\n       <use xlink:href=\"#DejaVuSans-49\"/>\r\n       <use x=\"63.623047\" xlink:href=\"#DejaVuSans-50\"/>\r\n       <use x=\"127.246094\" xlink:href=\"#DejaVuSans-57\"/>\r\n      </g>\r\n     </g>\r\n    </g>\r\n    <g id=\"xtick_162\">\r\n     <g id=\"line2d_162\">\r\n      <path clip-path=\"url(#pd8a31b40e0)\" d=\"M 483.8725 442.08 \r\nL 483.8725 7.2 \r\n\" style=\"fill:none;stroke:#b0b0b0;stroke-linecap:square;stroke-width:0.8;\"/>\r\n     </g>\r\n     <g id=\"text_162\">\r\n      <!-- 131 -->\r\n      <g transform=\"translate(485.252188 458.62375)rotate(-90)scale(0.05 -0.05)\">\r\n       <use xlink:href=\"#DejaVuSans-49\"/>\r\n       <use x=\"63.623047\" xlink:href=\"#DejaVuSans-51\"/>\r\n       <use x=\"127.246094\" xlink:href=\"#DejaVuSans-49\"/>\r\n      </g>\r\n     </g>\r\n    </g>\r\n    <g id=\"xtick_163\">\r\n     <g id=\"line2d_163\">\r\n      <path clip-path=\"url(#pd8a31b40e0)\" d=\"M 486.6625 442.08 \r\nL 486.6625 7.2 \r\n\" style=\"fill:none;stroke:#b0b0b0;stroke-linecap:square;stroke-width:0.8;\"/>\r\n     </g>\r\n     <g id=\"text_163\">\r\n      <!-- 187 -->\r\n      <g transform=\"translate(488.042188 458.62375)rotate(-90)scale(0.05 -0.05)\">\r\n       <use xlink:href=\"#DejaVuSans-49\"/>\r\n       <use x=\"63.623047\" xlink:href=\"#DejaVuSans-56\"/>\r\n       <use x=\"127.246094\" xlink:href=\"#DejaVuSans-55\"/>\r\n      </g>\r\n     </g>\r\n    </g>\r\n    <g id=\"xtick_164\">\r\n     <g id=\"line2d_164\">\r\n      <path clip-path=\"url(#pd8a31b40e0)\" d=\"M 489.4525 442.08 \r\nL 489.4525 7.2 \r\n\" style=\"fill:none;stroke:#b0b0b0;stroke-linecap:square;stroke-width:0.8;\"/>\r\n     </g>\r\n     <g id=\"text_164\">\r\n      <!-- 191 -->\r\n      <g transform=\"translate(490.832188 458.62375)rotate(-90)scale(0.05 -0.05)\">\r\n       <use xlink:href=\"#DejaVuSans-49\"/>\r\n       <use x=\"63.623047\" xlink:href=\"#DejaVuSans-57\"/>\r\n       <use x=\"127.246094\" xlink:href=\"#DejaVuSans-49\"/>\r\n      </g>\r\n     </g>\r\n    </g>\r\n    <g id=\"xtick_165\">\r\n     <g id=\"line2d_165\">\r\n      <path clip-path=\"url(#pd8a31b40e0)\" d=\"M 492.2425 442.08 \r\nL 492.2425 7.2 \r\n\" style=\"fill:none;stroke:#b0b0b0;stroke-linecap:square;stroke-width:0.8;\"/>\r\n     </g>\r\n     <g id=\"text_165\">\r\n      <!-- 165 -->\r\n      <g transform=\"translate(493.622188 458.62375)rotate(-90)scale(0.05 -0.05)\">\r\n       <use xlink:href=\"#DejaVuSans-49\"/>\r\n       <use x=\"63.623047\" xlink:href=\"#DejaVuSans-54\"/>\r\n       <use x=\"127.246094\" xlink:href=\"#DejaVuSans-53\"/>\r\n      </g>\r\n     </g>\r\n    </g>\r\n    <g id=\"xtick_166\">\r\n     <g id=\"line2d_166\">\r\n      <path clip-path=\"url(#pd8a31b40e0)\" d=\"M 495.0325 442.08 \r\nL 495.0325 7.2 \r\n\" style=\"fill:none;stroke:#b0b0b0;stroke-linecap:square;stroke-width:0.8;\"/>\r\n     </g>\r\n     <g id=\"text_166\">\r\n      <!-- 171 -->\r\n      <g transform=\"translate(496.412188 458.62375)rotate(-90)scale(0.05 -0.05)\">\r\n       <use xlink:href=\"#DejaVuSans-49\"/>\r\n       <use x=\"63.623047\" xlink:href=\"#DejaVuSans-55\"/>\r\n       <use x=\"127.246094\" xlink:href=\"#DejaVuSans-49\"/>\r\n      </g>\r\n     </g>\r\n    </g>\r\n    <g id=\"xtick_167\">\r\n     <g id=\"line2d_167\">\r\n      <path clip-path=\"url(#pd8a31b40e0)\" d=\"M 497.8225 442.08 \r\nL 497.8225 7.2 \r\n\" style=\"fill:none;stroke:#b0b0b0;stroke-linecap:square;stroke-width:0.8;\"/>\r\n     </g>\r\n     <g id=\"text_167\">\r\n      <!-- 169 -->\r\n      <g transform=\"translate(499.202188 458.62375)rotate(-90)scale(0.05 -0.05)\">\r\n       <use xlink:href=\"#DejaVuSans-49\"/>\r\n       <use x=\"63.623047\" xlink:href=\"#DejaVuSans-54\"/>\r\n       <use x=\"127.246094\" xlink:href=\"#DejaVuSans-57\"/>\r\n      </g>\r\n     </g>\r\n    </g>\r\n    <g id=\"xtick_168\">\r\n     <g id=\"line2d_168\">\r\n      <path clip-path=\"url(#pd8a31b40e0)\" d=\"M 500.6125 442.08 \r\nL 500.6125 7.2 \r\n\" style=\"fill:none;stroke:#b0b0b0;stroke-linecap:square;stroke-width:0.8;\"/>\r\n     </g>\r\n     <g id=\"text_168\">\r\n      <!-- 177 -->\r\n      <g transform=\"translate(501.992188 458.62375)rotate(-90)scale(0.05 -0.05)\">\r\n       <use xlink:href=\"#DejaVuSans-49\"/>\r\n       <use x=\"63.623047\" xlink:href=\"#DejaVuSans-55\"/>\r\n       <use x=\"127.246094\" xlink:href=\"#DejaVuSans-55\"/>\r\n      </g>\r\n     </g>\r\n    </g>\r\n    <g id=\"xtick_169\">\r\n     <g id=\"line2d_169\">\r\n      <path clip-path=\"url(#pd8a31b40e0)\" d=\"M 503.4025 442.08 \r\nL 503.4025 7.2 \r\n\" style=\"fill:none;stroke:#b0b0b0;stroke-linecap:square;stroke-width:0.8;\"/>\r\n     </g>\r\n     <g id=\"text_169\">\r\n      <!-- 162 -->\r\n      <g transform=\"translate(504.782188 458.62375)rotate(-90)scale(0.05 -0.05)\">\r\n       <use xlink:href=\"#DejaVuSans-49\"/>\r\n       <use x=\"63.623047\" xlink:href=\"#DejaVuSans-54\"/>\r\n       <use x=\"127.246094\" xlink:href=\"#DejaVuSans-50\"/>\r\n      </g>\r\n     </g>\r\n    </g>\r\n    <g id=\"xtick_170\">\r\n     <g id=\"line2d_170\">\r\n      <path clip-path=\"url(#pd8a31b40e0)\" d=\"M 506.1925 442.08 \r\nL 506.1925 7.2 \r\n\" style=\"fill:none;stroke:#b0b0b0;stroke-linecap:square;stroke-width:0.8;\"/>\r\n     </g>\r\n     <g id=\"text_170\">\r\n      <!-- 156 -->\r\n      <g transform=\"translate(507.572188 458.62375)rotate(-90)scale(0.05 -0.05)\">\r\n       <use xlink:href=\"#DejaVuSans-49\"/>\r\n       <use x=\"63.623047\" xlink:href=\"#DejaVuSans-53\"/>\r\n       <use x=\"127.246094\" xlink:href=\"#DejaVuSans-54\"/>\r\n      </g>\r\n     </g>\r\n    </g>\r\n    <g id=\"xtick_171\">\r\n     <g id=\"line2d_171\">\r\n      <path clip-path=\"url(#pd8a31b40e0)\" d=\"M 508.9825 442.08 \r\nL 508.9825 7.2 \r\n\" style=\"fill:none;stroke:#b0b0b0;stroke-linecap:square;stroke-width:0.8;\"/>\r\n     </g>\r\n     <g id=\"text_171\">\r\n      <!-- 158 -->\r\n      <g transform=\"translate(510.362188 458.62375)rotate(-90)scale(0.05 -0.05)\">\r\n       <use xlink:href=\"#DejaVuSans-49\"/>\r\n       <use x=\"63.623047\" xlink:href=\"#DejaVuSans-53\"/>\r\n       <use x=\"127.246094\" xlink:href=\"#DejaVuSans-56\"/>\r\n      </g>\r\n     </g>\r\n    </g>\r\n    <g id=\"xtick_172\">\r\n     <g id=\"line2d_172\">\r\n      <path clip-path=\"url(#pd8a31b40e0)\" d=\"M 511.7725 442.08 \r\nL 511.7725 7.2 \r\n\" style=\"fill:none;stroke:#b0b0b0;stroke-linecap:square;stroke-width:0.8;\"/>\r\n     </g>\r\n     <g id=\"text_172\">\r\n      <!-- 140 -->\r\n      <g transform=\"translate(513.152188 458.62375)rotate(-90)scale(0.05 -0.05)\">\r\n       <use xlink:href=\"#DejaVuSans-49\"/>\r\n       <use x=\"63.623047\" xlink:href=\"#DejaVuSans-52\"/>\r\n       <use x=\"127.246094\" xlink:href=\"#DejaVuSans-48\"/>\r\n      </g>\r\n     </g>\r\n    </g>\r\n    <g id=\"xtick_173\">\r\n     <g id=\"line2d_173\">\r\n      <path clip-path=\"url(#pd8a31b40e0)\" d=\"M 514.5625 442.08 \r\nL 514.5625 7.2 \r\n\" style=\"fill:none;stroke:#b0b0b0;stroke-linecap:square;stroke-width:0.8;\"/>\r\n     </g>\r\n     <g id=\"text_173\">\r\n      <!-- 134 -->\r\n      <g transform=\"translate(515.942188 458.62375)rotate(-90)scale(0.05 -0.05)\">\r\n       <use xlink:href=\"#DejaVuSans-49\"/>\r\n       <use x=\"63.623047\" xlink:href=\"#DejaVuSans-51\"/>\r\n       <use x=\"127.246094\" xlink:href=\"#DejaVuSans-52\"/>\r\n      </g>\r\n     </g>\r\n    </g>\r\n    <g id=\"xtick_174\">\r\n     <g id=\"line2d_174\">\r\n      <path clip-path=\"url(#pd8a31b40e0)\" d=\"M 517.3525 442.08 \r\nL 517.3525 7.2 \r\n\" style=\"fill:none;stroke:#b0b0b0;stroke-linecap:square;stroke-width:0.8;\"/>\r\n     </g>\r\n     <g id=\"text_174\">\r\n      <!-- 136 -->\r\n      <g transform=\"translate(518.732188 458.62375)rotate(-90)scale(0.05 -0.05)\">\r\n       <use xlink:href=\"#DejaVuSans-49\"/>\r\n       <use x=\"63.623047\" xlink:href=\"#DejaVuSans-51\"/>\r\n       <use x=\"127.246094\" xlink:href=\"#DejaVuSans-54\"/>\r\n      </g>\r\n     </g>\r\n    </g>\r\n    <g id=\"xtick_175\">\r\n     <g id=\"line2d_175\">\r\n      <path clip-path=\"url(#pd8a31b40e0)\" d=\"M 520.1425 442.08 \r\nL 520.1425 7.2 \r\n\" style=\"fill:none;stroke:#b0b0b0;stroke-linecap:square;stroke-width:0.8;\"/>\r\n     </g>\r\n     <g id=\"text_175\">\r\n      <!-- 138 -->\r\n      <g transform=\"translate(521.522188 458.62375)rotate(-90)scale(0.05 -0.05)\">\r\n       <use xlink:href=\"#DejaVuSans-49\"/>\r\n       <use x=\"63.623047\" xlink:href=\"#DejaVuSans-51\"/>\r\n       <use x=\"127.246094\" xlink:href=\"#DejaVuSans-56\"/>\r\n      </g>\r\n     </g>\r\n    </g>\r\n    <g id=\"xtick_176\">\r\n     <g id=\"line2d_176\">\r\n      <path clip-path=\"url(#pd8a31b40e0)\" d=\"M 522.9325 442.08 \r\nL 522.9325 7.2 \r\n\" style=\"fill:none;stroke:#b0b0b0;stroke-linecap:square;stroke-width:0.8;\"/>\r\n     </g>\r\n     <g id=\"text_176\">\r\n      <!-- 128 -->\r\n      <g transform=\"translate(524.312188 458.62375)rotate(-90)scale(0.05 -0.05)\">\r\n       <use xlink:href=\"#DejaVuSans-49\"/>\r\n       <use x=\"63.623047\" xlink:href=\"#DejaVuSans-50\"/>\r\n       <use x=\"127.246094\" xlink:href=\"#DejaVuSans-56\"/>\r\n      </g>\r\n     </g>\r\n    </g>\r\n    <g id=\"xtick_177\">\r\n     <g id=\"line2d_177\">\r\n      <path clip-path=\"url(#pd8a31b40e0)\" d=\"M 525.7225 442.08 \r\nL 525.7225 7.2 \r\n\" style=\"fill:none;stroke:#b0b0b0;stroke-linecap:square;stroke-width:0.8;\"/>\r\n     </g>\r\n     <g id=\"text_177\">\r\n      <!-- 130 -->\r\n      <g transform=\"translate(527.102188 458.62375)rotate(-90)scale(0.05 -0.05)\">\r\n       <use xlink:href=\"#DejaVuSans-49\"/>\r\n       <use x=\"63.623047\" xlink:href=\"#DejaVuSans-51\"/>\r\n       <use x=\"127.246094\" xlink:href=\"#DejaVuSans-48\"/>\r\n      </g>\r\n     </g>\r\n    </g>\r\n    <g id=\"xtick_178\">\r\n     <g id=\"line2d_178\">\r\n      <path clip-path=\"url(#pd8a31b40e0)\" d=\"M 528.5125 442.08 \r\nL 528.5125 7.2 \r\n\" style=\"fill:none;stroke:#b0b0b0;stroke-linecap:square;stroke-width:0.8;\"/>\r\n     </g>\r\n     <g id=\"text_178\">\r\n      <!-- 172 -->\r\n      <g transform=\"translate(529.892188 458.62375)rotate(-90)scale(0.05 -0.05)\">\r\n       <use xlink:href=\"#DejaVuSans-49\"/>\r\n       <use x=\"63.623047\" xlink:href=\"#DejaVuSans-55\"/>\r\n       <use x=\"127.246094\" xlink:href=\"#DejaVuSans-50\"/>\r\n      </g>\r\n     </g>\r\n    </g>\r\n    <g id=\"xtick_179\">\r\n     <g id=\"line2d_179\">\r\n      <path clip-path=\"url(#pd8a31b40e0)\" d=\"M 531.3025 442.08 \r\nL 531.3025 7.2 \r\n\" style=\"fill:none;stroke:#b0b0b0;stroke-linecap:square;stroke-width:0.8;\"/>\r\n     </g>\r\n     <g id=\"text_179\">\r\n      <!-- 176 -->\r\n      <g transform=\"translate(532.682188 458.62375)rotate(-90)scale(0.05 -0.05)\">\r\n       <use xlink:href=\"#DejaVuSans-49\"/>\r\n       <use x=\"63.623047\" xlink:href=\"#DejaVuSans-55\"/>\r\n       <use x=\"127.246094\" xlink:href=\"#DejaVuSans-54\"/>\r\n      </g>\r\n     </g>\r\n    </g>\r\n    <g id=\"xtick_180\">\r\n     <g id=\"line2d_180\">\r\n      <path clip-path=\"url(#pd8a31b40e0)\" d=\"M 534.0925 442.08 \r\nL 534.0925 7.2 \r\n\" style=\"fill:none;stroke:#b0b0b0;stroke-linecap:square;stroke-width:0.8;\"/>\r\n     </g>\r\n     <g id=\"text_180\">\r\n      <!-- 170 -->\r\n      <g transform=\"translate(535.472188 458.62375)rotate(-90)scale(0.05 -0.05)\">\r\n       <use xlink:href=\"#DejaVuSans-49\"/>\r\n       <use x=\"63.623047\" xlink:href=\"#DejaVuSans-55\"/>\r\n       <use x=\"127.246094\" xlink:href=\"#DejaVuSans-48\"/>\r\n      </g>\r\n     </g>\r\n    </g>\r\n    <g id=\"xtick_181\">\r\n     <g id=\"line2d_181\">\r\n      <path clip-path=\"url(#pd8a31b40e0)\" d=\"M 536.8825 442.08 \r\nL 536.8825 7.2 \r\n\" style=\"fill:none;stroke:#b0b0b0;stroke-linecap:square;stroke-width:0.8;\"/>\r\n     </g>\r\n     <g id=\"text_181\">\r\n      <!-- 174 -->\r\n      <g transform=\"translate(538.262188 458.62375)rotate(-90)scale(0.05 -0.05)\">\r\n       <use xlink:href=\"#DejaVuSans-49\"/>\r\n       <use x=\"63.623047\" xlink:href=\"#DejaVuSans-55\"/>\r\n       <use x=\"127.246094\" xlink:href=\"#DejaVuSans-52\"/>\r\n      </g>\r\n     </g>\r\n    </g>\r\n    <g id=\"xtick_182\">\r\n     <g id=\"line2d_182\">\r\n      <path clip-path=\"url(#pd8a31b40e0)\" d=\"M 539.6725 442.08 \r\nL 539.6725 7.2 \r\n\" style=\"fill:none;stroke:#b0b0b0;stroke-linecap:square;stroke-width:0.8;\"/>\r\n     </g>\r\n     <g id=\"text_182\">\r\n      <!-- 178 -->\r\n      <g transform=\"translate(541.052188 458.62375)rotate(-90)scale(0.05 -0.05)\">\r\n       <use xlink:href=\"#DejaVuSans-49\"/>\r\n       <use x=\"63.623047\" xlink:href=\"#DejaVuSans-55\"/>\r\n       <use x=\"127.246094\" xlink:href=\"#DejaVuSans-56\"/>\r\n      </g>\r\n     </g>\r\n    </g>\r\n    <g id=\"xtick_183\">\r\n     <g id=\"line2d_183\">\r\n      <path clip-path=\"url(#pd8a31b40e0)\" d=\"M 542.4625 442.08 \r\nL 542.4625 7.2 \r\n\" style=\"fill:none;stroke:#b0b0b0;stroke-linecap:square;stroke-width:0.8;\"/>\r\n     </g>\r\n     <g id=\"text_183\">\r\n      <!-- 182 -->\r\n      <g transform=\"translate(543.842188 458.62375)rotate(-90)scale(0.05 -0.05)\">\r\n       <use xlink:href=\"#DejaVuSans-49\"/>\r\n       <use x=\"63.623047\" xlink:href=\"#DejaVuSans-56\"/>\r\n       <use x=\"127.246094\" xlink:href=\"#DejaVuSans-50\"/>\r\n      </g>\r\n     </g>\r\n    </g>\r\n    <g id=\"xtick_184\">\r\n     <g id=\"line2d_184\">\r\n      <path clip-path=\"url(#pd8a31b40e0)\" d=\"M 545.2525 442.08 \r\nL 545.2525 7.2 \r\n\" style=\"fill:none;stroke:#b0b0b0;stroke-linecap:square;stroke-width:0.8;\"/>\r\n     </g>\r\n     <g id=\"text_184\">\r\n      <!-- 166 -->\r\n      <g transform=\"translate(546.632188 458.62375)rotate(-90)scale(0.05 -0.05)\">\r\n       <use xlink:href=\"#DejaVuSans-49\"/>\r\n       <use x=\"63.623047\" xlink:href=\"#DejaVuSans-54\"/>\r\n       <use x=\"127.246094\" xlink:href=\"#DejaVuSans-54\"/>\r\n      </g>\r\n     </g>\r\n    </g>\r\n    <g id=\"xtick_185\">\r\n     <g id=\"line2d_185\">\r\n      <path clip-path=\"url(#pd8a31b40e0)\" d=\"M 548.0425 442.08 \r\nL 548.0425 7.2 \r\n\" style=\"fill:none;stroke:#b0b0b0;stroke-linecap:square;stroke-width:0.8;\"/>\r\n     </g>\r\n     <g id=\"text_185\">\r\n      <!-- 164 -->\r\n      <g transform=\"translate(549.422188 458.62375)rotate(-90)scale(0.05 -0.05)\">\r\n       <use xlink:href=\"#DejaVuSans-49\"/>\r\n       <use x=\"63.623047\" xlink:href=\"#DejaVuSans-54\"/>\r\n       <use x=\"127.246094\" xlink:href=\"#DejaVuSans-52\"/>\r\n      </g>\r\n     </g>\r\n    </g>\r\n    <g id=\"xtick_186\">\r\n     <g id=\"line2d_186\">\r\n      <path clip-path=\"url(#pd8a31b40e0)\" d=\"M 550.8325 442.08 \r\nL 550.8325 7.2 \r\n\" style=\"fill:none;stroke:#b0b0b0;stroke-linecap:square;stroke-width:0.8;\"/>\r\n     </g>\r\n     <g id=\"text_186\">\r\n      <!-- 168 -->\r\n      <g transform=\"translate(552.212188 458.62375)rotate(-90)scale(0.05 -0.05)\">\r\n       <use xlink:href=\"#DejaVuSans-49\"/>\r\n       <use x=\"63.623047\" xlink:href=\"#DejaVuSans-54\"/>\r\n       <use x=\"127.246094\" xlink:href=\"#DejaVuSans-56\"/>\r\n      </g>\r\n     </g>\r\n    </g>\r\n    <g id=\"xtick_187\">\r\n     <g id=\"line2d_187\">\r\n      <path clip-path=\"url(#pd8a31b40e0)\" d=\"M 553.6225 442.08 \r\nL 553.6225 7.2 \r\n\" style=\"fill:none;stroke:#b0b0b0;stroke-linecap:square;stroke-width:0.8;\"/>\r\n     </g>\r\n     <g id=\"text_187\">\r\n      <!-- 148 -->\r\n      <g transform=\"translate(555.002188 458.62375)rotate(-90)scale(0.05 -0.05)\">\r\n       <use xlink:href=\"#DejaVuSans-49\"/>\r\n       <use x=\"63.623047\" xlink:href=\"#DejaVuSans-52\"/>\r\n       <use x=\"127.246094\" xlink:href=\"#DejaVuSans-56\"/>\r\n      </g>\r\n     </g>\r\n    </g>\r\n    <g id=\"xtick_188\">\r\n     <g id=\"line2d_188\">\r\n      <path clip-path=\"url(#pd8a31b40e0)\" d=\"M 556.4125 442.08 \r\nL 556.4125 7.2 \r\n\" style=\"fill:none;stroke:#b0b0b0;stroke-linecap:square;stroke-width:0.8;\"/>\r\n     </g>\r\n     <g id=\"text_188\">\r\n      <!-- 152 -->\r\n      <g transform=\"translate(557.792188 458.62375)rotate(-90)scale(0.05 -0.05)\">\r\n       <use xlink:href=\"#DejaVuSans-49\"/>\r\n       <use x=\"63.623047\" xlink:href=\"#DejaVuSans-53\"/>\r\n       <use x=\"127.246094\" xlink:href=\"#DejaVuSans-50\"/>\r\n      </g>\r\n     </g>\r\n    </g>\r\n    <g id=\"xtick_189\">\r\n     <g id=\"line2d_189\">\r\n      <path clip-path=\"url(#pd8a31b40e0)\" d=\"M 559.2025 442.08 \r\nL 559.2025 7.2 \r\n\" style=\"fill:none;stroke:#b0b0b0;stroke-linecap:square;stroke-width:0.8;\"/>\r\n     </g>\r\n     <g id=\"text_189\">\r\n      <!-- 144 -->\r\n      <g transform=\"translate(560.582188 458.62375)rotate(-90)scale(0.05 -0.05)\">\r\n       <use xlink:href=\"#DejaVuSans-49\"/>\r\n       <use x=\"63.623047\" xlink:href=\"#DejaVuSans-52\"/>\r\n       <use x=\"127.246094\" xlink:href=\"#DejaVuSans-52\"/>\r\n      </g>\r\n     </g>\r\n    </g>\r\n    <g id=\"xtick_190\">\r\n     <g id=\"line2d_190\">\r\n      <path clip-path=\"url(#pd8a31b40e0)\" d=\"M 561.9925 442.08 \r\nL 561.9925 7.2 \r\n\" style=\"fill:none;stroke:#b0b0b0;stroke-linecap:square;stroke-width:0.8;\"/>\r\n     </g>\r\n     <g id=\"text_190\">\r\n      <!-- 150 -->\r\n      <g transform=\"translate(563.372188 458.62375)rotate(-90)scale(0.05 -0.05)\">\r\n       <use xlink:href=\"#DejaVuSans-49\"/>\r\n       <use x=\"63.623047\" xlink:href=\"#DejaVuSans-53\"/>\r\n       <use x=\"127.246094\" xlink:href=\"#DejaVuSans-48\"/>\r\n      </g>\r\n     </g>\r\n    </g>\r\n    <g id=\"xtick_191\">\r\n     <g id=\"line2d_191\">\r\n      <path clip-path=\"url(#pd8a31b40e0)\" d=\"M 564.7825 442.08 \r\nL 564.7825 7.2 \r\n\" style=\"fill:none;stroke:#b0b0b0;stroke-linecap:square;stroke-width:0.8;\"/>\r\n     </g>\r\n     <g id=\"text_191\">\r\n      <!-- 154 -->\r\n      <g transform=\"translate(566.162188 458.62375)rotate(-90)scale(0.05 -0.05)\">\r\n       <use xlink:href=\"#DejaVuSans-49\"/>\r\n       <use x=\"63.623047\" xlink:href=\"#DejaVuSans-53\"/>\r\n       <use x=\"127.246094\" xlink:href=\"#DejaVuSans-52\"/>\r\n      </g>\r\n     </g>\r\n    </g>\r\n    <g id=\"xtick_192\">\r\n     <g id=\"line2d_192\">\r\n      <path clip-path=\"url(#pd8a31b40e0)\" d=\"M 567.5725 442.08 \r\nL 567.5725 7.2 \r\n\" style=\"fill:none;stroke:#b0b0b0;stroke-linecap:square;stroke-width:0.8;\"/>\r\n     </g>\r\n     <g id=\"text_192\">\r\n      <!-- 180 -->\r\n      <g transform=\"translate(568.952188 458.62375)rotate(-90)scale(0.05 -0.05)\">\r\n       <use xlink:href=\"#DejaVuSans-49\"/>\r\n       <use x=\"63.623047\" xlink:href=\"#DejaVuSans-56\"/>\r\n       <use x=\"127.246094\" xlink:href=\"#DejaVuSans-48\"/>\r\n      </g>\r\n     </g>\r\n    </g>\r\n    <g id=\"xtick_193\">\r\n     <g id=\"line2d_193\">\r\n      <path clip-path=\"url(#pd8a31b40e0)\" d=\"M 570.3625 442.08 \r\nL 570.3625 7.2 \r\n\" style=\"fill:none;stroke:#b0b0b0;stroke-linecap:square;stroke-width:0.8;\"/>\r\n     </g>\r\n     <g id=\"text_193\">\r\n      <!-- 184 -->\r\n      <g transform=\"translate(571.742188 458.62375)rotate(-90)scale(0.05 -0.05)\">\r\n       <use xlink:href=\"#DejaVuSans-49\"/>\r\n       <use x=\"63.623047\" xlink:href=\"#DejaVuSans-56\"/>\r\n       <use x=\"127.246094\" xlink:href=\"#DejaVuSans-52\"/>\r\n      </g>\r\n     </g>\r\n    </g>\r\n    <g id=\"xtick_194\">\r\n     <g id=\"line2d_194\">\r\n      <path clip-path=\"url(#pd8a31b40e0)\" d=\"M 573.1525 442.08 \r\nL 573.1525 7.2 \r\n\" style=\"fill:none;stroke:#b0b0b0;stroke-linecap:square;stroke-width:0.8;\"/>\r\n     </g>\r\n     <g id=\"text_194\">\r\n      <!-- 188 -->\r\n      <g transform=\"translate(574.532188 458.62375)rotate(-90)scale(0.05 -0.05)\">\r\n       <use xlink:href=\"#DejaVuSans-49\"/>\r\n       <use x=\"63.623047\" xlink:href=\"#DejaVuSans-56\"/>\r\n       <use x=\"127.246094\" xlink:href=\"#DejaVuSans-56\"/>\r\n      </g>\r\n     </g>\r\n    </g>\r\n    <g id=\"xtick_195\">\r\n     <g id=\"line2d_195\">\r\n      <path clip-path=\"url(#pd8a31b40e0)\" d=\"M 575.9425 442.08 \r\nL 575.9425 7.2 \r\n\" style=\"fill:none;stroke:#b0b0b0;stroke-linecap:square;stroke-width:0.8;\"/>\r\n     </g>\r\n     <g id=\"text_195\">\r\n      <!-- 186 -->\r\n      <g transform=\"translate(577.322188 458.62375)rotate(-90)scale(0.05 -0.05)\">\r\n       <use xlink:href=\"#DejaVuSans-49\"/>\r\n       <use x=\"63.623047\" xlink:href=\"#DejaVuSans-56\"/>\r\n       <use x=\"127.246094\" xlink:href=\"#DejaVuSans-54\"/>\r\n      </g>\r\n     </g>\r\n    </g>\r\n    <g id=\"xtick_196\">\r\n     <g id=\"line2d_196\">\r\n      <path clip-path=\"url(#pd8a31b40e0)\" d=\"M 578.7325 442.08 \r\nL 578.7325 7.2 \r\n\" style=\"fill:none;stroke:#b0b0b0;stroke-linecap:square;stroke-width:0.8;\"/>\r\n     </g>\r\n     <g id=\"text_196\">\r\n      <!-- 190 -->\r\n      <g transform=\"translate(580.112188 458.62375)rotate(-90)scale(0.05 -0.05)\">\r\n       <use xlink:href=\"#DejaVuSans-49\"/>\r\n       <use x=\"63.623047\" xlink:href=\"#DejaVuSans-57\"/>\r\n       <use x=\"127.246094\" xlink:href=\"#DejaVuSans-48\"/>\r\n      </g>\r\n     </g>\r\n    </g>\r\n    <g id=\"xtick_197\">\r\n     <g id=\"line2d_197\">\r\n      <path clip-path=\"url(#pd8a31b40e0)\" d=\"M 581.5225 442.08 \r\nL 581.5225 7.2 \r\n\" style=\"fill:none;stroke:#b0b0b0;stroke-linecap:square;stroke-width:0.8;\"/>\r\n     </g>\r\n     <g id=\"text_197\">\r\n      <!-- 192 -->\r\n      <g transform=\"translate(582.902188 458.62375)rotate(-90)scale(0.05 -0.05)\">\r\n       <use xlink:href=\"#DejaVuSans-49\"/>\r\n       <use x=\"63.623047\" xlink:href=\"#DejaVuSans-57\"/>\r\n       <use x=\"127.246094\" xlink:href=\"#DejaVuSans-50\"/>\r\n      </g>\r\n     </g>\r\n    </g>\r\n    <g id=\"xtick_198\">\r\n     <g id=\"line2d_198\">\r\n      <path clip-path=\"url(#pd8a31b40e0)\" d=\"M 584.3125 442.08 \r\nL 584.3125 7.2 \r\n\" style=\"fill:none;stroke:#b0b0b0;stroke-linecap:square;stroke-width:0.8;\"/>\r\n     </g>\r\n     <g id=\"text_198\">\r\n      <!-- 194 -->\r\n      <g transform=\"translate(585.692188 458.62375)rotate(-90)scale(0.05 -0.05)\">\r\n       <use xlink:href=\"#DejaVuSans-49\"/>\r\n       <use x=\"63.623047\" xlink:href=\"#DejaVuSans-57\"/>\r\n       <use x=\"127.246094\" xlink:href=\"#DejaVuSans-52\"/>\r\n      </g>\r\n     </g>\r\n    </g>\r\n    <g id=\"xtick_199\">\r\n     <g id=\"line2d_199\">\r\n      <path clip-path=\"url(#pd8a31b40e0)\" d=\"M 587.1025 442.08 \r\nL 587.1025 7.2 \r\n\" style=\"fill:none;stroke:#b0b0b0;stroke-linecap:square;stroke-width:0.8;\"/>\r\n     </g>\r\n     <g id=\"text_199\">\r\n      <!-- 196 -->\r\n      <g transform=\"translate(588.482188 458.62375)rotate(-90)scale(0.05 -0.05)\">\r\n       <use xlink:href=\"#DejaVuSans-49\"/>\r\n       <use x=\"63.623047\" xlink:href=\"#DejaVuSans-57\"/>\r\n       <use x=\"127.246094\" xlink:href=\"#DejaVuSans-54\"/>\r\n      </g>\r\n     </g>\r\n    </g>\r\n    <g id=\"xtick_200\">\r\n     <g id=\"line2d_200\">\r\n      <path clip-path=\"url(#pd8a31b40e0)\" d=\"M 589.8925 442.08 \r\nL 589.8925 7.2 \r\n\" style=\"fill:none;stroke:#b0b0b0;stroke-linecap:square;stroke-width:0.8;\"/>\r\n     </g>\r\n     <g id=\"text_200\">\r\n      <!-- 198 -->\r\n      <g transform=\"translate(591.272188 458.62375)rotate(-90)scale(0.05 -0.05)\">\r\n       <use xlink:href=\"#DejaVuSans-49\"/>\r\n       <use x=\"63.623047\" xlink:href=\"#DejaVuSans-57\"/>\r\n       <use x=\"127.246094\" xlink:href=\"#DejaVuSans-56\"/>\r\n      </g>\r\n     </g>\r\n    </g>\r\n   </g>\r\n   <g id=\"matplotlib.axis_2\">\r\n    <g id=\"ytick_1\">\r\n     <g id=\"line2d_201\">\r\n      <path clip-path=\"url(#pd8a31b40e0)\" d=\"M 33.2875 442.08 \r\nL 591.2875 442.08 \r\n\" style=\"fill:none;stroke:#b0b0b0;stroke-linecap:square;stroke-width:0.8;\"/>\r\n     </g>\r\n     <g id=\"line2d_202\">\r\n      <defs>\r\n       <path d=\"M 0 0 \r\nL -3.5 0 \r\n\" id=\"m0199fa3c9d\" style=\"stroke:#000000;stroke-width:0.8;\"/>\r\n      </defs>\r\n      <g>\r\n       <use style=\"stroke:#000000;stroke-width:0.8;\" x=\"33.2875\" xlink:href=\"#m0199fa3c9d\" y=\"442.08\"/>\r\n      </g>\r\n     </g>\r\n     <g id=\"text_201\">\r\n      <!-- 0 -->\r\n      <g transform=\"translate(19.925 445.879219)scale(0.1 -0.1)\">\r\n       <use xlink:href=\"#DejaVuSans-48\"/>\r\n      </g>\r\n     </g>\r\n    </g>\r\n    <g id=\"ytick_2\">\r\n     <g id=\"line2d_203\">\r\n      <path clip-path=\"url(#pd8a31b40e0)\" d=\"M 33.2875 391.030921 \r\nL 591.2875 391.030921 \r\n\" style=\"fill:none;stroke:#b0b0b0;stroke-linecap:square;stroke-width:0.8;\"/>\r\n     </g>\r\n     <g id=\"line2d_204\">\r\n      <g>\r\n       <use style=\"stroke:#000000;stroke-width:0.8;\" x=\"33.2875\" xlink:href=\"#m0199fa3c9d\" y=\"391.030921\"/>\r\n      </g>\r\n     </g>\r\n     <g id=\"text_202\">\r\n      <!-- 50 -->\r\n      <g transform=\"translate(13.5625 394.83014)scale(0.1 -0.1)\">\r\n       <use xlink:href=\"#DejaVuSans-53\"/>\r\n       <use x=\"63.623047\" xlink:href=\"#DejaVuSans-48\"/>\r\n      </g>\r\n     </g>\r\n    </g>\r\n    <g id=\"ytick_3\">\r\n     <g id=\"line2d_205\">\r\n      <path clip-path=\"url(#pd8a31b40e0)\" d=\"M 33.2875 339.981842 \r\nL 591.2875 339.981842 \r\n\" style=\"fill:none;stroke:#b0b0b0;stroke-linecap:square;stroke-width:0.8;\"/>\r\n     </g>\r\n     <g id=\"line2d_206\">\r\n      <g>\r\n       <use style=\"stroke:#000000;stroke-width:0.8;\" x=\"33.2875\" xlink:href=\"#m0199fa3c9d\" y=\"339.981842\"/>\r\n      </g>\r\n     </g>\r\n     <g id=\"text_203\">\r\n      <!-- 100 -->\r\n      <g transform=\"translate(7.2 343.781061)scale(0.1 -0.1)\">\r\n       <use xlink:href=\"#DejaVuSans-49\"/>\r\n       <use x=\"63.623047\" xlink:href=\"#DejaVuSans-48\"/>\r\n       <use x=\"127.246094\" xlink:href=\"#DejaVuSans-48\"/>\r\n      </g>\r\n     </g>\r\n    </g>\r\n    <g id=\"ytick_4\">\r\n     <g id=\"line2d_207\">\r\n      <path clip-path=\"url(#pd8a31b40e0)\" d=\"M 33.2875 288.932763 \r\nL 591.2875 288.932763 \r\n\" style=\"fill:none;stroke:#b0b0b0;stroke-linecap:square;stroke-width:0.8;\"/>\r\n     </g>\r\n     <g id=\"line2d_208\">\r\n      <g>\r\n       <use style=\"stroke:#000000;stroke-width:0.8;\" x=\"33.2875\" xlink:href=\"#m0199fa3c9d\" y=\"288.932763\"/>\r\n      </g>\r\n     </g>\r\n     <g id=\"text_204\">\r\n      <!-- 150 -->\r\n      <g transform=\"translate(7.2 292.731982)scale(0.1 -0.1)\">\r\n       <use xlink:href=\"#DejaVuSans-49\"/>\r\n       <use x=\"63.623047\" xlink:href=\"#DejaVuSans-53\"/>\r\n       <use x=\"127.246094\" xlink:href=\"#DejaVuSans-48\"/>\r\n      </g>\r\n     </g>\r\n    </g>\r\n    <g id=\"ytick_5\">\r\n     <g id=\"line2d_209\">\r\n      <path clip-path=\"url(#pd8a31b40e0)\" d=\"M 33.2875 237.883685 \r\nL 591.2875 237.883685 \r\n\" style=\"fill:none;stroke:#b0b0b0;stroke-linecap:square;stroke-width:0.8;\"/>\r\n     </g>\r\n     <g id=\"line2d_210\">\r\n      <g>\r\n       <use style=\"stroke:#000000;stroke-width:0.8;\" x=\"33.2875\" xlink:href=\"#m0199fa3c9d\" y=\"237.883685\"/>\r\n      </g>\r\n     </g>\r\n     <g id=\"text_205\">\r\n      <!-- 200 -->\r\n      <g transform=\"translate(7.2 241.682903)scale(0.1 -0.1)\">\r\n       <use xlink:href=\"#DejaVuSans-50\"/>\r\n       <use x=\"63.623047\" xlink:href=\"#DejaVuSans-48\"/>\r\n       <use x=\"127.246094\" xlink:href=\"#DejaVuSans-48\"/>\r\n      </g>\r\n     </g>\r\n    </g>\r\n    <g id=\"ytick_6\">\r\n     <g id=\"line2d_211\">\r\n      <path clip-path=\"url(#pd8a31b40e0)\" d=\"M 33.2875 186.834606 \r\nL 591.2875 186.834606 \r\n\" style=\"fill:none;stroke:#b0b0b0;stroke-linecap:square;stroke-width:0.8;\"/>\r\n     </g>\r\n     <g id=\"line2d_212\">\r\n      <g>\r\n       <use style=\"stroke:#000000;stroke-width:0.8;\" x=\"33.2875\" xlink:href=\"#m0199fa3c9d\" y=\"186.834606\"/>\r\n      </g>\r\n     </g>\r\n     <g id=\"text_206\">\r\n      <!-- 250 -->\r\n      <g transform=\"translate(7.2 190.633824)scale(0.1 -0.1)\">\r\n       <use xlink:href=\"#DejaVuSans-50\"/>\r\n       <use x=\"63.623047\" xlink:href=\"#DejaVuSans-53\"/>\r\n       <use x=\"127.246094\" xlink:href=\"#DejaVuSans-48\"/>\r\n      </g>\r\n     </g>\r\n    </g>\r\n    <g id=\"ytick_7\">\r\n     <g id=\"line2d_213\">\r\n      <path clip-path=\"url(#pd8a31b40e0)\" d=\"M 33.2875 135.785527 \r\nL 591.2875 135.785527 \r\n\" style=\"fill:none;stroke:#b0b0b0;stroke-linecap:square;stroke-width:0.8;\"/>\r\n     </g>\r\n     <g id=\"line2d_214\">\r\n      <g>\r\n       <use style=\"stroke:#000000;stroke-width:0.8;\" x=\"33.2875\" xlink:href=\"#m0199fa3c9d\" y=\"135.785527\"/>\r\n      </g>\r\n     </g>\r\n     <g id=\"text_207\">\r\n      <!-- 300 -->\r\n      <g transform=\"translate(7.2 139.584746)scale(0.1 -0.1)\">\r\n       <use xlink:href=\"#DejaVuSans-51\"/>\r\n       <use x=\"63.623047\" xlink:href=\"#DejaVuSans-48\"/>\r\n       <use x=\"127.246094\" xlink:href=\"#DejaVuSans-48\"/>\r\n      </g>\r\n     </g>\r\n    </g>\r\n    <g id=\"ytick_8\">\r\n     <g id=\"line2d_215\">\r\n      <path clip-path=\"url(#pd8a31b40e0)\" d=\"M 33.2875 84.736448 \r\nL 591.2875 84.736448 \r\n\" style=\"fill:none;stroke:#b0b0b0;stroke-linecap:square;stroke-width:0.8;\"/>\r\n     </g>\r\n     <g id=\"line2d_216\">\r\n      <g>\r\n       <use style=\"stroke:#000000;stroke-width:0.8;\" x=\"33.2875\" xlink:href=\"#m0199fa3c9d\" y=\"84.736448\"/>\r\n      </g>\r\n     </g>\r\n     <g id=\"text_208\">\r\n      <!-- 350 -->\r\n      <g transform=\"translate(7.2 88.535667)scale(0.1 -0.1)\">\r\n       <use xlink:href=\"#DejaVuSans-51\"/>\r\n       <use x=\"63.623047\" xlink:href=\"#DejaVuSans-53\"/>\r\n       <use x=\"127.246094\" xlink:href=\"#DejaVuSans-48\"/>\r\n      </g>\r\n     </g>\r\n    </g>\r\n    <g id=\"ytick_9\">\r\n     <g id=\"line2d_217\">\r\n      <path clip-path=\"url(#pd8a31b40e0)\" d=\"M 33.2875 33.687369 \r\nL 591.2875 33.687369 \r\n\" style=\"fill:none;stroke:#b0b0b0;stroke-linecap:square;stroke-width:0.8;\"/>\r\n     </g>\r\n     <g id=\"line2d_218\">\r\n      <g>\r\n       <use style=\"stroke:#000000;stroke-width:0.8;\" x=\"33.2875\" xlink:href=\"#m0199fa3c9d\" y=\"33.687369\"/>\r\n      </g>\r\n     </g>\r\n     <g id=\"text_209\">\r\n      <!-- 400 -->\r\n      <g transform=\"translate(7.2 37.486588)scale(0.1 -0.1)\">\r\n       <use xlink:href=\"#DejaVuSans-52\"/>\r\n       <use x=\"63.623047\" xlink:href=\"#DejaVuSans-48\"/>\r\n       <use x=\"127.246094\" xlink:href=\"#DejaVuSans-48\"/>\r\n      </g>\r\n     </g>\r\n    </g>\r\n   </g>\r\n   <g id=\"LineCollection_1\">\r\n    <path clip-path=\"url(#pd8a31b40e0)\" d=\"M 37.4725 442.08 \r\nL 37.4725 440.636114 \r\nL 40.2625 440.636114 \r\nL 40.2625 442.08 \r\n\" style=\"fill:none;stroke:#ff7f0e;stroke-width:1.5;\"/>\r\n    <path clip-path=\"url(#pd8a31b40e0)\" d=\"M 43.0525 442.08 \r\nL 43.0525 440.038037 \r\nL 45.8425 440.038037 \r\nL 45.8425 442.08 \r\n\" style=\"fill:none;stroke:#ff7f0e;stroke-width:1.5;\"/>\r\n    <path clip-path=\"url(#pd8a31b40e0)\" d=\"M 38.8675 440.636114 \r\nL 38.8675 436.581846 \r\nL 44.4475 436.581846 \r\nL 44.4475 440.038037 \r\n\" style=\"fill:none;stroke:#ff7f0e;stroke-width:1.5;\"/>\r\n    <path clip-path=\"url(#pd8a31b40e0)\" d=\"M 34.6825 442.08 \r\nL 34.6825 435.671358 \r\nL 41.6575 435.671358 \r\nL 41.6575 436.581846 \r\n\" style=\"fill:none;stroke:#ff7f0e;stroke-width:1.5;\"/>\r\n    <path clip-path=\"url(#pd8a31b40e0)\" d=\"M 48.6325 442.08 \r\nL 48.6325 438.398799 \r\nL 51.4225 438.398799 \r\nL 51.4225 442.08 \r\n\" style=\"fill:none;stroke:#ff7f0e;stroke-width:1.5;\"/>\r\n    <path clip-path=\"url(#pd8a31b40e0)\" d=\"M 57.0025 442.08 \r\nL 57.0025 435.622746 \r\nL 59.7925 435.622746 \r\nL 59.7925 442.08 \r\n\" style=\"fill:none;stroke:#ff7f0e;stroke-width:1.5;\"/>\r\n    <path clip-path=\"url(#pd8a31b40e0)\" d=\"M 65.3725 442.08 \r\nL 65.3725 441.059018 \r\nL 68.1625 441.059018 \r\nL 68.1625 442.08 \r\n\" style=\"fill:none;stroke:#ff7f0e;stroke-width:1.5;\"/>\r\n    <path clip-path=\"url(#pd8a31b40e0)\" d=\"M 62.5825 442.08 \r\nL 62.5825 435.595896 \r\nL 66.7675 435.595896 \r\nL 66.7675 441.059018 \r\n\" style=\"fill:none;stroke:#ff7f0e;stroke-width:1.5;\"/>\r\n    <path clip-path=\"url(#pd8a31b40e0)\" d=\"M 58.3975 435.622746 \r\nL 58.3975 430.23192 \r\nL 64.675 430.23192 \r\nL 64.675 435.595896 \r\n\" style=\"fill:none;stroke:#ff7f0e;stroke-width:1.5;\"/>\r\n    <path clip-path=\"url(#pd8a31b40e0)\" d=\"M 54.2125 442.08 \r\nL 54.2125 427.296318 \r\nL 61.53625 427.296318 \r\nL 61.53625 430.23192 \r\n\" style=\"fill:none;stroke:#ff7f0e;stroke-width:1.5;\"/>\r\n    <path clip-path=\"url(#pd8a31b40e0)\" d=\"M 50.0275 438.398799 \r\nL 50.0275 421.172717 \r\nL 57.874375 421.172717 \r\nL 57.874375 427.296318 \r\n\" style=\"fill:none;stroke:#ff7f0e;stroke-width:1.5;\"/>\r\n    <path clip-path=\"url(#pd8a31b40e0)\" d=\"M 38.17 435.671358 \r\nL 38.17 411.509775 \r\nL 53.950938 411.509775 \r\nL 53.950938 421.172717 \r\n\" style=\"fill:none;stroke:#ff7f0e;stroke-width:1.5;\"/>\r\n    <path clip-path=\"url(#pd8a31b40e0)\" d=\"M 73.7425 442.08 \r\nL 73.7425 437.870385 \r\nL 76.5325 437.870385 \r\nL 76.5325 442.08 \r\n\" style=\"fill:none;stroke:#ff7f0e;stroke-width:1.5;\"/>\r\n    <path clip-path=\"url(#pd8a31b40e0)\" d=\"M 70.9525 442.08 \r\nL 70.9525 435.703972 \r\nL 75.1375 435.703972 \r\nL 75.1375 437.870385 \r\n\" style=\"fill:none;stroke:#ff7f0e;stroke-width:1.5;\"/>\r\n    <path clip-path=\"url(#pd8a31b40e0)\" d=\"M 79.3225 442.08 \r\nL 79.3225 436.975092 \r\nL 82.1125 436.975092 \r\nL 82.1125 442.08 \r\n\" style=\"fill:none;stroke:#ff7f0e;stroke-width:1.5;\"/>\r\n    <path clip-path=\"url(#pd8a31b40e0)\" d=\"M 87.6925 442.08 \r\nL 87.6925 436.873995 \r\nL 90.4825 436.873995 \r\nL 90.4825 442.08 \r\n\" style=\"fill:none;stroke:#ff7f0e;stroke-width:1.5;\"/>\r\n    <path clip-path=\"url(#pd8a31b40e0)\" d=\"M 84.9025 442.08 \r\nL 84.9025 435.359076 \r\nL 89.0875 435.359076 \r\nL 89.0875 436.873995 \r\n\" style=\"fill:none;stroke:#ff7f0e;stroke-width:1.5;\"/>\r\n    <path clip-path=\"url(#pd8a31b40e0)\" d=\"M 80.7175 436.975092 \r\nL 80.7175 425.844574 \r\nL 86.995 425.844574 \r\nL 86.995 435.359076 \r\n\" style=\"fill:none;stroke:#ff7f0e;stroke-width:1.5;\"/>\r\n    <path clip-path=\"url(#pd8a31b40e0)\" d=\"M 73.045 435.703972 \r\nL 73.045 410.639403 \r\nL 83.85625 410.639403 \r\nL 83.85625 425.844574 \r\n\" style=\"fill:none;stroke:#ff7f0e;stroke-width:1.5;\"/>\r\n    <path clip-path=\"url(#pd8a31b40e0)\" d=\"M 46.060469 411.509775 \r\nL 46.060469 385.628852 \r\nL 78.450625 385.628852 \r\nL 78.450625 410.639403 \r\n\" style=\"fill:none;stroke:#ff7f0e;stroke-width:1.5;\"/>\r\n    <path clip-path=\"url(#pd8a31b40e0)\" d=\"M 96.0625 442.08 \r\nL 96.0625 440.636114 \r\nL 98.8525 440.636114 \r\nL 98.8525 442.08 \r\n\" style=\"fill:none;stroke:#ff7f0e;stroke-width:1.5;\"/>\r\n    <path clip-path=\"url(#pd8a31b40e0)\" d=\"M 93.2725 442.08 \r\nL 93.2725 440.215951 \r\nL 97.4575 440.215951 \r\nL 97.4575 440.636114 \r\n\" style=\"fill:none;stroke:#ff7f0e;stroke-width:1.5;\"/>\r\n    <path clip-path=\"url(#pd8a31b40e0)\" d=\"M 104.4325 442.08 \r\nL 104.4325 440.038037 \r\nL 107.2225 440.038037 \r\nL 107.2225 442.08 \r\n\" style=\"fill:none;stroke:#ff7f0e;stroke-width:1.5;\"/>\r\n    <path clip-path=\"url(#pd8a31b40e0)\" d=\"M 101.6425 442.08 \r\nL 101.6425 437.829315 \r\nL 105.8275 437.829315 \r\nL 105.8275 440.038037 \r\n\" style=\"fill:none;stroke:#ff7f0e;stroke-width:1.5;\"/>\r\n    <path clip-path=\"url(#pd8a31b40e0)\" d=\"M 95.365 440.215951 \r\nL 95.365 425.776232 \r\nL 103.735 425.776232 \r\nL 103.735 437.829315 \r\n\" style=\"fill:none;stroke:#ff7f0e;stroke-width:1.5;\"/>\r\n    <path clip-path=\"url(#pd8a31b40e0)\" d=\"M 112.8025 442.08 \r\nL 112.8025 438.851373 \r\nL 115.5925 438.851373 \r\nL 115.5925 442.08 \r\n\" style=\"fill:none;stroke:#ff7f0e;stroke-width:1.5;\"/>\r\n    <path clip-path=\"url(#pd8a31b40e0)\" d=\"M 110.0125 442.08 \r\nL 110.0125 435.359076 \r\nL 114.1975 435.359076 \r\nL 114.1975 438.851373 \r\n\" style=\"fill:none;stroke:#ff7f0e;stroke-width:1.5;\"/>\r\n    <path clip-path=\"url(#pd8a31b40e0)\" d=\"M 121.1725 442.08 \r\nL 121.1725 439.017055 \r\nL 123.9625 439.017055 \r\nL 123.9625 442.08 \r\n\" style=\"fill:none;stroke:#ff7f0e;stroke-width:1.5;\"/>\r\n    <path clip-path=\"url(#pd8a31b40e0)\" d=\"M 118.3825 442.08 \r\nL 118.3825 434.326812 \r\nL 122.5675 434.326812 \r\nL 122.5675 439.017055 \r\n\" style=\"fill:none;stroke:#ff7f0e;stroke-width:1.5;\"/>\r\n    <path clip-path=\"url(#pd8a31b40e0)\" d=\"M 112.105 435.359076 \r\nL 112.105 422.771118 \r\nL 120.475 422.771118 \r\nL 120.475 434.326812 \r\n\" style=\"fill:none;stroke:#ff7f0e;stroke-width:1.5;\"/>\r\n    <path clip-path=\"url(#pd8a31b40e0)\" d=\"M 99.55 425.776232 \r\nL 99.55 412.483272 \r\nL 116.29 412.483272 \r\nL 116.29 422.771118 \r\n\" style=\"fill:none;stroke:#ff7f0e;stroke-width:1.5;\"/>\r\n    <path clip-path=\"url(#pd8a31b40e0)\" d=\"M 126.7525 442.08 \r\nL 126.7525 440.636114 \r\nL 129.5425 440.636114 \r\nL 129.5425 442.08 \r\n\" style=\"fill:none;stroke:#ff7f0e;stroke-width:1.5;\"/>\r\n    <path clip-path=\"url(#pd8a31b40e0)\" d=\"M 132.3325 442.08 \r\nL 132.3325 439.192228 \r\nL 135.1225 439.192228 \r\nL 135.1225 442.08 \r\n\" style=\"fill:none;stroke:#ff7f0e;stroke-width:1.5;\"/>\r\n    <path clip-path=\"url(#pd8a31b40e0)\" d=\"M 128.1475 440.636114 \r\nL 128.1475 429.785754 \r\nL 133.7275 429.785754 \r\nL 133.7275 439.192228 \r\n\" style=\"fill:none;stroke:#ff7f0e;stroke-width:1.5;\"/>\r\n    <path clip-path=\"url(#pd8a31b40e0)\" d=\"M 137.9125 442.08 \r\nL 137.9125 439.797016 \r\nL 140.7025 439.797016 \r\nL 140.7025 442.08 \r\n\" style=\"fill:none;stroke:#ff7f0e;stroke-width:1.5;\"/>\r\n    <path clip-path=\"url(#pd8a31b40e0)\" d=\"M 143.4925 442.08 \r\nL 143.4925 440.636114 \r\nL 146.2825 440.636114 \r\nL 146.2825 442.08 \r\n\" style=\"fill:none;stroke:#ff7f0e;stroke-width:1.5;\"/>\r\n    <path clip-path=\"url(#pd8a31b40e0)\" d=\"M 151.8625 442.08 \r\nL 151.8625 439.017055 \r\nL 154.6525 439.017055 \r\nL 154.6525 442.08 \r\n\" style=\"fill:none;stroke:#ff7f0e;stroke-width:1.5;\"/>\r\n    <path clip-path=\"url(#pd8a31b40e0)\" d=\"M 149.0725 442.08 \r\nL 149.0725 434.981914 \r\nL 153.2575 434.981914 \r\nL 153.2575 439.017055 \r\n\" style=\"fill:none;stroke:#ff7f0e;stroke-width:1.5;\"/>\r\n    <path clip-path=\"url(#pd8a31b40e0)\" d=\"M 144.8875 440.636114 \r\nL 144.8875 432.55327 \r\nL 151.165 432.55327 \r\nL 151.165 434.981914 \r\n\" style=\"fill:none;stroke:#ff7f0e;stroke-width:1.5;\"/>\r\n    <path clip-path=\"url(#pd8a31b40e0)\" d=\"M 139.3075 439.797016 \r\nL 139.3075 422.296729 \r\nL 148.02625 422.296729 \r\nL 148.02625 432.55327 \r\n\" style=\"fill:none;stroke:#ff7f0e;stroke-width:1.5;\"/>\r\n    <path clip-path=\"url(#pd8a31b40e0)\" d=\"M 130.9375 429.785754 \r\nL 130.9375 404.904783 \r\nL 143.666875 404.904783 \r\nL 143.666875 422.296729 \r\n\" style=\"fill:none;stroke:#ff7f0e;stroke-width:1.5;\"/>\r\n    <path clip-path=\"url(#pd8a31b40e0)\" d=\"M 107.92 412.483272 \r\nL 107.92 359.19737 \r\nL 137.302188 359.19737 \r\nL 137.302188 404.904783 \r\n\" style=\"fill:none;stroke:#ff7f0e;stroke-width:1.5;\"/>\r\n    <path clip-path=\"url(#pd8a31b40e0)\" d=\"M 157.4425 442.08 \r\nL 157.4425 441.059018 \r\nL 160.2325 441.059018 \r\nL 160.2325 442.08 \r\n\" style=\"fill:none;stroke:#ff7f0e;stroke-width:1.5;\"/>\r\n    <path clip-path=\"url(#pd8a31b40e0)\" d=\"M 163.0225 442.08 \r\nL 163.0225 437.996074 \r\nL 165.8125 437.996074 \r\nL 165.8125 442.08 \r\n\" style=\"fill:none;stroke:#ff7f0e;stroke-width:1.5;\"/>\r\n    <path clip-path=\"url(#pd8a31b40e0)\" d=\"M 158.8375 441.059018 \r\nL 158.8375 435.424014 \r\nL 164.4175 435.424014 \r\nL 164.4175 437.996074 \r\n\" style=\"fill:none;stroke:#ff7f0e;stroke-width:1.5;\"/>\r\n    <path clip-path=\"url(#pd8a31b40e0)\" d=\"M 171.3925 442.08 \r\nL 171.3925 439.797016 \r\nL 174.1825 439.797016 \r\nL 174.1825 442.08 \r\n\" style=\"fill:none;stroke:#ff7f0e;stroke-width:1.5;\"/>\r\n    <path clip-path=\"url(#pd8a31b40e0)\" d=\"M 168.6025 442.08 \r\nL 168.6025 438.305589 \r\nL 172.7875 438.305589 \r\nL 172.7875 439.797016 \r\n\" style=\"fill:none;stroke:#ff7f0e;stroke-width:1.5;\"/>\r\n    <path clip-path=\"url(#pd8a31b40e0)\" d=\"M 179.7625 442.08 \r\nL 179.7625 442.08 \r\nL 182.5525 442.08 \r\nL 182.5525 442.08 \r\n\" style=\"fill:none;stroke:#ff7f0e;stroke-width:1.5;\"/>\r\n    <path clip-path=\"url(#pd8a31b40e0)\" d=\"M 176.9725 442.08 \r\nL 176.9725 440.901072 \r\nL 181.1575 440.901072 \r\nL 181.1575 442.08 \r\n\" style=\"fill:none;stroke:#ff7f0e;stroke-width:1.5;\"/>\r\n    <path clip-path=\"url(#pd8a31b40e0)\" d=\"M 185.3425 442.08 \r\nL 185.3425 441.059018 \r\nL 188.1325 441.059018 \r\nL 188.1325 442.08 \r\n\" style=\"fill:none;stroke:#ff7f0e;stroke-width:1.5;\"/>\r\n    <path clip-path=\"url(#pd8a31b40e0)\" d=\"M 190.9225 442.08 \r\nL 190.9225 440.636114 \r\nL 193.7125 440.636114 \r\nL 193.7125 442.08 \r\n\" style=\"fill:none;stroke:#ff7f0e;stroke-width:1.5;\"/>\r\n    <path clip-path=\"url(#pd8a31b40e0)\" d=\"M 186.7375 441.059018 \r\nL 186.7375 437.026399 \r\nL 192.3175 437.026399 \r\nL 192.3175 440.636114 \r\n\" style=\"fill:none;stroke:#ff7f0e;stroke-width:1.5;\"/>\r\n    <path clip-path=\"url(#pd8a31b40e0)\" d=\"M 179.065 440.901072 \r\nL 179.065 435.461408 \r\nL 189.5275 435.461408 \r\nL 189.5275 437.026399 \r\n\" style=\"fill:none;stroke:#ff7f0e;stroke-width:1.5;\"/>\r\n    <path clip-path=\"url(#pd8a31b40e0)\" d=\"M 170.695 438.305589 \r\nL 170.695 427.631174 \r\nL 184.29625 427.631174 \r\nL 184.29625 435.461408 \r\n\" style=\"fill:none;stroke:#ff7f0e;stroke-width:1.5;\"/>\r\n    <path clip-path=\"url(#pd8a31b40e0)\" d=\"M 161.6275 435.424014 \r\nL 161.6275 423.690586 \r\nL 177.495625 423.690586 \r\nL 177.495625 427.631174 \r\n\" style=\"fill:none;stroke:#ff7f0e;stroke-width:1.5;\"/>\r\n    <path clip-path=\"url(#pd8a31b40e0)\" d=\"M 199.2925 442.08 \r\nL 199.2925 441.059018 \r\nL 202.0825 441.059018 \r\nL 202.0825 442.08 \r\n\" style=\"fill:none;stroke:#ff7f0e;stroke-width:1.5;\"/>\r\n    <path clip-path=\"url(#pd8a31b40e0)\" d=\"M 196.5025 442.08 \r\nL 196.5025 440.311608 \r\nL 200.6875 440.311608 \r\nL 200.6875 441.059018 \r\n\" style=\"fill:none;stroke:#ff7f0e;stroke-width:1.5;\"/>\r\n    <path clip-path=\"url(#pd8a31b40e0)\" d=\"M 210.4525 442.08 \r\nL 210.4525 441.059018 \r\nL 213.2425 441.059018 \r\nL 213.2425 442.08 \r\n\" style=\"fill:none;stroke:#ff7f0e;stroke-width:1.5;\"/>\r\n    <path clip-path=\"url(#pd8a31b40e0)\" d=\"M 207.6625 442.08 \r\nL 207.6625 439.13268 \r\nL 211.8475 439.13268 \r\nL 211.8475 441.059018 \r\n\" style=\"fill:none;stroke:#ff7f0e;stroke-width:1.5;\"/>\r\n    <path clip-path=\"url(#pd8a31b40e0)\" d=\"M 204.8725 442.08 \r\nL 204.8725 435.813912 \r\nL 209.755 435.813912 \r\nL 209.755 439.13268 \r\n\" style=\"fill:none;stroke:#ff7f0e;stroke-width:1.5;\"/>\r\n    <path clip-path=\"url(#pd8a31b40e0)\" d=\"M 198.595 440.311608 \r\nL 198.595 432.794439 \r\nL 207.31375 432.794439 \r\nL 207.31375 435.813912 \r\n\" style=\"fill:none;stroke:#ff7f0e;stroke-width:1.5;\"/>\r\n    <path clip-path=\"url(#pd8a31b40e0)\" d=\"M 221.6125 442.08 \r\nL 221.6125 441.059018 \r\nL 224.4025 441.059018 \r\nL 224.4025 442.08 \r\n\" style=\"fill:none;stroke:#ff7f0e;stroke-width:1.5;\"/>\r\n    <path clip-path=\"url(#pd8a31b40e0)\" d=\"M 218.8225 442.08 \r\nL 218.8225 439.13268 \r\nL 223.0075 439.13268 \r\nL 223.0075 441.059018 \r\n\" style=\"fill:none;stroke:#ff7f0e;stroke-width:1.5;\"/>\r\n    <path clip-path=\"url(#pd8a31b40e0)\" d=\"M 216.0325 442.08 \r\nL 216.0325 437.91186 \r\nL 220.915 437.91186 \r\nL 220.915 439.13268 \r\n\" style=\"fill:none;stroke:#ff7f0e;stroke-width:1.5;\"/>\r\n    <path clip-path=\"url(#pd8a31b40e0)\" d=\"M 229.9825 442.08 \r\nL 229.9825 441.059018 \r\nL 232.7725 441.059018 \r\nL 232.7725 442.08 \r\n\" style=\"fill:none;stroke:#ff7f0e;stroke-width:1.5;\"/>\r\n    <path clip-path=\"url(#pd8a31b40e0)\" d=\"M 235.5625 442.08 \r\nL 235.5625 440.636114 \r\nL 238.3525 440.636114 \r\nL 238.3525 442.08 \r\n\" style=\"fill:none;stroke:#ff7f0e;stroke-width:1.5;\"/>\r\n    <path clip-path=\"url(#pd8a31b40e0)\" d=\"M 231.3775 441.059018 \r\nL 231.3775 439.476998 \r\nL 236.9575 439.476998 \r\nL 236.9575 440.636114 \r\n\" style=\"fill:none;stroke:#ff7f0e;stroke-width:1.5;\"/>\r\n    <path clip-path=\"url(#pd8a31b40e0)\" d=\"M 227.1925 442.08 \r\nL 227.1925 437.688592 \r\nL 234.1675 437.688592 \r\nL 234.1675 439.476998 \r\n\" style=\"fill:none;stroke:#ff7f0e;stroke-width:1.5;\"/>\r\n    <path clip-path=\"url(#pd8a31b40e0)\" d=\"M 218.47375 437.91186 \r\nL 218.47375 434.364249 \r\nL 230.68 434.364249 \r\nL 230.68 437.688592 \r\n\" style=\"fill:none;stroke:#ff7f0e;stroke-width:1.5;\"/>\r\n    <path clip-path=\"url(#pd8a31b40e0)\" d=\"M 243.9325 442.08 \r\nL 243.9325 442.08 \r\nL 246.7225 442.08 \r\nL 246.7225 442.08 \r\n\" style=\"fill:none;stroke:#ff7f0e;stroke-width:1.5;\"/>\r\n    <path clip-path=\"url(#pd8a31b40e0)\" d=\"M 241.1425 442.08 \r\nL 241.1425 438.351902 \r\nL 245.3275 438.351902 \r\nL 245.3275 442.08 \r\n\" style=\"fill:none;stroke:#ff7f0e;stroke-width:1.5;\"/>\r\n    <path clip-path=\"url(#pd8a31b40e0)\" d=\"M 252.3025 442.08 \r\nL 252.3025 440.636114 \r\nL 255.0925 440.636114 \r\nL 255.0925 442.08 \r\n\" style=\"fill:none;stroke:#ff7f0e;stroke-width:1.5;\"/>\r\n    <path clip-path=\"url(#pd8a31b40e0)\" d=\"M 249.5125 442.08 \r\nL 249.5125 437.590776 \r\nL 253.6975 437.590776 \r\nL 253.6975 440.636114 \r\n\" style=\"fill:none;stroke:#ff7f0e;stroke-width:1.5;\"/>\r\n    <path clip-path=\"url(#pd8a31b40e0)\" d=\"M 243.235 438.351902 \r\nL 243.235 434.062423 \r\nL 251.605 434.062423 \r\nL 251.605 437.590776 \r\n\" style=\"fill:none;stroke:#ff7f0e;stroke-width:1.5;\"/>\r\n    <path clip-path=\"url(#pd8a31b40e0)\" d=\"M 224.576875 434.364249 \r\nL 224.576875 420.663169 \r\nL 247.42 420.663169 \r\nL 247.42 434.062423 \r\n\" style=\"fill:none;stroke:#ff7f0e;stroke-width:1.5;\"/>\r\n    <path clip-path=\"url(#pd8a31b40e0)\" d=\"M 202.954375 432.794439 \r\nL 202.954375 414.443099 \r\nL 235.998438 414.443099 \r\nL 235.998438 420.663169 \r\n\" style=\"fill:none;stroke:#ff7f0e;stroke-width:1.5;\"/>\r\n    <path clip-path=\"url(#pd8a31b40e0)\" d=\"M 169.561563 423.690586 \r\nL 169.561563 392.291063 \r\nL 219.476406 392.291063 \r\nL 219.476406 414.443099 \r\n\" style=\"fill:none;stroke:#ff7f0e;stroke-width:1.5;\"/>\r\n    <path clip-path=\"url(#pd8a31b40e0)\" d=\"M 260.6725 442.08 \r\nL 260.6725 439.797016 \r\nL 263.4625 439.797016 \r\nL 263.4625 442.08 \r\n\" style=\"fill:none;stroke:#ff7f0e;stroke-width:1.5;\"/>\r\n    <path clip-path=\"url(#pd8a31b40e0)\" d=\"M 257.8825 442.08 \r\nL 257.8825 436.274453 \r\nL 262.0675 436.274453 \r\nL 262.0675 439.797016 \r\n\" style=\"fill:none;stroke:#ff7f0e;stroke-width:1.5;\"/>\r\n    <path clip-path=\"url(#pd8a31b40e0)\" d=\"M 269.0425 442.08 \r\nL 269.0425 440.636114 \r\nL 271.8325 440.636114 \r\nL 271.8325 442.08 \r\n\" style=\"fill:none;stroke:#ff7f0e;stroke-width:1.5;\"/>\r\n    <path clip-path=\"url(#pd8a31b40e0)\" d=\"M 266.2525 442.08 \r\nL 266.2525 435.359076 \r\nL 270.4375 435.359076 \r\nL 270.4375 440.636114 \r\n\" style=\"fill:none;stroke:#ff7f0e;stroke-width:1.5;\"/>\r\n    <path clip-path=\"url(#pd8a31b40e0)\" d=\"M 259.975 436.274453 \r\nL 259.975 428.50952 \r\nL 268.345 428.50952 \r\nL 268.345 435.359076 \r\n\" style=\"fill:none;stroke:#ff7f0e;stroke-width:1.5;\"/>\r\n    <path clip-path=\"url(#pd8a31b40e0)\" d=\"M 274.6225 442.08 \r\nL 274.6225 439.797016 \r\nL 277.4125 439.797016 \r\nL 277.4125 442.08 \r\n\" style=\"fill:none;stroke:#ff7f0e;stroke-width:1.5;\"/>\r\n    <path clip-path=\"url(#pd8a31b40e0)\" d=\"M 285.7825 442.08 \r\nL 285.7825 441.059018 \r\nL 288.5725 441.059018 \r\nL 288.5725 442.08 \r\n\" style=\"fill:none;stroke:#ff7f0e;stroke-width:1.5;\"/>\r\n    <path clip-path=\"url(#pd8a31b40e0)\" d=\"M 282.9925 442.08 \r\nL 282.9925 440.761918 \r\nL 287.1775 440.761918 \r\nL 287.1775 441.059018 \r\n\" style=\"fill:none;stroke:#ff7f0e;stroke-width:1.5;\"/>\r\n    <path clip-path=\"url(#pd8a31b40e0)\" d=\"M 280.2025 442.08 \r\nL 280.2025 438.719538 \r\nL 285.085 438.719538 \r\nL 285.085 440.761918 \r\n\" style=\"fill:none;stroke:#ff7f0e;stroke-width:1.5;\"/>\r\n    <path clip-path=\"url(#pd8a31b40e0)\" d=\"M 276.0175 439.797016 \r\nL 276.0175 435.883615 \r\nL 282.64375 435.883615 \r\nL 282.64375 438.719538 \r\n\" style=\"fill:none;stroke:#ff7f0e;stroke-width:1.5;\"/>\r\n    <path clip-path=\"url(#pd8a31b40e0)\" d=\"M 291.3625 442.08 \r\nL 291.3625 441.059018 \r\nL 294.1525 441.059018 \r\nL 294.1525 442.08 \r\n\" style=\"fill:none;stroke:#ff7f0e;stroke-width:1.5;\"/>\r\n    <path clip-path=\"url(#pd8a31b40e0)\" d=\"M 296.9425 442.08 \r\nL 296.9425 441.059018 \r\nL 299.7325 441.059018 \r\nL 299.7325 442.08 \r\n\" style=\"fill:none;stroke:#ff7f0e;stroke-width:1.5;\"/>\r\n    <path clip-path=\"url(#pd8a31b40e0)\" d=\"M 292.7575 441.059018 \r\nL 292.7575 438.851373 \r\nL 298.3375 438.851373 \r\nL 298.3375 441.059018 \r\n\" style=\"fill:none;stroke:#ff7f0e;stroke-width:1.5;\"/>\r\n    <path clip-path=\"url(#pd8a31b40e0)\" d=\"M 302.5225 442.08 \r\nL 302.5225 440.038037 \r\nL 305.3125 440.038037 \r\nL 305.3125 442.08 \r\n\" style=\"fill:none;stroke:#ff7f0e;stroke-width:1.5;\"/>\r\n    <path clip-path=\"url(#pd8a31b40e0)\" d=\"M 308.1025 442.08 \r\nL 308.1025 440.038037 \r\nL 310.8925 440.038037 \r\nL 310.8925 442.08 \r\n\" style=\"fill:none;stroke:#ff7f0e;stroke-width:1.5;\"/>\r\n    <path clip-path=\"url(#pd8a31b40e0)\" d=\"M 303.9175 440.038037 \r\nL 303.9175 437.996074 \r\nL 309.4975 437.996074 \r\nL 309.4975 440.038037 \r\n\" style=\"fill:none;stroke:#ff7f0e;stroke-width:1.5;\"/>\r\n    <path clip-path=\"url(#pd8a31b40e0)\" d=\"M 295.5475 438.851373 \r\nL 295.5475 435.622746 \r\nL 306.7075 435.622746 \r\nL 306.7075 437.996074 \r\n\" style=\"fill:none;stroke:#ff7f0e;stroke-width:1.5;\"/>\r\n    <path clip-path=\"url(#pd8a31b40e0)\" d=\"M 279.330625 435.883615 \r\nL 279.330625 432.236531 \r\nL 301.1275 432.236531 \r\nL 301.1275 435.622746 \r\n\" style=\"fill:none;stroke:#ff7f0e;stroke-width:1.5;\"/>\r\n    <path clip-path=\"url(#pd8a31b40e0)\" d=\"M 313.6825 442.08 \r\nL 313.6825 440.636114 \r\nL 316.4725 440.636114 \r\nL 316.4725 442.08 \r\n\" style=\"fill:none;stroke:#ff7f0e;stroke-width:1.5;\"/>\r\n    <path clip-path=\"url(#pd8a31b40e0)\" d=\"M 319.2625 442.08 \r\nL 319.2625 441.059018 \r\nL 322.0525 441.059018 \r\nL 322.0525 442.08 \r\n\" style=\"fill:none;stroke:#ff7f0e;stroke-width:1.5;\"/>\r\n    <path clip-path=\"url(#pd8a31b40e0)\" d=\"M 324.8425 442.08 \r\nL 324.8425 441.059018 \r\nL 327.6325 441.059018 \r\nL 327.6325 442.08 \r\n\" style=\"fill:none;stroke:#ff7f0e;stroke-width:1.5;\"/>\r\n    <path clip-path=\"url(#pd8a31b40e0)\" d=\"M 320.6575 441.059018 \r\nL 320.6575 439.797016 \r\nL 326.2375 439.797016 \r\nL 326.2375 441.059018 \r\n\" style=\"fill:none;stroke:#ff7f0e;stroke-width:1.5;\"/>\r\n    <path clip-path=\"url(#pd8a31b40e0)\" d=\"M 315.0775 440.636114 \r\nL 315.0775 438.494431 \r\nL 323.4475 438.494431 \r\nL 323.4475 439.797016 \r\n\" style=\"fill:none;stroke:#ff7f0e;stroke-width:1.5;\"/>\r\n    <path clip-path=\"url(#pd8a31b40e0)\" d=\"M 333.2125 442.08 \r\nL 333.2125 440.636114 \r\nL 336.0025 440.636114 \r\nL 336.0025 442.08 \r\n\" style=\"fill:none;stroke:#ff7f0e;stroke-width:1.5;\"/>\r\n    <path clip-path=\"url(#pd8a31b40e0)\" d=\"M 330.4225 442.08 \r\nL 330.4225 440.215951 \r\nL 334.6075 440.215951 \r\nL 334.6075 440.636114 \r\n\" style=\"fill:none;stroke:#ff7f0e;stroke-width:1.5;\"/>\r\n    <path clip-path=\"url(#pd8a31b40e0)\" d=\"M 338.7925 442.08 \r\nL 338.7925 439.017055 \r\nL 341.5825 439.017055 \r\nL 341.5825 442.08 \r\n\" style=\"fill:none;stroke:#ff7f0e;stroke-width:1.5;\"/>\r\n    <path clip-path=\"url(#pd8a31b40e0)\" d=\"M 332.515 440.215951 \r\nL 332.515 436.988723 \r\nL 340.1875 436.988723 \r\nL 340.1875 439.017055 \r\n\" style=\"fill:none;stroke:#ff7f0e;stroke-width:1.5;\"/>\r\n    <path clip-path=\"url(#pd8a31b40e0)\" d=\"M 319.2625 438.494431 \r\nL 319.2625 431.074503 \r\nL 336.35125 431.074503 \r\nL 336.35125 436.988723 \r\n\" style=\"fill:none;stroke:#ff7f0e;stroke-width:1.5;\"/>\r\n    <path clip-path=\"url(#pd8a31b40e0)\" d=\"M 290.229063 432.236531 \r\nL 290.229063 417.132361 \r\nL 327.806875 417.132361 \r\nL 327.806875 431.074503 \r\n\" style=\"fill:none;stroke:#ff7f0e;stroke-width:1.5;\"/>\r\n    <path clip-path=\"url(#pd8a31b40e0)\" d=\"M 347.1625 442.08 \r\nL 347.1625 441.059018 \r\nL 349.9525 441.059018 \r\nL 349.9525 442.08 \r\n\" style=\"fill:none;stroke:#ff7f0e;stroke-width:1.5;\"/>\r\n    <path clip-path=\"url(#pd8a31b40e0)\" d=\"M 344.3725 442.08 \r\nL 344.3725 439.13268 \r\nL 348.5575 439.13268 \r\nL 348.5575 441.059018 \r\n\" style=\"fill:none;stroke:#ff7f0e;stroke-width:1.5;\"/>\r\n    <path clip-path=\"url(#pd8a31b40e0)\" d=\"M 355.5325 442.08 \r\nL 355.5325 441.059018 \r\nL 358.3225 441.059018 \r\nL 358.3225 442.08 \r\n\" style=\"fill:none;stroke:#ff7f0e;stroke-width:1.5;\"/>\r\n    <path clip-path=\"url(#pd8a31b40e0)\" d=\"M 352.7425 442.08 \r\nL 352.7425 439.954657 \r\nL 356.9275 439.954657 \r\nL 356.9275 441.059018 \r\n\" style=\"fill:none;stroke:#ff7f0e;stroke-width:1.5;\"/>\r\n    <path clip-path=\"url(#pd8a31b40e0)\" d=\"M 361.1125 442.08 \r\nL 361.1125 439.017055 \r\nL 363.9025 439.017055 \r\nL 363.9025 442.08 \r\n\" style=\"fill:none;stroke:#ff7f0e;stroke-width:1.5;\"/>\r\n    <path clip-path=\"url(#pd8a31b40e0)\" d=\"M 354.835 439.954657 \r\nL 354.835 435.489592 \r\nL 362.5075 435.489592 \r\nL 362.5075 439.017055 \r\n\" style=\"fill:none;stroke:#ff7f0e;stroke-width:1.5;\"/>\r\n    <path clip-path=\"url(#pd8a31b40e0)\" d=\"M 346.465 439.13268 \r\nL 346.465 432.425559 \r\nL 358.67125 432.425559 \r\nL 358.67125 435.489592 \r\n\" style=\"fill:none;stroke:#ff7f0e;stroke-width:1.5;\"/>\r\n    <path clip-path=\"url(#pd8a31b40e0)\" d=\"M 366.6925 442.08 \r\nL 366.6925 441.059018 \r\nL 369.4825 441.059018 \r\nL 369.4825 442.08 \r\n\" style=\"fill:none;stroke:#ff7f0e;stroke-width:1.5;\"/>\r\n    <path clip-path=\"url(#pd8a31b40e0)\" d=\"M 377.8525 442.08 \r\nL 377.8525 441.059018 \r\nL 380.6425 441.059018 \r\nL 380.6425 442.08 \r\n\" style=\"fill:none;stroke:#ff7f0e;stroke-width:1.5;\"/>\r\n    <path clip-path=\"url(#pd8a31b40e0)\" d=\"M 375.0625 442.08 \r\nL 375.0625 440.311608 \r\nL 379.2475 440.311608 \r\nL 379.2475 441.059018 \r\n\" style=\"fill:none;stroke:#ff7f0e;stroke-width:1.5;\"/>\r\n    <path clip-path=\"url(#pd8a31b40e0)\" d=\"M 372.2725 442.08 \r\nL 372.2725 438.328674 \r\nL 377.155 438.328674 \r\nL 377.155 440.311608 \r\n\" style=\"fill:none;stroke:#ff7f0e;stroke-width:1.5;\"/>\r\n    <path clip-path=\"url(#pd8a31b40e0)\" d=\"M 368.0875 441.059018 \r\nL 368.0875 436.661418 \r\nL 374.71375 436.661418 \r\nL 374.71375 438.328674 \r\n\" style=\"fill:none;stroke:#ff7f0e;stroke-width:1.5;\"/>\r\n    <path clip-path=\"url(#pd8a31b40e0)\" d=\"M 383.4325 442.08 \r\nL 383.4325 440.038037 \r\nL 386.2225 440.038037 \r\nL 386.2225 442.08 \r\n\" style=\"fill:none;stroke:#ff7f0e;stroke-width:1.5;\"/>\r\n    <path clip-path=\"url(#pd8a31b40e0)\" d=\"M 389.0125 442.08 \r\nL 389.0125 439.797016 \r\nL 391.8025 439.797016 \r\nL 391.8025 442.08 \r\n\" style=\"fill:none;stroke:#ff7f0e;stroke-width:1.5;\"/>\r\n    <path clip-path=\"url(#pd8a31b40e0)\" d=\"M 384.8275 440.038037 \r\nL 384.8275 436.259509 \r\nL 390.4075 436.259509 \r\nL 390.4075 439.797016 \r\n\" style=\"fill:none;stroke:#ff7f0e;stroke-width:1.5;\"/>\r\n    <path clip-path=\"url(#pd8a31b40e0)\" d=\"M 371.400625 436.661418 \r\nL 371.400625 430.85694 \r\nL 387.6175 430.85694 \r\nL 387.6175 436.259509 \r\n\" style=\"fill:none;stroke:#ff7f0e;stroke-width:1.5;\"/>\r\n    <path clip-path=\"url(#pd8a31b40e0)\" d=\"M 352.568125 432.425559 \r\nL 352.568125 413.7975 \r\nL 379.509063 413.7975 \r\nL 379.509063 430.85694 \r\n\" style=\"fill:none;stroke:#ff7f0e;stroke-width:1.5;\"/>\r\n    <path clip-path=\"url(#pd8a31b40e0)\" d=\"M 309.017969 417.132361 \r\nL 309.017969 392.866357 \r\nL 366.038594 392.866357 \r\nL 366.038594 413.7975 \r\n\" style=\"fill:none;stroke:#ff7f0e;stroke-width:1.5;\"/>\r\n    <path clip-path=\"url(#pd8a31b40e0)\" d=\"M 264.16 428.50952 \r\nL 264.16 376.188498 \r\nL 337.528281 376.188498 \r\nL 337.528281 392.866357 \r\n\" style=\"fill:none;stroke:#ff7f0e;stroke-width:1.5;\"/>\r\n    <path clip-path=\"url(#pd8a31b40e0)\" d=\"M 194.518984 392.291063 \r\nL 194.518984 333.191724 \r\nL 300.844141 333.191724 \r\nL 300.844141 376.188498 \r\n\" style=\"fill:none;stroke:#ff7f0e;stroke-width:1.5;\"/>\r\n    <path clip-path=\"url(#pd8a31b40e0)\" d=\"M 122.611094 359.19737 \r\nL 122.611094 191.271178 \r\nL 247.681563 191.271178 \r\nL 247.681563 333.191724 \r\n\" style=\"fill:none;stroke:#ff7f0e;stroke-width:1.5;\"/>\r\n    <path clip-path=\"url(#pd8a31b40e0)\" d=\"M 62.255547 385.628852 \r\nL 62.255547 174.008388 \r\nL 185.146328 174.008388 \r\nL 185.146328 191.271178 \r\n\" style=\"fill:none;stroke:#ff7f0e;stroke-width:1.5;\"/>\r\n   </g>\r\n   <g id=\"LineCollection_2\">\r\n    <path clip-path=\"url(#pd8a31b40e0)\" d=\"M 397.3825 442.08 \r\nL 397.3825 434.105879 \r\nL 400.1725 434.105879 \r\nL 400.1725 442.08 \r\n\" style=\"fill:none;stroke:#2ca02c;stroke-width:1.5;\"/>\r\n    <path clip-path=\"url(#pd8a31b40e0)\" d=\"M 394.5925 442.08 \r\nL 394.5925 423.882835 \r\nL 398.7775 423.882835 \r\nL 398.7775 434.105879 \r\n\" style=\"fill:none;stroke:#2ca02c;stroke-width:1.5;\"/>\r\n    <path clip-path=\"url(#pd8a31b40e0)\" d=\"M 414.1225 442.08 \r\nL 414.1225 439.797016 \r\nL 416.9125 439.797016 \r\nL 416.9125 442.08 \r\n\" style=\"fill:none;stroke:#2ca02c;stroke-width:1.5;\"/>\r\n    <path clip-path=\"url(#pd8a31b40e0)\" d=\"M 411.3325 442.08 \r\nL 411.3325 435.703972 \r\nL 415.5175 435.703972 \r\nL 415.5175 439.797016 \r\n\" style=\"fill:none;stroke:#2ca02c;stroke-width:1.5;\"/>\r\n    <path clip-path=\"url(#pd8a31b40e0)\" d=\"M 408.5425 442.08 \r\nL 408.5425 432.556918 \r\nL 413.425 432.556918 \r\nL 413.425 435.703972 \r\n\" style=\"fill:none;stroke:#2ca02c;stroke-width:1.5;\"/>\r\n    <path clip-path=\"url(#pd8a31b40e0)\" d=\"M 405.7525 442.08 \r\nL 405.7525 429.385294 \r\nL 410.98375 429.385294 \r\nL 410.98375 432.556918 \r\n\" style=\"fill:none;stroke:#2ca02c;stroke-width:1.5;\"/>\r\n    <path clip-path=\"url(#pd8a31b40e0)\" d=\"M 402.9625 442.08 \r\nL 402.9625 422.166933 \r\nL 408.368125 422.166933 \r\nL 408.368125 429.385294 \r\n\" style=\"fill:none;stroke:#2ca02c;stroke-width:1.5;\"/>\r\n    <path clip-path=\"url(#pd8a31b40e0)\" d=\"M 396.685 423.882835 \r\nL 396.685 382.358638 \r\nL 405.665313 382.358638 \r\nL 405.665313 422.166933 \r\n\" style=\"fill:none;stroke:#2ca02c;stroke-width:1.5;\"/>\r\n    <path clip-path=\"url(#pd8a31b40e0)\" d=\"M 422.4925 442.08 \r\nL 422.4925 438.851373 \r\nL 425.2825 438.851373 \r\nL 425.2825 442.08 \r\n\" style=\"fill:none;stroke:#2ca02c;stroke-width:1.5;\"/>\r\n    <path clip-path=\"url(#pd8a31b40e0)\" d=\"M 419.7025 442.08 \r\nL 419.7025 433.062935 \r\nL 423.8875 433.062935 \r\nL 423.8875 438.851373 \r\n\" style=\"fill:none;stroke:#2ca02c;stroke-width:1.5;\"/>\r\n    <path clip-path=\"url(#pd8a31b40e0)\" d=\"M 433.6525 442.08 \r\nL 433.6525 441.059018 \r\nL 436.4425 441.059018 \r\nL 436.4425 442.08 \r\n\" style=\"fill:none;stroke:#2ca02c;stroke-width:1.5;\"/>\r\n    <path clip-path=\"url(#pd8a31b40e0)\" d=\"M 430.8625 442.08 \r\nL 430.8625 440.311608 \r\nL 435.0475 440.311608 \r\nL 435.0475 441.059018 \r\n\" style=\"fill:none;stroke:#2ca02c;stroke-width:1.5;\"/>\r\n    <path clip-path=\"url(#pd8a31b40e0)\" d=\"M 439.2325 442.08 \r\nL 439.2325 438.851373 \r\nL 442.0225 438.851373 \r\nL 442.0225 442.08 \r\n\" style=\"fill:none;stroke:#2ca02c;stroke-width:1.5;\"/>\r\n    <path clip-path=\"url(#pd8a31b40e0)\" d=\"M 432.955 440.311608 \r\nL 432.955 436.057074 \r\nL 440.6275 436.057074 \r\nL 440.6275 438.851373 \r\n\" style=\"fill:none;stroke:#2ca02c;stroke-width:1.5;\"/>\r\n    <path clip-path=\"url(#pd8a31b40e0)\" d=\"M 428.0725 442.08 \r\nL 428.0725 434.291041 \r\nL 436.79125 434.291041 \r\nL 436.79125 436.057074 \r\n\" style=\"fill:none;stroke:#2ca02c;stroke-width:1.5;\"/>\r\n    <path clip-path=\"url(#pd8a31b40e0)\" d=\"M 444.8125 442.08 \r\nL 444.8125 437.514032 \r\nL 447.6025 437.514032 \r\nL 447.6025 442.08 \r\n\" style=\"fill:none;stroke:#2ca02c;stroke-width:1.5;\"/>\r\n    <path clip-path=\"url(#pd8a31b40e0)\" d=\"M 453.1825 442.08 \r\nL 453.1825 437.514032 \r\nL 455.9725 437.514032 \r\nL 455.9725 442.08 \r\n\" style=\"fill:none;stroke:#2ca02c;stroke-width:1.5;\"/>\r\n    <path clip-path=\"url(#pd8a31b40e0)\" d=\"M 450.3925 442.08 \r\nL 450.3925 435.731279 \r\nL 454.5775 435.731279 \r\nL 454.5775 437.514032 \r\n\" style=\"fill:none;stroke:#2ca02c;stroke-width:1.5;\"/>\r\n    <path clip-path=\"url(#pd8a31b40e0)\" d=\"M 446.2075 437.514032 \r\nL 446.2075 429.771631 \r\nL 452.485 429.771631 \r\nL 452.485 435.731279 \r\n\" style=\"fill:none;stroke:#2ca02c;stroke-width:1.5;\"/>\r\n    <path clip-path=\"url(#pd8a31b40e0)\" d=\"M 432.431875 434.291041 \r\nL 432.431875 426.004513 \r\nL 449.34625 426.004513 \r\nL 449.34625 429.771631 \r\n\" style=\"fill:none;stroke:#2ca02c;stroke-width:1.5;\"/>\r\n    <path clip-path=\"url(#pd8a31b40e0)\" d=\"M 421.795 433.062935 \r\nL 421.795 417.453273 \r\nL 440.889063 417.453273 \r\nL 440.889063 426.004513 \r\n\" style=\"fill:none;stroke:#2ca02c;stroke-width:1.5;\"/>\r\n    <path clip-path=\"url(#pd8a31b40e0)\" d=\"M 458.7625 442.08 \r\nL 458.7625 440.636114 \r\nL 461.5525 440.636114 \r\nL 461.5525 442.08 \r\n\" style=\"fill:none;stroke:#2ca02c;stroke-width:1.5;\"/>\r\n    <path clip-path=\"url(#pd8a31b40e0)\" d=\"M 464.3425 442.08 \r\nL 464.3425 440.038037 \r\nL 467.1325 440.038037 \r\nL 467.1325 442.08 \r\n\" style=\"fill:none;stroke:#2ca02c;stroke-width:1.5;\"/>\r\n    <path clip-path=\"url(#pd8a31b40e0)\" d=\"M 460.1575 440.636114 \r\nL 460.1575 436.975092 \r\nL 465.7375 436.975092 \r\nL 465.7375 440.038037 \r\n\" style=\"fill:none;stroke:#2ca02c;stroke-width:1.5;\"/>\r\n    <path clip-path=\"url(#pd8a31b40e0)\" d=\"M 472.7125 442.08 \r\nL 472.7125 440.636114 \r\nL 475.5025 440.636114 \r\nL 475.5025 442.08 \r\n\" style=\"fill:none;stroke:#2ca02c;stroke-width:1.5;\"/>\r\n    <path clip-path=\"url(#pd8a31b40e0)\" d=\"M 469.9225 442.08 \r\nL 469.9225 439.579116 \r\nL 474.1075 439.579116 \r\nL 474.1075 440.636114 \r\n\" style=\"fill:none;stroke:#2ca02c;stroke-width:1.5;\"/>\r\n    <path clip-path=\"url(#pd8a31b40e0)\" d=\"M 481.0825 442.08 \r\nL 481.0825 442.08 \r\nL 483.8725 442.08 \r\nL 483.8725 442.08 \r\n\" style=\"fill:none;stroke:#2ca02c;stroke-width:1.5;\"/>\r\n    <path clip-path=\"url(#pd8a31b40e0)\" d=\"M 478.2925 442.08 \r\nL 478.2925 439.443837 \r\nL 482.4775 439.443837 \r\nL 482.4775 442.08 \r\n\" style=\"fill:none;stroke:#2ca02c;stroke-width:1.5;\"/>\r\n    <path clip-path=\"url(#pd8a31b40e0)\" d=\"M 472.015 439.579116 \r\nL 472.015 434.39433 \r\nL 480.385 434.39433 \r\nL 480.385 439.443837 \r\n\" style=\"fill:none;stroke:#2ca02c;stroke-width:1.5;\"/>\r\n    <path clip-path=\"url(#pd8a31b40e0)\" d=\"M 462.9475 436.975092 \r\nL 462.9475 428.471167 \r\nL 476.2 428.471167 \r\nL 476.2 434.39433 \r\n\" style=\"fill:none;stroke:#2ca02c;stroke-width:1.5;\"/>\r\n    <path clip-path=\"url(#pd8a31b40e0)\" d=\"M 486.6625 442.08 \r\nL 486.6625 439.797016 \r\nL 489.4525 439.797016 \r\nL 489.4525 442.08 \r\n\" style=\"fill:none;stroke:#2ca02c;stroke-width:1.5;\"/>\r\n    <path clip-path=\"url(#pd8a31b40e0)\" d=\"M 492.2425 442.08 \r\nL 492.2425 440.038037 \r\nL 495.0325 440.038037 \r\nL 495.0325 442.08 \r\n\" style=\"fill:none;stroke:#2ca02c;stroke-width:1.5;\"/>\r\n    <path clip-path=\"url(#pd8a31b40e0)\" d=\"M 497.8225 442.08 \r\nL 497.8225 435.869612 \r\nL 500.6125 435.869612 \r\nL 500.6125 442.08 \r\n\" style=\"fill:none;stroke:#2ca02c;stroke-width:1.5;\"/>\r\n    <path clip-path=\"url(#pd8a31b40e0)\" d=\"M 493.6375 440.038037 \r\nL 493.6375 428.905777 \r\nL 499.2175 428.905777 \r\nL 499.2175 435.869612 \r\n\" style=\"fill:none;stroke:#2ca02c;stroke-width:1.5;\"/>\r\n    <path clip-path=\"url(#pd8a31b40e0)\" d=\"M 488.0575 439.797016 \r\nL 488.0575 416.436623 \r\nL 496.4275 416.436623 \r\nL 496.4275 428.905777 \r\n\" style=\"fill:none;stroke:#2ca02c;stroke-width:1.5;\"/>\r\n    <path clip-path=\"url(#pd8a31b40e0)\" d=\"M 469.57375 428.471167 \r\nL 469.57375 391.149322 \r\nL 492.2425 391.149322 \r\nL 492.2425 416.436623 \r\n\" style=\"fill:none;stroke:#2ca02c;stroke-width:1.5;\"/>\r\n    <path clip-path=\"url(#pd8a31b40e0)\" d=\"M 431.342031 417.453273 \r\nL 431.342031 371.09814 \r\nL 480.908125 371.09814 \r\nL 480.908125 391.149322 \r\n\" style=\"fill:none;stroke:#2ca02c;stroke-width:1.5;\"/>\r\n    <path clip-path=\"url(#pd8a31b40e0)\" d=\"M 401.175156 382.358638 \r\nL 401.175156 326.894693 \r\nL 456.125078 326.894693 \r\nL 456.125078 371.09814 \r\n\" style=\"fill:none;stroke:#2ca02c;stroke-width:1.5;\"/>\r\n   </g>\r\n   <g id=\"LineCollection_3\">\r\n    <path clip-path=\"url(#pd8a31b40e0)\" d=\"M 506.1925 442.08 \r\nL 506.1925 442.08 \r\nL 508.9825 442.08 \r\nL 508.9825 442.08 \r\n\" style=\"fill:none;stroke:#d62728;stroke-width:1.5;\"/>\r\n    <path clip-path=\"url(#pd8a31b40e0)\" d=\"M 503.4025 442.08 \r\nL 503.4025 436.18536 \r\nL 507.5875 436.18536 \r\nL 507.5875 442.08 \r\n\" style=\"fill:none;stroke:#d62728;stroke-width:1.5;\"/>\r\n    <path clip-path=\"url(#pd8a31b40e0)\" d=\"M 514.5625 442.08 \r\nL 514.5625 440.038037 \r\nL 517.3525 440.038037 \r\nL 517.3525 442.08 \r\n\" style=\"fill:none;stroke:#d62728;stroke-width:1.5;\"/>\r\n    <path clip-path=\"url(#pd8a31b40e0)\" d=\"M 511.7725 442.08 \r\nL 511.7725 439.443837 \r\nL 515.9575 439.443837 \r\nL 515.9575 440.038037 \r\n\" style=\"fill:none;stroke:#d62728;stroke-width:1.5;\"/>\r\n    <path clip-path=\"url(#pd8a31b40e0)\" d=\"M 522.9325 442.08 \r\nL 522.9325 440.038037 \r\nL 525.7225 440.038037 \r\nL 525.7225 442.08 \r\n\" style=\"fill:none;stroke:#d62728;stroke-width:1.5;\"/>\r\n    <path clip-path=\"url(#pd8a31b40e0)\" d=\"M 520.1425 442.08 \r\nL 520.1425 438.543216 \r\nL 524.3275 438.543216 \r\nL 524.3275 440.038037 \r\n\" style=\"fill:none;stroke:#d62728;stroke-width:1.5;\"/>\r\n    <path clip-path=\"url(#pd8a31b40e0)\" d=\"M 513.865 439.443837 \r\nL 513.865 433.869717 \r\nL 522.235 433.869717 \r\nL 522.235 438.543216 \r\n\" style=\"fill:none;stroke:#d62728;stroke-width:1.5;\"/>\r\n    <path clip-path=\"url(#pd8a31b40e0)\" d=\"M 505.495 436.18536 \r\nL 505.495 425.207183 \r\nL 518.05 425.207183 \r\nL 518.05 433.869717 \r\n\" style=\"fill:none;stroke:#d62728;stroke-width:1.5;\"/>\r\n    <path clip-path=\"url(#pd8a31b40e0)\" d=\"M 534.0925 442.08 \r\nL 534.0925 441.059018 \r\nL 536.8825 441.059018 \r\nL 536.8825 442.08 \r\n\" style=\"fill:none;stroke:#d62728;stroke-width:1.5;\"/>\r\n    <path clip-path=\"url(#pd8a31b40e0)\" d=\"M 531.3025 442.08 \r\nL 531.3025 439.649578 \r\nL 535.4875 439.649578 \r\nL 535.4875 441.059018 \r\n\" style=\"fill:none;stroke:#d62728;stroke-width:1.5;\"/>\r\n    <path clip-path=\"url(#pd8a31b40e0)\" d=\"M 528.5125 442.08 \r\nL 528.5125 437.419878 \r\nL 533.395 437.419878 \r\nL 533.395 439.649578 \r\n\" style=\"fill:none;stroke:#d62728;stroke-width:1.5;\"/>\r\n    <path clip-path=\"url(#pd8a31b40e0)\" d=\"M 539.6725 442.08 \r\nL 539.6725 436.873995 \r\nL 542.4625 436.873995 \r\nL 542.4625 442.08 \r\n\" style=\"fill:none;stroke:#d62728;stroke-width:1.5;\"/>\r\n    <path clip-path=\"url(#pd8a31b40e0)\" d=\"M 530.95375 437.419878 \r\nL 530.95375 428.426558 \r\nL 541.0675 428.426558 \r\nL 541.0675 436.873995 \r\n\" style=\"fill:none;stroke:#d62728;stroke-width:1.5;\"/>\r\n    <path clip-path=\"url(#pd8a31b40e0)\" d=\"M 548.0425 442.08 \r\nL 548.0425 439.797016 \r\nL 550.8325 439.797016 \r\nL 550.8325 442.08 \r\n\" style=\"fill:none;stroke:#d62728;stroke-width:1.5;\"/>\r\n    <path clip-path=\"url(#pd8a31b40e0)\" d=\"M 545.2525 442.08 \r\nL 545.2525 434.416968 \r\nL 549.4375 434.416968 \r\nL 549.4375 439.797016 \r\n\" style=\"fill:none;stroke:#d62728;stroke-width:1.5;\"/>\r\n    <path clip-path=\"url(#pd8a31b40e0)\" d=\"M 553.6225 442.08 \r\nL 553.6225 440.038037 \r\nL 556.4125 440.038037 \r\nL 556.4125 442.08 \r\n\" style=\"fill:none;stroke:#d62728;stroke-width:1.5;\"/>\r\n    <path clip-path=\"url(#pd8a31b40e0)\" d=\"M 561.9925 442.08 \r\nL 561.9925 441.059018 \r\nL 564.7825 441.059018 \r\nL 564.7825 442.08 \r\n\" style=\"fill:none;stroke:#d62728;stroke-width:1.5;\"/>\r\n    <path clip-path=\"url(#pd8a31b40e0)\" d=\"M 559.2025 442.08 \r\nL 559.2025 436.645411 \r\nL 563.3875 436.645411 \r\nL 563.3875 441.059018 \r\n\" style=\"fill:none;stroke:#d62728;stroke-width:1.5;\"/>\r\n    <path clip-path=\"url(#pd8a31b40e0)\" d=\"M 555.0175 440.038037 \r\nL 555.0175 432.575179 \r\nL 561.295 432.575179 \r\nL 561.295 436.645411 \r\n\" style=\"fill:none;stroke:#d62728;stroke-width:1.5;\"/>\r\n    <path clip-path=\"url(#pd8a31b40e0)\" d=\"M 547.345 434.416968 \r\nL 547.345 420.849065 \r\nL 558.15625 420.849065 \r\nL 558.15625 432.575179 \r\n\" style=\"fill:none;stroke:#d62728;stroke-width:1.5;\"/>\r\n    <path clip-path=\"url(#pd8a31b40e0)\" d=\"M 536.010625 428.426558 \r\nL 536.010625 411.5055 \r\nL 552.750625 411.5055 \r\nL 552.750625 420.849065 \r\n\" style=\"fill:none;stroke:#d62728;stroke-width:1.5;\"/>\r\n    <path clip-path=\"url(#pd8a31b40e0)\" d=\"M 511.7725 425.207183 \r\nL 511.7725 391.55323 \r\nL 544.380625 391.55323 \r\nL 544.380625 411.5055 \r\n\" style=\"fill:none;stroke:#d62728;stroke-width:1.5;\"/>\r\n    <path clip-path=\"url(#pd8a31b40e0)\" d=\"M 567.5725 442.08 \r\nL 567.5725 434.647142 \r\nL 570.3625 434.647142 \r\nL 570.3625 442.08 \r\n\" style=\"fill:none;stroke:#d62728;stroke-width:1.5;\"/>\r\n    <path clip-path=\"url(#pd8a31b40e0)\" d=\"M 575.9425 442.08 \r\nL 575.9425 439.797016 \r\nL 578.7325 439.797016 \r\nL 578.7325 442.08 \r\n\" style=\"fill:none;stroke:#d62728;stroke-width:1.5;\"/>\r\n    <path clip-path=\"url(#pd8a31b40e0)\" d=\"M 573.1525 442.08 \r\nL 573.1525 434.326812 \r\nL 577.3375 434.326812 \r\nL 577.3375 439.797016 \r\n\" style=\"fill:none;stroke:#d62728;stroke-width:1.5;\"/>\r\n    <path clip-path=\"url(#pd8a31b40e0)\" d=\"M 568.9675 434.647142 \r\nL 568.9675 418.647787 \r\nL 575.245 418.647787 \r\nL 575.245 434.326812 \r\n\" style=\"fill:none;stroke:#d62728;stroke-width:1.5;\"/>\r\n    <path clip-path=\"url(#pd8a31b40e0)\" d=\"M 581.5225 442.08 \r\nL 581.5225 431.226817 \r\nL 584.3125 431.226817 \r\nL 584.3125 442.08 \r\n\" style=\"fill:none;stroke:#d62728;stroke-width:1.5;\"/>\r\n    <path clip-path=\"url(#pd8a31b40e0)\" d=\"M 587.1025 442.08 \r\nL 587.1025 426.902018 \r\nL 589.8925 426.902018 \r\nL 589.8925 442.08 \r\n\" style=\"fill:none;stroke:#d62728;stroke-width:1.5;\"/>\r\n    <path clip-path=\"url(#pd8a31b40e0)\" d=\"M 582.9175 431.226817 \r\nL 582.9175 415.222168 \r\nL 588.4975 415.222168 \r\nL 588.4975 426.902018 \r\n\" style=\"fill:none;stroke:#d62728;stroke-width:1.5;\"/>\r\n    <path clip-path=\"url(#pd8a31b40e0)\" d=\"M 572.10625 418.647787 \r\nL 572.10625 387.720894 \r\nL 585.7075 387.720894 \r\nL 585.7075 415.222168 \r\n\" style=\"fill:none;stroke:#d62728;stroke-width:1.5;\"/>\r\n    <path clip-path=\"url(#pd8a31b40e0)\" d=\"M 528.076563 391.55323 \r\nL 528.076563 325.804475 \r\nL 578.906875 325.804475 \r\nL 578.906875 387.720894 \r\n\" style=\"fill:none;stroke:#d62728;stroke-width:1.5;\"/>\r\n   </g>\r\n   <g id=\"LineCollection_4\">\r\n    <path clip-path=\"url(#pd8a31b40e0)\" d=\"M 428.650117 326.894693 \r\nL 428.650117 38.935564 \r\nL 553.491719 38.935564 \r\nL 553.491719 325.804475 \r\n\" style=\"fill:none;stroke:#1f77b4;stroke-width:1.5;\"/>\r\n    <path clip-path=\"url(#pd8a31b40e0)\" d=\"M 123.700938 174.008388 \r\nL 123.700938 27.908571 \r\nL 491.070918 27.908571 \r\nL 491.070918 38.935564 \r\n\" style=\"fill:none;stroke:#1f77b4;stroke-width:1.5;\"/>\r\n   </g>\r\n   <g id=\"patch_3\">\r\n    <path d=\"M 33.2875 442.08 \r\nL 33.2875 7.2 \r\n\" style=\"fill:none;stroke:#000000;stroke-linecap:square;stroke-linejoin:miter;stroke-width:0.8;\"/>\r\n   </g>\r\n   <g id=\"patch_4\">\r\n    <path d=\"M 591.2875 442.08 \r\nL 591.2875 7.2 \r\n\" style=\"fill:none;stroke:#000000;stroke-linecap:square;stroke-linejoin:miter;stroke-width:0.8;\"/>\r\n   </g>\r\n   <g id=\"patch_5\">\r\n    <path d=\"M 33.2875 442.08 \r\nL 591.2875 442.08 \r\n\" style=\"fill:none;stroke:#000000;stroke-linecap:square;stroke-linejoin:miter;stroke-width:0.8;\"/>\r\n   </g>\r\n   <g id=\"patch_6\">\r\n    <path d=\"M 33.2875 7.2 \r\nL 591.2875 7.2 \r\n\" style=\"fill:none;stroke:#000000;stroke-linecap:square;stroke-linejoin:miter;stroke-width:0.8;\"/>\r\n   </g>\r\n  </g>\r\n </g>\r\n <defs>\r\n  <clipPath id=\"pd8a31b40e0\">\r\n   <rect height=\"434.88\" width=\"558\" x=\"33.2875\" y=\"7.2\"/>\r\n  </clipPath>\r\n </defs>\r\n</svg>\r\n",
      "image/png": "[encoded data removed]"
     },
     "metadata": {
      "needs_background": "light"
     }
    }
   ],
   "source": [
    "plt.figure(figsize=(10,8))\n",
    "dendogram = sch.dendrogram(sch.linkage(X, method='ward'))\n",
    "plt.grid(True)\n",
    "plt.show()"
   ]
  },
  {
   "cell_type": "code",
   "execution_count": 10,
   "metadata": {},
   "outputs": [],
   "source": [
    "# total number of cluster 5\n",
    "# algo creation with this value in mind\n",
    "from sklearn.cluster import AgglomerativeClustering"
   ]
  },
  {
   "cell_type": "code",
   "execution_count": 11,
   "metadata": {},
   "outputs": [],
   "source": [
    "model = AgglomerativeClustering(n_clusters=5)\n",
    "y_pred = model.fit_predict(X)"
   ]
  },
  {
   "cell_type": "code",
   "execution_count": 13,
   "metadata": {},
   "outputs": [],
   "source": [
    "df['category'] = y_pred"
   ]
  },
  {
   "cell_type": "code",
   "execution_count": 15,
   "metadata": {},
   "outputs": [],
   "source": [
    "import plotly.express as px"
   ]
  },
  {
   "cell_type": "code",
   "execution_count": 17,
   "metadata": {},
   "outputs": [
    {
     "output_type": "display_data",
     "data": {
      "application/vnd.plotly.v1+json": {
       "config": {
        "plotlyServerURL": "https://plot.ly"
       },
       "data": [
        {
         "hovertemplate": "Annual Income (k$)=%{x}<br>Spending Score (1-100)=%{y}<br>category=%{marker.color}<extra></extra>",
         "legendgroup": "",
         "marker": {
          "color": [
           4,
           3,
           4,
           3,
           4,
           3,
           4,
           3,
           4,
           3,
           4,
           3,
           4,
           3,
           4,
           3,
           4,
           3,
           4,
           3,
           4,
           3,
           4,
           3,
           4,
           3,
           4,
           3,
           4,
           3,
           4,
           3,
           4,
           3,
           4,
           3,
           4,
           3,
           4,
           3,
           4,
           3,
           4,
           1,
           4,
           1,
           1,
           1,
           1,
           1,
           1,
           1,
           1,
           1,
           1,
           1,
           1,
           1,
           1,
           1,
           1,
           1,
           1,
           1,
           1,
           1,
           1,
           1,
           1,
           1,
           1,
           1,
           1,
           1,
           1,
           1,
           1,
           1,
           1,
           1,
           1,
           1,
           1,
           1,
           1,
           1,
           1,
           1,
           1,
           1,
           1,
           1,
           1,
           1,
           1,
           1,
           1,
           1,
           1,
           1,
           1,
           1,
           1,
           1,
           1,
           1,
           1,
           1,
           1,
           1,
           1,
           1,
           1,
           1,
           1,
           1,
           1,
           1,
           1,
           1,
           1,
           1,
           1,
           2,
           1,
           2,
           1,
           2,
           0,
           2,
           0,
           2,
           1,
           2,
           0,
           2,
           0,
           2,
           0,
           2,
           0,
           2,
           1,
           2,
           0,
           2,
           1,
           2,
           0,
           2,
           0,
           2,
           0,
           2,
           0,
           2,
           0,
           2,
           0,
           2,
           1,
           2,
           0,
           2,
           0,
           2,
           0,
           2,
           0,
           2,
           0,
           2,
           0,
           2,
           0,
           2,
           0,
           2,
           0,
           2,
           0,
           2,
           0,
           2,
           0,
           2,
           0,
           2,
           0,
           2,
           0,
           2,
           0,
           2,
           0,
           2,
           0,
           2,
           0,
           2
          ],
          "coloraxis": "coloraxis",
          "symbol": "circle"
         },
         "mode": "markers",
         "name": "",
         "orientation": "v",
         "showlegend": false,
         "type": "scatter",
         "x": [
          15,
          15,
          16,
          16,
          17,
          17,
          18,
          18,
          19,
          19,
          19,
          19,
          20,
          20,
          20,
          20,
          21,
          21,
          23,
          23,
          24,
          24,
          25,
          25,
          28,
          28,
          28,
          28,
          29,
          29,
          30,
          30,
          33,
          33,
          33,
          33,
          34,
          34,
          37,
          37,
          38,
          38,
          39,
          39,
          39,
          39,
          40,
          40,
          40,
          40,
          42,
          42,
          43,
          43,
          43,
          43,
          44,
          44,
          46,
          46,
          46,
          46,
          47,
          47,
          48,
          48,
          48,
          48,
          48,
          48,
          49,
          49,
          50,
          50,
          54,
          54,
          54,
          54,
          54,
          54,
          54,
          54,
          54,
          54,
          54,
          54,
          57,
          57,
          58,
          58,
          59,
          59,
          60,
          60,
          60,
          60,
          60,
          60,
          61,
          61,
          62,
          62,
          62,
          62,
          62,
          62,
          63,
          63,
          63,
          63,
          63,
          63,
          64,
          64,
          65,
          65,
          65,
          65,
          67,
          67,
          67,
          67,
          69,
          69,
          70,
          70,
          71,
          71,
          71,
          71,
          71,
          71,
          72,
          72,
          73,
          73,
          73,
          73,
          74,
          74,
          75,
          75,
          76,
          76,
          77,
          77,
          77,
          77,
          78,
          78,
          78,
          78,
          78,
          78,
          78,
          78,
          78,
          78,
          78,
          78,
          79,
          79,
          81,
          81,
          85,
          85,
          86,
          86,
          87,
          87,
          87,
          87,
          87,
          87,
          88,
          88,
          88,
          88,
          93,
          93,
          97,
          97,
          98,
          98,
          99,
          99,
          101,
          101,
          103,
          103,
          103,
          103,
          113,
          113,
          120,
          120,
          126,
          126,
          137,
          137
         ],
         "xaxis": "x",
         "y": [
          39,
          81,
          6,
          77,
          40,
          76,
          6,
          94,
          3,
          72,
          14,
          99,
          15,
          77,
          13,
          79,
          35,
          66,
          29,
          98,
          35,
          73,
          5,
          73,
          14,
          82,
          32,
          61,
          31,
          87,
          4,
          73,
          4,
          92,
          14,
          81,
          17,
          73,
          26,
          75,
          35,
          92,
          36,
          61,
          28,
          65,
          55,
          47,
          42,
          42,
          52,
          60,
          54,
          60,
          45,
          41,
          50,
          46,
          51,
          46,
          56,
          55,
          52,
          59,
          51,
          59,
          50,
          48,
          59,
          47,
          55,
          42,
          49,
          56,
          47,
          54,
          53,
          48,
          52,
          42,
          51,
          55,
          41,
          44,
          57,
          46,
          58,
          55,
          60,
          46,
          55,
          41,
          49,
          40,
          42,
          52,
          47,
          50,
          42,
          49,
          41,
          48,
          59,
          55,
          56,
          42,
          50,
          46,
          43,
          48,
          52,
          54,
          42,
          46,
          48,
          50,
          43,
          59,
          43,
          57,
          56,
          40,
          58,
          91,
          29,
          77,
          35,
          95,
          11,
          75,
          9,
          75,
          34,
          71,
          5,
          88,
          7,
          73,
          10,
          72,
          5,
          93,
          40,
          87,
          12,
          97,
          36,
          74,
          22,
          90,
          17,
          88,
          20,
          76,
          16,
          89,
          1,
          78,
          1,
          73,
          35,
          83,
          5,
          93,
          26,
          75,
          20,
          95,
          27,
          63,
          13,
          75,
          10,
          92,
          13,
          86,
          15,
          69,
          14,
          90,
          32,
          86,
          15,
          88,
          39,
          97,
          24,
          68,
          17,
          85,
          23,
          69,
          8,
          91,
          16,
          79,
          28,
          74,
          18,
          83
         ],
         "yaxis": "y"
        }
       ],
       "layout": {
        "coloraxis": {
         "colorbar": {
          "title": {
           "text": "category"
          }
         },
         "colorscale": [
          [
           0,
           "#0d0887"
          ],
          [
           0.1111111111111111,
           "#46039f"
          ],
          [
           0.2222222222222222,
           "#7201a8"
          ],
          [
           0.3333333333333333,
           "#9c179e"
          ],
          [
           0.4444444444444444,
           "#bd3786"
          ],
          [
           0.5555555555555556,
           "#d8576b"
          ],
          [
           0.6666666666666666,
           "#ed7953"
          ],
          [
           0.7777777777777778,
           "#fb9f3a"
          ],
          [
           0.8888888888888888,
           "#fdca26"
          ],
          [
           1,
           "#f0f921"
          ]
         ]
        },
        "legend": {
         "tracegroupgap": 0
        },
        "margin": {
         "t": 60
        },
        "template": {
         "data": {
          "bar": [
           {
            "error_x": {
             "color": "#2a3f5f"
            },
            "error_y": {
             "color": "#2a3f5f"
            },
            "marker": {
             "line": {
              "color": "#E5ECF6",
              "width": 0.5
             }
            },
            "type": "bar"
           }
          ],
          "barpolar": [
           {
            "marker": {
             "line": {
              "color": "#E5ECF6",
              "width": 0.5
             }
            },
            "type": "barpolar"
           }
          ],
          "carpet": [
           {
            "aaxis": {
             "endlinecolor": "#2a3f5f",
             "gridcolor": "white",
             "linecolor": "white",
             "minorgridcolor": "white",
             "startlinecolor": "#2a3f5f"
            },
            "baxis": {
             "endlinecolor": "#2a3f5f",
             "gridcolor": "white",
             "linecolor": "white",
             "minorgridcolor": "white",
             "startlinecolor": "#2a3f5f"
            },
            "type": "carpet"
           }
          ],
          "choropleth": [
           {
            "colorbar": {
             "outlinewidth": 0,
             "ticks": ""
            },
            "type": "choropleth"
           }
          ],
          "contour": [
           {
            "colorbar": {
             "outlinewidth": 0,
             "ticks": ""
            },
            "colorscale": [
             [
              0,
              "#0d0887"
             ],
             [
              0.1111111111111111,
              "#46039f"
             ],
             [
              0.2222222222222222,
              "#7201a8"
             ],
             [
              0.3333333333333333,
              "#9c179e"
             ],
             [
              0.4444444444444444,
              "#bd3786"
             ],
             [
              0.5555555555555556,
              "#d8576b"
             ],
             [
              0.6666666666666666,
              "#ed7953"
             ],
             [
              0.7777777777777778,
              "#fb9f3a"
             ],
             [
              0.8888888888888888,
              "#fdca26"
             ],
             [
              1,
              "#f0f921"
             ]
            ],
            "type": "contour"
           }
          ],
          "contourcarpet": [
           {
            "colorbar": {
             "outlinewidth": 0,
             "ticks": ""
            },
            "type": "contourcarpet"
           }
          ],
          "heatmap": [
           {
            "colorbar": {
             "outlinewidth": 0,
             "ticks": ""
            },
            "colorscale": [
             [
              0,
              "#0d0887"
             ],
             [
              0.1111111111111111,
              "#46039f"
             ],
             [
              0.2222222222222222,
              "#7201a8"
             ],
             [
              0.3333333333333333,
              "#9c179e"
             ],
             [
              0.4444444444444444,
              "#bd3786"
             ],
             [
              0.5555555555555556,
              "#d8576b"
             ],
             [
              0.6666666666666666,
              "#ed7953"
             ],
             [
              0.7777777777777778,
              "#fb9f3a"
             ],
             [
              0.8888888888888888,
              "#fdca26"
             ],
             [
              1,
              "#f0f921"
             ]
            ],
            "type": "heatmap"
           }
          ],
          "heatmapgl": [
           {
            "colorbar": {
             "outlinewidth": 0,
             "ticks": ""
            },
            "colorscale": [
             [
              0,
              "#0d0887"
             ],
             [
              0.1111111111111111,
              "#46039f"
             ],
             [
              0.2222222222222222,
              "#7201a8"
             ],
             [
              0.3333333333333333,
              "#9c179e"
             ],
             [
              0.4444444444444444,
              "#bd3786"
             ],
             [
              0.5555555555555556,
              "#d8576b"
             ],
             [
              0.6666666666666666,
              "#ed7953"
             ],
             [
              0.7777777777777778,
              "#fb9f3a"
             ],
             [
              0.8888888888888888,
              "#fdca26"
             ],
             [
              1,
              "#f0f921"
             ]
            ],
            "type": "heatmapgl"
           }
          ],
          "histogram": [
           {
            "marker": {
             "colorbar": {
              "outlinewidth": 0,
              "ticks": ""
             }
            },
            "type": "histogram"
           }
          ],
          "histogram2d": [
           {
            "colorbar": {
             "outlinewidth": 0,
             "ticks": ""
            },
            "colorscale": [
             [
              0,
              "#0d0887"
             ],
             [
              0.1111111111111111,
              "#46039f"
             ],
             [
              0.2222222222222222,
              "#7201a8"
             ],
             [
              0.3333333333333333,
              "#9c179e"
             ],
             [
              0.4444444444444444,
              "#bd3786"
             ],
             [
              0.5555555555555556,
              "#d8576b"
             ],
             [
              0.6666666666666666,
              "#ed7953"
             ],
             [
              0.7777777777777778,
              "#fb9f3a"
             ],
             [
              0.8888888888888888,
              "#fdca26"
             ],
             [
              1,
              "#f0f921"
             ]
            ],
            "type": "histogram2d"
           }
          ],
          "histogram2dcontour": [
           {
            "colorbar": {
             "outlinewidth": 0,
             "ticks": ""
            },
            "colorscale": [
             [
              0,
              "#0d0887"
             ],
             [
              0.1111111111111111,
              "#46039f"
             ],
             [
              0.2222222222222222,
              "#7201a8"
             ],
             [
              0.3333333333333333,
              "#9c179e"
             ],
             [
              0.4444444444444444,
              "#bd3786"
             ],
             [
              0.5555555555555556,
              "#d8576b"
             ],
             [
              0.6666666666666666,
              "#ed7953"
             ],
             [
              0.7777777777777778,
              "#fb9f3a"
             ],
             [
              0.8888888888888888,
              "#fdca26"
             ],
             [
              1,
              "#f0f921"
             ]
            ],
            "type": "histogram2dcontour"
           }
          ],
          "mesh3d": [
           {
            "colorbar": {
             "outlinewidth": 0,
             "ticks": ""
            },
            "type": "mesh3d"
           }
          ],
          "parcoords": [
           {
            "line": {
             "colorbar": {
              "outlinewidth": 0,
              "ticks": ""
             }
            },
            "type": "parcoords"
           }
          ],
          "pie": [
           {
            "automargin": true,
            "type": "pie"
           }
          ],
          "scatter": [
           {
            "marker": {
             "colorbar": {
              "outlinewidth": 0,
              "ticks": ""
             }
            },
            "type": "scatter"
           }
          ],
          "scatter3d": [
           {
            "line": {
             "colorbar": {
              "outlinewidth": 0,
              "ticks": ""
             }
            },
            "marker": {
             "colorbar": {
              "outlinewidth": 0,
              "ticks": ""
             }
            },
            "type": "scatter3d"
           }
          ],
          "scattercarpet": [
           {
            "marker": {
             "colorbar": {
              "outlinewidth": 0,
              "ticks": ""
             }
            },
            "type": "scattercarpet"
           }
          ],
          "scattergeo": [
           {
            "marker": {
             "colorbar": {
              "outlinewidth": 0,
              "ticks": ""
             }
            },
            "type": "scattergeo"
           }
          ],
          "scattergl": [
           {
            "marker": {
             "colorbar": {
              "outlinewidth": 0,
              "ticks": ""
             }
            },
            "type": "scattergl"
           }
          ],
          "scattermapbox": [
           {
            "marker": {
             "colorbar": {
              "outlinewidth": 0,
              "ticks": ""
             }
            },
            "type": "scattermapbox"
           }
          ],
          "scatterpolar": [
           {
            "marker": {
             "colorbar": {
              "outlinewidth": 0,
              "ticks": ""
             }
            },
            "type": "scatterpolar"
           }
          ],
          "scatterpolargl": [
           {
            "marker": {
             "colorbar": {
              "outlinewidth": 0,
              "ticks": ""
             }
            },
            "type": "scatterpolargl"
           }
          ],
          "scatterternary": [
           {
            "marker": {
             "colorbar": {
              "outlinewidth": 0,
              "ticks": ""
             }
            },
            "type": "scatterternary"
           }
          ],
          "surface": [
           {
            "colorbar": {
             "outlinewidth": 0,
             "ticks": ""
            },
            "colorscale": [
             [
              0,
              "#0d0887"
             ],
             [
              0.1111111111111111,
              "#46039f"
             ],
             [
              0.2222222222222222,
              "#7201a8"
             ],
             [
              0.3333333333333333,
              "#9c179e"
             ],
             [
              0.4444444444444444,
              "#bd3786"
             ],
             [
              0.5555555555555556,
              "#d8576b"
             ],
             [
              0.6666666666666666,
              "#ed7953"
             ],
             [
              0.7777777777777778,
              "#fb9f3a"
             ],
             [
              0.8888888888888888,
              "#fdca26"
             ],
             [
              1,
              "#f0f921"
             ]
            ],
            "type": "surface"
           }
          ],
          "table": [
           {
            "cells": {
             "fill": {
              "color": "#EBF0F8"
             },
             "line": {
              "color": "white"
             }
            },
            "header": {
             "fill": {
              "color": "#C8D4E3"
             },
             "line": {
              "color": "white"
             }
            },
            "type": "table"
           }
          ]
         },
         "layout": {
          "annotationdefaults": {
           "arrowcolor": "#2a3f5f",
           "arrowhead": 0,
           "arrowwidth": 1
          },
          "coloraxis": {
           "colorbar": {
            "outlinewidth": 0,
            "ticks": ""
           }
          },
          "colorscale": {
           "diverging": [
            [
             0,
             "#8e0152"
            ],
            [
             0.1,
             "#c51b7d"
            ],
            [
             0.2,
             "#de77ae"
            ],
            [
             0.3,
             "#f1b6da"
            ],
            [
             0.4,
             "#fde0ef"
            ],
            [
             0.5,
             "#f7f7f7"
            ],
            [
             0.6,
             "#e6f5d0"
            ],
            [
             0.7,
             "#b8e186"
            ],
            [
             0.8,
             "#7fbc41"
            ],
            [
             0.9,
             "#4d9221"
            ],
            [
             1,
             "#276419"
            ]
           ],
           "sequential": [
            [
             0,
             "#0d0887"
            ],
            [
             0.1111111111111111,
             "#46039f"
            ],
            [
             0.2222222222222222,
             "#7201a8"
            ],
            [
             0.3333333333333333,
             "#9c179e"
            ],
            [
             0.4444444444444444,
             "#bd3786"
            ],
            [
             0.5555555555555556,
             "#d8576b"
            ],
            [
             0.6666666666666666,
             "#ed7953"
            ],
            [
             0.7777777777777778,
             "#fb9f3a"
            ],
            [
             0.8888888888888888,
             "#fdca26"
            ],
            [
             1,
             "#f0f921"
            ]
           ],
           "sequentialminus": [
            [
             0,
             "#0d0887"
            ],
            [
             0.1111111111111111,
             "#46039f"
            ],
            [
             0.2222222222222222,
             "#7201a8"
            ],
            [
             0.3333333333333333,
             "#9c179e"
            ],
            [
             0.4444444444444444,
             "#bd3786"
            ],
            [
             0.5555555555555556,
             "#d8576b"
            ],
            [
             0.6666666666666666,
             "#ed7953"
            ],
            [
             0.7777777777777778,
             "#fb9f3a"
            ],
            [
             0.8888888888888888,
             "#fdca26"
            ],
            [
             1,
             "#f0f921"
            ]
           ]
          },
          "colorway": [
           "#636efa",
           "#EF553B",
           "#00cc96",
           "#ab63fa",
           "#FFA15A",
           "#19d3f3",
           "#FF6692",
           "#B6E880",
           "#FF97FF",
           "#FECB52"
          ],
          "font": {
           "color": "#2a3f5f"
          },
          "geo": {
           "bgcolor": "white",
           "lakecolor": "white",
           "landcolor": "#E5ECF6",
           "showlakes": true,
           "showland": true,
           "subunitcolor": "white"
          },
          "hoverlabel": {
           "align": "left"
          },
          "hovermode": "closest",
          "mapbox": {
           "style": "light"
          },
          "paper_bgcolor": "white",
          "plot_bgcolor": "#E5ECF6",
          "polar": {
           "angularaxis": {
            "gridcolor": "white",
            "linecolor": "white",
            "ticks": ""
           },
           "bgcolor": "#E5ECF6",
           "radialaxis": {
            "gridcolor": "white",
            "linecolor": "white",
            "ticks": ""
           }
          },
          "scene": {
           "xaxis": {
            "backgroundcolor": "#E5ECF6",
            "gridcolor": "white",
            "gridwidth": 2,
            "linecolor": "white",
            "showbackground": true,
            "ticks": "",
            "zerolinecolor": "white"
           },
           "yaxis": {
            "backgroundcolor": "#E5ECF6",
            "gridcolor": "white",
            "gridwidth": 2,
            "linecolor": "white",
            "showbackground": true,
            "ticks": "",
            "zerolinecolor": "white"
           },
           "zaxis": {
            "backgroundcolor": "#E5ECF6",
            "gridcolor": "white",
            "gridwidth": 2,
            "linecolor": "white",
            "showbackground": true,
            "ticks": "",
            "zerolinecolor": "white"
           }
          },
          "shapedefaults": {
           "line": {
            "color": "#2a3f5f"
           }
          },
          "ternary": {
           "aaxis": {
            "gridcolor": "white",
            "linecolor": "white",
            "ticks": ""
           },
           "baxis": {
            "gridcolor": "white",
            "linecolor": "white",
            "ticks": ""
           },
           "bgcolor": "#E5ECF6",
           "caxis": {
            "gridcolor": "white",
            "linecolor": "white",
            "ticks": ""
           }
          },
          "title": {
           "x": 0.05
          },
          "xaxis": {
           "automargin": true,
           "gridcolor": "white",
           "linecolor": "white",
           "ticks": "",
           "title": {
            "standoff": 15
           },
           "zerolinecolor": "white",
           "zerolinewidth": 2
          },
          "yaxis": {
           "automargin": true,
           "gridcolor": "white",
           "linecolor": "white",
           "ticks": "",
           "title": {
            "standoff": 15
           },
           "zerolinecolor": "white",
           "zerolinewidth": 2
          }
         }
        },
        "xaxis": {
         "anchor": "y",
         "domain": [
          0,
          1
         ],
         "title": {
          "text": "Annual Income (k$)"
         }
        },
        "yaxis": {
         "anchor": "x",
         "domain": [
          0,
          1
         ],
         "title": {
          "text": "Spending Score (1-100)"
         }
        }
       }
      }
     },
     "metadata": {}
    }
   ],
   "source": [
    "fig = px.scatter(data_frame=df, x='Annual Income (k$)',y='Spending Score (1-100)',color='category')\n",
    "fig.show()"
   ]
  },
  {
   "cell_type": "code",
   "execution_count": null,
   "metadata": {},
   "outputs": [],
   "source": []
  }
 ],
 "metadata": {
  "language_info": {
   "codemirror_mode": {
    "name": "ipython",
    "version": 3
   },
   "file_extension": ".py",
   "mimetype": "text/x-python",
   "name": "python",
   "nbconvert_exporter": "python",
   "pygments_lexer": "ipython3",
   "version": "3.8.3-final"
  },
  "orig_nbformat": 2,
  "kernelspec": {
   "name": "python38364bit704e4f7b18644e8485e4f0792c2323ec",
   "display_name": "Python 3.8.3 64-bit"
  }
 },
 "nbformat": 4,
 "nbformat_minor": 2
}