{
 "cells": [
  {
   "cell_type": "code",
   "execution_count": 1,
   "metadata": {},
   "outputs": [],
   "source": [
    "import pandas as pd\n",
    "import numpy as np\n",
    "from mlxtend.frequent_patterns import apriori, association_rules"
   ]
  },
  {
   "cell_type": "code",
   "execution_count": 3,
   "metadata": {},
   "outputs": [
    {
     "output_type": "execute_result",
     "data": {
      "text/plain": "          Country  CustomerID  ... UnitPrice        InvoiceDate_1\n0  United Kingdom     17850.0  ...      2.55  2010-12-01 08:26:00\n1  United Kingdom     17850.0  ...      3.39  2010-12-01 08:26:00\n2  United Kingdom     17850.0  ...      2.75  2010-12-01 08:26:00\n3  United Kingdom     17850.0  ...      3.39  2010-12-01 08:26:00\n4  United Kingdom     17850.0  ...      3.39  2010-12-01 08:26:00\n\n[5 rows x 8 columns]",
      "text/html": "<div>\n<style scoped>\n    .dataframe tbody tr th:only-of-type {\n        vertical-align: middle;\n    }\n\n    .dataframe tbody tr th {\n        vertical-align: top;\n    }\n\n    .dataframe thead th {\n        text-align: right;\n    }\n</style>\n<table border=\"1\" class=\"dataframe\">\n  <thead>\n    <tr style=\"text-align: right;\">\n      <th></th>\n      <th>Country</th>\n      <th>CustomerID</th>\n      <th>Description</th>\n      <th>InvoiceNo</th>\n      <th>Quantity</th>\n      <th>StockCode</th>\n      <th>UnitPrice</th>\n      <th>InvoiceDate_1</th>\n    </tr>\n  </thead>\n  <tbody>\n    <tr>\n      <th>0</th>\n      <td>United Kingdom</td>\n      <td>17850.0</td>\n      <td>WHITE HANGING HEART T-LIGHT HOLDER</td>\n      <td>536365.0</td>\n      <td>6.0</td>\n      <td>85123A</td>\n      <td>2.55</td>\n      <td>2010-12-01 08:26:00</td>\n    </tr>\n    <tr>\n      <th>1</th>\n      <td>United Kingdom</td>\n      <td>17850.0</td>\n      <td>WHITE METAL LANTERN</td>\n      <td>536365.0</td>\n      <td>6.0</td>\n      <td>71053.0</td>\n      <td>3.39</td>\n      <td>2010-12-01 08:26:00</td>\n    </tr>\n    <tr>\n      <th>2</th>\n      <td>United Kingdom</td>\n      <td>17850.0</td>\n      <td>CREAM CUPID HEARTS COAT HANGER</td>\n      <td>536365.0</td>\n      <td>8.0</td>\n      <td>84406B</td>\n      <td>2.75</td>\n      <td>2010-12-01 08:26:00</td>\n    </tr>\n    <tr>\n      <th>3</th>\n      <td>United Kingdom</td>\n      <td>17850.0</td>\n      <td>KNITTED UNION FLAG HOT WATER BOTTLE</td>\n      <td>536365.0</td>\n      <td>6.0</td>\n      <td>84029G</td>\n      <td>3.39</td>\n      <td>2010-12-01 08:26:00</td>\n    </tr>\n    <tr>\n      <th>4</th>\n      <td>United Kingdom</td>\n      <td>17850.0</td>\n      <td>RED WOOLLY HOTTIE WHITE HEART.</td>\n      <td>536365.0</td>\n      <td>6.0</td>\n      <td>84029E</td>\n      <td>3.39</td>\n      <td>2010-12-01 08:26:00</td>\n    </tr>\n  </tbody>\n</table>\n</div>"
     },
     "metadata": {},
     "execution_count": 3
    }
   ],
   "source": [
    "df = pd.read_csv('datasets/Online_Retail.csv',index_col=0)\n",
    "df.head()"
   ]
  },
  {
   "cell_type": "markdown",
   "metadata": {},
   "source": [
    "### preprocess data"
   ]
  },
  {
   "cell_type": "code",
   "execution_count": 5,
   "metadata": {},
   "outputs": [],
   "source": [
    "# removing extra space in description\n",
    "df.Description = df.Description.str.strip()"
   ]
  },
  {
   "cell_type": "code",
   "execution_count": 11,
   "metadata": {
    "tags": []
   },
   "outputs": [],
   "source": [
    "df = df[~df.InvoiceNo.str.contains('C')]"
   ]
  },
  {
   "cell_type": "code",
   "execution_count": 22,
   "metadata": {},
   "outputs": [],
   "source": [
    "france_basket = df[df.Country=='France'].groupby(['InvoiceNo','Description'])['Quantity'].sum()"
   ]
  },
  {
   "cell_type": "code",
   "execution_count": 23,
   "metadata": {},
   "outputs": [
    {
     "output_type": "execute_result",
     "data": {
      "text/plain": "InvoiceNo  Description                       \n536370.0   ALARM CLOCK BAKELIKE GREEN            12.0\n           ALARM CLOCK BAKELIKE PINK             24.0\n           ALARM CLOCK BAKELIKE RED              24.0\n           CHARLOTTE BAG DOLLY GIRL DESIGN       20.0\n           CIRCUS PARADE LUNCH BOX               24.0\n           INFLATABLE POLITICAL GLOBE            48.0\n           LUNCH BOX I LOVE LONDON               24.0\n           MINI JIGSAW CIRCUS PARADE             24.0\n           MINI JIGSAW SPACEBOY                  24.0\n           MINI PAINT SET VINTAGE                36.0\n           PANDA AND BUNNIES STICKER SHEET       12.0\n           POSTAGE                                3.0\n           RED TOADSTOOL LED NIGHT LIGHT         24.0\n           ROUND SNACK BOXES SET OF4 WOODLAND    24.0\n           SET 2 TEA TOWELS I LOVE LONDON        24.0\n           SET/2 RED RETROSPOT TEA TOWELS        18.0\n           SPACEBOY LUNCH BOX                    24.0\n           STARS GIFT TAPE                       24.0\n           VINTAGE HEADS AND TAILS CARD GAME     24.0\n           VINTAGE SEASIDE JIGSAW PUZZLES        12.0\n536852.0   CHARLOTTE BAG DOLLY GIRL DESIGN       10.0\n           MINI JIGSAW DOLLY GIRL                24.0\n           MINI JIGSAW SPACEBOY                  24.0\n           PICTURE DOMINOES                      12.0\n           POLKADOT RAIN HAT                     24.0\n           POSTAGE                                1.0\n           VINTAGE HEADS AND TAILS CARD GAME     12.0\n536974.0   ASSORTED COLOUR MINI CASES             2.0\n           BIG DOUGHNUT FRIDGE MAGNETS           12.0\n           EDWARDIAN PARASOL BLACK                9.0\nName: Quantity, dtype: float64"
     },
     "metadata": {},
     "execution_count": 23
    }
   ],
   "source": [
    "france_basket.head(30)"
   ]
  },
  {
   "cell_type": "code",
   "execution_count": 25,
   "metadata": {},
   "outputs": [],
   "source": [
    "# make is a pivot table ya grid \n",
    "france_basket = france_basket.unstack().reset_index()"
   ]
  },
  {
   "cell_type": "code",
   "execution_count": 28,
   "metadata": {},
   "outputs": [],
   "source": [
    "france_basket = france_basket.fillna(0).set_index('InvoiceNo')"
   ]
  },
  {
   "cell_type": "code",
   "execution_count": 29,
   "metadata": {},
   "outputs": [
    {
     "output_type": "execute_result",
     "data": {
      "text/plain": "Description  10 COLOUR SPACEBOY PEN  ...  ZINC T-LIGHT HOLDER STARS SMALL\nInvoiceNo                            ...                                 \n536370.0                        0.0  ...                              0.0\n536852.0                        0.0  ...                              0.0\n536974.0                        0.0  ...                              0.0\n537065.0                        0.0  ...                              0.0\n537463.0                        0.0  ...                              0.0\n...                             ...  ...                              ...\n580986.0                        0.0  ...                              0.0\n581001.0                        0.0  ...                              0.0\n581171.0                        0.0  ...                              0.0\n581279.0                        0.0  ...                              0.0\n581587.0                        0.0  ...                              0.0\n\n[392 rows x 1563 columns]",
      "text/html": "<div>\n<style scoped>\n    .dataframe tbody tr th:only-of-type {\n        vertical-align: middle;\n    }\n\n    .dataframe tbody tr th {\n        vertical-align: top;\n    }\n\n    .dataframe thead th {\n        text-align: right;\n    }\n</style>\n<table border=\"1\" class=\"dataframe\">\n  <thead>\n    <tr style=\"text-align: right;\">\n      <th>Description</th>\n      <th>10 COLOUR SPACEBOY PEN</th>\n      <th>12 COLOURED PARTY BALLOONS</th>\n      <th>12 EGG HOUSE PAINTED WOOD</th>\n      <th>12 MESSAGE CARDS WITH ENVELOPES</th>\n      <th>12 PENCIL SMALL TUBE WOODLAND</th>\n      <th>12 PENCILS SMALL TUBE RED RETROSPOT</th>\n      <th>12 PENCILS SMALL TUBE SKULL</th>\n      <th>12 PENCILS TALL TUBE POSY</th>\n      <th>12 PENCILS TALL TUBE RED RETROSPOT</th>\n      <th>12 PENCILS TALL TUBE WOODLAND</th>\n      <th>15CM CHRISTMAS GLASS BALL 20 LIGHTS</th>\n      <th>16 PIECE CUTLERY SET PANTRY DESIGN</th>\n      <th>18PC WOODEN CUTLERY SET DISPOSABLE</th>\n      <th>20 DOLLY PEGS RETROSPOT</th>\n      <th>200 RED + WHITE BENDY STRAWS</th>\n      <th>3 HOOK HANGER MAGIC GARDEN</th>\n      <th>3 PIECE SPACEBOY COOKIE CUTTER SET</th>\n      <th>3 RAFFIA RIBBONS 50'S CHRISTMAS</th>\n      <th>3 STRIPEY MICE FELTCRAFT</th>\n      <th>3 TIER CAKE TIN RED AND CREAM</th>\n      <th>3 TRADITIONAl BISCUIT CUTTERS  SET</th>\n      <th>36 DOILIES DOLLY GIRL</th>\n      <th>36 DOILIES VINTAGE CHRISTMAS</th>\n      <th>36 FOIL HEART CAKE CASES</th>\n      <th>36 FOIL STAR CAKE CASES</th>\n      <th>36 PENCILS TUBE RED RETROSPOT</th>\n      <th>36 PENCILS TUBE SKULLS</th>\n      <th>36 PENCILS TUBE WOODLAND</th>\n      <th>3D DOG PICTURE PLAYING CARDS</th>\n      <th>3D HEARTS  HONEYCOMB PAPER GARLAND</th>\n      <th>3D SHEET OF DOG STICKERS</th>\n      <th>3D TRADITIONAL CHRISTMAS STICKERS</th>\n      <th>3D VINTAGE CHRISTMAS STICKERS</th>\n      <th>4 IVORY DINNER CANDLES SILVER FLOCK</th>\n      <th>4 PINK DINNER CANDLE SILVER FLOCK</th>\n      <th>4 TRADITIONAL SPINNING TOPS</th>\n      <th>5 HOOK HANGER MAGIC TOADSTOOL</th>\n      <th>5 HOOK HANGER RED MAGIC TOADSTOOL</th>\n      <th>50'S CHRISTMAS GIFT BAG LARGE</th>\n      <th>6 GIFT TAGS 50'S CHRISTMAS</th>\n      <th>...</th>\n      <th>WOODLAND DESIGN  COTTON TOTE BAG</th>\n      <th>WOODLAND LARGE BLUE FELT HEART</th>\n      <th>WOODLAND LARGE PINK FELT HEART</th>\n      <th>WOODLAND LARGE RED FELT HEART</th>\n      <th>WOODLAND MINI BACKPACK</th>\n      <th>WOODLAND PARTY BAG + STICKER SET</th>\n      <th>WOODLAND SMALL BLUE FELT HEART</th>\n      <th>WOODLAND SMALL PINK FELT HEART</th>\n      <th>WOODLAND SMALL RED FELT HEART</th>\n      <th>WOODLAND STORAGE BOX LARGE</th>\n      <th>WOODLAND STORAGE BOX SMALL</th>\n      <th>WORLD WAR 2 GLIDERS ASSTD DESIGNS</th>\n      <th>WRAP  VINTAGE DOILY</th>\n      <th>WRAP 50'S  CHRISTMAS</th>\n      <th>WRAP ALPHABET DESIGN</th>\n      <th>WRAP CAROUSEL</th>\n      <th>WRAP CHRISTMAS VILLAGE</th>\n      <th>WRAP CIRCUS PARADE</th>\n      <th>WRAP DOILEY DESIGN</th>\n      <th>WRAP DOLLY GIRL</th>\n      <th>WRAP ENGLISH ROSE</th>\n      <th>WRAP GINGHAM ROSE</th>\n      <th>WRAP GREEN PEARS</th>\n      <th>WRAP I LOVE LONDON</th>\n      <th>WRAP PAISLEY PARK</th>\n      <th>WRAP PINK FAIRY CAKES</th>\n      <th>WRAP POPPIES  DESIGN</th>\n      <th>WRAP RED APPLES</th>\n      <th>WRAP RED VINTAGE DOILY</th>\n      <th>WRAP SUKI AND FRIENDS</th>\n      <th>WRAP VINTAGE PETALS  DESIGN</th>\n      <th>YELLOW COAT RACK PARIS FASHION</th>\n      <th>YELLOW GIANT GARDEN THERMOMETER</th>\n      <th>YELLOW SHARK HELICOPTER</th>\n      <th>ZINC  STAR T-LIGHT HOLDER</th>\n      <th>ZINC FOLKART SLEIGH BELLS</th>\n      <th>ZINC HERB GARDEN CONTAINER</th>\n      <th>ZINC METAL HEART DECORATION</th>\n      <th>ZINC T-LIGHT HOLDER STAR LARGE</th>\n      <th>ZINC T-LIGHT HOLDER STARS SMALL</th>\n    </tr>\n    <tr>\n      <th>InvoiceNo</th>\n      <th></th>\n      <th></th>\n      <th></th>\n      <th></th>\n      <th></th>\n      <th></th>\n      <th></th>\n      <th></th>\n      <th></th>\n      <th></th>\n      <th></th>\n      <th></th>\n      <th></th>\n      <th></th>\n      <th></th>\n      <th></th>\n      <th></th>\n      <th></th>\n      <th></th>\n      <th></th>\n      <th></th>\n      <th></th>\n      <th></th>\n      <th></th>\n      <th></th>\n      <th></th>\n      <th></th>\n      <th></th>\n      <th></th>\n      <th></th>\n      <th></th>\n      <th></th>\n      <th></th>\n      <th></th>\n      <th></th>\n      <th></th>\n      <th></th>\n      <th></th>\n      <th></th>\n      <th></th>\n      <th></th>\n      <th></th>\n      <th></th>\n      <th></th>\n      <th></th>\n      <th></th>\n      <th></th>\n      <th></th>\n      <th></th>\n      <th></th>\n      <th></th>\n      <th></th>\n      <th></th>\n      <th></th>\n      <th></th>\n      <th></th>\n      <th></th>\n      <th></th>\n      <th></th>\n      <th></th>\n      <th></th>\n      <th></th>\n      <th></th>\n      <th></th>\n      <th></th>\n      <th></th>\n      <th></th>\n      <th></th>\n      <th></th>\n      <th></th>\n      <th></th>\n      <th></th>\n      <th></th>\n      <th></th>\n      <th></th>\n      <th></th>\n      <th></th>\n      <th></th>\n      <th></th>\n      <th></th>\n      <th></th>\n    </tr>\n  </thead>\n  <tbody>\n    <tr>\n      <th>536370.0</th>\n      <td>0.0</td>\n      <td>0.0</td>\n      <td>0.0</td>\n      <td>0.0</td>\n      <td>0.0</td>\n      <td>0.0</td>\n      <td>0.0</td>\n      <td>0.0</td>\n      <td>0.0</td>\n      <td>0.0</td>\n      <td>0.0</td>\n      <td>0.0</td>\n      <td>0.0</td>\n      <td>0.0</td>\n      <td>0.0</td>\n      <td>0.0</td>\n      <td>0.0</td>\n      <td>0.0</td>\n      <td>0.0</td>\n      <td>0.0</td>\n      <td>0.0</td>\n      <td>0.0</td>\n      <td>0.0</td>\n      <td>0.0</td>\n      <td>0.0</td>\n      <td>0.0</td>\n      <td>0.0</td>\n      <td>0.0</td>\n      <td>0.0</td>\n      <td>0.0</td>\n      <td>0.0</td>\n      <td>0.0</td>\n      <td>0.0</td>\n      <td>0.0</td>\n      <td>0.0</td>\n      <td>0.0</td>\n      <td>0.0</td>\n      <td>0.0</td>\n      <td>0.0</td>\n      <td>0.0</td>\n      <td>...</td>\n      <td>0.0</td>\n      <td>0.0</td>\n      <td>0.0</td>\n      <td>0.0</td>\n      <td>0.0</td>\n      <td>0.0</td>\n      <td>0.0</td>\n      <td>0.0</td>\n      <td>0.0</td>\n      <td>0.0</td>\n      <td>0.0</td>\n      <td>0.0</td>\n      <td>0.0</td>\n      <td>0.0</td>\n      <td>0.0</td>\n      <td>0.0</td>\n      <td>0.0</td>\n      <td>0.0</td>\n      <td>0.0</td>\n      <td>0.0</td>\n      <td>0.0</td>\n      <td>0.0</td>\n      <td>0.0</td>\n      <td>0.0</td>\n      <td>0.0</td>\n      <td>0.0</td>\n      <td>0.0</td>\n      <td>0.0</td>\n      <td>0.0</td>\n      <td>0.0</td>\n      <td>0.0</td>\n      <td>0.0</td>\n      <td>0.0</td>\n      <td>0.0</td>\n      <td>0.0</td>\n      <td>0.0</td>\n      <td>0.0</td>\n      <td>0.0</td>\n      <td>0.0</td>\n      <td>0.0</td>\n    </tr>\n    <tr>\n      <th>536852.0</th>\n      <td>0.0</td>\n      <td>0.0</td>\n      <td>0.0</td>\n      <td>0.0</td>\n      <td>0.0</td>\n      <td>0.0</td>\n      <td>0.0</td>\n      <td>0.0</td>\n      <td>0.0</td>\n      <td>0.0</td>\n      <td>0.0</td>\n      <td>0.0</td>\n      <td>0.0</td>\n      <td>0.0</td>\n      <td>0.0</td>\n      <td>0.0</td>\n      <td>0.0</td>\n      <td>0.0</td>\n      <td>0.0</td>\n      <td>0.0</td>\n      <td>0.0</td>\n      <td>0.0</td>\n      <td>0.0</td>\n      <td>0.0</td>\n      <td>0.0</td>\n      <td>0.0</td>\n      <td>0.0</td>\n      <td>0.0</td>\n      <td>0.0</td>\n      <td>0.0</td>\n      <td>0.0</td>\n      <td>0.0</td>\n      <td>0.0</td>\n      <td>0.0</td>\n      <td>0.0</td>\n      <td>0.0</td>\n      <td>0.0</td>\n      <td>0.0</td>\n      <td>0.0</td>\n      <td>0.0</td>\n      <td>...</td>\n      <td>0.0</td>\n      <td>0.0</td>\n      <td>0.0</td>\n      <td>0.0</td>\n      <td>0.0</td>\n      <td>0.0</td>\n      <td>0.0</td>\n      <td>0.0</td>\n      <td>0.0</td>\n      <td>0.0</td>\n      <td>0.0</td>\n      <td>0.0</td>\n      <td>0.0</td>\n      <td>0.0</td>\n      <td>0.0</td>\n      <td>0.0</td>\n      <td>0.0</td>\n      <td>0.0</td>\n      <td>0.0</td>\n      <td>0.0</td>\n      <td>0.0</td>\n      <td>0.0</td>\n      <td>0.0</td>\n      <td>0.0</td>\n      <td>0.0</td>\n      <td>0.0</td>\n      <td>0.0</td>\n      <td>0.0</td>\n      <td>0.0</td>\n      <td>0.0</td>\n      <td>0.0</td>\n      <td>0.0</td>\n      <td>0.0</td>\n      <td>0.0</td>\n      <td>0.0</td>\n      <td>0.0</td>\n      <td>0.0</td>\n      <td>0.0</td>\n      <td>0.0</td>\n      <td>0.0</td>\n    </tr>\n    <tr>\n      <th>536974.0</th>\n      <td>0.0</td>\n      <td>0.0</td>\n      <td>0.0</td>\n      <td>0.0</td>\n      <td>0.0</td>\n      <td>0.0</td>\n      <td>0.0</td>\n      <td>0.0</td>\n      <td>0.0</td>\n      <td>0.0</td>\n      <td>0.0</td>\n      <td>0.0</td>\n      <td>0.0</td>\n      <td>0.0</td>\n      <td>0.0</td>\n      <td>0.0</td>\n      <td>0.0</td>\n      <td>0.0</td>\n      <td>0.0</td>\n      <td>0.0</td>\n      <td>0.0</td>\n      <td>0.0</td>\n      <td>0.0</td>\n      <td>0.0</td>\n      <td>0.0</td>\n      <td>0.0</td>\n      <td>0.0</td>\n      <td>0.0</td>\n      <td>0.0</td>\n      <td>0.0</td>\n      <td>0.0</td>\n      <td>0.0</td>\n      <td>0.0</td>\n      <td>0.0</td>\n      <td>0.0</td>\n      <td>0.0</td>\n      <td>0.0</td>\n      <td>0.0</td>\n      <td>0.0</td>\n      <td>0.0</td>\n      <td>...</td>\n      <td>0.0</td>\n      <td>0.0</td>\n      <td>0.0</td>\n      <td>0.0</td>\n      <td>0.0</td>\n      <td>0.0</td>\n      <td>0.0</td>\n      <td>0.0</td>\n      <td>0.0</td>\n      <td>0.0</td>\n      <td>0.0</td>\n      <td>0.0</td>\n      <td>0.0</td>\n      <td>0.0</td>\n      <td>0.0</td>\n      <td>0.0</td>\n      <td>0.0</td>\n      <td>0.0</td>\n      <td>0.0</td>\n      <td>0.0</td>\n      <td>0.0</td>\n      <td>0.0</td>\n      <td>0.0</td>\n      <td>0.0</td>\n      <td>0.0</td>\n      <td>0.0</td>\n      <td>0.0</td>\n      <td>0.0</td>\n      <td>0.0</td>\n      <td>0.0</td>\n      <td>0.0</td>\n      <td>0.0</td>\n      <td>0.0</td>\n      <td>0.0</td>\n      <td>0.0</td>\n      <td>0.0</td>\n      <td>0.0</td>\n      <td>0.0</td>\n      <td>0.0</td>\n      <td>0.0</td>\n    </tr>\n    <tr>\n      <th>537065.0</th>\n      <td>0.0</td>\n      <td>0.0</td>\n      <td>0.0</td>\n      <td>0.0</td>\n      <td>0.0</td>\n      <td>0.0</td>\n      <td>0.0</td>\n      <td>0.0</td>\n      <td>0.0</td>\n      <td>0.0</td>\n      <td>0.0</td>\n      <td>0.0</td>\n      <td>0.0</td>\n      <td>0.0</td>\n      <td>0.0</td>\n      <td>0.0</td>\n      <td>0.0</td>\n      <td>0.0</td>\n      <td>0.0</td>\n      <td>0.0</td>\n      <td>0.0</td>\n      <td>0.0</td>\n      <td>0.0</td>\n      <td>0.0</td>\n      <td>0.0</td>\n      <td>0.0</td>\n      <td>0.0</td>\n      <td>0.0</td>\n      <td>0.0</td>\n      <td>0.0</td>\n      <td>0.0</td>\n      <td>0.0</td>\n      <td>0.0</td>\n      <td>0.0</td>\n      <td>0.0</td>\n      <td>0.0</td>\n      <td>0.0</td>\n      <td>12.0</td>\n      <td>0.0</td>\n      <td>0.0</td>\n      <td>...</td>\n      <td>0.0</td>\n      <td>0.0</td>\n      <td>0.0</td>\n      <td>0.0</td>\n      <td>0.0</td>\n      <td>0.0</td>\n      <td>0.0</td>\n      <td>0.0</td>\n      <td>0.0</td>\n      <td>0.0</td>\n      <td>0.0</td>\n      <td>0.0</td>\n      <td>0.0</td>\n      <td>0.0</td>\n      <td>0.0</td>\n      <td>0.0</td>\n      <td>0.0</td>\n      <td>0.0</td>\n      <td>0.0</td>\n      <td>0.0</td>\n      <td>0.0</td>\n      <td>0.0</td>\n      <td>0.0</td>\n      <td>0.0</td>\n      <td>0.0</td>\n      <td>0.0</td>\n      <td>0.0</td>\n      <td>0.0</td>\n      <td>0.0</td>\n      <td>0.0</td>\n      <td>0.0</td>\n      <td>0.0</td>\n      <td>0.0</td>\n      <td>0.0</td>\n      <td>0.0</td>\n      <td>0.0</td>\n      <td>0.0</td>\n      <td>0.0</td>\n      <td>0.0</td>\n      <td>0.0</td>\n    </tr>\n    <tr>\n      <th>537463.0</th>\n      <td>0.0</td>\n      <td>0.0</td>\n      <td>0.0</td>\n      <td>0.0</td>\n      <td>0.0</td>\n      <td>0.0</td>\n      <td>0.0</td>\n      <td>0.0</td>\n      <td>0.0</td>\n      <td>0.0</td>\n      <td>0.0</td>\n      <td>0.0</td>\n      <td>0.0</td>\n      <td>0.0</td>\n      <td>0.0</td>\n      <td>0.0</td>\n      <td>0.0</td>\n      <td>0.0</td>\n      <td>0.0</td>\n      <td>0.0</td>\n      <td>0.0</td>\n      <td>0.0</td>\n      <td>0.0</td>\n      <td>0.0</td>\n      <td>0.0</td>\n      <td>0.0</td>\n      <td>0.0</td>\n      <td>0.0</td>\n      <td>0.0</td>\n      <td>0.0</td>\n      <td>0.0</td>\n      <td>0.0</td>\n      <td>0.0</td>\n      <td>0.0</td>\n      <td>0.0</td>\n      <td>0.0</td>\n      <td>0.0</td>\n      <td>0.0</td>\n      <td>0.0</td>\n      <td>0.0</td>\n      <td>...</td>\n      <td>0.0</td>\n      <td>0.0</td>\n      <td>0.0</td>\n      <td>0.0</td>\n      <td>0.0</td>\n      <td>0.0</td>\n      <td>0.0</td>\n      <td>0.0</td>\n      <td>0.0</td>\n      <td>0.0</td>\n      <td>0.0</td>\n      <td>0.0</td>\n      <td>0.0</td>\n      <td>0.0</td>\n      <td>0.0</td>\n      <td>0.0</td>\n      <td>0.0</td>\n      <td>0.0</td>\n      <td>0.0</td>\n      <td>0.0</td>\n      <td>0.0</td>\n      <td>0.0</td>\n      <td>0.0</td>\n      <td>0.0</td>\n      <td>0.0</td>\n      <td>0.0</td>\n      <td>0.0</td>\n      <td>0.0</td>\n      <td>0.0</td>\n      <td>0.0</td>\n      <td>0.0</td>\n      <td>0.0</td>\n      <td>0.0</td>\n      <td>0.0</td>\n      <td>0.0</td>\n      <td>0.0</td>\n      <td>0.0</td>\n      <td>0.0</td>\n      <td>0.0</td>\n      <td>0.0</td>\n    </tr>\n    <tr>\n      <th>...</th>\n      <td>...</td>\n      <td>...</td>\n      <td>...</td>\n      <td>...</td>\n      <td>...</td>\n      <td>...</td>\n      <td>...</td>\n      <td>...</td>\n      <td>...</td>\n      <td>...</td>\n      <td>...</td>\n      <td>...</td>\n      <td>...</td>\n      <td>...</td>\n      <td>...</td>\n      <td>...</td>\n      <td>...</td>\n      <td>...</td>\n      <td>...</td>\n      <td>...</td>\n      <td>...</td>\n      <td>...</td>\n      <td>...</td>\n      <td>...</td>\n      <td>...</td>\n      <td>...</td>\n      <td>...</td>\n      <td>...</td>\n      <td>...</td>\n      <td>...</td>\n      <td>...</td>\n      <td>...</td>\n      <td>...</td>\n      <td>...</td>\n      <td>...</td>\n      <td>...</td>\n      <td>...</td>\n      <td>...</td>\n      <td>...</td>\n      <td>...</td>\n      <td>...</td>\n      <td>...</td>\n      <td>...</td>\n      <td>...</td>\n      <td>...</td>\n      <td>...</td>\n      <td>...</td>\n      <td>...</td>\n      <td>...</td>\n      <td>...</td>\n      <td>...</td>\n      <td>...</td>\n      <td>...</td>\n      <td>...</td>\n      <td>...</td>\n      <td>...</td>\n      <td>...</td>\n      <td>...</td>\n      <td>...</td>\n      <td>...</td>\n      <td>...</td>\n      <td>...</td>\n      <td>...</td>\n      <td>...</td>\n      <td>...</td>\n      <td>...</td>\n      <td>...</td>\n      <td>...</td>\n      <td>...</td>\n      <td>...</td>\n      <td>...</td>\n      <td>...</td>\n      <td>...</td>\n      <td>...</td>\n      <td>...</td>\n      <td>...</td>\n      <td>...</td>\n      <td>...</td>\n      <td>...</td>\n      <td>...</td>\n      <td>...</td>\n    </tr>\n    <tr>\n      <th>580986.0</th>\n      <td>0.0</td>\n      <td>0.0</td>\n      <td>0.0</td>\n      <td>0.0</td>\n      <td>0.0</td>\n      <td>0.0</td>\n      <td>0.0</td>\n      <td>0.0</td>\n      <td>0.0</td>\n      <td>0.0</td>\n      <td>0.0</td>\n      <td>0.0</td>\n      <td>0.0</td>\n      <td>0.0</td>\n      <td>0.0</td>\n      <td>0.0</td>\n      <td>0.0</td>\n      <td>0.0</td>\n      <td>0.0</td>\n      <td>0.0</td>\n      <td>0.0</td>\n      <td>0.0</td>\n      <td>0.0</td>\n      <td>0.0</td>\n      <td>0.0</td>\n      <td>0.0</td>\n      <td>0.0</td>\n      <td>0.0</td>\n      <td>0.0</td>\n      <td>0.0</td>\n      <td>0.0</td>\n      <td>0.0</td>\n      <td>0.0</td>\n      <td>0.0</td>\n      <td>0.0</td>\n      <td>0.0</td>\n      <td>0.0</td>\n      <td>0.0</td>\n      <td>0.0</td>\n      <td>0.0</td>\n      <td>...</td>\n      <td>0.0</td>\n      <td>0.0</td>\n      <td>0.0</td>\n      <td>0.0</td>\n      <td>0.0</td>\n      <td>0.0</td>\n      <td>0.0</td>\n      <td>0.0</td>\n      <td>0.0</td>\n      <td>0.0</td>\n      <td>0.0</td>\n      <td>0.0</td>\n      <td>0.0</td>\n      <td>0.0</td>\n      <td>0.0</td>\n      <td>0.0</td>\n      <td>0.0</td>\n      <td>0.0</td>\n      <td>0.0</td>\n      <td>0.0</td>\n      <td>0.0</td>\n      <td>0.0</td>\n      <td>0.0</td>\n      <td>0.0</td>\n      <td>0.0</td>\n      <td>0.0</td>\n      <td>0.0</td>\n      <td>0.0</td>\n      <td>0.0</td>\n      <td>0.0</td>\n      <td>0.0</td>\n      <td>0.0</td>\n      <td>0.0</td>\n      <td>0.0</td>\n      <td>0.0</td>\n      <td>0.0</td>\n      <td>0.0</td>\n      <td>0.0</td>\n      <td>0.0</td>\n      <td>0.0</td>\n    </tr>\n    <tr>\n      <th>581001.0</th>\n      <td>0.0</td>\n      <td>0.0</td>\n      <td>0.0</td>\n      <td>0.0</td>\n      <td>0.0</td>\n      <td>0.0</td>\n      <td>0.0</td>\n      <td>0.0</td>\n      <td>0.0</td>\n      <td>0.0</td>\n      <td>0.0</td>\n      <td>0.0</td>\n      <td>0.0</td>\n      <td>0.0</td>\n      <td>0.0</td>\n      <td>0.0</td>\n      <td>0.0</td>\n      <td>0.0</td>\n      <td>0.0</td>\n      <td>0.0</td>\n      <td>0.0</td>\n      <td>0.0</td>\n      <td>0.0</td>\n      <td>0.0</td>\n      <td>0.0</td>\n      <td>0.0</td>\n      <td>0.0</td>\n      <td>0.0</td>\n      <td>0.0</td>\n      <td>0.0</td>\n      <td>0.0</td>\n      <td>0.0</td>\n      <td>0.0</td>\n      <td>0.0</td>\n      <td>0.0</td>\n      <td>0.0</td>\n      <td>0.0</td>\n      <td>0.0</td>\n      <td>0.0</td>\n      <td>0.0</td>\n      <td>...</td>\n      <td>0.0</td>\n      <td>0.0</td>\n      <td>0.0</td>\n      <td>0.0</td>\n      <td>12.0</td>\n      <td>0.0</td>\n      <td>0.0</td>\n      <td>0.0</td>\n      <td>0.0</td>\n      <td>0.0</td>\n      <td>0.0</td>\n      <td>0.0</td>\n      <td>0.0</td>\n      <td>0.0</td>\n      <td>0.0</td>\n      <td>0.0</td>\n      <td>0.0</td>\n      <td>0.0</td>\n      <td>0.0</td>\n      <td>0.0</td>\n      <td>0.0</td>\n      <td>0.0</td>\n      <td>0.0</td>\n      <td>0.0</td>\n      <td>0.0</td>\n      <td>0.0</td>\n      <td>0.0</td>\n      <td>0.0</td>\n      <td>0.0</td>\n      <td>0.0</td>\n      <td>0.0</td>\n      <td>0.0</td>\n      <td>0.0</td>\n      <td>0.0</td>\n      <td>0.0</td>\n      <td>0.0</td>\n      <td>0.0</td>\n      <td>0.0</td>\n      <td>0.0</td>\n      <td>0.0</td>\n    </tr>\n    <tr>\n      <th>581171.0</th>\n      <td>0.0</td>\n      <td>0.0</td>\n      <td>0.0</td>\n      <td>0.0</td>\n      <td>0.0</td>\n      <td>0.0</td>\n      <td>0.0</td>\n      <td>0.0</td>\n      <td>0.0</td>\n      <td>0.0</td>\n      <td>0.0</td>\n      <td>0.0</td>\n      <td>0.0</td>\n      <td>0.0</td>\n      <td>0.0</td>\n      <td>0.0</td>\n      <td>0.0</td>\n      <td>0.0</td>\n      <td>0.0</td>\n      <td>0.0</td>\n      <td>0.0</td>\n      <td>0.0</td>\n      <td>0.0</td>\n      <td>0.0</td>\n      <td>0.0</td>\n      <td>0.0</td>\n      <td>0.0</td>\n      <td>0.0</td>\n      <td>0.0</td>\n      <td>0.0</td>\n      <td>0.0</td>\n      <td>0.0</td>\n      <td>0.0</td>\n      <td>0.0</td>\n      <td>0.0</td>\n      <td>12.0</td>\n      <td>0.0</td>\n      <td>0.0</td>\n      <td>0.0</td>\n      <td>0.0</td>\n      <td>...</td>\n      <td>0.0</td>\n      <td>0.0</td>\n      <td>0.0</td>\n      <td>0.0</td>\n      <td>0.0</td>\n      <td>0.0</td>\n      <td>0.0</td>\n      <td>0.0</td>\n      <td>0.0</td>\n      <td>0.0</td>\n      <td>0.0</td>\n      <td>48.0</td>\n      <td>0.0</td>\n      <td>0.0</td>\n      <td>0.0</td>\n      <td>0.0</td>\n      <td>0.0</td>\n      <td>0.0</td>\n      <td>0.0</td>\n      <td>0.0</td>\n      <td>0.0</td>\n      <td>0.0</td>\n      <td>0.0</td>\n      <td>0.0</td>\n      <td>0.0</td>\n      <td>0.0</td>\n      <td>0.0</td>\n      <td>0.0</td>\n      <td>0.0</td>\n      <td>0.0</td>\n      <td>0.0</td>\n      <td>0.0</td>\n      <td>0.0</td>\n      <td>0.0</td>\n      <td>0.0</td>\n      <td>0.0</td>\n      <td>0.0</td>\n      <td>0.0</td>\n      <td>0.0</td>\n      <td>0.0</td>\n    </tr>\n    <tr>\n      <th>581279.0</th>\n      <td>0.0</td>\n      <td>0.0</td>\n      <td>0.0</td>\n      <td>0.0</td>\n      <td>0.0</td>\n      <td>0.0</td>\n      <td>0.0</td>\n      <td>0.0</td>\n      <td>0.0</td>\n      <td>0.0</td>\n      <td>0.0</td>\n      <td>0.0</td>\n      <td>0.0</td>\n      <td>0.0</td>\n      <td>0.0</td>\n      <td>0.0</td>\n      <td>0.0</td>\n      <td>0.0</td>\n      <td>0.0</td>\n      <td>0.0</td>\n      <td>0.0</td>\n      <td>0.0</td>\n      <td>0.0</td>\n      <td>0.0</td>\n      <td>0.0</td>\n      <td>0.0</td>\n      <td>0.0</td>\n      <td>0.0</td>\n      <td>0.0</td>\n      <td>0.0</td>\n      <td>0.0</td>\n      <td>0.0</td>\n      <td>0.0</td>\n      <td>0.0</td>\n      <td>0.0</td>\n      <td>0.0</td>\n      <td>0.0</td>\n      <td>0.0</td>\n      <td>0.0</td>\n      <td>0.0</td>\n      <td>...</td>\n      <td>0.0</td>\n      <td>0.0</td>\n      <td>0.0</td>\n      <td>0.0</td>\n      <td>0.0</td>\n      <td>0.0</td>\n      <td>0.0</td>\n      <td>0.0</td>\n      <td>0.0</td>\n      <td>0.0</td>\n      <td>0.0</td>\n      <td>0.0</td>\n      <td>0.0</td>\n      <td>0.0</td>\n      <td>0.0</td>\n      <td>0.0</td>\n      <td>0.0</td>\n      <td>0.0</td>\n      <td>0.0</td>\n      <td>0.0</td>\n      <td>0.0</td>\n      <td>0.0</td>\n      <td>0.0</td>\n      <td>0.0</td>\n      <td>0.0</td>\n      <td>0.0</td>\n      <td>0.0</td>\n      <td>0.0</td>\n      <td>0.0</td>\n      <td>0.0</td>\n      <td>0.0</td>\n      <td>0.0</td>\n      <td>0.0</td>\n      <td>0.0</td>\n      <td>0.0</td>\n      <td>0.0</td>\n      <td>0.0</td>\n      <td>0.0</td>\n      <td>0.0</td>\n      <td>0.0</td>\n    </tr>\n    <tr>\n      <th>581587.0</th>\n      <td>0.0</td>\n      <td>0.0</td>\n      <td>0.0</td>\n      <td>0.0</td>\n      <td>0.0</td>\n      <td>0.0</td>\n      <td>0.0</td>\n      <td>0.0</td>\n      <td>0.0</td>\n      <td>0.0</td>\n      <td>0.0</td>\n      <td>0.0</td>\n      <td>0.0</td>\n      <td>0.0</td>\n      <td>0.0</td>\n      <td>0.0</td>\n      <td>0.0</td>\n      <td>0.0</td>\n      <td>0.0</td>\n      <td>0.0</td>\n      <td>0.0</td>\n      <td>0.0</td>\n      <td>0.0</td>\n      <td>0.0</td>\n      <td>0.0</td>\n      <td>0.0</td>\n      <td>0.0</td>\n      <td>0.0</td>\n      <td>0.0</td>\n      <td>0.0</td>\n      <td>0.0</td>\n      <td>0.0</td>\n      <td>0.0</td>\n      <td>0.0</td>\n      <td>0.0</td>\n      <td>0.0</td>\n      <td>0.0</td>\n      <td>0.0</td>\n      <td>0.0</td>\n      <td>0.0</td>\n      <td>...</td>\n      <td>0.0</td>\n      <td>0.0</td>\n      <td>0.0</td>\n      <td>0.0</td>\n      <td>0.0</td>\n      <td>0.0</td>\n      <td>0.0</td>\n      <td>0.0</td>\n      <td>0.0</td>\n      <td>0.0</td>\n      <td>0.0</td>\n      <td>0.0</td>\n      <td>0.0</td>\n      <td>0.0</td>\n      <td>0.0</td>\n      <td>0.0</td>\n      <td>0.0</td>\n      <td>0.0</td>\n      <td>0.0</td>\n      <td>0.0</td>\n      <td>0.0</td>\n      <td>0.0</td>\n      <td>0.0</td>\n      <td>0.0</td>\n      <td>0.0</td>\n      <td>0.0</td>\n      <td>0.0</td>\n      <td>0.0</td>\n      <td>0.0</td>\n      <td>0.0</td>\n      <td>0.0</td>\n      <td>0.0</td>\n      <td>0.0</td>\n      <td>0.0</td>\n      <td>0.0</td>\n      <td>0.0</td>\n      <td>0.0</td>\n      <td>0.0</td>\n      <td>0.0</td>\n      <td>0.0</td>\n    </tr>\n  </tbody>\n</table>\n<p>392 rows × 1563 columns</p>\n</div>"
     },
     "metadata": {},
     "execution_count": 29
    }
   ],
   "source": [
    "france_basket"
   ]
  },
  {
   "cell_type": "markdown",
   "metadata": {},
   "source": [
    "### encode data in 0 and format"
   ]
  },
  {
   "cell_type": "code",
   "execution_count": 31,
   "metadata": {},
   "outputs": [],
   "source": [
    "def hot_encode(val):\n",
    "    if val <= 0:\n",
    "        return 0\n",
    "    if val >=1 :\n",
    "        return 1\n",
    "\n",
    "# encode all values in data\n",
    "france_basket = france_basket.applymap(hot_encode)"
   ]
  },
  {
   "cell_type": "markdown",
   "metadata": {},
   "source": [
    "### build the model with apriori"
   ]
  },
  {
   "cell_type": "code",
   "execution_count": 34,
   "metadata": {},
   "outputs": [
    {
     "output_type": "execute_result",
     "data": {
      "text/plain": "    support                       itemsets\n0  0.071429  (4 TRADITIONAL SPINNING TOPS)\n1  0.096939   (ALARM CLOCK BAKELIKE GREEN)\n2  0.102041    (ALARM CLOCK BAKELIKE PINK)\n3  0.094388     (ALARM CLOCK BAKELIKE RED)\n4  0.068878   (ASSORTED COLOUR MINI CASES)",
      "text/html": "<div>\n<style scoped>\n    .dataframe tbody tr th:only-of-type {\n        vertical-align: middle;\n    }\n\n    .dataframe tbody tr th {\n        vertical-align: top;\n    }\n\n    .dataframe thead th {\n        text-align: right;\n    }\n</style>\n<table border=\"1\" class=\"dataframe\">\n  <thead>\n    <tr style=\"text-align: right;\">\n      <th></th>\n      <th>support</th>\n      <th>itemsets</th>\n    </tr>\n  </thead>\n  <tbody>\n    <tr>\n      <th>0</th>\n      <td>0.071429</td>\n      <td>(4 TRADITIONAL SPINNING TOPS)</td>\n    </tr>\n    <tr>\n      <th>1</th>\n      <td>0.096939</td>\n      <td>(ALARM CLOCK BAKELIKE GREEN)</td>\n    </tr>\n    <tr>\n      <th>2</th>\n      <td>0.102041</td>\n      <td>(ALARM CLOCK BAKELIKE PINK)</td>\n    </tr>\n    <tr>\n      <th>3</th>\n      <td>0.094388</td>\n      <td>(ALARM CLOCK BAKELIKE RED)</td>\n    </tr>\n    <tr>\n      <th>4</th>\n      <td>0.068878</td>\n      <td>(ASSORTED COLOUR MINI CASES)</td>\n    </tr>\n  </tbody>\n</table>\n</div>"
     },
     "metadata": {},
     "execution_count": 34
    }
   ],
   "source": [
    "item_freq = apriori(france_basket, min_support=.05, use_colnames=True)\n",
    "item_freq.head()"
   ]
  },
  {
   "cell_type": "code",
   "execution_count": 36,
   "metadata": {},
   "outputs": [
    {
     "output_type": "execute_result",
     "data": {
      "text/plain": "                     antecedents  ... conviction\n0  (4 TRADITIONAL SPINNING TOPS)  ...   1.095238\n1                      (POSTAGE)  ...   1.002055\n2   (ALARM CLOCK BAKELIKE GREEN)  ...   3.791383\n3    (ALARM CLOCK BAKELIKE PINK)  ...   3.283859\n4   (ALARM CLOCK BAKELIKE GREEN)  ...   4.916181\n\n[5 rows x 9 columns]",
      "text/html": "<div>\n<style scoped>\n    .dataframe tbody tr th:only-of-type {\n        vertical-align: middle;\n    }\n\n    .dataframe tbody tr th {\n        vertical-align: top;\n    }\n\n    .dataframe thead th {\n        text-align: right;\n    }\n</style>\n<table border=\"1\" class=\"dataframe\">\n  <thead>\n    <tr style=\"text-align: right;\">\n      <th></th>\n      <th>antecedents</th>\n      <th>consequents</th>\n      <th>antecedent support</th>\n      <th>consequent support</th>\n      <th>support</th>\n      <th>confidence</th>\n      <th>lift</th>\n      <th>leverage</th>\n      <th>conviction</th>\n    </tr>\n  </thead>\n  <tbody>\n    <tr>\n      <th>0</th>\n      <td>(4 TRADITIONAL SPINNING TOPS)</td>\n      <td>(POSTAGE)</td>\n      <td>0.071429</td>\n      <td>0.765306</td>\n      <td>0.056122</td>\n      <td>0.785714</td>\n      <td>1.026667</td>\n      <td>0.001458</td>\n      <td>1.095238</td>\n    </tr>\n    <tr>\n      <th>1</th>\n      <td>(POSTAGE)</td>\n      <td>(4 TRADITIONAL SPINNING TOPS)</td>\n      <td>0.765306</td>\n      <td>0.071429</td>\n      <td>0.056122</td>\n      <td>0.073333</td>\n      <td>1.026667</td>\n      <td>0.001458</td>\n      <td>1.002055</td>\n    </tr>\n    <tr>\n      <th>2</th>\n      <td>(ALARM CLOCK BAKELIKE GREEN)</td>\n      <td>(ALARM CLOCK BAKELIKE PINK)</td>\n      <td>0.096939</td>\n      <td>0.102041</td>\n      <td>0.073980</td>\n      <td>0.763158</td>\n      <td>7.478947</td>\n      <td>0.064088</td>\n      <td>3.791383</td>\n    </tr>\n    <tr>\n      <th>3</th>\n      <td>(ALARM CLOCK BAKELIKE PINK)</td>\n      <td>(ALARM CLOCK BAKELIKE GREEN)</td>\n      <td>0.102041</td>\n      <td>0.096939</td>\n      <td>0.073980</td>\n      <td>0.725000</td>\n      <td>7.478947</td>\n      <td>0.064088</td>\n      <td>3.283859</td>\n    </tr>\n    <tr>\n      <th>4</th>\n      <td>(ALARM CLOCK BAKELIKE GREEN)</td>\n      <td>(ALARM CLOCK BAKELIKE RED)</td>\n      <td>0.096939</td>\n      <td>0.094388</td>\n      <td>0.079082</td>\n      <td>0.815789</td>\n      <td>8.642959</td>\n      <td>0.069932</td>\n      <td>4.916181</td>\n    </tr>\n  </tbody>\n</table>\n</div>"
     },
     "metadata": {},
     "execution_count": 36
    }
   ],
   "source": [
    "rules = association_rules(item_freq,metric='lift', min_threshold=1)\n",
    "rules.head()"
   ]
  },
  {
   "cell_type": "code",
   "execution_count": 37,
   "metadata": {},
   "outputs": [],
   "source": [
    "rules.sort_values(['lift','confidence'],ascending=[False,False], inplace=True)"
   ]
  },
  {
   "cell_type": "code",
   "execution_count": 38,
   "metadata": {},
   "outputs": [
    {
     "output_type": "execute_result",
     "data": {
      "text/plain": "                                           antecedents  ... conviction\n87                        (PACK OF 6 SKULL PAPER CUPS)  ...   4.719388\n86                      (PACK OF 6 SKULL PAPER PLATES)  ...  10.298469\n24                        (CHILDRENS CUTLERY SPACEBOY)  ...  12.535714\n25                      (CHILDRENS CUTLERY DOLLY GIRL)  ...   8.690476\n307  (POSTAGE, ALARM CLOCK BAKELIKE GREEN, ALARM CL...  ...  10.867347\n318                         (ALARM CLOCK BAKELIKE RED)  ...   2.315646\n177  (ALARM CLOCK BAKELIKE GREEN, ALARM CLOCK BAKEL...  ...   6.565689\n180                         (ALARM CLOCK BAKELIKE RED)  ...   2.855230\n310              (POSTAGE, ALARM CLOCK BAKELIKE GREEN)  ...   2.778061\n315  (ALARM CLOCK BAKELIKE RED, ALARM CLOCK BAKELIK...  ...   3.794096\n\n[10 rows x 9 columns]",
      "text/html": "<div>\n<style scoped>\n    .dataframe tbody tr th:only-of-type {\n        vertical-align: middle;\n    }\n\n    .dataframe tbody tr th {\n        vertical-align: top;\n    }\n\n    .dataframe thead th {\n        text-align: right;\n    }\n</style>\n<table border=\"1\" class=\"dataframe\">\n  <thead>\n    <tr style=\"text-align: right;\">\n      <th></th>\n      <th>antecedents</th>\n      <th>consequents</th>\n      <th>antecedent support</th>\n      <th>consequent support</th>\n      <th>support</th>\n      <th>confidence</th>\n      <th>lift</th>\n      <th>leverage</th>\n      <th>conviction</th>\n    </tr>\n  </thead>\n  <tbody>\n    <tr>\n      <th>87</th>\n      <td>(PACK OF 6 SKULL PAPER CUPS)</td>\n      <td>(PACK OF 6 SKULL PAPER PLATES)</td>\n      <td>0.063776</td>\n      <td>0.056122</td>\n      <td>0.051020</td>\n      <td>0.800000</td>\n      <td>14.254545</td>\n      <td>0.047441</td>\n      <td>4.719388</td>\n    </tr>\n    <tr>\n      <th>86</th>\n      <td>(PACK OF 6 SKULL PAPER PLATES)</td>\n      <td>(PACK OF 6 SKULL PAPER CUPS)</td>\n      <td>0.056122</td>\n      <td>0.063776</td>\n      <td>0.051020</td>\n      <td>0.909091</td>\n      <td>14.254545</td>\n      <td>0.047441</td>\n      <td>10.298469</td>\n    </tr>\n    <tr>\n      <th>24</th>\n      <td>(CHILDRENS CUTLERY SPACEBOY)</td>\n      <td>(CHILDRENS CUTLERY DOLLY GIRL)</td>\n      <td>0.068878</td>\n      <td>0.071429</td>\n      <td>0.063776</td>\n      <td>0.925926</td>\n      <td>12.962963</td>\n      <td>0.058856</td>\n      <td>12.535714</td>\n    </tr>\n    <tr>\n      <th>25</th>\n      <td>(CHILDRENS CUTLERY DOLLY GIRL)</td>\n      <td>(CHILDRENS CUTLERY SPACEBOY)</td>\n      <td>0.071429</td>\n      <td>0.068878</td>\n      <td>0.063776</td>\n      <td>0.892857</td>\n      <td>12.962963</td>\n      <td>0.058856</td>\n      <td>8.690476</td>\n    </tr>\n    <tr>\n      <th>307</th>\n      <td>(POSTAGE, ALARM CLOCK BAKELIKE GREEN, ALARM CL...</td>\n      <td>(ALARM CLOCK BAKELIKE RED)</td>\n      <td>0.061224</td>\n      <td>0.094388</td>\n      <td>0.056122</td>\n      <td>0.916667</td>\n      <td>9.711712</td>\n      <td>0.050344</td>\n      <td>10.867347</td>\n    </tr>\n    <tr>\n      <th>318</th>\n      <td>(ALARM CLOCK BAKELIKE RED)</td>\n      <td>(POSTAGE, ALARM CLOCK BAKELIKE GREEN, ALARM CL...</td>\n      <td>0.094388</td>\n      <td>0.061224</td>\n      <td>0.056122</td>\n      <td>0.594595</td>\n      <td>9.711712</td>\n      <td>0.050344</td>\n      <td>2.315646</td>\n    </tr>\n    <tr>\n      <th>177</th>\n      <td>(ALARM CLOCK BAKELIKE GREEN, ALARM CLOCK BAKEL...</td>\n      <td>(ALARM CLOCK BAKELIKE RED)</td>\n      <td>0.073980</td>\n      <td>0.094388</td>\n      <td>0.063776</td>\n      <td>0.862069</td>\n      <td>9.133271</td>\n      <td>0.056793</td>\n      <td>6.565689</td>\n    </tr>\n    <tr>\n      <th>180</th>\n      <td>(ALARM CLOCK BAKELIKE RED)</td>\n      <td>(ALARM CLOCK BAKELIKE GREEN, ALARM CLOCK BAKEL...</td>\n      <td>0.094388</td>\n      <td>0.073980</td>\n      <td>0.063776</td>\n      <td>0.675676</td>\n      <td>9.133271</td>\n      <td>0.056793</td>\n      <td>2.855230</td>\n    </tr>\n    <tr>\n      <th>310</th>\n      <td>(POSTAGE, ALARM CLOCK BAKELIKE GREEN)</td>\n      <td>(ALARM CLOCK BAKELIKE RED, ALARM CLOCK BAKELIK...</td>\n      <td>0.084184</td>\n      <td>0.073980</td>\n      <td>0.056122</td>\n      <td>0.666667</td>\n      <td>9.011494</td>\n      <td>0.049895</td>\n      <td>2.778061</td>\n    </tr>\n    <tr>\n      <th>315</th>\n      <td>(ALARM CLOCK BAKELIKE RED, ALARM CLOCK BAKELIK...</td>\n      <td>(POSTAGE, ALARM CLOCK BAKELIKE GREEN)</td>\n      <td>0.073980</td>\n      <td>0.084184</td>\n      <td>0.056122</td>\n      <td>0.758621</td>\n      <td>9.011494</td>\n      <td>0.049895</td>\n      <td>3.794096</td>\n    </tr>\n  </tbody>\n</table>\n</div>"
     },
     "metadata": {},
     "execution_count": 38
    }
   ],
   "source": [
    "rules.head(10)"
   ]
  },
  {
   "cell_type": "code",
   "execution_count": null,
   "metadata": {},
   "outputs": [],
   "source": []
  }
 ],
 "metadata": {
  "language_info": {
   "codemirror_mode": {
    "name": "ipython",
    "version": 3
   },
   "file_extension": ".py",
   "mimetype": "text/x-python",
   "name": "python",
   "nbconvert_exporter": "python",
   "pygments_lexer": "ipython3",
   "version": 3
  },
  "orig_nbformat": 2,
  "kernelspec": {
   "name": "python_defaultSpec_1594204419318",
   "display_name": "Python 3.8.3 64-bit"
  }
 },
 "nbformat": 4,
 "nbformat_minor": 2
}