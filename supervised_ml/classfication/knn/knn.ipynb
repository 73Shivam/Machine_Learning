{
 "cells": [
  {
   "cell_type": "code",
   "execution_count": 1,
   "metadata": {},
   "outputs": [],
   "source": [
    "import pandas as pd\n",
    "import numpy as np\n",
    "import seaborn as sns\n",
    "import matplotlib.pyplot as plt\n",
    "import plotly.express as px\n",
    "import os\n",
    "from sklearn.model_selection import train_test_split\n",
    "from sklearn.preprocessing import StandardScaler"
   ]
  },
  {
   "cell_type": "code",
   "execution_count": 2,
   "metadata": {
    "tags": []
   },
   "outputs": [
    {
     "output_type": "stream",
     "name": "stdout",
     "text": "<class 'pandas.core.frame.DataFrame'>\nRangeIndex: 400 entries, 0 to 399\nData columns (total 5 columns):\n #   Column           Non-Null Count  Dtype \n---  ------           --------------  ----- \n 0   User ID          400 non-null    int64 \n 1   Gender           400 non-null    object\n 2   Age              400 non-null    int64 \n 3   EstimatedSalary  400 non-null    int64 \n 4   Purchased        400 non-null    int64 \ndtypes: int64(4), object(1)\nmemory usage: 15.8+ KB\n"
    }
   ],
   "source": [
    "df = pd.read_csv('datasets/Social_Network_Ads.csv')\n",
    "df.info()"
   ]
  },
  {
   "cell_type": "code",
   "execution_count": 3,
   "metadata": {},
   "outputs": [
    {
     "output_type": "execute_result",
     "data": {
      "text/plain": "    User ID  Gender  Age  EstimatedSalary  Purchased\n0  15624510    Male   19            19000          0\n1  15810944    Male   35            20000          0\n2  15668575  Female   26            43000          0\n3  15603246  Female   27            57000          0\n4  15804002    Male   19            76000          0",
      "text/html": "<div>\n<style scoped>\n    .dataframe tbody tr th:only-of-type {\n        vertical-align: middle;\n    }\n\n    .dataframe tbody tr th {\n        vertical-align: top;\n    }\n\n    .dataframe thead th {\n        text-align: right;\n    }\n</style>\n<table border=\"1\" class=\"dataframe\">\n  <thead>\n    <tr style=\"text-align: right;\">\n      <th></th>\n      <th>User ID</th>\n      <th>Gender</th>\n      <th>Age</th>\n      <th>EstimatedSalary</th>\n      <th>Purchased</th>\n    </tr>\n  </thead>\n  <tbody>\n    <tr>\n      <th>0</th>\n      <td>15624510</td>\n      <td>Male</td>\n      <td>19</td>\n      <td>19000</td>\n      <td>0</td>\n    </tr>\n    <tr>\n      <th>1</th>\n      <td>15810944</td>\n      <td>Male</td>\n      <td>35</td>\n      <td>20000</td>\n      <td>0</td>\n    </tr>\n    <tr>\n      <th>2</th>\n      <td>15668575</td>\n      <td>Female</td>\n      <td>26</td>\n      <td>43000</td>\n      <td>0</td>\n    </tr>\n    <tr>\n      <th>3</th>\n      <td>15603246</td>\n      <td>Female</td>\n      <td>27</td>\n      <td>57000</td>\n      <td>0</td>\n    </tr>\n    <tr>\n      <th>4</th>\n      <td>15804002</td>\n      <td>Male</td>\n      <td>19</td>\n      <td>76000</td>\n      <td>0</td>\n    </tr>\n  </tbody>\n</table>\n</div>"
     },
     "metadata": {},
     "execution_count": 3
    }
   ],
   "source": [
    "df.head()"
   ]
  },
  {
   "cell_type": "code",
   "execution_count": 4,
   "metadata": {},
   "outputs": [],
   "source": [
    "# implementation\n",
    "X = df[['Age','EstimatedSalary']]\n",
    "y= df['Purchased']"
   ]
  },
  {
   "cell_type": "code",
   "execution_count": 5,
   "metadata": {},
   "outputs": [],
   "source": [
    "sX = StandardScaler()\n",
    "x = sX.fit_transform(X)"
   ]
  },
  {
   "cell_type": "code",
   "execution_count": 6,
   "metadata": {},
   "outputs": [],
   "source": [
    "xtrain, xtest, ytrain, ytest = train_test_split(x,y, test_size=.3, random_state = 0)"
   ]
  },
  {
   "cell_type": "code",
   "execution_count": 7,
   "metadata": {},
   "outputs": [],
   "source": [
    "from sklearn.neighbors import KNeighborsClassifier"
   ]
  },
  {
   "cell_type": "code",
   "execution_count": 8,
   "metadata": {},
   "outputs": [
    {
     "output_type": "execute_result",
     "data": {
      "text/plain": "KNeighborsClassifier()"
     },
     "metadata": {},
     "execution_count": 8
    }
   ],
   "source": [
    "clf = KNeighborsClassifier(n_neighbors=5) # neighbors = 5 default\n",
    "clf.fit(xtrain, ytrain)"
   ]
  },
  {
   "cell_type": "code",
   "execution_count": 9,
   "metadata": {},
   "outputs": [
    {
     "output_type": "execute_result",
     "data": {
      "text/plain": "91.66666666666666"
     },
     "metadata": {},
     "execution_count": 9
    }
   ],
   "source": [
    "clf.score(xtest,ytest) * 100"
   ]
  },
  {
   "cell_type": "code",
   "execution_count": 10,
   "metadata": {},
   "outputs": [
    {
     "output_type": "display_data",
     "data": {
      "text/plain": "<Figure size 432x288 with 1 Axes>",
      "image/svg+xml": "<?xml version=\"1.0\" encoding=\"utf-8\" standalone=\"no\"?>\r\n<!DOCTYPE svg PUBLIC \"-//W3C//DTD SVG 1.1//EN\"\r\n  \"http://www.w3.org/Graphics/SVG/1.1/DTD/svg11.dtd\">\r\n<!-- Created with matplotlib (https://matplotlib.org/) -->\r\n<svg height=\"262.19625pt\" version=\"1.1\" viewBox=\"0 0 378.465625 262.19625\" width=\"378.465625pt\" xmlns=\"http://www.w3.org/2000/svg\" xmlns:xlink=\"http://www.w3.org/1999/xlink\">\r\n <defs>\r\n  <style type=\"text/css\">\r\n*{stroke-linecap:butt;stroke-linejoin:round;}\r\n  </style>\r\n </defs>\r\n <g id=\"figure_1\">\r\n  <g id=\"patch_1\">\r\n   <path d=\"M 0 262.19625 \r\nL 378.465625 262.19625 \r\nL 378.465625 0 \r\nL 0 0 \r\nz\r\n\" style=\"fill:none;\"/>\r\n  </g>\r\n  <g id=\"axes_1\">\r\n   <g id=\"patch_2\">\r\n    <path d=\"M 36.465625 224.64 \r\nL 371.265625 224.64 \r\nL 371.265625 7.2 \r\nL 36.465625 7.2 \r\nz\r\n\" style=\"fill:#ffffff;\"/>\r\n   </g>\r\n   <g id=\"patch_3\">\r\n    <path clip-path=\"url(#p3052e16cc4)\" d=\"M 133.878572 224.64 \r\nL 180.536607 224.64 \r\nL 180.536607 17.554286 \r\nL 133.878572 17.554286 \r\nz\r\n\" style=\"fill:#1f77b4;opacity:0.4;\"/>\r\n   </g>\r\n   <g id=\"patch_4\">\r\n    <path clip-path=\"url(#p3052e16cc4)\" d=\"M 180.536607 224.64 \r\nL 227.194643 224.64 \r\nL 227.194643 224.64 \r\nL 180.536607 224.64 \r\nz\r\n\" style=\"fill:#1f77b4;opacity:0.4;\"/>\r\n   </g>\r\n   <g id=\"patch_5\">\r\n    <path clip-path=\"url(#p3052e16cc4)\" d=\"M 227.194643 224.64 \r\nL 273.852678 224.64 \r\nL 273.852678 117.165136 \r\nL 227.194643 117.165136 \r\nz\r\n\" style=\"fill:#1f77b4;opacity:0.4;\"/>\r\n   </g>\r\n   <g id=\"patch_6\">\r\n    <path clip-path=\"url(#p3052e16cc4)\" d=\"M 133.878572 224.64 \r\nL 180.536607 224.64 \r\nL 180.536607 22.796962 \r\nL 133.878572 22.796962 \r\nz\r\n\" style=\"fill:#ff7f0e;opacity:0.4;\"/>\r\n   </g>\r\n   <g id=\"patch_7\">\r\n    <path clip-path=\"url(#p3052e16cc4)\" d=\"M 180.536607 224.64 \r\nL 227.194643 224.64 \r\nL 227.194643 224.64 \r\nL 180.536607 224.64 \r\nz\r\n\" style=\"fill:#ff7f0e;opacity:0.4;\"/>\r\n   </g>\r\n   <g id=\"patch_8\">\r\n    <path clip-path=\"url(#p3052e16cc4)\" d=\"M 227.194643 224.64 \r\nL 273.852678 224.64 \r\nL 273.852678 111.922459 \r\nL 227.194643 111.922459 \r\nz\r\n\" style=\"fill:#ff7f0e;opacity:0.4;\"/>\r\n   </g>\r\n   <g id=\"matplotlib.axis_1\">\r\n    <g id=\"xtick_1\">\r\n     <g id=\"line2d_1\">\r\n      <defs>\r\n       <path d=\"M 0 0 \r\nL 0 3.5 \r\n\" id=\"me2022aa707\" style=\"stroke:#000000;stroke-width:0.8;\"/>\r\n      </defs>\r\n      <g>\r\n       <use style=\"stroke:#000000;stroke-width:0.8;\" x=\"63.891518\" xlink:href=\"#me2022aa707\" y=\"224.64\"/>\r\n      </g>\r\n     </g>\r\n     <g id=\"text_1\">\r\n      <!-- −0.5 -->\r\n      <defs>\r\n       <path d=\"M 10.59375 35.5 \r\nL 73.1875 35.5 \r\nL 73.1875 27.203125 \r\nL 10.59375 27.203125 \r\nz\r\n\" id=\"DejaVuSans-8722\"/>\r\n       <path d=\"M 31.78125 66.40625 \r\nQ 24.171875 66.40625 20.328125 58.90625 \r\nQ 16.5 51.421875 16.5 36.375 \r\nQ 16.5 21.390625 20.328125 13.890625 \r\nQ 24.171875 6.390625 31.78125 6.390625 \r\nQ 39.453125 6.390625 43.28125 13.890625 \r\nQ 47.125 21.390625 47.125 36.375 \r\nQ 47.125 51.421875 43.28125 58.90625 \r\nQ 39.453125 66.40625 31.78125 66.40625 \r\nz\r\nM 31.78125 74.21875 \r\nQ 44.046875 74.21875 50.515625 64.515625 \r\nQ 56.984375 54.828125 56.984375 36.375 \r\nQ 56.984375 17.96875 50.515625 8.265625 \r\nQ 44.046875 -1.421875 31.78125 -1.421875 \r\nQ 19.53125 -1.421875 13.0625 8.265625 \r\nQ 6.59375 17.96875 6.59375 36.375 \r\nQ 6.59375 54.828125 13.0625 64.515625 \r\nQ 19.53125 74.21875 31.78125 74.21875 \r\nz\r\n\" id=\"DejaVuSans-48\"/>\r\n       <path d=\"M 10.6875 12.40625 \r\nL 21 12.40625 \r\nL 21 0 \r\nL 10.6875 0 \r\nz\r\n\" id=\"DejaVuSans-46\"/>\r\n       <path d=\"M 10.796875 72.90625 \r\nL 49.515625 72.90625 \r\nL 49.515625 64.59375 \r\nL 19.828125 64.59375 \r\nL 19.828125 46.734375 \r\nQ 21.96875 47.46875 24.109375 47.828125 \r\nQ 26.265625 48.1875 28.421875 48.1875 \r\nQ 40.625 48.1875 47.75 41.5 \r\nQ 54.890625 34.8125 54.890625 23.390625 \r\nQ 54.890625 11.625 47.5625 5.09375 \r\nQ 40.234375 -1.421875 26.90625 -1.421875 \r\nQ 22.3125 -1.421875 17.546875 -0.640625 \r\nQ 12.796875 0.140625 7.71875 1.703125 \r\nL 7.71875 11.625 \r\nQ 12.109375 9.234375 16.796875 8.0625 \r\nQ 21.484375 6.890625 26.703125 6.890625 \r\nQ 35.15625 6.890625 40.078125 11.328125 \r\nQ 45.015625 15.765625 45.015625 23.390625 \r\nQ 45.015625 31 40.078125 35.4375 \r\nQ 35.15625 39.890625 26.703125 39.890625 \r\nQ 22.75 39.890625 18.8125 39.015625 \r\nQ 14.890625 38.140625 10.796875 36.28125 \r\nz\r\n\" id=\"DejaVuSans-53\"/>\r\n      </defs>\r\n      <g transform=\"translate(51.750112 239.238437)scale(0.1 -0.1)\">\r\n       <use xlink:href=\"#DejaVuSans-8722\"/>\r\n       <use x=\"83.789062\" xlink:href=\"#DejaVuSans-48\"/>\r\n       <use x=\"147.412109\" xlink:href=\"#DejaVuSans-46\"/>\r\n       <use x=\"179.199219\" xlink:href=\"#DejaVuSans-53\"/>\r\n      </g>\r\n     </g>\r\n    </g>\r\n    <g id=\"xtick_2\">\r\n     <g id=\"line2d_2\">\r\n      <g>\r\n       <use style=\"stroke:#000000;stroke-width:0.8;\" x=\"133.878572\" xlink:href=\"#me2022aa707\" y=\"224.64\"/>\r\n      </g>\r\n     </g>\r\n     <g id=\"text_2\">\r\n      <!-- 0.0 -->\r\n      <g transform=\"translate(125.927009 239.238437)scale(0.1 -0.1)\">\r\n       <use xlink:href=\"#DejaVuSans-48\"/>\r\n       <use x=\"63.623047\" xlink:href=\"#DejaVuSans-46\"/>\r\n       <use x=\"95.410156\" xlink:href=\"#DejaVuSans-48\"/>\r\n      </g>\r\n     </g>\r\n    </g>\r\n    <g id=\"xtick_3\">\r\n     <g id=\"line2d_3\">\r\n      <g>\r\n       <use style=\"stroke:#000000;stroke-width:0.8;\" x=\"203.865625\" xlink:href=\"#me2022aa707\" y=\"224.64\"/>\r\n      </g>\r\n     </g>\r\n     <g id=\"text_3\">\r\n      <!-- 0.5 -->\r\n      <g transform=\"translate(195.914063 239.238437)scale(0.1 -0.1)\">\r\n       <use xlink:href=\"#DejaVuSans-48\"/>\r\n       <use x=\"63.623047\" xlink:href=\"#DejaVuSans-46\"/>\r\n       <use x=\"95.410156\" xlink:href=\"#DejaVuSans-53\"/>\r\n      </g>\r\n     </g>\r\n    </g>\r\n    <g id=\"xtick_4\">\r\n     <g id=\"line2d_4\">\r\n      <g>\r\n       <use style=\"stroke:#000000;stroke-width:0.8;\" x=\"273.852678\" xlink:href=\"#me2022aa707\" y=\"224.64\"/>\r\n      </g>\r\n     </g>\r\n     <g id=\"text_4\">\r\n      <!-- 1.0 -->\r\n      <defs>\r\n       <path d=\"M 12.40625 8.296875 \r\nL 28.515625 8.296875 \r\nL 28.515625 63.921875 \r\nL 10.984375 60.40625 \r\nL 10.984375 69.390625 \r\nL 28.421875 72.90625 \r\nL 38.28125 72.90625 \r\nL 38.28125 8.296875 \r\nL 54.390625 8.296875 \r\nL 54.390625 0 \r\nL 12.40625 0 \r\nz\r\n\" id=\"DejaVuSans-49\"/>\r\n      </defs>\r\n      <g transform=\"translate(265.901116 239.238437)scale(0.1 -0.1)\">\r\n       <use xlink:href=\"#DejaVuSans-49\"/>\r\n       <use x=\"63.623047\" xlink:href=\"#DejaVuSans-46\"/>\r\n       <use x=\"95.410156\" xlink:href=\"#DejaVuSans-48\"/>\r\n      </g>\r\n     </g>\r\n    </g>\r\n    <g id=\"xtick_5\">\r\n     <g id=\"line2d_5\">\r\n      <g>\r\n       <use style=\"stroke:#000000;stroke-width:0.8;\" x=\"343.839732\" xlink:href=\"#me2022aa707\" y=\"224.64\"/>\r\n      </g>\r\n     </g>\r\n     <g id=\"text_5\">\r\n      <!-- 1.5 -->\r\n      <g transform=\"translate(335.888169 239.238437)scale(0.1 -0.1)\">\r\n       <use xlink:href=\"#DejaVuSans-49\"/>\r\n       <use x=\"63.623047\" xlink:href=\"#DejaVuSans-46\"/>\r\n       <use x=\"95.410156\" xlink:href=\"#DejaVuSans-53\"/>\r\n      </g>\r\n     </g>\r\n    </g>\r\n    <g id=\"text_6\">\r\n     <!-- prediction -->\r\n     <defs>\r\n      <path d=\"M 18.109375 8.203125 \r\nL 18.109375 -20.796875 \r\nL 9.078125 -20.796875 \r\nL 9.078125 54.6875 \r\nL 18.109375 54.6875 \r\nL 18.109375 46.390625 \r\nQ 20.953125 51.265625 25.265625 53.625 \r\nQ 29.59375 56 35.59375 56 \r\nQ 45.5625 56 51.78125 48.09375 \r\nQ 58.015625 40.1875 58.015625 27.296875 \r\nQ 58.015625 14.40625 51.78125 6.484375 \r\nQ 45.5625 -1.421875 35.59375 -1.421875 \r\nQ 29.59375 -1.421875 25.265625 0.953125 \r\nQ 20.953125 3.328125 18.109375 8.203125 \r\nz\r\nM 48.6875 27.296875 \r\nQ 48.6875 37.203125 44.609375 42.84375 \r\nQ 40.53125 48.484375 33.40625 48.484375 \r\nQ 26.265625 48.484375 22.1875 42.84375 \r\nQ 18.109375 37.203125 18.109375 27.296875 \r\nQ 18.109375 17.390625 22.1875 11.75 \r\nQ 26.265625 6.109375 33.40625 6.109375 \r\nQ 40.53125 6.109375 44.609375 11.75 \r\nQ 48.6875 17.390625 48.6875 27.296875 \r\nz\r\n\" id=\"DejaVuSans-112\"/>\r\n      <path d=\"M 41.109375 46.296875 \r\nQ 39.59375 47.171875 37.8125 47.578125 \r\nQ 36.03125 48 33.890625 48 \r\nQ 26.265625 48 22.1875 43.046875 \r\nQ 18.109375 38.09375 18.109375 28.8125 \r\nL 18.109375 0 \r\nL 9.078125 0 \r\nL 9.078125 54.6875 \r\nL 18.109375 54.6875 \r\nL 18.109375 46.1875 \r\nQ 20.953125 51.171875 25.484375 53.578125 \r\nQ 30.03125 56 36.53125 56 \r\nQ 37.453125 56 38.578125 55.875 \r\nQ 39.703125 55.765625 41.0625 55.515625 \r\nz\r\n\" id=\"DejaVuSans-114\"/>\r\n      <path d=\"M 56.203125 29.59375 \r\nL 56.203125 25.203125 \r\nL 14.890625 25.203125 \r\nQ 15.484375 15.921875 20.484375 11.0625 \r\nQ 25.484375 6.203125 34.421875 6.203125 \r\nQ 39.59375 6.203125 44.453125 7.46875 \r\nQ 49.3125 8.734375 54.109375 11.28125 \r\nL 54.109375 2.78125 \r\nQ 49.265625 0.734375 44.1875 -0.34375 \r\nQ 39.109375 -1.421875 33.890625 -1.421875 \r\nQ 20.796875 -1.421875 13.15625 6.1875 \r\nQ 5.515625 13.8125 5.515625 26.8125 \r\nQ 5.515625 40.234375 12.765625 48.109375 \r\nQ 20.015625 56 32.328125 56 \r\nQ 43.359375 56 49.78125 48.890625 \r\nQ 56.203125 41.796875 56.203125 29.59375 \r\nz\r\nM 47.21875 32.234375 \r\nQ 47.125 39.59375 43.09375 43.984375 \r\nQ 39.0625 48.390625 32.421875 48.390625 \r\nQ 24.90625 48.390625 20.390625 44.140625 \r\nQ 15.875 39.890625 15.1875 32.171875 \r\nz\r\n\" id=\"DejaVuSans-101\"/>\r\n      <path d=\"M 45.40625 46.390625 \r\nL 45.40625 75.984375 \r\nL 54.390625 75.984375 \r\nL 54.390625 0 \r\nL 45.40625 0 \r\nL 45.40625 8.203125 \r\nQ 42.578125 3.328125 38.25 0.953125 \r\nQ 33.9375 -1.421875 27.875 -1.421875 \r\nQ 17.96875 -1.421875 11.734375 6.484375 \r\nQ 5.515625 14.40625 5.515625 27.296875 \r\nQ 5.515625 40.1875 11.734375 48.09375 \r\nQ 17.96875 56 27.875 56 \r\nQ 33.9375 56 38.25 53.625 \r\nQ 42.578125 51.265625 45.40625 46.390625 \r\nz\r\nM 14.796875 27.296875 \r\nQ 14.796875 17.390625 18.875 11.75 \r\nQ 22.953125 6.109375 30.078125 6.109375 \r\nQ 37.203125 6.109375 41.296875 11.75 \r\nQ 45.40625 17.390625 45.40625 27.296875 \r\nQ 45.40625 37.203125 41.296875 42.84375 \r\nQ 37.203125 48.484375 30.078125 48.484375 \r\nQ 22.953125 48.484375 18.875 42.84375 \r\nQ 14.796875 37.203125 14.796875 27.296875 \r\nz\r\n\" id=\"DejaVuSans-100\"/>\r\n      <path d=\"M 9.421875 54.6875 \r\nL 18.40625 54.6875 \r\nL 18.40625 0 \r\nL 9.421875 0 \r\nz\r\nM 9.421875 75.984375 \r\nL 18.40625 75.984375 \r\nL 18.40625 64.59375 \r\nL 9.421875 64.59375 \r\nz\r\n\" id=\"DejaVuSans-105\"/>\r\n      <path d=\"M 48.78125 52.59375 \r\nL 48.78125 44.1875 \r\nQ 44.96875 46.296875 41.140625 47.34375 \r\nQ 37.3125 48.390625 33.40625 48.390625 \r\nQ 24.65625 48.390625 19.8125 42.84375 \r\nQ 14.984375 37.3125 14.984375 27.296875 \r\nQ 14.984375 17.28125 19.8125 11.734375 \r\nQ 24.65625 6.203125 33.40625 6.203125 \r\nQ 37.3125 6.203125 41.140625 7.25 \r\nQ 44.96875 8.296875 48.78125 10.40625 \r\nL 48.78125 2.09375 \r\nQ 45.015625 0.34375 40.984375 -0.53125 \r\nQ 36.96875 -1.421875 32.421875 -1.421875 \r\nQ 20.0625 -1.421875 12.78125 6.34375 \r\nQ 5.515625 14.109375 5.515625 27.296875 \r\nQ 5.515625 40.671875 12.859375 48.328125 \r\nQ 20.21875 56 33.015625 56 \r\nQ 37.15625 56 41.109375 55.140625 \r\nQ 45.0625 54.296875 48.78125 52.59375 \r\nz\r\n\" id=\"DejaVuSans-99\"/>\r\n      <path d=\"M 18.3125 70.21875 \r\nL 18.3125 54.6875 \r\nL 36.8125 54.6875 \r\nL 36.8125 47.703125 \r\nL 18.3125 47.703125 \r\nL 18.3125 18.015625 \r\nQ 18.3125 11.328125 20.140625 9.421875 \r\nQ 21.96875 7.515625 27.59375 7.515625 \r\nL 36.8125 7.515625 \r\nL 36.8125 0 \r\nL 27.59375 0 \r\nQ 17.1875 0 13.234375 3.875 \r\nQ 9.28125 7.765625 9.28125 18.015625 \r\nL 9.28125 47.703125 \r\nL 2.6875 47.703125 \r\nL 2.6875 54.6875 \r\nL 9.28125 54.6875 \r\nL 9.28125 70.21875 \r\nz\r\n\" id=\"DejaVuSans-116\"/>\r\n      <path d=\"M 30.609375 48.390625 \r\nQ 23.390625 48.390625 19.1875 42.75 \r\nQ 14.984375 37.109375 14.984375 27.296875 \r\nQ 14.984375 17.484375 19.15625 11.84375 \r\nQ 23.34375 6.203125 30.609375 6.203125 \r\nQ 37.796875 6.203125 41.984375 11.859375 \r\nQ 46.1875 17.53125 46.1875 27.296875 \r\nQ 46.1875 37.015625 41.984375 42.703125 \r\nQ 37.796875 48.390625 30.609375 48.390625 \r\nz\r\nM 30.609375 56 \r\nQ 42.328125 56 49.015625 48.375 \r\nQ 55.71875 40.765625 55.71875 27.296875 \r\nQ 55.71875 13.875 49.015625 6.21875 \r\nQ 42.328125 -1.421875 30.609375 -1.421875 \r\nQ 18.84375 -1.421875 12.171875 6.21875 \r\nQ 5.515625 13.875 5.515625 27.296875 \r\nQ 5.515625 40.765625 12.171875 48.375 \r\nQ 18.84375 56 30.609375 56 \r\nz\r\n\" id=\"DejaVuSans-111\"/>\r\n      <path d=\"M 54.890625 33.015625 \r\nL 54.890625 0 \r\nL 45.90625 0 \r\nL 45.90625 32.71875 \r\nQ 45.90625 40.484375 42.875 44.328125 \r\nQ 39.84375 48.1875 33.796875 48.1875 \r\nQ 26.515625 48.1875 22.3125 43.546875 \r\nQ 18.109375 38.921875 18.109375 30.90625 \r\nL 18.109375 0 \r\nL 9.078125 0 \r\nL 9.078125 54.6875 \r\nL 18.109375 54.6875 \r\nL 18.109375 46.1875 \r\nQ 21.34375 51.125 25.703125 53.5625 \r\nQ 30.078125 56 35.796875 56 \r\nQ 45.21875 56 50.046875 50.171875 \r\nQ 54.890625 44.34375 54.890625 33.015625 \r\nz\r\n\" id=\"DejaVuSans-110\"/>\r\n     </defs>\r\n     <g transform=\"translate(178.782031 252.916562)scale(0.1 -0.1)\">\r\n      <use xlink:href=\"#DejaVuSans-112\"/>\r\n      <use x=\"63.476562\" xlink:href=\"#DejaVuSans-114\"/>\r\n      <use x=\"102.339844\" xlink:href=\"#DejaVuSans-101\"/>\r\n      <use x=\"163.863281\" xlink:href=\"#DejaVuSans-100\"/>\r\n      <use x=\"227.339844\" xlink:href=\"#DejaVuSans-105\"/>\r\n      <use x=\"255.123047\" xlink:href=\"#DejaVuSans-99\"/>\r\n      <use x=\"310.103516\" xlink:href=\"#DejaVuSans-116\"/>\r\n      <use x=\"349.3125\" xlink:href=\"#DejaVuSans-105\"/>\r\n      <use x=\"377.095703\" xlink:href=\"#DejaVuSans-111\"/>\r\n      <use x=\"438.277344\" xlink:href=\"#DejaVuSans-110\"/>\r\n     </g>\r\n    </g>\r\n   </g>\r\n   <g id=\"matplotlib.axis_2\">\r\n    <g id=\"ytick_1\">\r\n     <g id=\"line2d_6\">\r\n      <defs>\r\n       <path d=\"M 0 0 \r\nL -3.5 0 \r\n\" id=\"m4435d24838\" style=\"stroke:#000000;stroke-width:0.8;\"/>\r\n      </defs>\r\n      <g>\r\n       <use style=\"stroke:#000000;stroke-width:0.8;\" x=\"36.465625\" xlink:href=\"#m4435d24838\" y=\"224.64\"/>\r\n      </g>\r\n     </g>\r\n     <g id=\"text_7\">\r\n      <!-- 0.00 -->\r\n      <g transform=\"translate(7.2 228.439219)scale(0.1 -0.1)\">\r\n       <use xlink:href=\"#DejaVuSans-48\"/>\r\n       <use x=\"63.623047\" xlink:href=\"#DejaVuSans-46\"/>\r\n       <use x=\"95.410156\" xlink:href=\"#DejaVuSans-48\"/>\r\n       <use x=\"159.033203\" xlink:href=\"#DejaVuSans-48\"/>\r\n      </g>\r\n     </g>\r\n    </g>\r\n    <g id=\"ytick_2\">\r\n     <g id=\"line2d_7\">\r\n      <g>\r\n       <use style=\"stroke:#000000;stroke-width:0.8;\" x=\"36.465625\" xlink:href=\"#m4435d24838\" y=\"198.426618\"/>\r\n      </g>\r\n     </g>\r\n     <g id=\"text_8\">\r\n      <!-- 0.25 -->\r\n      <defs>\r\n       <path d=\"M 19.1875 8.296875 \r\nL 53.609375 8.296875 \r\nL 53.609375 0 \r\nL 7.328125 0 \r\nL 7.328125 8.296875 \r\nQ 12.9375 14.109375 22.625 23.890625 \r\nQ 32.328125 33.6875 34.8125 36.53125 \r\nQ 39.546875 41.84375 41.421875 45.53125 \r\nQ 43.3125 49.21875 43.3125 52.78125 \r\nQ 43.3125 58.59375 39.234375 62.25 \r\nQ 35.15625 65.921875 28.609375 65.921875 \r\nQ 23.96875 65.921875 18.8125 64.3125 \r\nQ 13.671875 62.703125 7.8125 59.421875 \r\nL 7.8125 69.390625 \r\nQ 13.765625 71.78125 18.9375 73 \r\nQ 24.125 74.21875 28.421875 74.21875 \r\nQ 39.75 74.21875 46.484375 68.546875 \r\nQ 53.21875 62.890625 53.21875 53.421875 \r\nQ 53.21875 48.921875 51.53125 44.890625 \r\nQ 49.859375 40.875 45.40625 35.40625 \r\nQ 44.1875 33.984375 37.640625 27.21875 \r\nQ 31.109375 20.453125 19.1875 8.296875 \r\nz\r\n\" id=\"DejaVuSans-50\"/>\r\n      </defs>\r\n      <g transform=\"translate(7.2 202.225837)scale(0.1 -0.1)\">\r\n       <use xlink:href=\"#DejaVuSans-48\"/>\r\n       <use x=\"63.623047\" xlink:href=\"#DejaVuSans-46\"/>\r\n       <use x=\"95.410156\" xlink:href=\"#DejaVuSans-50\"/>\r\n       <use x=\"159.033203\" xlink:href=\"#DejaVuSans-53\"/>\r\n      </g>\r\n     </g>\r\n    </g>\r\n    <g id=\"ytick_3\">\r\n     <g id=\"line2d_8\">\r\n      <g>\r\n       <use style=\"stroke:#000000;stroke-width:0.8;\" x=\"36.465625\" xlink:href=\"#m4435d24838\" y=\"172.213237\"/>\r\n      </g>\r\n     </g>\r\n     <g id=\"text_9\">\r\n      <!-- 0.50 -->\r\n      <g transform=\"translate(7.2 176.012456)scale(0.1 -0.1)\">\r\n       <use xlink:href=\"#DejaVuSans-48\"/>\r\n       <use x=\"63.623047\" xlink:href=\"#DejaVuSans-46\"/>\r\n       <use x=\"95.410156\" xlink:href=\"#DejaVuSans-53\"/>\r\n       <use x=\"159.033203\" xlink:href=\"#DejaVuSans-48\"/>\r\n      </g>\r\n     </g>\r\n    </g>\r\n    <g id=\"ytick_4\">\r\n     <g id=\"line2d_9\">\r\n      <g>\r\n       <use style=\"stroke:#000000;stroke-width:0.8;\" x=\"36.465625\" xlink:href=\"#m4435d24838\" y=\"145.999855\"/>\r\n      </g>\r\n     </g>\r\n     <g id=\"text_10\">\r\n      <!-- 0.75 -->\r\n      <defs>\r\n       <path d=\"M 8.203125 72.90625 \r\nL 55.078125 72.90625 \r\nL 55.078125 68.703125 \r\nL 28.609375 0 \r\nL 18.3125 0 \r\nL 43.21875 64.59375 \r\nL 8.203125 64.59375 \r\nz\r\n\" id=\"DejaVuSans-55\"/>\r\n      </defs>\r\n      <g transform=\"translate(7.2 149.799074)scale(0.1 -0.1)\">\r\n       <use xlink:href=\"#DejaVuSans-48\"/>\r\n       <use x=\"63.623047\" xlink:href=\"#DejaVuSans-46\"/>\r\n       <use x=\"95.410156\" xlink:href=\"#DejaVuSans-55\"/>\r\n       <use x=\"159.033203\" xlink:href=\"#DejaVuSans-53\"/>\r\n      </g>\r\n     </g>\r\n    </g>\r\n    <g id=\"ytick_5\">\r\n     <g id=\"line2d_10\">\r\n      <g>\r\n       <use style=\"stroke:#000000;stroke-width:0.8;\" x=\"36.465625\" xlink:href=\"#m4435d24838\" y=\"119.786474\"/>\r\n      </g>\r\n     </g>\r\n     <g id=\"text_11\">\r\n      <!-- 1.00 -->\r\n      <g transform=\"translate(7.2 123.585693)scale(0.1 -0.1)\">\r\n       <use xlink:href=\"#DejaVuSans-49\"/>\r\n       <use x=\"63.623047\" xlink:href=\"#DejaVuSans-46\"/>\r\n       <use x=\"95.410156\" xlink:href=\"#DejaVuSans-48\"/>\r\n       <use x=\"159.033203\" xlink:href=\"#DejaVuSans-48\"/>\r\n      </g>\r\n     </g>\r\n    </g>\r\n    <g id=\"ytick_6\">\r\n     <g id=\"line2d_11\">\r\n      <g>\r\n       <use style=\"stroke:#000000;stroke-width:0.8;\" x=\"36.465625\" xlink:href=\"#m4435d24838\" y=\"93.573092\"/>\r\n      </g>\r\n     </g>\r\n     <g id=\"text_12\">\r\n      <!-- 1.25 -->\r\n      <g transform=\"translate(7.2 97.372311)scale(0.1 -0.1)\">\r\n       <use xlink:href=\"#DejaVuSans-49\"/>\r\n       <use x=\"63.623047\" xlink:href=\"#DejaVuSans-46\"/>\r\n       <use x=\"95.410156\" xlink:href=\"#DejaVuSans-50\"/>\r\n       <use x=\"159.033203\" xlink:href=\"#DejaVuSans-53\"/>\r\n      </g>\r\n     </g>\r\n    </g>\r\n    <g id=\"ytick_7\">\r\n     <g id=\"line2d_12\">\r\n      <g>\r\n       <use style=\"stroke:#000000;stroke-width:0.8;\" x=\"36.465625\" xlink:href=\"#m4435d24838\" y=\"67.359711\"/>\r\n      </g>\r\n     </g>\r\n     <g id=\"text_13\">\r\n      <!-- 1.50 -->\r\n      <g transform=\"translate(7.2 71.158929)scale(0.1 -0.1)\">\r\n       <use xlink:href=\"#DejaVuSans-49\"/>\r\n       <use x=\"63.623047\" xlink:href=\"#DejaVuSans-46\"/>\r\n       <use x=\"95.410156\" xlink:href=\"#DejaVuSans-53\"/>\r\n       <use x=\"159.033203\" xlink:href=\"#DejaVuSans-48\"/>\r\n      </g>\r\n     </g>\r\n    </g>\r\n    <g id=\"ytick_8\">\r\n     <g id=\"line2d_13\">\r\n      <g>\r\n       <use style=\"stroke:#000000;stroke-width:0.8;\" x=\"36.465625\" xlink:href=\"#m4435d24838\" y=\"41.146329\"/>\r\n      </g>\r\n     </g>\r\n     <g id=\"text_14\">\r\n      <!-- 1.75 -->\r\n      <g transform=\"translate(7.2 44.945548)scale(0.1 -0.1)\">\r\n       <use xlink:href=\"#DejaVuSans-49\"/>\r\n       <use x=\"63.623047\" xlink:href=\"#DejaVuSans-46\"/>\r\n       <use x=\"95.410156\" xlink:href=\"#DejaVuSans-55\"/>\r\n       <use x=\"159.033203\" xlink:href=\"#DejaVuSans-53\"/>\r\n      </g>\r\n     </g>\r\n    </g>\r\n    <g id=\"ytick_9\">\r\n     <g id=\"line2d_14\">\r\n      <g>\r\n       <use style=\"stroke:#000000;stroke-width:0.8;\" x=\"36.465625\" xlink:href=\"#m4435d24838\" y=\"14.932948\"/>\r\n      </g>\r\n     </g>\r\n     <g id=\"text_15\">\r\n      <!-- 2.00 -->\r\n      <g transform=\"translate(7.2 18.732166)scale(0.1 -0.1)\">\r\n       <use xlink:href=\"#DejaVuSans-50\"/>\r\n       <use x=\"63.623047\" xlink:href=\"#DejaVuSans-46\"/>\r\n       <use x=\"95.410156\" xlink:href=\"#DejaVuSans-48\"/>\r\n       <use x=\"159.033203\" xlink:href=\"#DejaVuSans-48\"/>\r\n      </g>\r\n     </g>\r\n    </g>\r\n   </g>\r\n   <g id=\"line2d_15\">\r\n    <path clip-path=\"url(#p3052e16cc4)\" d=\"M 52.58241 222.292342 \r\nL 54.964823 221.961695 \r\nL 57.347236 221.474652 \r\nL 59.729649 220.814329 \r\nL 62.112061 219.959912 \r\nL 64.494474 218.886929 \r\nL 66.876887 217.567676 \r\nL 69.2593 215.971815 \r\nL 71.641713 214.06716 \r\nL 74.024126 211.820661 \r\nL 76.406538 209.199601 \r\nL 78.788951 206.172977 \r\nL 81.171364 202.713069 \r\nL 83.553777 198.797146 \r\nL 85.93619 194.40926 \r\nL 88.318603 189.542072 \r\nL 90.701015 184.198613 \r\nL 93.083428 178.393908 \r\nL 95.465841 172.156341 \r\nL 97.848254 165.528678 \r\nL 102.61308 151.348963 \r\nL 112.142731 121.804091 \r\nL 114.525144 114.827101 \r\nL 116.907557 108.266028 \r\nL 119.289969 102.24821 \r\nL 121.672382 96.895372 \r\nL 124.054795 92.319556 \r\nL 126.437208 88.619237 \r\nL 128.819621 85.875798 \r\nL 131.202034 84.15056 \r\nL 133.584446 83.4825 \r\nL 135.966859 83.886787 \r\nL 138.349272 85.354206 \r\nL 140.731685 87.851506 \r\nL 143.114098 91.322647 \r\nL 145.496511 95.690884 \r\nL 147.878923 100.86158 \r\nL 150.261336 106.725601 \r\nL 152.643749 113.163118 \r\nL 157.408575 127.250069 \r\nL 166.938226 156.775549 \r\nL 171.703052 170.490048 \r\nL 174.085465 176.803277 \r\nL 176.467877 182.68444 \r\nL 178.85029 188.099212 \r\nL 181.232703 193.026314 \r\nL 183.615116 197.456125 \r\nL 185.997529 201.389009 \r\nL 188.379942 204.833481 \r\nL 190.762354 207.804299 \r\nL 193.144767 210.32058 \r\nL 195.52718 212.404025 \r\nL 197.909593 214.077307 \r\nL 200.292006 215.362689 \r\nL 202.674419 216.280896 \r\nL 205.056831 216.850273 \r\nL 207.439244 217.086239 \r\nL 209.821657 217.00104 \r\nL 212.20407 216.60378 \r\nL 214.586483 215.900731 \r\nL 216.968896 214.895879 \r\nL 219.351308 213.591689 \r\nL 221.733721 211.990036 \r\nL 224.116134 210.093272 \r\nL 226.498547 207.90537 \r\nL 228.88096 205.433087 \r\nL 231.263373 202.687107 \r\nL 233.645785 199.68308 \r\nL 236.028198 196.442508 \r\nL 240.793024 189.370828 \r\nL 247.940262 177.915729 \r\nL 252.705088 170.349915 \r\nL 255.087501 166.779475 \r\nL 257.469914 163.440244 \r\nL 259.852327 160.3981 \r\nL 262.234739 157.715398 \r\nL 264.617152 155.448895 \r\nL 266.999565 153.64779 \r\nL 269.381978 152.351972 \r\nL 271.764391 151.590564 \r\nL 274.146804 151.380851 \r\nL 276.529216 151.727634 \r\nL 278.911629 152.623055 \r\nL 281.294042 154.046891 \r\nL 283.676455 155.967325 \r\nL 286.058868 158.34212 \r\nL 288.441281 161.120172 \r\nL 290.823693 164.243332 \r\nL 293.206106 167.648423 \r\nL 297.970932 175.039225 \r\nL 307.500583 190.348824 \r\nL 312.265409 197.399415 \r\nL 314.647822 200.635535 \r\nL 317.030235 203.646502 \r\nL 319.412647 206.417371 \r\nL 321.79506 208.940052 \r\nL 324.177473 211.212571 \r\nL 326.559886 213.238193 \r\nL 328.942299 215.024464 \r\nL 331.324712 216.58221 \r\nL 333.707124 217.924538 \r\nL 336.089537 219.065868 \r\nL 338.47195 220.021026 \r\nL 340.854363 220.804407 \r\nL 343.236776 221.42923 \r\nL 345.619189 221.906876 \r\nL 348.001601 222.246316 \r\nL 350.384014 222.453631 \r\nL 352.766427 222.531606 \r\nL 355.14884 222.479407 \r\nL 355.14884 222.479407 \r\n\" style=\"fill:none;stroke:#1f77b4;stroke-linecap:square;stroke-width:1.5;\"/>\r\n   </g>\r\n   <g id=\"line2d_16\">\r\n    <path clip-path=\"url(#p3052e16cc4)\" d=\"M 51.683807 222.319755 \r\nL 54.080371 222.014196 \r\nL 56.476935 221.556698 \r\nL 58.873499 220.931763 \r\nL 61.270063 220.120105 \r\nL 63.666627 219.098913 \r\nL 66.063191 217.842257 \r\nL 68.459755 216.321657 \r\nL 70.856319 214.506824 \r\nL 73.252883 212.366594 \r\nL 75.649447 209.870037 \r\nL 78.046012 206.98777 \r\nL 80.442576 203.693413 \r\nL 82.83914 199.965198 \r\nL 85.235704 195.787649 \r\nL 87.632268 191.153295 \r\nL 90.028832 186.064338 \r\nL 92.425396 180.534179 \r\nL 94.82196 174.58873 \r\nL 97.218524 168.267395 \r\nL 102.011652 154.725153 \r\nL 113.994473 119.660781 \r\nL 116.391037 113.313199 \r\nL 118.787601 107.467443 \r\nL 121.184165 102.239871 \r\nL 123.580729 97.738242 \r\nL 125.977293 94.058029 \r\nL 128.373857 91.279062 \r\nL 130.770421 89.46265 \r\nL 133.166985 88.649326 \r\nL 135.563549 88.857347 \r\nL 137.960113 90.08201 \r\nL 140.356677 92.295821 \r\nL 142.753241 95.449521 \r\nL 145.149805 99.473896 \r\nL 147.546369 104.282298 \r\nL 149.942934 109.773725 \r\nL 152.339498 115.836328 \r\nL 154.736062 122.351153 \r\nL 159.52919 136.248943 \r\nL 166.718882 157.514745 \r\nL 171.51201 170.800722 \r\nL 173.908574 176.945648 \r\nL 176.305138 182.687365 \r\nL 178.701702 187.989263 \r\nL 181.098266 192.827211 \r\nL 183.49483 197.188326 \r\nL 185.891395 201.069454 \r\nL 188.287959 204.475473 \r\nL 190.684523 207.417512 \r\nL 193.081087 209.911167 \r\nL 195.477651 211.974806 \r\nL 197.874215 213.628025 \r\nL 200.270779 214.890308 \r\nL 202.667343 215.779933 \r\nL 205.063907 216.313152 \r\nL 207.460471 216.503656 \r\nL 209.857035 216.362332 \r\nL 212.253599 215.89731 \r\nL 214.650163 215.114266 \r\nL 217.046727 214.016975 \r\nL 219.443291 212.608078 \r\nL 221.839855 210.890017 \r\nL 224.23642 208.866088 \r\nL 226.632984 206.541584 \r\nL 229.029548 203.924942 \r\nL 231.426112 201.028851 \r\nL 233.822676 197.871261 \r\nL 236.21924 194.476218 \r\nL 241.012368 187.103879 \r\nL 255.391752 163.873644 \r\nL 257.788316 160.48991 \r\nL 260.184881 157.424565 \r\nL 262.581445 154.740242 \r\nL 264.978009 152.493468 \r\nL 267.374573 150.732719 \r\nL 269.771137 149.496708 \r\nL 272.167701 148.812986 \r\nL 274.564265 148.696937 \r\nL 276.960829 149.151208 \r\nL 279.357393 150.165618 \r\nL 281.753957 151.717539 \r\nL 284.150521 153.772739 \r\nL 286.547085 156.286643 \r\nL 288.943649 159.205935 \r\nL 291.340213 162.470437 \r\nL 293.736777 166.015169 \r\nL 298.529906 173.674167 \r\nL 308.116162 189.448118 \r\nL 312.90929 196.68717 \r\nL 315.305854 200.00632 \r\nL 317.702418 203.093085 \r\nL 320.098982 205.932798 \r\nL 322.495546 208.517704 \r\nL 324.89211 210.846206 \r\nL 327.288674 212.921975 \r\nL 329.685238 214.752985 \r\nL 332.081803 216.350507 \r\nL 334.478367 217.728105 \r\nL 336.874931 218.900671 \r\nL 339.271495 219.88352 \r\nL 341.668059 220.691563 \r\nL 344.064623 221.338561 \r\nL 346.461187 221.83648 \r\nL 348.857751 222.194932 \r\nL 351.254315 222.4207 \r\nL 353.650879 222.517353 \r\nL 356.047443 222.484939 \r\nL 356.047443 222.484939 \r\n\" style=\"fill:none;stroke:#ff7f0e;stroke-linecap:square;stroke-width:1.5;\"/>\r\n   </g>\r\n   <g id=\"patch_9\">\r\n    <path d=\"M 36.465625 224.64 \r\nL 36.465625 7.2 \r\n\" style=\"fill:none;stroke:#000000;stroke-linecap:square;stroke-linejoin:miter;stroke-width:0.8;\"/>\r\n   </g>\r\n   <g id=\"patch_10\">\r\n    <path d=\"M 371.265625 224.64 \r\nL 371.265625 7.2 \r\n\" style=\"fill:none;stroke:#000000;stroke-linecap:square;stroke-linejoin:miter;stroke-width:0.8;\"/>\r\n   </g>\r\n   <g id=\"patch_11\">\r\n    <path d=\"M 36.465625 224.64 \r\nL 371.265625 224.64 \r\n\" style=\"fill:none;stroke:#000000;stroke-linecap:square;stroke-linejoin:miter;stroke-width:0.8;\"/>\r\n   </g>\r\n   <g id=\"patch_12\">\r\n    <path d=\"M 36.465625 7.2 \r\nL 371.265625 7.2 \r\n\" style=\"fill:none;stroke:#000000;stroke-linecap:square;stroke-linejoin:miter;stroke-width:0.8;\"/>\r\n   </g>\r\n  </g>\r\n </g>\r\n <defs>\r\n  <clipPath id=\"p3052e16cc4\">\r\n   <rect height=\"217.44\" width=\"334.8\" x=\"36.465625\" y=\"7.2\"/>\r\n  </clipPath>\r\n </defs>\r\n</svg>\r\n",
      "image/png": "[encoded data removed]"
     },
     "metadata": {
      "needs_background": "light"
     }
    }
   ],
   "source": [
    "ypred = clf.predict(xtest)\n",
    "data = np.concatenate([ytest.values.reshape(-1,1), ypred.reshape(-1,1)],axis=1)\n",
    "results = pd.DataFrame(data,columns=['orignal','prediction'])\n",
    "sns.distplot(results['orignal'],)\n",
    "sns.distplot(results['prediction'],)\n",
    "plt.show()"
   ]
  },
  {
   "cell_type": "code",
   "execution_count": 11,
   "metadata": {},
   "outputs": [
    {
     "output_type": "display_data",
     "data": {
      "application/vnd.plotly.v1+json": {
       "config": {
        "plotlyServerURL": "https://plot.ly"
       },
       "data": [
        {
         "hovertemplate": "Age=%{x}<br>EstimatedSalary=%{y}<br>predictions=%{marker.color}<extra></extra>",
         "legendgroup": "",
         "marker": {
          "color": [
           0,
           0,
           0,
           0,
           0,
           0,
           0,
           1,
           0,
           0,
           0,
           0,
           0,
           0,
           0,
           0,
           1,
           1,
           1,
           1,
           1,
           1,
           1,
           1,
           1,
           1,
           1,
           1,
           0,
           0,
           0,
           1,
           0,
           0,
           0,
           0,
           0,
           0,
           0,
           0,
           0,
           0,
           0,
           0,
           0,
           0,
           0,
           0,
           1,
           0,
           0,
           0,
           0,
           0,
           0,
           0,
           0,
           0,
           0,
           1,
           0,
           0,
           0,
           1,
           1,
           0,
           0,
           0,
           0,
           0,
           0,
           0,
           0,
           1,
           0,
           1,
           0,
           0,
           0,
           0,
           0,
           0,
           0,
           1,
           0,
           1,
           0,
           0,
           0,
           0,
           0,
           1,
           0,
           0,
           0,
           0,
           0,
           1,
           0,
           0,
           0,
           0,
           0,
           1,
           0,
           0,
           0,
           0,
           0,
           0,
           0,
           0,
           0,
           0,
           0,
           0,
           0,
           0,
           0,
           0,
           0,
           0,
           0,
           0,
           0,
           0,
           0,
           0,
           0,
           0,
           0,
           0,
           0,
           0,
           0,
           0,
           0,
           1,
           0,
           0,
           0,
           0,
           0,
           0,
           0,
           0,
           0,
           0,
           0,
           0,
           0,
           0,
           0,
           0,
           0,
           0,
           0,
           0,
           0,
           1,
           1,
           0,
           0,
           0,
           0,
           0,
           0,
           0,
           1,
           0,
           0,
           1,
           1,
           0,
           0,
           0,
           0,
           0,
           0,
           0,
           0,
           0,
           1,
           0,
           0,
           0,
           0,
           0,
           0,
           0,
           0,
           0,
           0,
           0,
           0,
           0,
           0,
           0,
           0,
           0,
           0,
           1,
           1,
           0,
           1,
           1,
           1,
           1,
           1,
           1,
           1,
           1,
           1,
           0,
           1,
           1,
           0,
           0,
           1,
           1,
           0,
           1,
           1,
           1,
           0,
           0,
           1,
           1,
           0,
           0,
           1,
           0,
           1,
           1,
           1,
           1,
           0,
           0,
           1,
           1,
           1,
           0,
           1,
           1,
           0,
           1,
           0,
           1,
           0,
           1,
           1,
           0,
           1,
           1,
           1,
           1,
           0,
           0,
           1,
           1,
           0,
           1,
           1,
           0,
           1,
           1,
           0,
           0,
           1,
           0,
           1,
           1,
           1,
           1,
           1,
           1,
           0,
           1,
           1,
           1,
           1,
           0,
           0,
           1,
           1,
           1,
           0,
           1,
           0,
           0,
           1,
           1,
           1,
           0,
           0,
           0,
           0,
           1,
           0,
           1,
           1,
           0,
           1,
           0,
           0,
           0,
           1,
           1,
           1,
           0,
           0,
           1,
           0,
           1,
           0,
           0,
           1,
           0,
           1,
           0,
           1,
           1,
           0,
           1,
           1,
           0,
           0,
           0,
           1,
           1,
           0,
           1,
           0,
           0,
           1,
           0,
           1,
           0,
           0,
           1,
           1,
           0,
           0,
           1,
           1,
           0,
           1,
           1,
           0,
           0,
           1,
           0,
           1,
           0,
           1,
           1,
           1,
           0,
           0,
           0,
           1,
           1,
           1,
           0,
           1,
           1,
           1,
           1,
           0,
           1,
           1,
           1,
           0,
           1,
           0,
           1,
           0,
           0,
           0,
           1,
           0,
           1,
           1,
           1,
           1,
           1,
           1,
           0,
           1,
           1,
           1,
           1,
           1,
           1,
           0,
           1,
           1,
           1,
           0,
           1
          ],
          "coloraxis": "coloraxis",
          "symbol": "circle"
         },
         "mode": "markers",
         "name": "",
         "showlegend": false,
         "type": "scatter",
         "x": [
          19,
          35,
          26,
          27,
          19,
          27,
          27,
          32,
          25,
          35,
          26,
          26,
          20,
          32,
          18,
          29,
          47,
          45,
          46,
          48,
          45,
          47,
          48,
          45,
          46,
          47,
          49,
          47,
          29,
          31,
          31,
          27,
          21,
          28,
          27,
          35,
          33,
          30,
          26,
          27,
          27,
          33,
          35,
          30,
          28,
          23,
          25,
          27,
          30,
          31,
          24,
          18,
          29,
          35,
          27,
          24,
          23,
          28,
          22,
          32,
          27,
          25,
          23,
          32,
          59,
          24,
          24,
          23,
          22,
          31,
          25,
          24,
          20,
          33,
          32,
          34,
          18,
          22,
          28,
          26,
          30,
          39,
          20,
          35,
          30,
          31,
          24,
          28,
          26,
          35,
          22,
          30,
          26,
          29,
          29,
          35,
          35,
          28,
          35,
          28,
          27,
          28,
          32,
          33,
          19,
          21,
          26,
          27,
          26,
          38,
          39,
          37,
          38,
          37,
          42,
          40,
          35,
          36,
          40,
          41,
          36,
          37,
          40,
          35,
          41,
          39,
          42,
          26,
          30,
          26,
          31,
          33,
          30,
          21,
          28,
          23,
          20,
          30,
          28,
          19,
          19,
          18,
          35,
          30,
          34,
          24,
          27,
          41,
          29,
          20,
          26,
          41,
          31,
          36,
          40,
          31,
          46,
          29,
          26,
          32,
          32,
          25,
          37,
          35,
          33,
          18,
          22,
          35,
          29,
          29,
          21,
          34,
          26,
          34,
          34,
          23,
          35,
          25,
          24,
          31,
          26,
          31,
          32,
          33,
          33,
          31,
          20,
          33,
          35,
          28,
          24,
          19,
          29,
          19,
          28,
          34,
          30,
          20,
          26,
          35,
          35,
          49,
          39,
          41,
          58,
          47,
          55,
          52,
          40,
          46,
          48,
          52,
          59,
          35,
          47,
          60,
          49,
          40,
          46,
          59,
          41,
          35,
          37,
          60,
          35,
          37,
          36,
          56,
          40,
          42,
          35,
          39,
          40,
          49,
          38,
          46,
          40,
          37,
          46,
          53,
          42,
          38,
          50,
          56,
          41,
          51,
          35,
          57,
          41,
          35,
          44,
          37,
          48,
          37,
          50,
          52,
          41,
          40,
          58,
          45,
          35,
          36,
          55,
          35,
          48,
          42,
          40,
          37,
          47,
          40,
          43,
          59,
          60,
          39,
          57,
          57,
          38,
          49,
          52,
          50,
          59,
          35,
          37,
          52,
          48,
          37,
          37,
          48,
          41,
          37,
          39,
          49,
          55,
          37,
          35,
          36,
          42,
          43,
          45,
          46,
          58,
          48,
          37,
          37,
          40,
          42,
          51,
          47,
          36,
          38,
          42,
          39,
          38,
          49,
          39,
          39,
          54,
          35,
          45,
          36,
          52,
          53,
          41,
          48,
          48,
          41,
          41,
          42,
          36,
          47,
          38,
          48,
          42,
          40,
          57,
          36,
          58,
          35,
          38,
          39,
          53,
          35,
          38,
          47,
          47,
          41,
          53,
          54,
          39,
          38,
          38,
          37,
          42,
          37,
          36,
          60,
          54,
          41,
          40,
          42,
          43,
          53,
          47,
          42,
          42,
          59,
          58,
          46,
          38,
          54,
          60,
          60,
          39,
          59,
          37,
          46,
          46,
          42,
          41,
          58,
          42,
          48,
          44,
          49,
          57,
          56,
          49,
          39,
          47,
          48,
          48,
          47,
          45,
          60,
          39,
          46,
          51,
          50,
          36,
          49
         ],
         "xaxis": "x",
         "y": [
          19000,
          20000,
          43000,
          57000,
          76000,
          58000,
          84000,
          150000,
          33000,
          65000,
          80000,
          52000,
          86000,
          18000,
          82000,
          80000,
          25000,
          26000,
          28000,
          29000,
          22000,
          49000,
          41000,
          22000,
          23000,
          20000,
          28000,
          30000,
          43000,
          18000,
          74000,
          137000,
          16000,
          44000,
          90000,
          27000,
          28000,
          49000,
          72000,
          31000,
          17000,
          51000,
          108000,
          15000,
          84000,
          20000,
          79000,
          54000,
          135000,
          89000,
          32000,
          44000,
          83000,
          23000,
          58000,
          55000,
          48000,
          79000,
          18000,
          117000,
          20000,
          87000,
          66000,
          120000,
          83000,
          58000,
          19000,
          82000,
          63000,
          68000,
          80000,
          27000,
          23000,
          113000,
          18000,
          112000,
          52000,
          27000,
          87000,
          17000,
          80000,
          42000,
          49000,
          88000,
          62000,
          118000,
          55000,
          85000,
          81000,
          50000,
          81000,
          116000,
          15000,
          28000,
          83000,
          44000,
          25000,
          123000,
          73000,
          37000,
          88000,
          59000,
          86000,
          149000,
          21000,
          72000,
          35000,
          89000,
          86000,
          80000,
          71000,
          71000,
          61000,
          55000,
          80000,
          57000,
          75000,
          52000,
          59000,
          59000,
          75000,
          72000,
          75000,
          53000,
          51000,
          61000,
          65000,
          32000,
          17000,
          84000,
          58000,
          31000,
          87000,
          68000,
          55000,
          63000,
          82000,
          107000,
          59000,
          25000,
          85000,
          68000,
          59000,
          89000,
          25000,
          89000,
          96000,
          30000,
          61000,
          74000,
          15000,
          45000,
          76000,
          50000,
          47000,
          15000,
          59000,
          75000,
          30000,
          135000,
          100000,
          90000,
          33000,
          38000,
          69000,
          86000,
          55000,
          71000,
          148000,
          47000,
          88000,
          115000,
          118000,
          43000,
          72000,
          28000,
          47000,
          22000,
          23000,
          34000,
          16000,
          71000,
          117000,
          43000,
          60000,
          66000,
          82000,
          41000,
          72000,
          32000,
          84000,
          26000,
          43000,
          70000,
          89000,
          43000,
          79000,
          36000,
          80000,
          22000,
          39000,
          74000,
          134000,
          71000,
          101000,
          47000,
          130000,
          114000,
          142000,
          22000,
          96000,
          150000,
          42000,
          58000,
          43000,
          108000,
          65000,
          78000,
          96000,
          143000,
          80000,
          91000,
          144000,
          102000,
          60000,
          53000,
          126000,
          133000,
          72000,
          80000,
          147000,
          42000,
          107000,
          86000,
          112000,
          79000,
          57000,
          80000,
          82000,
          143000,
          149000,
          59000,
          88000,
          104000,
          72000,
          146000,
          50000,
          122000,
          52000,
          97000,
          39000,
          52000,
          134000,
          146000,
          44000,
          90000,
          72000,
          57000,
          95000,
          131000,
          77000,
          144000,
          125000,
          72000,
          90000,
          108000,
          75000,
          74000,
          144000,
          61000,
          133000,
          76000,
          42000,
          106000,
          26000,
          74000,
          71000,
          88000,
          38000,
          36000,
          88000,
          61000,
          70000,
          21000,
          141000,
          93000,
          62000,
          138000,
          79000,
          78000,
          134000,
          89000,
          39000,
          77000,
          57000,
          63000,
          73000,
          112000,
          79000,
          117000,
          38000,
          74000,
          137000,
          79000,
          60000,
          54000,
          134000,
          113000,
          125000,
          50000,
          70000,
          96000,
          50000,
          141000,
          79000,
          75000,
          104000,
          55000,
          32000,
          60000,
          138000,
          82000,
          52000,
          30000,
          131000,
          60000,
          72000,
          75000,
          118000,
          107000,
          51000,
          119000,
          65000,
          65000,
          60000,
          54000,
          144000,
          79000,
          55000,
          122000,
          104000,
          75000,
          65000,
          51000,
          105000,
          63000,
          72000,
          108000,
          77000,
          61000,
          113000,
          75000,
          90000,
          57000,
          99000,
          34000,
          70000,
          72000,
          71000,
          54000,
          129000,
          34000,
          50000,
          79000,
          104000,
          29000,
          47000,
          88000,
          71000,
          26000,
          46000,
          83000,
          73000,
          130000,
          80000,
          32000,
          74000,
          53000,
          87000,
          23000,
          64000,
          33000,
          139000,
          28000,
          33000,
          60000,
          39000,
          71000,
          34000,
          35000,
          33000,
          23000,
          45000,
          42000,
          59000,
          41000,
          23000,
          20000,
          33000,
          36000
         ],
         "yaxis": "y"
        }
       ],
       "layout": {
        "coloraxis": {
         "colorbar": {
          "title": {
           "text": "predictions"
          }
         },
         "colorscale": [
          [
           0,
           "#0d0887"
          ],
          [
           0.1111111111111111,
           "#46039f"
          ],
          [
           0.2222222222222222,
           "#7201a8"
          ],
          [
           0.3333333333333333,
           "#9c179e"
          ],
          [
           0.4444444444444444,
           "#bd3786"
          ],
          [
           0.5555555555555556,
           "#d8576b"
          ],
          [
           0.6666666666666666,
           "#ed7953"
          ],
          [
           0.7777777777777778,
           "#fb9f3a"
          ],
          [
           0.8888888888888888,
           "#fdca26"
          ],
          [
           1,
           "#f0f921"
          ]
         ]
        },
        "legend": {
         "tracegroupgap": 0
        },
        "template": {
         "data": {
          "bar": [
           {
            "error_x": {
             "color": "#2a3f5f"
            },
            "error_y": {
             "color": "#2a3f5f"
            },
            "marker": {
             "line": {
              "color": "#E5ECF6",
              "width": 0.5
             }
            },
            "type": "bar"
           }
          ],
          "barpolar": [
           {
            "marker": {
             "line": {
              "color": "#E5ECF6",
              "width": 0.5
             }
            },
            "type": "barpolar"
           }
          ],
          "carpet": [
           {
            "aaxis": {
             "endlinecolor": "#2a3f5f",
             "gridcolor": "white",
             "linecolor": "white",
             "minorgridcolor": "white",
             "startlinecolor": "#2a3f5f"
            },
            "baxis": {
             "endlinecolor": "#2a3f5f",
             "gridcolor": "white",
             "linecolor": "white",
             "minorgridcolor": "white",
             "startlinecolor": "#2a3f5f"
            },
            "type": "carpet"
           }
          ],
          "choropleth": [
           {
            "colorbar": {
             "outlinewidth": 0,
             "ticks": ""
            },
            "type": "choropleth"
           }
          ],
          "contour": [
           {
            "colorbar": {
             "outlinewidth": 0,
             "ticks": ""
            },
            "colorscale": [
             [
              0,
              "#0d0887"
             ],
             [
              0.1111111111111111,
              "#46039f"
             ],
             [
              0.2222222222222222,
              "#7201a8"
             ],
             [
              0.3333333333333333,
              "#9c179e"
             ],
             [
              0.4444444444444444,
              "#bd3786"
             ],
             [
              0.5555555555555556,
              "#d8576b"
             ],
             [
              0.6666666666666666,
              "#ed7953"
             ],
             [
              0.7777777777777778,
              "#fb9f3a"
             ],
             [
              0.8888888888888888,
              "#fdca26"
             ],
             [
              1,
              "#f0f921"
             ]
            ],
            "type": "contour"
           }
          ],
          "contourcarpet": [
           {
            "colorbar": {
             "outlinewidth": 0,
             "ticks": ""
            },
            "type": "contourcarpet"
           }
          ],
          "heatmap": [
           {
            "colorbar": {
             "outlinewidth": 0,
             "ticks": ""
            },
            "colorscale": [
             [
              0,
              "#0d0887"
             ],
             [
              0.1111111111111111,
              "#46039f"
             ],
             [
              0.2222222222222222,
              "#7201a8"
             ],
             [
              0.3333333333333333,
              "#9c179e"
             ],
             [
              0.4444444444444444,
              "#bd3786"
             ],
             [
              0.5555555555555556,
              "#d8576b"
             ],
             [
              0.6666666666666666,
              "#ed7953"
             ],
             [
              0.7777777777777778,
              "#fb9f3a"
             ],
             [
              0.8888888888888888,
              "#fdca26"
             ],
             [
              1,
              "#f0f921"
             ]
            ],
            "type": "heatmap"
           }
          ],
          "heatmapgl": [
           {
            "colorbar": {
             "outlinewidth": 0,
             "ticks": ""
            },
            "colorscale": [
             [
              0,
              "#0d0887"
             ],
             [
              0.1111111111111111,
              "#46039f"
             ],
             [
              0.2222222222222222,
              "#7201a8"
             ],
             [
              0.3333333333333333,
              "#9c179e"
             ],
             [
              0.4444444444444444,
              "#bd3786"
             ],
             [
              0.5555555555555556,
              "#d8576b"
             ],
             [
              0.6666666666666666,
              "#ed7953"
             ],
             [
              0.7777777777777778,
              "#fb9f3a"
             ],
             [
              0.8888888888888888,
              "#fdca26"
             ],
             [
              1,
              "#f0f921"
             ]
            ],
            "type": "heatmapgl"
           }
          ],
          "histogram": [
           {
            "marker": {
             "colorbar": {
              "outlinewidth": 0,
              "ticks": ""
             }
            },
            "type": "histogram"
           }
          ],
          "histogram2d": [
           {
            "colorbar": {
             "outlinewidth": 0,
             "ticks": ""
            },
            "colorscale": [
             [
              0,
              "#0d0887"
             ],
             [
              0.1111111111111111,
              "#46039f"
             ],
             [
              0.2222222222222222,
              "#7201a8"
             ],
             [
              0.3333333333333333,
              "#9c179e"
             ],
             [
              0.4444444444444444,
              "#bd3786"
             ],
             [
              0.5555555555555556,
              "#d8576b"
             ],
             [
              0.6666666666666666,
              "#ed7953"
             ],
             [
              0.7777777777777778,
              "#fb9f3a"
             ],
             [
              0.8888888888888888,
              "#fdca26"
             ],
             [
              1,
              "#f0f921"
             ]
            ],
            "type": "histogram2d"
           }
          ],
          "histogram2dcontour": [
           {
            "colorbar": {
             "outlinewidth": 0,
             "ticks": ""
            },
            "colorscale": [
             [
              0,
              "#0d0887"
             ],
             [
              0.1111111111111111,
              "#46039f"
             ],
             [
              0.2222222222222222,
              "#7201a8"
             ],
             [
              0.3333333333333333,
              "#9c179e"
             ],
             [
              0.4444444444444444,
              "#bd3786"
             ],
             [
              0.5555555555555556,
              "#d8576b"
             ],
             [
              0.6666666666666666,
              "#ed7953"
             ],
             [
              0.7777777777777778,
              "#fb9f3a"
             ],
             [
              0.8888888888888888,
              "#fdca26"
             ],
             [
              1,
              "#f0f921"
             ]
            ],
            "type": "histogram2dcontour"
           }
          ],
          "mesh3d": [
           {
            "colorbar": {
             "outlinewidth": 0,
             "ticks": ""
            },
            "type": "mesh3d"
           }
          ],
          "parcoords": [
           {
            "line": {
             "colorbar": {
              "outlinewidth": 0,
              "ticks": ""
             }
            },
            "type": "parcoords"
           }
          ],
          "pie": [
           {
            "automargin": true,
            "type": "pie"
           }
          ],
          "scatter": [
           {
            "marker": {
             "colorbar": {
              "outlinewidth": 0,
              "ticks": ""
             }
            },
            "type": "scatter"
           }
          ],
          "scatter3d": [
           {
            "line": {
             "colorbar": {
              "outlinewidth": 0,
              "ticks": ""
             }
            },
            "marker": {
             "colorbar": {
              "outlinewidth": 0,
              "ticks": ""
             }
            },
            "type": "scatter3d"
           }
          ],
          "scattercarpet": [
           {
            "marker": {
             "colorbar": {
              "outlinewidth": 0,
              "ticks": ""
             }
            },
            "type": "scattercarpet"
           }
          ],
          "scattergeo": [
           {
            "marker": {
             "colorbar": {
              "outlinewidth": 0,
              "ticks": ""
             }
            },
            "type": "scattergeo"
           }
          ],
          "scattergl": [
           {
            "marker": {
             "colorbar": {
              "outlinewidth": 0,
              "ticks": ""
             }
            },
            "type": "scattergl"
           }
          ],
          "scattermapbox": [
           {
            "marker": {
             "colorbar": {
              "outlinewidth": 0,
              "ticks": ""
             }
            },
            "type": "scattermapbox"
           }
          ],
          "scatterpolar": [
           {
            "marker": {
             "colorbar": {
              "outlinewidth": 0,
              "ticks": ""
             }
            },
            "type": "scatterpolar"
           }
          ],
          "scatterpolargl": [
           {
            "marker": {
             "colorbar": {
              "outlinewidth": 0,
              "ticks": ""
             }
            },
            "type": "scatterpolargl"
           }
          ],
          "scatterternary": [
           {
            "marker": {
             "colorbar": {
              "outlinewidth": 0,
              "ticks": ""
             }
            },
            "type": "scatterternary"
           }
          ],
          "surface": [
           {
            "colorbar": {
             "outlinewidth": 0,
             "ticks": ""
            },
            "colorscale": [
             [
              0,
              "#0d0887"
             ],
             [
              0.1111111111111111,
              "#46039f"
             ],
             [
              0.2222222222222222,
              "#7201a8"
             ],
             [
              0.3333333333333333,
              "#9c179e"
             ],
             [
              0.4444444444444444,
              "#bd3786"
             ],
             [
              0.5555555555555556,
              "#d8576b"
             ],
             [
              0.6666666666666666,
              "#ed7953"
             ],
             [
              0.7777777777777778,
              "#fb9f3a"
             ],
             [
              0.8888888888888888,
              "#fdca26"
             ],
             [
              1,
              "#f0f921"
             ]
            ],
            "type": "surface"
           }
          ],
          "table": [
           {
            "cells": {
             "fill": {
              "color": "#EBF0F8"
             },
             "line": {
              "color": "white"
             }
            },
            "header": {
             "fill": {
              "color": "#C8D4E3"
             },
             "line": {
              "color": "white"
             }
            },
            "type": "table"
           }
          ]
         },
         "layout": {
          "annotationdefaults": {
           "arrowcolor": "#2a3f5f",
           "arrowhead": 0,
           "arrowwidth": 1
          },
          "coloraxis": {
           "colorbar": {
            "outlinewidth": 0,
            "ticks": ""
           }
          },
          "colorscale": {
           "diverging": [
            [
             0,
             "#8e0152"
            ],
            [
             0.1,
             "#c51b7d"
            ],
            [
             0.2,
             "#de77ae"
            ],
            [
             0.3,
             "#f1b6da"
            ],
            [
             0.4,
             "#fde0ef"
            ],
            [
             0.5,
             "#f7f7f7"
            ],
            [
             0.6,
             "#e6f5d0"
            ],
            [
             0.7,
             "#b8e186"
            ],
            [
             0.8,
             "#7fbc41"
            ],
            [
             0.9,
             "#4d9221"
            ],
            [
             1,
             "#276419"
            ]
           ],
           "sequential": [
            [
             0,
             "#0d0887"
            ],
            [
             0.1111111111111111,
             "#46039f"
            ],
            [
             0.2222222222222222,
             "#7201a8"
            ],
            [
             0.3333333333333333,
             "#9c179e"
            ],
            [
             0.4444444444444444,
             "#bd3786"
            ],
            [
             0.5555555555555556,
             "#d8576b"
            ],
            [
             0.6666666666666666,
             "#ed7953"
            ],
            [
             0.7777777777777778,
             "#fb9f3a"
            ],
            [
             0.8888888888888888,
             "#fdca26"
            ],
            [
             1,
             "#f0f921"
            ]
           ],
           "sequentialminus": [
            [
             0,
             "#0d0887"
            ],
            [
             0.1111111111111111,
             "#46039f"
            ],
            [
             0.2222222222222222,
             "#7201a8"
            ],
            [
             0.3333333333333333,
             "#9c179e"
            ],
            [
             0.4444444444444444,
             "#bd3786"
            ],
            [
             0.5555555555555556,
             "#d8576b"
            ],
            [
             0.6666666666666666,
             "#ed7953"
            ],
            [
             0.7777777777777778,
             "#fb9f3a"
            ],
            [
             0.8888888888888888,
             "#fdca26"
            ],
            [
             1,
             "#f0f921"
            ]
           ]
          },
          "colorway": [
           "#636efa",
           "#EF553B",
           "#00cc96",
           "#ab63fa",
           "#FFA15A",
           "#19d3f3",
           "#FF6692",
           "#B6E880",
           "#FF97FF",
           "#FECB52"
          ],
          "font": {
           "color": "#2a3f5f"
          },
          "geo": {
           "bgcolor": "white",
           "lakecolor": "white",
           "landcolor": "#E5ECF6",
           "showlakes": true,
           "showland": true,
           "subunitcolor": "white"
          },
          "hoverlabel": {
           "align": "left"
          },
          "hovermode": "closest",
          "mapbox": {
           "style": "light"
          },
          "paper_bgcolor": "white",
          "plot_bgcolor": "#E5ECF6",
          "polar": {
           "angularaxis": {
            "gridcolor": "white",
            "linecolor": "white",
            "ticks": ""
           },
           "bgcolor": "#E5ECF6",
           "radialaxis": {
            "gridcolor": "white",
            "linecolor": "white",
            "ticks": ""
           }
          },
          "scene": {
           "xaxis": {
            "backgroundcolor": "#E5ECF6",
            "gridcolor": "white",
            "gridwidth": 2,
            "linecolor": "white",
            "showbackground": true,
            "ticks": "",
            "zerolinecolor": "white"
           },
           "yaxis": {
            "backgroundcolor": "#E5ECF6",
            "gridcolor": "white",
            "gridwidth": 2,
            "linecolor": "white",
            "showbackground": true,
            "ticks": "",
            "zerolinecolor": "white"
           },
           "zaxis": {
            "backgroundcolor": "#E5ECF6",
            "gridcolor": "white",
            "gridwidth": 2,
            "linecolor": "white",
            "showbackground": true,
            "ticks": "",
            "zerolinecolor": "white"
           }
          },
          "shapedefaults": {
           "line": {
            "color": "#2a3f5f"
           }
          },
          "ternary": {
           "aaxis": {
            "gridcolor": "white",
            "linecolor": "white",
            "ticks": ""
           },
           "baxis": {
            "gridcolor": "white",
            "linecolor": "white",
            "ticks": ""
           },
           "bgcolor": "#E5ECF6",
           "caxis": {
            "gridcolor": "white",
            "linecolor": "white",
            "ticks": ""
           }
          },
          "title": {
           "x": 0.05
          },
          "xaxis": {
           "automargin": true,
           "gridcolor": "white",
           "linecolor": "white",
           "ticks": "",
           "title": {
            "standoff": 15
           },
           "zerolinecolor": "white",
           "zerolinewidth": 2
          },
          "yaxis": {
           "automargin": true,
           "gridcolor": "white",
           "linecolor": "white",
           "ticks": "",
           "title": {
            "standoff": 15
           },
           "zerolinecolor": "white",
           "zerolinewidth": 2
          }
         }
        },
        "title": {
         "text": "age/salary grps"
        },
        "xaxis": {
         "anchor": "y",
         "domain": [
          0,
          1
         ],
         "title": {
          "text": "Age"
         }
        },
        "yaxis": {
         "anchor": "x",
         "domain": [
          0,
          1
         ],
         "title": {
          "text": "EstimatedSalary"
         }
        }
       }
      }
     },
     "metadata": {}
    }
   ],
   "source": [
    "df['predictions'] = clf.predict(x)\n",
    "fig = px.scatter(\n",
    "                    df, \n",
    "                    x='Age',\n",
    "                    y='EstimatedSalary',\n",
    "                    color='predictions',\n",
    "                    title='age/salary grps',)\n",
    "fig.show()"
   ]
  },
  {
   "cell_type": "code",
   "execution_count": 15,
   "metadata": {},
   "outputs": [],
   "source": [
    "ypred = clf.predict(x)"
   ]
  },
  {
   "cell_type": "code",
   "execution_count": 16,
   "metadata": {},
   "outputs": [],
   "source": [
    "from sklearn.metrics import confusion_matrix"
   ]
  },
  {
   "cell_type": "code",
   "execution_count": 17,
   "metadata": {},
   "outputs": [
    {
     "output_type": "execute_result",
     "data": {
      "text/plain": "array([[236,  21],\n       [ 10, 133]], dtype=int64)"
     },
     "metadata": {},
     "execution_count": 17
    }
   ],
   "source": [
    "confusion_matrix(y,ypred)"
   ]
  },
  {
   "cell_type": "code",
   "execution_count": 19,
   "metadata": {},
   "outputs": [
    {
     "output_type": "execute_result",
     "data": {
      "text/plain": "0.9225"
     },
     "metadata": {},
     "execution_count": 19
    }
   ],
   "source": [
    "(236+133) /400 # score"
   ]
  },
  {
   "cell_type": "code",
   "execution_count": 20,
   "metadata": {},
   "outputs": [
    {
     "output_type": "execute_result",
     "data": {
      "text/plain": "0.0775"
     },
     "metadata": {},
     "execution_count": 20
    }
   ],
   "source": [
    "(10 + 21) / 400 # error rate"
   ]
  },
  {
   "cell_type": "code",
   "execution_count": null,
   "metadata": {},
   "outputs": [],
   "source": []
  }
 ],
 "metadata": {
  "language_info": {
   "codemirror_mode": {
    "name": "ipython",
    "version": 3
   },
   "file_extension": ".py",
   "mimetype": "text/x-python",
   "name": "python",
   "nbconvert_exporter": "python",
   "pygments_lexer": "ipython3",
   "version": "3.7.6-final"
  },
  "orig_nbformat": 2,
  "kernelspec": {
   "name": "python3",
   "display_name": "Python 3"
  }
 },
 "nbformat": 4,
 "nbformat_minor": 2
}